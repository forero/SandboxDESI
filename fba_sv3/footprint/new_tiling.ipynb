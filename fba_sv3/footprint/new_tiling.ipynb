{
 "cells": [
  {
   "cell_type": "code",
   "execution_count": 1,
   "metadata": {},
   "outputs": [],
   "source": [
    "import numpy as np\n",
    "import matplotlib.pyplot as plt\n",
    "from astropy.table import Table\n",
    "from desitarget.targetmask import obsconditions\n",
    "import fitsio\n",
    "from desitarget.sv3 import sv3_targetmask\n"
   ]
  },
  {
   "cell_type": "code",
   "execution_count": 2,
   "metadata": {},
   "outputs": [],
   "source": [
    "file = '/global/cfs/cdirs/desi/users/schlafly/tiling/tiles-4112-packing-20210329-decorated.fits'"
   ]
  },
  {
   "cell_type": "code",
   "execution_count": 3,
   "metadata": {},
   "outputs": [],
   "source": [
    "new_tiles = Table.read(file)\n",
    "new_tiles = new_tiles[new_tiles['IN_DESI']==True]"
   ]
  },
  {
   "cell_type": "code",
   "execution_count": 4,
   "metadata": {},
   "outputs": [
    {
     "data": {
      "text/plain": [
       "<matplotlib.collections.PathCollection at 0x2aaad60eec10>"
      ]
     },
     "execution_count": 4,
     "metadata": {},
     "output_type": "execute_result"
    },
    {
     "data": {
      "image/png": "[encoded data removed]",
      "text/plain": [
       "<Figure size 432x288 with 1 Axes>"
      ]
     },
     "metadata": {
      "needs_background": "light"
     },
     "output_type": "display_data"
    }
   ],
   "source": [
    "plt.scatter(new_tiles['RA'], new_tiles['DEC'])"
   ]
  },
  {
   "cell_type": "code",
   "execution_count": 52,
   "metadata": {},
   "outputs": [],
   "source": [
    "new_tiles['TILEID'] = new_tiles['CENTERID']"
   ]
  },
  {
   "cell_type": "code",
   "execution_count": 53,
   "metadata": {},
   "outputs": [],
   "source": [
    "d = np.zeros(len(new_tiles),\n",
    "                dtype=[\n",
    "                    (\"TILEID\", \"i4\"),\n",
    "                    (\"RA\", \"f8\"),\n",
    "                    (\"DEC\", \"f8\"),\n",
    "                    (\"OBSCONDITIONS\", \"i4\"),\n",
    "                    (\"IN_DESI\", \"i2\"),\n",
    "                    (\"PASS\", \"i2\"),\n",
    "                    (\"PROGRAM\", \"S6\"),\n",
    "                ],\n",
    "            )\n",
    "d['TILEID'] = new_tiles['TILEID'].copy()\n",
    "d['RA'] = new_tiles['RA'].copy()\n",
    "d['DEC'] = new_tiles['DEC'].copy()\n",
    "d['IN_DESI'][:] = 1\n",
    "d['PROGRAM'][:] = \"SV3\"\n",
    "d['PASS'] = new_tiles['PASS'].copy()\n",
    "d['OBSCONDITIONS'][:] = obsconditions.mask(\"GRAY|DARK|BRIGHT\")\n",
    "\n",
    "d = Table(d)\n",
    "\n",
    "dark_tiles = d[(new_tiles['PROGRAM']=='dark') & (new_tiles['PASS'] < 7)]\n",
    "bright_tiles = d[(new_tiles['PROGRAM']=='bright') & (new_tiles['PASS']<4)]"
   ]
  },
  {
   "cell_type": "code",
   "execution_count": 68,
   "metadata": {},
   "outputs": [],
   "source": [
    "dark_tiles.write(\"patch/inputs/dark_tiles.fits\", overwrite=True)\n",
    "bright_tiles.write(\"patch/inputs/bright_tiles.fits\", overwrite=True)"
   ]
  },
  {
   "cell_type": "code",
   "execution_count": 82,
   "metadata": {},
   "outputs": [],
   "source": [
    "data = Table.read('patch/inputs/mtl_bright_sv3_onepct.fits')"
   ]
  },
  {
   "cell_type": "code",
   "execution_count": 83,
   "metadata": {},
   "outputs": [],
   "source": [
    "is_bgs= (data['SV3_DESI_TARGET']&sv3_targetmask.desi_mask['BGS_ANY'])!=0"
   ]
  },
  {
   "cell_type": "code",
   "execution_count": 84,
   "metadata": {},
   "outputs": [
    {
     "data": {
      "text/plain": [
       "{1}"
      ]
     },
     "execution_count": 84,
     "metadata": {},
     "output_type": "execute_result"
    }
   ],
   "source": [
    "set(data['NUMOBS_INIT'][is_bgs])"
   ]
  },
  {
   "cell_type": "code",
   "execution_count": 85,
   "metadata": {},
   "outputs": [
    {
     "name": "stdout",
     "output_type": "stream",
     "text": [
      "543433\n"
     ]
    }
   ],
   "source": [
    "print(np.count_nonzero(is_bgs))"
   ]
  },
  {
   "cell_type": "code",
   "execution_count": null,
   "metadata": {},
   "outputs": [],
   "source": []
  }
 ],
 "metadata": {
  "kernelspec": {
   "display_name": "DESI master",
   "language": "python",
   "name": "desi-master"
  },
  "language_info": {
   "codemirror_mode": {
    "name": "ipython",
    "version": 3
   },
   "file_extension": ".py",
   "mimetype": "text/x-python",
   "name": "python",
   "nbconvert_exporter": "python",
   "pygments_lexer": "ipython3",
   "version": "3.8.3"
  }
 },
 "nbformat": 4,
 "nbformat_minor": 4
}
