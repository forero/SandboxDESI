{
 "cells": [
  {
   "cell_type": "markdown",
   "metadata": {},
   "source": [
    "# Night Summary for MJD 58905 (starting evening of 2020-02-25)\n",
    "\n",
    "\n",
    "Sun json\n",
    "Civil (6°)\tNautical (12°)\tAstronomical (18°)\n",
    "\n",
    "Evening\t2020-02-26 01:45:58Z\t2020-02-26 02:13:51Z\t2020-02-26 02:42:10Z\n",
    "\n",
    "Midpoint\t2020-02-26 07:39:09Z\t2020-02-26 07:39:11Z\t2020-02-26 07:39:12Z\n",
    "\n",
    "Morning\t2020-02-26 13:32:21Z\t2020-02-26 13:04:31Z\t2020-02-26 12:36:14Z\n",
    "\n",
    "Moon json\n",
    "Phase\n",
    "5.7%\n",
    "\n",
    "Moonrise\n",
    "2020-02-25 15:22:21Z\n",
    "\n",
    "Moonset\n",
    "2020-02-26 03:19:53Z\n",
    "\n",
    "52081\tSV tile 70506 M67)\t04:14:05Z\t133.41751\t11.67719\t300.0\tscience\tDESI\n",
    "\n",
    "52082\tSV tile 70506 M67)\t04:25:20Z\t133.41678\t11.67739\t300.0\tscience\tDESI\n",
    "\n",
    "52083\tSV tile 70506 M67)\t04:36:17Z\t133.41621\t11.67754\t300.0\tscience\tDESI\n",
    "\n",
    "52084\tSV tile 70508 M67)\t04:49:03Z\t133.41557\t11.67770\t300.0\tscience\tDESI\n",
    "\n",
    "52085\tSV tile 70508 M67)\t05:02:35Z\t133.41493\t11.67783\t300.0\tscience\tDESI\n",
    "\n",
    "52086\tSV tile 70508 M67)\t05:14:34Z\t133.41439\t11.67792\t300.0\tscience\tDESI\n",
    "\n",
    "52087\tSV tile 70508 M67)\t05:25:31Z\t133.41392\t11.67798\t300.0\tscience\tDESI\n",
    "\n",
    "52088\tSV tile 70508 M67)\t05:40:15Z\t133.41331\t11.67804\t300.0\tscience\tDESI\n",
    "\n",
    "52089\tSV tile 70508 M67)\t05:51:30Z\t133.41284\t11.67806\t300.0\tscience\tDESI\n",
    "\n",
    "52090\tSV tile 70502\t06:07:12Z\t180.01200\t-0.51026\t900.0\tscience\tDESI\n",
    "\n",
    "52112\tSV tile 70502\t07:03:08Z\t180.00693\t-0.50838\t900.0\tscience\tDESI\n",
    "\n",
    "52113\tSV tile 70502\t07:26:28Z\t180.00532\t-0.50784\t900.0\tscience\tDESI\n",
    "\n",
    "52114\tSV tile 70502\t07:49:12Z\t180.00393\t-0.50744\t900.0\tscience\tDESI\n",
    "\n",
    "52115\tSV tile 70502\t08:10:21Z\t180.00276\t-0.50717\t900.0\tscience\tDESI\n",
    "\n",
    "52116\tSV tile 70502\t08:32:35Z\t180.00163\t-0.50699\t900.0\tscience\tDESI"
   ]
  },
  {
   "cell_type": "code",
   "execution_count": 1,
   "metadata": {},
   "outputs": [],
   "source": [
    "import numpy as np\n",
    "import fitsio\n",
    "from astropy.table import Table, vstack, hstack\n",
    "import glob\n",
    "import matplotlib.pyplot as plt\n",
    "%matplotlib inline"
   ]
  },
  {
   "cell_type": "code",
   "execution_count": 2,
   "metadata": {},
   "outputs": [],
   "source": [
    "tile_id = 70502\n",
    "path = \"/project/projectdirs/desi/spectro/redux/daily/tiles/{}/20200225\".format(tile_id)"
   ]
  },
  {
   "cell_type": "code",
   "execution_count": 3,
   "metadata": {},
   "outputs": [],
   "source": [
    "zbest_files = glob.glob(path+\"/zbest*\")"
   ]
  },
  {
   "cell_type": "code",
   "execution_count": 4,
   "metadata": {},
   "outputs": [
    {
     "data": {
      "text/plain": [
       "['/project/projectdirs/desi/spectro/redux/daily/tiles/70502/20200225/zbest-3-70502-20200225.fits',\n",
       " '/project/projectdirs/desi/spectro/redux/daily/tiles/70502/20200225/zbest-7-70502-20200225.fits',\n",
       " '/project/projectdirs/desi/spectro/redux/daily/tiles/70502/20200225/zbest-9-70502-20200225.fits',\n",
       " '/project/projectdirs/desi/spectro/redux/daily/tiles/70502/20200225/zbest-6-70502-20200225.fits',\n",
       " '/project/projectdirs/desi/spectro/redux/daily/tiles/70502/20200225/zbest-0-70502-20200225.fits']"
      ]
     },
     "execution_count": 4,
     "metadata": {},
     "output_type": "execute_result"
    }
   ],
   "source": [
    "zbest_files"
   ]
  },
  {
   "cell_type": "code",
   "execution_count": 5,
   "metadata": {},
   "outputs": [
    {
     "name": "stdout",
     "output_type": "stream",
     "text": [
      "500\n",
      "500\n",
      "500\n",
      "500\n",
      "500\n"
     ]
    }
   ],
   "source": [
    "zbest_data = {}\n",
    "zbest_fibermap = {}\n",
    "for i, zbest_file in enumerate(zbest_files):\n",
    "    zbest_data[i] = Table.read(zbest_file, 'ZBEST')\n",
    "    zbest_fibermap[i] = Table.read(zbest_file, 'FIBERMAP')\n",
    "    print(len(zbest_data[i]))"
   ]
  },
  {
   "cell_type": "code",
   "execution_count": 6,
   "metadata": {},
   "outputs": [],
   "source": [
    "zbest_data_all = vstack(list(zbest_data.values()))\n",
    "zbest_data_all.sort('TARGETID')\n",
    "fibermap_all = vstack(list(zbest_fibermap.values()))\n",
    "fibermap_all.sort('TARGETID')"
   ]
  },
  {
   "cell_type": "code",
   "execution_count": 7,
   "metadata": {},
   "outputs": [
    {
     "data": {
      "text/plain": [
       "<matplotlib.legend.Legend at 0x2aaad7d67a90>"
      ]
     },
     "execution_count": 7,
     "metadata": {},
     "output_type": "execute_result"
    },
    {
     "data": {
      "image/png": "[encoded data removed]",
      "text/plain": [
       "<matplotlib.figure.Figure at 0x2aaad7e1b400>"
      ]
     },
     "metadata": {
      "needs_background": "light"
     },
     "output_type": "display_data"
    }
   ],
   "source": [
    "is_galaxy = zbest_data_all['SPECTYPE']=='GALAXY' \n",
    "no_warning = zbest_data_all['ZWARN']==0\n",
    "positive_flux = fibermap_all['FLUX_R']>0.0\n",
    "good_fiber = fibermap_all['FIBERSTATUS']==0\n",
    "_=plt.hist(zbest_data_all['Z'][good_fiber & is_galaxy & positive_flux], bins=25, label='GALAXY', histtype='step')\n",
    "_=plt.hist(zbest_data_all['Z'][good_fiber & is_galaxy & no_warning & positive_flux], bins=25, label='GALAXY & ZWARN==0', histtype='step', linewidth=4)\n",
    "plt.title(\"Median Redshift {:.1f}\".format(np.median(zbest_data_all['Z'][is_galaxy & no_warning & good_fiber])))\n",
    "plt.xlabel('Redshift')\n",
    "plt.ylabel('Nsources')\n",
    "plt.legend()"
   ]
  },
  {
   "cell_type": "code",
   "execution_count": 8,
   "metadata": {},
   "outputs": [
    {
     "data": {
      "text/html": [
       "&lt;Table length=2500&gt;\n",
       "<table id=\"table46913202245304\" class=\"table-striped table-bordered table-condensed\">\n",
       "<thead><tr><th>TARGETID</th><th>CHI2</th><th>COEFF [10]</th><th>Z</th><th>ZERR</th><th>ZWARN</th><th>NPIXELS</th><th>SPECTYPE</th><th>SUBTYPE</th><th>NCOEFF</th><th>DELTACHI2</th><th>NUMEXP</th><th>NUMTILE</th></tr></thead>\n",
       "<thead><tr><th>int64</th><th>float64</th><th>float64</th><th>float64</th><th>float64</th><th>int64</th><th>int64</th><th>str6</th><th>str20</th><th>int64</th><th>float64</th><th>int32</th><th>int32</th></tr></thead>\n",
       "<tr><td>35185712445786261</td><td>25651.32187811491</td><td>6299.002370114701 .. 0.0</td><td>0.0005226517775207594</td><td>2.8357801158421117e-06</td><td>0</td><td>7758</td><td>STAR</td><td>K</td><td>5</td><td>14799.273653944758</td><td>0</td><td>0</td></tr>\n",
       "<tr><td>35185712445786287</td><td>10746.545581519604</td><td>1054.5767915789954 .. 72.48115893585835</td><td>1.6556743778982108</td><td>8.87707880498596e-05</td><td>0</td><td>7758</td><td>GALAXY</td><td></td><td>10</td><td>17.863597571849823</td><td>0</td><td>0</td></tr>\n",
       "<tr><td>35185712445788791</td><td>10173.758414924145</td><td>-26.21945099952736 .. -5.667924129857734</td><td>0.6669170195157538</td><td>3.807474934522135e-05</td><td>4</td><td>7757</td><td>GALAXY</td><td></td><td>10</td><td>2.4792800545692444</td><td>0</td><td>0</td></tr>\n",
       "<tr><td>35185712445789423</td><td>14822.562668060835</td><td>1563.979395023786 .. 0.0</td><td>-4.8250524092662925e-05</td><td>4.772979295170034e-06</td><td>0</td><td>7758</td><td>STAR</td><td>K</td><td>5</td><td>6413.032216953163</td><td>0</td><td>0</td></tr>\n",
       "<tr><td>35185712445789787</td><td>12523.552356250799</td><td>1701.449763631042 .. 0.0</td><td>0.00025723635169548885</td><td>7.079237380293098e-06</td><td>0</td><td>7731</td><td>STAR</td><td>K</td><td>5</td><td>1640.3872114343285</td><td>0</td><td>0</td></tr>\n",
       "<tr><td>35185712449979202</td><td>19150.939883377832</td><td>2919.8797268141307 .. 0.0</td><td>6.494017983474686e-05</td><td>1.7491254641872203e-05</td><td>0</td><td>7759</td><td>STAR</td><td>F</td><td>5</td><td>6390.501035842615</td><td>0</td><td>0</td></tr>\n",
       "<tr><td>35185712449979490</td><td>35221.86532576348</td><td>2302.6895190322452 .. 0.0</td><td>-5.97581183062811e-05</td><td>3.4529750412649034e-06</td><td>0</td><td>7758</td><td>STAR</td><td>K</td><td>5</td><td>4623.697977587923</td><td>0</td><td>0</td></tr>\n",
       "<tr><td>35185712449979800</td><td>14898.67607331276</td><td>859.6701565184374 .. 96.29253542342148</td><td>0.28329715376963</td><td>6.786155919140386e-06</td><td>0</td><td>7759</td><td>GALAXY</td><td></td><td>10</td><td>1484.541034936905</td><td>0</td><td>0</td></tr>\n",
       "<tr><td>35185712449979886</td><td>22373.098727345467</td><td>2797.1978850440423 .. 11.16534323366582</td><td>0.14791612512038504</td><td>1.863783107711742e-05</td><td>0</td><td>7759</td><td>GALAXY</td><td></td><td>10</td><td>1647.0493733882904</td><td>0</td><td>0</td></tr>\n",
       "<tr><td>35185712449980145</td><td>13773.746677030482</td><td>3176.355372468784 .. 0.0</td><td>-2.0051017280520078e-05</td><td>9.214084764432627e-06</td><td>0</td><td>7758</td><td>STAR</td><td>K</td><td>5</td><td>3459.184218410166</td><td>0</td><td>0</td></tr>\n",
       "<tr><td>...</td><td>...</td><td>...</td><td>...</td><td>...</td><td>...</td><td>...</td><td>...</td><td>...</td><td>...</td><td>...</td><td>...</td><td>...</td></tr>\n",
       "<tr><td>611646531207955082</td><td>14184.735890209675</td><td>302.2057888048917 .. 62.05381378130636</td><td>1.231971450919028</td><td>8.116682060666404e-05</td><td>0</td><td>7757</td><td>GALAXY</td><td></td><td>10</td><td>41.31927525997162</td><td>0</td><td>0</td></tr>\n",
       "<tr><td>611646531207955143</td><td>14562.280587762594</td><td>291.7726602173604 .. 65.79494679018916</td><td>1.1877582131765814</td><td>9.803600888584716e-05</td><td>0</td><td>7758</td><td>GALAXY</td><td></td><td>10</td><td>20.415241807699203</td><td>0</td><td>0</td></tr>\n",
       "<tr><td>611646531207955148</td><td>14902.24567681551</td><td>478.20189667783353 .. 85.3030279666031</td><td>1.2237089318692558</td><td>8.155740121838345e-05</td><td>4</td><td>7758</td><td>GALAXY</td><td></td><td>10</td><td>4.343056708574295</td><td>0</td><td>0</td></tr>\n",
       "<tr><td>611646531212148866</td><td>12200.36759378016</td><td>-33.90754703303497 .. -2.531874520046625</td><td>0.8603173724160652</td><td>0.00010326498801071009</td><td>4</td><td>7758</td><td>GALAXY</td><td></td><td>10</td><td>3.300095483660698</td><td>0</td><td>0</td></tr>\n",
       "<tr><td>611646531212148870</td><td>11114.254738815129</td><td>128.81964228925827 .. 17.244505771219032</td><td>0.8701125164916327</td><td>0.00012596307852282812</td><td>4</td><td>7758</td><td>GALAXY</td><td></td><td>10</td><td>0.15550680458545685</td><td>0</td><td>0</td></tr>\n",
       "<tr><td>611646531212149048</td><td>10640.52469059825</td><td>-26.94802688983763 .. -29.50417218952775</td><td>1.2386793594384227</td><td>8.885552963170105e-05</td><td>0</td><td>7755</td><td>GALAXY</td><td></td><td>10</td><td>20.21515667438507</td><td>0</td><td>0</td></tr>\n",
       "<tr><td>611646531212149258</td><td>14345.377015173435</td><td>246.408271314355 .. 57.7771810369544</td><td>1.2290177423779733</td><td>9.552647487987538e-05</td><td>0</td><td>7757</td><td>GALAXY</td><td></td><td>10</td><td>19.69883081316948</td><td>0</td><td>0</td></tr>\n",
       "<tr><td>611646537243558089</td><td>10906.312843456864</td><td>-43.25324723548977 .. -8.50488891388231</td><td>1.1483657377984153</td><td>0.00014043492914580052</td><td>4</td><td>7759</td><td>GALAXY</td><td></td><td>10</td><td>2.894757315516472</td><td>0</td><td>0</td></tr>\n",
       "<tr><td>611646537243558328</td><td>10882.887544721365</td><td>-90.19386506674104 .. -2.452782362316118</td><td>1.1176352177613733</td><td>7.282703520458825e-05</td><td>4</td><td>7758</td><td>GALAXY</td><td></td><td>10</td><td>2.399327665567398</td><td>0</td><td>0</td></tr>\n",
       "<tr><td>611646537243558342</td><td>10678.235551957041</td><td>0.00020242814859329605 .. 0.0</td><td>0.9826264803424325</td><td>0.00018590493886178015</td><td>0</td><td>7758</td><td>QSO</td><td></td><td>4</td><td>16.210291728377342</td><td>0</td><td>0</td></tr>\n",
       "</table>"
      ],
      "text/plain": [
       "<Table length=2500>\n",
       "     TARGETID             CHI2        ... NUMEXP NUMTILE\n",
       "      int64             float64       ... int32   int32 \n",
       "------------------ ------------------ ... ------ -------\n",
       " 35185712445786261  25651.32187811491 ...      0       0\n",
       " 35185712445786287 10746.545581519604 ...      0       0\n",
       " 35185712445788791 10173.758414924145 ...      0       0\n",
       " 35185712445789423 14822.562668060835 ...      0       0\n",
       " 35185712445789787 12523.552356250799 ...      0       0\n",
       " 35185712449979202 19150.939883377832 ...      0       0\n",
       " 35185712449979490  35221.86532576348 ...      0       0\n",
       " 35185712449979800  14898.67607331276 ...      0       0\n",
       " 35185712449979886 22373.098727345467 ...      0       0\n",
       " 35185712449980145 13773.746677030482 ...      0       0\n",
       "               ...                ... ...    ...     ...\n",
       "611646531207955082 14184.735890209675 ...      0       0\n",
       "611646531207955143 14562.280587762594 ...      0       0\n",
       "611646531207955148  14902.24567681551 ...      0       0\n",
       "611646531212148866  12200.36759378016 ...      0       0\n",
       "611646531212148870 11114.254738815129 ...      0       0\n",
       "611646531212149048  10640.52469059825 ...      0       0\n",
       "611646531212149258 14345.377015173435 ...      0       0\n",
       "611646537243558089 10906.312843456864 ...      0       0\n",
       "611646537243558328 10882.887544721365 ...      0       0\n",
       "611646537243558342 10678.235551957041 ...      0       0"
      ]
     },
     "execution_count": 8,
     "metadata": {},
     "output_type": "execute_result"
    }
   ],
   "source": [
    "zbest_data_all"
   ]
  },
  {
   "cell_type": "code",
   "execution_count": 9,
   "metadata": {},
   "outputs": [
    {
     "name": "stderr",
     "output_type": "stream",
     "text": [
      "/global/common/software/desi/cori/desiconda/20190804-1.3.0-spec/conda/lib/python3.6/site-packages/ipykernel/__main__.py:1: RuntimeWarning: invalid value encountered in true_divide\n",
      "  if __name__ == '__main__':\n",
      "/global/common/software/desi/cori/desiconda/20190804-1.3.0-spec/conda/lib/python3.6/site-packages/ipykernel/__main__.py:2: RuntimeWarning: divide by zero encountered in true_divide\n",
      "  from ipykernel import kernelapp as app\n",
      "/global/common/software/desi/cori/desiconda/20190804-1.3.0-spec/conda/lib/python3.6/site-packages/ipykernel/__main__.py:4: RuntimeWarning: invalid value encountered in log10\n"
     ]
    }
   ],
   "source": [
    "flux_r = fibermap_all['FLUX_R']/fibermap_all['MW_TRANSMISSION_R']\n",
    "fiberflux_r = fibermap_all['FIBERFLUX_R']/fibermap_all['MW_TRANSMISSION_R']\n",
    "rmag = 22.5-2.5*np.log10(flux_r)\n",
    "fiber_rmag = 22.5-2.5*np.log10(fiberflux_r)\n",
    "\n",
    "rmag[np.isnan(rmag)] = 100 \n",
    "fiber_rmag[np.isnan(fiber_rmag)] = 100"
   ]
  },
  {
   "cell_type": "code",
   "execution_count": 10,
   "metadata": {},
   "outputs": [
    {
     "data": {
      "image/png": "[encoded data removed]",
      "text/plain": [
       "<matplotlib.figure.Figure at 0x2aaad7d8c908>"
      ]
     },
     "metadata": {
      "needs_background": "light"
     },
     "output_type": "display_data"
    }
   ],
   "source": [
    "_ = plt.hist(rmag[is_galaxy & positive_flux & good_fiber], log=True)\n",
    "_ = plt.hist(fiber_rmag[is_galaxy & positive_flux & good_fiber], log=True, alpha=0.5)"
   ]
  },
  {
   "cell_type": "code",
   "execution_count": 11,
   "metadata": {},
   "outputs": [
    {
     "name": "stdout",
     "output_type": "stream",
     "text": [
      "16.0\n",
      "23 20\n",
      "16.5\n",
      "27 25\n",
      "17.0\n",
      "57 52\n",
      "17.5\n",
      "94 87\n",
      "18.0\n",
      "134 130\n",
      "18.5\n",
      "223 211\n",
      "19.0\n",
      "300 287\n",
      "19.5\n",
      "216 193\n"
     ]
    }
   ],
   "source": [
    "delta_r = 0.5\n",
    "r_mag_bins = np.arange(16, 20.0, delta_r)\n",
    "z_warn0_frac = np.ones(len(r_mag_bins))\n",
    "z_warn0_frac_err = np.ones(len(r_mag_bins))\n",
    "\n",
    "for i,r_min in enumerate(r_mag_bins):\n",
    "    print(r_min)\n",
    "    r_max = r_min + delta_r\n",
    "    ii = (rmag>r_min) & (rmag<r_max)\n",
    "    is_galaxy = zbest_data_all[ii]['SPECTYPE']=='GALAXY' \n",
    "    no_warning = zbest_data_all[ii]['ZWARN']==0\n",
    "    good_fiber = fibermap_all[ii]['FIBERSTATUS']==0\n",
    "\n",
    "    n_tot = np.count_nonzero(is_galaxy)\n",
    "    n_no_warn = np.count_nonzero(no_warning & is_galaxy)\n",
    "    z_warn0_frac[i] = n_no_warn/n_tot\n",
    "    z_warn0_frac_err[i] = np.sqrt(n_no_warn)/n_tot\n",
    "\n",
    "    print(n_tot, n_no_warn)"
   ]
  },
  {
   "cell_type": "code",
   "execution_count": 12,
   "metadata": {},
   "outputs": [
    {
     "data": {
      "text/plain": [
       "Text(0,0.5,'FRACTION ZWARN==0')"
      ]
     },
     "execution_count": 12,
     "metadata": {},
     "output_type": "execute_result"
    },
    {
     "data": {
      "image/png": "[encoded data removed]",
      "text/plain": [
       "<matplotlib.figure.Figure at 0x2aaad91fa358>"
      ]
     },
     "metadata": {
      "needs_background": "light"
     },
     "output_type": "display_data"
    }
   ],
   "source": [
    "plt.errorbar(r_mag_bins, z_warn0_frac, z_warn0_frac_err, fmt='o')\n",
    "plt.ylim([0,1])\n",
    "plt.xlabel('RMAG')\n",
    "plt.ylabel('FRACTION ZWARN==0')"
   ]
  },
  {
   "cell_type": "code",
   "execution_count": 13,
   "metadata": {},
   "outputs": [
    {
     "name": "stdout",
     "output_type": "stream",
     "text": [
      "16.0\n",
      "2 2\n",
      "17.0\n",
      "11 10\n",
      "18.0\n",
      "68 66\n",
      "19.0\n",
      "227 225\n",
      "20.0\n",
      "511 500\n",
      "21.0\n",
      "332 328\n",
      "22.0\n",
      "33 31\n",
      "23.0\n",
      "5 4\n"
     ]
    }
   ],
   "source": [
    "delta_r = 1.0\n",
    "r_mag_bins = np.arange(16, 24.0, delta_r)\n",
    "z_warn0_frac = np.ones(len(r_mag_bins))\n",
    "z_warn0_frac_err = np.ones(len(r_mag_bins))\n",
    "\n",
    "for i,r_min in enumerate(r_mag_bins):\n",
    "    print(r_min)\n",
    "    r_max = r_min + delta_r\n",
    "    ii = (fiber_rmag>r_min) & (fiber_rmag<r_max)\n",
    "    is_galaxy = zbest_data_all[ii]['SPECTYPE']=='GALAXY' \n",
    "    no_warning = zbest_data_all[ii]['ZWARN']==0\n",
    "    good_fiber = fibermap_all[ii]['FIBERSTATUS']==0\n",
    "    n_tot = np.count_nonzero(is_galaxy & good_fiber)\n",
    "    n_no_warn = np.count_nonzero(no_warning & is_galaxy & good_fiber)\n",
    "    print(n_tot, n_no_warn)\n",
    "    z_warn0_frac[i] = n_no_warn/n_tot\n",
    "    z_warn0_frac_err[i] = np.sqrt(n_no_warn)/n_tot\n",
    "\n"
   ]
  },
  {
   "cell_type": "code",
   "execution_count": 14,
   "metadata": {},
   "outputs": [
    {
     "data": {
      "text/plain": [
       "Text(0,0.5,'FRACTION ZWARN==0')"
      ]
     },
     "execution_count": 14,
     "metadata": {},
     "output_type": "execute_result"
    },
    {
     "data": {
      "image/png": "[encoded data removed]",
      "text/plain": [
       "<matplotlib.figure.Figure at 0x2aaad7d5ec88>"
      ]
     },
     "metadata": {
      "needs_background": "light"
     },
     "output_type": "display_data"
    }
   ],
   "source": [
    "plt.errorbar(r_mag_bins, z_warn0_frac, z_warn0_frac_err, fmt='o')\n",
    "plt.ylim([0,1])\n",
    "plt.xlabel('FIBER_RMAG')\n",
    "plt.ylabel('FRACTION ZWARN==0')"
   ]
  }
 ],
 "metadata": {
  "kernelspec": {
   "display_name": "DESI master",
   "language": "python",
   "name": "desi-master"
  },
  "language_info": {
   "codemirror_mode": {
    "name": "ipython",
    "version": 3
   },
   "file_extension": ".py",
   "mimetype": "text/x-python",
   "name": "python",
   "nbconvert_exporter": "python",
   "pygments_lexer": "ipython3",
   "version": "3.6.6"
  }
 },
 "nbformat": 4,
 "nbformat_minor": 4
}
