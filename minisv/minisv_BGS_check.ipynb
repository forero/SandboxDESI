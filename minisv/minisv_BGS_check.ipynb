{
 "cells": [
  {
   "cell_type": "code",
   "execution_count": 1,
   "metadata": {},
   "outputs": [],
   "source": [
    "import numpy as np\n",
    "import matplotlib.pyplot as plt\n",
    "from astropy.table import Table\n",
    "import fitsio\n",
    "from desitarget.cmx import cmx_targetmask\n",
    "import desimodel.focalplane\n",
    "%matplotlib inline"
   ]
  },
  {
   "cell_type": "code",
   "execution_count": 2,
   "metadata": {},
   "outputs": [],
   "source": [
    "# reference to tile description https://desi.lbl.gov/trac/wiki/TargetSelectionWG/miniSV2\n",
    "# path to data http://www.astro.utah.edu/~u6022465/SV/miniSV/"
   ]
  },
  {
   "cell_type": "code",
   "execution_count": 3,
   "metadata": {},
   "outputs": [],
   "source": [
    "tile_files = {}\n",
    "tile_files[0] = 'www.astro.utah.edu/~u6022465/SV/miniSV/Tile_70500/fiberassign-070500.fits' # 119.00\t50.00\tNothing in particular here, but higher declination\n",
    "tile_files[1] = 'www.astro.utah.edu/~u6022465/SV/miniSV/Tile_70501/fiberassign-070501.fits' # 135.00\t0.50\tGAMA-G09\n",
    "tile_files[2] = 'www.astro.utah.edu/~u6022465/SV/miniSV/Tile_70502/fiberassign-070502.fits' # 180.00\t-0.50\tGAMA-G12\n",
    "tile_files[3] = 'www.astro.utah.edu/~u6022465/SV/miniSV/Tile_70503/fiberassign-070503.fits' # 217.50\t0.50\tGAMA-G15\n",
    "tile_files[4] = 'www.astro.utah.edu/~u6022465/SV/miniSV/Tile_70508/fiberassign-070508.fits' # 195.00\t29.00\tComa on petal 0"
   ]
  },
  {
   "cell_type": "code",
   "execution_count": 49,
   "metadata": {},
   "outputs": [],
   "source": [
    "def print_stats(tile_files, ext='TARGETS'):\n",
    "    print(\"\\nResults from the {} extension\\n\".format(ext))\n",
    "    area = np.pi*desimodel.focalplane.get_tile_radius_deg()**2\n",
    "    for i in range(5):\n",
    "        print(\"TILE \", i)\n",
    "        assigned = Table(fitsio.read(tile_files[i], ext=ext))\n",
    "        flux_cut = 10**((22.5-19.5)/2.5)\n",
    "        flux_r = assigned['FLUX_R']/assigned['MW_TRANSMISSION_R']\n",
    "        rmag = 22.5-2.5*np.log10(flux_r)\n",
    "        is_bgs_bright = assigned['CMX_TARGET']&cmx_targetmask.cmx_mask.mask('MINI_SV_BGS_BRIGHT')!=0\n",
    "        is_bgs = assigned['CMX_TARGET']&cmx_targetmask.cmx_mask.mask('SV0_BGS')!=0\n",
    "        is_mws = assigned['CMX_TARGET']&cmx_targetmask.cmx_mask.mask('SV0_MWS')!=0\n",
    "        print('MAX RMAG value for MINI_SV_BGS_BRIGHT', np.max(rmag[is_bgs_bright]))\n",
    "        print('NUMBER OF BRIGHT TARGETS BELOW 19.5 mag', np.count_nonzero(flux_r[is_bgs_bright] < flux_cut))\n",
    "        print('MINI_SV_BGS_BRIGHT density (targets/deg^2)', np.count_nonzero(is_bgs_bright)/area)\n",
    "        print('SV0_BGS density (targets/deg^2)', np.count_nonzero(is_bgs)/area)\n",
    "        print('SV0_MWS density (targets/deg^2)', np.count_nonzero(is_mws)/area)\n",
    "        print('STANDARDS',np.count_nonzero((assigned['CMX_TARGET']&cmx_targetmask.cmx_mask.mask('STD_GAIA'))!=0))\n",
    "        print('RMAG BRIGHTEST TARGET', np.min(rmag[is_bgs|is_mws]))\n",
    "        print('SKY', np.count_nonzero(assigned['OBJTYPE']=='SKY'))\n",
    "        print()"
   ]
  },
  {
   "cell_type": "code",
   "execution_count": 50,
   "metadata": {},
   "outputs": [
    {
     "name": "stdout",
     "output_type": "stream",
     "text": [
      "\n",
      "Results from the FIBERASSIGN extension\n",
      "\n",
      "TILE  0\n",
      "MAX RMAG value for MINI_SV_BGS_BRIGHT 19.499788\n",
      "NUMBER OF BRIGHT TARGETS BELOW 19.5 mag 0\n",
      "MINI_SV_BGS_BRIGHT density (targets/deg^2) 208.5055940454409\n",
      "SV0_BGS density (targets/deg^2) 346.34762077173525\n",
      "SV0_MWS density (targets/deg^2) 196.60815669068663\n",
      "STANDARDS 1492\n",
      "RMAG BRIGHTEST TARGET 6.7839184\n",
      "SKY 469\n",
      "\n",
      "TILE  1\n",
      "MAX RMAG value for MINI_SV_BGS_BRIGHT 19.499046\n",
      "NUMBER OF BRIGHT TARGETS BELOW 19.5 mag 0\n",
      "MINI_SV_BGS_BRIGHT density (targets/deg^2) 218.3600371069545\n",
      "SV0_BGS density (targets/deg^2) 341.0598708362889\n",
      "SV0_MWS density (targets/deg^2) 207.66436110116533\n",
      "STANDARDS 1568\n",
      "RMAG BRIGHTEST TARGET 12.643663\n",
      "SKY 409\n",
      "\n",
      "TILE  2\n",
      "MAX RMAG value for MINI_SV_BGS_BRIGHT 19.499542\n",
      "NUMBER OF BRIGHT TARGETS BELOW 19.5 mag 0\n",
      "MINI_SV_BGS_BRIGHT density (targets/deg^2) 257.297104813423\n",
      "SV0_BGS density (targets/deg^2) 401.50846668923225\n",
      "SV0_MWS density (targets/deg^2) 120.89719170588675\n",
      "STANDARDS 931\n",
      "RMAG BRIGHTEST TARGET 11.107053\n",
      "SKY 639\n",
      "\n",
      "TILE  3\n",
      "MAX RMAG value for MINI_SV_BGS_BRIGHT 19.499718\n",
      "NUMBER OF BRIGHT TARGETS BELOW 19.5 mag 0\n",
      "MINI_SV_BGS_BRIGHT density (targets/deg^2) 247.6830140217024\n",
      "SV0_BGS density (targets/deg^2) 390.45226227875355\n",
      "SV0_MWS density (targets/deg^2) 156.22897536546003\n",
      "STANDARDS 1211\n",
      "RMAG BRIGHTEST TARGET 9.719867\n",
      "SKY 426\n",
      "\n",
      "TILE  4\n",
      "MAX RMAG value for MINI_SV_BGS_BRIGHT 19.499878\n",
      "NUMBER OF BRIGHT TARGETS BELOW 19.5 mag 0\n",
      "MINI_SV_BGS_BRIGHT density (targets/deg^2) 255.01375825038937\n",
      "SV0_BGS density (targets/deg^2) 416.29013128150274\n",
      "SV0_MWS density (targets/deg^2) 90.85315798175984\n",
      "STANDARDS 687\n",
      "RMAG BRIGHTEST TARGET 10.852869\n",
      "SKY 767\n",
      "\n"
     ]
    },
    {
     "name": "stderr",
     "output_type": "stream",
     "text": [
      "/global/common/software/desi/cori/desiconda/20190804-1.3.0-spec/conda/lib/python3.6/site-packages/ipykernel/__main__.py:8: RuntimeWarning: invalid value encountered in true_divide\n"
     ]
    }
   ],
   "source": [
    "print_stats(tile_files, ext='FIBERASSIGN')"
   ]
  },
  {
   "cell_type": "code",
   "execution_count": 51,
   "metadata": {},
   "outputs": [
    {
     "name": "stdout",
     "output_type": "stream",
     "text": [
      "\n",
      "Results from the TARGETS extension\n",
      "\n",
      "TILE  0\n"
     ]
    },
    {
     "name": "stderr",
     "output_type": "stream",
     "text": [
      "/global/common/software/desi/cori/desiconda/20190804-1.3.0-spec/conda/lib/python3.6/site-packages/ipykernel/__main__.py:8: RuntimeWarning: divide by zero encountered in true_divide\n",
      "/global/common/software/desi/cori/desiconda/20190804-1.3.0-spec/conda/lib/python3.6/site-packages/ipykernel/__main__.py:8: RuntimeWarning: invalid value encountered in true_divide\n"
     ]
    },
    {
     "name": "stdout",
     "output_type": "stream",
     "text": [
      "MAX RMAG value for MINI_SV_BGS_BRIGHT 19.499788\n",
      "NUMBER OF BRIGHT TARGETS BELOW 19.5 mag 0\n",
      "MINI_SV_BGS_BRIGHT density (targets/deg^2) 688.0083722825067\n",
      "SV0_BGS density (targets/deg^2) 2131.203576254668\n",
      "SV0_MWS density (targets/deg^2) 1678.019371559937\n",
      "STANDARDS 12281\n",
      "RMAG BRIGHTEST TARGET 2.4703312\n",
      "SKY 0\n",
      "\n",
      "TILE  1\n",
      "MAX RMAG value for MINI_SV_BGS_BRIGHT 19.49956\n",
      "NUMBER OF BRIGHT TARGETS BELOW 19.5 mag 0\n",
      "MINI_SV_BGS_BRIGHT density (targets/deg^2) 710.8418379128431\n",
      "SV0_BGS density (targets/deg^2) 2147.427354465696\n",
      "SV0_MWS density (targets/deg^2) 1993.722077933063\n",
      "STANDARDS 14782\n",
      "RMAG BRIGHTEST TARGET 9.777281\n",
      "SKY 0\n",
      "\n",
      "TILE  2\n",
      "MAX RMAG value for MINI_SV_BGS_BRIGHT 19.499907\n",
      "NUMBER OF BRIGHT TARGETS BELOW 19.5 mag 0\n",
      "MINI_SV_BGS_BRIGHT density (targets/deg^2) 870.9164495949914\n",
      "SV0_BGS density (targets/deg^2) 2365.0663347632717\n",
      "SV0_MWS density (targets/deg^2) 921.7509546562142\n",
      "STANDARDS 6902\n",
      "RMAG BRIGHTEST TARGET 10.089711\n",
      "SKY 0\n",
      "\n",
      "TILE  3\n",
      "MAX RMAG value for MINI_SV_BGS_BRIGHT 19.499718\n",
      "NUMBER OF BRIGHT TARGETS BELOW 19.5 mag 0\n",
      "MINI_SV_BGS_BRIGHT density (targets/deg^2) 846.2803419412073\n",
      "SV0_BGS density (targets/deg^2) 2436.811487296487\n",
      "SV0_MWS density (targets/deg^2) 1519.0263450918574\n",
      "STANDARDS 11504\n",
      "RMAG BRIGHTEST TARGET 9.388683\n",
      "SKY 0\n",
      "\n",
      "TILE  4\n",
      "MAX RMAG value for MINI_SV_BGS_BRIGHT 19.499994\n",
      "NUMBER OF BRIGHT TARGETS BELOW 19.5 mag 0\n",
      "MINI_SV_BGS_BRIGHT density (targets/deg^2) 890.6253357180186\n",
      "SV0_BGS density (targets/deg^2) 2393.307726463951\n",
      "SV0_MWS density (targets/deg^2) 649.7923613854172\n",
      "STANDARDS 4821\n",
      "RMAG BRIGHTEST TARGET 10.331096\n",
      "SKY 0\n",
      "\n"
     ]
    }
   ],
   "source": [
    "print_stats(tile_files, ext='TARGETS')"
   ]
  },
  {
   "cell_type": "code",
   "execution_count": 29,
   "metadata": {},
   "outputs": [
    {
     "data": {
      "text/plain": [
       "(array([   2.,    4.,   10.,   29.,   30.,   60.,   84.,  204.,  523.,\n",
       "        1176.]),\n",
       " array([11.356443, 12.174213, 12.991983, 13.809754, 14.627524, 15.445294,\n",
       "        16.263065, 17.080835, 17.898605, 18.716375, 19.534145],\n",
       "       dtype=float32),\n",
       " <a list of 10 Patch objects>)"
      ]
     },
     "execution_count": 29,
     "metadata": {},
     "output_type": "execute_result"
    },
    {
     "data": {
      "image/png": "[encoded data removed]",
      "text/plain": [
       "<matplotlib.figure.Figure at 0x2aaada4cc278>"
      ]
     },
     "metadata": {
      "needs_background": "light"
     },
     "output_type": "display_data"
    }
   ],
   "source": [
    "plt.hist(rmag[assigned['CMX_TARGET']&cmx_targetmask.cmx_mask.mask('MINI_SV_BGS_BRIGHT')!=0], log=True)"
   ]
  },
  {
   "cell_type": "code",
   "execution_count": 9,
   "metadata": {},
   "outputs": [
    {
     "data": {
      "text/plain": [
       "Text(0.5,1,'SKY')"
      ]
     },
     "execution_count": 9,
     "metadata": {},
     "output_type": "execute_result"
    },
    {
     "data": {
      "image/png": "[encoded data removed]",
      "text/plain": [
       "<matplotlib.figure.Figure at 0x2aaaae3fd6d8>"
      ]
     },
     "metadata": {
      "needs_background": "light"
     },
     "output_type": "display_data"
    }
   ],
   "source": [
    "sky = assigned['OBJTYPE']=='SKY'\n",
    "plt.scatter(assigned['TARGET_RA'][sky], assigned['TARGET_DEC'][sky])\n",
    "plt.title(\"SKY\")"
   ]
  },
  {
   "cell_type": "code",
   "execution_count": 5,
   "metadata": {},
   "outputs": [
    {
     "name": "stdout",
     "output_type": "stream",
     "text": [
      "72057594037928192 ['SV0_BGS', 'MINI_SV_BGS_BRIGHT']\n",
      "513 ['STD_GAIA', 'SV0_MWS']\n",
      "81064793292670208 ['SV0_BGS', 'SV0_LRG', 'MINI_SV_LRG', 'MINI_SV_BGS_BRIGHT']\n",
      "256 ['SV0_BGS']\n",
      "1280 ['SV0_BGS', 'SV0_LRG']\n",
      "9007199254742272 ['SV0_BGS', 'SV0_LRG', 'MINI_SV_LRG']\n",
      "512 ['SV0_MWS']\n",
      "72057594037929216 ['SV0_BGS', 'SV0_LRG', 'MINI_SV_BGS_BRIGHT']\n",
      "0 []\n",
      "4352 ['SV0_BGS', 'SV0_QSO']\n",
      "520 ['STD_TEST', 'SV0_MWS']\n",
      "36028797018968320 ['SV0_BGS', 'SV0_QSO', 'MINI_SV_QSO']\n",
      "108086391056896256 ['SV0_BGS', 'SV0_QSO', 'MINI_SV_QSO', 'MINI_SV_BGS_BRIGHT']\n",
      "8193 ['STD_GAIA', 'SV0_WD']\n",
      "36028797018968576 ['SV0_MWS', 'SV0_QSO', 'MINI_SV_QSO']\n",
      "8704 ['SV0_MWS', 'SV0_WD']\n",
      "768 ['SV0_BGS', 'SV0_MWS']\n",
      "544 ['STD_DITHER', 'SV0_MWS']\n",
      "8737 ['STD_GAIA', 'STD_DITHER', 'SV0_MWS', 'SV0_WD']\n",
      "545 ['STD_GAIA', 'STD_DITHER', 'SV0_MWS']\n",
      "8225 ['STD_GAIA', 'STD_DITHER', 'SV0_WD']\n",
      "8589935139 ['STD_GAIA', 'SV0_STD_FAINT', 'STD_DITHER', 'SV0_MWS', 'STD_FAINT']\n",
      "108086391056896289 ['STD_GAIA', 'STD_DITHER', 'SV0_BGS', 'SV0_QSO', 'MINI_SV_QSO', 'MINI_SV_BGS_BRIGHT']\n",
      "34359738405 ['STD_GAIA', 'SV0_STD_BRIGHT', 'STD_DITHER', 'STD_BRIGHT']\n",
      "42949673511 ['STD_GAIA', 'SV0_STD_FAINT', 'SV0_STD_BRIGHT', 'STD_DITHER', 'SV0_MWS', 'STD_FAINT', 'STD_BRIGHT']\n",
      "42949672999 ['STD_GAIA', 'SV0_STD_FAINT', 'SV0_STD_BRIGHT', 'STD_DITHER', 'STD_FAINT', 'STD_BRIGHT']\n",
      "81064793292674304 ['SV0_BGS', 'SV0_LRG', 'SV0_QSO', 'MINI_SV_LRG', 'MINI_SV_BGS_BRIGHT']\n",
      "54043195528451328 ['SV0_BGS', 'SV0_LRG', 'SV0_QSO', 'MINI_SV_ELG', 'MINI_SV_QSO']\n",
      "552 ['STD_TEST', 'STD_DITHER', 'SV0_MWS']\n",
      "12321 ['STD_GAIA', 'STD_DITHER', 'SV0_QSO', 'SV0_WD']\n",
      "18014398509483264 ['SV0_BGS', 'SV0_LRG', 'MINI_SV_ELG']\n",
      "8589935107 ['STD_GAIA', 'SV0_STD_FAINT', 'SV0_MWS', 'STD_FAINT']\n",
      "36028797018968609 ['STD_GAIA', 'STD_DITHER', 'SV0_MWS', 'SV0_QSO', 'MINI_SV_QSO']\n",
      "4641 ['STD_GAIA', 'STD_DITHER', 'SV0_MWS', 'SV0_QSO']\n",
      "8589939235 ['STD_GAIA', 'SV0_STD_FAINT', 'STD_DITHER', 'SV0_MWS', 'SV0_QSO', 'STD_FAINT']\n",
      "2304 ['SV0_BGS', 'SV0_ELG']\n",
      "36028797018970368 ['SV0_BGS', 'SV0_ELG', 'SV0_QSO', 'MINI_SV_QSO']\n",
      "1568 ['STD_DITHER', 'SV0_MWS', 'SV0_LRG']\n"
     ]
    }
   ],
   "source": [
    "for i in set(assigned['CMX_TARGET']):\n",
    "    print(i, cmx_targetmask.cmx_mask.names(i))"
   ]
  },
  {
   "cell_type": "code",
   "execution_count": 6,
   "metadata": {},
   "outputs": [
    {
     "data": {
      "text/plain": [
       "<bound method BitMask.names of cmx_mask:\n",
       "  - [STD_GAIA,         0, \"Gaia stars used for dithering (and other) tests\", {'obsconditions': 'DARK|GRAY|BRIGHT', 'priorities': {'UNOBS': 2400, 'DONE': 2, 'OBS': 1, 'DONOTOBSERVE': 0, 'MORE_ZWARN': 2400, 'MORE_ZGOOD': 2400}, 'numobs': 1}]\n",
       "  - [SV0_STD_FAINT,    1, \"SV-like STD_FAINT class is set (very early SV selection)\", {'obsconditions': 'DARK|GRAY', 'priorities': {'UNOBS': 2600, 'DONE': 2, 'OBS': 1, 'DONOTOBSERVE': 0, 'MORE_ZWARN': 2600, 'MORE_ZGOOD': 2600}, 'numobs': 1}]\n",
       "  - [SV0_STD_BRIGHT,   2, \"SV-like STD_BRIGHT class is set (very early SV selection)\", {'obsconditions': 'BRIGHT', 'priorities': {'UNOBS': 2600, 'DONE': 2, 'OBS': 1, 'DONOTOBSERVE': 0, 'MORE_ZWARN': 2600, 'MORE_ZGOOD': 2600}, 'numobs': 1}]\n",
       "  - [STD_TEST,         3, \"Very bright stars for early tests\", {'obsconditions': 'DARK|GRAY|BRIGHT', 'priorities': {'UNOBS': 2800, 'DONE': 2, 'OBS': 1, 'DONOTOBSERVE': 0, 'MORE_ZWARN': 2800, 'MORE_ZGOOD': 2800}, 'numobs': 1}]\n",
       "  - [STD_CALSPEC,      4, \"Matches to CALSPEC stars\", {'obsconditions': 'DARK|GRAY|BRIGHT', 'priorities': {'UNOBS': 3000, 'DONE': 2, 'OBS': 1, 'DONOTOBSERVE': 0, 'MORE_ZWARN': 3000, 'MORE_ZGOOD': 3000}, 'numobs': 1}]\n",
       "  - [STD_DITHER,       5, \"Gaia stars specifically for dithering tests\", {'obsconditions': 'DARK|GRAY|BRIGHT', 'priorities': {'UNOBS': 2400, 'DONE': 2, 'OBS': 1, 'DONOTOBSERVE': 0, 'MORE_ZWARN': 2400, 'MORE_ZGOOD': 2400}, 'numobs': 1}]\n",
       "  - [SV0_BGS,          8, \"SV-like BGS bit is set (very early SV selection)\", {'obsconditions': 'BRIGHT', 'priorities': {'UNOBS': 2100, 'MORE_ZWARN': 2100, 'MORE_ZGOOD': 1000, 'DONE': 2, 'OBS': 1, 'DONOTOBSERVE': 0}, 'numobs': 1}]\n",
       "  - [SV0_MWS,          9, \"SV-like MWS bit is set (very early SV selection)\", {'obsconditions': 'BRIGHT', 'priorities': {'UNOBS': 1500, 'DONE': 2, 'OBS': 1, 'DONOTOBSERVE': 0, 'MORE_ZWARN': 1500, 'MORE_ZGOOD': 1500}, 'numobs': 1}]\n",
       "  - [SV0_LRG,         10, \"SV-like LRG bit is set (very early SV selection)\", {'obsconditions': 'DARK', 'priorities': {'UNOBS': 3200, 'DONE': 2, 'OBS': 1, 'DONOTOBSERVE': 0, 'MORE_ZWARN': 3200, 'MORE_ZGOOD': 3200}, 'numobs': 2}]\n",
       "  - [SV0_ELG,         11, \"SV-like ELG bit is set (very early SV selection)\", {'obsconditions': 'DARK|GRAY', 'priorities': {'UNOBS': 3000, 'DONE': 2, 'OBS': 1, 'DONOTOBSERVE': 0, 'MORE_ZWARN': 3000, 'MORE_ZGOOD': 3000}, 'numobs': 1}]\n",
       "  - [SV0_QSO,         12, \"SV-like QSO bit is set (very early SV/RF selection)\", {'obsconditions': 'DARK', 'priorities': {'UNOBS': 3400, 'MORE_ZGOOD': 3500, 'DONE': 2, 'OBS': 1, 'DONOTOBSERVE': 0, 'MORE_ZWARN': 3400}, 'numobs': 4}]\n",
       "  - [SV0_WD,          13, \"SV-like WD bit is set (very early MWS_WD selection)\", {'obsconditions': 'BRIGHT', 'priorities': {'UNOBS': 2998, 'DONE': 2, 'OBS': 1, 'DONOTOBSERVE': 0, 'MORE_ZWARN': 2998, 'MORE_ZGOOD': 2998}, 'numobs': 1}]\n",
       "  - [BACKUP_BRIGHT,   16, \"Bright Gaia targets for poor conditions\", {'obsconditions': 'POOR|TWILIGHT12|TWILIGHT18', 'priorities': {'UNOBS': 10, 'DONE': 10, 'OBS': 10, 'DONOTOBSERVE': 0, 'MORE_ZWARN': 10, 'MORE_ZGOOD': 10}, 'numobs': 1}]\n",
       "  - [BACKUP_FAINT,    17, \"Fainter Gaia targets for poor conditions\", {'obsconditions': 'POOR|TWILIGHT12|TWILIGHT18', 'priorities': {'UNOBS': 10, 'DONE': 10, 'OBS': 10, 'DONOTOBSERVE': 0, 'MORE_ZWARN': 10, 'MORE_ZGOOD': 10}, 'numobs': 1}]\n",
       "  - [M31_STD_BRIGHT,  18, \"M31 first light program\", {'obsconditions': 'DARK|GRAY|BRIGHT|POOR|TWILIGHT12|TWILIGHT18', 'priorities': {'UNOBS': 1008, 'DONE': 10, 'OBS': 10, 'DONOTOBSERVE': 0, 'MORE_ZWARN': 1008, 'MORE_ZGOOD': 1008}, 'numobs': 100}]\n",
       "  - [M31_H2PN,        19, \"M31 first light program\", {'obsconditions': 'DARK|GRAY|BRIGHT|POOR|TWILIGHT12|TWILIGHT18', 'priorities': {'UNOBS': 1007, 'DONE': 10, 'OBS': 10, 'DONOTOBSERVE': 0, 'MORE_ZWARN': 1007, 'MORE_ZGOOD': 1007}, 'numobs': 100}]\n",
       "  - [M31_GC,          20, \"M31 first light program\", {'obsconditions': 'DARK|GRAY|BRIGHT|POOR|TWILIGHT12|TWILIGHT18', 'priorities': {'UNOBS': 1006, 'DONE': 10, 'OBS': 10, 'DONOTOBSERVE': 0, 'MORE_ZWARN': 1006, 'MORE_ZGOOD': 1006}, 'numobs': 100}]\n",
       "  - [M31_QSO,         21, \"M31 first light program\", {'obsconditions': 'DARK|GRAY|BRIGHT|POOR|TWILIGHT12|TWILIGHT18', 'priorities': {'UNOBS': 1005, 'DONE': 10, 'OBS': 10, 'DONOTOBSERVE': 0, 'MORE_ZWARN': 1005, 'MORE_ZGOOD': 1005}, 'numobs': 100}]\n",
       "  - [M31_VAR,         22, \"M31 first light program\", {'obsconditions': 'DARK|GRAY|BRIGHT|POOR|TWILIGHT12|TWILIGHT18', 'priorities': {'UNOBS': 1004, 'DONE': 10, 'OBS': 10, 'DONOTOBSERVE': 0, 'MORE_ZWARN': 1004, 'MORE_ZGOOD': 1004}, 'numobs': 100}]\n",
       "  - [M31_BSPL,        23, \"M31 first light program\", {'obsconditions': 'DARK|GRAY|BRIGHT|POOR|TWILIGHT12|TWILIGHT18', 'priorities': {'UNOBS': 1003, 'DONE': 10, 'OBS': 10, 'DONOTOBSERVE': 0, 'MORE_ZWARN': 1003, 'MORE_ZGOOD': 1003}, 'numobs': 100}]\n",
       "  - [M31_M31cen,      24, \"M31 first light program\", {'obsconditions': 'DARK|GRAY|BRIGHT|POOR|TWILIGHT12|TWILIGHT18', 'priorities': {'UNOBS': 1002, 'DONE': 10, 'OBS': 10, 'DONOTOBSERVE': 0, 'MORE_ZWARN': 1002, 'MORE_ZGOOD': 1002}, 'numobs': 100}]\n",
       "  - [M31_M31out,      25, \"M31 first light program\", {'obsconditions': 'DARK|GRAY|BRIGHT|POOR|TWILIGHT12|TWILIGHT18', 'priorities': {'UNOBS': 1001, 'DONE': 10, 'OBS': 10, 'DONOTOBSERVE': 0, 'MORE_ZWARN': 1001, 'MORE_ZGOOD': 1001}, 'numobs': 100}]\n",
       "  - [ORI_STD_BRIGHT,  26, \"Orion first light program\", {'obsconditions': 'DARK|GRAY|BRIGHT|POOR|TWILIGHT12|TWILIGHT18', 'priorities': {'UNOBS': 1008, 'DONE': 10, 'OBS': 10, 'DONOTOBSERVE': 0, 'MORE_ZWARN': 1008, 'MORE_ZGOOD': 1008}, 'numobs': 100}]\n",
       "  - [ORI_QSO,         27, \"Orion first light program\", {'obsconditions': 'DARK|GRAY|BRIGHT|POOR|TWILIGHT12|TWILIGHT18', 'priorities': {'UNOBS': 1005, 'DONE': 10, 'OBS': 10, 'DONOTOBSERVE': 0, 'MORE_ZWARN': 1005, 'MORE_ZGOOD': 1005}, 'numobs': 100}]\n",
       "  - [ORI_ORI,         28, \"Orion first light program\", {'obsconditions': 'DARK|GRAY|BRIGHT|POOR|TWILIGHT12|TWILIGHT18', 'priorities': {'UNOBS': 1003, 'DONE': 10, 'OBS': 10, 'DONOTOBSERVE': 0, 'MORE_ZWARN': 1003, 'MORE_ZGOOD': 1003}, 'numobs': 100}]\n",
       "  - [ORI_HA,          29, \"Orion first light program\", {'obsconditions': 'DARK|GRAY|BRIGHT|POOR|TWILIGHT12|TWILIGHT18', 'priorities': {'UNOBS': 1002, 'DONE': 10, 'OBS': 10, 'DONOTOBSERVE': 0, 'MORE_ZWARN': 1002, 'MORE_ZGOOD': 1002}, 'numobs': 100}]\n",
       "  - [ROS_STD_BRIGHT,  30, \"Rosette first light program\", {'obsconditions': 'DARK|GRAY|BRIGHT|POOR|TWILIGHT12|TWILIGHT18', 'priorities': {'UNOBS': 1008, 'DONE': 10, 'OBS': 10, 'DONOTOBSERVE': 0, 'MORE_ZWARN': 1008, 'MORE_ZGOOD': 1008}, 'numobs': 100}]\n",
       "  - [ROS_QSO,         31, \"Rosette first light program\", {'obsconditions': 'DARK|GRAY|BRIGHT|POOR|TWILIGHT12|TWILIGHT18', 'priorities': {'UNOBS': 1005, 'DONE': 10, 'OBS': 10, 'DONOTOBSERVE': 0, 'MORE_ZWARN': 1005, 'MORE_ZGOOD': 1005}, 'numobs': 100}]\n",
       "  - [SKY,             32, \"Blank sky locations\", {'obsconditions': 'DARK|GRAY|BRIGHT|POOR|TWILIGHT12|TWILIGHT18', 'priorities': {}, 'numobs': -1}]\n",
       "  - [STD_FAINT,       33, \"SV-like standard stars for dark/gray conditions\", {'obsconditions': 'DARK|GRAY', 'priorities': {}, 'numobs': -1}]\n",
       "  - [STD_BRIGHT,      35, \"SV-like standard stars for BRIGHT conditions\", {'obsconditions': 'BRIGHT', 'priorities': {}, 'numobs': -1}]\n",
       "  - [BAD_SKY,         36, \"Blank sky locations that are imperfect but still useable\", {'obsconditions': 'DARK|GRAY|BRIGHT|POOR|TWILIGHT12|TWILIGHT18', 'priorities': {'UNOBS': 0, 'OBS': 0, 'DONE': 0, 'MORE_ZWARN': 0, 'MORE_ZGOOD': 0, 'DONOTOBSERVE': 1}, 'numobs': 0}]\n",
       "  - [SUPP_SKY,        37, \"SKY is based on Gaia-avoidance (SKY will be set, too)\", {'obsconditions': 'DARK|GRAY|BRIGHT|POOR|TWILIGHT12|TWILIGHT18', 'priorities': {}, 'numobs': -1}]\n",
       "  - [ROS_ROSM17,      38, \"Rosette first light program\", {'obsconditions': 'DARK|GRAY|BRIGHT|POOR|TWILIGHT12|TWILIGHT18', 'priorities': {'UNOBS': 1004, 'DONE': 10, 'OBS': 10, 'DONOTOBSERVE': 0, 'MORE_ZWARN': 1004, 'MORE_ZGOOD': 1004}, 'numobs': 100}]\n",
       "  - [ROS_ROS1,        39, \"Rosette first light program\", {'obsconditions': 'DARK|GRAY|BRIGHT|POOR|TWILIGHT12|TWILIGHT18', 'priorities': {'UNOBS': 1003, 'DONE': 10, 'OBS': 10, 'DONOTOBSERVE': 0, 'MORE_ZWARN': 1003, 'MORE_ZGOOD': 1003}, 'numobs': 100}]\n",
       "  - [ROS_HA,          40, \"Rosette first light program\", {'obsconditions': 'DARK|GRAY|BRIGHT|POOR|TWILIGHT12|TWILIGHT18', 'priorities': {'UNOBS': 1002, 'DONE': 10, 'OBS': 10, 'DONOTOBSERVE': 0, 'MORE_ZWARN': 1002, 'MORE_ZGOOD': 1002}, 'numobs': 100}]\n",
       "  - [ROS_ROS2,        41, \"Rosette first light program\", {'obsconditions': 'DARK|GRAY|BRIGHT|POOR|TWILIGHT12|TWILIGHT18', 'priorities': {'UNOBS': 1001, 'DONE': 10, 'OBS': 10, 'DONOTOBSERVE': 0, 'MORE_ZWARN': 1001, 'MORE_ZGOOD': 1001}, 'numobs': 100}]\n",
       "  - [M33_STD_BRIGHT,  42, \"M33 first light program\", {'obsconditions': 'DARK|GRAY|BRIGHT|POOR|TWILIGHT12|TWILIGHT18', 'priorities': {'UNOBS': 1008, 'DONE': 10, 'OBS': 10, 'DONOTOBSERVE': 0, 'MORE_ZWARN': 1008, 'MORE_ZGOOD': 1008}, 'numobs': 100}]\n",
       "  - [M33_H2PN,        43, \"M33 first light program\", {'obsconditions': 'DARK|GRAY|BRIGHT|POOR|TWILIGHT12|TWILIGHT18', 'priorities': {'UNOBS': 1007, 'DONE': 10, 'OBS': 10, 'DONOTOBSERVE': 0, 'MORE_ZWARN': 1007, 'MORE_ZGOOD': 1007}, 'numobs': 100}]\n",
       "  - [M33_GC,          44, \"M33 first light program\", {'obsconditions': 'DARK|GRAY|BRIGHT|POOR|TWILIGHT12|TWILIGHT18', 'priorities': {'UNOBS': 1006, 'DONE': 10, 'OBS': 10, 'DONOTOBSERVE': 0, 'MORE_ZWARN': 1006, 'MORE_ZGOOD': 1006}, 'numobs': 100}]\n",
       "  - [M33_QSO,         45, \"M33 first light program\", {'obsconditions': 'DARK|GRAY|BRIGHT|POOR|TWILIGHT12|TWILIGHT18', 'priorities': {'UNOBS': 1005, 'DONE': 10, 'OBS': 10, 'DONOTOBSERVE': 0, 'MORE_ZWARN': 1005, 'MORE_ZGOOD': 1005}, 'numobs': 100}]\n",
       "  - [M33_M33cen,      46, \"M33 first light program\", {'obsconditions': 'DARK|GRAY|BRIGHT|POOR|TWILIGHT12|TWILIGHT18', 'priorities': {'UNOBS': 1002, 'DONE': 10, 'OBS': 10, 'DONOTOBSERVE': 0, 'MORE_ZWARN': 1002, 'MORE_ZGOOD': 1002}, 'numobs': 100}]\n",
       "  - [M33_M33out,      47, \"M33 first light program\", {'obsconditions': 'DARK|GRAY|BRIGHT|POOR|TWILIGHT12|TWILIGHT18', 'priorities': {'UNOBS': 1001, 'DONE': 10, 'OBS': 10, 'DONOTOBSERVE': 0, 'MORE_ZWARN': 1001, 'MORE_ZGOOD': 1001}, 'numobs': 100}]\n",
       "  - [MINI_SV_LRG,     53, \"LRGs for Mini SV tests (NORTH+SOUTH with noresolve)\", {'obsconditions': 'DARK|GRAY|BRIGHT|POOR|TWILIGHT12|TWILIGHT18', 'priorities': {'UNOBS': 3410, 'DONE': 2, 'OBS': 1, 'DONOTOBSERVE': 0, 'MORE_ZWARN': 3410, 'MORE_ZGOOD': 3410}, 'numobs': 2}]\n",
       "  - [MINI_SV_ELG,     54, \"ELGs for Mini SV tests (NORTH+SOUTH with noresolve)\", {'obsconditions': 'DARK|GRAY|BRIGHT|POOR|TWILIGHT12|TWILIGHT18', 'priorities': {'UNOBS': 3001, 'DONE': 2, 'OBS': 1, 'DONOTOBSERVE': 0, 'MORE_ZWARN': 3001, 'MORE_ZGOOD': 3001}, 'numobs': 1}]\n",
       "  - [MINI_SV_QSO,     55, \"QSOs (RF) for Mini SV tests (NORTH+SOUTH with noresolve)\", {'obsconditions': 'DARK|GRAY|BRIGHT|POOR|TWILIGHT12|TWILIGHT18', 'priorities': {'UNOBS': 3420, 'DONE': 2, 'OBS': 1, 'DONOTOBSERVE': 0, 'MORE_ZWARN': 3420, 'MORE_ZGOOD': 3420}, 'numobs': 4}]\n",
       "  - [MINI_SV_BGS_BRIGHT, 56, \"BGS (bright) for Mini SV tests (NORTH+SOUTH with noresolve)\", {'obsconditions': 'DARK|GRAY|BRIGHT|POOR|TWILIGHT12|TWILIGHT18', 'priorities': {'UNOBS': 2101, 'DONE': 2, 'OBS': 1, 'DONOTOBSERVE': 0, 'MORE_ZWARN': 2101, 'MORE_ZGOOD': 2101}, 'numobs': 1}]>"
      ]
     },
     "execution_count": 6,
     "metadata": {},
     "output_type": "execute_result"
    }
   ],
   "source": [
    "cmx_targetmask.cmx_mask.names"
   ]
  },
  {
   "cell_type": "code",
   "execution_count": 46,
   "metadata": {},
   "outputs": [
    {
     "data": {
      "text/html": [
       "&lt;Table length=304052&gt;\n",
       "<table id=\"table46913304860208\" class=\"table-striped table-bordered table-condensed\">\n",
       "<thead><tr><th>TARGETID</th><th>PETAL_LOC</th><th>DEVICE_LOC</th><th>LOCATION</th><th>FIBER</th><th>FIBERSTATUS</th><th>RA</th><th>DEC</th><th>PMRA</th><th>PMDEC</th><th>PMRA_IVAR</th><th>PMDEC_IVAR</th><th>REF_EPOCH</th><th>LAMBDA_REF</th><th>FA_TARGET</th><th>FA_TYPE</th><th>OBJTYPE</th><th>FIBERASSIGN_X</th><th>FIBERASSIGN_Y</th><th>NUMTARGET</th><th>PRIORITY</th><th>SUBPRIORITY</th><th>OBSCONDITIONS</th><th>NUMOBS_MORE</th><th>RELEASE</th><th>BRICKID</th><th>BRICKNAME</th><th>BRICK_OBJID</th><th>MORPHTYPE</th><th>RA_IVAR</th><th>DEC_IVAR</th><th>EBV</th><th>FLUX_G</th><th>FLUX_R</th><th>FLUX_Z</th><th>FLUX_IVAR_G</th><th>FLUX_IVAR_R</th><th>FLUX_IVAR_Z</th><th>MW_TRANSMISSION_G</th><th>MW_TRANSMISSION_R</th><th>MW_TRANSMISSION_Z</th><th>FRACFLUX_G</th><th>FRACFLUX_R</th><th>FRACFLUX_Z</th><th>FRACMASKED_G</th><th>FRACMASKED_R</th><th>FRACMASKED_Z</th><th>FRACIN_G</th><th>FRACIN_R</th><th>FRACIN_Z</th><th>NOBS_G</th><th>NOBS_R</th><th>NOBS_Z</th><th>PSFDEPTH_G</th><th>PSFDEPTH_R</th><th>PSFDEPTH_Z</th><th>GALDEPTH_G</th><th>GALDEPTH_R</th><th>GALDEPTH_Z</th><th>FLUX_W1</th><th>FLUX_W2</th><th>FLUX_W3</th><th>FLUX_W4</th><th>FLUX_IVAR_W1</th><th>FLUX_IVAR_W2</th><th>FLUX_IVAR_W3</th><th>FLUX_IVAR_W4</th><th>MW_TRANSMISSION_W1</th><th>MW_TRANSMISSION_W2</th><th>MW_TRANSMISSION_W3</th><th>MW_TRANSMISSION_W4</th><th>ALLMASK_G</th><th>ALLMASK_R</th><th>ALLMASK_Z</th><th>APFLUX_G</th><th>APFLUX_R</th><th>APFLUX_Z</th><th>FIBERTOTFLUX_G</th><th>FIBERTOTFLUX_R</th><th>FIBERTOTFLUX_Z</th><th>WISEMASK_W1</th><th>WISEMASK_W2</th><th>MASKBITS</th><th>FRACDEV</th><th>FRACDEV_IVAR</th><th>SHAPEDEV_R</th><th>SHAPEDEV_E1</th><th>SHAPEDEV_E2</th><th>SHAPEDEV_R_IVAR</th><th>SHAPEDEV_E1_IVAR</th><th>SHAPEDEV_E2_IVAR</th><th>SHAPEEXP_R</th><th>SHAPEEXP_E1</th><th>SHAPEEXP_E2</th><th>SHAPEEXP_R_IVAR</th><th>SHAPEEXP_E1_IVAR</th><th>SHAPEEXP_E2_IVAR</th><th>REF_ID</th><th>REF_CAT</th><th>GAIA_PHOT_G_MEAN_MAG</th><th>GAIA_PHOT_G_MEAN_FLUX_OVER_ERROR</th><th>GAIA_PHOT_BP_MEAN_MAG</th><th>GAIA_PHOT_BP_MEAN_FLUX_OVER_ERROR</th><th>GAIA_PHOT_RP_MEAN_MAG</th><th>GAIA_PHOT_RP_MEAN_FLUX_OVER_ERROR</th><th>GAIA_PHOT_BP_RP_EXCESS_FACTOR</th><th>GAIA_ASTROMETRIC_EXCESS_NOISE</th><th>GAIA_DUPLICATED_SOURCE</th><th>GAIA_ASTROMETRIC_SIGMA5D_MAX</th><th>GAIA_ASTROMETRIC_PARAMS_SOLVED</th><th>PARALLAX</th><th>PARALLAX_IVAR</th><th>PHOTSYS</th><th>CMX_TARGET</th><th>PRIORITY_INIT</th><th>NUMOBS_INIT</th><th>HPXPIXEL</th><th>BLOBDIST</th><th>APFLUX_IVAR_G</th><th>APFLUX_IVAR_R</th><th>APFLUX_IVAR_Z</th><th>DESI_TARGET</th><th>BGS_TARGET</th><th>MWS_TARGET</th></tr></thead>\n",
       "<thead><tr><th>int64</th><th>int16</th><th>int32</th><th>int32</th><th>int32</th><th>int32</th><th>float64</th><th>float64</th><th>float32</th><th>float32</th><th>float32</th><th>float32</th><th>float32</th><th>float32</th><th>int64</th><th>uint8</th><th>bytes3</th><th>float32</th><th>float32</th><th>int16</th><th>int32</th><th>float64</th><th>int32</th><th>int32</th><th>int16</th><th>int32</th><th>bytes8</th><th>int32</th><th>bytes4</th><th>float32</th><th>float32</th><th>float32</th><th>float32</th><th>float32</th><th>float32</th><th>float32</th><th>float32</th><th>float32</th><th>float32</th><th>float32</th><th>float32</th><th>float32</th><th>float32</th><th>float32</th><th>float32</th><th>float32</th><th>float32</th><th>float32</th><th>float32</th><th>float32</th><th>int16</th><th>int16</th><th>int16</th><th>float32</th><th>float32</th><th>float32</th><th>float32</th><th>float32</th><th>float32</th><th>float32</th><th>float32</th><th>float32</th><th>float32</th><th>float32</th><th>float32</th><th>float32</th><th>float32</th><th>float32</th><th>float32</th><th>float32</th><th>float32</th><th>int16</th><th>int16</th><th>int16</th><th>float32</th><th>float32</th><th>float32</th><th>float32</th><th>float32</th><th>float32</th><th>uint8</th><th>uint8</th><th>int16</th><th>float32</th><th>float32</th><th>float32</th><th>float32</th><th>float32</th><th>float32</th><th>float32</th><th>float32</th><th>float32</th><th>float32</th><th>float32</th><th>float32</th><th>float32</th><th>float32</th><th>int64</th><th>bytes2</th><th>float32</th><th>float32</th><th>float32</th><th>float32</th><th>float32</th><th>float32</th><th>float32</th><th>float32</th><th>bool</th><th>float32</th><th>bool</th><th>float32</th><th>float32</th><th>bytes1</th><th>int64</th><th>int64</th><th>int64</th><th>int64</th><th>float32</th><th>float32</th><th>float32</th><th>float32</th><th>int64</th><th>int64</th><th>int64</th></tr></thead>\n",
       "<tr><td>35186400924010376</td><td>0</td><td>0</td><td>0</td><td>0</td><td>0</td><td>194.33371647542222</td><td>27.508814917585248</td><td>0.0</td><td>0.0</td><td>0.0</td><td>0.0</td><td>0.0</td><td>0.0</td><td>256</td><td>1</td><td></td><td>0.0</td><td>0.0</td><td>0</td><td>1000</td><td>0.7217426912509124</td><td>65535</td><td>100</td><td>8000</td><td>483712</td><td>1942p275</td><td>1928</td><td>EXP</td><td>129725300000.0</td><td>154789350000.0</td><td>0.009873505</td><td>3.1646953</td><td>7.4096556</td><td>12.212724</td><td>405.289</td><td>123.27751</td><td>43.058266</td><td>0.9711954</td><td>0.9805044</td><td>0.98904777</td><td>0.023672057</td><td>0.02024448</td><td>0.025245855</td><td>0.0022023364</td><td>0.0022634498</td><td>0.0050774817</td><td>0.9999999</td><td>1.0000001</td><td>1.0</td><td>3</td><td>3</td><td>6</td><td>1495.0381</td><td>459.76407</td><td>124.187836</td><td>875.8091</td><td>273.3733</td><td>77.28175</td><td>1.0167786</td><td>-0.038940713</td><td>-4.053163</td><td>280.78128</td><td>3.0341575</td><td>0.55383795</td><td>0.00092371076</td><td>1.33899475e-05</td><td>0.99832815</td><td>0.99897295</td><td>0.99978083</td><td>0.99991727</td><td>0</td><td>0</td><td>0</td><td>1.0822287</td><td>2.5338745</td><td>4.1763763</td><td>1.0925688</td><td>2.555734</td><td>4.2156534</td><td>0</td><td>0</td><td>0</td><td>0.0</td><td>0.0</td><td>0.0</td><td>0.0</td><td>0.0</td><td>0.0</td><td>0.0</td><td>0.0</td><td>0.9883999</td><td>-0.13111106</td><td>0.13832003</td><td>9402.857</td><td>7418.7197</td><td>8739.315</td><td>0</td><td></td><td>0.0</td><td>0.0</td><td>0.0</td><td>0.0</td><td>0.0</td><td>0.0</td><td>0.0</td><td>0.0</td><td>False</td><td>0.0</td><td>False</td><td>0.0</td><td>0.0</td><td>S</td><td>256</td><td>2100</td><td>1</td><td>10378</td><td>0.0</td><td>0.0</td><td>0.0</td><td>0.0</td><td>0</td><td>0</td><td>0</td></tr>\n",
       "<tr><td>35186400924010379</td><td>0</td><td>0</td><td>0</td><td>0</td><td>0</td><td>194.31805912346564</td><td>27.495863196141933</td><td>0.0</td><td>0.0</td><td>0.0</td><td>0.0</td><td>0.0</td><td>0.0</td><td>256</td><td>1</td><td></td><td>0.0</td><td>0.0</td><td>0</td><td>1000</td><td>0.9019665766625404</td><td>65535</td><td>100</td><td>8000</td><td>483712</td><td>1942p275</td><td>1931</td><td>DEV</td><td>90101470000.0</td><td>77832360000.0</td><td>0.010146813</td><td>3.468745</td><td>7.6949883</td><td>12.411651</td><td>222.33228</td><td>70.28748</td><td>21.73289</td><td>0.97041</td><td>0.97997016</td><td>0.98874635</td><td>0.08139975</td><td>0.063476816</td><td>0.07527111</td><td>0.019359434</td><td>0.018969528</td><td>0.021830292</td><td>0.9793659</td><td>0.9940673</td><td>0.99989146</td><td>4</td><td>4</td><td>7</td><td>1791.158</td><td>662.15546</td><td>170.57309</td><td>1090.358</td><td>380.98737</td><td>100.896614</td><td>12.966125</td><td>7.8561</td><td>-35.870777</td><td>1000.19794</td><td>1.9979228</td><td>0.3849007</td><td>0.0007351256</td><td>1.1296803e-05</td><td>0.9982819</td><td>0.9989445</td><td>0.9997748</td><td>0.99991494</td><td>0</td><td>0</td><td>0</td><td>0.74771243</td><td>1.658709</td><td>2.6754189</td><td>0.756242</td><td>1.6783185</td><td>2.707832</td><td>0</td><td>0</td><td>0</td><td>1.0</td><td>1.0</td><td>2.0108962</td><td>0.005308477</td><td>-0.104149476</td><td>1017.4095</td><td>2345.4653</td><td>5894.774</td><td>0.0</td><td>0.0</td><td>0.0</td><td>0.0</td><td>0.0</td><td>0.0</td><td>0</td><td></td><td>0.0</td><td>0.0</td><td>0.0</td><td>0.0</td><td>0.0</td><td>0.0</td><td>0.0</td><td>0.0</td><td>False</td><td>0.0</td><td>False</td><td>0.0</td><td>0.0</td><td>S</td><td>256</td><td>2100</td><td>1</td><td>10378</td><td>0.0</td><td>0.0</td><td>0.0</td><td>0.0</td><td>0</td><td>0</td><td>0</td></tr>\n",
       "<tr><td>35186400924010392</td><td>0</td><td>0</td><td>0</td><td>0</td><td>0</td><td>194.33569185847227</td><td>27.504011182952915</td><td>0.0</td><td>0.0</td><td>0.0</td><td>0.0</td><td>0.0</td><td>0.0</td><td>1280</td><td>1</td><td></td><td>0.0</td><td>0.0</td><td>0</td><td>1000</td><td>0.9463396410120025</td><td>65535</td><td>100</td><td>8000</td><td>483712</td><td>1942p275</td><td>1944</td><td>EXP</td><td>390793630.0</td><td>429921180.0</td><td>0.010000528</td><td>16.773026</td><td>33.303173</td><td>60.165146</td><td>3.9120617</td><td>1.1751076</td><td>0.40696004</td><td>0.9708303</td><td>0.9802561</td><td>0.9889077</td><td>1.5386943</td><td>2.3227203</td><td>1.8030468</td><td>0.07244532</td><td>0.07385191</td><td>0.075604126</td><td>0.60518104</td><td>0.50652117</td><td>0.6775464</td><td>3</td><td>3</td><td>6</td><td>1495.0381</td><td>459.76407</td><td>124.187836</td><td>875.8091</td><td>273.3733</td><td>77.28175</td><td>131.97247</td><td>117.04682</td><td>417.25073</td><td>-3240.739</td><td>0.22784995</td><td>0.047700975</td><td>0.0001428585</td><td>4.1582293e-06</td><td>0.99830663</td><td>0.9989597</td><td>0.99977803</td><td>0.9999162</td><td>0</td><td>0</td><td>0</td><td>0.074826024</td><td>0.14856856</td><td>0.2684023</td><td>0.095761605</td><td>0.19967479</td><td>0.36323154</td><td>0</td><td>0</td><td>0</td><td>0.0</td><td>0.0</td><td>0.0</td><td>0.0</td><td>0.0</td><td>0.0</td><td>0.0</td><td>0.0</td><td>13.8336</td><td>-0.023280947</td><td>-0.073330395</td><td>36.288204</td><td>3017.2964</td><td>7914.3843</td><td>0</td><td></td><td>0.0</td><td>0.0</td><td>0.0</td><td>0.0</td><td>0.0</td><td>0.0</td><td>0.0</td><td>0.0</td><td>False</td><td>0.0</td><td>False</td><td>0.0</td><td>0.0</td><td>S</td><td>1280</td><td>3200</td><td>2</td><td>10378</td><td>0.0</td><td>0.0</td><td>0.0</td><td>0.0</td><td>0</td><td>0</td><td>0</td></tr>\n",
       "<tr><td>35186400924010396</td><td>0</td><td>0</td><td>0</td><td>0</td><td>0</td><td>194.3417777067651</td><td>27.505416212018037</td><td>0.0</td><td>0.0</td><td>0.0</td><td>0.0</td><td>0.0</td><td>0.0</td><td>256</td><td>1</td><td></td><td>0.0</td><td>0.0</td><td>0</td><td>1000</td><td>0.6757461083132498</td><td>65535</td><td>100</td><td>8000</td><td>483712</td><td>1942p275</td><td>1948</td><td>EXP</td><td>238551800.0</td><td>181244510.0</td><td>0.009949897</td><td>10.339374</td><td>24.986853</td><td>42.38019</td><td>3.9704912</td><td>1.1885846</td><td>0.42050773</td><td>0.9709758</td><td>0.980355</td><td>0.98896354</td><td>3.2319193</td><td>3.3398802</td><td>2.5882728</td><td>0.06679974</td><td>0.067647494</td><td>0.0637834</td><td>0.59795624</td><td>0.50024027</td><td>0.66635495</td><td>3</td><td>3</td><td>6</td><td>1495.0381</td><td>459.76407</td><td>124.187836</td><td>875.8091</td><td>273.3733</td><td>77.28175</td><td>452.11957</td><td>219.3692</td><td>422.81476</td><td>-447.77487</td><td>0.23494375</td><td>0.049587872</td><td>0.00014310636</td><td>4.343864e-06</td><td>0.9983152</td><td>0.99896497</td><td>0.99977916</td><td>0.9999166</td><td>0</td><td>0</td><td>0</td><td>0.047637448</td><td>0.115123995</td><td>0.19526176</td><td>0.06717156</td><td>0.16106409</td><td>0.27474248</td><td>0</td><td>0</td><td>0</td><td>0.0</td><td>0.0</td><td>0.0</td><td>0.0</td><td>0.0</td><td>0.0</td><td>0.0</td><td>0.0</td><td>13.624</td><td>0.06913265</td><td>-0.037329946</td><td>16.266779</td><td>3713.7056</td><td>1869.7561</td><td>0</td><td></td><td>0.0</td><td>0.0</td><td>0.0</td><td>0.0</td><td>0.0</td><td>0.0</td><td>0.0</td><td>0.0</td><td>False</td><td>0.0</td><td>False</td><td>0.0</td><td>0.0</td><td>S</td><td>256</td><td>2100</td><td>1</td><td>10378</td><td>0.0</td><td>0.0</td><td>0.0</td><td>0.0</td><td>0</td><td>0</td><td>0</td></tr>\n",
       "<tr><td>35186400924010408</td><td>0</td><td>0</td><td>0</td><td>0</td><td>0</td><td>194.33871659507963</td><td>27.504839185879188</td><td>0.0</td><td>0.0</td><td>0.0</td><td>0.0</td><td>0.0</td><td>0.0</td><td>256</td><td>1</td><td></td><td>0.0</td><td>0.0</td><td>0</td><td>1000</td><td>0.589541311152624</td><td>65535</td><td>100</td><td>8000</td><td>483712</td><td>1942p275</td><td>1960</td><td>EXP</td><td>202364200.0</td><td>101095660.0</td><td>0.0099723</td><td>6.1208587</td><td>15.389451</td><td>25.709618</td><td>5.4400463</td><td>1.6311834</td><td>0.56906086</td><td>0.97091144</td><td>0.9803113</td><td>0.9889388</td><td>3.8564625</td><td>3.5610588</td><td>3.6380475</td><td>0.06081847</td><td>0.06087594</td><td>0.05953234</td><td>0.6047373</td><td>0.50513446</td><td>0.6743653</td><td>3</td><td>3</td><td>6</td><td>1495.0381</td><td>459.76407</td><td>124.187836</td><td>875.8091</td><td>273.3733</td><td>77.28175</td><td>-539.2198</td><td>-320.8111</td><td>-132.84221</td><td>-571.5197</td><td>0.298262</td><td>0.0628073</td><td>0.00017306615</td><td>4.907596e-06</td><td>0.9983114</td><td>0.99896264</td><td>0.9997787</td><td>0.99991643</td><td>0</td><td>0</td><td>0</td><td>0.037433088</td><td>0.09411664</td><td>0.15723126</td><td>0.0753665</td><td>0.17716631</td><td>0.30706394</td><td>0</td><td>0</td><td>0</td><td>0.0</td><td>0.0</td><td>0.0</td><td>0.0</td><td>0.0</td><td>0.0</td><td>0.0</td><td>0.0</td><td>13.624</td><td>0.17788124</td><td>0.13926832</td><td>8.194714</td><td>1772.412</td><td>1373.4275</td><td>0</td><td></td><td>0.0</td><td>0.0</td><td>0.0</td><td>0.0</td><td>0.0</td><td>0.0</td><td>0.0</td><td>0.0</td><td>False</td><td>0.0</td><td>False</td><td>0.0</td><td>0.0</td><td>S</td><td>256</td><td>2100</td><td>1</td><td>10378</td><td>0.0</td><td>0.0</td><td>0.0</td><td>0.0</td><td>0</td><td>0</td><td>0</td></tr>\n",
       "<tr><td>35186400924010424</td><td>0</td><td>0</td><td>0</td><td>0</td><td>0</td><td>194.3434937531869</td><td>27.50781187735242</td><td>0.0</td><td>0.0</td><td>0.0</td><td>0.0</td><td>0.0</td><td>0.0</td><td>256</td><td>1</td><td></td><td>0.0</td><td>0.0</td><td>0</td><td>1000</td><td>0.3800381066628725</td><td>65535</td><td>100</td><td>8000</td><td>483712</td><td>1942p275</td><td>1976</td><td>REX</td><td>110582720.0</td><td>110397930.0</td><td>0.00989234</td><td>2.7849996</td><td>7.24902</td><td>12.112059</td><td>10.62435</td><td>3.1971192</td><td>1.10194</td><td>0.9711413</td><td>0.98046756</td><td>0.989027</td><td>4.1208115</td><td>4.0482306</td><td>3.747746</td><td>0.04274574</td><td>0.04187804</td><td>0.043465037</td><td>0.5993045</td><td>0.4998149</td><td>0.6657076</td><td>3</td><td>3</td><td>6</td><td>1495.0381</td><td>459.76407</td><td>124.187836</td><td>875.8091</td><td>273.3733</td><td>77.28175</td><td>-311.14417</td><td>-191.1411</td><td>-99.917595</td><td>677.4398</td><td>0.5130336</td><td>0.10651119</td><td>0.00027234698</td><td>6.4523115e-06</td><td>0.99832493</td><td>0.998971</td><td>0.9997804</td><td>0.9999171</td><td>0</td><td>0</td><td>0</td><td>0.031929288</td><td>0.08310811</td><td>0.13886157</td><td>0.05991873</td><td>0.14800586</td><td>0.24925281</td><td>0</td><td>0</td><td>0</td><td>0.0</td><td>0.0</td><td>0.0</td><td>0.0</td><td>0.0</td><td>0.0</td><td>0.0</td><td>0.0</td><td>7.7552</td><td>0.0</td><td>0.0</td><td>9.8432255</td><td>0.0</td><td>0.0</td><td>0</td><td></td><td>0.0</td><td>0.0</td><td>0.0</td><td>0.0</td><td>0.0</td><td>0.0</td><td>0.0</td><td>0.0</td><td>False</td><td>0.0</td><td>False</td><td>0.0</td><td>0.0</td><td>S</td><td>256</td><td>2100</td><td>1</td><td>10378</td><td>0.0</td><td>0.0</td><td>0.0</td><td>0.0</td><td>0</td><td>0</td><td>0</td></tr>\n",
       "<tr><td>35186400924011038</td><td>0</td><td>0</td><td>0</td><td>0</td><td>0</td><td>194.29429646645178</td><td>27.501702258947358</td><td>-0.47086704</td><td>-1.2106559</td><td>11.326381</td><td>22.643738</td><td>2015.5</td><td>0.0</td><td>545</td><td>1</td><td></td><td>0.0</td><td>0.0</td><td>0</td><td>1000</td><td>0.2059399581312461</td><td>65535</td><td>100</td><td>8000</td><td>483712</td><td>1942p275</td><td>2590</td><td>PSF</td><td>495588860000000.0</td><td>904795300000000.0</td><td>0.0098292995</td><td>46.027557</td><td>43.5261</td><td>37.856865</td><td>202.14233</td><td>105.123764</td><td>91.133514</td><td>0.97132254</td><td>0.9805908</td><td>0.9890965</td><td>0.0</td><td>0.0</td><td>0.0</td><td>0.004237328</td><td>0.0045576436</td><td>0.015100015</td><td>0.9985049</td><td>0.9987881</td><td>0.854488</td><td>3</td><td>3</td><td>6</td><td>1495.0381</td><td>459.76407</td><td>124.187836</td><td>875.8091</td><td>273.3733</td><td>77.28175</td><td>5.093471</td><td>3.1303709</td><td>21.43273</td><td>729.93494</td><td>3.5129797</td><td>0.64591664</td><td>0.001136607</td><td>1.402216e-05</td><td>0.9983356</td><td>0.99897754</td><td>0.99978185</td><td>0.9999176</td><td>0</td><td>0</td><td>0</td><td>35.829792</td><td>33.882553</td><td>29.469381</td><td>35.82981</td><td>33.882587</td><td>29.469433</td><td>0</td><td>0</td><td>0</td><td>0.0</td><td>0.0</td><td>0.0</td><td>0.0</td><td>0.0</td><td>0.0</td><td>0.0</td><td>0.0</td><td>0.0</td><td>0.0</td><td>0.0</td><td>0.0</td><td>0.0</td><td>0.0</td><td>1463679259104220544</td><td>G2</td><td>18.343994</td><td>635.5492</td><td>18.432081</td><td>104.456</td><td>18.188269</td><td>95.33127</td><td>1.1677568</td><td>0.0</td><td>False</td><td>0.28318173</td><td>True</td><td>-0.51987934</td><td>20.653206</td><td>S</td><td>545</td><td>2465</td><td>1</td><td>10400</td><td>0.0</td><td>0.0</td><td>0.0</td><td>0.0</td><td>0</td><td>0</td><td>0</td></tr>\n",
       "<tr><td>35186400924011153</td><td>0</td><td>0</td><td>0</td><td>0</td><td>0</td><td>194.28680063178155</td><td>27.507341873419247</td><td>0.0</td><td>0.0</td><td>0.0</td><td>0.0</td><td>0.0</td><td>0.0</td><td>256</td><td>1</td><td></td><td>0.0</td><td>0.0</td><td>0</td><td>1000</td><td>0.30330271207847814</td><td>65535</td><td>100</td><td>8000</td><td>483712</td><td>1942p275</td><td>2705</td><td>EXP</td><td>45343760000.0</td><td>28646597000.0</td><td>0.009631086</td><td>4.1582837</td><td>7.1767106</td><td>10.330243</td><td>200.60643</td><td>61.95819</td><td>20.63024</td><td>0.9718926</td><td>0.9809785</td><td>0.9893153</td><td>0.0</td><td>0.0</td><td>0.0</td><td>0.01482584</td><td>0.013338624</td><td>0.017630644</td><td>0.99512047</td><td>0.9953391</td><td>0.9927311</td><td>3</td><td>3</td><td>6</td><td>1495.0381</td><td>459.76407</td><td>124.187836</td><td>875.8091</td><td>273.3733</td><td>77.28175</td><td>3.4078107</td><td>3.1553261</td><td>-73.08477</td><td>-586.0085</td><td>2.7353418</td><td>0.51266146</td><td>0.000973914</td><td>1.3273551e-05</td><td>0.99836916</td><td>0.9989981</td><td>0.99978626</td><td>0.9999193</td><td>0</td><td>0</td><td>0</td><td>0.7200476</td><td>1.2427179</td><td>1.7887828</td><td>0.7200489</td><td>1.2427204</td><td>1.7887865</td><td>0</td><td>0</td><td>0</td><td>0.0</td><td>0.0</td><td>0.0</td><td>0.0</td><td>0.0</td><td>0.0</td><td>0.0</td><td>0.0</td><td>1.6806086</td><td>0.12234689</td><td>-0.019966556</td><td>2799.4421</td><td>12069.634</td><td>4460.3184</td><td>0</td><td></td><td>0.0</td><td>0.0</td><td>0.0</td><td>0.0</td><td>0.0</td><td>0.0</td><td>0.0</td><td>0.0</td><td>False</td><td>0.0</td><td>False</td><td>0.0</td><td>0.0</td><td>S</td><td>256</td><td>2100</td><td>1</td><td>10400</td><td>0.0</td><td>0.0</td><td>0.0</td><td>0.0</td><td>0</td><td>0</td><td>0</td></tr>\n",
       "<tr><td>35186400924011192</td><td>0</td><td>0</td><td>0</td><td>0</td><td>0</td><td>194.31058979541217</td><td>27.510033634583515</td><td>0.0</td><td>0.0</td><td>0.0</td><td>0.0</td><td>0.0</td><td>0.0</td><td>72057594037929216</td><td>1</td><td></td><td>0.0</td><td>0.0</td><td>0</td><td>5000</td><td>0.29139947316681813</td><td>65535</td><td>100</td><td>8000</td><td>483712</td><td>1942p275</td><td>2744</td><td>DEV</td><td>892372500000.0</td><td>1127975100000.0</td><td>0.009748948</td><td>5.1726203</td><td>18.127077</td><td>40.42192</td><td>308.92618</td><td>82.680305</td><td>32.33292</td><td>0.97155356</td><td>0.98074794</td><td>0.9891852</td><td>0.0</td><td>0.0</td><td>0.0</td><td>0.017459858</td><td>0.01644574</td><td>0.018994542</td><td>0.9884921</td><td>0.98883325</td><td>0.98684967</td><td>3</td><td>3</td><td>6</td><td>1495.0381</td><td>459.76407</td><td>124.187836</td><td>875.8091</td><td>273.3733</td><td>77.28175</td><td>64.1655</td><td>47.629227</td><td>79.79745</td><td>424.12485</td><td>2.6938193</td><td>0.49935892</td><td>0.0009664978</td><td>1.3201837e-05</td><td>0.9983492</td><td>0.9989859</td><td>0.99978364</td><td>0.9999183</td><td>0</td><td>0</td><td>0</td><td>1.8098127</td><td>6.3423586</td><td>14.142949</td><td>1.8098507</td><td>6.342433</td><td>14.143069</td><td>0</td><td>0</td><td>0</td><td>1.0</td><td>1.0</td><td>1.2100347</td><td>-0.2875272</td><td>-0.17945714</td><td>14257.18</td><td>21373.578</td><td>17510.639</td><td>0.0</td><td>0.0</td><td>0.0</td><td>0.0</td><td>0.0</td><td>0.0</td><td>0</td><td></td><td>0.0</td><td>0.0</td><td>0.0</td><td>0.0</td><td>0.0</td><td>0.0</td><td>0.0</td><td>0.0</td><td>False</td><td>0.0</td><td>False</td><td>0.0</td><td>0.0</td><td>S</td><td>72057594037929216</td><td>3200</td><td>2</td><td>10378</td><td>0.0</td><td>0.0</td><td>0.0</td><td>0.0</td><td>0</td><td>0</td><td>0</td></tr>\n",
       "<tr><td>35186400924011203</td><td>0</td><td>0</td><td>0</td><td>0</td><td>0</td><td>194.30209597805018</td><td>27.510975591387254</td><td>0.0</td><td>0.0</td><td>0.0</td><td>0.0</td><td>0.0</td><td>0.0</td><td>256</td><td>1</td><td></td><td>0.0</td><td>0.0</td><td>0</td><td>1000</td><td>0.19146533854151226</td><td>65535</td><td>100</td><td>8000</td><td>483712</td><td>1942p275</td><td>2755</td><td>EXP</td><td>143185070000.0</td><td>54309890000.0</td><td>0.009673489</td><td>4.533613</td><td>7.4292717</td><td>10.844735</td><td>271.7939</td><td>84.18974</td><td>28.102812</td><td>0.9717706</td><td>0.9808955</td><td>0.9892685</td><td>0.0</td><td>0.0</td><td>0.0</td><td>0.010898986</td><td>0.009929545</td><td>0.014460006</td><td>0.9934802</td><td>0.9939252</td><td>0.99128747</td><td>3</td><td>3</td><td>6</td><td>1495.0381</td><td>459.76407</td><td>124.187836</td><td>875.8091</td><td>273.3733</td><td>77.28175</td><td>5.2025185</td><td>1.981615</td><td>12.810147</td><td>-435.7926</td><td>2.798621</td><td>0.5303361</td><td>0.0009801089</td><td>1.33301e-05</td><td>0.99836195</td><td>0.9989937</td><td>0.9997853</td><td>0.99991894</td><td>0</td><td>0</td><td>0</td><td>1.0161114</td><td>1.6651107</td><td>2.430613</td><td>1.0161252</td><td>1.6651368</td><td>2.430652</td><td>0</td><td>0</td><td>0</td><td>0.0</td><td>0.0</td><td>0.0</td><td>0.0</td><td>0.0</td><td>0.0</td><td>0.0</td><td>0.0</td><td>1.9665415</td><td>0.35387114</td><td>-0.39973998</td><td>2370.958</td><td>11837.01</td><td>11444.463</td><td>0</td><td></td><td>0.0</td><td>0.0</td><td>0.0</td><td>0.0</td><td>0.0</td><td>0.0</td><td>0.0</td><td>0.0</td><td>False</td><td>0.0</td><td>False</td><td>0.0</td><td>0.0</td><td>S</td><td>256</td><td>2100</td><td>1</td><td>10400</td><td>0.0</td><td>0.0</td><td>0.0</td><td>0.0</td><td>0</td><td>0</td><td>0</td></tr>\n",
       "<tr><td>...</td><td>...</td><td>...</td><td>...</td><td>...</td><td>...</td><td>...</td><td>...</td><td>...</td><td>...</td><td>...</td><td>...</td><td>...</td><td>...</td><td>...</td><td>...</td><td>...</td><td>...</td><td>...</td><td>...</td><td>...</td><td>...</td><td>...</td><td>...</td><td>...</td><td>...</td><td>...</td><td>...</td><td>...</td><td>...</td><td>...</td><td>...</td><td>...</td><td>...</td><td>...</td><td>...</td><td>...</td><td>...</td><td>...</td><td>...</td><td>...</td><td>...</td><td>...</td><td>...</td><td>...</td><td>...</td><td>...</td><td>...</td><td>...</td><td>...</td><td>...</td><td>...</td><td>...</td><td>...</td><td>...</td><td>...</td><td>...</td><td>...</td><td>...</td><td>...</td><td>...</td><td>...</td><td>...</td><td>...</td><td>...</td><td>...</td><td>...</td><td>...</td><td>...</td><td>...</td><td>...</td><td>...</td><td>...</td><td>...</td><td>...</td><td>...</td><td>...</td><td>...</td><td>...</td><td>...</td><td>...</td><td>...</td><td>...</td><td>...</td><td>...</td><td>...</td><td>...</td><td>...</td><td>...</td><td>...</td><td>...</td><td>...</td><td>...</td><td>...</td><td>...</td><td>...</td><td>...</td><td>...</td><td>...</td><td>...</td><td>...</td><td>...</td><td>...</td><td>...</td><td>...</td><td>...</td><td>...</td><td>...</td><td>...</td><td>...</td><td>...</td><td>...</td><td>...</td><td>...</td><td>...</td><td>...</td><td>...</td><td>...</td><td>...</td><td>...</td><td>...</td><td>...</td><td>...</td><td>...</td></tr>\n",
       "<tr><td>611647216741777542</td><td>0</td><td>0</td><td>0</td><td>0</td><td>0</td><td>195.9526302794806</td><td>30.394973369360073</td><td>0.0</td><td>0.0</td><td>0.0</td><td>0.0</td><td>0.0</td><td>0.0</td><td>4294967296</td><td>4</td><td></td><td>0.0</td><td>0.0</td><td>0</td><td>0</td><td>0.6566240329974075</td><td>63</td><td>0</td><td>8000</td><td>498855</td><td>1960p305</td><td>134</td><td></td><td>0.0</td><td>0.0</td><td>0.0</td><td>0.0</td><td>0.0</td><td>0.0</td><td>0.0</td><td>0.0</td><td>0.0</td><td>0.0</td><td>0.0</td><td>0.0</td><td>0.0</td><td>0.0</td><td>0.0</td><td>0.0</td><td>0.0</td><td>0.0</td><td>0.0</td><td>0.0</td><td>0.0</td><td>0</td><td>0</td><td>0</td><td>0.0</td><td>0.0</td><td>0.0</td><td>0.0</td><td>0.0</td><td>0.0</td><td>0.0</td><td>0.0</td><td>0.0</td><td>0.0</td><td>0.0</td><td>0.0</td><td>0.0</td><td>0.0</td><td>0.0</td><td>0.0</td><td>0.0</td><td>0.0</td><td>0</td><td>0</td><td>0</td><td>0.013012207</td><td>0.007951823</td><td>0.00435632</td><td>0.0</td><td>0.0</td><td>0.0</td><td>0</td><td>0</td><td>0</td><td>0.0</td><td>0.0</td><td>0.0</td><td>0.0</td><td>0.0</td><td>0.0</td><td>0.0</td><td>0.0</td><td>0.0</td><td>0.0</td><td>0.0</td><td>0.0</td><td>0.0</td><td>0.0</td><td>0</td><td></td><td>0.0</td><td>0.0</td><td>0.0</td><td>0.0</td><td>0.0</td><td>0.0</td><td>0.0</td><td>0.0</td><td>False</td><td>0.0</td><td>False</td><td>0.0</td><td>0.0</td><td></td><td>0</td><td>0</td><td>-1</td><td>10405</td><td>35.38681</td><td>3120.913</td><td>925.00696</td><td>196.9328</td><td>4294967296</td><td>0</td><td>0</td></tr>\n",
       "<tr><td>611647216741777543</td><td>0</td><td>0</td><td>0</td><td>0</td><td>0</td><td>195.95136704860985</td><td>30.39286177321881</td><td>0.0</td><td>0.0</td><td>0.0</td><td>0.0</td><td>0.0</td><td>0.0</td><td>4294967296</td><td>4</td><td></td><td>0.0</td><td>0.0</td><td>0</td><td>0</td><td>0.8709327683321691</td><td>63</td><td>0</td><td>8000</td><td>498855</td><td>1960p305</td><td>135</td><td></td><td>0.0</td><td>0.0</td><td>0.0</td><td>0.0</td><td>0.0</td><td>0.0</td><td>0.0</td><td>0.0</td><td>0.0</td><td>0.0</td><td>0.0</td><td>0.0</td><td>0.0</td><td>0.0</td><td>0.0</td><td>0.0</td><td>0.0</td><td>0.0</td><td>0.0</td><td>0.0</td><td>0.0</td><td>0</td><td>0</td><td>0</td><td>0.0</td><td>0.0</td><td>0.0</td><td>0.0</td><td>0.0</td><td>0.0</td><td>0.0</td><td>0.0</td><td>0.0</td><td>0.0</td><td>0.0</td><td>0.0</td><td>0.0</td><td>0.0</td><td>0.0</td><td>0.0</td><td>0.0</td><td>0.0</td><td>0</td><td>0</td><td>0</td><td>0.021263488</td><td>-0.004226694</td><td>0.103950314</td><td>0.0</td><td>0.0</td><td>0.0</td><td>0</td><td>0</td><td>0</td><td>0.0</td><td>0.0</td><td>0.0</td><td>0.0</td><td>0.0</td><td>0.0</td><td>0.0</td><td>0.0</td><td>0.0</td><td>0.0</td><td>0.0</td><td>0.0</td><td>0.0</td><td>0.0</td><td>0</td><td></td><td>0.0</td><td>0.0</td><td>0.0</td><td>0.0</td><td>0.0</td><td>0.0</td><td>0.0</td><td>0.0</td><td>False</td><td>0.0</td><td>False</td><td>0.0</td><td>0.0</td><td></td><td>0</td><td>0</td><td>-1</td><td>10405</td><td>40.733067</td><td>3094.8855</td><td>941.9102</td><td>197.23929</td><td>4294967296</td><td>0</td><td>0</td></tr>\n",
       "<tr><td>611647216741777544</td><td>0</td><td>0</td><td>0</td><td>0</td><td>0</td><td>195.9372701572563</td><td>30.398161989098238</td><td>0.0</td><td>0.0</td><td>0.0</td><td>0.0</td><td>0.0</td><td>0.0</td><td>4294967296</td><td>4</td><td></td><td>0.0</td><td>0.0</td><td>0</td><td>0</td><td>0.32046586385498455</td><td>63</td><td>0</td><td>8000</td><td>498855</td><td>1960p305</td><td>136</td><td></td><td>0.0</td><td>0.0</td><td>0.0</td><td>0.0</td><td>0.0</td><td>0.0</td><td>0.0</td><td>0.0</td><td>0.0</td><td>0.0</td><td>0.0</td><td>0.0</td><td>0.0</td><td>0.0</td><td>0.0</td><td>0.0</td><td>0.0</td><td>0.0</td><td>0.0</td><td>0.0</td><td>0.0</td><td>0</td><td>0</td><td>0</td><td>0.0</td><td>0.0</td><td>0.0</td><td>0.0</td><td>0.0</td><td>0.0</td><td>0.0</td><td>0.0</td><td>0.0</td><td>0.0</td><td>0.0</td><td>0.0</td><td>0.0</td><td>0.0</td><td>0.0</td><td>0.0</td><td>0.0</td><td>0.0</td><td>0</td><td>0</td><td>0</td><td>0.0081518395</td><td>-0.011189435</td><td>0.025855912</td><td>0.0</td><td>0.0</td><td>0.0</td><td>0</td><td>0</td><td>0</td><td>0.0</td><td>0.0</td><td>0.0</td><td>0.0</td><td>0.0</td><td>0.0</td><td>0.0</td><td>0.0</td><td>0.0</td><td>0.0</td><td>0.0</td><td>0.0</td><td>0.0</td><td>0.0</td><td>0</td><td></td><td>0.0</td><td>0.0</td><td>0.0</td><td>0.0</td><td>0.0</td><td>0.0</td><td>0.0</td><td>0.0</td><td>False</td><td>0.0</td><td>False</td><td>0.0</td><td>0.0</td><td></td><td>0</td><td>0</td><td>-1</td><td>10405</td><td>40.57296</td><td>3114.3743</td><td>924.95654</td><td>196.69444</td><td>4294967296</td><td>0</td><td>0</td></tr>\n",
       "<tr><td>611647216741777545</td><td>0</td><td>0</td><td>0</td><td>0</td><td>0</td><td>195.92950996832306</td><td>30.396335003968854</td><td>0.0</td><td>0.0</td><td>0.0</td><td>0.0</td><td>0.0</td><td>0.0</td><td>4294967296</td><td>4</td><td></td><td>0.0</td><td>0.0</td><td>0</td><td>0</td><td>0.41160375469944943</td><td>63</td><td>0</td><td>8000</td><td>498855</td><td>1960p305</td><td>137</td><td></td><td>0.0</td><td>0.0</td><td>0.0</td><td>0.0</td><td>0.0</td><td>0.0</td><td>0.0</td><td>0.0</td><td>0.0</td><td>0.0</td><td>0.0</td><td>0.0</td><td>0.0</td><td>0.0</td><td>0.0</td><td>0.0</td><td>0.0</td><td>0.0</td><td>0.0</td><td>0.0</td><td>0.0</td><td>0</td><td>0</td><td>0</td><td>0.0</td><td>0.0</td><td>0.0</td><td>0.0</td><td>0.0</td><td>0.0</td><td>0.0</td><td>0.0</td><td>0.0</td><td>0.0</td><td>0.0</td><td>0.0</td><td>0.0</td><td>0.0</td><td>0.0</td><td>0.0</td><td>0.0</td><td>0.0</td><td>0</td><td>0</td><td>0</td><td>0.0021420482</td><td>0.04149494</td><td>0.1222682</td><td>0.0</td><td>0.0</td><td>0.0</td><td>0</td><td>0</td><td>0</td><td>0.0</td><td>0.0</td><td>0.0</td><td>0.0</td><td>0.0</td><td>0.0</td><td>0.0</td><td>0.0</td><td>0.0</td><td>0.0</td><td>0.0</td><td>0.0</td><td>0.0</td><td>0.0</td><td>0</td><td></td><td>0.0</td><td>0.0</td><td>0.0</td><td>0.0</td><td>0.0</td><td>0.0</td><td>0.0</td><td>0.0</td><td>False</td><td>0.0</td><td>False</td><td>0.0</td><td>0.0</td><td></td><td>0</td><td>0</td><td>-1</td><td>10405</td><td>24.223377</td><td>3115.7961</td><td>921.6239</td><td>196.18059</td><td>4294967296</td><td>0</td><td>0</td></tr>\n",
       "<tr><td>611647216741777546</td><td>0</td><td>0</td><td>0</td><td>0</td><td>0</td><td>195.92065112110484</td><td>30.395961938781923</td><td>0.0</td><td>0.0</td><td>0.0</td><td>0.0</td><td>0.0</td><td>0.0</td><td>4294967296</td><td>4</td><td></td><td>0.0</td><td>0.0</td><td>0</td><td>0</td><td>0.2948622989054256</td><td>63</td><td>0</td><td>8000</td><td>498855</td><td>1960p305</td><td>138</td><td></td><td>0.0</td><td>0.0</td><td>0.0</td><td>0.0</td><td>0.0</td><td>0.0</td><td>0.0</td><td>0.0</td><td>0.0</td><td>0.0</td><td>0.0</td><td>0.0</td><td>0.0</td><td>0.0</td><td>0.0</td><td>0.0</td><td>0.0</td><td>0.0</td><td>0.0</td><td>0.0</td><td>0.0</td><td>0</td><td>0</td><td>0</td><td>0.0</td><td>0.0</td><td>0.0</td><td>0.0</td><td>0.0</td><td>0.0</td><td>0.0</td><td>0.0</td><td>0.0</td><td>0.0</td><td>0.0</td><td>0.0</td><td>0.0</td><td>0.0</td><td>0.0</td><td>0.0</td><td>0.0</td><td>0.0</td><td>0</td><td>0</td><td>0</td><td>-0.010370475</td><td>0.041567907</td><td>-0.010025307</td><td>0.0</td><td>0.0</td><td>0.0</td><td>0</td><td>0</td><td>0</td><td>0.0</td><td>0.0</td><td>0.0</td><td>0.0</td><td>0.0</td><td>0.0</td><td>0.0</td><td>0.0</td><td>0.0</td><td>0.0</td><td>0.0</td><td>0.0</td><td>0.0</td><td>0.0</td><td>0</td><td></td><td>0.0</td><td>0.0</td><td>0.0</td><td>0.0</td><td>0.0</td><td>0.0</td><td>0.0</td><td>0.0</td><td>False</td><td>0.0</td><td>False</td><td>0.0</td><td>0.0</td><td></td><td>0</td><td>0</td><td>-1</td><td>10405</td><td>32.731907</td><td>3106.2737</td><td>921.72736</td><td>197.2563</td><td>4294967296</td><td>0</td><td>0</td></tr>\n",
       "<tr><td>611647216741777547</td><td>0</td><td>0</td><td>0</td><td>0</td><td>0</td><td>195.9178683645169</td><td>30.394867271033945</td><td>0.0</td><td>0.0</td><td>0.0</td><td>0.0</td><td>0.0</td><td>0.0</td><td>4294967296</td><td>4</td><td></td><td>0.0</td><td>0.0</td><td>0</td><td>0</td><td>0.5930740142811786</td><td>63</td><td>0</td><td>8000</td><td>498855</td><td>1960p305</td><td>139</td><td></td><td>0.0</td><td>0.0</td><td>0.0</td><td>0.0</td><td>0.0</td><td>0.0</td><td>0.0</td><td>0.0</td><td>0.0</td><td>0.0</td><td>0.0</td><td>0.0</td><td>0.0</td><td>0.0</td><td>0.0</td><td>0.0</td><td>0.0</td><td>0.0</td><td>0.0</td><td>0.0</td><td>0.0</td><td>0</td><td>0</td><td>0</td><td>0.0</td><td>0.0</td><td>0.0</td><td>0.0</td><td>0.0</td><td>0.0</td><td>0.0</td><td>0.0</td><td>0.0</td><td>0.0</td><td>0.0</td><td>0.0</td><td>0.0</td><td>0.0</td><td>0.0</td><td>0.0</td><td>0.0</td><td>0.0</td><td>0</td><td>0</td><td>0</td><td>-0.012094214</td><td>0.010922937</td><td>-0.009105345</td><td>0.0</td><td>0.0</td><td>0.0</td><td>0</td><td>0</td><td>0</td><td>0.0</td><td>0.0</td><td>0.0</td><td>0.0</td><td>0.0</td><td>0.0</td><td>0.0</td><td>0.0</td><td>0.0</td><td>0.0</td><td>0.0</td><td>0.0</td><td>0.0</td><td>0.0</td><td>0</td><td></td><td>0.0</td><td>0.0</td><td>0.0</td><td>0.0</td><td>0.0</td><td>0.0</td><td>0.0</td><td>0.0</td><td>False</td><td>0.0</td><td>False</td><td>0.0</td><td>0.0</td><td></td><td>0</td><td>0</td><td>-1</td><td>10405</td><td>18.0</td><td>3110.2405</td><td>934.1416</td><td>196.9124</td><td>4294967296</td><td>0</td><td>0</td></tr>\n",
       "<tr><td>611647216741777578</td><td>0</td><td>0</td><td>0</td><td>0</td><td>0</td><td>195.94958398339833</td><td>30.402685230574424</td><td>0.0</td><td>0.0</td><td>0.0</td><td>0.0</td><td>0.0</td><td>0.0</td><td>4294967296</td><td>4</td><td></td><td>0.0</td><td>0.0</td><td>0</td><td>0</td><td>0.1993890942858818</td><td>63</td><td>0</td><td>8000</td><td>498855</td><td>1960p305</td><td>170</td><td></td><td>0.0</td><td>0.0</td><td>0.0</td><td>0.0</td><td>0.0</td><td>0.0</td><td>0.0</td><td>0.0</td><td>0.0</td><td>0.0</td><td>0.0</td><td>0.0</td><td>0.0</td><td>0.0</td><td>0.0</td><td>0.0</td><td>0.0</td><td>0.0</td><td>0.0</td><td>0.0</td><td>0.0</td><td>0</td><td>0</td><td>0</td><td>0.0</td><td>0.0</td><td>0.0</td><td>0.0</td><td>0.0</td><td>0.0</td><td>0.0</td><td>0.0</td><td>0.0</td><td>0.0</td><td>0.0</td><td>0.0</td><td>0.0</td><td>0.0</td><td>0.0</td><td>0.0</td><td>0.0</td><td>0.0</td><td>0</td><td>0</td><td>0</td><td>0.008376466</td><td>-0.01314386</td><td>0.010299299</td><td>0.0</td><td>0.0</td><td>0.0</td><td>0</td><td>0</td><td>0</td><td>0.0</td><td>0.0</td><td>0.0</td><td>0.0</td><td>0.0</td><td>0.0</td><td>0.0</td><td>0.0</td><td>0.0</td><td>0.0</td><td>0.0</td><td>0.0</td><td>0.0</td><td>0.0</td><td>0</td><td></td><td>0.0</td><td>0.0</td><td>0.0</td><td>0.0</td><td>0.0</td><td>0.0</td><td>0.0</td><td>0.0</td><td>False</td><td>0.0</td><td>False</td><td>0.0</td><td>0.0</td><td></td><td>0</td><td>0</td><td>-1</td><td>10405</td><td>42.22343</td><td>2211.978</td><td>614.63666</td><td>143.19753</td><td>4294967296</td><td>0</td><td>0</td></tr>\n",
       "<tr><td>611647216741777579</td><td>0</td><td>0</td><td>0</td><td>0</td><td>0</td><td>195.93785314829785</td><td>30.404203068474786</td><td>0.0</td><td>0.0</td><td>0.0</td><td>0.0</td><td>0.0</td><td>0.0</td><td>4294967296</td><td>4</td><td></td><td>0.0</td><td>0.0</td><td>0</td><td>0</td><td>0.25320203213322234</td><td>63</td><td>0</td><td>8000</td><td>498855</td><td>1960p305</td><td>171</td><td></td><td>0.0</td><td>0.0</td><td>0.0</td><td>0.0</td><td>0.0</td><td>0.0</td><td>0.0</td><td>0.0</td><td>0.0</td><td>0.0</td><td>0.0</td><td>0.0</td><td>0.0</td><td>0.0</td><td>0.0</td><td>0.0</td><td>0.0</td><td>0.0</td><td>0.0</td><td>0.0</td><td>0.0</td><td>0</td><td>0</td><td>0</td><td>0.0</td><td>0.0</td><td>0.0</td><td>0.0</td><td>0.0</td><td>0.0</td><td>0.0</td><td>0.0</td><td>0.0</td><td>0.0</td><td>0.0</td><td>0.0</td><td>0.0</td><td>0.0</td><td>0.0</td><td>0.0</td><td>0.0</td><td>0.0</td><td>0</td><td>0</td><td>0</td><td>0.04260624</td><td>-0.021880964</td><td>-0.026527073</td><td>0.0</td><td>0.0</td><td>0.0</td><td>0</td><td>0</td><td>0</td><td>0.0</td><td>0.0</td><td>0.0</td><td>0.0</td><td>0.0</td><td>0.0</td><td>0.0</td><td>0.0</td><td>0.0</td><td>0.0</td><td>0.0</td><td>0.0</td><td>0.0</td><td>0.0</td><td>0</td><td></td><td>0.0</td><td>0.0</td><td>0.0</td><td>0.0</td><td>0.0</td><td>0.0</td><td>0.0</td><td>0.0</td><td>False</td><td>0.0</td><td>False</td><td>0.0</td><td>0.0</td><td></td><td>0</td><td>0</td><td>-1</td><td>10405</td><td>43.549847</td><td>2181.449</td><td>613.8472</td><td>143.10524</td><td>4294967296</td><td>0</td><td>0</td></tr>\n",
       "<tr><td>611647216741777580</td><td>0</td><td>0</td><td>0</td><td>0</td><td>0</td><td>195.93330063560936</td><td>30.401069283633692</td><td>0.0</td><td>0.0</td><td>0.0</td><td>0.0</td><td>0.0</td><td>0.0</td><td>4294967296</td><td>4</td><td></td><td>0.0</td><td>0.0</td><td>0</td><td>0</td><td>0.46186388860978644</td><td>63</td><td>0</td><td>8000</td><td>498855</td><td>1960p305</td><td>172</td><td></td><td>0.0</td><td>0.0</td><td>0.0</td><td>0.0</td><td>0.0</td><td>0.0</td><td>0.0</td><td>0.0</td><td>0.0</td><td>0.0</td><td>0.0</td><td>0.0</td><td>0.0</td><td>0.0</td><td>0.0</td><td>0.0</td><td>0.0</td><td>0.0</td><td>0.0</td><td>0.0</td><td>0.0</td><td>0</td><td>0</td><td>0</td><td>0.0</td><td>0.0</td><td>0.0</td><td>0.0</td><td>0.0</td><td>0.0</td><td>0.0</td><td>0.0</td><td>0.0</td><td>0.0</td><td>0.0</td><td>0.0</td><td>0.0</td><td>0.0</td><td>0.0</td><td>0.0</td><td>0.0</td><td>0.0</td><td>0</td><td>0</td><td>0</td><td>-0.02343711</td><td>-0.059676778</td><td>0.051748075</td><td>0.0</td><td>0.0</td><td>0.0</td><td>0</td><td>0</td><td>0</td><td>0.0</td><td>0.0</td><td>0.0</td><td>0.0</td><td>0.0</td><td>0.0</td><td>0.0</td><td>0.0</td><td>0.0</td><td>0.0</td><td>0.0</td><td>0.0</td><td>0.0</td><td>0.0</td><td>0</td><td></td><td>0.0</td><td>0.0</td><td>0.0</td><td>0.0</td><td>0.0</td><td>0.0</td><td>0.0</td><td>0.0</td><td>False</td><td>0.0</td><td>False</td><td>0.0</td><td>0.0</td><td></td><td>0</td><td>0</td><td>-1</td><td>10405</td><td>38.57296</td><td>3172.2637</td><td>952.4016</td><td>197.82219</td><td>4294967296</td><td>0</td><td>0</td></tr>\n",
       "<tr><td>611647216741777581</td><td>0</td><td>0</td><td>0</td><td>0</td><td>0</td><td>195.9265477930894</td><td>30.402881972693137</td><td>0.0</td><td>0.0</td><td>0.0</td><td>0.0</td><td>0.0</td><td>0.0</td><td>4294967296</td><td>4</td><td></td><td>0.0</td><td>0.0</td><td>0</td><td>0</td><td>0.9687088878508899</td><td>63</td><td>0</td><td>8000</td><td>498855</td><td>1960p305</td><td>173</td><td></td><td>0.0</td><td>0.0</td><td>0.0</td><td>0.0</td><td>0.0</td><td>0.0</td><td>0.0</td><td>0.0</td><td>0.0</td><td>0.0</td><td>0.0</td><td>0.0</td><td>0.0</td><td>0.0</td><td>0.0</td><td>0.0</td><td>0.0</td><td>0.0</td><td>0.0</td><td>0.0</td><td>0.0</td><td>0</td><td>0</td><td>0</td><td>0.0</td><td>0.0</td><td>0.0</td><td>0.0</td><td>0.0</td><td>0.0</td><td>0.0</td><td>0.0</td><td>0.0</td><td>0.0</td><td>0.0</td><td>0.0</td><td>0.0</td><td>0.0</td><td>0.0</td><td>0.0</td><td>0.0</td><td>0.0</td><td>0</td><td>0</td><td>0</td><td>-0.030868007</td><td>0.019092994</td><td>0.012652922</td><td>0.0</td><td>0.0</td><td>0.0</td><td>0</td><td>0</td><td>0</td><td>0.0</td><td>0.0</td><td>0.0</td><td>0.0</td><td>0.0</td><td>0.0</td><td>0.0</td><td>0.0</td><td>0.0</td><td>0.0</td><td>0.0</td><td>0.0</td><td>0.0</td><td>0.0</td><td>0</td><td></td><td>0.0</td><td>0.0</td><td>0.0</td><td>0.0</td><td>0.0</td><td>0.0</td><td>0.0</td><td>0.0</td><td>False</td><td>0.0</td><td>False</td><td>0.0</td><td>0.0</td><td></td><td>0</td><td>0</td><td>-1</td><td>10405</td><td>30.143505</td><td>2229.7441</td><td>612.4311</td><td>142.80836</td><td>4294967296</td><td>0</td><td>0</td></tr>\n",
       "</table>"
      ],
      "text/plain": [
       "<Table length=304052>\n",
       "     TARGETID      PETAL_LOC DEVICE_LOC ... DESI_TARGET BGS_TARGET MWS_TARGET\n",
       "      int64          int16     int32    ...    int64      int64      int64   \n",
       "------------------ --------- ---------- ... ----------- ---------- ----------\n",
       " 35186400924010376         0          0 ...           0          0          0\n",
       " 35186400924010379         0          0 ...           0          0          0\n",
       " 35186400924010392         0          0 ...           0          0          0\n",
       " 35186400924010396         0          0 ...           0          0          0\n",
       " 35186400924010408         0          0 ...           0          0          0\n",
       " 35186400924010424         0          0 ...           0          0          0\n",
       " 35186400924011038         0          0 ...           0          0          0\n",
       " 35186400924011153         0          0 ...           0          0          0\n",
       " 35186400924011192         0          0 ...           0          0          0\n",
       " 35186400924011203         0          0 ...           0          0          0\n",
       "               ...       ...        ... ...         ...        ...        ...\n",
       "611647216741777542         0          0 ...  4294967296          0          0\n",
       "611647216741777543         0          0 ...  4294967296          0          0\n",
       "611647216741777544         0          0 ...  4294967296          0          0\n",
       "611647216741777545         0          0 ...  4294967296          0          0\n",
       "611647216741777546         0          0 ...  4294967296          0          0\n",
       "611647216741777547         0          0 ...  4294967296          0          0\n",
       "611647216741777578         0          0 ...  4294967296          0          0\n",
       "611647216741777579         0          0 ...  4294967296          0          0\n",
       "611647216741777580         0          0 ...  4294967296          0          0\n",
       "611647216741777581         0          0 ...  4294967296          0          0"
      ]
     },
     "execution_count": 46,
     "metadata": {},
     "output_type": "execute_result"
    }
   ],
   "source": [
    "assigned"
   ]
  },
  {
   "cell_type": "code",
   "execution_count": null,
   "metadata": {},
   "outputs": [],
   "source": []
  }
 ],
 "metadata": {
  "kernelspec": {
   "display_name": "DESI master",
   "language": "python",
   "name": "desi-master"
  },
  "language_info": {
   "codemirror_mode": {
    "name": "ipython",
    "version": 3
   },
   "file_extension": ".py",
   "mimetype": "text/x-python",
   "name": "python",
   "nbconvert_exporter": "python",
   "pygments_lexer": "ipython3",
   "version": "3.6.6"
  }
 },
 "nbformat": 4,
 "nbformat_minor": 4
}
