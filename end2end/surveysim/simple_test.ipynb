{
 "cells": [
  {
   "cell_type": "code",
   "execution_count": 1,
   "metadata": {
    "collapsed": false
   },
   "outputs": [],
   "source": [
    "%matplotlib inline\n",
    "%load_ext autoreload\n",
    "%autoreload 2\n",
    "\n",
    "import matplotlib.pyplot as plt\n",
    "from astropy.table import Table\n",
    "import numpy as np\n",
    "import os.path\n",
    "import datetime "
   ]
  },
  {
   "cell_type": "code",
   "execution_count": 9,
   "metadata": {
    "collapsed": false
   },
   "outputs": [],
   "source": [
    "from surveysim.wrapper import surveySim"
   ]
  },
  {
   "cell_type": "code",
   "execution_count": 10,
   "metadata": {
    "collapsed": false
   },
   "outputs": [],
   "source": [
    "def collect_tile_id(start, end):\n",
    "    day_now = start\n",
    "    id_list = np.empty((0), dtype=int)\n",
    "    id_plan = np.empty((0), dtype=int)\n",
    "    while(day_now <= end):\n",
    "        day_now = day_now + datetime.timedelta(days=1)\n",
    "        listdirName = \"{}{}{:02d}{:02d}{}\".format('obslist',day_now.year, day_now.month, day_now.day, '.fits')   \n",
    "        plandirName = \"{}{}{:02d}{:02d}{}\".format('obsplan',day_now.year, day_now.month, day_now.day, '.fits')    \n",
    "\n",
    "        #print(day_now,listdirName)\n",
    "        if os.path.exists(listdirName):\n",
    "            a = Table.read(listdirName)\n",
    "            set_a = set(a['TILEID'])\n",
    "            set_id = set(id_list)\n",
    "            set_diff = set_a - set_id\n",
    "            id_list = np.append(id_list, np.array(list(set_diff), dtype=int)) #only add the IDs that don't repeat\n",
    "        \n",
    "        if os.path.exists(plandirName):\n",
    "            a = Table.read(plandirName)\n",
    "            set_a = set(a['TILEID'])\n",
    "            set_id = set(id_plan)\n",
    "            set_diff = set_a - set_id\n",
    "            id_plan = np.append(id_plan, np.array(list(set_diff), dtype=int)) #only add the IDs that don't repeat\n",
    "    \n",
    "    return {'OBSERVED':id_list, 'PLANNED':id_plan}"
   ]
  },
  {
   "cell_type": "code",
   "execution_count": 11,
   "metadata": {
    "collapsed": false,
    "scrolled": true
   },
   "outputs": [
    {
     "name": "stdout",
     "output_type": "stream",
     "text": [
      "\n",
      "\n",
      "\n",
      "2019-01-01 19:00:00\n",
      "The survey will start from scratch.\n",
      "Conditions at the beginning of the night: \n",
      "{'Seeing': 0.9172205605527711, 'Clouds': 0.1526455474416512, 'Transparency': 0.6283410342193628, 'OpenDome': False}\n",
      "('On the night starting ', '2019-01-01 19:00:00.000', ', we observed ', 0, ' tiles.')\n",
      "Conditions at the beginning of the night: \n",
      "{'Seeing': 1.1802992427537113, 'Clouds': 0.21737847057836884, 'Transparency': 0.7681620117426027, 'OpenDome': False}\n",
      "('On the night starting ', '2019-01-02 19:00:00.000', ', we observed ', 0, ' tiles.')\n",
      "Conditions at the beginning of the night: \n",
      "{'Seeing': 0.9226219947307961, 'Clouds': 0.13816737671009177, 'Transparency': 0.3742492715595901, 'OpenDome': True}\n",
      "('On the night starting ', '2019-01-03 19:00:00.000', ', we observed ', 15, ' tiles.')\n",
      "Conditions at the beginning of the night: \n",
      "{'Seeing': 1.0837978472934415, 'Clouds': 0.14068275131852057, 'Transparency': 0.7538330976003925, 'OpenDome': True}\n",
      "('On the night starting ', '2019-01-04 19:00:00.000', ', we observed ', 23, ' tiles.')\n",
      "Conditions at the beginning of the night: \n",
      "{'Seeing': 0.9557365940833685, 'Clouds': 0.3398184563285045, 'Transparency': 0.717442286252956, 'OpenDome': False}\n",
      "('On the night starting ', '2019-01-05 19:00:00.000', ', we observed ', 0, ' tiles.')\n",
      "[20866 26628 24453 24454 18684 20882 20883 24468 24118 24452 26683 20892\n",
      " 20893 24446 18687 24449 24450 20875 20876 24469 24470 20891 20894 20895\n",
      " 20896 20899 20901 24102 24634 24131 24132 24141 24653 24656 18390 17404\n",
      " 24444 24447] 38 10092\n",
      "These were the observed tiles: [20866 26628 24453 24454 18684 20882 20883 24468 24118 24452 26683 20892\n",
      " 20893 24446 18687 24449 24450 20875 20876 24469 24470 20891 20894 20895\n",
      " 20896 20899 20901 24102 24634 24131 24132 24141 24653 24656 18390 17404\n",
      " 24444 24447]\n",
      "\n",
      "\n",
      "\n",
      "2019-01-05 19:00:00\n",
      "Conditions at the beginning of the night: \n",
      "{'Seeing': 1.129038626557487, 'Clouds': 0.08837603622672607, 'Transparency': 0.8416885533063335, 'OpenDome': True}\n",
      "('On the night starting ', '2019-01-05 19:00:00.000', ', we observed ', 23, ' tiles.')\n",
      "Conditions at the beginning of the night: \n",
      "{'Seeing': 1.3040387705546466, 'Clouds': 0.2445004812572907, 'Transparency': 0.37510028091765724, 'OpenDome': False}\n",
      "('On the night starting ', '2019-01-06 19:00:00.000', ', we observed ', 0, ' tiles.')\n",
      "Conditions at the beginning of the night: \n",
      "{'Seeing': 1.0942666774907361, 'Clouds': 0.15222213110286778, 'Transparency': 0.8406767984962081, 'OpenDome': True}\n",
      "('On the night starting ', '2019-01-07 19:00:00.000', ', we observed ', 20, ' tiles.')\n",
      "Conditions at the beginning of the night: \n",
      "{'Seeing': 1.034892601969251, 'Clouds': 0.12392162467125495, 'Transparency': 0.13515194463055902, 'OpenDome': True}\n",
      "('On the night starting ', '2019-01-08 19:00:00.000', ', we observed ', 2, ' tiles.')\n",
      "Conditions at the beginning of the night: \n",
      "{'Seeing': 1.2308750167100806, 'Clouds': 0.28134446018838644, 'Transparency': 0.7779417486081401, 'OpenDome': False}\n",
      "('On the night starting ', '2019-01-09 19:00:00.000', ', we observed ', 0, ' tiles.')\n",
      "[24512 26656 18370 24484 26661 26663 24499 18891 18380 19170 18894 20911\n",
      " 18896 18386 18387 24500 18872 26653 26654 26655 26664 24513] 22 10031\n",
      "These were the observed tiles: [24512 26656 18370 24484 26661 26663 24499 18891 18380 19170 18894 20911\n",
      " 18896 18386 18387 24500 18872 26653 26654 26655 26664 24513]\n",
      "\n",
      "\n",
      "\n",
      "2019-01-09 19:00:00\n",
      "Conditions at the beginning of the night: \n",
      "{'Seeing': 1.1437938716716882, 'Clouds': 0.13581446624325674, 'Transparency': 0.13151816131199334, 'OpenDome': False}\n",
      "('On the night starting ', '2019-01-09 19:00:00.000', ', we observed ', 0, ' tiles.')\n",
      "Conditions at the beginning of the night: \n",
      "{'Seeing': 0.9488916016315303, 'Clouds': 0.324989764841798, 'Transparency': 0.4582347322752075, 'OpenDome': False}\n",
      "('On the night starting ', '2019-01-10 19:00:00.000', ', we observed ', 0, ' tiles.')\n",
      "Conditions at the beginning of the night: \n",
      "{'Seeing': 1.2228885148434319, 'Clouds': 0.2493615117431342, 'Transparency': 0.754037444292319, 'OpenDome': False}\n",
      "('On the night starting ', '2019-01-11 19:00:00.000', ', we observed ', 0, ' tiles.')\n",
      "Conditions at the beginning of the night: \n",
      "{'Seeing': 1.3353640780985723, 'Clouds': 0.18806019572497013, 'Transparency': 0.8021160117081735, 'OpenDome': False}\n",
      "('On the night starting ', '2019-01-12 19:00:00.000', ', we observed ', 0, ' tiles.')\n",
      "Conditions at the beginning of the night: \n",
      "{'Seeing': 0.8971965779549936, 'Clouds': 0.2059373670771524, 'Transparency': 0.6997514052310341, 'OpenDome': True}\n",
      "('On the night starting ', '2019-01-13 19:00:00.000', ', we observed ', 18, ' tiles.')\n",
      "[18722 19205 18927 24456 18697 24458 18892 18893 18895 18735 18738 18388\n",
      " 24457 19192 18717 24475 24477 18718] 18 10009\n",
      "These were the observed tiles: [18722 19205 18927 24456 18697 24458 18892 18893 18895 18735 18738 18388\n",
      " 24457 19192 18717 24475 24477 18718]\n",
      "\n",
      "\n",
      "\n",
      "2019-01-13 19:00:00\n",
      "Conditions at the beginning of the night: \n",
      "{'Seeing': 1.1157992964169532, 'Clouds': 0.29544433188316366, 'Transparency': 0.9554872126098485, 'OpenDome': False}\n",
      "('On the night starting ', '2019-01-13 19:00:00.000', ', we observed ', 0, ' tiles.')\n",
      "Conditions at the beginning of the night: \n",
      "{'Seeing': 1.1230467745739434, 'Clouds': 0.19656159822134514, 'Transparency': 0.6971870189190068, 'OpenDome': False}\n",
      "('On the night starting ', '2019-01-14 19:00:00.000', ', we observed ', 0, ' tiles.')\n",
      "Conditions at the beginning of the night: \n",
      "{'Seeing': 1.138891472048262, 'Clouds': 0.19444471326925158, 'Transparency': 0.39371046614201566, 'OpenDome': False}\n",
      "('On the night starting ', '2019-01-15 19:00:00.000', ', we observed ', 0, ' tiles.')\n",
      "Conditions at the beginning of the night: \n",
      "{'Seeing': 1.1585701760159741, 'Clouds': 0.1762157003556336, 'Transparency': 0.3167773717675848, 'OpenDome': True}\n",
      "('On the night starting ', '2019-01-16 19:00:00.000', ', we observed ', 11, ' tiles.')\n",
      "Conditions at the beginning of the night: \n",
      "{'Seeing': 1.0573329930414492, 'Clouds': 0.21412173204188903, 'Transparency': 0.6990611199418582, 'OpenDome': True}\n",
      "('On the night starting ', '2019-01-17 19:00:00.000', ', we observed ', 25, ' tiles.')\n",
      "[18692 18694 18696 28779 18733 18734 18736 19154 28761 19198 18911 18690\n",
      " 18691 18693 19206 18695 18704 18705 18706 18713 18715 18716 18723 18739\n",
      " 18740 18747 18749 18750 18757 19158 18912 18913 18914 28780 18928 19193] 36 9991\n",
      "These were the observed tiles: [18692 18694 18696 28779 18733 18734 18736 19154 28761 19198 18911 18690\n",
      " 18691 18693 19206 18695 18704 18705 18706 18713 18715 18716 18723 18739\n",
      " 18740 18747 18749 18750 18757 19158 18912 18913 18914 28780 18928 19193]\n",
      "\n",
      "\n",
      "\n",
      "2019-01-17 19:00:00\n",
      "Conditions at the beginning of the night: \n",
      "{'Seeing': 1.0486486803527293, 'Clouds': 0.21419536253619603, 'Transparency': 0.0, 'OpenDome': False}\n",
      "('On the night starting ', '2019-01-17 19:00:00.000', ', we observed ', 0, ' tiles.')\n",
      "Conditions at the beginning of the night: \n",
      "{'Seeing': 0.993668259405973, 'Clouds': 0.10433115066455573, 'Transparency': 0.6197989780302458, 'OpenDome': True}\n",
      "('On the night starting ', '2019-01-18 19:00:00.000', ', we observed ', 23, ' tiles.')\n",
      "Conditions at the beginning of the night: \n",
      "{'Seeing': 1.0918511993970206, 'Clouds': 0.31622946105953603, 'Transparency': 0.5821231535992846, 'OpenDome': True}\n",
      "('On the night starting ', '2019-01-19 19:00:00.000', ', we observed ', 27, ' tiles.')\n",
      "Conditions at the beginning of the night: \n",
      "{'Seeing': 1.1245584030000844, 'Clouds': 0.4323287984047325, 'Transparency': 0.8859374642383677, 'OpenDome': False}\n",
      "('On the night starting ', '2019-01-20 19:00:00.000', ', we observed ', 0, ' tiles.')\n",
      "Conditions at the beginning of the night: \n",
      "{'Seeing': 0.9559129580923458, 'Clouds': 0.1782449892526777, 'Transparency': 0.7460702403689732, 'OpenDome': False}\n",
      "('On the night starting ', '2019-01-21 19:00:00.000', ', we observed ', 0, ' tiles.')\n",
      "[18688 20871 17420 18703 18707 18708 18712 18714 18725 18732 18746 18748\n",
      " 18751 18753 18759 19156 18915 19175 18416 18929 18930 18685 19199 19209\n",
      " 20874 18700 20877 20878 20496 18709 18710 18711 18724 18726 18729 18730\n",
      " 18741 18752 18754 18755 18756 18758 18760 18764 24142 24150 19194 19171\n",
      " 18931 18682] 50 9955\n",
      "These were the observed tiles: [18688 20871 17420 18703 18707 18708 18712 18714 18725 18732 18746 18748\n",
      " 18751 18753 18759 19156 18915 19175 18416 18929 18930 18685 19199 19209\n",
      " 20874 18700 20877 20878 20496 18709 18710 18711 18724 18726 18729 18730\n",
      " 18741 18752 18754 18755 18756 18758 18760 18764 24142 24150 19194 19171\n",
      " 18931 18682]\n"
     ]
    }
   ],
   "source": [
    "! rm -f tiles_observed.fits\n",
    "start_string = \"01-01-2019\"\n",
    "start = datetime.datetime.strptime(start_string, \"%d-%m-%Y\")\n",
    "\n",
    "n_epochs = 5\n",
    "days_per_epoch = 4\n",
    "\n",
    "fiberassign_cadence = datetime.timedelta(days=days_per_epoch)\n",
    "\n",
    "end = start + fiberassign_cadence\n",
    "\n",
    "for i in range(n_epochs):\n",
    "    print('\\n\\n')\n",
    "    surveySim((start.year, start.month, start.day), (end.year, end.month, end.day))\n",
    "    dd = collect_tile_id(start, end)\n",
    "    print dd['OBSERVED'], len(dd['OBSERVED']), len(dd['PLANNED'])\n",
    "    print ('These were the observed tiles: {}'.format(dd['OBSERVED']))\n",
    "    np.savetxt('observed_epoch{}.txt'.format(i), dd['OBSERVED'], fmt='%d')\n",
    "    np.savetxt('epoch{}.txt'.format(i), dd['PLANNED'], fmt='%d')\n",
    "    start = start + fiberassign_cadence \n",
    "    end = start + fiberassign_cadence"
   ]
  },
  {
   "cell_type": "code",
   "execution_count": 18,
   "metadata": {
    "collapsed": false
   },
   "outputs": [
    {
     "data": {
      "text/html": [
       "&lt;Row index=3&gt;\n",
       "<table id=\"table139637938888656\">\n",
       "<thead><tr><th>TILEID</th><th>RA</th><th>DEC</th><th>PASS</th><th>IN_DESI</th><th>EBV_MED</th><th>AIRMASS</th><th>EXPOSEFAC</th><th>STAR_DENSITY</th><th>PROGRAM</th><th>OBSCONDITIONS</th><th>I_INCREASE</th><th>G_INCREASE</th><th>HA</th><th>OBSTIME</th><th>OVERHEAD</th><th>BEGINOBS</th><th>ENDOBS</th><th>GALACLAT</th><th>GALACLON</th></tr></thead>\n",
       "<thead><tr><th></th><th>deg</th><th>deg</th><th></th><th></th><th></th><th></th><th></th><th>1 / deg2</th><th></th><th></th><th></th><th></th><th></th><th></th><th></th><th></th><th></th><th></th><th></th></tr></thead>\n",
       "<thead><tr><th>int32</th><th>float32</th><th>float32</th><th>int16</th><th>int16</th><th>float32</th><th>float32</th><th>float32</th><th>float32</th><th>str4</th><th>uint16</th><th>float32</th><th>float32</th><th>float32</th><th>float32</th><th>float32</th><th>float32</th><th>float32</th><th>float64</th><th>float64</th></tr></thead>\n",
       "<tr><td>7</td><td>332.35</td><td>12.32</td><td>0</td><td>1</td><td>0.0744952</td><td>1.07357</td><td>1.0</td><td>3596.16</td><td>DARK</td><td>1</td><td>1.26239</td><td>1.57343</td><td>-9.10874</td><td>2000.95</td><td>180.0</td><td>21.2465</td><td>21.8523</td><td>-33.6823751944</td><td>72.7243045556</td></tr>\n",
       "</table>"
      ],
      "text/plain": [
       "<Row index=3>\n",
       "TILEID    RA     DEC    PASS IN_DESI  EBV_MED  AIRMASS EXPOSEFAC STAR_DENSITY PROGRAM OBSCONDITIONS I_INCREASE G_INCREASE    HA    OBSTIME OVERHEAD BEGINOBS  ENDOBS    GALACLAT       GALACLON  \n",
       "         deg     deg                                               1 / deg2                                                                                                                      \n",
       "int32  float32 float32 int16  int16   float32  float32  float32    float32      str4      uint16     float32    float32   float32  float32 float32  float32  float32    float64        float64   \n",
       "------ ------- ------- ----- ------- --------- ------- --------- ------------ ------- ------------- ---------- ---------- -------- ------- -------- -------- ------- -------------- -------------\n",
       "     7  332.35   12.32     0       1 0.0744952 1.07357       1.0      3596.16    DARK             1    1.26239    1.57343 -9.10874 2000.95    180.0  21.2465 21.8523 -33.6823751944 72.7243045556"
      ]
     },
     "execution_count": 18,
     "metadata": {},
     "output_type": "execute_result"
    }
   ],
   "source": [
    "full_tile_data = Table.read('/home/forero/desihub/surveysim/py/surveysim/data/desi-tiles.fits')\n",
    "full_tile_data[3]"
   ]
  },
  {
   "cell_type": "code",
   "execution_count": 25,
   "metadata": {
    "collapsed": false
   },
   "outputs": [
    {
     "name": "stdout",
     "output_type": "stream",
     "text": [
      "epoch 0\n",
      "planned 10092\n",
      "done 38 [20866 26628 24453 24454 18684 20882 20883 24468 24118 24452 26683 20892\n",
      " 20893 24446 18687 24449 24450 20875 20876 24469 24470 20891 20894 20895\n",
      " 20896 20899 20901 24102 24634 24131 24132 24141 24653 24656 18390 17404\n",
      " 24444 24447]\n",
      "\n",
      "\n",
      "epoch 1\n",
      "planned 10031\n",
      "done 22 [24512 26656 18370 24484 26661 26663 24499 18891 18380 19170 18894 20911\n",
      " 18896 18386 18387 24500 18872 26653 26654 26655 26664 24513]\n",
      "\n",
      "\n",
      "epoch 2\n",
      "planned 10009\n",
      "done 18 [18722 19205 18927 24456 18697 24458 18892 18893 18895 18735 18738 18388\n",
      " 24457 19192 18717 24475 24477 18718]\n",
      "\n",
      "\n",
      "epoch 3\n",
      "planned 9991\n",
      "done 36 [18692 18694 18696 28779 18733 18734 18736 19154 28761 19198 18911 18690\n",
      " 18691 18693 19206 18695 18704 18705 18706 18713 18715 18716 18723 18739\n",
      " 18740 18747 18749 18750 18757 19158 18912 18913 18914 28780 18928 19193]\n",
      "\n",
      "\n",
      "epoch 4\n",
      "planned 9955\n",
      "done 50 [18688 20871 17420 18703 18707 18708 18712 18714 18725 18732 18746 18748\n",
      " 18751 18753 18759 19156 18915 19175 18416 18929 18930 18685 19199 19209\n",
      " 20874 18700 20877 20878 20496 18709 18710 18711 18724 18726 18729 18730\n",
      " 18741 18752 18754 18755 18756 18758 18760 18764 24142 24150 19194 19171\n",
      " 18931 18682]\n",
      "\n",
      "\n",
      "TILEID STATUS\n",
      "------ ------\n",
      " 26628      2\n",
      " 26683      2\n",
      " 24118      2\n",
      " 24454      2\n",
      " 24453      2\n",
      " 24468      2\n",
      " 24452      2\n",
      " 24446      2\n",
      " 18684      2\n",
      " 18687      2\n",
      "   ...    ...\n",
      " 18730      2\n",
      " 18729      2\n",
      " 18726      2\n",
      " 18711      2\n",
      " 18709      2\n",
      " 18710      2\n",
      " 18682      2\n",
      " 20874      2\n",
      " 20877      2\n",
      " 20878      2\n",
      " 20496      2\n",
      "Length = 187 rows\n"
     ]
    },
    {
     "data": {
      "text/plain": [
       "(187, {2})"
      ]
     },
     "execution_count": 25,
     "metadata": {},
     "output_type": "execute_result"
    }
   ],
   "source": [
    "for i in range(n_epochs):\n",
    "    id_plan = np.loadtxt(\"epoch{}.txt\".format(i), dtype='int')\n",
    "    id_list = np.loadtxt(\"observed_epoch{}.txt\".format(i), dtype='int')\n",
    "    print(\"epoch {}\".format(i))\n",
    "    print(\"planned {}\".format(len(id_plan), id_plan))\n",
    "    print(\"done {} {}\\n\\n\".format(len(id_list), id_list))\n",
    "\n",
    "done_tiles = Table.read(\"tiles_observed.fits\")\n",
    "print done_tiles\n",
    "len(set(done_tiles['TILEID'])), set(done_tiles['STATUS']), "
   ]
  },
  {
   "cell_type": "code",
   "execution_count": null,
   "metadata": {
    "collapsed": false
   },
   "outputs": [],
   "source": []
  }
 ],
 "metadata": {
  "kernelspec": {
   "display_name": "Python 2",
   "language": "python",
   "name": "python2"
  },
  "language_info": {
   "codemirror_mode": {
    "name": "ipython",
    "version": 2
   },
   "file_extension": ".py",
   "mimetype": "text/x-python",
   "name": "python",
   "nbconvert_exporter": "python",
   "pygments_lexer": "ipython2",
   "version": "2.7.6"
  }
 },
 "nbformat": 4,
 "nbformat_minor": 0
}
