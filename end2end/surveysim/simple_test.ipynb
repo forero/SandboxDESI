{
 "cells": [
  {
   "cell_type": "code",
   "execution_count": 1,
   "metadata": {
    "collapsed": true
   },
   "outputs": [],
   "source": [
    "%matplotlib inline\n",
    "%load_ext autoreload\n",
    "%autoreload 2\n",
    "\n",
    "import matplotlib.pyplot as plt\n",
    "from astropy.table import Table\n",
    "import numpy as np\n",
    "import os.path\n",
    "import datetime "
   ]
  },
  {
   "cell_type": "code",
   "execution_count": 2,
   "metadata": {
    "collapsed": false
   },
   "outputs": [],
   "source": [
    "from surveysim.wrapper import surveySim"
   ]
  },
  {
   "cell_type": "code",
   "execution_count": 3,
   "metadata": {
    "collapsed": false
   },
   "outputs": [],
   "source": [
    "def collect_tile_id(start, end):\n",
    "    day_now = start\n",
    "    id_list = np.empty((0), dtype=int)\n",
    "    id_plan = np.empty((0), dtype=int)\n",
    "    while(day_now <= end):\n",
    "        day_now = day_now + datetime.timedelta(days=1)\n",
    "        listdirName = \"{}{}{:02d}{:02d}{}\".format('obslist',day_now.year, day_now.month, day_now.day, '.fits')   \n",
    "        plandirName = \"{}{}{:02d}{:02d}{}\".format('obsplan',day_now.year, day_now.month, day_now.day, '.fits')    \n",
    "\n",
    "        #print(day_now,listdirName)\n",
    "        if os.path.exists(listdirName):\n",
    "            a = Table.read(listdirName)\n",
    "            set_a = set(a['TILEID'])\n",
    "            set_id = set(id_list)\n",
    "            set_diff = set_a - set_id\n",
    "            id_list = np.append(id_list, np.array(list(set_diff), dtype=int)) #only add the IDs that don't repeat\n",
    "        \n",
    "        if os.path.exists(plandirName):\n",
    "            a = Table.read(plandirName)\n",
    "            set_a = set(a['TILEID'])\n",
    "            set_id = set(id_plan)\n",
    "            set_diff = set_a - set_id\n",
    "            id_plan = np.append(id_plan, np.array(list(set_diff), dtype=int)) #only add the IDs that don't repeat\n",
    "    \n",
    "    return {'OBSERVED':id_list, 'PLANNED':id_plan}"
   ]
  },
  {
   "cell_type": "code",
   "execution_count": 31,
   "metadata": {
    "collapsed": false
   },
   "outputs": [
    {
     "name": "stdout",
     "output_type": "stream",
     "text": [
      "\n",
      "\n",
      "\n",
      "The survey will start from the scratch.\n",
      "Conditions at the beginning of the night: \n",
      "{'Seeing': 1.196851935764025, 'Clouds': 0.15201843837467036, 'Transparency': 0.6684208267785129, 'OpenDome': True}\n",
      "('Estimated exposure = ', 1343.8992967188194, 'Maximum allowed exposure = ', 1662.9585)\n",
      "('Estimated exposure = ', 1357.4554876361458, 'Maximum allowed exposure = ', 1623.062)\n",
      "('Estimated exposure = ', 1291.1696716866707, 'Maximum allowed exposure = ', 1623.062)\n",
      "('Estimated exposure = ', 1261.6123186480763, 'Maximum allowed exposure = ', 1623.062)\n",
      "('Estimated exposure = ', 1293.1396650317497, 'Maximum allowed exposure = ', 1623.062)\n",
      "('Estimated exposure = ', 1296.4803306338979, 'Maximum allowed exposure = ', 1633.3102)\n",
      "('Estimated exposure = ', 1378.8046804144408, 'Maximum allowed exposure = ', 2453.3447)\n",
      "('Estimated exposure = ', 1313.2130540349478, 'Maximum allowed exposure = ', 2453.3447)\n",
      "('Estimated exposure = ', 1311.6362193045402, 'Maximum allowed exposure = ', 1802.9031)\n",
      "('Estimated exposure = ', 1366.4851569035957, 'Maximum allowed exposure = ', 1726.4513)\n",
      "('On the night starting ', '2016-12-02 00:27:00.000', ', we observed ', 10, ' tiles.')\n",
      "Conditions at the beginning of the night: \n",
      "{'Seeing': 1.1502311087102586, 'Clouds': 0.21195372572839882, 'Transparency': 0.49598547683956307, 'OpenDome': False}\n",
      "('On the night starting ', '2016-12-03 00:27:00.000', ', we observed ', 0, ' tiles.')\n",
      "Conditions at the beginning of the night: \n",
      "{'Seeing': 0.9842651382895907, 'Clouds': 0.21691488657237698, 'Transparency': 0.7169710257017656, 'OpenDome': True}\n",
      "('Estimated exposure = ', 1452.7127638511063, 'Maximum allowed exposure = ', 2453.3447)\n",
      "('Estimated exposure = ', 1420.9861276665481, 'Maximum allowed exposure = ', 1802.9031)\n",
      "('Estimated exposure = ', 1432.4716962303539, 'Maximum allowed exposure = ', 1726.4513)\n",
      "('On the night starting ', '2016-12-04 00:27:00.000', ', we observed ', 3, ' tiles.')\n",
      "Conditions at the beginning of the night: \n",
      "{'Seeing': 1.0980454974651312, 'Clouds': 0.19042842625828074, 'Transparency': 0.790639832533816, 'OpenDome': False}\n",
      "('On the night starting ', '2016-12-05 00:27:00.000', ', we observed ', 0, ' tiles.')\n",
      "Conditions at the beginning of the night: \n",
      "{'Seeing': 1.24001568164048, 'Clouds': 0.19566983107670344, 'Transparency': 0.715457727747721, 'OpenDome': True}\n",
      "('Estimated exposure = ', 1485.2783150950922, 'Maximum allowed exposure = ', 2453.3447)\n",
      "('Estimated exposure = ', 1441.8080702851069, 'Maximum allowed exposure = ', 1802.9031)\n",
      "('Estimated exposure = ', 1439.9060169057188, 'Maximum allowed exposure = ', 1726.4513)\n",
      "('On the night starting ', '2016-12-06 00:27:00.000', ', we observed ', 3, ' tiles.')\n",
      "[1464 1481 1450 1787 1486] 5 17069\n",
      "These were the observed tiles: [1464 1481 1450 1787 1486]\n",
      "\n",
      "\n",
      "\n",
      "Conditions at the beginning of the night: \n",
      "{'Seeing': 1.1897485859906385, 'Clouds': 0.060507535372850973, 'Transparency': 0.8144576180677661, 'OpenDome': True}\n",
      "('Estimated exposure = ', 1103.4389373467575, 'Maximum allowed exposure = ', 2453.3447)\n",
      "('Estimated exposure = ', 1170.3281430060867, 'Maximum allowed exposure = ', 1779.51)\n",
      "('Estimated exposure = ', 1143.4324479965283, 'Maximum allowed exposure = ', 1802.9031)\n",
      "('Estimated exposure = ', 1154.2211055230721, 'Maximum allowed exposure = ', 1726.4513)\n",
      "('On the night starting ', '2016-12-07 00:27:00.000', ', we observed ', 4, ' tiles.')\n",
      "Conditions at the beginning of the night: \n",
      "{'Seeing': 1.013246164875765, 'Clouds': 0.22385342792136298, 'Transparency': 0.8150853399568931, 'OpenDome': True}\n",
      "('Estimated exposure = ', 1124.7470040419644, 'Maximum allowed exposure = ', 2453.3447)\n",
      "('Estimated exposure = ', 1196.7740114013293, 'Maximum allowed exposure = ', 1779.51)\n",
      "('Estimated exposure = ', 1145.0963230829998, 'Maximum allowed exposure = ', 1802.9031)\n",
      "('Estimated exposure = ', 1161.5532774466194, 'Maximum allowed exposure = ', 1726.4513)\n",
      "('On the night starting ', '2016-12-08 00:27:00.000', ', we observed ', 4, ' tiles.')\n",
      "Conditions at the beginning of the night: \n",
      "{'Seeing': 1.1846603780913594, 'Clouds': 0.20110668861856473, 'Transparency': 0.7872089567739872, 'OpenDome': False}\n",
      "('On the night starting ', '2016-12-09 00:27:00.000', ', we observed ', 0, ' tiles.')\n",
      "Conditions at the beginning of the night: \n",
      "{'Seeing': 1.1168475495751193, 'Clouds': 0.07956539403427967, 'Transparency': 0.8604009411665908, 'OpenDome': False}\n",
      "('On the night starting ', '2016-12-10 00:27:00.000', ', we observed ', 0, ' tiles.')\n",
      "Conditions at the beginning of the night: \n",
      "{'Seeing': 1.019548281300055, 'Clouds': 0.11932681024386431, 'Transparency': 0.47006529111554307, 'OpenDome': True}\n",
      "('Estimated exposure = ', 1837.0041911885801, 'Maximum allowed exposure = ', 2453.3447)\n",
      "('Estimated exposure = ', 1805.7339736337012, 'Maximum allowed exposure = ', 1802.9031)\n",
      "('Estimated exposure = ', 1752.4843661782693, 'Maximum allowed exposure = ', 1726.4513)\n",
      "('On the night starting ', '2016-12-11 00:28:00.000', ', we observed ', 1, ' tiles.')\n",
      "[1464 1481 1450 1486 3338 3376] 6 17069\n",
      "These were the observed tiles: [1464 1481 1450 1486 3338 3376]\n",
      "\n",
      "\n",
      "\n",
      "Conditions at the beginning of the night: \n",
      "{'Seeing': 1.2343415452114683, 'Clouds': 0.03562064876283977, 'Transparency': 0.668885716122981, 'OpenDome': True}\n",
      "('Estimated exposure = ', 1426.2090108570023, 'Maximum allowed exposure = ', 2453.3447)\n",
      "('Estimated exposure = ', 1473.6921475999893, 'Maximum allowed exposure = ', 1802.9031)\n",
      "('Estimated exposure = ', 1461.1465467866574, 'Maximum allowed exposure = ', 1726.4513)\n",
      "('Estimated exposure = ', 1403.9147627886505, 'Maximum allowed exposure = ', 1726.4513)\n",
      "('On the night starting ', '2016-12-12 00:28:00.000', ', we observed ', 4, ' tiles.')\n",
      "Conditions at the beginning of the night: \n",
      "{'Seeing': 1.1914004245743883, 'Clouds': 0.35439795399929697, 'Transparency': 0.38651814638020876, 'OpenDome': True}\n",
      "('Estimated exposure = ', 2455.5570019552333, 'Maximum allowed exposure = ', 2453.3447)\n",
      "('Estimated exposure = ', 2468.7764779986755, 'Maximum allowed exposure = ', 1802.9031)\n",
      "('Estimated exposure = ', 3079.0238408105411, 'Maximum allowed exposure = ', 2072.3096)\n",
      "('On the night starting ', '2016-12-13 00:28:00.000', ', we observed ', 0, ' tiles.')\n",
      "Conditions at the beginning of the night: \n",
      "{'Seeing': 1.139055853207449, 'Clouds': 0.16238530234278037, 'Transparency': 0.24360979542552275, 'OpenDome': True}\n",
      "('Estimated exposure = ', 2270.6622399346306, 'Maximum allowed exposure = ', 2453.3447)\n",
      "('Estimated exposure = ', 2307.6911189106177, 'Maximum allowed exposure = ', 1779.51)\n",
      "('Estimated exposure = ', 2706.021014244302, 'Maximum allowed exposure = ', 2072.3096)\n",
      "('On the night starting ', '2016-12-14 00:28:00.000', ', we observed ', 1, ' tiles.')\n",
      "Conditions at the beginning of the night: \n",
      "{'Seeing': 1.1654685848211117, 'Clouds': 0.40828518003136377, 'Transparency': 0.7524742306544892, 'OpenDome': True}\n",
      "('On the night starting ', '2016-12-15 00:29:00.000', ', we observed ', 0, ' tiles.')\n",
      "Conditions at the beginning of the night: \n",
      "{'Seeing': 0.9544809544628174, 'Clouds': 0.06821229353154423, 'Transparency': 0.7299726865513925, 'OpenDome': False}\n",
      "('On the night starting ', '2016-12-16 00:29:00.000', ', we observed ', 0, ' tiles.')\n",
      "[1464 3383 1452 1463 1486] 5 17069\n",
      "These were the observed tiles: [1464 3383 1452 1463 1486]\n"
     ]
    }
   ],
   "source": [
    "start_string = \"01-12-2016\"\n",
    "start = datetime.datetime.strptime(start_string, \"%d-%m-%Y\")\n",
    "\n",
    "n_epochs = 3\n",
    "days_per_epoch = 4\n",
    "\n",
    "fiberassign_cadence = datetime.timedelta(days=days_per_epoch)\n",
    "end = start + fiberassign_cadence \n",
    "\n",
    "for i in range(n_epochs):\n",
    "    print('\\n\\n')\n",
    "    surveySim(start.day, start.month, start.year, end.day, end.month, end.year)\n",
    "    dd = collect_tile_id(start, end)\n",
    "    print dd['OBSERVED'], len(dd['OBSERVED']), len(dd['PLANNED'])\n",
    "    print ('These were the observed tiles: {}'.format(dd['OBSERVED']))\n",
    "    np.savetxt('observed_epoch{}.txt'.format(i), dd['OBSERVED'], fmt='%d')\n",
    "    np.savetxt('epoch{}.txt'.format(i), dd['PLANNED'], fmt='%d')\n",
    "    start = start + fiberassign_cadence + obs_cadence\n",
    "    end = start + fiberassign_cadence"
   ]
  },
  {
   "cell_type": "code",
   "execution_count": 33,
   "metadata": {
    "collapsed": false
   },
   "outputs": [
    {
     "name": "stdout",
     "output_type": "stream",
     "text": [
      "epoch 0\n",
      "planned 17069\n",
      "done 5 [ 1464.  1481.  1450.  1787.  1486.]\n",
      "\n",
      "\n",
      "epoch 1\n",
      "planned 17069\n",
      "done 6 [ 1464.  1481.  1450.  1486.  3338.  3376.]\n",
      "\n",
      "\n",
      "epoch 2\n",
      "planned 17069\n",
      "done 5 [ 1464.  3383.  1452.  1463.  1486.]\n",
      "\n",
      "\n",
      "TILEID STATUS\n",
      "------ ------\n",
      "  1907      2\n",
      "  1923      2\n",
      "  1923      2\n",
      "  1923      2\n",
      "  1923      2\n",
      " 13447      2\n",
      "  1486      2\n",
      "  1486      2\n",
      "  1464      2\n",
      "  1450      2\n",
      "   ...    ...\n",
      "  1450      2\n",
      "  1486      2\n",
      "  1481      2\n",
      "  1464      2\n",
      "  1450      2\n",
      "  1486      2\n",
      "  1486      2\n",
      "  1464      2\n",
      "  1450      2\n",
      "  1450      2\n",
      "  1486      2\n",
      "Length = 30 rows\n"
     ]
    },
    {
     "data": {
      "text/plain": [
       "({1450, 1464, 1481, 1486, 1907, 1923, 13447}, {2})"
      ]
     },
     "execution_count": 33,
     "metadata": {},
     "output_type": "execute_result"
    }
   ],
   "source": [
    "for i in range(n_epochs):\n",
    "    id_plan = np.loadtxt(\"epoch{}.txt\".format(i))\n",
    "    id_list = np.loadtxt(\"observed_epoch{}.txt\".format(i))\n",
    "    print(\"epoch {}\".format(i))\n",
    "    print(\"planned {}\".format(len(id_plan), id_plan))\n",
    "    print(\"done {} {}\\n\\n\".format(len(id_list), id_list))\n",
    "\n",
    "done_tiles = Table.read(\"tiles_observed.fits\")\n",
    "print done_tiles\n",
    "set(done_tiles['TILEID']), set(done_tiles['STATUS'])"
   ]
  },
  {
   "cell_type": "code",
   "execution_count": null,
   "metadata": {
    "collapsed": false
   },
   "outputs": [],
   "source": []
  }
 ],
 "metadata": {
  "kernelspec": {
   "display_name": "Python 2",
   "language": "python",
   "name": "python2"
  },
  "language_info": {
   "codemirror_mode": {
    "name": "ipython",
    "version": 2
   },
   "file_extension": ".py",
   "mimetype": "text/x-python",
   "name": "python",
   "nbconvert_exporter": "python",
   "pygments_lexer": "ipython2",
   "version": "2.7.6"
  }
 },
 "nbformat": 4,
 "nbformat_minor": 0
}
