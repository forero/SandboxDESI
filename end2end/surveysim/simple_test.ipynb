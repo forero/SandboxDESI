{
 "cells": [
  {
   "cell_type": "code",
   "execution_count": 5,
   "metadata": {
    "collapsed": false
   },
   "outputs": [
    {
     "name": "stdout",
     "output_type": "stream",
     "text": [
      "The autoreload extension is already loaded. To reload it, use:\n",
      "  %reload_ext autoreload\n"
     ]
    }
   ],
   "source": [
    "%matplotlib inline\n",
    "%load_ext autoreload\n",
    "%autoreload 2\n",
    "\n",
    "import matplotlib.pyplot as plt\n",
    "from astropy.table import Table\n",
    "import numpy as np\n",
    "import os.path\n",
    "import datetime "
   ]
  },
  {
   "cell_type": "code",
   "execution_count": 6,
   "metadata": {
    "collapsed": false
   },
   "outputs": [],
   "source": [
    "from surveysim.wrapper import surveySim"
   ]
  },
  {
   "cell_type": "code",
   "execution_count": 7,
   "metadata": {
    "collapsed": false
   },
   "outputs": [],
   "source": [
    "def collect_tile_id(start, end):\n",
    "    day_now = start\n",
    "    id_list = np.empty((0), dtype=int)\n",
    "    id_plan = np.empty((0), dtype=int)\n",
    "    while(day_now <= end):\n",
    "        day_now = day_now + datetime.timedelta(days=1)\n",
    "        listdirName = \"{}{}{:02d}{:02d}{}\".format('obslist',day_now.year, day_now.month, day_now.day, '.fits')   \n",
    "        plandirName = \"{}{}{:02d}{:02d}{}\".format('obsplan',day_now.year, day_now.month, day_now.day, '.fits')    \n",
    "\n",
    "        #print(day_now,listdirName)\n",
    "        if os.path.exists(listdirName):\n",
    "            a = Table.read(listdirName)\n",
    "            set_a = set(a['TILEID'])\n",
    "            set_id = set(id_list)\n",
    "            set_diff = set_a - set_id\n",
    "            id_list = np.append(id_list, np.array(list(set_diff), dtype=int)) #only add the IDs that don't repeat\n",
    "        \n",
    "        if os.path.exists(plandirName):\n",
    "            a = Table.read(plandirName)\n",
    "            set_a = set(a['TILEID'])\n",
    "            set_id = set(id_plan)\n",
    "            set_diff = set_a - set_id\n",
    "            id_plan = np.append(id_plan, np.array(list(set_diff), dtype=int)) #only add the IDs that don't repeat\n",
    "    \n",
    "    return {'OBSERVED':id_list, 'PLANNED':id_plan}"
   ]
  },
  {
   "cell_type": "code",
   "execution_count": 8,
   "metadata": {
    "collapsed": false,
    "scrolled": true
   },
   "outputs": [
    {
     "name": "stdout",
     "output_type": "stream",
     "text": [
      "\n",
      "\n",
      "\n",
      "Conditions at the beginning of the night: \n",
      "{'Seeing': 1.053417526036148, 'Clouds': 0.09126495839298782, 'Transparency': 0.8341577200663124, 'OpenDome': True}\n",
      "('Estimated exposure = ', 289.36915608473294, 'Maximum allowed exposure = ', 1662.9585)\n",
      "('Estimated exposure = ', 912.75066311324406, 'Maximum allowed exposure = ', 1643.8461)\n",
      "('Estimated exposure = ', 915.02542913712546, 'Maximum allowed exposure = ', 1623.062)\n",
      "('Estimated exposure = ', 890.339389994812, 'Maximum allowed exposure = ', 1623.062)\n",
      "('Estimated exposure = ', 886.19682858527779, 'Maximum allowed exposure = ', 1623.062)\n",
      "('Estimated exposure = ', 910.14616480869233, 'Maximum allowed exposure = ', 1623.062)\n",
      "('Estimated exposure = ', 913.90102015132675, 'Maximum allowed exposure = ', 1623.062)\n",
      "('Estimated exposure = ', 928.00972441401427, 'Maximum allowed exposure = ', 1623.062)\n",
      "('Estimated exposure = ', 928.87408746453025, 'Maximum allowed exposure = ', 1633.3102)\n",
      "('Estimated exposure = ', 1032.212397054541, 'Maximum allowed exposure = ', 2453.3447)\n",
      "('Estimated exposure = ', 1016.2375064839282, 'Maximum allowed exposure = ', 2453.3447)\n",
      "('Estimated exposure = ', 1057.823908172579, 'Maximum allowed exposure = ', 1779.51)\n",
      "('Estimated exposure = ', 1022.8153304903165, 'Maximum allowed exposure = ', 1802.9031)\n",
      "('Estimated exposure = ', 1012.024095730198, 'Maximum allowed exposure = ', 1726.4513)\n",
      "('Estimated exposure = ', 980.51458711866155, 'Maximum allowed exposure = ', 1726.4513)\n",
      "('On the night starting ', '2016-12-02 00:27:00.000', ', we observed ', 15, ' tiles.')\n",
      "Conditions at the beginning of the night: \n",
      "{'Seeing': 1.1659720826001327, 'Clouds': 0.08566319682728807, 'Transparency': 0.5685564891847925, 'OpenDome': True}\n",
      "('Estimated exposure = ', 2437.0318206479506, 'Maximum allowed exposure = ', 2453.3447)\n",
      "('Estimated exposure = ', 2547.1137087592383, 'Maximum allowed exposure = ', 1726.1833)\n",
      "('On the night starting ', '2016-12-03 00:27:00.000', ', we observed ', 1, ' tiles.')\n",
      "Conditions at the beginning of the night: \n",
      "{'Seeing': 1.0782500738795697, 'Clouds': 0.20892578833363942, 'Transparency': 0.8027215042496677, 'OpenDome': True}\n",
      "('Estimated exposure = ', 1283.4627154072939, 'Maximum allowed exposure = ', 2453.3447)\n",
      "('Estimated exposure = ', 1294.7946909179323, 'Maximum allowed exposure = ', 1779.51)\n",
      "('Estimated exposure = ', 1264.500458147852, 'Maximum allowed exposure = ', 1726.1833)\n",
      "('Estimated exposure = ', 1214.4776830792594, 'Maximum allowed exposure = ', 1726.4513)\n",
      "('On the night starting ', '2016-12-04 00:27:00.000', ', we observed ', 4, ' tiles.')\n",
      "Conditions at the beginning of the night: \n",
      "{'Seeing': 1.2267263928523102, 'Clouds': 0.24467388887921293, 'Transparency': 0.7527459999956465, 'OpenDome': True}\n",
      "('Estimated exposure = ', 1012.8903184039353, 'Maximum allowed exposure = ', 2453.3447)\n",
      "('Estimated exposure = ', 1058.3835797232371, 'Maximum allowed exposure = ', 1779.51)\n",
      "('Estimated exposure = ', 1037.8450094933305, 'Maximum allowed exposure = ', 1802.9031)\n",
      "('Estimated exposure = ', 1045.2981758135691, 'Maximum allowed exposure = ', 1726.4513)\n",
      "('Estimated exposure = ', 1034.9799890891409, 'Maximum allowed exposure = ', 1726.4513)\n",
      "('On the night starting ', '2016-12-05 00:27:00.000', ', we observed ', 5, ' tiles.')\n",
      "Conditions at the beginning of the night: \n",
      "{'Seeing': 1.0701211760478704, 'Clouds': 0.22729032025666168, 'Transparency': 0.8795628320035105, 'OpenDome': False}\n",
      "('On the night starting ', '2016-12-06 00:27:00.000', ', we observed ', 0, ' tiles.')\n",
      "[1486 1481 1450 1463 1464] 5 17069\n",
      "These were the observed tiles: [1486 1481 1450 1463 1464]\n"
     ]
    },
    {
     "ename": "NameError",
     "evalue": "name 'obs_cadence' is not defined",
     "output_type": "error",
     "traceback": [
      "\u001b[1;31m---------------------------------------------------------------------------\u001b[0m",
      "\u001b[1;31mNameError\u001b[0m                                 Traceback (most recent call last)",
      "\u001b[1;32m<ipython-input-8-a4c78364ca3d>\u001b[0m in \u001b[0;36m<module>\u001b[1;34m()\u001b[0m\n\u001b[0;32m     16\u001b[0m     \u001b[0mnp\u001b[0m\u001b[1;33m.\u001b[0m\u001b[0msavetxt\u001b[0m\u001b[1;33m(\u001b[0m\u001b[1;34m'observed_epoch{}.txt'\u001b[0m\u001b[1;33m.\u001b[0m\u001b[0mformat\u001b[0m\u001b[1;33m(\u001b[0m\u001b[0mi\u001b[0m\u001b[1;33m)\u001b[0m\u001b[1;33m,\u001b[0m \u001b[0mdd\u001b[0m\u001b[1;33m[\u001b[0m\u001b[1;34m'OBSERVED'\u001b[0m\u001b[1;33m]\u001b[0m\u001b[1;33m,\u001b[0m \u001b[0mfmt\u001b[0m\u001b[1;33m=\u001b[0m\u001b[1;34m'%d'\u001b[0m\u001b[1;33m)\u001b[0m\u001b[1;33m\u001b[0m\u001b[0m\n\u001b[0;32m     17\u001b[0m     \u001b[0mnp\u001b[0m\u001b[1;33m.\u001b[0m\u001b[0msavetxt\u001b[0m\u001b[1;33m(\u001b[0m\u001b[1;34m'epoch{}.txt'\u001b[0m\u001b[1;33m.\u001b[0m\u001b[0mformat\u001b[0m\u001b[1;33m(\u001b[0m\u001b[0mi\u001b[0m\u001b[1;33m)\u001b[0m\u001b[1;33m,\u001b[0m \u001b[0mdd\u001b[0m\u001b[1;33m[\u001b[0m\u001b[1;34m'PLANNED'\u001b[0m\u001b[1;33m]\u001b[0m\u001b[1;33m,\u001b[0m \u001b[0mfmt\u001b[0m\u001b[1;33m=\u001b[0m\u001b[1;34m'%d'\u001b[0m\u001b[1;33m)\u001b[0m\u001b[1;33m\u001b[0m\u001b[0m\n\u001b[1;32m---> 18\u001b[1;33m     \u001b[0mstart\u001b[0m \u001b[1;33m=\u001b[0m \u001b[0mstart\u001b[0m \u001b[1;33m+\u001b[0m \u001b[0mfiberassign_cadence\u001b[0m \u001b[1;33m+\u001b[0m \u001b[0mobs_cadence\u001b[0m\u001b[1;33m\u001b[0m\u001b[0m\n\u001b[0m\u001b[0;32m     19\u001b[0m     \u001b[0mend\u001b[0m \u001b[1;33m=\u001b[0m \u001b[0mstart\u001b[0m \u001b[1;33m+\u001b[0m \u001b[0mfiberassign_cadence\u001b[0m\u001b[1;33m\u001b[0m\u001b[0m\n",
      "\u001b[1;31mNameError\u001b[0m: name 'obs_cadence' is not defined"
     ]
    }
   ],
   "source": [
    "start_string = \"01-12-2016\"\n",
    "start = datetime.datetime.strptime(start_string, \"%d-%m-%Y\")\n",
    "\n",
    "n_epochs = 3\n",
    "days_per_epoch = 4\n",
    "\n",
    "fiberassign_cadence = datetime.timedelta(days=days_per_epoch)\n",
    "end = start + fiberassign_cadence \n",
    "\n",
    "for i in range(n_epochs):\n",
    "    print('\\n\\n')\n",
    "    surveySim(start.day, start.month, start.year, end.day, end.month, end.year)\n",
    "    dd = collect_tile_id(start, end)\n",
    "    print dd['OBSERVED'], len(dd['OBSERVED']), len(dd['PLANNED'])\n",
    "    print ('These were the observed tiles: {}'.format(dd['OBSERVED']))\n",
    "    np.savetxt('observed_epoch{}.txt'.format(i), dd['OBSERVED'], fmt='%d')\n",
    "    np.savetxt('epoch{}.txt'.format(i), dd['PLANNED'], fmt='%d')\n",
    "    start = start + fiberassign_cadence + obs_cadence\n",
    "    end = start + fiberassign_cadence"
   ]
  },
  {
   "cell_type": "code",
   "execution_count": null,
   "metadata": {
    "collapsed": true
   },
   "outputs": [],
   "source": [
    "for i in range(n_epochs):\n",
    "    id_plan = np.loadtxt(\"epoch{}.txt\".format(i))\n",
    "    id_list = np.loadtxt(\"observed_epoch{}.txt\".format(i))\n",
    "    print(\"epoch {}\".format(i))\n",
    "    print(\"planned {}\".format(len(id_plan), id_plan))\n",
    "    print(\"done {} {}\\n\\n\".format(len(id_list), id_list))\n",
    "\n",
    "done_tiles = Table.read(\"tiles_observed.fits\")\n",
    "print done_tiles\n",
    "set(done_tiles['TILEID']), set(done_tiles['STATUS'])"
   ]
  },
  {
   "cell_type": "code",
   "execution_count": null,
   "metadata": {
    "collapsed": false
   },
   "outputs": [],
   "source": []
  }
 ],
 "metadata": {
  "kernelspec": {
   "display_name": "Python 2",
   "language": "python",
   "name": "python2"
  },
  "language_info": {
   "codemirror_mode": {
    "name": "ipython",
    "version": 2
   },
   "file_extension": ".py",
   "mimetype": "text/x-python",
   "name": "python",
   "nbconvert_exporter": "python",
   "pygments_lexer": "ipython2",
   "version": "2.7.6"
  }
 },
 "nbformat": 4,
 "nbformat_minor": 0
}
