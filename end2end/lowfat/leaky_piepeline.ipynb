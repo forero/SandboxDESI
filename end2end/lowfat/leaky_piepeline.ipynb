{
 "cells": [
  {
   "cell_type": "code",
   "execution_count": 1,
   "metadata": {
    "collapsed": true
   },
   "outputs": [],
   "source": [
    "%matplotlib inline"
   ]
  },
  {
   "cell_type": "code",
   "execution_count": 3,
   "metadata": {
    "collapsed": false
   },
   "outputs": [],
   "source": [
    "import glob\n",
    "from astropy.table import Table, Column\n",
    "from astropy.io import fits\n",
    "from collections import Counter\n",
    "from __future__ import absolute_import, division, print_function\n",
    "\n",
    "import os\n",
    "from collections import Counter\n",
    "import numpy as np\n",
    "from astropy.io import fits\n",
    "from astropy.table import Table, Column, join\n",
    "\n",
    "import astropy.constants\n",
    "c = astropy.constants.c.to('km/s').value\n",
    "\n",
    "from desitarget.targets import desi_mask\n",
    "from desisim.quickcat import quickcat\n",
    "import matplotlib.pyplot as plt\n"
   ]
  },
  {
   "cell_type": "markdown",
   "metadata": {},
   "source": [
    "### Looking for targets that were in fiberassign, but missing in zcat"
   ]
  },
  {
   "cell_type": "code",
   "execution_count": 4,
   "metadata": {
    "collapsed": false
   },
   "outputs": [
    {
     "name": "stdout",
     "output_type": "stream",
     "text": [
      "512981 513326 513326\n",
      "[4614256656552045848  719950519532907646  798326793562667321\n",
      "  903655254845510473 4432805129904601986  170300333330830609\n",
      " 1463945693497080320 3486477277449985407 4217783430169681903\n",
      " 1398666948449819892]\n"
     ]
    }
   ],
   "source": [
    "tile_names = glob.glob(\"/home/forero/Data/desitest/lowfat_perfect/4/fiberassign/tile_*.fits\")\n",
    "nobs = Counter()\n",
    "desitarget = np.empty((), dtype='int64')\n",
    "targetid_fiber = np.empty((), dtype='int64')\n",
    "for tile_file in tile_names:\n",
    "    fibassign = Table.read(tile_file, hdu=1)\n",
    "    ii = (fibassign['TARGETID'] != -1) \n",
    "    nobs.update(fibassign['TARGETID'][ii])\n",
    "    desitarget = np.append(desitarget, np.array(fibassign['DESI_TARGET'][ii]))\n",
    "    targetid_fiber = np.append(targetid_fiber, np.array(fibassign['TARGETID'][ii]))\n",
    "\n",
    "print(len(nobs.keys()), len(targetid_fiber), len(desitarget))\n",
    "print(targetid_fiber[:10])\n",
    "targets = Table.read(\"/home/forero/Data/desitest/mtl/targets.fits\")\n",
    "truth = Table.read(\"/home/forero/Data/desitest/mtl/truth.fits\")\n",
    "mtl = Table.read(\"/home/forero/Data/desitest/lowfat_perfect/4/mtl.fits\")\n",
    "zcat = Table.read(\"/home/forero/Data/desitest/lowfat_perfect/4/zcat.fits\")"
   ]
  },
  {
   "cell_type": "code",
   "execution_count": 5,
   "metadata": {
    "collapsed": false
   },
   "outputs": [
    {
     "name": "stdout",
     "output_type": "stream",
     "text": [
      "['FIBER', 'POSITIONER', 'NUMTARGET', 'PRIORITY', 'TARGETID', 'DESI_TARGET', 'BGS_TARGET', 'MWS_TARGET', 'RA', 'DEC', 'XFOCAL_DESIGN', 'YFOCAL_DESIGN'] 2947950\n"
     ]
    }
   ],
   "source": [
    "print(fibassign.colnames, len(targets['TARGETID']))"
   ]
  },
  {
   "cell_type": "code",
   "execution_count": 6,
   "metadata": {
    "collapsed": false
   },
   "outputs": [],
   "source": [
    "ids_fiber = list(nobs.keys())\n",
    "ids_mtl = list(mtl['TARGETID'])\n",
    "ids_truth = list(truth['TARGETID'])\n",
    "ids_targets = list(targets['TARGETID'])\n",
    "ids_zcat = list(zcat['TARGETID'])"
   ]
  },
  {
   "cell_type": "code",
   "execution_count": 7,
   "metadata": {
    "collapsed": true
   },
   "outputs": [],
   "source": [
    "def find_missing(list_A, list_B): # |list_A| > |list_B|\n",
    "    a = list(set(list_A) & set(list_B)) #find the intersection\n",
    "    missing = list(set(list_B) - set(a)) #find B minus the intersection\n",
    "    return missing #these are the IDs in B that are missing in A"
   ]
  },
  {
   "cell_type": "code",
   "execution_count": 8,
   "metadata": {
    "collapsed": false
   },
   "outputs": [
    {
     "name": "stdout",
     "output_type": "stream",
     "text": [
      "0\n",
      "66505\n",
      "66505\n",
      "0\n",
      "66505\n",
      "66505\n"
     ]
    }
   ],
   "source": [
    "missing = find_missing(ids_targets, ids_mtl)\n",
    "print(len(missing))\n",
    "missing = find_missing(ids_targets, ids_fiber)\n",
    "print(len(missing))\n",
    "missing = find_missing(ids_mtl, ids_fiber)\n",
    "print(len(missing))\n",
    "missing = find_missing(list(set(targetid_fiber)), ids_fiber)\n",
    "print(len(missing))\n",
    "missing = find_missing(ids_truth, ids_fiber)\n",
    "print(len(missing))\n",
    "missing = find_missing(ids_zcat, ids_fiber)\n",
    "print(len(missing))"
   ]
  },
  {
   "cell_type": "markdown",
   "metadata": {},
   "source": [
    "The ```Counter(c[iiobs])``` tells us that in fact the missing targets are sky and standard stars. Nothing to worry."
   ]
  },
  {
   "cell_type": "code",
   "execution_count": 9,
   "metadata": {
    "collapsed": false
   },
   "outputs": [
    {
     "name": "stdout",
     "output_type": "stream",
     "text": [
      "513326 66505 513326\n",
      "Counter({4294967296: 53480, 8589934592: 13369})\n",
      "[4611632229615896532, 4611650799465734666, 4611655861388044274, 4611667287054992550, 4611682678262325494]\n",
      "[4611383764447071247 4611454756065059442 4611470019085638056\n",
      " 4611550344386585230 4611558383850489773]\n"
     ]
    }
   ],
   "source": [
    "a = np.array(targetid_fiber, dtype='int64')\n",
    "b = np.array(missing)\n",
    "c = np.array(desitarget, dtype='int64')\n",
    "print(len(a), len(b), len(c))\n",
    "iiobs = np.in1d( a, b)\n",
    "#print(a, b)\n",
    "print(Counter(c[iiobs]))\n",
    "l  = nobs.keys()\n",
    "l.sort()\n",
    "b.sort()\n",
    "print(l[-5:])\n",
    "print(b[-5:])"
   ]
  },
  {
   "cell_type": "markdown",
   "metadata": {},
   "source": [
    "### Checking that the number of observations is correctly propagated\n",
    "\n",
    "(Based on S. Bailey code)"
   ]
  },
  {
   "cell_type": "code",
   "execution_count": 10,
   "metadata": {
    "collapsed": true
   },
   "outputs": [],
   "source": [
    "targets = Table.read(\"/home/forero/Data/desitest/mtl/targets.fits\")\n",
    "truth = Table.read(\"/home/forero/Data/desitest/mtl/truth.fits\")"
   ]
  },
  {
   "cell_type": "code",
   "execution_count": 11,
   "metadata": {
    "collapsed": true
   },
   "outputs": [],
   "source": [
    "#- truth and targets are row-matched, so directly add columns instead of join\n",
    "for colname in targets.colnames:\n",
    "    if colname not in truth.colnames:\n",
    "        truth[colname] = targets[colname]"
   ]
  },
  {
   "cell_type": "code",
   "execution_count": 12,
   "metadata": {
    "collapsed": false
   },
   "outputs": [
    {
     "name": "stdout",
     "output_type": "stream",
     "text": [
      "['TARGETID', 'BRICKNAME', 'RA', 'DEC', 'TRUEZ', 'TRUETYPE', 'CATEGORY', 'DESI_TARGET', 'BGS_TARGET', 'MWS_TARGET', 'SUBPRIORITY']\n"
     ]
    }
   ],
   "source": [
    "print (truth.colnames)"
   ]
  },
  {
   "cell_type": "code",
   "execution_count": 13,
   "metadata": {
    "collapsed": false
   },
   "outputs": [
    {
     "data": {
      "text/plain": [
       "Counter({(1, 'GALAXY'): 291029,\n",
       "         (1, 'UNKNOWN'): 48639,\n",
       "         (2, 'GALAXY'): 2354756,\n",
       "         (4, 'QSO'): 165428,\n",
       "         (4, 'STAR'): 88098})"
      ]
     },
     "execution_count": 13,
     "metadata": {},
     "output_type": "execute_result"
    }
   ],
   "source": [
    "Counter(zip(truth['DESI_TARGET'], truth['TRUETYPE']))"
   ]
  },
  {
   "cell_type": "code",
   "execution_count": 14,
   "metadata": {
    "collapsed": true
   },
   "outputs": [],
   "source": [
    "iilrg = ((truth['DESI_TARGET'] & desi_mask.LRG) != 0) & (truth['TRUETYPE'] == 'GALAXY')\n",
    "iielg = ((truth['DESI_TARGET'] & desi_mask.ELG) != 0) & (truth['TRUETYPE'] == 'GALAXY')\n",
    "iiqso = ((truth['DESI_TARGET'] & desi_mask.QSO) != 0) & (truth['TRUETYPE'] == 'QSO')\n",
    "\n",
    "lrg = truth[iilrg]\n",
    "elg = truth[iielg]\n",
    "qso = truth[iiqso]"
   ]
  },
  {
   "cell_type": "code",
   "execution_count": 15,
   "metadata": {
    "collapsed": false
   },
   "outputs": [
    {
     "name": "stdout",
     "output_type": "stream",
     "text": [
      "LRG 291029\n",
      "ELG 2354756\n",
      "QSO 165428\n"
     ]
    }
   ],
   "source": [
    "print('LRG', len(lrg))\n",
    "print('ELG', len(elg))\n",
    "print('QSO', len(qso))"
   ]
  },
  {
   "cell_type": "code",
   "execution_count": 16,
   "metadata": {
    "collapsed": false
   },
   "outputs": [],
   "source": [
    "zcat4 = Table.read('/home/forero/Data/desitest/lowfat_perfect/4/zcat.fits', 1)\n",
    "zcat5 = Table.read('/home/forero/Data/desitest/lowfat_perfect/5/zcat.fits', 1)"
   ]
  },
  {
   "cell_type": "code",
   "execution_count": 17,
   "metadata": {
    "collapsed": true
   },
   "outputs": [],
   "source": [
    "def count_obs(zcat):\n",
    "    obslrg = np.in1d(lrg['TARGETID'], zcat['TARGETID'])\n",
    "    obselg = np.in1d(elg['TARGETID'], zcat['TARGETID'])\n",
    "    obsqso = np.in1d(qso['TARGETID'], zcat['TARGETID'])\n",
    "    print('LRG {:4f}'.format(np.count_nonzero(obslrg) / len(lrg)))\n",
    "    print('ELG {:4f}'.format(np.count_nonzero(obselg) / len(elg)))\n",
    "    print('QSO {:4f}'.format(np.count_nonzero(obsqso) / len(qso)))"
   ]
  },
  {
   "cell_type": "code",
   "execution_count": 18,
   "metadata": {
    "collapsed": false
   },
   "outputs": [
    {
     "name": "stdout",
     "output_type": "stream",
     "text": [
      "zcat4\n",
      "LRG 0.960293\n",
      "ELG 0.755129\n",
      "QSO 0.979792\n",
      "\n",
      "zcat5\n",
      "LRG 0.874037\n",
      "ELG 0.678566\n",
      "QSO 0.984591\n"
     ]
    }
   ],
   "source": [
    "print('zcat4')\n",
    "count_obs(zcat4)\n",
    "print('')\n",
    "print('zcat5')\n",
    "count_obs(zcat5)"
   ]
  },
  {
   "cell_type": "code",
   "execution_count": 19,
   "metadata": {
    "collapsed": false
   },
   "outputs": [],
   "source": [
    "x4 = join(zcat4, truth, keys='TARGETID')\n",
    "x5 = join(zcat5, truth, keys='TARGETID')"
   ]
  },
  {
   "cell_type": "code",
   "execution_count": 20,
   "metadata": {
    "collapsed": false
   },
   "outputs": [
    {
     "data": {
      "text/plain": [
       "<matplotlib.collections.PathCollection at 0x7f8c6491d090>"
      ]
     },
     "execution_count": 20,
     "metadata": {},
     "output_type": "execute_result"
    },
    {
     "name": "stderr",
     "output_type": "stream",
     "text": [
      "/usr/local/lib/python2.7/dist-packages/matplotlib/collections.py:590: FutureWarning: elementwise comparison failed; returning scalar instead, but in the future will perform elementwise comparison\n",
      "  if self._edgecolors == str('face'):\n"
     ]
    },
    {
     "data": {
      "image/png": "[encoded data removed]",
      "text/plain": [
       "<matplotlib.figure.Figure at 0x7f8c9b29d210>"
      ]
     },
     "metadata": {},
     "output_type": "display_data"
    }
   ],
   "source": [
    "missing = np.array(list(set(x5['TARGETID']) - set(x4['TARGETID'])))\n",
    "ii = np.in1d(truth['TARGETID'], missing)\n",
    "plt.scatter(truth['RA'][ii], truth['DEC'][ii], s=0.0001)"
   ]
  },
  {
   "cell_type": "code",
   "execution_count": 21,
   "metadata": {
    "collapsed": true
   },
   "outputs": [],
   "source": [
    "import os.path\n",
    "def filename2tileid(filename):\n",
    "    filename = os.path.basename(filename)\n",
    "    tileid = filename[5:10]\n",
    "    return tileid\n",
    "\n",
    "#- load all tiles\n",
    "from glob import glob\n",
    "tiles = dict()\n",
    "for i in [4,3,2,1,0]:\n",
    "    for tilefile in glob('/home/forero/Data/desitest/lowfat_perfect/{}/fiberassign/tile*.fits'.format(i)):\n",
    "        tileid = filename2tileid(tilefile)\n",
    "        if tileid not in tiles:\n",
    "            tiles[tileid] = Table.read(tilefile, 1)\n",
    "            tiles[tileid]['TILEID'] = tileid"
   ]
  },
  {
   "cell_type": "code",
   "execution_count": 22,
   "metadata": {
    "collapsed": true
   },
   "outputs": [],
   "source": [
    "fa = Table(np.concatenate(tiles.values()))\n",
    "#- Keep only ELG, LRG, QSO targets (not calib or unassigned)\n",
    "ii = (fa['DESI_TARGET'] & desi_mask.mask('ELG|LRG|QSO')) != 0\n",
    "fa = fa[ii]"
   ]
  },
  {
   "cell_type": "code",
   "execution_count": 23,
   "metadata": {
    "collapsed": false
   },
   "outputs": [
    {
     "name": "stderr",
     "output_type": "stream",
     "text": [
      "WARNING: hdu= was not specified but multiple tables are present, reading in first available table (hdu=1) [astropy.io.fits.connect]\n",
      "WARNING:astropy:hdu= was not specified but multiple tables are present, reading in first available table (hdu=1)\n"
     ]
    }
   ],
   "source": [
    "#- load pass 5 tiles\n",
    "t5 = list()\n",
    "for tilefile in glob('/home/forero/Data/desitest/lowfat_perfect/5/fiberassign/tile*.fits'):\n",
    "    tileid = filename2tileid(tilefile)\n",
    "    tx = Table.read(tilefile)\n",
    "    tx['TILEID'] = tileid\n",
    "    t5.append(tx)\n",
    "fa5 = Table(np.concatenate(t5))\n",
    "ii = (fa5['DESI_TARGET'] & desi_mask.mask('ELG|LRG|QSO')) != 0\n",
    "fa5 = fa5[ii]"
   ]
  },
  {
   "cell_type": "code",
   "execution_count": 24,
   "metadata": {
    "collapsed": false
   },
   "outputs": [
    {
     "data": {
      "text/plain": [
       "(2352888, 2753477, 2144652, 2873994)"
      ]
     },
     "execution_count": 24,
     "metadata": {},
     "output_type": "execute_result"
    }
   ],
   "source": [
    "len(zcat4), len(fa), len(zcat5), len(fa5)"
   ]
  },
  {
   "cell_type": "code",
   "execution_count": 25,
   "metadata": {
    "collapsed": true
   },
   "outputs": [],
   "source": [
    "#- Find the targets that are in fiber assignments but not zcat\n",
    "nozcat = ~np.in1d(fa['TARGETID'], zcat4['TARGETID'])"
   ]
  },
  {
   "cell_type": "code",
   "execution_count": 26,
   "metadata": {
    "collapsed": false
   },
   "outputs": [
    {
     "data": {
      "text/plain": [
       "(3, 2753477)"
      ]
     },
     "execution_count": 26,
     "metadata": {},
     "output_type": "execute_result"
    }
   ],
   "source": [
    "#- about the same number of fibers assigned for 0-4 vs. 5\n",
    "#- and very few missing targets (why any?)\n",
    "#- many more re-observations?\n",
    "np.count_nonzero(nozcat), len(nozcat)"
   ]
  },
  {
   "cell_type": "code",
   "execution_count": 27,
   "metadata": {
    "collapsed": true
   },
   "outputs": [],
   "source": [
    "from collections import Counter\n",
    "c4 = Counter(fa['TARGETID'])\n",
    "c5 = Counter(fa5['TARGETID'])"
   ]
  },
  {
   "cell_type": "code",
   "execution_count": 28,
   "metadata": {
    "collapsed": false
   },
   "outputs": [
    {
     "data": {
      "image/png": "[encoded data removed]",
      "text/plain": [
       "<matplotlib.figure.Figure at 0x7f8c65c5ae50>"
      ]
     },
     "metadata": {},
     "output_type": "display_data"
    }
   ],
   "source": [
    "plt.figure(figsize=(10.0,9.0))\n",
    "plt.subplot(221); n_z4 = plt.hist(zcat4['NUMOBS'], 11, (-0.5,10.5))\n",
    "plt.subplot(222); n_z5 = plt.hist(zcat5['NUMOBS'], 11, (-0.5,10.5))\n",
    "plt.subplot(223); n_c4 = plt.hist(c4.values(), 11, (-0.5,10.5))\n",
    "plt.subplot(224); n_c5 = plt.hist(c5.values(), 11, (-0.5,10.5))"
   ]
  },
  {
   "cell_type": "code",
   "execution_count": 29,
   "metadata": {
    "collapsed": false
   },
   "outputs": [
    {
     "name": "stdout",
     "output_type": "stream",
     "text": [
      "zcat [ 1689497.   276567.    82993.    95595.        0.] fiberassign [ 1689497.   276567.    82993.    95596.        0.]\n",
      "zcat [ 2017287.   296591.    13035.    25975.        0.] fiberassign [ 2017287.   296591.    13036.    25975.        0.]\n"
     ]
    }
   ],
   "source": [
    "# zcat and fiberassign nobs should be the same on each for each epoch\n",
    "\n",
    "print(\"zcat {} fiberassign {}\".format(n_z5[0][1:6], n_c5[0][1:6]))\n",
    "print(\"zcat {} fiberassign {}\".format(n_z4[0][1:6], n_c4[0][1:6]))"
   ]
  },
  {
   "cell_type": "code",
   "execution_count": 30,
   "metadata": {
    "collapsed": true
   },
   "outputs": [],
   "source": [
    "def print_counter(ll):\n",
    "    total = np.sum(ll.values())\n",
    "    for k in ll.keys():\n",
    "        print(\"\\t {}: {} ({} total)\".format(desi_mask.names(k), ll[k]/total, ll[k]))"
   ]
  },
  {
   "cell_type": "code",
   "execution_count": 31,
   "metadata": {
    "collapsed": false
   },
   "outputs": [
    {
     "name": "stdout",
     "output_type": "stream",
     "text": [
      "Target fraction for exactly 1 observations\n",
      "\t PASS 4\n",
      "\t ['LRG']: 0.0254663813329 (51373 total)\n",
      "\t ['ELG']: 0.881453159615 (1778144 total)\n",
      "\t ['QSO']: 0.0930804590522 (187770 total)\n",
      "\t PASS 5\n",
      "\t ['LRG']: 0.0443350890827 (74904 total)\n",
      "\t ['ELG']: 0.945759595903 (1597858 total)\n",
      "\t ['QSO']: 0.00990531501388 (16735 total)\n",
      "\n",
      "Target fraction for exactly 2 observations\n",
      "\t PASS 4\n",
      "\t ['LRG']: 0.926872359579 (274902 total)\n",
      "\t ['QSO']: 0.0731276404206 (21689 total)\n",
      "\t PASS 5\n",
      "\t ['LRG']: 0.803530428431 (222230 total)\n",
      "\t ['QSO']: 0.196469571569 (54337 total)\n",
      "\n",
      "Target fraction for exactly 3 observations\n",
      "\t PASS 4\n",
      "\t ['QSO']: 1.0 (13035 total)\n",
      "\t PASS 5\n",
      "\t ['QSO']: 1.0 (82993 total)\n",
      "\n",
      "Target fraction for exactly 4 observations\n",
      "\t PASS 4\n",
      "\t ['QSO']: 1.0 (25975 total)\n",
      "\t PASS 5\n",
      "\t ['QSO']: 1.0 (95595 total)\n",
      "\n",
      "Target fraction for exactly 5 observations\n",
      "\t PASS 4\n",
      "\t PASS 5\n",
      "\n"
     ]
    }
   ],
   "source": [
    "# what are the galaxy types that got only one observation at the end of the day?\n",
    "\n",
    "for times_observed in range(1,6):\n",
    "    print('Target fraction for exactly {} observations'.format(times_observed))\n",
    "\n",
    "    print('\\t PASS 4')\n",
    "    ii = (x4['NUMOBS']==times_observed)\n",
    "    print_counter(Counter(x4['DESI_TARGET'][ii]))\n",
    "\n",
    "    print('\\t PASS 5')\n",
    "    ii = (x5['NUMOBS']==times_observed)\n",
    "    print_counter(Counter(x5['DESI_TARGET'][ii]))\n",
    "    print('')\n"
   ]
  },
  {
   "cell_type": "markdown",
   "metadata": {},
   "source": []
  }
 ],
 "metadata": {
  "kernelspec": {
   "display_name": "Python 2",
   "language": "python",
   "name": "python2"
  },
  "language_info": {
   "codemirror_mode": {
    "name": "ipython",
    "version": 2
   },
   "file_extension": ".py",
   "mimetype": "text/x-python",
   "name": "python",
   "nbconvert_exporter": "python",
   "pygments_lexer": "ipython2",
   "version": "2.7.6"
  }
 },
 "nbformat": 4,
 "nbformat_minor": 0
}
