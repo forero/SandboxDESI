{
 "cells": [
  {
   "cell_type": "code",
   "execution_count": 3,
   "metadata": {
    "collapsed": true
   },
   "outputs": [],
   "source": [
    "%matplotlib inline"
   ]
  },
  {
   "cell_type": "code",
   "execution_count": 24,
   "metadata": {
    "collapsed": false
   },
   "outputs": [],
   "source": [
    "import glob\n",
    "from astropy.table import Table, Column\n",
    "from astropy.io import fits\n",
    "from collections import Counter\n",
    "from __future__ import absolute_import, division, print_function\n",
    "\n",
    "import os\n",
    "from collections import Counter\n",
    "import numpy as np\n",
    "from astropy.io import fits\n",
    "from astropy.table import Table, Column, join\n",
    "\n",
    "import astropy.constants\n",
    "c = astropy.constants.c.to('km/s').value\n",
    "\n",
    "from desitarget.targets import desi_mask\n",
    "from desisim.quickcat import quickcat\n",
    "import matplotlib.pyplot as plt\n"
   ]
  },
  {
   "cell_type": "markdown",
   "metadata": {},
   "source": [
    "### Looking for targets that were in fiberassign, but missing in zcat"
   ]
  },
  {
   "cell_type": "code",
   "execution_count": 10,
   "metadata": {
    "collapsed": false
   },
   "outputs": [
    {
     "name": "stdout",
     "output_type": "stream",
     "text": [
      "570006 577718 577718\n",
      "[           46095328 2848418669254187444 1615190646395193941\n",
      "  719950519532907646  798326793562667321  966383442835711970\n",
      " 3276782129000055637  170300333330830609 1463945693497080320\n",
      " 3307573674961348008]\n"
     ]
    }
   ],
   "source": [
    "tile_names = glob.glob(\"/home/forero/Data/desitest/lowfat_perfect/4/fiberassign/tile_*.fits\")\n",
    "nobs = Counter()\n",
    "desitarget = np.empty((), dtype='int64')\n",
    "targetid_fiber = np.empty((), dtype='int64')\n",
    "for tile_file in tile_names:\n",
    "    fibassign = Table.read(tile_file, hdu=1)\n",
    "    ii = (fibassign['TARGETID'] != -1) \n",
    "    nobs.update(fibassign['TARGETID'][ii])\n",
    "    desitarget = np.append(desitarget, np.array(fibassign['DESI_TARGET'][ii]))\n",
    "    targetid_fiber = np.append(targetid_fiber, np.array(fibassign['TARGETID'][ii]))\n",
    "\n",
    "print(len(nobs.keys()), len(targetid_fiber), len(desitarget))\n",
    "print(targetid_fiber[:10])\n",
    "targets = Table.read(\"/home/forero/Data/desitest/mtl/targets.fits\")\n",
    "truth = Table.read(\"/home/forero/Data/desitest/mtl/truth.fits\")\n",
    "mtl = Table.read(\"/home/forero/Data/desitest/lowfat_perfect/4/mtl.fits\")\n",
    "zcat = Table.read(\"/home/forero/Data/desitest/lowfat_perfect/4/zcat.fits\")"
   ]
  },
  {
   "cell_type": "code",
   "execution_count": 11,
   "metadata": {
    "collapsed": false
   },
   "outputs": [
    {
     "name": "stdout",
     "output_type": "stream",
     "text": [
      "['FIBER', 'POSITIONER', 'NUMTARGET', 'PRIORITY', 'TARGETID', 'DESI_TARGET', 'BGS_TARGET', 'MWS_TARGET', 'RA', 'DEC', 'XFOCAL_DESIGN', 'YFOCAL_DESIGN'] 2947950\n"
     ]
    }
   ],
   "source": [
    "print(fibassign.colnames, len(targets['TARGETID']))"
   ]
  },
  {
   "cell_type": "code",
   "execution_count": 12,
   "metadata": {
    "collapsed": false
   },
   "outputs": [],
   "source": [
    "ids_fiber = list(nobs.keys())\n",
    "ids_mtl = list(mtl['TARGETID'])\n",
    "ids_truth = list(truth['TARGETID'])\n",
    "ids_targets = list(targets['TARGETID'])\n",
    "ids_zcat = list(zcat['TARGETID'])"
   ]
  },
  {
   "cell_type": "code",
   "execution_count": 7,
   "metadata": {
    "collapsed": true
   },
   "outputs": [],
   "source": [
    "def find_missing(list_A, list_B): # |list_A| > |list_B|\n",
    "    a = list(set(list_A) & set(list_B)) #find the intersection\n",
    "    missing = list(set(list_B) - set(a)) #find B minus the intersection\n",
    "    return missing #these are the IDs in B that are missing in A"
   ]
  },
  {
   "cell_type": "code",
   "execution_count": 13,
   "metadata": {
    "collapsed": false
   },
   "outputs": [
    {
     "name": "stdout",
     "output_type": "stream",
     "text": [
      "0\n",
      "65329\n",
      "65329\n",
      "0\n",
      "65329\n",
      "65329\n"
     ]
    }
   ],
   "source": [
    "missing = find_missing(ids_targets, ids_mtl)\n",
    "print(len(missing))\n",
    "missing = find_missing(ids_targets, ids_fiber)\n",
    "print(len(missing))\n",
    "missing = find_missing(ids_mtl, ids_fiber)\n",
    "print(len(missing))\n",
    "missing = find_missing(list(set(targetid_fiber)), ids_fiber)\n",
    "print(len(missing))\n",
    "missing = find_missing(ids_truth, ids_fiber)\n",
    "print(len(missing))\n",
    "missing = find_missing(ids_zcat, ids_fiber)\n",
    "print(len(missing))"
   ]
  },
  {
   "cell_type": "markdown",
   "metadata": {},
   "source": [
    "The ```Counter(c[iiobs])``` tells us that in fact the missing targets are sky and standard stars. Nothing to worry."
   ]
  },
  {
   "cell_type": "code",
   "execution_count": 16,
   "metadata": {
    "collapsed": false
   },
   "outputs": [
    {
     "name": "stdout",
     "output_type": "stream",
     "text": [
      "577718 65329 577718\n",
      "Counter({4294967296: 53473, 8589934592: 13369})\n",
      "[4611631882328547593, 4611632229615896532, 4611647838028684250, 4611667287054992550, 4611679909359693146]\n",
      "[4611496083463884945 4611522850556216644 4611550344386585230\n",
      " 4611558383850489773 4611576400989880876]\n"
     ]
    }
   ],
   "source": [
    "a = np.array(targetid_fiber, dtype='int64')\n",
    "b = np.array(missing)\n",
    "c = np.array(desitarget, dtype='int64')\n",
    "print(len(a), len(b), len(c))\n",
    "iiobs = np.in1d( a, b)\n",
    "#print(a, b)\n",
    "print(Counter(c[iiobs]))\n",
    "l  = nobs.keys()\n",
    "l.sort()\n",
    "b.sort()\n",
    "print(l[-5:])\n",
    "print(b[-5:])"
   ]
  },
  {
   "cell_type": "markdown",
   "metadata": {},
   "source": [
    "### Checking that the number of observations is correctly propagated\n",
    "\n",
    "(Based on S. Bailey code)"
   ]
  },
  {
   "cell_type": "code",
   "execution_count": 5,
   "metadata": {
    "collapsed": true
   },
   "outputs": [],
   "source": [
    "targets = Table.read(\"/home/forero/Data/desitest/mtl/targets.fits\")\n",
    "truth = Table.read(\"/home/forero/Data/desitest/mtl/truth.fits\")"
   ]
  },
  {
   "cell_type": "code",
   "execution_count": 6,
   "metadata": {
    "collapsed": true
   },
   "outputs": [],
   "source": [
    "#- truth and targets are row-matched, so directly add columns instead of join\n",
    "for colname in targets.colnames:\n",
    "    if colname not in truth.colnames:\n",
    "        truth[colname] = targets[colname]"
   ]
  },
  {
   "cell_type": "code",
   "execution_count": 8,
   "metadata": {
    "collapsed": false
   },
   "outputs": [
    {
     "name": "stdout",
     "output_type": "stream",
     "text": [
      "['TARGETID', 'BRICKNAME', 'RA', 'DEC', 'TRUEZ', 'TRUETYPE', 'CATEGORY', 'DESI_TARGET', 'BGS_TARGET', 'MWS_TARGET', 'SUBPRIORITY']\n"
     ]
    }
   ],
   "source": [
    "print (truth.colnames)"
   ]
  },
  {
   "cell_type": "code",
   "execution_count": 9,
   "metadata": {
    "collapsed": false
   },
   "outputs": [
    {
     "data": {
      "text/plain": [
       "Counter({(1, 'GALAXY'): 291029,\n",
       "         (1, 'UNKNOWN'): 48639,\n",
       "         (2, 'GALAXY'): 2354756,\n",
       "         (4, 'QSO'): 165428,\n",
       "         (4, 'STAR'): 88098})"
      ]
     },
     "execution_count": 9,
     "metadata": {},
     "output_type": "execute_result"
    }
   ],
   "source": [
    "Counter(zip(truth['DESI_TARGET'], truth['TRUETYPE']))"
   ]
  },
  {
   "cell_type": "code",
   "execution_count": 10,
   "metadata": {
    "collapsed": true
   },
   "outputs": [],
   "source": [
    "iilrg = ((truth['DESI_TARGET'] & desi_mask.LRG) != 0) & (truth['TRUETYPE'] == 'GALAXY')\n",
    "iielg = ((truth['DESI_TARGET'] & desi_mask.ELG) != 0) & (truth['TRUETYPE'] == 'GALAXY')\n",
    "iiqso = ((truth['DESI_TARGET'] & desi_mask.QSO) != 0) & (truth['TRUETYPE'] == 'QSO')\n",
    "\n",
    "lrg = truth[iilrg]\n",
    "elg = truth[iielg]\n",
    "qso = truth[iiqso]"
   ]
  },
  {
   "cell_type": "code",
   "execution_count": 12,
   "metadata": {
    "collapsed": false
   },
   "outputs": [
    {
     "name": "stdout",
     "output_type": "stream",
     "text": [
      "LRG 291029\n",
      "ELG 2354756\n",
      "QSO 165428\n"
     ]
    }
   ],
   "source": [
    "print('LRG', len(lrg))\n",
    "print('ELG', len(elg))\n",
    "print('QSO', len(qso))"
   ]
  },
  {
   "cell_type": "code",
   "execution_count": 14,
   "metadata": {
    "collapsed": false
   },
   "outputs": [],
   "source": [
    "zcat4 = Table.read('/home/forero/Data/desitest/lowfat_perfect/4/zcat.fits', 1)\n",
    "zcat5 = Table.read('/home/forero/Data/desitest/lowfat_perfect/5/zcat.fits', 1)"
   ]
  },
  {
   "cell_type": "code",
   "execution_count": 15,
   "metadata": {
    "collapsed": true
   },
   "outputs": [],
   "source": [
    "def count_obs(zcat):\n",
    "    obslrg = np.in1d(lrg['TARGETID'], zcat['TARGETID'])\n",
    "    obselg = np.in1d(elg['TARGETID'], zcat['TARGETID'])\n",
    "    obsqso = np.in1d(qso['TARGETID'], zcat['TARGETID'])\n",
    "    print('LRG {:4f}'.format(np.count_nonzero(obslrg) / len(lrg)))\n",
    "    print('ELG {:4f}'.format(np.count_nonzero(obselg) / len(elg)))\n",
    "    print('QSO {:4f}'.format(np.count_nonzero(obsqso) / len(qso)))"
   ]
  },
  {
   "cell_type": "code",
   "execution_count": 18,
   "metadata": {
    "collapsed": false
   },
   "outputs": [
    {
     "name": "stdout",
     "output_type": "stream",
     "text": [
      "zcat4\n",
      "LRG 0.695501\n",
      "ELG 0.524521\n",
      "QSO 0.841321\n",
      "\n",
      "zcat5\n",
      "LRG 0.873868\n",
      "ELG 0.678636\n",
      "QSO 0.984700\n"
     ]
    }
   ],
   "source": [
    "print('zcat4')\n",
    "count_obs(zcat4)\n",
    "print('')\n",
    "print('zcat5')\n",
    "count_obs(zcat5)"
   ]
  },
  {
   "cell_type": "code",
   "execution_count": 21,
   "metadata": {
    "collapsed": false
   },
   "outputs": [],
   "source": [
    "x4 = join(zcat4, truth, keys='TARGETID')\n",
    "x5 = join(zcat5, truth, keys='TARGETID')"
   ]
  },
  {
   "cell_type": "code",
   "execution_count": 29,
   "metadata": {
    "collapsed": false
   },
   "outputs": [
    {
     "data": {
      "text/plain": [
       "<matplotlib.collections.PathCollection at 0x7f7b7e423910>"
      ]
     },
     "execution_count": 29,
     "metadata": {},
     "output_type": "execute_result"
    },
    {
     "data": {
      "image/png": "[encoded data removed]",
      "text/plain": [
       "<matplotlib.figure.Figure at 0x7f7b7e5c4550>"
      ]
     },
     "metadata": {},
     "output_type": "display_data"
    }
   ],
   "source": [
    "missing = np.array(list(set(x5['TARGETID']) - set(x4['TARGETID'])))\n",
    "ii = np.in1d(truth['TARGETID'], missing)\n",
    "plt.scatter(truth['RA'][ii], truth['DEC'][ii], s=0.0001)"
   ]
  },
  {
   "cell_type": "code",
   "execution_count": 30,
   "metadata": {
    "collapsed": true
   },
   "outputs": [],
   "source": [
    "import os.path\n",
    "def filename2tileid(filename):\n",
    "    filename = os.path.basename(filename)\n",
    "    tileid = filename[5:10]\n",
    "    return tileid\n",
    "\n",
    "#- load all tiles\n",
    "from glob import glob\n",
    "tiles = dict()\n",
    "for i in [4,3,2,1,0]:\n",
    "    for tilefile in glob('/home/forero/Data/desitest/lowfat_perfect/{}/fiberassign/tile*.fits'.format(i)):\n",
    "        tileid = filename2tileid(tilefile)\n",
    "        if tileid not in tiles:\n",
    "            tiles[tileid] = Table.read(tilefile, 1)\n",
    "            tiles[tileid]['TILEID'] = tileid"
   ]
  },
  {
   "cell_type": "code",
   "execution_count": 31,
   "metadata": {
    "collapsed": true
   },
   "outputs": [],
   "source": [
    "fa = Table(np.concatenate(tiles.values()))\n",
    "#- Keep only ELG, LRG, QSO targets (not calib or unassigned)\n",
    "ii = (fa['DESI_TARGET'] & desi_mask.mask('ELG|LRG|QSO')) != 0\n",
    "fa = fa[ii]"
   ]
  },
  {
   "cell_type": "code",
   "execution_count": 34,
   "metadata": {
    "collapsed": false
   },
   "outputs": [],
   "source": [
    "#- load pass 5 tiles\n",
    "t5 = list()\n",
    "for tilefile in glob('/home/forero/Data/desitest/lowfat_perfect/5/fiberassign/tile*.fits'):\n",
    "    tileid = filename2tileid(tilefile)\n",
    "    tx = Table.read(tilefile)\n",
    "    tx['TILEID'] = tileid\n",
    "    t5.append(tx)\n",
    "fa5 = Table(np.concatenate(t5))\n",
    "ii = (fa5['DESI_TARGET'] & desi_mask.mask('ELG|LRG|QSO')) != 0\n",
    "fa5 = fa5[ii]"
   ]
  },
  {
   "cell_type": "code",
   "execution_count": 35,
   "metadata": {
    "collapsed": false
   },
   "outputs": [
    {
     "data": {
      "text/plain": [
       "(1685517, 2871808, 2144815, 2874239)"
      ]
     },
     "execution_count": 35,
     "metadata": {},
     "output_type": "execute_result"
    }
   ],
   "source": [
    "len(zcat4), len(fa), len(zcat5), len(fa5)"
   ]
  },
  {
   "cell_type": "code",
   "execution_count": 36,
   "metadata": {
    "collapsed": true
   },
   "outputs": [],
   "source": [
    "#- Find the targets that are in fiber assignments but not zcat\n",
    "nozcat = ~np.in1d(fa['TARGETID'], zcat4['TARGETID'])"
   ]
  },
  {
   "cell_type": "code",
   "execution_count": 37,
   "metadata": {
    "collapsed": false
   },
   "outputs": [
    {
     "data": {
      "text/plain": [
       "(3, 2871808)"
      ]
     },
     "execution_count": 37,
     "metadata": {},
     "output_type": "execute_result"
    }
   ],
   "source": [
    "#- about the same number of fibers assigned for 0-4 vs. 5\n",
    "#- and very few missing targets (why any?)\n",
    "#- many more re-observations?\n",
    "np.count_nonzero(nozcat), len(nozcat)"
   ]
  },
  {
   "cell_type": "code",
   "execution_count": 38,
   "metadata": {
    "collapsed": true
   },
   "outputs": [],
   "source": [
    "from collections import Counter\n",
    "c4 = Counter(fa['TARGETID'])\n",
    "c5 = Counter(fa5['TARGETID'])"
   ]
  },
  {
   "cell_type": "code",
   "execution_count": 48,
   "metadata": {
    "collapsed": false
   },
   "outputs": [
    {
     "data": {
      "image/png": "[encoded data removed]",
      "text/plain": [
       "<matplotlib.figure.Figure at 0x7f7b65a23f50>"
      ]
     },
     "metadata": {},
     "output_type": "display_data"
    }
   ],
   "source": [
    "plt.figure(figsize=(10.0,9.0))\n",
    "plt.subplot(221); n_z4 = plt.hist(zcat4['NUMOBS'], 11, (-0.5,10.5))\n",
    "plt.subplot(222); n_z5 = plt.hist(zcat5['NUMOBS'], 11, (-0.5,10.5))\n",
    "plt.subplot(223); n_c4 = plt.hist(c4.values(), 11, (-0.5,10.5))\n",
    "plt.subplot(224); n_c5 = plt.hist(c5.values(), 11, (-0.5,10.5))"
   ]
  },
  {
   "cell_type": "code",
   "execution_count": 59,
   "metadata": {
    "collapsed": false
   },
   "outputs": [
    {
     "name": "stdout",
     "output_type": "stream",
     "text": [
      "zcat [ 1689691.   276713.    82526.    95885.        0.] fiberassign [ 1689691.   276713.    82526.    95886.        0.]\n",
      "zcat [ 925225.  452701.  208083.   82002.   16158.] fiberassign [ 925225.  452701.  208084.   82002.   16158.]\n"
     ]
    }
   ],
   "source": [
    "# zcat and fiberassign nobs should be the same on each for each epoch\n",
    "# it is puzzling that epoch 4 is getting objects with 5 observations, while epoch 5 tops at 4 observations.\n",
    "# it is also puzzling that objects with 1 observation are ***less common*** in epoch 4. The high effiencicy\n",
    "# in epoch 5 seems to come from allowing different objets to have at least one new observation.\n",
    "print(\"zcat {} fiberassign {}\".format(n_z5[0][1:6], n_c5[0][1:6]))\n",
    "print(\"zcat {} fiberassign {}\".format(n_z4[0][1:6], n_c4[0][1:6]))"
   ]
  },
  {
   "cell_type": "code",
   "execution_count": 99,
   "metadata": {
    "collapsed": true
   },
   "outputs": [],
   "source": [
    "def print_counter(ll):\n",
    "    total = np.sum(ll.values())\n",
    "    for k in ll.keys():\n",
    "        print(\"\\t {}: {} ({} total)\".format(desi_mask.names(k), ll[k]/total, ll[k]))"
   ]
  },
  {
   "cell_type": "code",
   "execution_count": 102,
   "metadata": {
    "collapsed": false
   },
   "outputs": [
    {
     "name": "stdout",
     "output_type": "stream",
     "text": [
      "Target fraction for exactly 1 observations\n",
      "\t PASS 4\n",
      "\t ['LRG']: 0.135622145964 (125481 total)\n",
      "\t ['ELG']: 0.752333756654 (696078 total)\n",
      "\t ['QSO']: 0.112044097382 (103666 total)\n",
      "\t PASS 5\n",
      "\t ['LRG']: 0.0443406516339 (74922 total)\n",
      "\t ['ELG']: 0.945748660554 (1598023 total)\n",
      "\t ['QSO']: 0.00991068781215 (16746 total)\n",
      "\n",
      "Target fraction for exactly 2 observations\n",
      "\t PASS 4\n",
      "\t ['LRG']: 0.149049814337 (67475 total)\n",
      "\t ['ELG']: 0.709163443421 (321039 total)\n",
      "\t ['QSO']: 0.141786742243 (64187 total)\n",
      "\t PASS 5\n",
      "\t ['LRG']: 0.803023349102 (222207 total)\n",
      "\t ['QSO']: 0.196976650898 (54506 total)\n",
      "\n",
      "Target fraction for exactly 3 observations\n",
      "\t PASS 4\n",
      "\t ['LRG']: 0.149969002754 (31206 total)\n",
      "\t ['ELG']: 0.701801684905 (146033 total)\n",
      "\t ['QSO']: 0.148229312342 (30844 total)\n",
      "\t PASS 5\n",
      "\t ['QSO']: 1.0 (82526 total)\n",
      "\n",
      "Target fraction for exactly 4 observations\n",
      "\t PASS 4\n",
      "\t ['LRG']: 0.135143045292 (11082 total)\n",
      "\t ['ELG']: 0.717860539987 (58866 total)\n",
      "\t ['QSO']: 0.146996414722 (12054 total)\n",
      "\t PASS 5\n",
      "\t ['QSO']: 1.0 (95885 total)\n",
      "\n",
      "Target fraction for exactly 5 observations\n",
      "\t PASS 4\n",
      "\t ['LRG']: 0.109543260304 (1770 total)\n",
      "\t ['ELG']: 0.746008169328 (12054 total)\n",
      "\t ['QSO']: 0.144448570368 (2334 total)\n",
      "\t PASS 5\n",
      "\n"
     ]
    }
   ],
   "source": [
    "# what are the galaxy types that got only one observation at the end of the day?\n",
    "\n",
    "for times_observed in range(1,6):\n",
    "    print('Target fraction for exactly {} observations'.format(times_observed))\n",
    "\n",
    "    print('\\t PASS 4')\n",
    "    ii = (x4['NUMOBS']==times_observed)\n",
    "    print_counter(Counter(x4['DESI_TARGET'][ii]))\n",
    "\n",
    "    print('\\t PASS 5')\n",
    "    ii = (x5['NUMOBS']==times_observed)\n",
    "    print_counter(Counter(x5['DESI_TARGET'][ii]))\n",
    "    print('')\n",
    "# in pass5 strategy almost all of the targets are ELGs\n",
    "# in pass4 strategy the fraction of ELGs are proportional to their relative importance to other targets\n",
    "# another puzzling thing is that ELGs are getting more than one observation in pass4 strategy"
   ]
  },
  {
   "cell_type": "markdown",
   "metadata": {},
   "source": [
    "The conlusion seems to be that ELGs are getting on the way of other targets, while they should actually be reserved to be on the last layer."
   ]
  }
 ],
 "metadata": {
  "kernelspec": {
   "display_name": "Python 2",
   "language": "python",
   "name": "python2"
  },
  "language_info": {
   "codemirror_mode": {
    "name": "ipython",
    "version": 2
   },
   "file_extension": ".py",
   "mimetype": "text/x-python",
   "name": "python",
   "nbconvert_exporter": "python",
   "pygments_lexer": "ipython2",
   "version": "2.7.6"
  }
 },
 "nbformat": 4,
 "nbformat_minor": 0
}
