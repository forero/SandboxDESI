{
 "cells": [
  {
   "cell_type": "code",
   "execution_count": 1,
   "metadata": {
    "collapsed": true
   },
   "outputs": [],
   "source": [
    "%matplotlib inline"
   ]
  },
  {
   "cell_type": "code",
   "execution_count": 87,
   "metadata": {
    "collapsed": false
   },
   "outputs": [],
   "source": [
    "import glob\n",
    "from astropy.table import Table, Column\n",
    "from astropy.io import fits\n",
    "from collections import Counter\n",
    "from __future__ import absolute_import, division, print_function\n",
    "\n",
    "import os\n",
    "from collections import Counter\n",
    "import numpy as np\n",
    "from astropy.io import fits\n",
    "from astropy.table import Table, Column\n",
    "\n",
    "import astropy.constants\n",
    "c = astropy.constants.c.to('km/s').value\n",
    "\n",
    "from desitarget.targets import desi_mask\n",
    "from desisim.quickcat import quickcat"
   ]
  },
  {
   "cell_type": "code",
   "execution_count": 88,
   "metadata": {
    "collapsed": false
   },
   "outputs": [],
   "source": [
    "tile_names = glob.glob(\"/home/forero/Data/desitest/lowfat_serial_perfect/0/fiberassign/tile_*.fits\")\n",
    "nobs = Counter()\n",
    "for tile_file in tile_names:\n",
    "    fibassign = Table.read(tile_file, hdu=1)\n",
    "    ii = (fibassign['TARGETID'] != -1) \n",
    "    nobs.update(fibassign['TARGETID'][ii])\n",
    "    \n",
    "targets = Table.read(\"/home/forero/Data/desitest/mtl/targets.fits\")\n",
    "truth = Table.read(\"/home/forero/Data/desitest/mtl/truth.fits\")\n",
    "mtl = Table.read(\"/home/forero/Data/desitest/lowfat_serial_perfect/0/mtl.fits\")"
   ]
  },
  {
   "cell_type": "code",
   "execution_count": null,
   "metadata": {
    "collapsed": false
   },
   "outputs": [],
   "source": [
    "ids_fiber = list(nobs.keys())\n",
    "ids_mtl = list(mtl['TARGETID'])\n",
    "ids_truth = list(truth['TARGETID'])\n",
    "ids_targets = list(targets['TARGETID'])"
   ]
  },
  {
   "cell_type": "code",
   "execution_count": 85,
   "metadata": {
    "collapsed": true
   },
   "outputs": [],
   "source": [
    "def find_missing(list_A, list_B): # |list_A| > |list_B|\n",
    "    a = list(set(list_A) & set(list_B)) #find the intersection\n",
    "    missing = list(set(list_B) - set(a)) #find B minus the intersection\n",
    "    return missing #these are the IDs in B that are missing in A"
   ]
  },
  {
   "cell_type": "code",
   "execution_count": 86,
   "metadata": {
    "collapsed": false
   },
   "outputs": [
    {
     "name": "stdout",
     "output_type": "stream",
     "text": [
      "0\n",
      "0\n",
      "66170\n"
     ]
    }
   ],
   "source": [
    "missing = find_missing(ids_mtl, ids_truth)\n",
    "print(len(missing))\n",
    "missing = find_missing(ids_targets, ids_mtl)\n",
    "print(len(missing))\n",
    "missing = find_missing(ids_targets, ids_fiber)\n",
    "print(len(missing))\n",
    "missing = find_missing(ids_mtl, ids_fiber)\n",
    "print(len(missing))\n",
    "missing = find_missing(ids_truth, ids_fiber)\n",
    "print(len(missing))"
   ]
  },
  {
   "cell_type": "code",
   "execution_count": 57,
   "metadata": {
    "collapsed": false
   },
   "outputs": [],
   "source": [
    "newzcat = quickcat(tile_names, targets, truth, perfect=True)"
   ]
  },
  {
   "cell_type": "code",
   "execution_count": 73,
   "metadata": {
    "collapsed": false
   },
   "outputs": [],
   "source": [
    "targets_newzcat = list(newzcat['TARGETID'])\n",
    "targets_newzcat = list(targets['TARGETID'])"
   ]
  },
  {
   "cell_type": "code",
   "execution_count": 74,
   "metadata": {
    "collapsed": false
   },
   "outputs": [
    {
     "name": "stdout",
     "output_type": "stream",
     "text": [
      "[2631651276564051987, 751670505785917446, 3945118423605182471, 3102139768365806493, 701409607242918572, 3484485554263556106, 36172407562829835, 49281014080471055, 3637729872174645264, 1007073708322062356]\n"
     ]
    }
   ],
   "source": [
    "a = list(set(targets_newzcat) & set(targets_fiber))\n",
    "missing_ids = list(set(targets_fiber) - set(a))\n",
    "len(missing_ids)\n",
    "print(missing_ids[:10])"
   ]
  },
  {
   "cell_type": "code",
   "execution_count": 62,
   "metadata": {
    "collapsed": true
   },
   "outputs": [],
   "source": [
    "def myquickcat(tilefiles, targets, truth, zcat=None, perfect=False):\n",
    "    \"\"\"\n",
    "    Generates quick output zcatalog\n",
    "    \n",
    "    Args:\n",
    "        tilefiles : list of fiberassign tile files that were observed\n",
    "        targets : astropy Table of targets\n",
    "        truth : astropy Table of input truth with columns TARGETID, TRUEZ, and TRUETYPE\n",
    "        \n",
    "    Options:\n",
    "        zcat : input zcatalog Table from previous observations\n",
    "        perfect : if True, treat spectro pipeline as perfect with input=output,\n",
    "            otherwise add noise and zwarn!=0 flags\n",
    "        \n",
    "    Returns:\n",
    "        zcatalog astropy Table based upon input truth, plus ZERR, ZWARN,\n",
    "        NUMOBS, and TYPE columns   \n",
    "        \n",
    "    TODO: Add BGS, MWS support     \n",
    "    \"\"\"\n",
    "    #- convert to Table for easier manipulation\n",
    "    truth = Table(truth)\n",
    "    \n",
    "    #- Count how many times each target was observed for this set of tiles\n",
    "    ### print('Reading {} tiles'.format(len(obstiles)))\n",
    "    nobs = Counter()\n",
    "    for infile in tilefiles:\n",
    "        fibassign = fits.getdata(infile, 'FIBER_ASSIGNMENTS')\n",
    "        ii = (fibassign['TARGETID'] != -1)  #- targets with assignments\n",
    "        nobs.update(fibassign['TARGETID'][ii])\n",
    "\n",
    "        #- Count how many times each target was observed in previous zcatalog\n",
    "    #- NOTE: assumes that no tiles have been repeated\n",
    "    if zcat is not None:\n",
    "        ### print('Counting targets from previous zobs')\n",
    "        for targetid, n in zip(zcat['TARGETID'], zcat['NUMOBS']):\n",
    "            nobs[targetid] += n #JF I put n instead of 1\n",
    "\n",
    "    #- Trim truth down to just ones that have already been observed\n",
    "    ### print('Trimming truth to just observed targets')\n",
    "    obs_targetids = np.array(nobs.keys())\n",
    "    truth_targetids = truth['TARGETID']\n",
    "    \n",
    "    a = list(set(truth_targetids) & set(nobs.keys()))\n",
    "    missing_ids = list(set(nobs.keys()) - set(a))\n",
    "    if len(missing_ids):\n",
    "        print('missing ids {}'.format(len(missing_ids)))\n",
    "        raise NameError('Some IDs in fiberassign are missing from the truth file')\n",
    "   \n",
    "    \n",
    "    iiobs = np.in1d(truth['TARGETID'], obs_targetids)\n",
    "    print('total {}, intersec {}'.format(len(nobs.keys()), len(truth[iiobs])))\n",
    "    truth = truth[iiobs]\n",
    "    targets = targets[iiobs]\n",
    "\n",
    "    #- Construct initial new z catalog\n",
    "    newzcat = Table()\n",
    "    newzcat['TARGETID'] = truth['TARGETID']\n",
    "    if 'BRICKNAME' in truth.dtype.names:\n",
    "        newzcat['BRICKNAME'] = truth['BRICKNAME']\n",
    "    else:\n",
    "        newzcat['BRICKNAME'] = np.zeros(len(truth), dtype='S8')\n",
    "\n",
    "    #- Copy TRUEZ -> Z so that we can add errors without altering original\n",
    "    newzcat['Z'] = truth['TRUEZ'].copy()\n",
    "    newzcat['TYPE'] = truth['TRUETYPE'].copy()\n",
    "\n",
    "    #- Add numobs column\n",
    "    ### print('Adding NUMOBS column')\n",
    "    nz = len(newzcat)\n",
    "    newzcat.add_column(Column(name='NUMOBS', length=nz, dtype=np.int32))\n",
    "    for i in range(nz):\n",
    "        newzcat['NUMOBS'][i] = nobs[newzcat['TARGETID'][i]]\n",
    "\n",
    "    #- Add ZERR and ZWARN\n",
    "    ### print('Adding ZERR and ZWARN')\n",
    "    if not perfect:\n",
    "        #- GALAXY -> ELG or LRG\n",
    "        objtype = newzcat['TYPE'].copy()\n",
    "        isLRG = (objtype == 'GALAXY') & ((targets['DESI_TARGET'] & desi_mask.LRG) != 0)\n",
    "        isELG = (objtype == 'GALAXY') & ((targets['DESI_TARGET'] & desi_mask.ELG) != 0)\n",
    "        objtype[isLRG] = 'LRG'\n",
    "        objtype[isELG] = 'ELG'\n",
    "        \n",
    "        z, zerr, zwarn = get_observed_redshifts(objtype, newzcat['Z'])\n",
    "        newzcat['Z'] = z  #- update with noisy redshift\n",
    "    else:\n",
    "        zerr = np.zeros(nz, dtype=np.float32)\n",
    "        zwarn = np.zeros(nz, dtype=np.int32)\n",
    "\n",
    "    newzcat['ZERR'] = zerr\n",
    "    newzcat['ZWARN'] = zwarn\n",
    "\n",
    "    #- Metadata for header\n",
    "    newzcat.meta['EXTNAME'] = 'ZCATALOG'\n",
    "\n",
    "    return newzcat\n",
    "\n"
   ]
  },
  {
   "cell_type": "code",
   "execution_count": 63,
   "metadata": {
    "collapsed": false
   },
   "outputs": [
    {
     "name": "stdout",
     "output_type": "stream",
     "text": [
      "missing ids 66170\n"
     ]
    },
    {
     "ename": "NameError",
     "evalue": "Some IDs in fiberassign are missing from the truth file",
     "output_type": "error",
     "traceback": [
      "\u001b[1;31m---------------------------------------------------------------------------\u001b[0m",
      "\u001b[1;31mNameError\u001b[0m                                 Traceback (most recent call last)",
      "\u001b[1;32m<ipython-input-63-3c2c6bf27db9>\u001b[0m in \u001b[0;36m<module>\u001b[1;34m()\u001b[0m\n\u001b[1;32m----> 1\u001b[1;33m \u001b[0mmynewzcat\u001b[0m \u001b[1;33m=\u001b[0m \u001b[0mmyquickcat\u001b[0m\u001b[1;33m(\u001b[0m\u001b[0mtile_names\u001b[0m\u001b[1;33m,\u001b[0m \u001b[0mtargets\u001b[0m\u001b[1;33m,\u001b[0m \u001b[0mtruth\u001b[0m\u001b[1;33m,\u001b[0m \u001b[0mperfect\u001b[0m\u001b[1;33m=\u001b[0m\u001b[0mTrue\u001b[0m\u001b[1;33m)\u001b[0m\u001b[1;33m\u001b[0m\u001b[0m\n\u001b[0m",
      "\u001b[1;32m<ipython-input-62-c29d49b3e290>\u001b[0m in \u001b[0;36mmyquickcat\u001b[1;34m(tilefiles, targets, truth, zcat, perfect)\u001b[0m\n\u001b[0;32m     46\u001b[0m     \u001b[1;32mif\u001b[0m \u001b[0mlen\u001b[0m\u001b[1;33m(\u001b[0m\u001b[0mmissing_ids\u001b[0m\u001b[1;33m)\u001b[0m\u001b[1;33m:\u001b[0m\u001b[1;33m\u001b[0m\u001b[0m\n\u001b[0;32m     47\u001b[0m         \u001b[1;32mprint\u001b[0m\u001b[1;33m(\u001b[0m\u001b[1;34m'missing ids {}'\u001b[0m\u001b[1;33m.\u001b[0m\u001b[0mformat\u001b[0m\u001b[1;33m(\u001b[0m\u001b[0mlen\u001b[0m\u001b[1;33m(\u001b[0m\u001b[0mmissing_ids\u001b[0m\u001b[1;33m)\u001b[0m\u001b[1;33m)\u001b[0m\u001b[1;33m)\u001b[0m\u001b[1;33m\u001b[0m\u001b[0m\n\u001b[1;32m---> 48\u001b[1;33m         \u001b[1;32mraise\u001b[0m \u001b[0mNameError\u001b[0m\u001b[1;33m(\u001b[0m\u001b[1;34m'Some IDs in fiberassign are missing from the truth file'\u001b[0m\u001b[1;33m)\u001b[0m\u001b[1;33m\u001b[0m\u001b[0m\n\u001b[0m\u001b[0;32m     49\u001b[0m \u001b[1;33m\u001b[0m\u001b[0m\n\u001b[0;32m     50\u001b[0m \u001b[1;33m\u001b[0m\u001b[0m\n",
      "\u001b[1;31mNameError\u001b[0m: Some IDs in fiberassign are missing from the truth file"
     ]
    }
   ],
   "source": [
    "mynewzcat = myquickcat(tile_names, targets, truth, perfect=True)"
   ]
  },
  {
   "cell_type": "code",
   "execution_count": 25,
   "metadata": {
    "collapsed": false
   },
   "outputs": [
    {
     "data": {
      "text/plain": [
       "65329"
      ]
     },
     "execution_count": 25,
     "metadata": {},
     "output_type": "execute_result"
    }
   ],
   "source": [
    "targets_mynewzcat = list(mynewzcat['TARGETID'])\n",
    "a = list(set(targets_mynewzcat) & set(targets_fiber))\n",
    "missing_ids = list(set(targets_fiber) - set(a))\n",
    "len(missing_ids)"
   ]
  },
  {
   "cell_type": "code",
   "execution_count": null,
   "metadata": {
    "collapsed": true
   },
   "outputs": [],
   "source": []
  }
 ],
 "metadata": {
  "kernelspec": {
   "display_name": "Python 2",
   "language": "python",
   "name": "python2"
  },
  "language_info": {
   "codemirror_mode": {
    "name": "ipython",
    "version": 2
   },
   "file_extension": ".py",
   "mimetype": "text/x-python",
   "name": "python",
   "nbconvert_exporter": "python",
   "pygments_lexer": "ipython2",
   "version": "2.7.6"
  }
 },
 "nbformat": 4,
 "nbformat_minor": 0
}
