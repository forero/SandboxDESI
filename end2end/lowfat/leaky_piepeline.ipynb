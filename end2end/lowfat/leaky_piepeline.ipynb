{
 "cells": [
  {
   "cell_type": "code",
   "execution_count": 3,
   "metadata": {
    "collapsed": true
   },
   "outputs": [],
   "source": [
    "%matplotlib inline"
   ]
  },
  {
   "cell_type": "code",
   "execution_count": 4,
   "metadata": {
    "collapsed": false
   },
   "outputs": [],
   "source": [
    "import glob\n",
    "from astropy.table import Table, Column\n",
    "from astropy.io import fits\n",
    "from collections import Counter\n",
    "from __future__ import absolute_import, division, print_function\n",
    "\n",
    "import os\n",
    "from collections import Counter\n",
    "import numpy as np\n",
    "from astropy.io import fits\n",
    "from astropy.table import Table, Column\n",
    "\n",
    "import astropy.constants\n",
    "c = astropy.constants.c.to('km/s').value\n",
    "\n",
    "from desitarget.targets import desi_mask\n",
    "from desisim.quickcat import quickcat"
   ]
  },
  {
   "cell_type": "markdown",
   "metadata": {},
   "source": [
    "### Looking for targets that were in fiberassign, but missing in zcat"
   ]
  },
  {
   "cell_type": "code",
   "execution_count": 10,
   "metadata": {
    "collapsed": false
   },
   "outputs": [
    {
     "name": "stdout",
     "output_type": "stream",
     "text": [
      "570006 577718 577718\n",
      "[           46095328 2848418669254187444 1615190646395193941\n",
      "  719950519532907646  798326793562667321  966383442835711970\n",
      " 3276782129000055637  170300333330830609 1463945693497080320\n",
      " 3307573674961348008]\n"
     ]
    }
   ],
   "source": [
    "tile_names = glob.glob(\"/home/forero/Data/desitest/lowfat_perfect/4/fiberassign/tile_*.fits\")\n",
    "nobs = Counter()\n",
    "desitarget = np.empty((), dtype='int64')\n",
    "targetid_fiber = np.empty((), dtype='int64')\n",
    "for tile_file in tile_names:\n",
    "    fibassign = Table.read(tile_file, hdu=1)\n",
    "    ii = (fibassign['TARGETID'] != -1) \n",
    "    nobs.update(fibassign['TARGETID'][ii])\n",
    "    desitarget = np.append(desitarget, np.array(fibassign['DESI_TARGET'][ii]))\n",
    "    targetid_fiber = np.append(targetid_fiber, np.array(fibassign['TARGETID'][ii]))\n",
    "\n",
    "print(len(nobs.keys()), len(targetid_fiber), len(desitarget))\n",
    "print(targetid_fiber[:10])\n",
    "targets = Table.read(\"/home/forero/Data/desitest/mtl/targets.fits\")\n",
    "truth = Table.read(\"/home/forero/Data/desitest/mtl/truth.fits\")\n",
    "mtl = Table.read(\"/home/forero/Data/desitest/lowfat_perfect/4/mtl.fits\")\n",
    "zcat = Table.read(\"/home/forero/Data/desitest/lowfat_perfect/4/zcat.fits\")"
   ]
  },
  {
   "cell_type": "code",
   "execution_count": 11,
   "metadata": {
    "collapsed": false
   },
   "outputs": [
    {
     "name": "stdout",
     "output_type": "stream",
     "text": [
      "['FIBER', 'POSITIONER', 'NUMTARGET', 'PRIORITY', 'TARGETID', 'DESI_TARGET', 'BGS_TARGET', 'MWS_TARGET', 'RA', 'DEC', 'XFOCAL_DESIGN', 'YFOCAL_DESIGN'] 2947950\n"
     ]
    }
   ],
   "source": [
    "print(fibassign.colnames, len(targets['TARGETID']))"
   ]
  },
  {
   "cell_type": "code",
   "execution_count": 12,
   "metadata": {
    "collapsed": false
   },
   "outputs": [],
   "source": [
    "ids_fiber = list(nobs.keys())\n",
    "ids_mtl = list(mtl['TARGETID'])\n",
    "ids_truth = list(truth['TARGETID'])\n",
    "ids_targets = list(targets['TARGETID'])\n",
    "ids_zcat = list(zcat['TARGETID'])"
   ]
  },
  {
   "cell_type": "code",
   "execution_count": 7,
   "metadata": {
    "collapsed": true
   },
   "outputs": [],
   "source": [
    "def find_missing(list_A, list_B): # |list_A| > |list_B|\n",
    "    a = list(set(list_A) & set(list_B)) #find the intersection\n",
    "    missing = list(set(list_B) - set(a)) #find B minus the intersection\n",
    "    return missing #these are the IDs in B that are missing in A"
   ]
  },
  {
   "cell_type": "code",
   "execution_count": 13,
   "metadata": {
    "collapsed": false
   },
   "outputs": [
    {
     "name": "stdout",
     "output_type": "stream",
     "text": [
      "0\n",
      "65329\n",
      "65329\n",
      "0\n",
      "65329\n",
      "65329\n"
     ]
    }
   ],
   "source": [
    "missing = find_missing(ids_targets, ids_mtl)\n",
    "print(len(missing))\n",
    "missing = find_missing(ids_targets, ids_fiber)\n",
    "print(len(missing))\n",
    "missing = find_missing(ids_mtl, ids_fiber)\n",
    "print(len(missing))\n",
    "missing = find_missing(list(set(targetid_fiber)), ids_fiber)\n",
    "print(len(missing))\n",
    "missing = find_missing(ids_truth, ids_fiber)\n",
    "print(len(missing))\n",
    "missing = find_missing(ids_zcat, ids_fiber)\n",
    "print(len(missing))"
   ]
  },
  {
   "cell_type": "markdown",
   "metadata": {},
   "source": [
    "The ```Counter(c[iiobs])``` tells us that in fact the missing targets are sky and standard stars. Nothing to worry."
   ]
  },
  {
   "cell_type": "code",
   "execution_count": 16,
   "metadata": {
    "collapsed": false
   },
   "outputs": [
    {
     "name": "stdout",
     "output_type": "stream",
     "text": [
      "577718 65329 577718\n",
      "Counter({4294967296: 53473, 8589934592: 13369})\n",
      "[4611631882328547593, 4611632229615896532, 4611647838028684250, 4611667287054992550, 4611679909359693146]\n",
      "[4611496083463884945 4611522850556216644 4611550344386585230\n",
      " 4611558383850489773 4611576400989880876]\n"
     ]
    }
   ],
   "source": [
    "a = np.array(targetid_fiber, dtype='int64')\n",
    "b = np.array(missing)\n",
    "c = np.array(desitarget, dtype='int64')\n",
    "print(len(a), len(b), len(c))\n",
    "iiobs = np.in1d( a, b)\n",
    "#print(a, b)\n",
    "print(Counter(c[iiobs]))\n",
    "l  = nobs.keys()\n",
    "l.sort()\n",
    "b.sort()\n",
    "print(l[-5:])\n",
    "print(b[-5:])"
   ]
  },
  {
   "cell_type": "markdown",
   "metadata": {},
   "source": [
    "### Checking that the number of observations is correctly propagated\n",
    "\n",
    "(Based on S. Bailey code)"
   ]
  },
  {
   "cell_type": "code",
   "execution_count": 5,
   "metadata": {
    "collapsed": true
   },
   "outputs": [],
   "source": [
    "targets = Table.read(\"/home/forero/Data/desitest/mtl/targets.fits\")\n",
    "truth = Table.read(\"/home/forero/Data/desitest/mtl/truth.fits\")"
   ]
  },
  {
   "cell_type": "code",
   "execution_count": 6,
   "metadata": {
    "collapsed": true
   },
   "outputs": [],
   "source": [
    "#- truth and targets are row-matched, so directly add columns instead of join\n",
    "for colname in targets.colnames:\n",
    "    if colname not in truth.colnames:\n",
    "        truth[colname] = targets[colname]"
   ]
  },
  {
   "cell_type": "code",
   "execution_count": 8,
   "metadata": {
    "collapsed": false
   },
   "outputs": [
    {
     "name": "stdout",
     "output_type": "stream",
     "text": [
      "['TARGETID', 'BRICKNAME', 'RA', 'DEC', 'TRUEZ', 'TRUETYPE', 'CATEGORY', 'DESI_TARGET', 'BGS_TARGET', 'MWS_TARGET', 'SUBPRIORITY']\n"
     ]
    }
   ],
   "source": [
    "print (truth.colnames)"
   ]
  },
  {
   "cell_type": "code",
   "execution_count": 9,
   "metadata": {
    "collapsed": false
   },
   "outputs": [
    {
     "data": {
      "text/plain": [
       "Counter({(1, 'GALAXY'): 291029,\n",
       "         (1, 'UNKNOWN'): 48639,\n",
       "         (2, 'GALAXY'): 2354756,\n",
       "         (4, 'QSO'): 165428,\n",
       "         (4, 'STAR'): 88098})"
      ]
     },
     "execution_count": 9,
     "metadata": {},
     "output_type": "execute_result"
    }
   ],
   "source": [
    "Counter(zip(truth['DESI_TARGET'], truth['TRUETYPE']))"
   ]
  },
  {
   "cell_type": "code",
   "execution_count": 10,
   "metadata": {
    "collapsed": true
   },
   "outputs": [],
   "source": [
    "iilrg = ((truth['DESI_TARGET'] & desi_mask.LRG) != 0) & (truth['TRUETYPE'] == 'GALAXY')\n",
    "iielg = ((truth['DESI_TARGET'] & desi_mask.ELG) != 0) & (truth['TRUETYPE'] == 'GALAXY')\n",
    "iiqso = ((truth['DESI_TARGET'] & desi_mask.QSO) != 0) & (truth['TRUETYPE'] == 'QSO')\n",
    "\n",
    "lrg = truth[iilrg]\n",
    "elg = truth[iielg]\n",
    "qso = truth[iiqso]"
   ]
  },
  {
   "cell_type": "code",
   "execution_count": 12,
   "metadata": {
    "collapsed": false
   },
   "outputs": [
    {
     "name": "stdout",
     "output_type": "stream",
     "text": [
      "LRG 291029\n",
      "ELG 2354756\n",
      "QSO 165428\n"
     ]
    }
   ],
   "source": [
    "print('LRG', len(lrg))\n",
    "print('ELG', len(elg))\n",
    "print('QSO', len(qso))"
   ]
  },
  {
   "cell_type": "code",
   "execution_count": 14,
   "metadata": {
    "collapsed": false
   },
   "outputs": [],
   "source": [
    "zcat4 = Table.read('/home/forero/Data/desitest/lowfat_perfect/4/zcat.fits', 1)\n",
    "zcat5 = Table.read('/home/forero/Data/desitest/lowfat_perfect/5/zcat.fits', 1)"
   ]
  },
  {
   "cell_type": "code",
   "execution_count": 15,
   "metadata": {
    "collapsed": true
   },
   "outputs": [],
   "source": [
    "def count_obs(zcat):\n",
    "    obslrg = np.in1d(lrg['TARGETID'], zcat['TARGETID'])\n",
    "    obselg = np.in1d(elg['TARGETID'], zcat['TARGETID'])\n",
    "    obsqso = np.in1d(qso['TARGETID'], zcat['TARGETID'])\n",
    "    print('LRG {:4f}'.format(np.count_nonzero(obslrg) / len(lrg)))\n",
    "    print('ELG {:4f}'.format(np.count_nonzero(obselg) / len(elg)))\n",
    "    print('QSO {:4f}'.format(np.count_nonzero(obsqso) / len(qso)))"
   ]
  },
  {
   "cell_type": "code",
   "execution_count": 18,
   "metadata": {
    "collapsed": false
   },
   "outputs": [
    {
     "name": "stdout",
     "output_type": "stream",
     "text": [
      "zcat4\n",
      "LRG 0.695501\n",
      "ELG 0.524521\n",
      "QSO 0.841321\n",
      "\n",
      "zcat5\n",
      "LRG 0.873868\n",
      "ELG 0.678636\n",
      "QSO 0.984700\n"
     ]
    }
   ],
   "source": [
    "print('zcat4')\n",
    "count_obs(zcat4)\n",
    "print('')\n",
    "print('zcat5')\n",
    "count_obs(zcat5)"
   ]
  },
  {
   "cell_type": "code",
   "execution_count": null,
   "metadata": {
    "collapsed": true
   },
   "outputs": [],
   "source": []
  },
  {
   "cell_type": "code",
   "execution_count": null,
   "metadata": {
    "collapsed": true
   },
   "outputs": [],
   "source": []
  },
  {
   "cell_type": "code",
   "execution_count": null,
   "metadata": {
    "collapsed": false
   },
   "outputs": [],
   "source": [
    "newzcat = quickcat(tile_names, targets, truth, perfect=True)"
   ]
  },
  {
   "cell_type": "code",
   "execution_count": null,
   "metadata": {
    "collapsed": false
   },
   "outputs": [],
   "source": [
    "targets_newzcat = list(newzcat['TARGETID'])\n",
    "targets_newzcat = list(targets['TARGETID'])"
   ]
  },
  {
   "cell_type": "code",
   "execution_count": null,
   "metadata": {
    "collapsed": false
   },
   "outputs": [],
   "source": [
    "a = list(set(targets_newzcat) & set(targets_fiber))\n",
    "missing_ids = list(set(targets_fiber) - set(a))\n",
    "len(missing_ids)\n",
    "print(missing_ids[:10])"
   ]
  },
  {
   "cell_type": "code",
   "execution_count": null,
   "metadata": {
    "collapsed": true
   },
   "outputs": [],
   "source": [
    "def myquickcat(tilefiles, targets, truth, zcat=None, perfect=False):\n",
    "    \"\"\"\n",
    "    Generates quick output zcatalog\n",
    "    \n",
    "    Args:\n",
    "        tilefiles : list of fiberassign tile files that were observed\n",
    "        targets : astropy Table of targets\n",
    "        truth : astropy Table of input truth with columns TARGETID, TRUEZ, and TRUETYPE\n",
    "        \n",
    "    Options:\n",
    "        zcat : input zcatalog Table from previous observations\n",
    "        perfect : if True, treat spectro pipeline as perfect with input=output,\n",
    "            otherwise add noise and zwarn!=0 flags\n",
    "        \n",
    "    Returns:\n",
    "        zcatalog astropy Table based upon input truth, plus ZERR, ZWARN,\n",
    "        NUMOBS, and TYPE columns   \n",
    "        \n",
    "    TODO: Add BGS, MWS support     \n",
    "    \"\"\"\n",
    "    #- convert to Table for easier manipulation\n",
    "    truth = Table(truth)\n",
    "    \n",
    "    #- Count how many times each target was observed for this set of tiles\n",
    "    ### print('Reading {} tiles'.format(len(obstiles)))\n",
    "    nobs = Counter()\n",
    "    for infile in tilefiles:\n",
    "        fibassign = fits.getdata(infile, 'FIBER_ASSIGNMENTS')\n",
    "        ii = (fibassign['TARGETID'] != -1)  #- targets with assignments\n",
    "        nobs.update(fibassign['TARGETID'][ii])\n",
    "\n",
    "        #- Count how many times each target was observed in previous zcatalog\n",
    "    #- NOTE: assumes that no tiles have been repeated\n",
    "    if zcat is not None:\n",
    "        ### print('Counting targets from previous zobs')\n",
    "        for targetid, n in zip(zcat['TARGETID'], zcat['NUMOBS']):\n",
    "            nobs[targetid] += n #JF I put n instead of 1\n",
    "\n",
    "    #- Trim truth down to just ones that have already been observed\n",
    "    ### print('Trimming truth to just observed targets')\n",
    "    obs_targetids = np.array(nobs.keys())\n",
    "    truth_targetids = truth['TARGETID']\n",
    "    \n",
    "    a = list(set(truth_targetids) & set(nobs.keys()))\n",
    "    missing_ids = list(set(nobs.keys()) - set(a))\n",
    "    if len(missing_ids):\n",
    "        print('missing ids {}'.format(len(missing_ids)))\n",
    "        raise NameError('Some IDs in fiberassign are missing from the truth file')\n",
    "   \n",
    "    \n",
    "    iiobs = np.in1d(truth['TARGETID'], obs_targetids)\n",
    "    print('total {}, intersec {}'.format(len(nobs.keys()), len(truth[iiobs])))\n",
    "    truth = truth[iiobs]\n",
    "    targets = targets[iiobs]\n",
    "\n",
    "    #- Construct initial new z catalog\n",
    "    newzcat = Table()\n",
    "    newzcat['TARGETID'] = truth['TARGETID']\n",
    "    if 'BRICKNAME' in truth.dtype.names:\n",
    "        newzcat['BRICKNAME'] = truth['BRICKNAME']\n",
    "    else:\n",
    "        newzcat['BRICKNAME'] = np.zeros(len(truth), dtype='S8')\n",
    "\n",
    "    #- Copy TRUEZ -> Z so that we can add errors without altering original\n",
    "    newzcat['Z'] = truth['TRUEZ'].copy()\n",
    "    newzcat['TYPE'] = truth['TRUETYPE'].copy()\n",
    "\n",
    "    #- Add numobs column\n",
    "    ### print('Adding NUMOBS column')\n",
    "    nz = len(newzcat)\n",
    "    newzcat.add_column(Column(name='NUMOBS', length=nz, dtype=np.int32))\n",
    "    for i in range(nz):\n",
    "        newzcat['NUMOBS'][i] = nobs[newzcat['TARGETID'][i]]\n",
    "\n",
    "    #- Add ZERR and ZWARN\n",
    "    ### print('Adding ZERR and ZWARN')\n",
    "    if not perfect:\n",
    "        #- GALAXY -> ELG or LRG\n",
    "        objtype = newzcat['TYPE'].copy()\n",
    "        isLRG = (objtype == 'GALAXY') & ((targets['DESI_TARGET'] & desi_mask.LRG) != 0)\n",
    "        isELG = (objtype == 'GALAXY') & ((targets['DESI_TARGET'] & desi_mask.ELG) != 0)\n",
    "        objtype[isLRG] = 'LRG'\n",
    "        objtype[isELG] = 'ELG'\n",
    "        \n",
    "        z, zerr, zwarn = get_observed_redshifts(objtype, newzcat['Z'])\n",
    "        newzcat['Z'] = z  #- update with noisy redshift\n",
    "    else:\n",
    "        zerr = np.zeros(nz, dtype=np.float32)\n",
    "        zwarn = np.zeros(nz, dtype=np.int32)\n",
    "\n",
    "    newzcat['ZERR'] = zerr\n",
    "    newzcat['ZWARN'] = zwarn\n",
    "\n",
    "    #- Metadata for header\n",
    "    newzcat.meta['EXTNAME'] = 'ZCATALOG'\n",
    "\n",
    "    return newzcat\n",
    "\n"
   ]
  },
  {
   "cell_type": "code",
   "execution_count": null,
   "metadata": {
    "collapsed": false
   },
   "outputs": [],
   "source": [
    "mynewzcat = myquickcat(tile_names, targets, truth, perfect=True)"
   ]
  },
  {
   "cell_type": "code",
   "execution_count": null,
   "metadata": {
    "collapsed": false
   },
   "outputs": [],
   "source": [
    "targets_mynewzcat = list(mynewzcat['TARGETID'])\n",
    "a = list(set(targets_mynewzcat) & set(targets_fiber))\n",
    "missing_ids = list(set(targets_fiber) - set(a))\n",
    "len(missing_ids)"
   ]
  },
  {
   "cell_type": "code",
   "execution_count": null,
   "metadata": {
    "collapsed": true
   },
   "outputs": [],
   "source": []
  }
 ],
 "metadata": {
  "kernelspec": {
   "display_name": "Python 2",
   "language": "python",
   "name": "python2"
  },
  "language_info": {
   "codemirror_mode": {
    "name": "ipython",
    "version": 2
   },
   "file_extension": ".py",
   "mimetype": "text/x-python",
   "name": "python",
   "nbconvert_exporter": "python",
   "pygments_lexer": "ipython2",
   "version": "2.7.6"
  }
 },
 "nbformat": 4,
 "nbformat_minor": 0
}
