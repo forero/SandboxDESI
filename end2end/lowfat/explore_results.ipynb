{
 "cells": [
  {
   "cell_type": "code",
   "execution_count": 1,
   "metadata": {
    "collapsed": true
   },
   "outputs": [],
   "source": [
    "%matplotlib inline"
   ]
  },
  {
   "cell_type": "code",
   "execution_count": 6,
   "metadata": {
    "collapsed": false
   },
   "outputs": [],
   "source": [
    "import numpy as np\n",
    "import matplotlib.pyplot as plt\n",
    "from astropy.table import Table, Column\n",
    "from astropy.table import join\n",
    "from desitarget.targets import desi_mask\n",
    "from collections import Counter"
   ]
  },
  {
   "cell_type": "code",
   "execution_count": 7,
   "metadata": {
    "collapsed": false
   },
   "outputs": [],
   "source": [
    "truth_file = \"/home/forero/Data/desitest/mtl/truth.fits\"\n",
    "sky_file = \"/home/forero/Data/desitest/mtl/sky.fits\"\n",
    "star_file =  \"/home/forero/Data/desitest/mtl/stdstars.fits\"\n",
    "\n",
    "truth = Table.read(truth_file)\n",
    "sky = Table.read(sky_file)\n",
    "star = Table.read(star_file)\n",
    "true_types = list(set(truth['TRUETYPE']))"
   ]
  },
  {
   "cell_type": "code",
   "execution_count": 40,
   "metadata": {
    "collapsed": false
   },
   "outputs": [],
   "source": [
    "def print_stats_mtl(base_path=\"./\", n_epoch=6):\n",
    "    print(\"MTL EFFICIENCIES\")\n",
    "    print(\"================\")\n",
    "    for j in range(n_epoch):\n",
    "        print('PASS {}'.format(j))\n",
    "        mtl_file = base_path+\"{}/mtl.fits\".format(j)\n",
    "        mtl = Table.read(mtl_file)\n",
    "        \n",
    "        ii = (mtl['DESI_TARGET'] & desi_mask.QSO) != 0\n",
    "        n = len(mtl['NUMOBS_MORE'][ii])\n",
    "        if j == 0: n_qso = n\n",
    "        print('\\t QSO f_unobs:{} - {}'.format(1.0*n/n_qso, Counter(mtl['NUMOBS_MORE'][ii])))\n",
    "    \n",
    "        ii = (mtl['DESI_TARGET'] & desi_mask.ELG) != 0\n",
    "        n = len(mtl['NUMOBS_MORE'][ii])\n",
    "        if j == 0: n_elg = n\n",
    "        print('\\t ELG f_unobs:{} - {}'.format(1.0*n/n_elg, Counter(mtl['NUMOBS_MORE'][ii])))\n",
    "    \n",
    "        ii = (mtl['DESI_TARGET'] & desi_mask.LRG) != 0\n",
    "        n = len(mtl['NUMOBS_MORE'][ii])\n",
    "        if j == 0: n_lrg = n\n",
    "        print('\\t LRG f_unobs:{} - {}'.format(1.0*n/n_lrg, Counter(mtl['NUMOBS_MORE'][ii])))\n",
    "    \n",
    "        ii = (mtl['DESI_TARGET'] & desi_mask.SKY) != 0\n",
    "        print('SKY {}'.format(Counter(mtl['NUMOBS_MORE'][ii])))\n",
    "\n",
    "        \n",
    "def print_stats_zcat(base_path=\"./\", n_epoch = 6):\n",
    "    print(\"TARGETTING EFFICIENCIES\")\n",
    "    print(\"=======================\")\n",
    "\n",
    "    for epoch in range(n_epoch):\n",
    "        zcat_file = base_path+\"{}/zcat.fits\".format(epoch)\n",
    "        zcat = Table.read(zcat_file)\n",
    "        print('Epoch {}'.format(epoch))\n",
    "        for true_type in true_types:\n",
    "            ii = (zcat['TYPE'] == true_type)\n",
    "            jj = (truth['TRUETYPE'] == true_type)\n",
    "            n_obs  = 1.0 * len(zcat['Z'][ii])\n",
    "            n_total = 1.0 * len(truth['TRUEZ'][jj])\n",
    "            print(\"\\t {} : {}\".format(true_type, n_obs/n_total))"
   ]
  },
  {
   "cell_type": "code",
   "execution_count": 41,
   "metadata": {
    "collapsed": false
   },
   "outputs": [
    {
     "name": "stdout",
     "output_type": "stream",
     "text": [
      "MTL EFFICIENCIES\n",
      "================\n",
      "PASS 0\n",
      "\t QSO f_unobs:1.0 - Counter({4: 253526})\n",
      "\t ELG f_unobs:1.0 - Counter({1: 2354756})\n",
      "\t LRG f_unobs:1.0 - Counter({2: 339668})\n",
      "SKY Counter()\n",
      "PASS 1\n",
      "\t QSO f_unobs:0.906068805566 - Counter({1: 192815, 2: 15642, 3: 11504, 4: 9751})\n",
      "\t ELG f_unobs:0.906654872097 - Counter({1: 1793767, 2: 145922, 3: 105495, 4: 89767})\n",
      "\t LRG f_unobs:0.906305568967 - Counter({1: 258712, 2: 21025, 3: 15066, 4: 13040})\n",
      "SKY Counter()\n",
      "PASS 2\n",
      "\t QSO f_unobs:0.763819095477 - Counter({1: 159432, 2: 14942, 3: 11414, 4: 7860})\n",
      "\t ELG f_unobs:0.764749298866 - Counter({1: 1484059, 2: 138480, 3: 105695, 4: 72564})\n",
      "\t LRG f_unobs:0.763460202315 - Counter({1: 213721, 2: 19850, 3: 15184, 4: 10568})\n",
      "SKY Counter()\n",
      "PASS 3\n",
      "\t QSO f_unobs:0.679776433186 - Counter({1: 139687, 2: 14026, 3: 11864, 4: 6764})\n",
      "\t ELG f_unobs:0.680270057704 - Counter({1: 1300015, 2: 130051, 3: 109822, 4: 61982})\n",
      "\t LRG f_unobs:0.67878045621 - Counter({1: 187099, 2: 18680, 3: 15738, 4: 9043})\n",
      "SKY Counter()\n",
      "PASS 4\n",
      "\t QSO f_unobs:0.623139244101 - Counter({1: 126427, 2: 13262, 3: 12301, 4: 5992})\n",
      "\t ELG f_unobs:0.623549106574 - Counter({1: 1176658, 2: 123148, 3: 113460, 4: 55040})\n",
      "\t LRG f_unobs:0.622593238103 - Counter({1: 169455, 2: 17608, 3: 16414, 4: 7998})\n",
      "SKY Counter()\n",
      "PASS 5\n",
      "\t QSO f_unobs:1.0 - Counter({4: 253526})\n",
      "\t ELG f_unobs:1.0 - Counter({1: 2354756})\n",
      "\t LRG f_unobs:1.0 - Counter({2: 339668})\n",
      "SKY Counter()\n",
      "TARGETTING EFFICIENCIES\n",
      "=======================\n",
      "Epoch 0\n",
      "\t STAR : 0.555801493791\n",
      "\t QSO : 0.556151316585\n",
      "\t GALAXY : 0.153690492614\n",
      "\t UNKNOWN : 0.502025123872\n",
      "Epoch 1\n",
      "\t STAR : 0.641410701719\n",
      "\t QSO : 0.640925357255\n",
      "\t GALAXY : 0.312227939912\n",
      "\t UNKNOWN : 0.594276198113\n",
      "Epoch 2\n",
      "\t STAR : 0.692705850303\n",
      "\t QSO : 0.693419493677\n",
      "\t GALAXY : 0.407757622029\n",
      "\t UNKNOWN : 0.650013363762\n",
      "Epoch 3\n",
      "\t STAR : 0.726690730777\n",
      "\t QSO : 0.728268491428\n",
      "\t GALAXY : 0.472974183465\n",
      "\t UNKNOWN : 0.688459877876\n",
      "Epoch 4\n",
      "\t STAR : 0.726690730777\n",
      "\t QSO : 0.728268491428\n",
      "\t GALAXY : 0.530594511648\n",
      "\t UNKNOWN : 0.688459877876\n",
      "Epoch 5\n",
      "\t STAR : 0.985130195918\n",
      "\t QSO : 0.984567304205\n",
      "\t GALAXY : 0.700053481292\n",
      "\t UNKNOWN : 0.880384053948\n"
     ]
    }
   ],
   "source": [
    "base_path = \"/home/forero/Data/desitest/lowfat_serial/\"\n",
    "print_stats_mtl(base_path=base_path)\n",
    "print_stats_zcat(base_path=base_path)"
   ]
  },
  {
   "cell_type": "code",
   "execution_count": 42,
   "metadata": {
    "collapsed": false
   },
   "outputs": [
    {
     "name": "stdout",
     "output_type": "stream",
     "text": [
      "MTL EFFICIENCIES\n",
      "================\n",
      "PASS 0\n",
      "\t QSO f_unobs:1.0 - Counter({4: 253526})\n",
      "\t ELG f_unobs:1.0 - Counter({1: 2354756})\n",
      "\t LRG f_unobs:1.0 - Counter({2: 339668})\n",
      "SKY Counter()\n",
      "PASS 1\n",
      "\t QSO f_unobs:0.919452048311 - Counter({1: 195566, 2: 16795, 3: 14517, 4: 6227})\n",
      "\t ELG f_unobs:0.91962182069 - Counter({1: 1818519, 2: 156078, 3: 132896, 4: 57992})\n",
      "\t LRG f_unobs:0.919698058104 - Counter({1: 262430, 2: 22492, 3: 19108, 4: 8362})\n",
      "SKY Counter()\n",
      "PASS 2\n",
      "\t QSO f_unobs:0.776685625932 - Counter({1: 162907, 2: 16222, 3: 12977, 4: 4804})\n",
      "\t ELG f_unobs:0.77789673325 - Counter({1: 1517588, 2: 149276, 3: 120062, 4: 44831})\n",
      "\t LRG f_unobs:0.776437580225 - Counter({1: 218584, 2: 21384, 3: 17287, 4: 6476})\n",
      "SKY Counter()\n",
      "PASS 3\n",
      "\t QSO f_unobs:0.688233159518 - Counter({1: 142453, 2: 14606, 3: 13428, 4: 3998})\n",
      "\t ELG f_unobs:0.689941972756 - Counter({1: 1329601, 2: 134424, 3: 123556, 4: 37064})\n",
      "\t LRG f_unobs:0.68874312564 - Counter({1: 191441, 2: 19345, 3: 17837, 4: 5321})\n",
      "SKY Counter()\n",
      "PASS 4\n",
      "\t QSO f_unobs:0.626772007605 - Counter({1: 128226, 3: 13913, 2: 13323, 4: 3441})\n",
      "\t ELG f_unobs:0.627932150932 - Counter({1: 1195498, 3: 127458, 2: 123544, 4: 32127})\n",
      "\t LRG f_unobs:0.627630509792 - Counter({1: 172470, 3: 18466, 2: 17667, 4: 4583})\n",
      "SKY Counter()\n",
      "PASS 5\n",
      "\t QSO f_unobs:1.0 - Counter({4: 253526})\n",
      "\t ELG f_unobs:1.0 - Counter({1: 2354756})\n",
      "\t LRG f_unobs:1.0 - Counter({2: 339668})\n",
      "SKY Counter()\n",
      "TARGETTING EFFICIENCIES\n",
      "=======================\n",
      "Epoch 0\n",
      "\t STAR : 0.713875456878\n",
      "\t QSO : 0.713627680925\n",
      "\t GALAXY : 0.137845289772\n",
      "\t UNKNOWN : 0.475708793355\n",
      "Epoch 1\n",
      "\t STAR : 0.778610184113\n",
      "\t QSO : 0.778713397974\n",
      "\t GALAXY : 0.296597418158\n",
      "\t UNKNOWN : 0.596722794465\n",
      "Epoch 2\n",
      "\t STAR : 0.81665872097\n",
      "\t QSO : 0.817255845443\n",
      "\t GALAXY : 0.396587780186\n",
      "\t UNKNOWN : 0.669359978618\n",
      "Epoch 3\n",
      "\t STAR : 0.841188222207\n",
      "\t QSO : 0.841864738738\n",
      "\t GALAXY : 0.468469282274\n",
      "\t UNKNOWN : 0.71411830013\n",
      "Epoch 4\n",
      "\t STAR : 0.841188222207\n",
      "\t QSO : 0.841864738738\n",
      "\t GALAXY : 0.545164100636\n",
      "\t UNKNOWN : 0.71411830013\n",
      "Epoch 5\n",
      "\t STAR : 0.984846421031\n",
      "\t QSO : 0.98439804628\n",
      "\t GALAXY : 0.69995521178\n",
      "\t UNKNOWN : 0.878636485125\n"
     ]
    }
   ],
   "source": [
    "base_path = \"/home/forero/Data/desitest/lowfat/\"\n",
    "print_stats_mtl(base_path=base_path)\n",
    "print_stats_zcat(base_path=base_path)"
   ]
  },
  {
   "cell_type": "code",
   "execution_count": 20,
   "metadata": {
    "collapsed": false
   },
   "outputs": [
    {
     "name": "stdout",
     "output_type": "stream",
     "text": [
      "144\n"
     ]
    }
   ],
   "source": [
    "import glob\n",
    "tile_files = glob.glob('/home/forero/Data/desitest/lowfat_serial/0/fiberassign/tile*.fits')\n",
    "print len(tile_files)"
   ]
  },
  {
   "cell_type": "code",
   "execution_count": 21,
   "metadata": {
    "collapsed": false
   },
   "outputs": [
    {
     "name": "stdout",
     "output_type": "stream",
     "text": [
      "['FIBER', 'POSITIONER', 'NUMTARGET', 'PRIORITY', 'TARGETID', 'DESI_TARGET', 'BGS_TARGET', 'MWS_TARGET', 'RA', 'DEC', 'XFOCAL_DESIGN', 'YFOCAL_DESIGN']\n",
      "['TARGETID', 'BRICKNAME', 'RA', 'DEC', 'TRUEZ', 'TRUETYPE', 'CATEGORY']\n",
      "['TARGETID', 'BRICKNAME', 'Z', 'TYPE', 'NUMOBS', 'ZERR', 'ZWARN']\n"
     ]
    }
   ],
   "source": [
    "fiberdata = Table.read(tile_files[0], hdu=1)\n",
    "print fiberdata.colnames\n",
    "print truth.colnames\n",
    "print zcat.colnames"
   ]
  },
  {
   "cell_type": "code",
   "execution_count": 23,
   "metadata": {
    "collapsed": false
   },
   "outputs": [
    {
     "name": "stdout",
     "output_type": "stream",
     "text": [
      "/home/forero/Data/desitest/lowfat_serial/0/fiberassign/tile_02791.fits\n",
      "/home/forero/Data/desitest/lowfat_serial/0/fiberassign/tile_02802.fits\n",
      "/home/forero/Data/desitest/lowfat_serial/0/fiberassign/tile_05394.fits\n",
      "/home/forero/Data/desitest/lowfat_serial/0/fiberassign/tile_05469.fits\n",
      "/home/forero/Data/desitest/lowfat_serial/0/fiberassign/tile_05425.fits\n",
      "/home/forero/Data/desitest/lowfat_serial/0/fiberassign/tile_02780.fits\n",
      "/home/forero/Data/desitest/lowfat_serial/0/fiberassign/tile_03394.fits\n",
      "/home/forero/Data/desitest/lowfat_serial/0/fiberassign/tile_05429.fits\n",
      "/home/forero/Data/desitest/lowfat_serial/0/fiberassign/tile_05420.fits\n",
      "/home/forero/Data/desitest/lowfat_serial/0/fiberassign/tile_00139.fits\n",
      "/home/forero/Data/desitest/lowfat_serial/0/fiberassign/tile_02763.fits\n",
      "/home/forero/Data/desitest/lowfat_serial/0/fiberassign/tile_05461.fits\n",
      "/home/forero/Data/desitest/lowfat_serial/0/fiberassign/tile_02814.fits\n",
      "/home/forero/Data/desitest/lowfat_serial/0/fiberassign/tile_05391.fits\n",
      "/home/forero/Data/desitest/lowfat_serial/0/fiberassign/tile_05466.fits\n",
      "/home/forero/Data/desitest/lowfat_serial/0/fiberassign/tile_05449.fits\n",
      "/home/forero/Data/desitest/lowfat_serial/0/fiberassign/tile_02790.fits\n",
      "/home/forero/Data/desitest/lowfat_serial/0/fiberassign/tile_02738.fits\n",
      "/home/forero/Data/desitest/lowfat_serial/0/fiberassign/tile_05387.fits\n",
      "/home/forero/Data/desitest/lowfat_serial/0/fiberassign/tile_02724.fits\n"
     ]
    }
   ],
   "source": [
    "n_tiles = 20\n",
    "n_star_all = []\n",
    "n_sky_all = []\n",
    "n_targets_all = []\n",
    "for i in range(n_tiles):\n",
    "    print tile_files[i]\n",
    "    fiberdata = Table.read(tile_files[i], hdu=1)\n",
    "    n_star = len(set(fiberdata['TARGETID']) & set(star['TARGETID']))\n",
    "    n_sky = len(set(fiberdata['TARGETID']) & set(sky['TARGETID']))\n",
    "    n_targets = len(set(fiberdata['TARGETID']) & set(truth['TARGETID']))\n",
    "    n_star_all.append(n_star)\n",
    "    n_sky_all.append(n_sky)\n",
    "    n_targets_all.append(n_targets)"
   ]
  },
  {
   "cell_type": "code",
   "execution_count": 44,
   "metadata": {
    "collapsed": false
   },
   "outputs": [
    {
     "name": "stdout",
     "output_type": "stream",
     "text": [
      "[4489, 4489, 4485, 4490, 4493, 4491, 2103, 4491, 4490, 2248, 4494, 4488, 4492, 2250, 4488, 4482, 4490, 4490, 4490, 2247]\n",
      "[400, 400, 400, 400, 400, 400, 201, 400, 400, 202, 400, 400, 400, 202, 400, 400, 400, 400, 400, 204]\n",
      "[100, 100, 100, 100, 100, 100, 50, 100, 100, 50, 100, 100, 100, 50, 100, 100, 100, 100, 100, 50]\n"
     ]
    }
   ],
   "source": [
    "print n_targets_all\n",
    "print n_sky_all\n",
    "print n_star_all"
   ]
  },
  {
   "cell_type": "code",
   "execution_count": 47,
   "metadata": {
    "collapsed": true
   },
   "outputs": [],
   "source": [
    " fiberdata = Table.read(tile_files[6], hdu=1)"
   ]
  },
  {
   "cell_type": "code",
   "execution_count": 122,
   "metadata": {
    "collapsed": false
   },
   "outputs": [
    {
     "name": "stdout",
     "output_type": "stream",
     "text": [
      "[False False False ...,  True  True  True]\n"
     ]
    },
    {
     "data": {
      "text/plain": [
       "<matplotlib.collections.PathCollection at 0x7f39a791ec90>"
      ]
     },
     "execution_count": 122,
     "metadata": {},
     "output_type": "execute_result"
    },
    {
     "name": "stderr",
     "output_type": "stream",
     "text": [
      "/usr/local/lib/python2.7/dist-packages/matplotlib/collections.py:590: FutureWarning: elementwise comparison failed; returning scalar instead, but in the future will perform elementwise comparison\n",
      "  if self._edgecolors == str('face'):\n"
     ]
    },
    {
     "data": {
      "image/png": "[encoded data removed]",
      "text/plain": [
       "<matplotlib.figure.Figure at 0x7f39a79ec210>"
      ]
     },
     "metadata": {},
     "output_type": "display_data"
    }
   ],
   "source": [
    "ii = (fiberdata['TARGETID'] >= 0)\n",
    "plt.scatter(fiberdata['RA'][ii], fiberdata['DEC'][ii], s=0.1)"
   ]
  },
  {
   "cell_type": "code",
   "execution_count": 139,
   "metadata": {
    "collapsed": false
   },
   "outputs": [],
   "source": [
    "def compare_fibermaps(base_path_A=\"./\", base_path_B=\"./\", tile_id=0, epoch=0):\n",
    "    fiber_file_A = \"%s/%d/fiberassign/tile_%05d.fits\"%(base_path_A, epoch, tile_id)\n",
    "    fiber_file_B = \"%s/%d/fiberassign/tile_%05d.fits\"%(base_path_B, epoch, tile_id)\n",
    "\n",
    "    fiberdata_A = Table.read(fiber_file_A, hdu=1)\n",
    "    fiberdata_B = Table.read(fiber_file_B, hdu=1)\n",
    "\n",
    "    ii_A = (fiberdata_A['TARGETID'] > 0)\n",
    "    ii_B = (fiberdata_B['TARGETID'] > 0)\n",
    "    intersection = list(set(fiberdata_A['TARGETID'][ii_A]) & set(fiberdata_B['TARGETID'][ii_B]))\n",
    "    \n",
    "    n_A = len(fiberdata_A['TARGETID'][ii_A])\n",
    "    n_B = len(fiberdata_B['TARGETID'][ii_B])\n",
    "    return 1.0*n_A/n_B, 1.0*len(intersection)/n_A\n"
   ]
  },
  {
   "cell_type": "code",
   "execution_count": 153,
   "metadata": {
    "collapsed": false
   },
   "outputs": [],
   "source": [
    "epoch  = 5\n",
    "base_path_A = \"/home/forero/Data/desitest/lowfat_serial/\"\n",
    "base_path_B = \"/home/forero/Data/desitest/lowfat/\"\n",
    "\n",
    "tile_files = glob.glob('{}/{}/fiberassign/tile*.fits'.format(base_path_A, epoch))\n",
    "tile_id_list = []\n",
    "for tile in tile_files:\n",
    "    tilename = tile.split('/')[-1]\n",
    "    tile_id_list.append(int(tilename.split('.')[0].split('_')[-1]))\n",
    "tile_id_list.sort()\n",
    "#print tile_id_list\n",
    "\n",
    "\n",
    "ratio_used = []\n",
    "ratio_intersection = []\n",
    "for tile_id in tile_id_list:\n",
    "    used, intersec = compare_fibermaps(base_path_A=base_path_A, base_path_B=base_path_B, tile_id=tile_id, epoch=epoch)\n",
    "    ratio_used.append(used)\n",
    "    ratio_intersection.append(intersec)"
   ]
  },
  {
   "cell_type": "code",
   "execution_count": 155,
   "metadata": {
    "collapsed": false
   },
   "outputs": [
    {
     "data": {
      "text/plain": [
       "[<matplotlib.lines.Line2D at 0x7f39a71db150>]"
      ]
     },
     "execution_count": 155,
     "metadata": {},
     "output_type": "execute_result"
    },
    {
     "data": {
      "image/png": "[encoded data removed]",
      "text/plain": [
       "<matplotlib.figure.Figure at 0x7f39a71db110>"
      ]
     },
     "metadata": {},
     "output_type": "display_data"
    }
   ],
   "source": [
    "plt.plot(ratio_used, lw=5)\n",
    "plt.plot(ratio_intersection, lw=5)"
   ]
  },
  {
   "cell_type": "code",
   "execution_count": null,
   "metadata": {
    "collapsed": true
   },
   "outputs": [],
   "source": []
  }
 ],
 "metadata": {
  "kernelspec": {
   "display_name": "Python 2",
   "language": "python",
   "name": "python2"
  },
  "language_info": {
   "codemirror_mode": {
    "name": "ipython",
    "version": 2
   },
   "file_extension": ".py",
   "mimetype": "text/x-python",
   "name": "python",
   "nbconvert_exporter": "python",
   "pygments_lexer": "ipython2",
   "version": "2.7.6"
  }
 },
 "nbformat": 4,
 "nbformat_minor": 0
}
