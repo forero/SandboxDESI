{
 "cells": [
  {
   "cell_type": "code",
   "execution_count": 1,
   "metadata": {
    "collapsed": true
   },
   "outputs": [],
   "source": [
    "%matplotlib inline"
   ]
  },
  {
   "cell_type": "code",
   "execution_count": 3,
   "metadata": {
    "collapsed": false
   },
   "outputs": [],
   "source": [
    "import numpy as np\n",
    "import matplotlib.pyplot as plt\n",
    "from astropy.table import join\n",
    "from desitarget.targets import desi_mask\n",
    "from collections import Counter\n",
    "from astropy.table import Table"
   ]
  },
  {
   "cell_type": "code",
   "execution_count": 4,
   "metadata": {
    "collapsed": false
   },
   "outputs": [
    {
     "name": "stdout",
     "output_type": "stream",
     "text": [
      "['TARGETID', 'BRICKNAME', 'RA', 'DEC', 'TRUEZ', 'TRUETYPE', 'CATEGORY']\n",
      "['STAR', 'QSO', 'GALAXY', 'UNKNOWN']\n"
     ]
    }
   ],
   "source": [
    "truth_file = \"/home/forero/Data/desitest/mtl/truth.fits\"\n",
    "sky_file = \"/home/forero/Data/desitest/mtl/sky.fits\"\n",
    "star_file =  \"/home/forero/Data/desitest/mtl/stdstars.fits\"\n",
    "\n",
    "truth = Table.read(truth_file)\n",
    "sky = Table.read(sky_file)\n",
    "star = Table.read(star_file)\n",
    "true_types = list(set(truth['TRUETYPE']))\n",
    "print truth.colnames\n",
    "print true_types"
   ]
  },
  {
   "cell_type": "code",
   "execution_count": 5,
   "metadata": {
    "collapsed": false
   },
   "outputs": [],
   "source": [
    "def print_stats_total(truth, base_path=\"./\", n_epoch=6):\n",
    "    print(\"TOTAL EFFICIENCIES\")\n",
    "    print(\"==================\")\n",
    "    epoch = 0\n",
    "    mtl_file = base_path+\"{}/mtl.fits\".format(epoch)\n",
    "    mtl = Table.read(mtl_file)    \n",
    "    tmp_init = join(mtl, truth, keys='TARGETID')\n",
    "    \n",
    "    for epoch in range(n_epoch):\n",
    "        print('Epoch {}'.format(epoch))\n",
    "        zcat_file = base_path+\"{}/zcat.fits\".format(epoch)\n",
    "        zcat = Table.read(zcat_file) \n",
    "        \n",
    "        total = join(zcat, tmp_init, keys='TARGETID')\n",
    "\n",
    "        # print total.colnames\n",
    "        true_types = ['LRG', 'ELG', 'QSO']\n",
    "        zcat_types = ['GALAXY', 'GALAXY', 'QSO']\n",
    "    \n",
    "        for true_type, zcat_type in zip(true_types, zcat_types):\n",
    "            i_initial = ((tmp_init['DESI_TARGET'] & desi_mask.mask(true_type)) != 0) & (tmp_init['TRUETYPE'] == zcat_type)\n",
    "            i_final = ((total['DESI_TARGET'] & desi_mask.mask(true_type)) != 0) & (total['TYPE'] == zcat_type) \n",
    "            \n",
    "            n_t = 1.0*len(total['TARGETID'][i_final])\n",
    "            n_i = 1.0*len(tmp_init['TARGETID'][i_initial])\n",
    "            print(\"\\t {} fraction : {}\".format(true_type, n_t/n_i))\n",
    "        print(\"\\t TRUE:ZCAT\\n\\t {}\\n\".format(Counter(zip(total['DESI_TARGET'], total['TYPE']))))\n",
    "        #print(\"\\t TRUE:NUMOBS\\n\\t {}\\n\".format(Counter(zip(total['DESI_TARGET'], total['NUMOBS_MORE']))))"
   ]
  },
  {
   "cell_type": "code",
   "execution_count": 6,
   "metadata": {
    "collapsed": false
   },
   "outputs": [],
   "source": [
    "def print_stats_mtl(base_path=\"./\", n_epoch=6):\n",
    "    print(\"MTL EFFICIENCIES\")\n",
    "    print(\"================\")\n",
    "    for j in range(n_epoch):\n",
    "        print('PASS {}'.format(j))\n",
    "        mtl_file = base_path+\"{}/mtl.fits\".format(j)\n",
    "        mtl = Table.read(mtl_file)\n",
    "        \n",
    "        ii = (mtl['DESI_TARGET'] & desi_mask.QSO) != 0\n",
    "        n = len(mtl['NUMOBS_MORE'][ii])\n",
    "        if j == 0: n_qso = n\n",
    "        print('\\t QSO f_unobs:{} - {}'.format(1.0*n/n_qso, Counter(mtl['NUMOBS_MORE'][ii])))\n",
    "    \n",
    "        ii = (mtl['DESI_TARGET'] & desi_mask.ELG) != 0\n",
    "        n = len(mtl['NUMOBS_MORE'][ii])\n",
    "        if j == 0: n_elg = n\n",
    "        print('\\t ELG f_unobs:{} - {}'.format(1.0*n/n_elg, Counter(mtl['NUMOBS_MORE'][ii])))\n",
    "    \n",
    "        ii = (mtl['DESI_TARGET'] & desi_mask.LRG) != 0\n",
    "        n = len(mtl['NUMOBS_MORE'][ii])\n",
    "        if j == 0: n_lrg = n\n",
    "        print('\\t LRG f_unobs:{} - {}'.format(1.0*n/n_lrg, Counter(mtl['NUMOBS_MORE'][ii])))\n",
    "    \n",
    "        ii = (mtl['DESI_TARGET'] & desi_mask.SKY) != 0\n",
    "        print('SKY {}'.format(Counter(mtl['NUMOBS_MORE'][ii])))\n",
    "\n",
    "        \n",
    "def print_stats_zcat(truth, base_path=\"./\", n_epoch = 6):\n",
    "    print(\"REDSHIFT EFFICIENCIES\")\n",
    "    print(\"=======================\")\n",
    "\n",
    "    for epoch in range(n_epoch):\n",
    "        zcat_file = base_path+\"{}/zcat.fits\".format(epoch)\n",
    "        zcat = Table.read(zcat_file)\n",
    "        print('Epoch {}'.format(epoch))\n",
    "        for true_type in true_types:\n",
    "            ii = (zcat['TYPE'] == true_type)\n",
    "            jj = (truth['TRUETYPE'] == true_type)\n",
    "            n_obs  = 1.0 * len(zcat['Z'][ii])\n",
    "            n_total = 1.0 * len(truth['TRUEZ'][jj])\n",
    "            print(\"\\t {} : {}\".format(true_type, n_obs/n_total))"
   ]
  },
  {
   "cell_type": "code",
   "execution_count": 11,
   "metadata": {
    "collapsed": false
   },
   "outputs": [
    {
     "name": "stdout",
     "output_type": "stream",
     "text": [
      "REDSHIFT EFFICIENCIES\n",
      "=======================\n",
      "Epoch 0\n",
      "\t STAR : 0.713398715067\n",
      "\t QSO : 0.713307299853\n",
      "\t GALAXY : 0.137833950982\n",
      "\t UNKNOWN : 0.476551738317\n",
      "Epoch 1\n",
      "\t STAR : 0.91987332289\n",
      "\t QSO : 0.920037720338\n",
      "\t GALAXY : 0.286704702007\n",
      "\t UNKNOWN : 0.794362548572\n",
      "Epoch 2\n",
      "\t STAR : 0.966775636223\n",
      "\t QSO : 0.966057741132\n",
      "\t GALAXY : 0.442159132356\n",
      "\t UNKNOWN : 0.924484467197\n",
      "Epoch 3\n",
      "\t STAR : 0.980544393743\n",
      "\t QSO : 0.979791812752\n",
      "\t GALAXY : 0.608946305161\n",
      "\t UNKNOWN : 0.962231953782\n",
      "Epoch 4\n",
      "\t STAR : 0.980544393743\n",
      "\t QSO : 0.979791812752\n",
      "\t GALAXY : 0.777696222482\n",
      "\t UNKNOWN : 0.962231953782\n",
      "Epoch 5\n",
      "\t STAR : 0.98505073895\n",
      "\t QSO : 0.984591483908\n",
      "\t GALAXY : 0.700067465799\n",
      "\t UNKNOWN : 0.879212154855\n",
      "TOTAL EFFICIENCIES\n",
      "==================\n",
      "Epoch 0\n",
      "\t LRG fraction : 0.46629373705\n",
      "\t ELG fraction : 0.0972389495982\n",
      "\t QSO fraction : 0.713307299853\n",
      "\t TRUE:ZCAT\n",
      "\t Counter({(2, 'GALAXY'): 228974, (1, 'GALAXY'): 135705, (4, 'QSO'): 118001, (4, 'STAR'): 62849, (1, 'UNKNOWN'): 23179})\n",
      "\n",
      "Epoch 1\n",
      "\t LRG fraction : 0.783994034959\n",
      "\t ELG fraction : 0.225243719519\n",
      "\t QSO fraction : 0.920037720338\n",
      "\t TRUE:ZCAT\n",
      "\t Counter({(2, 'GALAXY'): 530394, (1, 'GALAXY'): 228165, (4, 'QSO'): 152200, (4, 'STAR'): 81039, (1, 'UNKNOWN'): 38637})\n",
      "\n",
      "Epoch 2\n",
      "\t LRG fraction : 0.916647481866\n",
      "\t ELG fraction : 0.383516168979\n",
      "\t QSO fraction : 0.966057741132\n",
      "\t TRUE:ZCAT\n",
      "\t Counter({(2, 'GALAXY'): 903087, (1, 'GALAXY'): 266771, (4, 'QSO'): 159813, (4, 'STAR'): 85171, (1, 'UNKNOWN'): 44966})\n",
      "\n",
      "Epoch 3\n",
      "\t LRG fraction : 0.960292616887\n",
      "\t ELG fraction : 0.565522712332\n",
      "\t QSO fraction : 0.979791812752\n",
      "\t TRUE:ZCAT\n",
      "\t Counter({(2, 'GALAXY'): 1331668, (1, 'GALAXY'): 279473, (4, 'QSO'): 162085, (4, 'STAR'): 86384, (1, 'UNKNOWN'): 46802})\n",
      "\n",
      "Epoch 4\n",
      "\t LRG fraction : 0.960292616887\n",
      "\t ELG fraction : 0.75512876918\n",
      "\t QSO fraction : 0.979791812752\n",
      "\t TRUE:ZCAT\n",
      "\t Counter({(2, 'GALAXY'): 1778144, (1, 'GALAXY'): 279473, (4, 'QSO'): 162085, (4, 'STAR'): 86384, (1, 'UNKNOWN'): 46802})\n",
      "\n",
      "Epoch 5\n",
      "\t LRG fraction : 0.874036608036\n",
      "\t ELG fraction : 0.678566271835\n",
      "\t QSO fraction : 0.984591483908\n",
      "\t TRUE:ZCAT\n",
      "\t Counter({(2, 'GALAXY'): 1597858, (1, 'GALAXY'): 254370, (4, 'QSO'): 162879, (4, 'STAR'): 86781, (1, 'UNKNOWN'): 42764})\n",
      "\n"
     ]
    }
   ],
   "source": [
    "base_path = \"/home/forero/Data/desitest/lowfat_perfect/\"\n",
    "print_stats_zcat(truth ,base_path=base_path, n_epoch=6)\n",
    "print_stats_total(truth, base_path=base_path, n_epoch=6)"
   ]
  },
  {
   "cell_type": "code",
   "execution_count": 57,
   "metadata": {
    "collapsed": false
   },
   "outputs": [
    {
     "name": "stdout",
     "output_type": "stream",
     "text": [
      "REDSHIFT EFFICIENCIES\n",
      "=======================\n",
      "Epoch 0\n",
      "\t STAR : 0.555801493791\n",
      "\t QSO : 0.556151316585\n",
      "\t GALAXY : 0.153690492614\n",
      "\t UNKNOWN : 0.502025123872\n",
      "Epoch 1\n",
      "\t STAR : 0.641410701719\n",
      "\t QSO : 0.640925357255\n",
      "\t GALAXY : 0.312227939912\n",
      "\t UNKNOWN : 0.594276198113\n",
      "Epoch 2\n",
      "\t STAR : 0.692705850303\n",
      "\t QSO : 0.693419493677\n",
      "\t GALAXY : 0.407757622029\n",
      "\t UNKNOWN : 0.650013363762\n",
      "Epoch 3\n",
      "\t STAR : 0.726690730777\n",
      "\t QSO : 0.728268491428\n",
      "\t GALAXY : 0.472974183465\n",
      "\t UNKNOWN : 0.688459877876\n",
      "Epoch 4\n",
      "\t STAR : 0.726690730777\n",
      "\t QSO : 0.728268491428\n",
      "\t GALAXY : 0.530594511648\n",
      "\t UNKNOWN : 0.688459877876\n",
      "Epoch 5\n",
      "\t STAR : 0.985130195918\n",
      "\t QSO : 0.984567304205\n",
      "\t GALAXY : 0.700053481292\n",
      "\t UNKNOWN : 0.880384053948\n",
      "TOTAL EFFICIENCIES\n",
      "==================\n",
      "Epoch 0\n",
      "\t LRG fraction : 0.486425751386\n",
      "\t ELG fraction : 0.112567077013\n",
      "\t QSO fraction : 0.556151316585\n",
      "\t TRUE:ZCAT\n",
      "\t Counter({(2, 'GALAXY'): 265068, (1, 'GALAXY'): 141564, (4, 'QSO'): 92003, (4, 'STAR'): 48965, (1, 'UNKNOWN'): 24418})\n",
      "\n",
      "Epoch 1\n",
      "\t LRG fraction : 0.573884389528\n",
      "\t ELG fraction : 0.279889296386\n",
      "\t QSO fraction : 0.640925357255\n",
      "\t TRUE:ZCAT\n",
      "\t Counter({(2, 'GALAXY'): 659071, (1, 'GALAXY'): 167017, (4, 'QSO'): 106027, (4, 'STAR'): 56507, (1, 'UNKNOWN'): 28905})\n",
      "\n",
      "Epoch 2\n",
      "\t LRG fraction : 0.627329235231\n",
      "\t ELG fraction : 0.380620327541\n",
      "\t QSO fraction : 0.693419493677\n",
      "\t TRUE:ZCAT\n",
      "\t Counter({(2, 'GALAXY'): 896268, (1, 'GALAXY'): 182571, (4, 'QSO'): 114711, (4, 'STAR'): 61026, (1, 'UNKNOWN'): 31616})\n",
      "\n",
      "Epoch 3\n",
      "\t LRG fraction : 0.664260262723\n",
      "\t ELG fraction : 0.449332754646\n",
      "\t QSO fraction : 0.728268491428\n",
      "\t TRUE:ZCAT\n",
      "\t Counter({(2, 'GALAXY'): 1058069, (1, 'GALAXY'): 193319, (4, 'QSO'): 120476, (4, 'STAR'): 64020, (1, 'UNKNOWN'): 33486})\n",
      "\n",
      "Epoch 4\n",
      "\t LRG fraction : 0.664260262723\n",
      "\t ELG fraction : 0.514074494343\n",
      "\t QSO fraction : 0.728268491428\n",
      "\t TRUE:ZCAT\n",
      "\t Counter({(2, 'GALAXY'): 1210520, (1, 'GALAXY'): 193319, (4, 'QSO'): 120476, (4, 'STAR'): 64020, (1, 'UNKNOWN'): 33486})\n",
      "\n",
      "Epoch 5\n",
      "\t LRG fraction : 0.874005683282\n",
      "\t ELG fraction : 0.678554381006\n",
      "\t QSO fraction : 0.984567304205\n",
      "\t TRUE:ZCAT\n",
      "\t Counter({(2, 'GALAXY'): 1597830, (1, 'GALAXY'): 254361, (4, 'QSO'): 162875, (4, 'STAR'): 86788, (1, 'UNKNOWN'): 42821})\n",
      "\n"
     ]
    }
   ],
   "source": [
    "base_path = \"/home/forero/Data/desitest/lowfat_serial/\"\n",
    "print_stats_zcat(truth ,base_path=base_path)\n",
    "print_stats_total(truth, base_path=base_path)"
   ]
  },
  {
   "cell_type": "code",
   "execution_count": 58,
   "metadata": {
    "collapsed": false
   },
   "outputs": [
    {
     "name": "stdout",
     "output_type": "stream",
     "text": [
      "REDSHIFT EFFICIENCIES\n",
      "=======================\n",
      "Epoch 0\n",
      "\t STAR : 0.713875456878\n",
      "\t QSO : 0.713627680925\n",
      "\t GALAXY : 0.137845289772\n",
      "\t UNKNOWN : 0.475708793355\n",
      "Epoch 1\n",
      "\t STAR : 0.778610184113\n",
      "\t QSO : 0.778713397974\n",
      "\t GALAXY : 0.296597418158\n",
      "\t UNKNOWN : 0.596722794465\n",
      "Epoch 2\n",
      "\t STAR : 0.81665872097\n",
      "\t QSO : 0.817255845443\n",
      "\t GALAXY : 0.396587780186\n",
      "\t UNKNOWN : 0.669359978618\n",
      "Epoch 3\n",
      "\t STAR : 0.841188222207\n",
      "\t QSO : 0.841864738738\n",
      "\t GALAXY : 0.468469282274\n",
      "\t UNKNOWN : 0.71411830013\n",
      "Epoch 4\n",
      "\t STAR : 0.841188222207\n",
      "\t QSO : 0.841864738738\n",
      "\t GALAXY : 0.545164100636\n",
      "\t UNKNOWN : 0.71411830013\n",
      "Epoch 5\n",
      "\t STAR : 0.984846421031\n",
      "\t QSO : 0.98439804628\n",
      "\t GALAXY : 0.69995521178\n",
      "\t UNKNOWN : 0.878636485125\n",
      "TOTAL EFFICIENCIES\n",
      "==================\n",
      "Epoch 0\n",
      "\t LRG fraction : 0.465895151342\n",
      "\t ELG fraction : 0.0973009517759\n",
      "\t QSO fraction : 0.713627680925\n",
      "\t TRUE:ZCAT\n",
      "\t Counter({(2, 'GALAXY'): 229120, (1, 'GALAXY'): 135589, (4, 'QSO'): 118054, (4, 'STAR'): 62891, (1, 'UNKNOWN'): 23138})\n",
      "\n",
      "Epoch 1\n",
      "\t LRG fraction : 0.583244281498\n",
      "\t ELG fraction : 0.261170159456\n",
      "\t QSO fraction : 0.778713397974\n",
      "\t TRUE:ZCAT\n",
      "\t Counter({(2, 'GALAXY'): 614992, (1, 'GALAXY'): 169741, (4, 'QSO'): 128821, (4, 'STAR'): 68594, (1, 'UNKNOWN'): 29024})\n",
      "\n",
      "Epoch 2\n",
      "\t LRG fraction : 0.651721993341\n",
      "\t ELG fraction : 0.365055232899\n",
      "\t QSO fraction : 0.817255845443\n",
      "\t TRUE:ZCAT\n",
      "\t Counter({(2, 'GALAXY'): 859616, (1, 'GALAXY'): 189670, (4, 'QSO'): 135197, (4, 'STAR'): 71946, (1, 'UNKNOWN'): 32557})\n",
      "\n",
      "Epoch 3\n",
      "\t LRG fraction : 0.696002803844\n",
      "\t ELG fraction : 0.440347959619\n",
      "\t QSO fraction : 0.841864738738\n",
      "\t TRUE:ZCAT\n",
      "\t Counter({(2, 'GALAXY'): 1036912, (1, 'GALAXY'): 202557, (4, 'QSO'): 139268, (4, 'STAR'): 74107, (1, 'UNKNOWN'): 34734})\n",
      "\n",
      "Epoch 4\n",
      "\t LRG fraction : 0.696002803844\n",
      "\t ELG fraction : 0.526521643856\n",
      "\t QSO fraction : 0.841864738738\n",
      "\t TRUE:ZCAT\n",
      "\t Counter({(2, 'GALAXY'): 1239830, (1, 'GALAXY'): 202557, (4, 'QSO'): 139268, (4, 'STAR'): 74107, (1, 'UNKNOWN'): 34734})\n",
      "\n",
      "Epoch 5\n",
      "\t LRG fraction : 0.873823570847\n",
      "\t ELG fraction : 0.678466473809\n",
      "\t QSO fraction : 0.98439804628\n",
      "\t TRUE:ZCAT\n",
      "\t Counter({(2, 'GALAXY'): 1597623, (1, 'GALAXY'): 254308, (4, 'QSO'): 162847, (4, 'STAR'): 86763, (1, 'UNKNOWN'): 42736})\n",
      "\n"
     ]
    }
   ],
   "source": [
    "base_path = \"/home/forero/Data/desitest/lowfat/\"\n",
    "print_stats_zcat(truth ,base_path=base_path)\n",
    "print_stats_total(truth, base_path=base_path)"
   ]
  },
  {
   "cell_type": "markdown",
   "metadata": {},
   "source": [
    "TOTAL EFFICIENCIES\n",
    "==================\n",
    "Epoch 0\n",
    "\t LRG fraction : 0.465877970924\n",
    "\t ELG fraction : 0.0973213360535\n",
    "\t QSO fraction : 0.713041323113\n",
    "\t TRUE:ZCAT\n",
    "\t Counter({(2, 'GALAXY'): 229168, (1, 'GALAXY'): 135584, (4, 'QSO'): 117957, (4, 'STAR'): 62840, (1, 'UNKNOWN'): 23205})\n",
    "\n",
    "Epoch 1\n",
    "\t LRG fraction : 0.584350700446\n",
    "\t ELG fraction : 0.261272505516\n",
    "\t QSO fraction : 0.77879198201\n",
    "\t TRUE:ZCAT\n",
    "\t Counter({(2, 'GALAXY'): 615233, (1, 'GALAXY'): 170063, (4, 'QSO'): 128834, (4, 'STAR'): 68560, (1, 'UNKNOWN'): 29135})\n",
    "\n",
    "Epoch 2\n",
    "\t LRG fraction : 0.65239202966\n",
    "\t ELG fraction : 0.363276704678\n",
    "\t QSO fraction : 0.816971733927\n",
    "\t TRUE:ZCAT\n",
    "\t Counter({(2, 'GALAXY'): 855428, (1, 'GALAXY'): 189865, (4, 'QSO'): 135150, (4, 'STAR'): 71856, (1, 'UNKNOWN'): 32639})\n"
   ]
  },
  {
   "cell_type": "code",
   "execution_count": 12,
   "metadata": {
    "collapsed": false
   },
   "outputs": [
    {
     "name": "stdout",
     "output_type": "stream",
     "text": [
      "REDSHIFT EFFICIENCIES\n",
      "=======================\n",
      "Epoch 0\n",
      "\t STAR : 0.714113827783\n",
      "\t QSO : 0.713234760742\n",
      "\t GALAXY : 0.137843399974\n",
      "\t UNKNOWN : 0.475297600691\n",
      "Epoch 1\n",
      "\t STAR : 0.779018819951\n",
      "\t QSO : 0.778900790676\n",
      "\t GALAXY : 0.296646552913\n",
      "\t UNKNOWN : 0.598902115586\n",
      "Epoch 2\n",
      "\t STAR : 0.816216032146\n",
      "\t QSO : 0.817340474406\n",
      "\t GALAXY : 0.394896788666\n",
      "\t UNKNOWN : 0.669442217151\n",
      "Epoch 3\n",
      "\t STAR : 0.840813639356\n",
      "\t QSO : 0.841320695408\n",
      "\t GALAXY : 0.46530198032\n",
      "\t UNKNOWN : 0.71411830013\n",
      "Epoch 4\n",
      "\t STAR : 0.840813639356\n",
      "\t QSO : 0.841320695408\n",
      "\t GALAXY : 0.543328728525\n",
      "\t UNKNOWN : 0.71411830013\n",
      "Epoch 5\n",
      "\t STAR : 0.984880474018\n",
      "\t QSO : 0.984700292574\n",
      "\t GALAXY : 0.70011130912\n",
      "\t UNKNOWN : 0.880116778717\n",
      "TOTAL EFFICIENCIES\n",
      "==================\n",
      "Epoch 0\n",
      "\t LRG fraction : 0.466022286439\n",
      "\t ELG fraction : 0.097283115533\n",
      "\t QSO fraction : 0.713234760742\n",
      "\t TRUE:ZCAT\n",
      "\t Counter({(2, 'GALAXY'): 229078, (1, 'GALAXY'): 135626, (4, 'QSO'): 117989, (4, 'STAR'): 62912, (1, 'UNKNOWN'): 23118})\n",
      "\n",
      "Epoch 1\n",
      "\t LRG fraction : 0.583910881733\n",
      "\t ELG fraction : 0.261142980419\n",
      "\t QSO fraction : 0.778900790676\n",
      "\t TRUE:ZCAT\n",
      "\t Counter({(2, 'GALAXY'): 614928, (1, 'GALAXY'): 169935, (4, 'QSO'): 128852, (4, 'STAR'): 68630, (1, 'UNKNOWN'): 29130})\n",
      "\n",
      "Epoch 2\n",
      "\t LRG fraction : 0.651471159232\n",
      "\t ELG fraction : 0.363186249446\n",
      "\t QSO fraction : 0.817340474406\n",
      "\t TRUE:ZCAT\n",
      "\t Counter({(2, 'GALAXY'): 855215, (1, 'GALAXY'): 189597, (4, 'QSO'): 135211, (4, 'STAR'): 71907, (1, 'UNKNOWN'): 32561})\n",
      "\n",
      "Epoch 3\n",
      "\t LRG fraction : 0.695501135626\n",
      "\t ELG fraction : 0.436851206664\n",
      "\t QSO fraction : 0.841320695408\n",
      "\t TRUE:ZCAT\n",
      "\t Counter({(2, 'GALAXY'): 1028678, (1, 'GALAXY'): 202411, (4, 'QSO'): 139178, (4, 'STAR'): 74074, (1, 'UNKNOWN'): 34734})\n",
      "\n",
      "Epoch 4\n",
      "\t LRG fraction : 0.695501135626\n",
      "\t ELG fraction : 0.524521436616\n",
      "\t QSO fraction : 0.841320695408\n",
      "\t TRUE:ZCAT\n",
      "\t Counter({(2, 'GALAXY'): 1235120, (1, 'GALAXY'): 202411, (4, 'QSO'): 139178, (4, 'STAR'): 74074, (1, 'UNKNOWN'): 34734})\n",
      "\n",
      "Epoch 5\n",
      "\t LRG fraction : 0.873868239935\n",
      "\t ELG fraction : 0.678636342789\n",
      "\t QSO fraction : 0.984700292574\n",
      "\t TRUE:ZCAT\n",
      "\t Counter({(2, 'GALAXY'): 1598023, (1, 'GALAXY'): 254321, (4, 'QSO'): 162897, (4, 'STAR'): 86766, (1, 'UNKNOWN'): 42808})\n",
      "\n"
     ]
    }
   ],
   "source": [
    "base_path = \"/home/forero/Data/desitest/lowfat_perfect/\"\n",
    "print_stats_zcat(truth ,base_path=base_path)\n",
    "print_stats_total(truth, base_path=base_path)"
   ]
  },
  {
   "cell_type": "code",
   "execution_count": 35,
   "metadata": {
    "collapsed": false
   },
   "outputs": [
    {
     "name": "stdout",
     "output_type": "stream",
     "text": [
      "144\n"
     ]
    }
   ],
   "source": [
    "import glob\n",
    "tile_files = glob.glob('/home/forero/Data/desitest/lowfat_serial/0/fiberassign/tile*.fits')\n",
    "print len(tile_files)"
   ]
  },
  {
   "cell_type": "code",
   "execution_count": 36,
   "metadata": {
    "collapsed": false
   },
   "outputs": [
    {
     "name": "stdout",
     "output_type": "stream",
     "text": [
      "['FIBER', 'POSITIONER', 'NUMTARGET', 'PRIORITY', 'TARGETID', 'DESI_TARGET', 'BGS_TARGET', 'MWS_TARGET', 'RA', 'DEC', 'XFOCAL_DESIGN', 'YFOCAL_DESIGN']\n",
      "['TARGETID', 'BRICKNAME', 'RA', 'DEC', 'TRUEZ', 'TRUETYPE', 'CATEGORY']\n",
      "['TARGETID', 'BRICKNAME', 'Z', 'TYPE', 'NUMOBS', 'ZERR', 'ZWARN']\n"
     ]
    }
   ],
   "source": [
    "fiberdata = Table.read(tile_files[0], hdu=1)\n",
    "print fiberdata.colnames\n",
    "print truth.colnames\n",
    "print zcat.colnames"
   ]
  },
  {
   "cell_type": "code",
   "execution_count": 39,
   "metadata": {
    "collapsed": true
   },
   "outputs": [],
   "source": [
    " fiberdata = Table.read(tile_files[6], hdu=1)"
   ]
  },
  {
   "cell_type": "code",
   "execution_count": 40,
   "metadata": {
    "collapsed": false
   },
   "outputs": [
    {
     "data": {
      "text/plain": [
       "<matplotlib.collections.PathCollection at 0x7fe0f75ae990>"
      ]
     },
     "execution_count": 40,
     "metadata": {},
     "output_type": "execute_result"
    },
    {
     "name": "stderr",
     "output_type": "stream",
     "text": [
      "/usr/local/lib/python2.7/dist-packages/matplotlib/collections.py:590: FutureWarning: elementwise comparison failed; returning scalar instead, but in the future will perform elementwise comparison\n",
      "  if self._edgecolors == str('face'):\n"
     ]
    },
    {
     "data": {
      "image/png": "[encoded data removed]",
      "text/plain": [
       "<matplotlib.figure.Figure at 0x7fe0fc55eb10>"
      ]
     },
     "metadata": {},
     "output_type": "display_data"
    }
   ],
   "source": [
    "ii = (fiberdata['TARGETID'] >= 0)\n",
    "plt.scatter(fiberdata['RA'][ii], fiberdata['DEC'][ii], s=0.1)"
   ]
  },
  {
   "cell_type": "code",
   "execution_count": 41,
   "metadata": {
    "collapsed": false
   },
   "outputs": [],
   "source": [
    "def compare_fibermaps(base_path_A=\"./\", base_path_B=\"./\", tile_id=0, epoch=0):\n",
    "    fiber_file_A = \"%s/%d/fiberassign/tile_%05d.fits\"%(base_path_A, epoch, tile_id)\n",
    "    fiber_file_B = \"%s/%d/fiberassign/tile_%05d.fits\"%(base_path_B, epoch, tile_id)\n",
    "\n",
    "    fiberdata_A = Table.read(fiber_file_A, hdu=1)\n",
    "    fiberdata_B = Table.read(fiber_file_B, hdu=1)\n",
    "\n",
    "    ii_A = (fiberdata_A['TARGETID'] > 0)\n",
    "    ii_B = (fiberdata_B['TARGETID'] > 0)\n",
    "    intersection = list(set(fiberdata_A['TARGETID'][ii_A]) & set(fiberdata_B['TARGETID'][ii_B]))\n",
    "    \n",
    "    n_A = len(fiberdata_A['TARGETID'][ii_A])\n",
    "    n_B = len(fiberdata_B['TARGETID'][ii_B])\n",
    "    return 1.0*n_A/n_B, 1.0*len(intersection)/n_A\n"
   ]
  },
  {
   "cell_type": "code",
   "execution_count": 42,
   "metadata": {
    "collapsed": false
   },
   "outputs": [],
   "source": [
    "epoch  = 5\n",
    "base_path_A = \"/home/forero/Data/desitest/lowfat_serial/\"\n",
    "base_path_B = \"/home/forero/Data/desitest/lowfat/\"\n",
    "\n",
    "tile_files = glob.glob('{}/{}/fiberassign/tile*.fits'.format(base_path_A, epoch))\n",
    "tile_id_list = []\n",
    "for tile in tile_files:\n",
    "    tilename = tile.split('/')[-1]\n",
    "    tile_id_list.append(int(tilename.split('.')[0].split('_')[-1]))\n",
    "tile_id_list.sort()\n",
    "#print tile_id_list\n",
    "\n",
    "\n",
    "ratio_used = []\n",
    "ratio_intersection = []\n",
    "for tile_id in tile_id_list:\n",
    "    used, intersec = compare_fibermaps(base_path_A=base_path_A, base_path_B=base_path_B, tile_id=tile_id, epoch=epoch)\n",
    "    ratio_used.append(used)\n",
    "    ratio_intersection.append(intersec)"
   ]
  },
  {
   "cell_type": "code",
   "execution_count": 43,
   "metadata": {
    "collapsed": false
   },
   "outputs": [
    {
     "data": {
      "text/plain": [
       "[<matplotlib.lines.Line2D at 0x7fe0f421d1d0>]"
      ]
     },
     "execution_count": 43,
     "metadata": {},
     "output_type": "execute_result"
    },
    {
     "data": {
      "image/png": "[encoded data removed]",
      "text/plain": [
       "<matplotlib.figure.Figure at 0x7fe0f421da50>"
      ]
     },
     "metadata": {},
     "output_type": "display_data"
    }
   ],
   "source": [
    "plt.plot(ratio_used, lw=5)\n",
    "plt.plot(ratio_intersection, lw=5)"
   ]
  },
  {
   "cell_type": "code",
   "execution_count": null,
   "metadata": {
    "collapsed": true
   },
   "outputs": [],
   "source": []
  }
 ],
 "metadata": {
  "kernelspec": {
   "display_name": "Python 2",
   "language": "python",
   "name": "python2"
  },
  "language_info": {
   "codemirror_mode": {
    "name": "ipython",
    "version": 2
   },
   "file_extension": ".py",
   "mimetype": "text/x-python",
   "name": "python",
   "nbconvert_exporter": "python",
   "pygments_lexer": "ipython2",
   "version": "2.7.6"
  }
 },
 "nbformat": 4,
 "nbformat_minor": 0
}
