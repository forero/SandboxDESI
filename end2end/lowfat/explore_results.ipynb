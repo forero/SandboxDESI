{
 "cells": [
  {
   "cell_type": "code",
   "execution_count": 1,
   "metadata": {
    "collapsed": true
   },
   "outputs": [],
   "source": [
    "%matplotlib inline"
   ]
  },
  {
   "cell_type": "code",
   "execution_count": 76,
   "metadata": {
    "collapsed": false
   },
   "outputs": [],
   "source": [
    "import numpy as np\n",
    "import matplotlib.pyplot as plt\n",
    "from astropy.table import Table, Column\n",
    "from astropy.table import join\n",
    "from desitarget.targets import desi_mask\n",
    "from collections import Counter"
   ]
  },
  {
   "cell_type": "code",
   "execution_count": 67,
   "metadata": {
    "collapsed": false
   },
   "outputs": [],
   "source": [
    "truth_file = \"/home/forero/Data/desitest/mtl/truth.fits\"\n",
    "sky_file = \"/home/forero/Data/desitest/mtl/sky.fits\"\n",
    "star_file =  \"/home/forero/Data/desitest/mtl/stdstars.fits\"\n",
    "\n",
    "truth = Table.read(truth_file)\n",
    "sky = Table.read(sky_file)\n",
    "star = Table.read(star_file)\n",
    "true_types = list(set(truth['TRUETYPE']))"
   ]
  },
  {
   "cell_type": "code",
   "execution_count": 78,
   "metadata": {
    "collapsed": false
   },
   "outputs": [
    {
     "name": "stdout",
     "output_type": "stream",
     "text": [
      "Counter({4: 253526})\n",
      "Counter({1: 195566, 2: 16795, 3: 14517, 4: 6227})\n",
      "Counter({1: 162907, 2: 16222, 3: 12977, 4: 4804})\n",
      "Counter({1: 142453, 2: 14606, 3: 13428, 4: 3998})\n",
      "Counter({1: 128226, 3: 13913, 2: 13323, 4: 3441})\n"
     ]
    }
   ],
   "source": [
    "for j in range(5):\n",
    "    mtl_file = \"/home/forero/Data/desitest/lowfat/{}/mtl.fits\".format(j)\n",
    "    mtl = Table.read(mtl_file)\n",
    "    ii = (mtl['DESI_TARGET'] & desi_mask.QSO) != 0\n",
    "    len(ii)\n",
    "#    print set(mtl['NUMOBS_MORE'][ii])\n",
    "    print Counter(mtl['NUMOBS_MORE'][ii])"
   ]
  },
  {
   "cell_type": "code",
   "execution_count": 75,
   "metadata": {
    "collapsed": false
   },
   "outputs": [
    {
     "name": "stdout",
     "output_type": "stream",
     "text": [
      "set([1, 2, 3, 4])\n"
     ]
    }
   ],
   "source": [
    "ii = (mtl['DESI_TARGET'] & desi_mask.QSO) != 0\n",
    "len(ii)\n",
    "print set(mtl['NUMOBS_MORE'][ii])\n",
    "Counter(mtl['NUMOBS_MORE'][ii])"
   ]
  },
  {
   "cell_type": "code",
   "execution_count": 77,
   "metadata": {
    "collapsed": false
   },
   "outputs": [
    {
     "data": {
      "text/plain": [
       "Counter({1: 195566, 2: 16795, 3: 14517, 4: 6227})"
      ]
     },
     "execution_count": 77,
     "metadata": {},
     "output_type": "execute_result"
    }
   ],
   "source": [
    "Counter(mtl['NUMOBS_MORE'][ii])"
   ]
  },
  {
   "cell_type": "code",
   "execution_count": null,
   "metadata": {
    "collapsed": true
   },
   "outputs": [],
   "source": [
    "mtl_file = \"/home/forero/Data/desitest/lowfat/1/mtl.fits\"\n",
    "mtl = Table.read(mtl_file)\n",
    "mtl.colnames"
   ]
  },
  {
   "cell_type": "code",
   "execution_count": 79,
   "metadata": {
    "collapsed": false
   },
   "outputs": [
    {
     "name": "stdout",
     "output_type": "stream",
     "text": [
      "TARGETTING EFFICIENCIES\n",
      "=======================\n",
      "Epoch 0\n",
      "\t STAR : 0.555801493791\n",
      "\t QSO : 0.556151316585\n",
      "\t GALAXY : 0.153690492614\n",
      "\t UNKNOWN : 0.502025123872\n",
      "Epoch 1\n",
      "\t STAR : 0.641410701719\n",
      "\t QSO : 0.640925357255\n",
      "\t GALAXY : 0.312227939912\n",
      "\t UNKNOWN : 0.594276198113\n",
      "Epoch 2\n",
      "\t STAR : 0.692705850303\n",
      "\t QSO : 0.693419493677\n",
      "\t GALAXY : 0.407757622029\n",
      "\t UNKNOWN : 0.650013363762\n",
      "Epoch 3\n",
      "\t STAR : 0.726690730777\n",
      "\t QSO : 0.728268491428\n",
      "\t GALAXY : 0.472974183465\n",
      "\t UNKNOWN : 0.688459877876\n",
      "Epoch 4\n",
      "\t STAR : 0.726690730777\n",
      "\t QSO : 0.728268491428\n",
      "\t GALAXY : 0.530594511648\n",
      "\t UNKNOWN : 0.688459877876\n",
      "Epoch 5\n",
      "\t STAR : 0.985130195918\n",
      "\t QSO : 0.984567304205\n",
      "\t GALAXY : 0.700053481292\n",
      "\t UNKNOWN : 0.880384053948\n"
     ]
    }
   ],
   "source": [
    "n_epoch = 6\n",
    "\n",
    "print(\"TARGETTING EFFICIENCIES\")\n",
    "print(\"=======================\")\n",
    "\n",
    "for epoch in range(n_epoch):\n",
    "    zcat_file = \"/home/forero/Data/desitest/lowfat_serial/{}/zcat.fits\".format(epoch)\n",
    "    zcat = Table.read(zcat_file)\n",
    "    print('Epoch {}'.format(epoch))\n",
    "    for true_type in true_types:\n",
    "        ii = (zcat['TYPE'] == true_type)\n",
    "        jj = (truth['TRUETYPE'] == true_type)\n",
    "        n_obs  = 1.0 * len(zcat['Z'][ii])\n",
    "        n_total = 1.0 * len(truth['TRUEZ'][jj])\n",
    "        print(\"\\t {} : {}\".format(true_type, n_obs/n_total))"
   ]
  },
  {
   "cell_type": "code",
   "execution_count": 80,
   "metadata": {
    "collapsed": false
   },
   "outputs": [
    {
     "name": "stdout",
     "output_type": "stream",
     "text": [
      "TARGETTING EFFICIENCIES\n",
      "=======================\n",
      "Epoch 0\n",
      "\t STAR : 0.713875456878\n",
      "\t QSO : 0.713627680925\n",
      "\t GALAXY : 0.137845289772\n",
      "\t UNKNOWN : 0.475708793355\n",
      "Epoch 1\n",
      "\t STAR : 0.778610184113\n",
      "\t QSO : 0.778713397974\n",
      "\t GALAXY : 0.296597418158\n",
      "\t UNKNOWN : 0.596722794465\n",
      "Epoch 2\n",
      "\t STAR : 0.81665872097\n",
      "\t QSO : 0.817255845443\n",
      "\t GALAXY : 0.396587780186\n",
      "\t UNKNOWN : 0.669359978618\n",
      "Epoch 3\n",
      "\t STAR : 0.841188222207\n",
      "\t QSO : 0.841864738738\n",
      "\t GALAXY : 0.468469282274\n",
      "\t UNKNOWN : 0.71411830013\n",
      "Epoch 4\n",
      "\t STAR : 0.841188222207\n",
      "\t QSO : 0.841864738738\n",
      "\t GALAXY : 0.545164100636\n",
      "\t UNKNOWN : 0.71411830013\n",
      "Epoch 5\n",
      "\t STAR : 0.984846421031\n",
      "\t QSO : 0.98439804628\n",
      "\t GALAXY : 0.69995521178\n",
      "\t UNKNOWN : 0.878636485125\n"
     ]
    }
   ],
   "source": [
    "n_epoch = 6\n",
    "\n",
    "print(\"TARGETTING EFFICIENCIES\")\n",
    "print(\"=======================\")\n",
    "\n",
    "for epoch in range(n_epoch):\n",
    "    zcat_file = \"/home/forero/Data/desitest/lowfat/{}/zcat.fits\".format(epoch)\n",
    "    zcat = Table.read(zcat_file)\n",
    "    print('Epoch {}'.format(epoch))\n",
    "    for true_type in true_types:\n",
    "        ii = (zcat['TYPE'] == true_type)\n",
    "        jj = (truth['TRUETYPE'] == true_type)\n",
    "        n_obs  = 1.0 * len(zcat['Z'][ii])\n",
    "        n_total = 1.0 * len(truth['TRUEZ'][jj])\n",
    "        print(\"\\t {} : {}\".format(true_type, n_obs/n_total))"
   ]
  },
  {
   "cell_type": "code",
   "execution_count": 52,
   "metadata": {
    "collapsed": false
   },
   "outputs": [
    {
     "name": "stdout",
     "output_type": "stream",
     "text": [
      "144\n"
     ]
    }
   ],
   "source": [
    "import glob\n",
    "tile_files = glob.glob('/home/forero/Data/desitest/lowfat_serial/0/fiberassign/tile*.fits')\n",
    "print len(tile_files)"
   ]
  },
  {
   "cell_type": "code",
   "execution_count": 61,
   "metadata": {
    "collapsed": false
   },
   "outputs": [
    {
     "name": "stdout",
     "output_type": "stream",
     "text": [
      "['FIBER', 'POSITIONER', 'NUMTARGET', 'PRIORITY', 'TARGETID', 'DESI_TARGET', 'BGS_TARGET', 'MWS_TARGET', 'RA', 'DEC', 'XFOCAL_DESIGN', 'YFOCAL_DESIGN']\n",
      "['TARGETID', 'BRICKNAME', 'RA', 'DEC', 'TRUEZ', 'TRUETYPE', 'CATEGORY']\n",
      "['TARGETID', 'BRICKNAME', 'Z', 'TYPE', 'NUMOBS', 'ZERR', 'ZWARN']\n"
     ]
    }
   ],
   "source": [
    "fiberdata = Table.read(tile_files[0], hdu=1)\n",
    "print fiberdata.colnames\n",
    "print truth.colnames\n",
    "print zcat.colnames"
   ]
  },
  {
   "cell_type": "code",
   "execution_count": 66,
   "metadata": {
    "collapsed": false
   },
   "outputs": [
    {
     "name": "stdout",
     "output_type": "stream",
     "text": [
      "[ 32.   0.   1.   2.  33. -inf] [4294967296, 1, 2, 4, 8589934592, 0]\n"
     ]
    },
    {
     "name": "stderr",
     "output_type": "stream",
     "text": [
      "/usr/local/lib/python2.7/dist-packages/ipykernel/__main__.py:2: RuntimeWarning: divide by zero encountered in log\n",
      "  from ipykernel import kernelapp as app\n"
     ]
    }
   ],
   "source": [
    "targets = list(set(fiberdata['DESI_TARGET']))\n",
    "print np.log(targets)/np.log(2), targets"
   ]
  },
  {
   "cell_type": "code",
   "execution_count": 43,
   "metadata": {
    "collapsed": false
   },
   "outputs": [
    {
     "name": "stdout",
     "output_type": "stream",
     "text": [
      "/home/forero/Data/desitest/lowfat_serial/0/fiberassign/tile_02791.fits\n",
      "/home/forero/Data/desitest/lowfat_serial/0/fiberassign/tile_02802.fits\n",
      "/home/forero/Data/desitest/lowfat_serial/0/fiberassign/tile_05394.fits\n",
      "/home/forero/Data/desitest/lowfat_serial/0/fiberassign/tile_05469.fits\n",
      "/home/forero/Data/desitest/lowfat_serial/0/fiberassign/tile_05425.fits\n",
      "/home/forero/Data/desitest/lowfat_serial/0/fiberassign/tile_02780.fits\n",
      "/home/forero/Data/desitest/lowfat_serial/0/fiberassign/tile_03394.fits\n",
      "/home/forero/Data/desitest/lowfat_serial/0/fiberassign/tile_05429.fits\n",
      "/home/forero/Data/desitest/lowfat_serial/0/fiberassign/tile_05420.fits\n",
      "/home/forero/Data/desitest/lowfat_serial/0/fiberassign/tile_00139.fits\n",
      "/home/forero/Data/desitest/lowfat_serial/0/fiberassign/tile_02763.fits\n",
      "/home/forero/Data/desitest/lowfat_serial/0/fiberassign/tile_05461.fits\n",
      "/home/forero/Data/desitest/lowfat_serial/0/fiberassign/tile_02814.fits\n",
      "/home/forero/Data/desitest/lowfat_serial/0/fiberassign/tile_05391.fits\n",
      "/home/forero/Data/desitest/lowfat_serial/0/fiberassign/tile_05466.fits\n",
      "/home/forero/Data/desitest/lowfat_serial/0/fiberassign/tile_05449.fits\n",
      "/home/forero/Data/desitest/lowfat_serial/0/fiberassign/tile_02790.fits\n",
      "/home/forero/Data/desitest/lowfat_serial/0/fiberassign/tile_02738.fits\n",
      "/home/forero/Data/desitest/lowfat_serial/0/fiberassign/tile_05387.fits\n",
      "/home/forero/Data/desitest/lowfat_serial/0/fiberassign/tile_02724.fits\n"
     ]
    }
   ],
   "source": [
    "n_tiles = 20\n",
    "n_star_all = []\n",
    "n_sky_all = []\n",
    "n_targets_all = []\n",
    "for i in range(n_tiles):\n",
    "    print tile_files[i]\n",
    "    fiberdata = Table.read(tile_files[i], hdu=1)\n",
    "    n_star = len(set(fiberdata['TARGETID']) & set(star['TARGETID']))\n",
    "    n_sky = len(set(fiberdata['TARGETID']) & set(sky['TARGETID']))\n",
    "    n_targets = len(set(fiberdata['TARGETID']) & set(truth['TARGETID']))\n",
    "    n_star_all.append(n_star)\n",
    "    n_sky_all.append(n_sky)\n",
    "    n_targets_all.append(n_targets)"
   ]
  },
  {
   "cell_type": "code",
   "execution_count": 44,
   "metadata": {
    "collapsed": false
   },
   "outputs": [
    {
     "name": "stdout",
     "output_type": "stream",
     "text": [
      "[4489, 4489, 4485, 4490, 4493, 4491, 2103, 4491, 4490, 2248, 4494, 4488, 4492, 2250, 4488, 4482, 4490, 4490, 4490, 2247]\n",
      "[400, 400, 400, 400, 400, 400, 201, 400, 400, 202, 400, 400, 400, 202, 400, 400, 400, 400, 400, 204]\n",
      "[100, 100, 100, 100, 100, 100, 50, 100, 100, 50, 100, 100, 100, 50, 100, 100, 100, 100, 100, 50]\n"
     ]
    }
   ],
   "source": [
    "print n_targets_all\n",
    "print n_sky_all\n",
    "print n_star_all"
   ]
  },
  {
   "cell_type": "code",
   "execution_count": 47,
   "metadata": {
    "collapsed": true
   },
   "outputs": [],
   "source": [
    " fiberdata = Table.read(tile_files[6], hdu=1)"
   ]
  },
  {
   "cell_type": "code",
   "execution_count": 48,
   "metadata": {
    "collapsed": false
   },
   "outputs": [
    {
     "data": {
      "text/plain": [
       "<matplotlib.collections.PathCollection at 0x7f767b2b5dd0>"
      ]
     },
     "execution_count": 48,
     "metadata": {},
     "output_type": "execute_result"
    },
    {
     "data": {
      "image/png": "[encoded data removed]",
      "text/plain": [
       "<matplotlib.figure.Figure at 0x7f767b383450>"
      ]
     },
     "metadata": {},
     "output_type": "display_data"
    }
   ],
   "source": [
    "ii = (fiberdata['TARGETID'] >= 0)\n",
    "plt.scatter(fiberdata['RA'][ii], fiberdata['DEC'][ii], s=0.1)"
   ]
  },
  {
   "cell_type": "code",
   "execution_count": null,
   "metadata": {
    "collapsed": true
   },
   "outputs": [],
   "source": []
  }
 ],
 "metadata": {
  "kernelspec": {
   "display_name": "Python 2",
   "language": "python",
   "name": "python2"
  },
  "language_info": {
   "codemirror_mode": {
    "name": "ipython",
    "version": 2
   },
   "file_extension": ".py",
   "mimetype": "text/x-python",
   "name": "python",
   "nbconvert_exporter": "python",
   "pygments_lexer": "ipython2",
   "version": "2.7.6"
  }
 },
 "nbformat": 4,
 "nbformat_minor": 0
}
