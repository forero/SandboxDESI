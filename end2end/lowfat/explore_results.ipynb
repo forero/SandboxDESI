{
 "cells": [
  {
   "cell_type": "code",
   "execution_count": 1,
   "metadata": {
    "collapsed": true
   },
   "outputs": [],
   "source": [
    "%matplotlib inline"
   ]
  },
  {
   "cell_type": "code",
   "execution_count": 2,
   "metadata": {
    "collapsed": false
   },
   "outputs": [
    {
     "name": "stderr",
     "output_type": "stream",
     "text": [
      "/usr/local/lib/python2.7/dist-packages/IPython/kernel/__init__.py:13: ShimWarning: The `IPython.kernel` package has been deprecated. You should import from ipykernel or jupyter_client instead.\n",
      "  \"You should import from ipykernel or jupyter_client instead.\", ShimWarning)\n"
     ]
    }
   ],
   "source": [
    "import numpy as np\n",
    "import matplotlib.pyplot as plt\n",
    "from astropy.table import join\n",
    "from desitarget.targets import desi_mask\n",
    "from collections import Counter\n",
    "from astropy.table import Table"
   ]
  },
  {
   "cell_type": "code",
   "execution_count": 4,
   "metadata": {
    "collapsed": false
   },
   "outputs": [
    {
     "name": "stdout",
     "output_type": "stream",
     "text": [
      "['TARGETID', 'BRICKNAME', 'RA', 'DEC', 'TRUEZ', 'TRUETYPE', 'CATEGORY']\n",
      "['STAR', 'QSO', 'GALAXY', 'UNKNOWN']\n"
     ]
    }
   ],
   "source": [
    "truth_file = \"/home/forero/Data/desitest/mtl/truth.fits\"\n",
    "sky_file = \"/home/forero/Data/desitest/mtl/sky.fits\"\n",
    "star_file =  \"/home/forero/Data/desitest/mtl/stdstars.fits\"\n",
    "\n",
    "truth = Table.read(truth_file)\n",
    "sky = Table.read(sky_file)\n",
    "star = Table.read(star_file)\n",
    "true_types = list(set(truth['TRUETYPE']))\n",
    "print truth.colnames\n",
    "print true_types"
   ]
  },
  {
   "cell_type": "code",
   "execution_count": 5,
   "metadata": {
    "collapsed": false
   },
   "outputs": [],
   "source": [
    "def print_stats_total(truth, base_path=\"./\", n_epoch=6):\n",
    "    print(\"TOTAL EFFICIENCIES\")\n",
    "    print(\"==================\")\n",
    "    epoch = 0\n",
    "    mtl_file = base_path+\"{}/mtl.fits\".format(epoch)\n",
    "    mtl = Table.read(mtl_file)    \n",
    "    tmp_init = join(mtl, truth, keys='TARGETID')\n",
    "    \n",
    "    for epoch in range(n_epoch):\n",
    "        print('Epoch {}'.format(epoch))\n",
    "        zcat_file = base_path+\"{}/zcat.fits\".format(epoch)\n",
    "        zcat = Table.read(zcat_file) \n",
    "        \n",
    "        total = join(zcat, tmp_init, keys='TARGETID')\n",
    "\n",
    "        # print total.colnames\n",
    "        true_types = ['LRG', 'ELG', 'QSO']\n",
    "        zcat_types = ['GALAXY', 'GALAXY', 'QSO']\n",
    "    \n",
    "        for true_type, zcat_type in zip(true_types, zcat_types):\n",
    "            i_initial = ((tmp_init['DESI_TARGET'] & desi_mask.mask(true_type)) != 0) & (tmp_init['TRUETYPE'] == zcat_type)\n",
    "            i_final = ((total['DESI_TARGET'] & desi_mask.mask(true_type)) != 0) & (total['TYPE'] == zcat_type) \n",
    "            \n",
    "            n_t = 1.0*len(total['TARGETID'][i_final])\n",
    "            n_i = 1.0*len(tmp_init['TARGETID'][i_initial])\n",
    "            print(\"\\t {} fraction : {}\".format(true_type, n_t/n_i))\n",
    "        print(\"\\t TRUE:ZCAT\\n\\t {}\\n\".format(Counter(zip(total['DESI_TARGET'], total['TYPE']))))\n",
    "        #print(\"\\t TRUE:NUMOBS\\n\\t {}\\n\".format(Counter(zip(total['DESI_TARGET'], total['NUMOBS_MORE']))))"
   ]
  },
  {
   "cell_type": "code",
   "execution_count": 6,
   "metadata": {
    "collapsed": false
   },
   "outputs": [],
   "source": [
    "def print_stats_mtl(base_path=\"./\", n_epoch=6):\n",
    "    print(\"MTL EFFICIENCIES\")\n",
    "    print(\"================\")\n",
    "    for j in range(n_epoch):\n",
    "        print('PASS {}'.format(j))\n",
    "        mtl_file = base_path+\"{}/mtl.fits\".format(j)\n",
    "        mtl = Table.read(mtl_file)\n",
    "        \n",
    "        ii = (mtl['DESI_TARGET'] & desi_mask.QSO) != 0\n",
    "        n = len(mtl['NUMOBS_MORE'][ii])\n",
    "        if j == 0: n_qso = n\n",
    "        print('\\t QSO f_unobs:{} - {}'.format(1.0*n/n_qso, Counter(mtl['NUMOBS_MORE'][ii])))\n",
    "    \n",
    "        ii = (mtl['DESI_TARGET'] & desi_mask.ELG) != 0\n",
    "        n = len(mtl['NUMOBS_MORE'][ii])\n",
    "        if j == 0: n_elg = n\n",
    "        print('\\t ELG f_unobs:{} - {}'.format(1.0*n/n_elg, Counter(mtl['NUMOBS_MORE'][ii])))\n",
    "    \n",
    "        ii = (mtl['DESI_TARGET'] & desi_mask.LRG) != 0\n",
    "        n = len(mtl['NUMOBS_MORE'][ii])\n",
    "        if j == 0: n_lrg = n\n",
    "        print('\\t LRG f_unobs:{} - {}'.format(1.0*n/n_lrg, Counter(mtl['NUMOBS_MORE'][ii])))\n",
    "    \n",
    "        ii = (mtl['DESI_TARGET'] & desi_mask.SKY) != 0\n",
    "        print('SKY {}'.format(Counter(mtl['NUMOBS_MORE'][ii])))\n",
    "\n",
    "        \n",
    "def print_stats_zcat(truth, base_path=\"./\", n_epoch = 6):\n",
    "    print(\"REDSHIFT EFFICIENCIES\")\n",
    "    print(\"=======================\")\n",
    "\n",
    "    for epoch in range(n_epoch):\n",
    "        zcat_file = base_path+\"{}/zcat.fits\".format(epoch)\n",
    "        zcat = Table.read(zcat_file)\n",
    "        print('Epoch {}'.format(epoch))\n",
    "        for true_type in true_types:\n",
    "            ii = (zcat['TYPE'] == true_type)\n",
    "            jj = (truth['TRUETYPE'] == true_type)\n",
    "            n_obs  = 1.0 * len(zcat['Z'][ii])\n",
    "            n_total = 1.0 * len(truth['TRUEZ'][jj])\n",
    "            print(\"\\t {} : {}\".format(true_type, n_obs/n_total))"
   ]
  },
  {
   "cell_type": "code",
   "execution_count": 7,
   "metadata": {
    "collapsed": false
   },
   "outputs": [
    {
     "name": "stdout",
     "output_type": "stream",
     "text": [
      "REDSHIFT EFFICIENCIES\n",
      "=======================\n",
      "Epoch 0\n",
      "\t STAR : 0.714227337738\n",
      "\t QSO : 0.713367749111\n",
      "\t GALAXY : 0.137832061184\n",
      "\t UNKNOWN : 0.475852710788\n",
      "Epoch 1\n",
      "\t STAR : 0.919861971895\n",
      "\t QSO : 0.919747563895\n",
      "\t GALAXY : 0.286744009812\n",
      "\t UNKNOWN : 0.793211209112\n",
      "Epoch 2\n",
      "\t STAR : 0.966548616314\n",
      "\t QSO : 0.966184684576\n",
      "\t GALAXY : 0.442030248112\n",
      "\t UNKNOWN : 0.924176072699\n",
      "Epoch 3\n",
      "\t STAR : 0.980203863879\n",
      "\t QSO : 0.979900621418\n",
      "\t GALAXY : 0.608575526734\n",
      "\t UNKNOWN : 0.961800201484\n",
      "Epoch 4\n",
      "\t STAR : 0.980203863879\n",
      "\t QSO : 0.979900621418\n",
      "\t GALAXY : 0.776621683168\n",
      "\t UNKNOWN : 0.961800201484\n",
      "Epoch 5\n",
      "\t STAR : 0.984608050126\n",
      "\t QSO : 0.984657978093\n",
      "\t GALAXY : 0.70007804867\n",
      "\t UNKNOWN : 0.879664466786\n",
      "TOTAL EFFICIENCIES\n",
      "==================\n",
      "Epoch 0\n",
      "\t LRG fraction : 0.465994797769\n",
      "\t ELG fraction : 0.0972737727391\n",
      "\t QSO fraction : 0.713367749111\n",
      "\t TRUE:ZCAT\n",
      "\t Counter({(2, 'GALAXY'): 229056, (1, 'GALAXY'): 135618, (4, 'QSO'): 118011, (4, 'STAR'): 62922, (1, 'UNKNOWN'): 23145})\n",
      "\n",
      "Epoch 1\n",
      "\t LRG fraction : 0.784251741235\n",
      "\t ELG fraction : 0.22525603502\n",
      "\t QSO fraction : 0.919747563895\n",
      "\t TRUE:ZCAT\n",
      "\t Counter({(2, 'GALAXY'): 530423, (1, 'GALAXY'): 228240, (4, 'QSO'): 152152, (4, 'STAR'): 81038, (1, 'UNKNOWN'): 38581})\n",
      "\n",
      "Epoch 2\n",
      "\t LRG fraction : 0.916750564377\n",
      "\t ELG fraction : 0.3833586155\n",
      "\t QSO fraction : 0.966184684576\n",
      "\t TRUE:ZCAT\n",
      "\t Counter({(2, 'GALAXY'): 902716, (1, 'GALAXY'): 266801, (4, 'QSO'): 159834, (4, 'STAR'): 85151, (1, 'UNKNOWN'): 44951})\n",
      "\n",
      "Epoch 3\n",
      "\t LRG fraction : 0.96032354164\n",
      "\t ELG fraction : 0.565102286606\n",
      "\t QSO fraction : 0.979900621418\n",
      "\t TRUE:ZCAT\n",
      "\t Counter({(2, 'GALAXY'): 1330678, (1, 'GALAXY'): 279482, (4, 'QSO'): 162103, (4, 'STAR'): 86354, (1, 'UNKNOWN'): 46781})\n",
      "\n",
      "Epoch 4\n",
      "\t LRG fraction : 0.96032354164\n",
      "\t ELG fraction : 0.753917603353\n",
      "\t QSO fraction : 0.979900621418\n",
      "\t TRUE:ZCAT\n",
      "\t Counter({(2, 'GALAXY'): 1775292, (1, 'GALAXY'): 279482, (4, 'QSO'): 162103, (4, 'STAR'): 86354, (1, 'UNKNOWN'): 46781})\n",
      "\n",
      "Epoch 5\n",
      "\t LRG fraction : 0.873734232671\n",
      "\t ELG fraction : 0.678615533839\n",
      "\t QSO fraction : 0.984657978093\n",
      "\t TRUE:ZCAT\n",
      "\t Counter({(2, 'GALAXY'): 1597974, (1, 'GALAXY'): 254282, (4, 'QSO'): 162890, (4, 'STAR'): 86742, (1, 'UNKNOWN'): 42786})\n",
      "\n"
     ]
    }
   ],
   "source": [
    "base_path = \"/home/forero/Data/desitest/lowfat_perfect/\"\n",
    "print_stats_zcat(truth ,base_path=base_path)\n",
    "print_stats_total(truth, base_path=base_path)"
   ]
  },
  {
   "cell_type": "code",
   "execution_count": 21,
   "metadata": {
    "collapsed": false
   },
   "outputs": [
    {
     "name": "stdout",
     "output_type": "stream",
     "text": [
      "REDSHIFT EFFICIENCIES\n",
      "=======================\n",
      "Epoch 0\n",
      "\t STAR : 0.713954913846\n",
      "\t QSO : 0.71356118674\n",
      "\t GALAXY : 0.137818076677\n",
      "\t UNKNOWN : 0.474619132795\n",
      "Epoch 1\n",
      "\t STAR : 0.921348952303\n",
      "\t QSO : 0.922189713954\n",
      "\t GALAXY : 0.279383245426\n",
      "\t UNKNOWN : 0.776886860338\n",
      "Epoch 2\n",
      "\t STAR : 0.969102590297\n",
      "\t QSO : 0.969086249003\n",
      "\t GALAXY : 0.42637478102\n",
      "\t UNKNOWN : 0.905939678036\n",
      "Epoch 3\n",
      "\t STAR : 0.982678380894\n",
      "\t QSO : 0.982264187441\n",
      "\t GALAXY : 0.583481651003\n",
      "\t UNKNOWN : 0.952383889471\n",
      "Epoch 4\n",
      "\t STAR : 0.982678380894\n",
      "\t QSO : 0.982264187441\n",
      "\t GALAXY : 0.75785674195\n",
      "\t UNKNOWN : 0.952383889471\n",
      "Epoch 5\n",
      "\t STAR : 0.985107493927\n",
      "\t QSO : 0.984524989724\n",
      "\t GALAXY : 0.700036473107\n",
      "\t UNKNOWN : 0.879643907153\n",
      "TOTAL EFFICIENCIES\n",
      "==================\n",
      "Epoch 0\n",
      "\t LRG fraction : 0.466080699862\n",
      "\t ELG fraction : 0.0972474430472\n",
      "\t QSO fraction : 0.71356118674\n",
      "\t TRUE:ZCAT\n",
      "\t Counter({(2, 'GALAXY'): 228994, (1, 'GALAXY'): 135643, (4, 'QSO'): 118043, (4, 'STAR'): 62898, (1, 'UNKNOWN'): 23085})\n",
      "\n",
      "Epoch 1\n",
      "\t LRG fraction : 0.76659714324\n",
      "\t ELG fraction : 0.219167506103\n",
      "\t QSO fraction : 0.922189713954\n",
      "\t TRUE:ZCAT\n",
      "\t Counter({(2, 'GALAXY'): 516086, (1, 'GALAXY'): 223102, (4, 'QSO'): 152556, (4, 'STAR'): 81169, (1, 'UNKNOWN'): 37787})\n",
      "\n",
      "Epoch 2\n",
      "\t LRG fraction : 0.899264334482\n",
      "\t ELG fraction : 0.367929416041\n",
      "\t QSO fraction : 0.969086249003\n",
      "\t TRUE:ZCAT\n",
      "\t Counter({(2, 'GALAXY'): 866384, (1, 'GALAXY'): 261712, (4, 'QSO'): 160314, (4, 'STAR'): 85376, (1, 'UNKNOWN'): 44064})\n",
      "\n",
      "Epoch 3\n",
      "\t LRG fraction : 0.950053087493\n",
      "\t ELG fraction : 0.538176354578\n",
      "\t QSO fraction : 0.982264187441\n",
      "\t TRUE:ZCAT\n",
      "\t Counter({(2, 'GALAXY'): 1267274, (1, 'GALAXY'): 276493, (4, 'QSO'): 162494, (4, 'STAR'): 86572, (1, 'UNKNOWN'): 46323})\n",
      "\n",
      "Epoch 4\n",
      "\t LRG fraction : 0.950053087493\n",
      "\t ELG fraction : 0.734102811501\n",
      "\t QSO fraction : 0.982264187441\n",
      "\t TRUE:ZCAT\n",
      "\t Counter({(2, 'GALAXY'): 1728633, (1, 'GALAXY'): 276493, (4, 'QSO'): 162494, (4, 'STAR'): 86572, (1, 'UNKNOWN'): 46323})\n",
      "\n",
      "Epoch 5\n",
      "\t LRG fraction : 0.874060660621\n",
      "\t ELG fraction : 0.678528475986\n",
      "\t QSO fraction : 0.984524989724\n",
      "\t TRUE:ZCAT\n",
      "\t Counter({(2, 'GALAXY'): 1597769, (1, 'GALAXY'): 254377, (4, 'QSO'): 162868, (4, 'STAR'): 86786, (1, 'UNKNOWN'): 42785})\n",
      "\n"
     ]
    }
   ],
   "source": [
    "base_path = \"/home/forero/Data/desitest/lowfat/\"\n",
    "print_stats_zcat(truth ,base_path=base_path)\n",
    "print_stats_total(truth, base_path=base_path)"
   ]
  },
  {
   "cell_type": "code",
   "execution_count": 14,
   "metadata": {
    "collapsed": false
   },
   "outputs": [],
   "source": [
    "def compare_fibermaps(base_path_A=\"./\", base_path_B=\"./\", tile_id=0, epoch=0):\n",
    "    fiber_file_A = \"%s/%d/fiberassign/tile_%05d.fits\"%(base_path_A, epoch, tile_id)\n",
    "    fiber_file_B = \"%s/%d/fiberassign/tile_%05d.fits\"%(base_path_B, epoch, tile_id)\n",
    "\n",
    "    fiberdata_A = Table.read(fiber_file_A, hdu=1)\n",
    "    fiberdata_B = Table.read(fiber_file_B, hdu=1)\n",
    "\n",
    "    ii_A = (fiberdata_A['TARGETID'] > 0)\n",
    "    ii_B = (fiberdata_B['TARGETID'] > 0)\n",
    "    intersection = list(set(fiberdata_A['TARGETID'][ii_A]) & set(fiberdata_B['TARGETID'][ii_B]))\n",
    "    \n",
    "    n_A = len(fiberdata_A['TARGETID'][ii_A])\n",
    "    n_B = len(fiberdata_B['TARGETID'][ii_B])\n",
    "    return 1.0*n_A/n_B, 1.0*len(intersection)/n_A"
   ]
  },
  {
   "cell_type": "code",
   "execution_count": 19,
   "metadata": {
    "collapsed": false
   },
   "outputs": [],
   "source": [
    "epoch  = 5\n",
    "base_path_A = \"/home/forero/Data/desitest/lowfat_perfect/\"\n",
    "base_path_B = \"/home/forero/Data/desitest/lowfat/\"\n",
    "\n",
    "tile_files = glob.glob('{}/{}/fiberassign/tile*.fits'.format(base_path_A, epoch))\n",
    "tile_id_list = []\n",
    "for tile in tile_files:\n",
    "    tilename = tile.split('/')[-1]\n",
    "    tile_id_list.append(int(tilename.split('.')[0].split('_')[-1]))\n",
    "tile_id_list.sort()\n",
    "#print tile_id_list\n",
    "\n",
    "\n",
    "ratio_used = []\n",
    "ratio_intersection = []\n",
    "for tile_id in tile_id_list:\n",
    "    used, intersec = compare_fibermaps(base_path_A=base_path_A, base_path_B=base_path_B, tile_id=tile_id, epoch=epoch)\n",
    "    ratio_used.append(used)\n",
    "    ratio_intersection.append(intersec)"
   ]
  },
  {
   "cell_type": "code",
   "execution_count": 20,
   "metadata": {
    "collapsed": false
   },
   "outputs": [
    {
     "data": {
      "text/plain": [
       "[<matplotlib.lines.Line2D at 0x7f8760ab6b10>]"
      ]
     },
     "execution_count": 20,
     "metadata": {},
     "output_type": "execute_result"
    },
    {
     "data": {
      "image/png": "[encoded data removed]",
      "text/plain": [
       "<matplotlib.figure.Figure at 0x7f8760ab6510>"
      ]
     },
     "metadata": {},
     "output_type": "display_data"
    }
   ],
   "source": [
    "plt.plot(ratio_used, lw=5)\n",
    "plt.plot(ratio_intersection, lw=5)"
   ]
  },
  {
   "cell_type": "code",
   "execution_count": null,
   "metadata": {
    "collapsed": true
   },
   "outputs": [],
   "source": []
  }
 ],
 "metadata": {
  "kernelspec": {
   "display_name": "Python 2",
   "language": "python",
   "name": "python2"
  },
  "language_info": {
   "codemirror_mode": {
    "name": "ipython",
    "version": 2
   },
   "file_extension": ".py",
   "mimetype": "text/x-python",
   "name": "python",
   "nbconvert_exporter": "python",
   "pygments_lexer": "ipython2",
   "version": "2.7.6"
  }
 },
 "nbformat": 4,
 "nbformat_minor": 0
}
