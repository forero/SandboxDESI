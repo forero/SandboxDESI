{
 "cells": [
  {
   "cell_type": "code",
   "execution_count": 2,
   "id": "3e09b5f9-b3d4-4503-83e4-64692ba0f5ee",
   "metadata": {},
   "outputs": [],
   "source": [
    "import numpy as np\n",
    "import matplotlib.pyplot as plt\n",
    "import pandas as pd\n",
    "import glob\n",
    "#import fitsio\n",
    "import scipy.stats #import kstest"
   ]
  },
  {
   "cell_type": "code",
   "execution_count": 89,
   "id": "1455c1fc-f266-43d7-ab4c-79f99b25c1bd",
   "metadata": {},
   "outputs": [],
   "source": [
    "def plot_entropy_raw(filename):\n",
    "    plt.figure()\n",
    "\n",
    "    data = pd.read_csv(filename)\n",
    "\n",
    "    petals = list(np.arange(10))\n",
    "    filters = ['B', 'R', 'Z']\n",
    "    amps = ['A', 'B', 'C', 'D']\n",
    "\n",
    "    entropy = np.ones([10,12])\n",
    "    plt.imshow(entropy)\n",
    "    for i in range(10):\n",
    "        for j in range(12):\n",
    "            i_par = i%2\n",
    "            j_par = j%2\n",
    "            spectro = i - i_par + j//6\n",
    "            filt = filters[(j%6)//2]\n",
    "            amp = amps[j%2 + 2*i_par]\n",
    "            #print(i, j, spectro)\n",
    "            spec = filt+str(spectro)\n",
    "            ii = (data['SPECTRO']==spec) & (data['AMP']==amp)\n",
    "            entropy[i,j] = float(data[ii]['H'])\n",
    "            text = list(data[ii]['SPECTRO'])+list(data[ii]['AMP'])\n",
    "            text = text[0] + text[1]\n",
    "            #print(text)\n",
    "            plt.text(j-0.5, i, text, color='white')\n",
    "\n",
    "            \n",
    "    title = 'EXPID {} NIGHT {} PROGRAM {}'.format(data['EXPID'][0], \n",
    "                                              data['NIGHT'][1],\n",
    "                                              data['PROGRAM'][2])\n",
    "    plot_name = 'plot_entropy_raw_{}_{}.png'.format(data['EXPID'][0], data['OBSTYPE'][0])\n",
    "    plt.imshow(entropy, vmin=0, vmax=1)\n",
    "    plt.colorbar(label='Configuration Entropy')\n",
    "    plt.title(title)\n",
    "    plt.savefig(plot_name)\n",
    "    plt.clf()\n",
    "    plt.close()"
   ]
  },
  {
   "cell_type": "code",
   "execution_count": 91,
   "id": "bdbb10be-2d8b-429e-815b-33a70a37dd3e",
   "metadata": {},
   "outputs": [],
   "source": [
    "filenames = glob.glob('entropy_raw_*.csv')\n",
    "filenames.sort()\n",
    "for filename in filenames:\n",
    "    #print(filename)\n",
    "    plot_entropy_raw(filename)"
   ]
  },
  {
   "cell_type": "code",
   "execution_count": 19,
   "id": "c89ce8b1-36db-421b-8de4-799c1cba64dc",
   "metadata": {},
   "outputs": [
    {
     "data": {
      "text/html": [
       "<div>\n",
       "<style scoped>\n",
       "    .dataframe tbody tr th:only-of-type {\n",
       "        vertical-align: middle;\n",
       "    }\n",
       "\n",
       "    .dataframe tbody tr th {\n",
       "        vertical-align: top;\n",
       "    }\n",
       "\n",
       "    .dataframe thead th {\n",
       "        text-align: right;\n",
       "    }\n",
       "</style>\n",
       "<table border=\"1\" class=\"dataframe\">\n",
       "  <thead>\n",
       "    <tr style=\"text-align: right;\">\n",
       "      <th></th>\n",
       "      <th>Unnamed: 0</th>\n",
       "      <th>SPECTRO</th>\n",
       "      <th>AMP</th>\n",
       "      <th>EXPID</th>\n",
       "      <th>NIGHT</th>\n",
       "      <th>PROGRAM</th>\n",
       "      <th>OBSTYPE</th>\n",
       "      <th>H</th>\n",
       "    </tr>\n",
       "  </thead>\n",
       "  <tbody>\n",
       "    <tr>\n",
       "      <th>0</th>\n",
       "      <td>0</td>\n",
       "      <td>Z3</td>\n",
       "      <td>A</td>\n",
       "      <td>132801</td>\n",
       "      <td>20220502</td>\n",
       "      <td>CALIB ZEROs for nightly bias</td>\n",
       "      <td>ZERO</td>\n",
       "      <td>0.264170</td>\n",
       "    </tr>\n",
       "    <tr>\n",
       "      <th>1</th>\n",
       "      <td>1</td>\n",
       "      <td>Z3</td>\n",
       "      <td>B</td>\n",
       "      <td>132801</td>\n",
       "      <td>20220502</td>\n",
       "      <td>CALIB ZEROs for nightly bias</td>\n",
       "      <td>ZERO</td>\n",
       "      <td>0.403722</td>\n",
       "    </tr>\n",
       "    <tr>\n",
       "      <th>2</th>\n",
       "      <td>2</td>\n",
       "      <td>Z3</td>\n",
       "      <td>C</td>\n",
       "      <td>132801</td>\n",
       "      <td>20220502</td>\n",
       "      <td>CALIB ZEROs for nightly bias</td>\n",
       "      <td>ZERO</td>\n",
       "      <td>0.210221</td>\n",
       "    </tr>\n",
       "    <tr>\n",
       "      <th>3</th>\n",
       "      <td>3</td>\n",
       "      <td>Z3</td>\n",
       "      <td>D</td>\n",
       "      <td>132801</td>\n",
       "      <td>20220502</td>\n",
       "      <td>CALIB ZEROs for nightly bias</td>\n",
       "      <td>ZERO</td>\n",
       "      <td>0.151153</td>\n",
       "    </tr>\n",
       "    <tr>\n",
       "      <th>4</th>\n",
       "      <td>4</td>\n",
       "      <td>R3</td>\n",
       "      <td>A</td>\n",
       "      <td>132801</td>\n",
       "      <td>20220502</td>\n",
       "      <td>CALIB ZEROs for nightly bias</td>\n",
       "      <td>ZERO</td>\n",
       "      <td>0.283131</td>\n",
       "    </tr>\n",
       "    <tr>\n",
       "      <th>...</th>\n",
       "      <td>...</td>\n",
       "      <td>...</td>\n",
       "      <td>...</td>\n",
       "      <td>...</td>\n",
       "      <td>...</td>\n",
       "      <td>...</td>\n",
       "      <td>...</td>\n",
       "      <td>...</td>\n",
       "    </tr>\n",
       "    <tr>\n",
       "      <th>115</th>\n",
       "      <td>115</td>\n",
       "      <td>R9</td>\n",
       "      <td>D</td>\n",
       "      <td>132801</td>\n",
       "      <td>20220502</td>\n",
       "      <td>CALIB ZEROs for nightly bias</td>\n",
       "      <td>ZERO</td>\n",
       "      <td>0.000000</td>\n",
       "    </tr>\n",
       "    <tr>\n",
       "      <th>116</th>\n",
       "      <td>116</td>\n",
       "      <td>B9</td>\n",
       "      <td>A</td>\n",
       "      <td>132801</td>\n",
       "      <td>20220502</td>\n",
       "      <td>CALIB ZEROs for nightly bias</td>\n",
       "      <td>ZERO</td>\n",
       "      <td>0.333130</td>\n",
       "    </tr>\n",
       "    <tr>\n",
       "      <th>117</th>\n",
       "      <td>117</td>\n",
       "      <td>B9</td>\n",
       "      <td>B</td>\n",
       "      <td>132801</td>\n",
       "      <td>20220502</td>\n",
       "      <td>CALIB ZEROs for nightly bias</td>\n",
       "      <td>ZERO</td>\n",
       "      <td>0.135581</td>\n",
       "    </tr>\n",
       "    <tr>\n",
       "      <th>118</th>\n",
       "      <td>118</td>\n",
       "      <td>B9</td>\n",
       "      <td>C</td>\n",
       "      <td>132801</td>\n",
       "      <td>20220502</td>\n",
       "      <td>CALIB ZEROs for nightly bias</td>\n",
       "      <td>ZERO</td>\n",
       "      <td>0.102693</td>\n",
       "    </tr>\n",
       "    <tr>\n",
       "      <th>119</th>\n",
       "      <td>119</td>\n",
       "      <td>B9</td>\n",
       "      <td>D</td>\n",
       "      <td>132801</td>\n",
       "      <td>20220502</td>\n",
       "      <td>CALIB ZEROs for nightly bias</td>\n",
       "      <td>ZERO</td>\n",
       "      <td>0.391910</td>\n",
       "    </tr>\n",
       "  </tbody>\n",
       "</table>\n",
       "<p>120 rows × 8 columns</p>\n",
       "</div>"
      ],
      "text/plain": [
       "     Unnamed: 0 SPECTRO AMP   EXPID     NIGHT                       PROGRAM  \\\n",
       "0             0      Z3   A  132801  20220502  CALIB ZEROs for nightly bias   \n",
       "1             1      Z3   B  132801  20220502  CALIB ZEROs for nightly bias   \n",
       "2             2      Z3   C  132801  20220502  CALIB ZEROs for nightly bias   \n",
       "3             3      Z3   D  132801  20220502  CALIB ZEROs for nightly bias   \n",
       "4             4      R3   A  132801  20220502  CALIB ZEROs for nightly bias   \n",
       "..          ...     ...  ..     ...       ...                           ...   \n",
       "115         115      R9   D  132801  20220502  CALIB ZEROs for nightly bias   \n",
       "116         116      B9   A  132801  20220502  CALIB ZEROs for nightly bias   \n",
       "117         117      B9   B  132801  20220502  CALIB ZEROs for nightly bias   \n",
       "118         118      B9   C  132801  20220502  CALIB ZEROs for nightly bias   \n",
       "119         119      B9   D  132801  20220502  CALIB ZEROs for nightly bias   \n",
       "\n",
       "    OBSTYPE         H  \n",
       "0      ZERO  0.264170  \n",
       "1      ZERO  0.403722  \n",
       "2      ZERO  0.210221  \n",
       "3      ZERO  0.151153  \n",
       "4      ZERO  0.283131  \n",
       "..      ...       ...  \n",
       "115    ZERO  0.000000  \n",
       "116    ZERO  0.333130  \n",
       "117    ZERO  0.135581  \n",
       "118    ZERO  0.102693  \n",
       "119    ZERO  0.391910  \n",
       "\n",
       "[120 rows x 8 columns]"
      ]
     },
     "execution_count": 19,
     "metadata": {},
     "output_type": "execute_result"
    }
   ],
   "source": [
    "data"
   ]
  },
  {
   "cell_type": "code",
   "execution_count": 3,
   "id": "a5ae99b9-5798-4d2e-8fa8-991719bd02e0",
   "metadata": {},
   "outputs": [],
   "source": [
    "tile_entropy = []\n",
    "petal_entropy = []\n",
    "tile_id = []\n",
    "petal_id = []\n",
    "lastnight = []\n",
    "filenames = glob.glob(\"../daily/summary_rr_entropy_daily_*.csv\")\n",
    "for filename in filenames:\n",
    "    #filename = \"summary_rr_entropy_daily_{}.csv\".format(20220400+i)\n",
    "    try:\n",
    "        data = pd.read_csv(filename)\n",
    "        petal_entropy += list(data['H'])\n",
    "        tile_entropy += list(data['H_TILE'])\n",
    "        tile_id += list(data['TILEID'])\n",
    "        petal_id += list(data['PETALID'])\n",
    "        lastnight += list(data['LASTNIGHT'])\n",
    "    except:\n",
    "        pass\n",
    "tile_entropy = np.array(tile_entropy)\n",
    "petal_entropy = np.array(petal_entropy)\n",
    "tile_id = np.array(tile_id)\n",
    "petal_id = np.array(petal_id)\n",
    "lastnight = np.array(lastnight)"
   ]
  },
  {
   "cell_type": "code",
   "execution_count": 3,
   "id": "e1727d18-0ef5-4de5-9f2a-4a05258043aa",
   "metadata": {},
   "outputs": [],
   "source": [
    "#data = pd.read_csv(\"summary_rr_entropy_daily.csv\")\n",
    "#tile_entropy = data[\"H_TILE\"]\n",
    "#tile_id = data[\"TILEID\"]"
   ]
  },
  {
   "cell_type": "code",
   "execution_count": 4,
   "id": "692750e3-eafa-4ce6-bf5d-232ad0179392",
   "metadata": {},
   "outputs": [
    {
     "name": "stdout",
     "output_type": "stream",
     "text": [
      "5027\n"
     ]
    },
    {
     "data": {
      "image/png": "[encoded data removed]",
      "text/plain": [
       "<Figure size 432x288 with 1 Axes>"
      ]
     },
     "metadata": {
      "needs_background": "light"
     },
     "output_type": "display_data"
    }
   ],
   "source": [
    "plt.plot(petal_entropy)\n",
    "print(len(np.unique(petal_entropy)))"
   ]
  },
  {
   "cell_type": "code",
   "execution_count": 5,
   "id": "c77d380f-7c9b-4e10-ae01-2f5168805ae5",
   "metadata": {},
   "outputs": [
    {
     "data": {
      "text/plain": [
       "[<matplotlib.lines.Line2D at 0x149651c8a040>]"
      ]
     },
     "execution_count": 5,
     "metadata": {},
     "output_type": "execute_result"
    },
    {
     "data": {
      "image/png": "[encoded data removed]",
      "text/plain": [
       "<Figure size 432x288 with 1 Axes>"
      ]
     },
     "metadata": {
      "needs_background": "light"
     },
     "output_type": "display_data"
    }
   ],
   "source": [
    "plt.plot(tile_entropy)"
   ]
  },
  {
   "cell_type": "code",
   "execution_count": 6,
   "id": "b8137e85-41ab-474f-9c25-719f7c142448",
   "metadata": {},
   "outputs": [
    {
     "data": {
      "text/plain": [
       "<matplotlib.collections.PathCollection at 0x149651c70520>"
      ]
     },
     "execution_count": 6,
     "metadata": {},
     "output_type": "execute_result"
    },
    {
     "data": {
      "image/png": "[encoded data removed]",
      "text/plain": [
       "<Figure size 432x288 with 1 Axes>"
      ]
     },
     "metadata": {
      "needs_background": "light"
     },
     "output_type": "display_data"
    }
   ],
   "source": [
    "plt.scatter(tile_entropy, petal_entropy)"
   ]
  },
  {
   "cell_type": "code",
   "execution_count": 7,
   "id": "b193f119-c14b-4836-9ad5-5da2179edcc9",
   "metadata": {},
   "outputs": [
    {
     "name": "stdout",
     "output_type": "stream",
     "text": [
      "03371 2 20220917 0.977 0.998\n",
      "03371 7 20220917 0.975 0.998\n",
      "11089 4 20220924 0.979 0.998\n",
      "04214 3 20221002 0.978 0.997\n",
      "42587 0 20221013 0.950 0.998\n",
      "42587 1 20221013 0.691 0.998\n",
      "42587 3 20221013 0.977 0.998\n",
      "42587 6 20221013 0.926 0.998\n",
      "42587 7 20221013 0.976 0.998\n",
      "11185 8 20220918 0.967 0.998\n",
      "22422 0 20220913 0.978 0.998\n"
     ]
    }
   ],
   "source": [
    "ll = (petal_entropy<0.980) & (tile_entropy<0.9986) #0.980 es un buen corte sobre entropy de petalos \n",
    "a = tile_id[ll]\n",
    "b = petal_id[ll]\n",
    "c = lastnight[ll]\n",
    "d = petal_entropy[ll]\n",
    "e = tile_entropy[ll]\n",
    "\n",
    "for i in range(len(a)):\n",
    "    print('{:05d} {} {} {:.3f} {:.3f}'.format(a[i], b[i], c[i], d[i], e[i]))"
   ]
  },
  {
   "cell_type": "code",
   "execution_count": 8,
   "id": "6ae0c158-4fed-4280-b7b2-b8d8b3e1ae27",
   "metadata": {},
   "outputs": [],
   "source": [
    "ii = np.argsort(tile_entropy)\n",
    "sorted_tiles = tile_id[ii]"
   ]
  },
  {
   "cell_type": "code",
   "execution_count": 9,
   "id": "363f19b5-54e8-42cd-aa90-037239325cee",
   "metadata": {},
   "outputs": [
    {
     "name": "stdout",
     "output_type": "stream",
     "text": [
      "4214 0.9970934257329624\n",
      "4214 0.9970934257329624\n",
      "4214 0.9970934257329624\n",
      "4214 0.9970934257329624\n",
      "4214 0.9970934257329624\n",
      "4214 0.9970934257329624\n",
      "4214 0.9970934257329624\n",
      "4214 0.9970934257329624\n",
      "4214 0.9970934257329624\n",
      "4214 0.9970934257329624\n",
      "8134 0.997524073166644\n",
      "8134 0.997524073166644\n",
      "8134 0.997524073166644\n",
      "8134 0.997524073166644\n",
      "8134 0.997524073166644\n",
      "8134 0.997524073166644\n",
      "8134 0.997524073166644\n",
      "8134 0.997524073166644\n",
      "8134 0.997524073166644\n",
      "8134 0.997524073166644\n",
      "40065 0.997682414209654\n",
      "40065 0.997682414209654\n",
      "40065 0.997682414209654\n",
      "40065 0.997682414209654\n",
      "40065 0.997682414209654\n",
      "40065 0.997682414209654\n",
      "40065 0.997682414209654\n",
      "40065 0.997682414209654\n",
      "40065 0.997682414209654\n",
      "40065 0.997682414209654\n",
      "22422 0.9978383599842392\n",
      "22422 0.9978383599842392\n",
      "22422 0.9978383599842392\n",
      "22422 0.9978383599842392\n",
      "22422 0.9978383599842392\n",
      "22422 0.9978383599842392\n",
      "22422 0.9978383599842392\n",
      "22422 0.9978383599842392\n",
      "22422 0.9978383599842392\n",
      "22422 0.9978383599842392\n",
      "9237 0.9981140115733615\n",
      "9237 0.9981140115733615\n",
      "9237 0.9981140115733615\n",
      "9237 0.9981140115733615\n",
      "9237 0.9981140115733615\n",
      "9237 0.9981140115733615\n",
      "9237 0.9981140115733615\n",
      "9237 0.9981140115733615\n",
      "9237 0.9981140115733615\n",
      "9237 0.9981140115733615\n",
      "10532 0.9981327117005462\n",
      "10532 0.9981327117005462\n",
      "10532 0.9981327117005462\n",
      "10532 0.9981327117005462\n",
      "10532 0.9981327117005462\n",
      "10532 0.9981327117005462\n",
      "10532 0.9981327117005462\n",
      "10532 0.9981327117005462\n",
      "10532 0.9981327117005462\n",
      "10532 0.9981327117005462\n",
      "6759 0.9982648809522564\n",
      "6759 0.9982648809522564\n",
      "6759 0.9982648809522564\n",
      "6759 0.9982648809522564\n",
      "6759 0.9982648809522564\n",
      "6759 0.9982648809522564\n",
      "6759 0.9982648809522564\n",
      "6759 0.9982648809522564\n",
      "6759 0.9982648809522564\n",
      "6759 0.9982648809522564\n",
      "3595 0.9982652752324068\n",
      "3595 0.9982652752324068\n",
      "3595 0.9982652752324068\n",
      "3595 0.9982652752324068\n",
      "3595 0.9982652752324068\n",
      "3595 0.9982652752324068\n",
      "3595 0.9982652752324068\n",
      "3595 0.9982652752324068\n",
      "3595 0.9982652752324068\n",
      "3595 0.9982652752324068\n",
      "11185 0.9982746707895902\n",
      "11185 0.9982746707895902\n",
      "11185 0.9982746707895902\n",
      "11185 0.9982746707895902\n",
      "11185 0.9982746707895902\n",
      "11185 0.9982746707895902\n",
      "11185 0.9982746707895902\n",
      "11185 0.9982746707895902\n",
      "11185 0.9982746707895902\n",
      "11185 0.9982746707895902\n",
      "42261 0.9982785564689912\n",
      "42261 0.9982785564689912\n",
      "42261 0.9982785564689912\n",
      "42261 0.9982785564689912\n",
      "42261 0.9982785564689912\n",
      "42261 0.9982785564689912\n",
      "42261 0.9982785564689912\n",
      "42261 0.9982785564689912\n",
      "42261 0.9982785564689912\n",
      "42261 0.9982785564689912\n"
     ]
    }
   ],
   "source": [
    "for i in range(100):\n",
    "    print(sorted_tiles[i], tile_entropy[ii[i]])"
   ]
  },
  {
   "cell_type": "code",
   "execution_count": 10,
   "id": "5e9ae040-19c4-47a7-8ab1-505face0d47b",
   "metadata": {},
   "outputs": [
    {
     "name": "stdout",
     "output_type": "stream",
     "text": [
      "/global/cfs/cdirs/desi/spectro/redux/daily//tiles/cumulative/7246/*/redrock-*-7246-thru*.fits\n",
      "/global/cfs/cdirs/desi/spectro/redux/daily//tiles/cumulative/7246/20220329/redrock-0-7246-thru20220329.fits\n",
      "/global/cfs/cdirs/desi/spectro/redux/daily//tiles/cumulative/7246/*/redrock-*-7246-thru*.fits\n",
      "/global/cfs/cdirs/desi/spectro/redux/daily//tiles/cumulative/7246/20220329/redrock-1-7246-thru20220329.fits\n",
      "/global/cfs/cdirs/desi/spectro/redux/daily//tiles/cumulative/7246/*/redrock-*-7246-thru*.fits\n",
      "/global/cfs/cdirs/desi/spectro/redux/daily//tiles/cumulative/7246/20220329/redrock-2-7246-thru20220329.fits\n",
      "/global/cfs/cdirs/desi/spectro/redux/daily//tiles/cumulative/7246/*/redrock-*-7246-thru*.fits\n",
      "/global/cfs/cdirs/desi/spectro/redux/daily//tiles/cumulative/7246/20220329/redrock-3-7246-thru20220329.fits\n",
      "/global/cfs/cdirs/desi/spectro/redux/daily//tiles/cumulative/7246/*/redrock-*-7246-thru*.fits\n",
      "/global/cfs/cdirs/desi/spectro/redux/daily//tiles/cumulative/7246/20220329/redrock-4-7246-thru20220329.fits\n",
      "/global/cfs/cdirs/desi/spectro/redux/daily//tiles/cumulative/7246/*/redrock-*-7246-thru*.fits\n",
      "/global/cfs/cdirs/desi/spectro/redux/daily//tiles/cumulative/7246/20220329/redrock-5-7246-thru20220329.fits\n",
      "/global/cfs/cdirs/desi/spectro/redux/daily//tiles/cumulative/7246/*/redrock-*-7246-thru*.fits\n",
      "/global/cfs/cdirs/desi/spectro/redux/daily//tiles/cumulative/7246/20220329/redrock-6-7246-thru20220329.fits\n",
      "/global/cfs/cdirs/desi/spectro/redux/daily//tiles/cumulative/7246/*/redrock-*-7246-thru*.fits\n",
      "/global/cfs/cdirs/desi/spectro/redux/daily//tiles/cumulative/7246/20220329/redrock-7-7246-thru20220329.fits\n",
      "/global/cfs/cdirs/desi/spectro/redux/daily//tiles/cumulative/7246/*/redrock-*-7246-thru*.fits\n",
      "/global/cfs/cdirs/desi/spectro/redux/daily//tiles/cumulative/7246/20220329/redrock-8-7246-thru20220329.fits\n",
      "/global/cfs/cdirs/desi/spectro/redux/daily//tiles/cumulative/7246/*/redrock-*-7246-thru*.fits\n",
      "/global/cfs/cdirs/desi/spectro/redux/daily//tiles/cumulative/7246/20220329/redrock-9-7246-thru20220329.fits\n"
     ]
    }
   ],
   "source": [
    "tile_id = 4229\n",
    "tile_id = 7256\n",
    "#tile_id = 4408\n",
    "#tile_id = 6206\n",
    "tile_id = 7246\n",
    "release = \"daily\"\n",
    "release_path = \"/global/cfs/cdirs/desi/spectro/redux/{}/\".format(release)\n",
    "search_path = \"{}/tiles/cumulative/{}/*/redrock-*-{}-thru*.fits\".format(release_path, tile_id, tile_id)\n",
    "z_in_petal = {}\n",
    "for petal_id in range(10):\n",
    "    search_path = \"{}/tiles/cumulative/{}/*/redrock-*-{}-thru*.fits\".format(release_path, tile_id, tile_id)\n",
    "    print(search_path)\n",
    "    try:\n",
    "        file_in = glob.glob(search_path)[0]\n",
    "        this_petal_id = file_in.split('/')[-1].split('-')[-3]\n",
    "        tile_file = file_in.replace(\"redrock-{}\".format(this_petal_id), \"redrock-{}\".format(petal_id))\n",
    "        print(tile_file)\n",
    "        try:\n",
    "            z_tile_per_exp = fitsio.read(tile_file, ext=\"REDSHIFTS\")\n",
    "            fmap_tile_per_exp = fitsio.read(tile_file, ext=\"FIBERMAP\")\n",
    "            exp_fmap_tile_per_exp = fitsio.read(tile_file, ext=\"EXP_FIBERMAP\")\n",
    "        except:\n",
    "            pass\n",
    "        try:\n",
    "            ii = (z_tile_per_exp['ZWARN']==0) #& (exp_fmap_tile_per_exp['FIBERSTATUS']==0)\n",
    "            n_good_z = np.count_nonzero(ii)\n",
    "            #all_good_z += list(z_tile_per_exp['Z'][ii])\n",
    "            z_in_petal[petal_id] = z_tile_per_exp['Z'][ii]\n",
    "        except:\n",
    "            pass\n",
    "    except:\n",
    "        pass"
   ]
  },
  {
   "cell_type": "code",
   "execution_count": 11,
   "id": "728e94f2-2e40-4d46-835a-b962e60d86ee",
   "metadata": {},
   "outputs": [
    {
     "data": {
      "text/plain": [
       "<matplotlib.legend.Legend at 0x1555185b84f0>"
      ]
     },
     "execution_count": 11,
     "metadata": {},
     "output_type": "execute_result"
    },
    {
     "data": {
      "image/png": "[encoded data removed]",
      "text/plain": [
       "<Figure size 432x288 with 1 Axes>"
      ]
     },
     "metadata": {
      "needs_background": "light"
     },
     "output_type": "display_data"
    }
   ],
   "source": [
    "for i in z_in_petal.keys():\n",
    "    z = z_in_petal[i]\n",
    "    z = np.sort(z)\n",
    "    n = len(z)\n",
    "    cdf = np.linspace(0,1,n)\n",
    "    plt.plot(z,cdf, label='{}'.format(i))\n",
    "plt.legend()"
   ]
  },
  {
   "cell_type": "code",
   "execution_count": 12,
   "id": "7f8609ec-6876-4766-b6f5-1c805979fd6c",
   "metadata": {},
   "outputs": [],
   "source": [
    "p_value_results = np.ones((10,10))\n",
    "for i in range(10):\n",
    "    for j in range(10):\n",
    "        p_value_results[i,j] = scipy.stats.kstest(z_in_petal[i],z_in_petal[j])[1]"
   ]
  },
  {
   "cell_type": "code",
   "execution_count": 13,
   "id": "de52ea68-0f5f-4569-b9f2-ddfe34e2b4a2",
   "metadata": {},
   "outputs": [
    {
     "data": {
      "text/plain": [
       "<matplotlib.image.AxesImage at 0x15551849d3a0>"
      ]
     },
     "execution_count": 13,
     "metadata": {},
     "output_type": "execute_result"
    },
    {
     "data": {
      "image/png": "[encoded data removed]",
      "text/plain": [
       "<Figure size 432x288 with 1 Axes>"
      ]
     },
     "metadata": {
      "needs_background": "light"
     },
     "output_type": "display_data"
    }
   ],
   "source": [
    "plt.imshow(np.log10(p_value_results))"
   ]
  },
  {
   "cell_type": "code",
   "execution_count": 14,
   "id": "d6a1d7ee-6876-498f-bc76-c9896b310dc0",
   "metadata": {},
   "outputs": [
    {
     "name": "stdout",
     "output_type": "stream",
     "text": [
      "[6.94230559e-04 9.24110332e-05 8.10206001e-04 1.19558004e-05\n",
      " 6.94230559e-04 8.10206001e-04 1.38542462e-04 1.38542462e-04\n",
      " 1.44903938e-05 9.24110332e-05 1.19558004e-05 1.44903938e-05] 1.1955800373830705e-05\n"
     ]
    }
   ],
   "source": [
    "print(p_value_results[p_value_results<0.001], np.min(p_value_results))"
   ]
  },
  {
   "cell_type": "code",
   "execution_count": 15,
   "id": "249e0662-965d-48b6-9bc5-b9bdff75d0e6",
   "metadata": {},
   "outputs": [
    {
     "data": {
      "text/plain": [
       "array([2.73669786e-03, 7.50652546e-01, 3.66221868e-02, 4.89051931e-01,\n",
       "       1.70972516e-03, 1.38542462e-04, 2.13220881e-02, 1.00000000e+00,\n",
       "       2.63411238e-02, 1.44903938e-05])"
      ]
     },
     "execution_count": 15,
     "metadata": {},
     "output_type": "execute_result"
    }
   ],
   "source": [
    "p_value_results[7,:]"
   ]
  },
  {
   "cell_type": "code",
   "execution_count": 17,
   "id": "10a87731-3c0a-4cd0-b713-9348925b9af6",
   "metadata": {},
   "outputs": [
    {
     "name": "stdout",
     "output_type": "stream",
     "text": [
      "['entropy_sky_sframe_20220420_00131090.csv', 'entropy_sky_sframe_20220420_00131089.csv', 'entropy_sky_sframe_20220420_00131088.csv', 'entropy_sky_sframe_20220420_00131092.csv', 'entropy_sky_sframe_20220420_00131085.csv', 'entropy_sky_sframe_20220420_00131086.csv', 'entropy_sky_sframe_20220420_00131091.csv']\n"
     ]
    }
   ],
   "source": [
    "sky_entropy_files = glob.glob(\"entropy_sky_sframe_20220420_*.csv\")\n",
    "print(sky_entropy_files)"
   ]
  },
  {
   "cell_type": "code",
   "execution_count": 18,
   "id": "8cc7401e-264e-4cb3-873e-2fcc174872da",
   "metadata": {},
   "outputs": [],
   "source": [
    "tile_entropy = []\n",
    "exp_id = []\n",
    "petal_id = []\n",
    "lastnight = []\n",
    "tile_id = []\n",
    "band = []\n",
    "for filename in sky_entropy_files:\n",
    "    try:\n",
    "        data = pd.read_csv(filename)\n",
    "        tile_entropy += list(data['H'])\n",
    "        exp_id += list(data['EXPID'])\n",
    "        petal_id += list(data['PETAL'])\n",
    "        lastnight += list(data['NIGHT'])\n",
    "        tile_id += list(data['TILEID'])\n",
    "        band += list(data['BAND'])\n",
    "    except:\n",
    "        pass\n",
    "tile_entropy = np.array(tile_entropy)\n",
    "exp_id = np.array(exp_id)\n",
    "petal_id = np.array(petal_id)\n",
    "lastnight = np.array(lastnight)\n",
    "tile_id = np.array(tile_id)\n",
    "band = np.array(band)"
   ]
  },
  {
   "cell_type": "code",
   "execution_count": 19,
   "id": "c5e1059b-c862-4102-a617-cb7e78382bfe",
   "metadata": {},
   "outputs": [
    {
     "name": "stdout",
     "output_type": "stream",
     "text": [
      "131085\n"
     ]
    },
    {
     "data": {
      "image/png": "[encoded data removed]",
      "text/plain": [
       "<Figure size 432x288 with 1 Axes>"
      ]
     },
     "metadata": {
      "needs_background": "light"
     },
     "output_type": "display_data"
    }
   ],
   "source": [
    "plt.scatter(exp_id-exp_id.min(), tile_entropy)\n",
    "print(exp_id.min())"
   ]
  },
  {
   "cell_type": "code",
   "execution_count": 15,
   "id": "21730152-5a9e-4671-a530-15f0dc11db29",
   "metadata": {},
   "outputs": [
    {
     "name": "stdout",
     "output_type": "stream",
     "text": [
      "130976\n"
     ]
    },
    {
     "data": {
      "image/png": "[encoded data removed]",
      "text/plain": [
       "<Figure size 432x288 with 1 Axes>"
      ]
     },
     "metadata": {
      "needs_background": "light"
     },
     "output_type": "display_data"
    }
   ],
   "source": [
    "pec_exp_id = exp_id.min()+19\n",
    "ii = exp_id==pec_exp_id\n",
    "plt.plot(petal_id[ii], tile_entropy[ii])\n",
    "plt.scatter(petal_id[ii], tile_entropy[ii])\n",
    "print(pec_exp_id)"
   ]
  },
  {
   "cell_type": "code",
   "execution_count": 16,
   "id": "90fe2f2a-c8a3-4e93-a7ce-c6b5242b2940",
   "metadata": {},
   "outputs": [
    {
     "name": "stdout",
     "output_type": "stream",
     "text": [
      "960 960 960\n",
      "EXPID  TILEID\n"
     ]
    }
   ],
   "source": [
    "ii = tile_entropy < 0.950\n",
    "print(len(ii), len(tile_id), len(exp_id))\n",
    "tmp_tile = tile_id[ii]\n",
    "tmp_exp = exp_id[ii]\n",
    "\n",
    "bad_tile = []\n",
    "bad_exp = []\n",
    "for i in range(len(tmp_tile)):\n",
    "    if (tmp_tile[i] not in bad_tile) and (tmp_exp[i] not in bad_exp):\n",
    "        bad_tile.append(tmp_tile[i])\n",
    "        bad_exp.append(tmp_exp[i])\n",
    "        \n",
    "bad_exp = np.array(bad_exp)\n",
    "bad_tile = np.array(bad_tile)\n",
    "\n",
    "ii = np.argsort(bad_exp)\n",
    "bad_exp = bad_exp[ii]\n",
    "bad_tile = bad_tile[ii]\n",
    "\n",
    "print('EXPID  TILEID')\n",
    "for e,t in zip(bad_exp, bad_tile):\n",
    "    ii = exp_id == e\n",
    "    h = np.mean(tile_entropy[ii])\n",
    "    if h < 0.95:\n",
    "        print(e,t)"
   ]
  },
  {
   "cell_type": "code",
   "execution_count": 155,
   "id": "0f2b39f0-d9dd-4c26-9270-2b40f290b935",
   "metadata": {},
   "outputs": [
    {
     "data": {
      "text/plain": [
       "array([], dtype=float64)"
      ]
     },
     "execution_count": 155,
     "metadata": {},
     "output_type": "execute_result"
    }
   ],
   "source": [
    "bad_exp"
   ]
  },
  {
   "cell_type": "code",
   "execution_count": null,
   "id": "1fe062d5-16d1-4ddd-861c-00a097e10efe",
   "metadata": {},
   "outputs": [],
   "source": []
  }
 ],
 "metadata": {
  "kernelspec": {
   "display_name": "NERSC Python",
   "language": "python",
   "name": "python3"
  },
  "language_info": {
   "codemirror_mode": {
    "name": "ipython",
    "version": 3
   },
   "file_extension": ".py",
   "mimetype": "text/x-python",
   "name": "python",
   "nbconvert_exporter": "python",
   "pygments_lexer": "ipython3",
   "version": "3.9.7"
  }
 },
 "nbformat": 4,
 "nbformat_minor": 5
}
