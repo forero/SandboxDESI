{
 "cells": [
  {
   "cell_type": "code",
   "execution_count": 1,
   "id": "3e09b5f9-b3d4-4503-83e4-64692ba0f5ee",
   "metadata": {},
   "outputs": [],
   "source": [
    "import numpy as np\n",
    "import matplotlib.pyplot as plt\n",
    "import pandas as pd\n",
    "import glob\n",
    "import fitsio\n",
    "import scipy.stats #import kstest"
   ]
  },
  {
   "cell_type": "code",
   "execution_count": 79,
   "id": "a5ae99b9-5798-4d2e-8fa8-991719bd02e0",
   "metadata": {},
   "outputs": [],
   "source": [
    "tile_entropy = []\n",
    "tile_id = []\n",
    "petal_id = []\n",
    "lastnight = []\n",
    "for i in range(1,31):\n",
    "    filename = \"summary_rr_entropy_daily_{}.csv\".format(20220300+i)\n",
    "    try:\n",
    "        data = pd.read_csv(filename)\n",
    "        tile_entropy += list(data['H'])\n",
    "        tile_id += list(data['TILEID'])\n",
    "        petal_id += list(data['PETALID'])\n",
    "        lastnight += list(data['LASTNIGHT'])\n",
    "    except:\n",
    "        pass\n",
    "tile_entropy = np.array(tile_entropy)\n",
    "tile_id = np.array(tile_id)\n",
    "petal_id = np.array(petal_id)\n",
    "lastnight = np.array(lastnight)"
   ]
  },
  {
   "cell_type": "code",
   "execution_count": 80,
   "id": "e1727d18-0ef5-4de5-9f2a-4a05258043aa",
   "metadata": {},
   "outputs": [],
   "source": [
    "#data = pd.read_csv(\"summary_rr_entropy_daily.csv\")\n",
    "#tile_entropy = data[\"H_TILE\"]\n",
    "#tile_id = data[\"TILEID\"]"
   ]
  },
  {
   "cell_type": "code",
   "execution_count": 81,
   "id": "692750e3-eafa-4ce6-bf5d-232ad0179392",
   "metadata": {},
   "outputs": [
    {
     "name": "stdout",
     "output_type": "stream",
     "text": [
      "6190\n"
     ]
    },
    {
     "data": {
      "image/png": "[encoded data removed]",
      "text/plain": [
       "<Figure size 432x288 with 1 Axes>"
      ]
     },
     "metadata": {
      "needs_background": "light"
     },
     "output_type": "display_data"
    }
   ],
   "source": [
    "plt.plot(tile_entropy)\n",
    "print(len(np.unique(tile_entropy)))"
   ]
  },
  {
   "cell_type": "code",
   "execution_count": 82,
   "id": "b193f119-c14b-4836-9ad5-5da2179edcc9",
   "metadata": {},
   "outputs": [
    {
     "name": "stdout",
     "output_type": "stream",
     "text": [
      "02838 6 20220301\n",
      "03935 7 20220301\n",
      "08944 3 20220301\n",
      "04229 7 20220306\n",
      "24978 6 20220307\n",
      "02703 3 20220308\n",
      "02569 9 20220308\n",
      "04412 9 20220309\n",
      "41587 4 20220310\n",
      "41587 5 20220310\n",
      "41587 6 20220310\n",
      "41587 7 20220310\n",
      "24635 6 20220311\n",
      "21298 7 20220311\n",
      "10822 7 20220312\n",
      "23190 5 20220315\n",
      "42915 4 20220315\n",
      "40237 1 20220315\n",
      "41658 0 20220316\n",
      "42628 7 20220316\n",
      "41647 5 20220316\n",
      "41610 3 20220316\n",
      "40224 7 20220316\n",
      "42519 3 20220317\n",
      "40505 5 20220318\n",
      "43018 4 20220318\n",
      "40961 6 20220319\n",
      "42492 8 20220319\n",
      "41606 6 20220319\n",
      "40963 4 20220319\n",
      "42505 4 20220319\n",
      "24963 0 20220321\n",
      "06834 1 20220323\n",
      "10862 5 20220323\n",
      "82636 7 20220324\n",
      "05981 1 20220324\n",
      "04126 4 20220325\n",
      "07244 2 20220326\n",
      "09977 1 20220326\n",
      "09977 8 20220326\n",
      "06918 1 20220326\n",
      "09938 0 20220326\n",
      "11557 5 20220326\n",
      "02946 0 20220327\n",
      "02946 6 20220327\n",
      "07246 4 20220329\n",
      "02839 0 20220330\n",
      "02575 3 20220330\n",
      "02575 7 20220330\n"
     ]
    }
   ],
   "source": [
    "ll = tile_entropy<0.980\n",
    "a = tile_id[ll]\n",
    "b = petal_id[ll]\n",
    "c = lastnight[ll]\n",
    "\n",
    "for i in range(len(a)):\n",
    "    print('{:05d} {} {}'.format(a[i], b[i], c[i]))"
   ]
  },
  {
   "cell_type": "code",
   "execution_count": 26,
   "id": "6ae0c158-4fed-4280-b7b2-b8d8b3e1ae27",
   "metadata": {},
   "outputs": [],
   "source": [
    "ii = np.argsort(tile_entropy)\n",
    "sorted_tiles = tile_id[ii]"
   ]
  },
  {
   "cell_type": "code",
   "execution_count": 27,
   "id": "363f19b5-54e8-42cd-aa90-037239325cee",
   "metadata": {},
   "outputs": [
    {
     "name": "stdout",
     "output_type": "stream",
     "text": [
      "41587 0.9402651593259924\n",
      "41587 0.9638486346205988\n",
      "2838 0.96694364797774\n",
      "41587 0.969067446825235\n",
      "9977 0.9699180575870452\n",
      "82636 0.971678008444738\n",
      "24978 0.9736950095438464\n",
      "23190 0.9738479942273236\n",
      "9938 0.97423908232657\n",
      "8944 0.9745218943544002\n",
      "40224 0.9746572322870286\n",
      "43018 0.9746609003191016\n",
      "40505 0.9747421050093212\n",
      "7246 0.9747960965841332\n",
      "2946 0.9748549483559072\n",
      "40961 0.9748686504292028\n",
      "4412 0.9753197424505674\n",
      "2946 0.9754076494124848\n",
      "24635 0.9760704476696652\n",
      "2575 0.9762114978994656\n",
      "4229 0.9765623605890812\n",
      "2569 0.9766907038735574\n",
      "42492 0.9767547487463242\n",
      "3935 0.9770400239543844\n",
      "41587 0.9774603718323148\n",
      "6918 0.977503479457002\n",
      "5981 0.9775303285693906\n",
      "10822 0.9776230657670814\n",
      "41658 0.9777292887351264\n",
      "42628 0.9777707257936892\n",
      "24963 0.9778835947177108\n",
      "9977 0.9780777930099984\n",
      "40963 0.9780852708978834\n",
      "2575 0.9781610876112962\n",
      "10862 0.9783106291840808\n",
      "6834 0.978745495313076\n",
      "40237 0.9788614290601884\n",
      "2839 0.9789313368213676\n",
      "41610 0.9789972229292604\n",
      "41606 0.9790160771527336\n",
      "21298 0.979128354287374\n",
      "41647 0.9791743550328134\n",
      "4126 0.9792207755733936\n",
      "7244 0.9793307025934268\n",
      "2703 0.979495280064607\n",
      "42915 0.979498210385072\n",
      "11557 0.9795778435215482\n",
      "42505 0.9798075068853128\n",
      "42519 0.9798286504040328\n",
      "7355 0.9800722334685364\n",
      "2559 0.9801806089745724\n",
      "2365 0.9801904121880508\n",
      "11774 0.980191579700707\n",
      "5246 0.9802016340958796\n",
      "10367 0.9802550731845364\n",
      "42485 0.9802777193558788\n",
      "41624 0.9803290683209264\n",
      "2665 0.9803997983122396\n",
      "42516 0.9804146466796833\n",
      "42640 0.9804461257017056\n",
      "41760 0.9804720492837236\n",
      "4508 0.9804725124827434\n",
      "42397 0.980481941374291\n",
      "4730 0.9805292331688932\n",
      "1592 0.9805840188130268\n",
      "4230 0.980605300887984\n",
      "21555 0.9806326760415645\n",
      "10478 0.9806818175713818\n",
      "42505 0.9807070565469312\n",
      "20593 0.9807239141856504\n",
      "9292 0.9807711578065046\n",
      "2703 0.9807830012364906\n",
      "7369 0.9808840043797812\n",
      "3043 0.9809341870934984\n",
      "5638 0.980944205283358\n",
      "7375 0.9809515515373898\n",
      "22700 0.981178463743056\n",
      "25821 0.9811850130647498\n",
      "21633 0.981242135516691\n",
      "10359 0.9813795481419162\n",
      "42485 0.9814262033636088\n",
      "41625 0.9814419604784804\n",
      "22182 0.9814469058275508\n",
      "22672 0.9814502408887686\n",
      "2839 0.9814598029032278\n",
      "26247 0.9815100971150628\n",
      "41489 0.9815317618914868\n",
      "40961 0.9815461674553312\n",
      "10811 0.9815477096879276\n",
      "10374 0.9815521626690618\n",
      "7758 0.9815598218522724\n",
      "10482 0.981581749591494\n",
      "21305 0.9816133832753344\n",
      "41624 0.9816895292480684\n",
      "42513 0.9816895568501144\n",
      "21575 0.9817241743193476\n",
      "22183 0.9817296811131806\n",
      "10489 0.9817650150665008\n",
      "3066 0.9817918749965904\n",
      "4754 0.9817963969197276\n"
     ]
    }
   ],
   "source": [
    "for i in range(100):\n",
    "    print(sorted_tiles[i], tile_entropy[ii[i]])"
   ]
  },
  {
   "cell_type": "code",
   "execution_count": 44,
   "id": "5e9ae040-19c4-47a7-8ab1-505face0d47b",
   "metadata": {},
   "outputs": [
    {
     "name": "stdout",
     "output_type": "stream",
     "text": [
      "/global/cfs/cdirs/desi/spectro/redux/daily//tiles/cumulative/7246/*/redrock-*-7246-thru*.fits\n",
      "/global/cfs/cdirs/desi/spectro/redux/daily//tiles/cumulative/7246/20220329/redrock-0-7246-thru20220329.fits\n",
      "/global/cfs/cdirs/desi/spectro/redux/daily//tiles/cumulative/7246/*/redrock-*-7246-thru*.fits\n",
      "/global/cfs/cdirs/desi/spectro/redux/daily//tiles/cumulative/7246/20220329/redrock-1-7246-thru20220329.fits\n",
      "/global/cfs/cdirs/desi/spectro/redux/daily//tiles/cumulative/7246/*/redrock-*-7246-thru*.fits\n",
      "/global/cfs/cdirs/desi/spectro/redux/daily//tiles/cumulative/7246/20220329/redrock-2-7246-thru20220329.fits\n",
      "/global/cfs/cdirs/desi/spectro/redux/daily//tiles/cumulative/7246/*/redrock-*-7246-thru*.fits\n",
      "/global/cfs/cdirs/desi/spectro/redux/daily//tiles/cumulative/7246/20220329/redrock-3-7246-thru20220329.fits\n",
      "/global/cfs/cdirs/desi/spectro/redux/daily//tiles/cumulative/7246/*/redrock-*-7246-thru*.fits\n",
      "/global/cfs/cdirs/desi/spectro/redux/daily//tiles/cumulative/7246/20220329/redrock-4-7246-thru20220329.fits\n",
      "/global/cfs/cdirs/desi/spectro/redux/daily//tiles/cumulative/7246/*/redrock-*-7246-thru*.fits\n",
      "/global/cfs/cdirs/desi/spectro/redux/daily//tiles/cumulative/7246/20220329/redrock-5-7246-thru20220329.fits\n",
      "/global/cfs/cdirs/desi/spectro/redux/daily//tiles/cumulative/7246/*/redrock-*-7246-thru*.fits\n",
      "/global/cfs/cdirs/desi/spectro/redux/daily//tiles/cumulative/7246/20220329/redrock-6-7246-thru20220329.fits\n",
      "/global/cfs/cdirs/desi/spectro/redux/daily//tiles/cumulative/7246/*/redrock-*-7246-thru*.fits\n",
      "/global/cfs/cdirs/desi/spectro/redux/daily//tiles/cumulative/7246/20220329/redrock-7-7246-thru20220329.fits\n",
      "/global/cfs/cdirs/desi/spectro/redux/daily//tiles/cumulative/7246/*/redrock-*-7246-thru*.fits\n",
      "/global/cfs/cdirs/desi/spectro/redux/daily//tiles/cumulative/7246/20220329/redrock-8-7246-thru20220329.fits\n",
      "/global/cfs/cdirs/desi/spectro/redux/daily//tiles/cumulative/7246/*/redrock-*-7246-thru*.fits\n",
      "/global/cfs/cdirs/desi/spectro/redux/daily//tiles/cumulative/7246/20220329/redrock-9-7246-thru20220329.fits\n"
     ]
    }
   ],
   "source": [
    "tile_id = 4229\n",
    "tile_id = 7256\n",
    "#tile_id = 4408\n",
    "#tile_id = 6206\n",
    "tile_id = 7246\n",
    "release = \"daily\"\n",
    "release_path = \"/global/cfs/cdirs/desi/spectro/redux/{}/\".format(release)\n",
    "search_path = \"{}/tiles/cumulative/{}/*/redrock-*-{}-thru*.fits\".format(release_path, tile_id, tile_id)\n",
    "z_in_petal = {}\n",
    "for petal_id in range(10):\n",
    "    search_path = \"{}/tiles/cumulative/{}/*/redrock-*-{}-thru*.fits\".format(release_path, tile_id, tile_id)\n",
    "    print(search_path)\n",
    "    try:\n",
    "        file_in = glob.glob(search_path)[0]\n",
    "        this_petal_id = file_in.split('/')[-1].split('-')[-3]\n",
    "        tile_file = file_in.replace(\"redrock-{}\".format(this_petal_id), \"redrock-{}\".format(petal_id))\n",
    "        print(tile_file)\n",
    "        try:\n",
    "            z_tile_per_exp = fitsio.read(tile_file, ext=\"REDSHIFTS\")\n",
    "            fmap_tile_per_exp = fitsio.read(tile_file, ext=\"FIBERMAP\")\n",
    "            exp_fmap_tile_per_exp = fitsio.read(tile_file, ext=\"EXP_FIBERMAP\")\n",
    "        except:\n",
    "            pass\n",
    "        try:\n",
    "            ii = (z_tile_per_exp['ZWARN']==0) #& (exp_fmap_tile_per_exp['FIBERSTATUS']==0)\n",
    "            n_good_z = np.count_nonzero(ii)\n",
    "            #all_good_z += list(z_tile_per_exp['Z'][ii])\n",
    "            z_in_petal[petal_id] = z_tile_per_exp['Z'][ii]\n",
    "        except:\n",
    "            pass\n",
    "    except:\n",
    "        pass"
   ]
  },
  {
   "cell_type": "code",
   "execution_count": 45,
   "id": "728e94f2-2e40-4d46-835a-b962e60d86ee",
   "metadata": {},
   "outputs": [
    {
     "data": {
      "text/plain": [
       "<matplotlib.legend.Legend at 0x1555182a0ac0>"
      ]
     },
     "execution_count": 45,
     "metadata": {},
     "output_type": "execute_result"
    },
    {
     "data": {
      "image/png": "[encoded data removed]",
      "text/plain": [
       "<Figure size 432x288 with 1 Axes>"
      ]
     },
     "metadata": {
      "needs_background": "light"
     },
     "output_type": "display_data"
    }
   ],
   "source": [
    "for i in z_in_petal.keys():\n",
    "    z = z_in_petal[i]\n",
    "    z = np.sort(z)\n",
    "    n = len(z)\n",
    "    cdf = np.linspace(0,1,n)\n",
    "    plt.plot(z,cdf, label='{}'.format(i))\n",
    "plt.legend()"
   ]
  },
  {
   "cell_type": "code",
   "execution_count": 46,
   "id": "7f8609ec-6876-4766-b6f5-1c805979fd6c",
   "metadata": {},
   "outputs": [],
   "source": [
    "p_value_results = np.ones((10,10))\n",
    "for i in range(10):\n",
    "    for j in range(10):\n",
    "        p_value_results[i,j] = scipy.stats.kstest(z_in_petal[i],z_in_petal[j])[1]"
   ]
  },
  {
   "cell_type": "code",
   "execution_count": 47,
   "id": "de52ea68-0f5f-4569-b9f2-ddfe34e2b4a2",
   "metadata": {},
   "outputs": [
    {
     "data": {
      "text/plain": [
       "<matplotlib.image.AxesImage at 0x1555181f6d90>"
      ]
     },
     "execution_count": 47,
     "metadata": {},
     "output_type": "execute_result"
    },
    {
     "data": {
      "image/png": "[encoded data removed]",
      "text/plain": [
       "<Figure size 432x288 with 1 Axes>"
      ]
     },
     "metadata": {
      "needs_background": "light"
     },
     "output_type": "display_data"
    }
   ],
   "source": [
    "plt.imshow(np.log10(p_value_results))"
   ]
  },
  {
   "cell_type": "code",
   "execution_count": 48,
   "id": "d6a1d7ee-6876-498f-bc76-c9896b310dc0",
   "metadata": {},
   "outputs": [
    {
     "name": "stdout",
     "output_type": "stream",
     "text": [
      "[6.94230559e-04 9.24110332e-05 8.10206001e-04 1.19558004e-05\n",
      " 6.94230559e-04 8.10206001e-04 1.38542462e-04 1.38542462e-04\n",
      " 1.44903938e-05 9.24110332e-05 1.19558004e-05 1.44903938e-05] 1.1955800373830705e-05\n"
     ]
    }
   ],
   "source": [
    "print(p_value_results[p_value_results<0.001], np.min(p_value_results))"
   ]
  },
  {
   "cell_type": "code",
   "execution_count": 33,
   "id": "249e0662-965d-48b6-9bc5-b9bdff75d0e6",
   "metadata": {},
   "outputs": [
    {
     "data": {
      "text/plain": [
       "array([1.70680006e-01, 1.31015340e-01, 2.86563136e-01, 1.03560880e-02,\n",
       "       2.16716361e-02, 1.46736964e-04, 5.39032232e-01, 1.00000000e+00,\n",
       "       3.45619854e-01, 5.69855142e-01])"
      ]
     },
     "execution_count": 33,
     "metadata": {},
     "output_type": "execute_result"
    }
   ],
   "source": [
    "p_value_results[7,:]"
   ]
  },
  {
   "cell_type": "code",
   "execution_count": 101,
   "id": "10a87731-3c0a-4cd0-b713-9348925b9af6",
   "metadata": {},
   "outputs": [
    {
     "name": "stdout",
     "output_type": "stream",
     "text": [
      "['entropy_sky_sframe_20220329_00127999.csv', 'entropy_sky_sframe_20220329_00128000.csv', 'entropy_sky_sframe_20220329_00128006.csv', 'entropy_sky_sframe_20220329_00128008.csv', 'entropy_sky_sframe_20220329_00127995.csv', 'entropy_sky_sframe_20220329_00128003.csv', 'entropy_sky_sframe_20220329_00128004.csv', 'entropy_sky_sframe_20220329_00127998.csv', 'entropy_sky_sframe_20220329_00127997.csv', 'entropy_sky_sframe_20220329_00127994.csv', 'entropy_sky_sframe_20220329_00128005.csv', 'entropy_sky_sframe_20220329_00128007.csv', 'entropy_sky_sframe_20220329_00127996.csv', 'entropy_sky_sframe_20220329_00128002.csv']\n"
     ]
    }
   ],
   "source": [
    "sky_entropy_files = glob.glob(\"entropy_sky_sframe_20220329_*.csv\")\n",
    "print(sky_entropy_files)"
   ]
  },
  {
   "cell_type": "code",
   "execution_count": 102,
   "id": "8cc7401e-264e-4cb3-873e-2fcc174872da",
   "metadata": {},
   "outputs": [],
   "source": [
    "tile_entropy = []\n",
    "exp_id = []\n",
    "petal_id = []\n",
    "lastnight = []\n",
    "band = []\n",
    "for filename in sky_entropy_files:\n",
    "    try:\n",
    "        data = pd.read_csv(filename)\n",
    "        tile_entropy += list(data['H'])\n",
    "        exp_id += list(data['EXPID'])\n",
    "        petal_id += list(data['PETAL'])\n",
    "        lastnight += list(data['NIGHT'])\n",
    "        band += list(data['BAND'])\n",
    "    except:\n",
    "        pass\n",
    "tile_entropy = np.array(tile_entropy)\n",
    "exp_id = np.array(exp_id)\n",
    "petal_id = np.array(petal_id)\n",
    "lastnight = np.array(lastnight)\n",
    "band = np.array(band)"
   ]
  },
  {
   "cell_type": "code",
   "execution_count": 103,
   "id": "c5e1059b-c862-4102-a617-cb7e78382bfe",
   "metadata": {},
   "outputs": [
    {
     "data": {
      "text/plain": [
       "<matplotlib.collections.PathCollection at 0x1555179fe4c0>"
      ]
     },
     "execution_count": 103,
     "metadata": {},
     "output_type": "execute_result"
    },
    {
     "data": {
      "image/png": "[encoded data removed]",
      "text/plain": [
       "<Figure size 432x288 with 1 Axes>"
      ]
     },
     "metadata": {
      "needs_background": "light"
     },
     "output_type": "display_data"
    }
   ],
   "source": [
    "plt.scatter(exp_id-127998, tile_entropy)"
   ]
  },
  {
   "cell_type": "code",
   "execution_count": 104,
   "id": "21730152-5a9e-4671-a530-15f0dc11db29",
   "metadata": {},
   "outputs": [
    {
     "data": {
      "text/plain": [
       "<matplotlib.collections.PathCollection at 0x15551796d640>"
      ]
     },
     "execution_count": 104,
     "metadata": {},
     "output_type": "execute_result"
    },
    {
     "data": {
      "image/png": "[encoded data removed]",
      "text/plain": [
       "<Figure size 432x288 with 1 Axes>"
      ]
     },
     "metadata": {
      "needs_background": "light"
     },
     "output_type": "display_data"
    }
   ],
   "source": [
    "ii = exp_id==127998\n",
    "plt.plot(petal_id[ii], tile_entropy[ii])\n",
    "plt.scatter(petal_id[ii], tile_entropy[ii])"
   ]
  },
  {
   "cell_type": "code",
   "execution_count": null,
   "id": "90fe2f2a-c8a3-4e93-a7ce-c6b5242b2940",
   "metadata": {},
   "outputs": [],
   "source": []
  }
 ],
 "metadata": {
  "kernelspec": {
   "display_name": "DESI master",
   "language": "python",
   "name": "desi-master"
  },
  "language_info": {
   "codemirror_mode": {
    "name": "ipython",
    "version": 3
   },
   "file_extension": ".py",
   "mimetype": "text/x-python",
   "name": "python",
   "nbconvert_exporter": "python",
   "pygments_lexer": "ipython3",
   "version": "3.9.7"
  }
 },
 "nbformat": 4,
 "nbformat_minor": 5
}
