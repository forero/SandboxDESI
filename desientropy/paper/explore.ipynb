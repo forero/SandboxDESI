{
 "cells": [
  {
   "cell_type": "code",
   "execution_count": 14,
   "id": "3e09b5f9-b3d4-4503-83e4-64692ba0f5ee",
   "metadata": {},
   "outputs": [],
   "source": [
    "import numpy as np\n",
    "import matplotlib.pyplot as plt\n",
    "import pandas as pd\n",
    "import glob\n",
    "import fitsio\n",
    "import scipy.stats #import kstest"
   ]
  },
  {
   "cell_type": "code",
   "execution_count": 2,
   "id": "a5ae99b9-5798-4d2e-8fa8-991719bd02e0",
   "metadata": {},
   "outputs": [],
   "source": [
    "tile_entropy = []\n",
    "tile_id = []\n",
    "petal_id = []\n",
    "for i in range(1,7):\n",
    "    filename = \"summary_rr_entropy_daily_{}.csv\".format(20220300+i)\n",
    "    try:\n",
    "        data = pd.read_csv(filename)\n",
    "        tile_entropy += list(data['H'])\n",
    "        tile_id += list(data['TILEID'])\n",
    "        petal_id += list(data['PETALID'])\n",
    "    except:\n",
    "        pass\n",
    "tile_entropy = np.array(tile_entropy)\n",
    "tile_id = np.array(tile_id)\n",
    "petal_id = np.array(petal_id)"
   ]
  },
  {
   "cell_type": "code",
   "execution_count": 3,
   "id": "e1727d18-0ef5-4de5-9f2a-4a05258043aa",
   "metadata": {},
   "outputs": [],
   "source": [
    "#data = pd.read_csv(\"summary_rr_entropy_daily.csv\")\n",
    "#tile_entropy = data[\"H_TILE\"]\n",
    "#tile_id = data[\"TILEID\"]"
   ]
  },
  {
   "cell_type": "code",
   "execution_count": 4,
   "id": "692750e3-eafa-4ce6-bf5d-232ad0179392",
   "metadata": {},
   "outputs": [
    {
     "name": "stdout",
     "output_type": "stream",
     "text": [
      "870\n"
     ]
    },
    {
     "data": {
      "image/png": "[encoded data removed]",
      "text/plain": [
       "<Figure size 432x288 with 1 Axes>"
      ]
     },
     "metadata": {
      "needs_background": "light"
     },
     "output_type": "display_data"
    }
   ],
   "source": [
    "plt.plot(tile_entropy)\n",
    "print(len(np.unique(tile_entropy)))"
   ]
  },
  {
   "cell_type": "code",
   "execution_count": 5,
   "id": "b193f119-c14b-4836-9ad5-5da2179edcc9",
   "metadata": {},
   "outputs": [
    {
     "name": "stdout",
     "output_type": "stream",
     "text": [
      "[3935 2838 8944 4229]\n",
      "[7 6 3 7]\n"
     ]
    }
   ],
   "source": [
    "print(tile_id[tile_entropy<0.980])\n",
    "print(petal_id[tile_entropy<0.980])"
   ]
  },
  {
   "cell_type": "code",
   "execution_count": 6,
   "id": "6ae0c158-4fed-4280-b7b2-b8d8b3e1ae27",
   "metadata": {},
   "outputs": [],
   "source": [
    "ii = np.argsort(tile_entropy)\n",
    "sorted_tiles = tile_id[ii]"
   ]
  },
  {
   "cell_type": "code",
   "execution_count": 9,
   "id": "363f19b5-54e8-42cd-aa90-037239325cee",
   "metadata": {},
   "outputs": [
    {
     "name": "stdout",
     "output_type": "stream",
     "text": [
      "2838 0.96694364797774\n",
      "8944 0.9745218943544002\n",
      "4229 0.9765623605890812\n",
      "3935 0.9770400239543844\n",
      "2365 0.9801904121880508\n",
      "11774 0.980191579700707\n",
      "1592 0.9805840188130268\n",
      "21555 0.9806326760415645\n",
      "7375 0.9809515515373898\n",
      "10811 0.9815477096879276\n",
      "21575 0.9817241743193476\n",
      "43020 0.9819034921159088\n",
      "26110 0.9819257691134928\n",
      "21575 0.9819828243933586\n",
      "42737 0.9820199617675962\n",
      "4105 0.9822596963488348\n",
      "43025 0.9824017369576428\n",
      "5780 0.9824595402001554\n",
      "4080 0.9824787942149156\n",
      "9931 0.9827528104973592\n",
      "5818 0.9827660984624113\n",
      "3935 0.9832008685366358\n",
      "10850 0.9832555628946776\n",
      "9927 0.98330708893461\n",
      "26214 0.9835273531564004\n",
      "43025 0.9835957290037716\n",
      "5818 0.9836953064504176\n",
      "7256 0.9838883966101218\n",
      "24613 0.9839690449409898\n",
      "41292 0.9839914382017784\n",
      "2558 0.9841157115251408\n",
      "6206 0.9841737389570436\n",
      "8924 0.9842233432107867\n",
      "5248 0.9842680373515524\n",
      "21373 0.9844017726239956\n",
      "21555 0.984615502126336\n",
      "7731 0.9846825020682334\n",
      "4229 0.9848727295452332\n",
      "7080 0.98488989812659\n",
      "11774 0.9849753295139853\n",
      "3935 0.9850160564695972\n",
      "8829 0.9850173469432626\n",
      "7080 0.9850397094088368\n",
      "25279 0.985071028255541\n",
      "11774 0.9851696724984642\n",
      "2558 0.9854408687642452\n",
      "7256 0.985512527470832\n",
      "24786 0.9855779482260424\n",
      "8383 0.9857045702758516\n",
      "25279 0.985707209311444\n",
      "6206 0.9857274366411\n",
      "11774 0.9857449051090856\n",
      "22019 0.9857471844142864\n",
      "8829 0.9857716637796784\n",
      "7256 0.9859195279055488\n",
      "41533 0.9859263064999828\n",
      "10495 0.9859390900946464\n",
      "26110 0.9859631959839952\n",
      "43025 0.9859654999287764\n",
      "8924 0.986007782080654\n",
      "5780 0.9860925778585916\n",
      "5793 0.9861272528227564\n",
      "20460 0.9861688392161392\n",
      "11774 0.9862146529483498\n",
      "4229 0.9862225192921992\n",
      "10820 0.9862918220542336\n",
      "7375 0.9862918990306472\n",
      "24795 0.9863359975452776\n",
      "11774 0.9863386532563564\n",
      "10811 0.9863574655313592\n",
      "8383 0.9863599921839132\n",
      "4237 0.9864503999112562\n",
      "2365 0.9864749702299286\n",
      "2838 0.9865795156136096\n",
      "4105 0.9865891433810876\n",
      "9929 0.9866142957272908\n",
      "4118 0.9866155635025864\n",
      "4408 0.9867476486865318\n",
      "5793 0.98676616512416\n",
      "43066 0.9867672023243212\n",
      "8383 0.9867923420179344\n",
      "4408 0.9868090486759288\n",
      "43020 0.9868388088770904\n",
      "10495 0.9868846753475286\n",
      "10495 0.987029722910712\n",
      "9931 0.9870569931149188\n",
      "25279 0.9870721701341638\n",
      "42733 0.9870727418278186\n",
      "2365 0.9871359525631842\n",
      "7731 0.9871431545199428\n",
      "4080 0.9871435646540246\n",
      "10375 0.9871450089712298\n",
      "8913 0.9871508203121314\n",
      "4105 0.9871832120116578\n",
      "10820 0.9871870217041502\n",
      "10375 0.9871881716355998\n",
      "10375 0.9872176306950734\n",
      "1592 0.9872499406313332\n",
      "23236 0.987264103387916\n",
      "4080 0.9872861197810284\n"
     ]
    }
   ],
   "source": [
    "for i in range(100):\n",
    "    print(sorted_tiles[i], tile_entropy[ii[i]])"
   ]
  },
  {
   "cell_type": "code",
   "execution_count": 10,
   "id": "5e9ae040-19c4-47a7-8ab1-505face0d47b",
   "metadata": {},
   "outputs": [
    {
     "name": "stdout",
     "output_type": "stream",
     "text": [
      "/global/cfs/cdirs/desi/spectro/redux/daily//tiles/cumulative/2848/*/redrock-*-2848-thru*.fits\n",
      "/global/cfs/cdirs/desi/spectro/redux/daily//tiles/cumulative/2848/20220306/redrock-0-2848-thru20220306.fits\n",
      "/global/cfs/cdirs/desi/spectro/redux/daily//tiles/cumulative/2848/*/redrock-*-2848-thru*.fits\n",
      "/global/cfs/cdirs/desi/spectro/redux/daily//tiles/cumulative/2848/20220306/redrock-1-2848-thru20220306.fits\n",
      "/global/cfs/cdirs/desi/spectro/redux/daily//tiles/cumulative/2848/*/redrock-*-2848-thru*.fits\n",
      "/global/cfs/cdirs/desi/spectro/redux/daily//tiles/cumulative/2848/20220306/redrock-2-2848-thru20220306.fits\n",
      "/global/cfs/cdirs/desi/spectro/redux/daily//tiles/cumulative/2848/*/redrock-*-2848-thru*.fits\n",
      "/global/cfs/cdirs/desi/spectro/redux/daily//tiles/cumulative/2848/20220306/redrock-3-2848-thru20220306.fits\n",
      "/global/cfs/cdirs/desi/spectro/redux/daily//tiles/cumulative/2848/*/redrock-*-2848-thru*.fits\n",
      "/global/cfs/cdirs/desi/spectro/redux/daily//tiles/cumulative/2848/20220306/redrock-4-2848-thru20220306.fits\n",
      "/global/cfs/cdirs/desi/spectro/redux/daily//tiles/cumulative/2848/*/redrock-*-2848-thru*.fits\n",
      "/global/cfs/cdirs/desi/spectro/redux/daily//tiles/cumulative/2848/20220306/redrock-5-2848-thru20220306.fits\n",
      "/global/cfs/cdirs/desi/spectro/redux/daily//tiles/cumulative/2848/*/redrock-*-2848-thru*.fits\n",
      "/global/cfs/cdirs/desi/spectro/redux/daily//tiles/cumulative/2848/20220306/redrock-6-2848-thru20220306.fits\n",
      "/global/cfs/cdirs/desi/spectro/redux/daily//tiles/cumulative/2848/*/redrock-*-2848-thru*.fits\n",
      "/global/cfs/cdirs/desi/spectro/redux/daily//tiles/cumulative/2848/20220306/redrock-7-2848-thru20220306.fits\n",
      "/global/cfs/cdirs/desi/spectro/redux/daily//tiles/cumulative/2848/*/redrock-*-2848-thru*.fits\n",
      "/global/cfs/cdirs/desi/spectro/redux/daily//tiles/cumulative/2848/20220306/redrock-8-2848-thru20220306.fits\n",
      "/global/cfs/cdirs/desi/spectro/redux/daily//tiles/cumulative/2848/*/redrock-*-2848-thru*.fits\n",
      "/global/cfs/cdirs/desi/spectro/redux/daily//tiles/cumulative/2848/20220306/redrock-9-2848-thru20220306.fits\n"
     ]
    }
   ],
   "source": [
    "tile_id = 4229\n",
    "tile_id = 7256\n",
    "#tile_id = 4408\n",
    "#tile_id = 6206\n",
    "tile_id = 2848\n",
    "release = \"daily\"\n",
    "release_path = \"/global/cfs/cdirs/desi/spectro/redux/{}/\".format(release)\n",
    "search_path = \"{}/tiles/cumulative/{}/*/redrock-*-{}-thru*.fits\".format(release_path, tile_id, tile_id)\n",
    "z_in_petal = {}\n",
    "for petal_id in range(10):\n",
    "    search_path = \"{}/tiles/cumulative/{}/*/redrock-*-{}-thru*.fits\".format(release_path, tile_id, tile_id)\n",
    "    print(search_path)\n",
    "    try:\n",
    "        file_in = glob.glob(search_path)[0]\n",
    "        this_petal_id = file_in.split('/')[-1].split('-')[-3]\n",
    "        tile_file = file_in.replace(\"redrock-{}\".format(this_petal_id), \"redrock-{}\".format(petal_id))\n",
    "        print(tile_file)\n",
    "        try:\n",
    "            z_tile_per_exp = fitsio.read(tile_file, ext=\"REDSHIFTS\")\n",
    "            fmap_tile_per_exp = fitsio.read(tile_file, ext=\"FIBERMAP\")\n",
    "            exp_fmap_tile_per_exp = fitsio.read(tile_file, ext=\"EXP_FIBERMAP\")\n",
    "        except:\n",
    "            pass\n",
    "        try:\n",
    "            ii = (z_tile_per_exp['ZWARN']==0) #& (exp_fmap_tile_per_exp['FIBERSTATUS']==0)\n",
    "            n_good_z = np.count_nonzero(ii)\n",
    "            #all_good_z += list(z_tile_per_exp['Z'][ii])\n",
    "            z_in_petal[petal_id] = z_tile_per_exp['Z'][ii]\n",
    "        except:\n",
    "            pass\n",
    "    except:\n",
    "        pass"
   ]
  },
  {
   "cell_type": "code",
   "execution_count": 15,
   "id": "728e94f2-2e40-4d46-835a-b962e60d86ee",
   "metadata": {},
   "outputs": [
    {
     "data": {
      "text/plain": [
       "<matplotlib.legend.Legend at 0x2aaae5246640>"
      ]
     },
     "execution_count": 15,
     "metadata": {},
     "output_type": "execute_result"
    },
    {
     "data": {
      "image/png": "[encoded data removed]",
      "text/plain": [
       "<Figure size 432x288 with 1 Axes>"
      ]
     },
     "metadata": {
      "needs_background": "light"
     },
     "output_type": "display_data"
    }
   ],
   "source": [
    "for i in z_in_petal.keys():\n",
    "    z = z_in_petal[i]\n",
    "    z = np.sort(z)\n",
    "    n = len(z)\n",
    "    cdf = np.linspace(0,1,n)\n",
    "    plt.plot(z,cdf, label='{}'.format(i))\n",
    "plt.legend()"
   ]
  },
  {
   "cell_type": "code",
   "execution_count": 16,
   "id": "7f8609ec-6876-4766-b6f5-1c805979fd6c",
   "metadata": {},
   "outputs": [],
   "source": [
    "p_value_results = np.ones((10,10))\n",
    "for i in range(10):\n",
    "    for j in range(10):\n",
    "        p_value_results[i,j] = scipy.stats.kstest(z_in_petal[i],z_in_petal[j])[1]"
   ]
  },
  {
   "cell_type": "code",
   "execution_count": 17,
   "id": "de52ea68-0f5f-4569-b9f2-ddfe34e2b4a2",
   "metadata": {},
   "outputs": [
    {
     "data": {
      "text/plain": [
       "<matplotlib.image.AxesImage at 0x2aaae7b65310>"
      ]
     },
     "execution_count": 17,
     "metadata": {},
     "output_type": "execute_result"
    },
    {
     "data": {
      "image/png": "[encoded data removed]",
      "text/plain": [
       "<Figure size 432x288 with 1 Axes>"
      ]
     },
     "metadata": {
      "needs_background": "light"
     },
     "output_type": "display_data"
    }
   ],
   "source": [
    "plt.imshow(np.log10(p_value_results))"
   ]
  },
  {
   "cell_type": "code",
   "execution_count": 18,
   "id": "d6a1d7ee-6876-498f-bc76-c9896b310dc0",
   "metadata": {},
   "outputs": [
    {
     "name": "stdout",
     "output_type": "stream",
     "text": [
      "[0.00038641 0.00038641] 0.000386409857443093\n"
     ]
    }
   ],
   "source": [
    "print(p_value_results[p_value_results<0.001], np.min(p_value_results))"
   ]
  },
  {
   "cell_type": "code",
   "execution_count": 19,
   "id": "249e0662-965d-48b6-9bc5-b9bdff75d0e6",
   "metadata": {},
   "outputs": [
    {
     "data": {
      "text/plain": [
       "array([0.26713988, 0.43392963, 0.10439296, 0.40799937, 0.3936134 ,\n",
       "       0.56829518, 0.26221752, 1.        , 0.51945756, 0.1692273 ])"
      ]
     },
     "execution_count": 19,
     "metadata": {},
     "output_type": "execute_result"
    }
   ],
   "source": [
    "p_value_results[7,:]"
   ]
  },
  {
   "cell_type": "code",
   "execution_count": null,
   "id": "10a87731-3c0a-4cd0-b713-9348925b9af6",
   "metadata": {},
   "outputs": [],
   "source": []
  }
 ],
 "metadata": {
  "kernelspec": {
   "display_name": "DESI master",
   "language": "python",
   "name": "desi-master"
  },
  "language_info": {
   "codemirror_mode": {
    "name": "ipython",
    "version": 3
   },
   "file_extension": ".py",
   "mimetype": "text/x-python",
   "name": "python",
   "nbconvert_exporter": "python",
   "pygments_lexer": "ipython3",
   "version": "3.9.7"
  }
 },
 "nbformat": 4,
 "nbformat_minor": 5
}
