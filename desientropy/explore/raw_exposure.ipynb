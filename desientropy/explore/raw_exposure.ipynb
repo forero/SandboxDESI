{
 "cells": [
  {
   "cell_type": "code",
   "execution_count": 1,
   "id": "618f247e-7887-43ae-98ab-95b2c794e073",
   "metadata": {},
   "outputs": [],
   "source": [
    "import numpy as np\n",
    "import matplotlib.pyplot as plt\n",
    "import pandas as pd\n",
    "import glob\n",
    "import fitsio\n",
    "import scipy.stats #import kstest"
   ]
  },
  {
   "cell_type": "code",
   "execution_count": 18,
   "id": "6f99afa4-9b42-418b-a2b7-986b6f6bfdc4",
   "metadata": {},
   "outputs": [],
   "source": [
    "raw_list = glob.glob(\"../daily/entropy_raw_exp_202205*_*.csv\")\n",
    "raw_list.sort()"
   ]
  },
  {
   "cell_type": "code",
   "execution_count": 25,
   "id": "e7f4035c-0efa-4f0e-850b-6b69282c48f7",
   "metadata": {},
   "outputs": [],
   "source": [
    "data = []\n",
    "for raw_file in raw_list:\n",
    "    tmp_data = pd.read_csv(raw_file)\n",
    "    if tmp_data['PROGRAM'][0]=='CALIB Dark 5min':\n",
    "        tmp_data = tmp_data.sort_values(by=['SPECTRO','AMP'])\n",
    "        data.append(tmp_data)"
   ]
  },
  {
   "cell_type": "code",
   "execution_count": 44,
   "id": "b8aa6c4b-77db-4a51-aeac-6adbb34ee473",
   "metadata": {},
   "outputs": [
    {
     "name": "stdout",
     "output_type": "stream",
     "text": [
      "\n",
      "\n",
      "\n",
      "\n",
      "\n",
      "\n",
      "\n",
      "\n",
      "\n"
     ]
    }
   ],
   "source": [
    "summary = {}\n",
    "summary['SPECTRO'] = list(data[0]['SPECTRO'])\n",
    "summary['AMP'] = list(data[0]['AMP'])\n",
    "for i,d in enumerate(data):\n",
    "    summary[i] = list(data[i]['H'])\n",
    "    print()\n",
    "    \n",
    "summary_df = pd.DataFrame.from_dict(summary)"
   ]
  },
  {
   "cell_type": "code",
   "execution_count": 106,
   "id": "7b71b7e8-a4c7-42eb-a463-95802577349a",
   "metadata": {},
   "outputs": [
    {
     "data": {
      "text/plain": [
       "<matplotlib.legend.Legend at 0x155510ff75b0>"
      ]
     },
     "execution_count": 106,
     "metadata": {},
     "output_type": "execute_result"
    },
    {
     "data": {
      "image/png": "[encoded data removed]",
      "text/plain": [
       "<Figure size 432x288 with 1 Axes>"
      ]
     },
     "metadata": {
      "needs_background": "light"
     },
     "output_type": "display_data"
    }
   ],
   "source": [
    "n_days = len(summary_df)\n",
    "for i in range(n_days):\n",
    "    \n",
    "    ent = np.float_(np.array(summary_df.iloc[i][2:n_days]))\n",
    "    specamp = summary_df.iloc[i]['SPECTRO']+summary_df.iloc[i]['AMP']\n",
    "    #plt.plot(ent)\n",
    "    r = (np.mean(ent)+0.01)/(np.std(ent)+0.01)\n",
    "    if (r<1.1) & (np.mean(ent)>0.1): \n",
    "        #plt.scatter(np.mean(ent), np.std(ent))\n",
    "        plt.plot(ent, label=specamp)\n",
    "plt.legend()"
   ]
  },
  {
   "cell_type": "code",
   "execution_count": 24,
   "id": "4f4c47a0-4033-4a87-98ec-2388bf8ac362",
   "metadata": {},
   "outputs": [
    {
     "data": {
      "text/html": [
       "<div>\n",
       "<style scoped>\n",
       "    .dataframe tbody tr th:only-of-type {\n",
       "        vertical-align: middle;\n",
       "    }\n",
       "\n",
       "    .dataframe tbody tr th {\n",
       "        vertical-align: top;\n",
       "    }\n",
       "\n",
       "    .dataframe thead th {\n",
       "        text-align: right;\n",
       "    }\n",
       "</style>\n",
       "<table border=\"1\" class=\"dataframe\">\n",
       "  <thead>\n",
       "    <tr style=\"text-align: right;\">\n",
       "      <th></th>\n",
       "      <th>Unnamed: 0</th>\n",
       "      <th>SPECTRO</th>\n",
       "      <th>AMP</th>\n",
       "      <th>EXPID</th>\n",
       "      <th>NIGHT</th>\n",
       "      <th>PROGRAM</th>\n",
       "      <th>OBSTYPE</th>\n",
       "      <th>H</th>\n",
       "    </tr>\n",
       "  </thead>\n",
       "  <tbody>\n",
       "    <tr>\n",
       "      <th>0</th>\n",
       "      <td>0</td>\n",
       "      <td>Z2</td>\n",
       "      <td>A</td>\n",
       "      <td>134052</td>\n",
       "      <td>20220509</td>\n",
       "      <td>Morning darks</td>\n",
       "      <td>DARK</td>\n",
       "      <td>0.008212</td>\n",
       "    </tr>\n",
       "    <tr>\n",
       "      <th>1</th>\n",
       "      <td>1</td>\n",
       "      <td>Z2</td>\n",
       "      <td>B</td>\n",
       "      <td>134052</td>\n",
       "      <td>20220509</td>\n",
       "      <td>Morning darks</td>\n",
       "      <td>DARK</td>\n",
       "      <td>0.075248</td>\n",
       "    </tr>\n",
       "    <tr>\n",
       "      <th>2</th>\n",
       "      <td>2</td>\n",
       "      <td>Z2</td>\n",
       "      <td>C</td>\n",
       "      <td>134052</td>\n",
       "      <td>20220509</td>\n",
       "      <td>Morning darks</td>\n",
       "      <td>DARK</td>\n",
       "      <td>0.026843</td>\n",
       "    </tr>\n",
       "    <tr>\n",
       "      <th>3</th>\n",
       "      <td>3</td>\n",
       "      <td>Z2</td>\n",
       "      <td>D</td>\n",
       "      <td>134052</td>\n",
       "      <td>20220509</td>\n",
       "      <td>Morning darks</td>\n",
       "      <td>DARK</td>\n",
       "      <td>0.063100</td>\n",
       "    </tr>\n",
       "    <tr>\n",
       "      <th>4</th>\n",
       "      <td>4</td>\n",
       "      <td>R2</td>\n",
       "      <td>A</td>\n",
       "      <td>134052</td>\n",
       "      <td>20220509</td>\n",
       "      <td>Morning darks</td>\n",
       "      <td>DARK</td>\n",
       "      <td>0.013275</td>\n",
       "    </tr>\n",
       "    <tr>\n",
       "      <th>...</th>\n",
       "      <td>...</td>\n",
       "      <td>...</td>\n",
       "      <td>...</td>\n",
       "      <td>...</td>\n",
       "      <td>...</td>\n",
       "      <td>...</td>\n",
       "      <td>...</td>\n",
       "      <td>...</td>\n",
       "    </tr>\n",
       "    <tr>\n",
       "      <th>115</th>\n",
       "      <td>115</td>\n",
       "      <td>R0</td>\n",
       "      <td>D</td>\n",
       "      <td>134052</td>\n",
       "      <td>20220509</td>\n",
       "      <td>Morning darks</td>\n",
       "      <td>DARK</td>\n",
       "      <td>0.109890</td>\n",
       "    </tr>\n",
       "    <tr>\n",
       "      <th>116</th>\n",
       "      <td>116</td>\n",
       "      <td>B0</td>\n",
       "      <td>A</td>\n",
       "      <td>134052</td>\n",
       "      <td>20220509</td>\n",
       "      <td>Morning darks</td>\n",
       "      <td>DARK</td>\n",
       "      <td>0.475133</td>\n",
       "    </tr>\n",
       "    <tr>\n",
       "      <th>117</th>\n",
       "      <td>117</td>\n",
       "      <td>B0</td>\n",
       "      <td>B</td>\n",
       "      <td>134052</td>\n",
       "      <td>20220509</td>\n",
       "      <td>Morning darks</td>\n",
       "      <td>DARK</td>\n",
       "      <td>0.282740</td>\n",
       "    </tr>\n",
       "    <tr>\n",
       "      <th>118</th>\n",
       "      <td>118</td>\n",
       "      <td>B0</td>\n",
       "      <td>C</td>\n",
       "      <td>134052</td>\n",
       "      <td>20220509</td>\n",
       "      <td>Morning darks</td>\n",
       "      <td>DARK</td>\n",
       "      <td>0.423939</td>\n",
       "    </tr>\n",
       "    <tr>\n",
       "      <th>119</th>\n",
       "      <td>119</td>\n",
       "      <td>B0</td>\n",
       "      <td>D</td>\n",
       "      <td>134052</td>\n",
       "      <td>20220509</td>\n",
       "      <td>Morning darks</td>\n",
       "      <td>DARK</td>\n",
       "      <td>0.280494</td>\n",
       "    </tr>\n",
       "  </tbody>\n",
       "</table>\n",
       "<p>120 rows × 8 columns</p>\n",
       "</div>"
      ],
      "text/plain": [
       "     Unnamed: 0 SPECTRO AMP   EXPID     NIGHT        PROGRAM OBSTYPE         H\n",
       "0             0      Z2   A  134052  20220509  Morning darks    DARK  0.008212\n",
       "1             1      Z2   B  134052  20220509  Morning darks    DARK  0.075248\n",
       "2             2      Z2   C  134052  20220509  Morning darks    DARK  0.026843\n",
       "3             3      Z2   D  134052  20220509  Morning darks    DARK  0.063100\n",
       "4             4      R2   A  134052  20220509  Morning darks    DARK  0.013275\n",
       "..          ...     ...  ..     ...       ...            ...     ...       ...\n",
       "115         115      R0   D  134052  20220509  Morning darks    DARK  0.109890\n",
       "116         116      B0   A  134052  20220509  Morning darks    DARK  0.475133\n",
       "117         117      B0   B  134052  20220509  Morning darks    DARK  0.282740\n",
       "118         118      B0   C  134052  20220509  Morning darks    DARK  0.423939\n",
       "119         119      B0   D  134052  20220509  Morning darks    DARK  0.280494\n",
       "\n",
       "[120 rows x 8 columns]"
      ]
     },
     "execution_count": 24,
     "metadata": {},
     "output_type": "execute_result"
    }
   ],
   "source": [
    "tmp_data"
   ]
  },
  {
   "cell_type": "code",
   "execution_count": null,
   "id": "9b501718-6832-4dc5-bcc7-bfe0c14de813",
   "metadata": {},
   "outputs": [],
   "source": []
  }
 ],
 "metadata": {
  "kernelspec": {
   "display_name": "DESI master",
   "language": "python",
   "name": "desi-master"
  },
  "language_info": {
   "codemirror_mode": {
    "name": "ipython",
    "version": 3
   },
   "file_extension": ".py",
   "mimetype": "text/x-python",
   "name": "python",
   "nbconvert_exporter": "python",
   "pygments_lexer": "ipython3",
   "version": "3.9.7"
  }
 },
 "nbformat": 4,
 "nbformat_minor": 5
}
