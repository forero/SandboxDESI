{
 "cells": [
  {
   "cell_type": "code",
   "execution_count": 3,
   "id": "aae69998-76ef-45e7-a73a-f162f6651e1a",
   "metadata": {},
   "outputs": [],
   "source": [
    "import numpy as np\n",
    "import matplotlib.pyplot as plt\n",
    "import fitsio\n",
    "import os"
   ]
  },
  {
   "cell_type": "code",
   "execution_count": 4,
   "id": "a239cc26-6946-46d0-9cae-579ced32b30b",
   "metadata": {},
   "outputs": [
    {
     "name": "stdout",
     "output_type": "stream",
     "text": [
      "/global/cfs/cdirs/desi/spectro/data/20220502/00132801/desi-00132801.fits.fz\n"
     ]
    }
   ],
   "source": [
    "data_path = '/global/cfs/cdirs/desi/spectro/data/'\n",
    "date = 20220502\n",
    "expid = 132801\n",
    "\n",
    "filename = os.path.join(data_path, '{}/{:08d}/desi-{:08d}.fits.fz'.format(date, expid, expid))\n",
    "print(filename)"
   ]
  },
  {
   "cell_type": "code",
   "execution_count": 24,
   "id": "37add891-fc4b-4530-871f-8536f35f1d1d",
   "metadata": {},
   "outputs": [],
   "source": [
    "fits=fitsio.FITS(filename)\n",
    "n_hdu = len(fits)"
   ]
  },
  {
   "cell_type": "code",
   "execution_count": 47,
   "id": "24254426-2682-4a4e-8989-5cfa4fe155df",
   "metadata": {},
   "outputs": [
    {
     "name": "stdout",
     "output_type": "stream",
     "text": [
      "\n",
      "  file: /global/cfs/cdirs/desi/spectro/data/20220502/00132801/desi-00132801.fits.fz\n",
      "  extension: 1\n",
      "  type: IMAGE_HDU\n",
      "  extname: SPEC\n",
      "  image info:\n",
      "    compression: RICE_1\n",
      "    data type: u2\n",
      "    dims: [10]\n"
     ]
    }
   ],
   "source": [
    "header = fitsio.read_header(filename)\n",
    "a = fits[1]\n",
    "print(a)"
   ]
  },
  {
   "cell_type": "code",
   "execution_count": 50,
   "id": "8ae82c1c-a26e-4056-81b7-437563358c97",
   "metadata": {},
   "outputs": [],
   "source": [
    "header = a.read_header()"
   ]
  },
  {
   "cell_type": "code",
   "execution_count": 53,
   "id": "1f0d0ef0-b086-4337-8e82-1a62f55a9104",
   "metadata": {},
   "outputs": [],
   "source": [
    "flavor = header['FLAVOR']\n",
    "obstype = header['OBSTYPE']"
   ]
  },
  {
   "cell_type": "code",
   "execution_count": 54,
   "id": "f3a2e7a8-0f74-4e6c-a1e2-c8b22b898283",
   "metadata": {},
   "outputs": [
    {
     "data": {
      "text/plain": [
       "('zero', 'ZERO')"
      ]
     },
     "execution_count": 54,
     "metadata": {},
     "output_type": "execute_result"
    }
   ],
   "source": [
    "flavor, obstype"
   ]
  },
  {
   "cell_type": "code",
   "execution_count": 25,
   "id": "31c6dc38-15ec-4149-a955-2a6d198c0287",
   "metadata": {},
   "outputs": [],
   "source": [
    "specs = fits[1].read()"
   ]
  },
  {
   "cell_type": "code",
   "execution_count": 30,
   "id": "91ca3cef-4013-424f-b2c1-850d00961d61",
   "metadata": {},
   "outputs": [
    {
     "name": "stdout",
     "output_type": "stream",
     "text": [
      "Z3\n",
      "R3\n",
      "B3\n",
      "Z6\n",
      "R6\n",
      "B6\n",
      "Z7\n",
      "R7\n",
      "B7\n",
      "Z8\n",
      "R8\n",
      "B8\n",
      "Z0\n",
      "R0\n",
      "B0\n",
      "Z2\n",
      "R2\n",
      "B2\n",
      "Z1\n",
      "R1\n",
      "B1\n",
      "Z5\n",
      "R5\n",
      "B5\n",
      "Z4\n",
      "R4\n",
      "B4\n",
      "Z9\n",
      "R9\n",
      "B9\n"
     ]
    }
   ],
   "source": [
    "raw_data = {}\n",
    "for i in range(2,n_hdu-1):\n",
    "    a = fits[i]\n",
    "    ext_name = a.get_extname()\n",
    "    print(ext_name)\n",
    "    raw_data[ext_name] = a.read()"
   ]
  },
  {
   "cell_type": "code",
   "execution_count": 37,
   "id": "5e220e5f-39ce-4f9d-8f04-fa398eaebe83",
   "metadata": {},
   "outputs": [
    {
     "data": {
      "text/plain": [
       "(array([[4194.,    0.,    0., ...,    0.,    0.,    0.],\n",
       "        [4194.,    0.,    0., ...,    0.,    0.,    0.],\n",
       "        [4194.,    0.,    0., ...,    0.,    0.,    0.],\n",
       "        ...,\n",
       "        [4194.,    0.,    0., ...,    0.,    0.,    0.],\n",
       "        [4194.,    0.,    0., ...,    0.,    0.,    0.],\n",
       "        [4194.,    0.,    0., ...,    0.,    0.,    0.]]),\n",
       " array([3.2938044, 3.4042597, 3.514715 , 3.6251702, 3.7356255, 3.8460808,\n",
       "        3.9565358, 4.0669913, 4.1774464, 4.287902 , 4.398357 ],\n",
       "       dtype=float32),\n",
       " <a list of 4256 BarContainer objects>)"
      ]
     },
     "execution_count": 37,
     "metadata": {},
     "output_type": "execute_result"
    },
    {
     "data": {
      "image/png": "[encoded data removed]",
      "text/plain": [
       "<Figure size 432x288 with 1 Axes>"
      ]
     },
     "metadata": {
      "needs_background": "light"
     },
     "output_type": "display_data"
    }
   ],
   "source": [
    "plt.hist(np.log10(raw_data['R3']))"
   ]
  },
  {
   "cell_type": "code",
   "execution_count": 23,
   "id": "7db97400-6b0f-4a81-b27d-b7fdaf3585af",
   "metadata": {},
   "outputs": [
    {
     "data": {
      "text/plain": [
       "33"
      ]
     },
     "execution_count": 23,
     "metadata": {},
     "output_type": "execute_result"
    }
   ],
   "source": [
    "len(fits)"
   ]
  },
  {
   "cell_type": "code",
   "execution_count": null,
   "id": "33f402a7-db80-4a0c-8ad6-6070e72e1ed1",
   "metadata": {},
   "outputs": [],
   "source": []
  }
 ],
 "metadata": {
  "kernelspec": {
   "display_name": "DESI master",
   "language": "python",
   "name": "desi-master"
  },
  "language_info": {
   "codemirror_mode": {
    "name": "ipython",
    "version": 3
   },
   "file_extension": ".py",
   "mimetype": "text/x-python",
   "name": "python",
   "nbconvert_exporter": "python",
   "pygments_lexer": "ipython3",
   "version": "3.9.7"
  }
 },
 "nbformat": 4,
 "nbformat_minor": 5
}
