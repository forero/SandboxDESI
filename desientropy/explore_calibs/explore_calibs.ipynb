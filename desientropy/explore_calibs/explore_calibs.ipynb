{
 "cells": [
  {
   "cell_type": "code",
   "execution_count": 60,
   "id": "aae69998-76ef-45e7-a73a-f162f6651e1a",
   "metadata": {},
   "outputs": [],
   "source": [
    "import numpy as np\n",
    "import matplotlib.pyplot as plt\n",
    "import fitsio\n",
    "import os\n",
    "import glob"
   ]
  },
  {
   "cell_type": "code",
   "execution_count": 26,
   "id": "10bfe9a3-f480-4a4a-a53f-710fb2af1d23",
   "metadata": {},
   "outputs": [],
   "source": [
    "def list_raw_exps(date):\n",
    "    data_path = '/global/cfs/cdirs/desi/spectro/data/'\n",
    "    desi_raw_exps = glob.glob(os.path.join(data_path, str(date),'*/desi-*.fits.fz'))\n",
    "    desi_raw_exps.sort()\n",
    "    return desi_raw_exps"
   ]
  },
  {
   "cell_type": "code",
   "execution_count": 37,
   "id": "8fe230b1-ae2f-4c48-a686-19d8496b1679",
   "metadata": {},
   "outputs": [],
   "source": [
    "def read_raw_exp(desi_exp_filename):\n",
    "    fits=fitsio.FITS(desi_exp_filename)\n",
    "    n_hdu = len(fits)\n",
    "    a = fits[1]\n",
    "    header = a.read_header()\n",
    "    obstype = header['OBSTYPE']\n",
    "    program = header['PROGRAM']\n",
    "    expid = header['EXPID']\n",
    "    \n",
    "    raw_data = {}\n",
    "    for i in range(2,n_hdu-1):\n",
    "        a = fits[i]\n",
    "        ext_name = a.get_extname()\n",
    "        print(ext_name)\n",
    "        raw_data[ext_name] = a.read()\n",
    "        print(np.shape(raw_data[ext_name]))\n",
    "    return {'data':raw_data, 'obstype':obstype, 'program':program, 'expid':expid}"
   ]
  },
  {
   "cell_type": "code",
   "execution_count": 55,
   "id": "a5684d43-b94c-46cd-a1d6-56aedbceb6be",
   "metadata": {},
   "outputs": [],
   "source": [
    "def new_data_amp(data_amp, tau=200):\n",
    "    n_x = np.shape(data_amp)[0]\n",
    "    n_y = np.shape(data_amp)[1]\n",
    "    new_n_x = n_x//tau\n",
    "    new_n_y = n_y//tau\n",
    "    new_data = np.ones([new_n_x, new_n_y])\n",
    "    for i in range(new_n_x):\n",
    "        for j in range(new_n_y):\n",
    "            new_data[i,j] = np.median(data_amp[i*tau:(i+1)*tau, j*tau:(j+1)*tau])\n",
    "    return new_data"
   ]
  },
  {
   "cell_type": "code",
   "execution_count": 56,
   "id": "6dfaf952-e850-46fe-a94a-e7b7784c585b",
   "metadata": {},
   "outputs": [],
   "source": [
    "def compute_raw_exp_entropy(raw_exp_data):\n",
    "    spectros = list(raw_exp_data['data'].keys())\n",
    "    print(spectros)\n",
    "    for spectro in spectros:\n",
    "        data = raw_exp_data['data'][spectro]\n",
    "        n_x = np.shape(data)[0]\n",
    "        n_y = np.shape(data)[1]\n",
    "        data_amp_A = new_data_amp(data[:n_x//2, :n_y//2])\n",
    "        data_amp_B = new_data_amp(data[n_x//2:, :n_y//2])\n",
    "        data_amp_C = new_data_amp(data[:n_x//2, n_y//2:])\n",
    "        data_amp_D = new_data_amp(data[n_x//2:, n_y//2:])\n",
    "        \n",
    "        \n",
    "        \n",
    "        print(np.shape(data_amp_A))"
   ]
  },
  {
   "cell_type": "code",
   "execution_count": 42,
   "id": "29f99ba0-b2e5-448b-9e49-ed4346c1cfec",
   "metadata": {},
   "outputs": [
    {
     "name": "stdout",
     "output_type": "stream",
     "text": [
      "Z7\n",
      "(4194, 4256)\n",
      "R7\n",
      "(4194, 4256)\n",
      "B7\n",
      "(4162, 4232)\n",
      "Z2\n",
      "(4194, 4256)\n",
      "R2\n",
      "(4194, 4256)\n",
      "B2\n",
      "(4162, 4232)\n",
      "Z8\n",
      "(4194, 4256)\n",
      "R8\n",
      "(4194, 4256)\n",
      "B8\n",
      "(4162, 4232)\n",
      "Z4\n",
      "(4194, 4256)\n",
      "R4\n",
      "(4194, 4256)\n",
      "B4\n",
      "(4162, 4232)\n",
      "Z3\n",
      "(4194, 4256)\n",
      "R3\n",
      "(4194, 4256)\n",
      "B3\n",
      "(4162, 4232)\n",
      "Z9\n",
      "(4194, 4256)\n",
      "R9\n",
      "(4194, 4256)\n",
      "B9\n",
      "(4162, 4232)\n",
      "Z0\n",
      "(4194, 4256)\n",
      "R0\n",
      "(4194, 4256)\n",
      "B0\n",
      "(4162, 4232)\n",
      "Z5\n",
      "(4194, 4256)\n",
      "R5\n",
      "(4194, 4256)\n",
      "B5\n",
      "(4162, 4232)\n",
      "Z1\n",
      "(4194, 4256)\n",
      "R1\n",
      "(4194, 4256)\n",
      "B1\n",
      "(4162, 4232)\n",
      "Z6\n",
      "(4194, 4256)\n",
      "R6\n",
      "(4194, 4256)\n",
      "B6\n",
      "(4162, 4232)\n"
     ]
    }
   ],
   "source": [
    "raw_exp_files = list_raw_exps(20220502)\n",
    "raw_exp_data = read_raw_exp(raw_exp_files[1])"
   ]
  },
  {
   "cell_type": "code",
   "execution_count": 57,
   "id": "7dbfa0c4-7065-4377-836b-ba2d021677d0",
   "metadata": {},
   "outputs": [
    {
     "name": "stdout",
     "output_type": "stream",
     "text": [
      "['Z7', 'R7', 'B7', 'Z2', 'R2', 'B2', 'Z8', 'R8', 'B8', 'Z4', 'R4', 'B4', 'Z3', 'R3', 'B3', 'Z9', 'R9', 'B9', 'Z0', 'R0', 'B0', 'Z5', 'R5', 'B5', 'Z1', 'R1', 'B1', 'Z6', 'R6', 'B6']\n",
      "(10, 10)\n",
      "(10, 10)\n",
      "(10, 10)\n",
      "(10, 10)\n",
      "(10, 10)\n",
      "(10, 10)\n",
      "(10, 10)\n",
      "(10, 10)\n",
      "(10, 10)\n",
      "(10, 10)\n",
      "(10, 10)\n",
      "(10, 10)\n",
      "(10, 10)\n",
      "(10, 10)\n",
      "(10, 10)\n",
      "(10, 10)\n",
      "(10, 10)\n",
      "(10, 10)\n",
      "(10, 10)\n",
      "(10, 10)\n",
      "(10, 10)\n",
      "(10, 10)\n",
      "(10, 10)\n",
      "(10, 10)\n",
      "(10, 10)\n",
      "(10, 10)\n",
      "(10, 10)\n",
      "(10, 10)\n",
      "(10, 10)\n",
      "(10, 10)\n"
     ]
    }
   ],
   "source": [
    "compute_raw_exp_entropy(raw_exp_data)"
   ]
  },
  {
   "cell_type": "code",
   "execution_count": 29,
   "id": "a239cc26-6946-46d0-9cae-579ced32b30b",
   "metadata": {},
   "outputs": [
    {
     "name": "stdout",
     "output_type": "stream",
     "text": [
      "/global/cfs/cdirs/desi/spectro/data/20220502/00132875/desi-00132875.fits.fz\n"
     ]
    }
   ],
   "source": [
    "data_path = '/global/cfs/cdirs/desi/spectro/data/'\n",
    "date = 20220502\n",
    "expid = 132801\n",
    "expid = 132875\n",
    "\n",
    "filename = os.path.join(data_path, '{}/{:08d}/desi-{:08d}.fits.fz'.format(date, expid, expid))\n",
    "print(filename)"
   ]
  },
  {
   "cell_type": "code",
   "execution_count": null,
   "id": "020cb1a0-2038-4bb0-b298-425003dc7196",
   "metadata": {},
   "outputs": [],
   "source": []
  },
  {
   "cell_type": "code",
   "execution_count": 30,
   "id": "0f937021-0472-49ac-af67-70450d72dc92",
   "metadata": {},
   "outputs": [
    {
     "name": "stdout",
     "output_type": "stream",
     "text": [
      "132801 ZERO CALIB ZEROs for nightly bias\n",
      "132802 ZERO CALIB ZEROs for nightly bias\n",
      "132803 ZERO CALIB ZEROs for nightly bias\n",
      "132804 ZERO CALIB ZEROs for nightly bias\n",
      "132805 ZERO CALIB ZEROs for nightly bias\n",
      "132806 ZERO CALIB ZEROs for nightly bias\n",
      "132807 ZERO CALIB ZEROs for nightly bias\n",
      "132808 ZERO CALIB ZEROs for nightly bias\n",
      "132809 ZERO CALIB ZEROs for nightly bias\n",
      "132810 ZERO CALIB ZEROs for nightly bias\n",
      "132811 ZERO CALIB ZEROs for nightly bias\n",
      "132812 ZERO CALIB ZEROs for nightly bias\n",
      "132813 ZERO CALIB ZEROs for nightly bias\n",
      "132814 ZERO CALIB ZEROs for nightly bias\n",
      "132815 ZERO CALIB ZEROs for nightly bias\n",
      "132816 ZERO CALIB ZEROs for nightly bias\n",
      "132817 ZERO CALIB ZEROs for nightly bias\n",
      "132818 ZERO CALIB ZEROs for nightly bias\n",
      "132819 ZERO CALIB ZEROs for nightly bias\n",
      "132820 ZERO CALIB ZEROs for nightly bias\n",
      "132821 ZERO CALIB ZEROs for nightly bias\n",
      "132822 ZERO CALIB ZEROs for nightly bias\n",
      "132823 ZERO CALIB ZEROs for nightly bias\n",
      "132824 ZERO CALIB ZEROs for nightly bias\n",
      "132825 ZERO CALIB ZEROs for nightly bias\n",
      "132827 DARK CALIB Dark 5min\n",
      "132832 ARC CALIB short Arcs all\n",
      "132833 ARC CALIB short Arcs all\n",
      "132834 ARC CALIB short Arcs all\n",
      "132835 ARC CALIB short Arcs all\n",
      "132836 ARC CALIB short Arcs all\n",
      "132839 ARC CALIB long Arcs Cd+Xe\n",
      "132840 ARC CALIB long Arcs Cd+Xe\n",
      "132841 ARC CALIB long Arcs Cd+Xe\n",
      "132842 ARC CALIB long Arcs Cd+Xe\n",
      "132843 ARC CALIB long Arcs Cd+Xe\n",
      "132848 FLAT CALIB DESI-CALIB-00 LEDs only\n",
      "132849 FLAT CALIB DESI-CALIB-00 LEDs only\n",
      "132850 FLAT CALIB DESI-CALIB-00 LEDs only\n",
      "132853 FLAT CALIB DESI-CALIB-01 LEDs only\n",
      "132854 FLAT CALIB DESI-CALIB-01 LEDs only\n",
      "132855 FLAT CALIB DESI-CALIB-01 LEDs only\n",
      "132858 FLAT CALIB DESI-CALIB-02 LEDs only\n",
      "132859 FLAT CALIB DESI-CALIB-02 LEDs only\n",
      "132860 FLAT CALIB DESI-CALIB-02 LEDs only\n",
      "132863 FLAT CALIB DESI-CALIB-03 LEDs only\n",
      "132864 FLAT CALIB DESI-CALIB-03 LEDs only\n",
      "132865 FLAT CALIB DESI-CALIB-03 LEDs only\n",
      "132866 FLAT LED03 flat for CTE check\n",
      "132875 SCIENCE BACKUP\n",
      "132876 SCIENCE BACKUP\n",
      "132877 SCIENCE BRIGHT\n",
      "132878 SCIENCE BRIGHT\n",
      "132879 SCIENCE DARK\n",
      "132880 SCIENCE DARK\n",
      "132881 SCIENCE DARK\n",
      "132882 SCIENCE DARK\n",
      "132883 SCIENCE DARK\n",
      "132884 SCIENCE DARK\n",
      "132885 SCIENCE DARK\n",
      "132886 SCIENCE DARK\n",
      "132887 SCIENCE DARK\n",
      "132900 ZERO ZEROs for dark sequence B\n",
      "132901 ZERO ZEROs for dark sequence B\n",
      "132902 ZERO ZEROs for dark sequence B\n",
      "132903 ZERO ZEROs for dark sequence B\n",
      "132904 ZERO ZEROs for dark sequence B\n",
      "132905 DARK DARK 300.0s for dark sequence B\n",
      "132906 DARK DARK 450.0s for dark sequence B\n",
      "132907 DARK DARK 30.0s for dark sequence B\n",
      "132908 DARK DARK 5.0s for dark sequence B\n",
      "132909 DARK DARK 120.0s for dark sequence B\n",
      "132910 DARK DARK 1200.0s for dark sequence B\n",
      "132911 DARK DARK 900.0s for dark sequence B\n",
      "132912 DARK DARK 5.0s for dark sequence B\n",
      "132913 DARK DARK 600.0s for dark sequence B\n",
      "132914 ZERO ZEROs for dark sequence B\n",
      "132915 ZERO ZEROs for dark sequence B\n",
      "132916 ZERO ZEROs for dark sequence B\n",
      "132917 ZERO ZEROs for dark sequence B\n",
      "132918 ZERO ZEROs for dark sequence B\n",
      "133032 ZERO ZEROs for morning darks\n",
      "133033 ZERO ZEROs for morning darks\n",
      "133034 ZERO ZEROs for morning darks\n",
      "133035 ZERO ZEROs for morning darks\n",
      "133036 ZERO ZEROs for morning darks\n",
      "133037 ZERO ZEROs for morning darks\n",
      "133038 ZERO ZEROs for morning darks\n",
      "133039 ZERO ZEROs for morning darks\n",
      "133040 ZERO ZEROs for morning darks\n",
      "133041 ZERO ZEROs for morning darks\n",
      "133042 DARK Morning darks\n",
      "133043 DARK Morning darks\n"
     ]
    }
   ],
   "source": [
    "for desi_exp in desi_exps:\n",
    "    fits=fitsio.FITS(desi_exp)\n",
    "    n_hdu = len(fits)\n",
    "    a = fits[1]\n",
    "    header = a.read_header()\n",
    "    obstype = header['OBSTYPE']\n",
    "    program = header['PROGRAM']\n",
    "    expid = header['EXPID']\n",
    "    print(expid, obstype, program)"
   ]
  },
  {
   "cell_type": "code",
   "execution_count": 9,
   "id": "37add891-fc4b-4530-871f-8536f35f1d1d",
   "metadata": {},
   "outputs": [],
   "source": []
  },
  {
   "cell_type": "code",
   "execution_count": 10,
   "id": "24254426-2682-4a4e-8989-5cfa4fe155df",
   "metadata": {},
   "outputs": [],
   "source": [
    "fits=fitsio.FITS(filename)\n",
    "n_hdu = len(fits)\n",
    "a = fits[1]\n",
    "header = a.read_header()\n",
    "obstype = header['OBSTYPE']\n",
    "program = header['PROGRAM']"
   ]
  },
  {
   "cell_type": "code",
   "execution_count": 13,
   "id": "2f213de5-adbd-47c3-857d-97395b275072",
   "metadata": {},
   "outputs": [
    {
     "name": "stdout",
     "output_type": "stream",
     "text": [
      "SCIENCE BACKUP\n"
     ]
    }
   ],
   "source": [
    "print(obstype, program)"
   ]
  },
  {
   "cell_type": "code",
   "execution_count": 14,
   "id": "31c6dc38-15ec-4149-a955-2a6d198c0287",
   "metadata": {},
   "outputs": [],
   "source": [
    "specs = fits[1].read()"
   ]
  },
  {
   "cell_type": "code",
   "execution_count": 16,
   "id": "91ca3cef-4013-424f-b2c1-850d00961d61",
   "metadata": {},
   "outputs": [
    {
     "name": "stdout",
     "output_type": "stream",
     "text": [
      "Z9\n",
      "(4194, 4256)\n",
      "R9\n",
      "(4194, 4256)\n",
      "B9\n",
      "(4162, 4232)\n",
      "Z7\n",
      "(4194, 4256)\n",
      "R7\n",
      "(4194, 4256)\n",
      "B7\n",
      "(4162, 4232)\n",
      "Z2\n",
      "(4194, 4256)\n",
      "R2\n",
      "(4194, 4256)\n",
      "B2\n",
      "(4162, 4232)\n",
      "Z5\n",
      "(4194, 4256)\n",
      "R5\n",
      "(4194, 4256)\n",
      "B5\n",
      "(4162, 4232)\n",
      "Z3\n",
      "(4194, 4256)\n",
      "R3\n",
      "(4194, 4256)\n",
      "B3\n",
      "(4162, 4232)\n",
      "Z1\n",
      "(4194, 4256)\n",
      "R1\n",
      "(4194, 4256)\n",
      "B1\n",
      "(4162, 4232)\n",
      "Z8\n",
      "(4194, 4256)\n",
      "R8\n",
      "(4194, 4256)\n",
      "B8\n",
      "(4162, 4232)\n",
      "Z4\n",
      "(4194, 4256)\n",
      "R4\n",
      "(4194, 4256)\n",
      "B4\n",
      "(4162, 4232)\n",
      "Z0\n",
      "(4194, 4256)\n",
      "R0\n",
      "(4194, 4256)\n",
      "B0\n",
      "(4162, 4232)\n",
      "Z6\n",
      "(4194, 4256)\n",
      "R6\n",
      "(4194, 4256)\n",
      "B6\n",
      "(4162, 4232)\n"
     ]
    }
   ],
   "source": [
    "raw_data = {}\n",
    "for i in range(2,n_hdu-1):\n",
    "    a = fits[i]\n",
    "    ext_name = a.get_extname()\n",
    "    print(ext_name)\n",
    "    raw_data[ext_name] = a.read()\n",
    "    print(np.shape(raw_data[ext_name]))"
   ]
  },
  {
   "cell_type": "code",
   "execution_count": null,
   "id": "5e220e5f-39ce-4f9d-8f04-fa398eaebe83",
   "metadata": {},
   "outputs": [],
   "source": [
    "plt.hist(np.log10(raw_data['R3']))"
   ]
  },
  {
   "cell_type": "code",
   "execution_count": null,
   "id": "7db97400-6b0f-4a81-b27d-b7fdaf3585af",
   "metadata": {},
   "outputs": [],
   "source": [
    "len(fits)"
   ]
  },
  {
   "cell_type": "code",
   "execution_count": null,
   "id": "33f402a7-db80-4a0c-8ad6-6070e72e1ed1",
   "metadata": {},
   "outputs": [],
   "source": []
  }
 ],
 "metadata": {
  "kernelspec": {
   "display_name": "DESI master",
   "language": "python",
   "name": "desi-master"
  },
  "language_info": {
   "codemirror_mode": {
    "name": "ipython",
    "version": 3
   },
   "file_extension": ".py",
   "mimetype": "text/x-python",
   "name": "python",
   "nbconvert_exporter": "python",
   "pygments_lexer": "ipython3",
   "version": "3.9.7"
  }
 },
 "nbformat": 4,
 "nbformat_minor": 5
}
