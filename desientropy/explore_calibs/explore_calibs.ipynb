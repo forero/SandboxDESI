{
 "cells": [
  {
   "cell_type": "code",
   "execution_count": 17,
   "id": "aae69998-76ef-45e7-a73a-f162f6651e1a",
   "metadata": {},
   "outputs": [],
   "source": [
    "import numpy as np\n",
    "import matplotlib.pyplot as plt\n",
    "import fitsio\n",
    "import os\n",
    "import glob"
   ]
  },
  {
   "cell_type": "code",
   "execution_count": null,
   "id": "10bfe9a3-f480-4a4a-a53f-710fb2af1d23",
   "metadata": {},
   "outputs": [],
   "source": []
  },
  {
   "cell_type": "code",
   "execution_count": 8,
   "id": "a239cc26-6946-46d0-9cae-579ced32b30b",
   "metadata": {},
   "outputs": [
    {
     "name": "stdout",
     "output_type": "stream",
     "text": [
      "/global/cfs/cdirs/desi/spectro/data/20220502/00132875/desi-00132875.fits.fz\n"
     ]
    }
   ],
   "source": [
    "data_path = '/global/cfs/cdirs/desi/spectro/data/'\n",
    "date = 20220502\n",
    "expid = 132801\n",
    "expid = 132875\n",
    "\n",
    "filename = os.path.join(data_path, '{}/{:08d}/desi-{:08d}.fits.fz'.format(date, expid, expid))\n",
    "print(filename)"
   ]
  },
  {
   "cell_type": "code",
   "execution_count": 22,
   "id": "020cb1a0-2038-4bb0-b298-425003dc7196",
   "metadata": {},
   "outputs": [],
   "source": [
    "desi_exps = glob.glob(os.path.join(data_path, str(date),'*/desi-*.fits.fz'))\n",
    "desi_exps.sort()"
   ]
  },
  {
   "cell_type": "code",
   "execution_count": 24,
   "id": "0f937021-0472-49ac-af67-70450d72dc92",
   "metadata": {},
   "outputs": [
    {
     "name": "stdout",
     "output_type": "stream",
     "text": [
      "ZERO CALIB ZEROs for nightly bias\n",
      "ZERO CALIB ZEROs for nightly bias\n",
      "ZERO CALIB ZEROs for nightly bias\n",
      "ZERO CALIB ZEROs for nightly bias\n",
      "ZERO CALIB ZEROs for nightly bias\n",
      "ZERO CALIB ZEROs for nightly bias\n",
      "ZERO CALIB ZEROs for nightly bias\n",
      "ZERO CALIB ZEROs for nightly bias\n",
      "ZERO CALIB ZEROs for nightly bias\n",
      "ZERO CALIB ZEROs for nightly bias\n",
      "ZERO CALIB ZEROs for nightly bias\n",
      "ZERO CALIB ZEROs for nightly bias\n",
      "ZERO CALIB ZEROs for nightly bias\n",
      "ZERO CALIB ZEROs for nightly bias\n",
      "ZERO CALIB ZEROs for nightly bias\n",
      "ZERO CALIB ZEROs for nightly bias\n",
      "ZERO CALIB ZEROs for nightly bias\n",
      "ZERO CALIB ZEROs for nightly bias\n",
      "ZERO CALIB ZEROs for nightly bias\n",
      "ZERO CALIB ZEROs for nightly bias\n",
      "ZERO CALIB ZEROs for nightly bias\n",
      "ZERO CALIB ZEROs for nightly bias\n",
      "ZERO CALIB ZEROs for nightly bias\n",
      "ZERO CALIB ZEROs for nightly bias\n",
      "ZERO CALIB ZEROs for nightly bias\n",
      "DARK CALIB Dark 5min\n",
      "ARC CALIB short Arcs all\n",
      "ARC CALIB short Arcs all\n",
      "ARC CALIB short Arcs all\n",
      "ARC CALIB short Arcs all\n",
      "ARC CALIB short Arcs all\n",
      "ARC CALIB long Arcs Cd+Xe\n",
      "ARC CALIB long Arcs Cd+Xe\n",
      "ARC CALIB long Arcs Cd+Xe\n",
      "ARC CALIB long Arcs Cd+Xe\n",
      "ARC CALIB long Arcs Cd+Xe\n",
      "FLAT CALIB DESI-CALIB-00 LEDs only\n",
      "FLAT CALIB DESI-CALIB-00 LEDs only\n",
      "FLAT CALIB DESI-CALIB-00 LEDs only\n",
      "FLAT CALIB DESI-CALIB-01 LEDs only\n",
      "FLAT CALIB DESI-CALIB-01 LEDs only\n",
      "FLAT CALIB DESI-CALIB-01 LEDs only\n",
      "FLAT CALIB DESI-CALIB-02 LEDs only\n",
      "FLAT CALIB DESI-CALIB-02 LEDs only\n",
      "FLAT CALIB DESI-CALIB-02 LEDs only\n",
      "FLAT CALIB DESI-CALIB-03 LEDs only\n",
      "FLAT CALIB DESI-CALIB-03 LEDs only\n",
      "FLAT CALIB DESI-CALIB-03 LEDs only\n",
      "FLAT LED03 flat for CTE check\n",
      "SCIENCE BACKUP\n",
      "SCIENCE BACKUP\n",
      "SCIENCE BRIGHT\n",
      "SCIENCE BRIGHT\n",
      "SCIENCE DARK\n",
      "SCIENCE DARK\n",
      "SCIENCE DARK\n",
      "SCIENCE DARK\n",
      "SCIENCE DARK\n",
      "SCIENCE DARK\n",
      "SCIENCE DARK\n",
      "SCIENCE DARK\n",
      "SCIENCE DARK\n",
      "ZERO ZEROs for dark sequence B\n",
      "ZERO ZEROs for dark sequence B\n",
      "ZERO ZEROs for dark sequence B\n",
      "ZERO ZEROs for dark sequence B\n",
      "ZERO ZEROs for dark sequence B\n",
      "DARK DARK 300.0s for dark sequence B\n",
      "DARK DARK 450.0s for dark sequence B\n",
      "DARK DARK 30.0s for dark sequence B\n",
      "DARK DARK 5.0s for dark sequence B\n",
      "DARK DARK 120.0s for dark sequence B\n",
      "DARK DARK 1200.0s for dark sequence B\n",
      "DARK DARK 900.0s for dark sequence B\n",
      "DARK DARK 5.0s for dark sequence B\n",
      "DARK DARK 600.0s for dark sequence B\n",
      "ZERO ZEROs for dark sequence B\n",
      "ZERO ZEROs for dark sequence B\n",
      "ZERO ZEROs for dark sequence B\n",
      "ZERO ZEROs for dark sequence B\n",
      "ZERO ZEROs for dark sequence B\n",
      "ZERO ZEROs for morning darks\n",
      "ZERO ZEROs for morning darks\n",
      "ZERO ZEROs for morning darks\n",
      "ZERO ZEROs for morning darks\n",
      "ZERO ZEROs for morning darks\n",
      "ZERO ZEROs for morning darks\n",
      "ZERO ZEROs for morning darks\n",
      "ZERO ZEROs for morning darks\n",
      "ZERO ZEROs for morning darks\n",
      "ZERO ZEROs for morning darks\n",
      "DARK Morning darks\n",
      "DARK Morning darks\n"
     ]
    }
   ],
   "source": [
    "for desi_exp in desi_exps:\n",
    "    fits=fitsio.FITS(desi_exp)\n",
    "    n_hdu = len(fits)\n",
    "    a = fits[1]\n",
    "    header = a.read_header()\n",
    "    obstype = header['OBSTYPE']\n",
    "    program = header['PROGRAM']\n",
    "    print(obstype, program)"
   ]
  },
  {
   "cell_type": "code",
   "execution_count": 9,
   "id": "37add891-fc4b-4530-871f-8536f35f1d1d",
   "metadata": {},
   "outputs": [],
   "source": []
  },
  {
   "cell_type": "code",
   "execution_count": 10,
   "id": "24254426-2682-4a4e-8989-5cfa4fe155df",
   "metadata": {},
   "outputs": [],
   "source": [
    "fits=fitsio.FITS(filename)\n",
    "n_hdu = len(fits)\n",
    "a = fits[1]\n",
    "header = a.read_header()\n",
    "obstype = header['OBSTYPE']\n",
    "program = header['PROGRAM']"
   ]
  },
  {
   "cell_type": "code",
   "execution_count": 13,
   "id": "2f213de5-adbd-47c3-857d-97395b275072",
   "metadata": {},
   "outputs": [
    {
     "name": "stdout",
     "output_type": "stream",
     "text": [
      "SCIENCE BACKUP\n"
     ]
    }
   ],
   "source": [
    "print(obstype, program)"
   ]
  },
  {
   "cell_type": "code",
   "execution_count": 14,
   "id": "31c6dc38-15ec-4149-a955-2a6d198c0287",
   "metadata": {},
   "outputs": [],
   "source": [
    "specs = fits[1].read()"
   ]
  },
  {
   "cell_type": "code",
   "execution_count": 16,
   "id": "91ca3cef-4013-424f-b2c1-850d00961d61",
   "metadata": {},
   "outputs": [
    {
     "name": "stdout",
     "output_type": "stream",
     "text": [
      "Z9\n",
      "(4194, 4256)\n",
      "R9\n",
      "(4194, 4256)\n",
      "B9\n",
      "(4162, 4232)\n",
      "Z7\n",
      "(4194, 4256)\n",
      "R7\n",
      "(4194, 4256)\n",
      "B7\n",
      "(4162, 4232)\n",
      "Z2\n",
      "(4194, 4256)\n",
      "R2\n",
      "(4194, 4256)\n",
      "B2\n",
      "(4162, 4232)\n",
      "Z5\n",
      "(4194, 4256)\n",
      "R5\n",
      "(4194, 4256)\n",
      "B5\n",
      "(4162, 4232)\n",
      "Z3\n",
      "(4194, 4256)\n",
      "R3\n",
      "(4194, 4256)\n",
      "B3\n",
      "(4162, 4232)\n",
      "Z1\n",
      "(4194, 4256)\n",
      "R1\n",
      "(4194, 4256)\n",
      "B1\n",
      "(4162, 4232)\n",
      "Z8\n",
      "(4194, 4256)\n",
      "R8\n",
      "(4194, 4256)\n",
      "B8\n",
      "(4162, 4232)\n",
      "Z4\n",
      "(4194, 4256)\n",
      "R4\n",
      "(4194, 4256)\n",
      "B4\n",
      "(4162, 4232)\n",
      "Z0\n",
      "(4194, 4256)\n",
      "R0\n",
      "(4194, 4256)\n",
      "B0\n",
      "(4162, 4232)\n",
      "Z6\n",
      "(4194, 4256)\n",
      "R6\n",
      "(4194, 4256)\n",
      "B6\n",
      "(4162, 4232)\n"
     ]
    }
   ],
   "source": [
    "raw_data = {}\n",
    "for i in range(2,n_hdu-1):\n",
    "    a = fits[i]\n",
    "    ext_name = a.get_extname()\n",
    "    print(ext_name)\n",
    "    raw_data[ext_name] = a.read()\n",
    "    print(np.shape(raw_data[ext_name]))"
   ]
  },
  {
   "cell_type": "code",
   "execution_count": null,
   "id": "5e220e5f-39ce-4f9d-8f04-fa398eaebe83",
   "metadata": {},
   "outputs": [],
   "source": [
    "plt.hist(np.log10(raw_data['R3']))"
   ]
  },
  {
   "cell_type": "code",
   "execution_count": null,
   "id": "7db97400-6b0f-4a81-b27d-b7fdaf3585af",
   "metadata": {},
   "outputs": [],
   "source": [
    "len(fits)"
   ]
  },
  {
   "cell_type": "code",
   "execution_count": null,
   "id": "33f402a7-db80-4a0c-8ad6-6070e72e1ed1",
   "metadata": {},
   "outputs": [],
   "source": []
  }
 ],
 "metadata": {
  "kernelspec": {
   "display_name": "DESI master",
   "language": "python",
   "name": "desi-master"
  },
  "language_info": {
   "codemirror_mode": {
    "name": "ipython",
    "version": 3
   },
   "file_extension": ".py",
   "mimetype": "text/x-python",
   "name": "python",
   "nbconvert_exporter": "python",
   "pygments_lexer": "ipython3",
   "version": "3.9.7"
  }
 },
 "nbformat": 4,
 "nbformat_minor": 5
}
