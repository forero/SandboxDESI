{
 "cells": [
  {
   "cell_type": "code",
   "execution_count": 1,
   "metadata": {
    "collapsed": false
   },
   "outputs": [],
   "source": [
    "from astropy.table import Table\n",
    "import matplotlib.pyplot as plt\n",
    "import astropy\n",
    "import desitarget.mock.build as mb\n",
    "import numpy as np\n",
    "from desitarget.targetmask import desi_mask, bgs_mask, mws_mask\n",
    "import desitarget.mtl\n",
    "%matplotlib inline"
   ]
  },
  {
   "cell_type": "code",
   "execution_count": 3,
   "metadata": {
    "collapsed": false
   },
   "outputs": [
    {
     "name": "stdout",
     "output_type": "stream",
     "text": [
      "FLUX_G\n",
      "FLUX_R\n",
      "FLUX_Z\n",
      "FLUX_W1\n",
      "FLUX_W2\n",
      "TARGETID\n",
      "BGS_ANY 182201\n",
      "ELG 152960\n",
      "LRG 32073\n",
      "QSO 15384\n",
      "STD_FSTAR 3219\n",
      "STD_BRIGHT 608\n",
      "unassigned 0\n",
      "standards 3394\n",
      "INFO:mtl.py:82:make_mtl: 3377 of 372791 targets have priority zero, setting N_obs=0.\n"
     ]
    },
    {
     "name": "stderr",
     "output_type": "stream",
     "text": [
      "WARNING: UnitsWarning: The unit 'erg' has been deprecated in the FITS standard. Suggested: cm2 g s-2. [astropy.units.format.utils]\n"
     ]
    }
   ],
   "source": [
    "targetsfilename = \"/Users/forero/data/DESI/decals/dr5/small_chunk_targets-dr5.0-0.16.2.fits\"\n",
    "targets = Table.read(targetsfilename)\n",
    "nobj = len(targets)\n",
    "truth = mb.empty_truth_table(nobj=nobj)\n",
    "for k in targets.keys():\n",
    "    if k in truth.keys():\n",
    "        print(k)\n",
    "        truth[k][:] = targets[k][:]\n",
    "\n",
    "nothing = '          '\n",
    "truth['TEMPLATESUBTYPE'] = np.repeat(nothing, nobj)\n",
    "\n",
    "\n",
    "masks = ['BGS_ANY', 'ELG', 'LRG', 'QSO', 'STD_FSTAR', 'STD_BRIGHT']\n",
    "dict_truspectype = {'BGS_ANY':'GALAXY', 'ELG':'GALAXY', 'LRG':'GALAXY', 'QSO':'QSO', \n",
    "                    'STD_FSTAR':'STAR', 'STD_BRIGHT':'STAR'}\n",
    "dict_truetemplatetype = {'BGS_ANY':'BGS', 'ELG':'ELG', 'LRG':'LRG', 'QSO':'QSO', \n",
    "                        'STD_FSTAR':'STAR', 'STD_BRIGHT':'STAR'}\n",
    "for m in masks:\n",
    "    istype = (targets['DESI_TARGET'] & desi_mask.mask(m))!=0\n",
    "    print(m, np.count_nonzero(istype))\n",
    "    truth['TRUESPECTYPE'] = np.repeat(dict_truspectype[m], nobj)\n",
    "    truth['TEMPLATETYPE'] = np.repeat(dict_truetemplatetype[m], nobj)\n",
    "    truth['MOCKID'][istype] = targets['TARGETID'][istype]\n",
    "\n",
    "n_unassigned = np.count_nonzero(truth['MOCKID']==0)\n",
    "print('unassigned', n_unassigned)\n",
    "isstd = (targets['DESI_TARGET'] & desi_mask.mask('STD_BRIGHT'))!=0\n",
    "isstd |= (targets['DESI_TARGET'] & desi_mask.mask('STD_FSTAR'))!=0\n",
    "print('standards', np.count_nonzero(isstd))\n",
    "standards = targets[isstd]\n",
    "mtl = desitarget.mtl.make_mtl(targets)\n",
    "mtl.meta['EXTNAME'] = 'MTL'\n",
    "\n",
    "standards.write('standards.fits', overwrite=True)\n",
    "mtl.write('mtl.fits', overwrite=True)\n",
    "truth.write('truth.fits', overwrite=True)"
   ]
  }
 ],
 "metadata": {
  "kernelspec": {
   "display_name": "Python 3",
   "language": "python",
   "name": "python3"
  },
  "language_info": {
   "codemirror_mode": {
    "name": "ipython",
    "version": 3
   },
   "file_extension": ".py",
   "mimetype": "text/x-python",
   "name": "python",
   "nbconvert_exporter": "python",
   "pygments_lexer": "ipython3",
   "version": "3.6.0"
  }
 },
 "nbformat": 4,
 "nbformat_minor": 2
}
