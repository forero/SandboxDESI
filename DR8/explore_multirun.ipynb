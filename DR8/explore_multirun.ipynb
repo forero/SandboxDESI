{
 "cells": [
  {
   "cell_type": "code",
   "execution_count": 1,
   "metadata": {},
   "outputs": [],
   "source": [
    "import numpy as np\n",
    "import matplotlib.pyplot as plt\n",
    "from astropy.table import Table\n",
    "from desitarget.targetmask import desi_mask, bgs_mask\n"
   ]
  },
  {
   "cell_type": "code",
   "execution_count": 2,
   "metadata": {},
   "outputs": [],
   "source": [
    "data_fba = Table.read(\"/global/cscratch1/sd/dsporta/results_mock_alex/multirun/fba_summary_bright_south_t15.fits\")\n",
    "data_obs = Table.read(\"/global/cscratch1/sd/dsporta/results_mock_alex/multirun/summary_all_bright_south_15.fits\")"
   ]
  },
  {
   "cell_type": "code",
   "execution_count": 3,
   "metadata": {},
   "outputs": [
    {
     "data": {
      "text/html": [
       "&lt;Table length=10&gt;\n",
       "<table id=\"table46913251020080\" class=\"table-striped table-bordered table-condensed\">\n",
       "<thead><tr><th>TARGETID</th><th>RA</th><th>DEC</th><th>DESI_TARGET</th><th>BGS_TARGET</th><th>MWS_TARGET</th><th>AVAIL</th><th>NUMOBS</th><th>SUBPRIORITY</th><th>PRIORITY_INIT</th><th>NUMOBS_INIT</th></tr></thead>\n",
       "<thead><tr><th>int64</th><th>float64</th><th>float64</th><th>int64</th><th>int64</th><th>int64</th><th>bool</th><th>int64</th><th>float64</th><th>int64</th><th>int64</th></tr></thead>\n",
       "<tr><td>288230376151711744</td><td>44.815284729003906</td><td>0.4066418409347534</td><td>1152921504606846976</td><td>9</td><td>0</td><td>True</td><td>1</td><td>0.6366701931482618</td><td>2100</td><td>1</td></tr>\n",
       "<tr><td>288230376151711745</td><td>44.88201141357422</td><td>0.19175498187541962</td><td>1152921504606846976</td><td>1</td><td>0</td><td>True</td><td>0</td><td>0.395442992933976</td><td>2000</td><td>1</td></tr>\n",
       "<tr><td>288230376151711746</td><td>45.017723083496094</td><td>0.3858080208301544</td><td>1152921504606846976</td><td>2</td><td>0</td><td>True</td><td>1</td><td>0.9206101013823692</td><td>2100</td><td>1</td></tr>\n",
       "<tr><td>288230376151711747</td><td>44.84988021850586</td><td>0.4202732443809509</td><td>1152921504606846976</td><td>2</td><td>0</td><td>True</td><td>1</td><td>0.6862292563391063</td><td>2100</td><td>1</td></tr>\n",
       "<tr><td>288230376151711748</td><td>44.819236755371094</td><td>0.30350926518440247</td><td>1152921504606846976</td><td>2</td><td>0</td><td>True</td><td>1</td><td>0.9512854453628269</td><td>2100</td><td>1</td></tr>\n",
       "<tr><td>288230376151711749</td><td>44.752201080322266</td><td>0.24477235972881317</td><td>1152921504606846976</td><td>1</td><td>0</td><td>True</td><td>0</td><td>0.23219483455098833</td><td>2000</td><td>1</td></tr>\n",
       "<tr><td>288230376151711750</td><td>44.956851959228516</td><td>0.15488387644290924</td><td>1152921504606846976</td><td>2</td><td>0</td><td>True</td><td>1</td><td>0.7303089295849143</td><td>2100</td><td>1</td></tr>\n",
       "<tr><td>288230376151711751</td><td>45.12470245361328</td><td>0.1477052867412567</td><td>1152921504606846976</td><td>2</td><td>0</td><td>True</td><td>1</td><td>0.8752982735026722</td><td>2100</td><td>1</td></tr>\n",
       "<tr><td>288230376151711752</td><td>44.89381408691406</td><td>0.29330238699913025</td><td>1152921504606846976</td><td>2</td><td>0</td><td>True</td><td>1</td><td>0.9079869925606068</td><td>2100</td><td>1</td></tr>\n",
       "<tr><td>288230376151711753</td><td>44.98420715332031</td><td>0.1794910579919815</td><td>1152921504606846976</td><td>9</td><td>0</td><td>True</td><td>1</td><td>0.7090883846074627</td><td>2100</td><td>1</td></tr>\n",
       "</table>"
      ],
      "text/plain": [
       "<Table length=10>\n",
       "     TARGETID              RA         ... PRIORITY_INIT NUMOBS_INIT\n",
       "      int64             float64       ...     int64        int64   \n",
       "------------------ ------------------ ... ------------- -----------\n",
       "288230376151711744 44.815284729003906 ...          2100           1\n",
       "288230376151711745  44.88201141357422 ...          2000           1\n",
       "288230376151711746 45.017723083496094 ...          2100           1\n",
       "288230376151711747  44.84988021850586 ...          2100           1\n",
       "288230376151711748 44.819236755371094 ...          2100           1\n",
       "288230376151711749 44.752201080322266 ...          2000           1\n",
       "288230376151711750 44.956851959228516 ...          2100           1\n",
       "288230376151711751  45.12470245361328 ...          2100           1\n",
       "288230376151711752  44.89381408691406 ...          2100           1\n",
       "288230376151711753  44.98420715332031 ...          2100           1"
      ]
     },
     "execution_count": 3,
     "metadata": {},
     "output_type": "execute_result"
    }
   ],
   "source": [
    "data_fba[:10]"
   ]
  },
  {
   "cell_type": "code",
   "execution_count": 4,
   "metadata": {},
   "outputs": [
    {
     "data": {
      "text/html": [
       "&lt;Table masked=True length=10&gt;\n",
       "<table id=\"table46913251019240\" class=\"table-striped table-bordered table-condensed\">\n",
       "<thead><tr><th>TARGETID</th><th>NUMOBS_0</th><th>NUMOBS_1</th><th>NUMOBS_2</th><th>NUMOBS_3</th><th>NUMOBS_4</th><th>NUMOBS_5</th><th>NUMOBS_6</th><th>NUMOBS_7</th><th>NUMOBS_8</th><th>NUMOBS_9</th><th>NUMOBS_10</th><th>NUMOBS_11</th><th>NUMOBS_12</th><th>NUMOBS_13</th><th>NUMOBS_14</th><th>TILE_ID0</th><th>TILE_ID1</th><th>TILE_ID2</th><th>TILE_ID3</th><th>TILE_ID4</th><th>TILE_ID5</th><th>TILE_ID6</th></tr></thead>\n",
       "<thead><tr><th>int64</th><th>int64</th><th>int64</th><th>int64</th><th>int64</th><th>int64</th><th>int64</th><th>int64</th><th>int64</th><th>int64</th><th>int64</th><th>int64</th><th>int64</th><th>int64</th><th>int64</th><th>int64</th><th>int64</th><th>int64</th><th>int64</th><th>int64</th><th>int64</th><th>int64</th><th>int64</th></tr></thead>\n",
       "<tr><td>288230376151711744</td><td>1</td><td>1</td><td>0</td><td>1</td><td>1</td><td>1</td><td>1</td><td>0</td><td>1</td><td>1</td><td>1</td><td>0</td><td>1</td><td>0</td><td>1</td><td>33103</td><td>38865</td><td>44627</td><td>-1</td><td>-1</td><td>-1</td><td>-1</td></tr>\n",
       "<tr><td>288230376151711745</td><td>0</td><td>0</td><td>0</td><td>0</td><td>0</td><td>0</td><td>0</td><td>0</td><td>0</td><td>0</td><td>0</td><td>0</td><td>0</td><td>0</td><td>0</td><td>33103</td><td>-1</td><td>-1</td><td>-1</td><td>-1</td><td>-1</td><td>-1</td></tr>\n",
       "<tr><td>288230376151711746</td><td>1</td><td>1</td><td>1</td><td>1</td><td>1</td><td>1</td><td>1</td><td>1</td><td>1</td><td>1</td><td>1</td><td>1</td><td>1</td><td>1</td><td>1</td><td>38865</td><td>44627</td><td>-1</td><td>-1</td><td>-1</td><td>-1</td><td>-1</td></tr>\n",
       "<tr><td>288230376151711747</td><td>1</td><td>1</td><td>1</td><td>1</td><td>1</td><td>1</td><td>1</td><td>1</td><td>1</td><td>1</td><td>1</td><td>1</td><td>1</td><td>1</td><td>1</td><td>33103</td><td>38865</td><td>44627</td><td>-1</td><td>-1</td><td>-1</td><td>-1</td></tr>\n",
       "<tr><td>288230376151711748</td><td>1</td><td>1</td><td>1</td><td>1</td><td>1</td><td>1</td><td>1</td><td>1</td><td>1</td><td>1</td><td>1</td><td>1</td><td>1</td><td>1</td><td>1</td><td>44627</td><td>-1</td><td>-1</td><td>-1</td><td>-1</td><td>-1</td><td>-1</td></tr>\n",
       "<tr><td>288230376151711749</td><td>0</td><td>0</td><td>0</td><td>0</td><td>0</td><td>1</td><td>0</td><td>0</td><td>0</td><td>0</td><td>0</td><td>0</td><td>0</td><td>1</td><td>0</td><td>33103</td><td>38865</td><td>44627</td><td>-1</td><td>-1</td><td>-1</td><td>-1</td></tr>\n",
       "<tr><td>288230376151711750</td><td>1</td><td>1</td><td>1</td><td>1</td><td>1</td><td>1</td><td>1</td><td>1</td><td>1</td><td>1</td><td>1</td><td>1</td><td>1</td><td>1</td><td>1</td><td>33103</td><td>38865</td><td>44627</td><td>-1</td><td>-1</td><td>-1</td><td>-1</td></tr>\n",
       "<tr><td>288230376151711751</td><td>1</td><td>1</td><td>1</td><td>1</td><td>1</td><td>1</td><td>1</td><td>1</td><td>1</td><td>1</td><td>1</td><td>1</td><td>1</td><td>1</td><td>1</td><td>33103</td><td>38865</td><td>44627</td><td>-1</td><td>-1</td><td>-1</td><td>-1</td></tr>\n",
       "<tr><td>288230376151711752</td><td>1</td><td>0</td><td>1</td><td>1</td><td>1</td><td>1</td><td>0</td><td>0</td><td>1</td><td>1</td><td>1</td><td>1</td><td>0</td><td>0</td><td>1</td><td>33103</td><td>38865</td><td>44627</td><td>-1</td><td>-1</td><td>-1</td><td>-1</td></tr>\n",
       "<tr><td>288230376151711753</td><td>1</td><td>1</td><td>1</td><td>1</td><td>1</td><td>1</td><td>1</td><td>1</td><td>1</td><td>1</td><td>1</td><td>1</td><td>1</td><td>1</td><td>1</td><td>33103</td><td>38865</td><td>44627</td><td>-1</td><td>-1</td><td>-1</td><td>-1</td></tr>\n",
       "</table>"
      ],
      "text/plain": [
       "<Table masked=True length=10>\n",
       "     TARGETID      NUMOBS_0 NUMOBS_1 NUMOBS_2 ... TILE_ID4 TILE_ID5 TILE_ID6\n",
       "      int64         int64    int64    int64   ...  int64    int64    int64  \n",
       "------------------ -------- -------- -------- ... -------- -------- --------\n",
       "288230376151711744        1        1        0 ...       -1       -1       -1\n",
       "288230376151711745        0        0        0 ...       -1       -1       -1\n",
       "288230376151711746        1        1        1 ...       -1       -1       -1\n",
       "288230376151711747        1        1        1 ...       -1       -1       -1\n",
       "288230376151711748        1        1        1 ...       -1       -1       -1\n",
       "288230376151711749        0        0        0 ...       -1       -1       -1\n",
       "288230376151711750        1        1        1 ...       -1       -1       -1\n",
       "288230376151711751        1        1        1 ...       -1       -1       -1\n",
       "288230376151711752        1        0        1 ...       -1       -1       -1\n",
       "288230376151711753        1        1        1 ...       -1       -1       -1"
      ]
     },
     "execution_count": 4,
     "metadata": {},
     "output_type": "execute_result"
    }
   ],
   "source": [
    "data_obs[:10]"
   ]
  },
  {
   "cell_type": "code",
   "execution_count": 5,
   "metadata": {},
   "outputs": [
    {
     "data": {
      "text/plain": [
       "['TARGETID',\n",
       " 'NUMOBS_0',\n",
       " 'NUMOBS_1',\n",
       " 'NUMOBS_2',\n",
       " 'NUMOBS_3',\n",
       " 'NUMOBS_4',\n",
       " 'NUMOBS_5',\n",
       " 'NUMOBS_6',\n",
       " 'NUMOBS_7',\n",
       " 'NUMOBS_8',\n",
       " 'NUMOBS_9',\n",
       " 'NUMOBS_10',\n",
       " 'NUMOBS_11',\n",
       " 'NUMOBS_12',\n",
       " 'NUMOBS_13',\n",
       " 'NUMOBS_14',\n",
       " 'TILE_ID0',\n",
       " 'TILE_ID1',\n",
       " 'TILE_ID2',\n",
       " 'TILE_ID3',\n",
       " 'TILE_ID4',\n",
       " 'TILE_ID5',\n",
       " 'TILE_ID6']"
      ]
     },
     "execution_count": 5,
     "metadata": {},
     "output_type": "execute_result"
    }
   ],
   "source": [
    "data_obs.keys()"
   ]
  },
  {
   "cell_type": "code",
   "execution_count": 6,
   "metadata": {},
   "outputs": [],
   "source": [
    "total_num_obs = np.zeros_like(data_obs['TARGETID'])\n",
    "for i in range(15):\n",
    "    total_num_obs += data_obs['NUMOBS_'+str(i)]"
   ]
  },
  {
   "cell_type": "code",
   "execution_count": 12,
   "metadata": {},
   "outputs": [],
   "source": [
    "is_available = data_fba['AVAIL']==True\n",
    "is_bright = (data_fba['BGS_TARGET']&bgs_mask['BGS_BRIGHT'])!=0\n",
    "is_faint = (data_fba['BGS_TARGET']&bgs_mask['BGS_FAINT'])!=0\n"
   ]
  },
  {
   "cell_type": "code",
   "execution_count": 8,
   "metadata": {},
   "outputs": [
    {
     "data": {
      "text/plain": [
       "<bound method BitMask.names of bgs_mask:\n",
       "  - [BGS_FAINT,        0, \"BGS faint targets\", {'obsconditions': 'BRIGHT|GRAY|DARK', 'priorities': {'UNOBS': 2000, 'MORE_ZWARN': 2, 'MORE_ZGOOD': 1000, 'DONE': 2, 'OBS': 1, 'DONOTOBSERVE': 0}, 'numobs': 1}]\n",
       "  - [BGS_BRIGHT,       1, \"BGS bright targets\", {'obsconditions': 'BRIGHT', 'priorities': {'UNOBS': 2100, 'MORE_ZWARN': 2, 'MORE_ZGOOD': 1000, 'DONE': 2, 'OBS': 1, 'DONOTOBSERVE': 0}, 'numobs': 1}]\n",
       "  - [BGS_WISE,         2, \"BGS wise targets\", {'obsconditions': 'BRIGHT', 'priorities': {'UNOBS': 2000, 'MORE_ZWARN': 2, 'MORE_ZGOOD': 1000, 'DONE': 2, 'OBS': 1, 'DONOTOBSERVE': 0}, 'numobs': 1}]\n",
       "  - [BGS_FAINT_HIP,    3, \"BGS faint targets at bright priorty\", {'obsconditions': 'BRIGHT', 'priorities': {'UNOBS': 2100, 'MORE_ZWARN': 2, 'MORE_ZGOOD': 1000, 'DONE': 2, 'OBS': 1, 'DONOTOBSERVE': 0}, 'numobs': 1}]\n",
       "  - [BGS_FAINT_NORTH,  8, \"BGS faint cuts tuned for Bok/Mosaic\", {'obsconditions': 'BRIGHT|GRAY|DARK', 'priorities': {'UNOBS': 0, 'MORE_ZWARN': 0, 'MORE_ZGOOD': 0, 'DONE': 0, 'OBS': 0, 'DONOTOBSERVE': 0}, 'numobs': 0}]\n",
       "  - [BGS_BRIGHT_NORTH,  9, \"BGS bright cuts tuned for Bok/Mosaic\", {'obsconditions': 'BRIGHT', 'priorities': {'UNOBS': 0, 'MORE_ZWARN': 0, 'MORE_ZGOOD': 0, 'DONE': 0, 'OBS': 0, 'DONOTOBSERVE': 0}, 'numobs': 0}]\n",
       "  - [BGS_WISE_NORTH,  10, \"BGS WISE cuts tuned for Bok/Mosaic\", {'obsconditions': 'BRIGHT', 'priorities': {'UNOBS': 0, 'MORE_ZWARN': 0, 'MORE_ZGOOD': 0, 'DONE': 0, 'OBS': 0, 'DONOTOBSERVE': 0}, 'numobs': 0}]\n",
       "  - [BGS_FAINT_SOUTH, 16, \"BGS faint cuts tuned for DECam\", {'obsconditions': 'BRIGHT|GRAY|DARK', 'priorities': {'UNOBS': 0, 'MORE_ZWARN': 0, 'MORE_ZGOOD': 0, 'DONE': 0, 'OBS': 0, 'DONOTOBSERVE': 0}, 'numobs': 0}]\n",
       "  - [BGS_BRIGHT_SOUTH, 17, \"BGS bright cuts tuned for DECam\", {'obsconditions': 'BRIGHT', 'priorities': {'UNOBS': 0, 'MORE_ZWARN': 0, 'MORE_ZGOOD': 0, 'DONE': 0, 'OBS': 0, 'DONOTOBSERVE': 0}, 'numobs': 0}]\n",
       "  - [BGS_WISE_SOUTH,  18, \"BGS WISE cuts tuned for DECam\", {'obsconditions': 'BRIGHT', 'priorities': {'UNOBS': 0, 'MORE_ZWARN': 0, 'MORE_ZGOOD': 0, 'DONE': 0, 'OBS': 0, 'DONOTOBSERVE': 0}, 'numobs': 0}]>"
      ]
     },
     "execution_count": 8,
     "metadata": {},
     "output_type": "execute_result"
    }
   ],
   "source": [
    "bgs_mask.names"
   ]
  },
  {
   "cell_type": "code",
   "execution_count": null,
   "metadata": {},
   "outputs": [],
   "source": []
  },
  {
   "cell_type": "code",
   "execution_count": 9,
   "metadata": {},
   "outputs": [
    {
     "data": {
      "text/plain": [
       "(array([7.543159e+06, 6.593110e+05, 6.039660e+05, 5.606390e+05,\n",
       "        5.194840e+05, 4.851270e+05, 4.561780e+05, 4.336330e+05,\n",
       "        4.132650e+05, 3.946080e+05, 3.803270e+05, 3.751980e+05,\n",
       "        3.802930e+05, 3.966420e+05, 4.335500e+05, 5.038589e+06,\n",
       "        8.073000e+03, 5.692000e+03, 4.654000e+03, 3.835000e+03,\n",
       "        3.501000e+03, 3.064000e+03, 2.919000e+03, 2.549000e+03,\n",
       "        2.254000e+03, 1.870000e+03, 1.624000e+03, 1.468000e+03,\n",
       "        1.357000e+03, 9.621000e+03]),\n",
       " array([ 0.,  1.,  2.,  3.,  4.,  5.,  6.,  7.,  8.,  9., 10., 11., 12.,\n",
       "        13., 14., 15., 16., 17., 18., 19., 20., 21., 22., 23., 24., 25.,\n",
       "        26., 27., 28., 29., 30.]),\n",
       " <a list of 30 Patch objects>)"
      ]
     },
     "execution_count": 9,
     "metadata": {},
     "output_type": "execute_result"
    },
    {
     "data": {
      "image/png": "[encoded data removed]",
      "text/plain": [
       "<matplotlib.figure.Figure at 0x2aaad7a9c8d0>"
      ]
     },
     "metadata": {
      "needs_background": "light"
     },
     "output_type": "display_data"
    }
   ],
   "source": [
    "plt.hist(total_num_obs[is_available], np.linspace(0,30,31))"
   ]
  },
  {
   "cell_type": "code",
   "execution_count": 13,
   "metadata": {},
   "outputs": [
    {
     "name": "stdout",
     "output_type": "stream",
     "text": [
      "0.8972273829756815 0.10277261702431847 0.5272945922077792\n"
     ]
    }
   ],
   "source": [
    "n_avail = len(total_num_obs[is_available&is_faint])\n",
    "n_avail_and_observed = np.count_nonzero(total_num_obs[is_available&is_faint]!=0)\n",
    "n_avail_always_observed = np.count_nonzero(total_num_obs[is_available&is_faint]==15)\n",
    "n_avail_never_observed = np.count_nonzero(total_num_obs[is_available&is_faint]==0)\n",
    "print(n_avail_and_observed/n_avail, n_avail_never_observed/n_avail,  n_avail_always_observed/n_avail)"
   ]
  },
  {
   "cell_type": "code",
   "execution_count": 14,
   "metadata": {},
   "outputs": [
    {
     "name": "stdout",
     "output_type": "stream",
     "text": [
      "4377 3489973\n",
      "0.9987458355695016 0.0012541644304984595 0.710698048380317\n"
     ]
    }
   ],
   "source": [
    "n_avail = len(total_num_obs[is_available&is_bright])\n",
    "n_avail_and_observed = np.count_nonzero(total_num_obs[is_available&is_bright]!=0)\n",
    "n_avail_always_observed = np.count_nonzero(total_num_obs[is_available&is_bright]==15)\n",
    "n_avail_never_observed = np.count_nonzero(total_num_obs[is_available&is_bright]==0)\n",
    "print(n_avail_never_observed, n_avail)\n",
    "print(n_avail_and_observed/n_avail, n_avail_never_observed/n_avail,  n_avail_always_observed/n_avail)"
   ]
  },
  {
   "cell_type": "code",
   "execution_count": 32,
   "metadata": {},
   "outputs": [
    {
     "name": "stdout",
     "output_type": "stream",
     "text": [
      "0.6057545246201711 0.3942454753798289 0.2633433705359488\n"
     ]
    }
   ],
   "source": []
  },
  {
   "cell_type": "code",
   "execution_count": 26,
   "metadata": {},
   "outputs": [
    {
     "name": "stdout",
     "output_type": "stream",
     "text": [
      "226467 QSOs in total\n",
      "4051 QSOs were missed\n"
     ]
    }
   ],
   "source": [
    "missed_qsos = (data['NAVAIL_FIBER']!=0) & (data['isQSO']) & (data['NUMOBS']==0)\n",
    "print('{} QSOs in total'.format(np.count_nonzero(data['isQSO'])))\n",
    "print('{} QSOs were missed'.format(np.count_nonzero(missed_qsos)))"
   ]
  },
  {
   "cell_type": "code",
   "execution_count": 27,
   "metadata": {},
   "outputs": [
    {
     "data": {
      "text/plain": [
       "Text(0.5,1,'Spatial distribution of missed QSOs')"
      ]
     },
     "execution_count": 27,
     "metadata": {},
     "output_type": "execute_result"
    },
    {
     "data": {
      "image/png": "[encoded data removed]",
      "text/plain": [
       "<matplotlib.figure.Figure at 0x2aaad87f1eb8>"
      ]
     },
     "metadata": {
      "needs_background": "light"
     },
     "output_type": "display_data"
    }
   ],
   "source": [
    "plt.scatter(data['RA'][missed_qsos], data['DEC'][missed_qsos], s=0.1)\n",
    "plt.xlabel('RA [deg]')\n",
    "plt.ylabel('DEC [deg]')\n",
    "plt.title('Spatial distribution of missed QSOs')"
   ]
  },
  {
   "cell_type": "code",
   "execution_count": 28,
   "metadata": {},
   "outputs": [
    {
     "name": "stdout",
     "output_type": "stream",
     "text": [
      "4.225332387715345\n",
      "2.531226857566033\n"
     ]
    },
    {
     "data": {
      "image/png": "[encoded data removed]",
      "text/plain": [
       "<matplotlib.figure.Figure at 0x2aaae0076ef0>"
      ]
     },
     "metadata": {
      "needs_background": "light"
     },
     "output_type": "display_data"
    }
   ],
   "source": [
    "plt.hist(data['NAVAIL_FIBER'][data['isQSO']&(data['NAVAIL_FIBER']>0)], \n",
    "         bins=np.linspace(0,12,13),normed=True,histtype='step', linewidth=5, label='ALL QSOs')\n",
    "plt.hist(data['NAVAIL_FIBER'][missed_qsos], \n",
    "         bins=np.linspace(0,12,13),normed=True, histtype='step', linewidth=2, label='MISSED QSOs')\n",
    "plt.xlabel(\"NAVAIL_FIBER\")\n",
    "plt.ylabel(\"PDF\")\n",
    "plt.title(\"NAVAIL_FIBER FOR QSOs\")\n",
    "plt.legend()\n",
    "print(np.mean(data['NAVAIL_FIBER'][data['isQSO']&(data['NAVAIL_FIBER']>0)]))\n",
    "print(np.mean(data['NAVAIL_FIBER'][missed_qsos]))"
   ]
  },
  {
   "cell_type": "code",
   "execution_count": 13,
   "metadata": {},
   "outputs": [
    {
     "name": "stdout",
     "output_type": "stream",
     "text": [
      "4.156800248938676\n",
      "2.494327390599676\n"
     ]
    },
    {
     "data": {
      "image/png": "[encoded data removed]",
      "text/plain": [
       "<matplotlib.figure.Figure at 0x2aaad7af6940>"
      ]
     },
     "metadata": {
      "needs_background": "light"
     },
     "output_type": "display_data"
    }
   ],
   "source": [
    "plt.hist(data['NAVAIL_TILE'][data['isQSO']&(data['NAVAIL_TILE']>0)], \n",
    "         bins=np.linspace(0,10,11),normed=True,histtype='step', linewidth=5, label='ALL QSOs')\n",
    "plt.hist(data['NAVAIL_TILE'][missed_qsos], \n",
    "         bins=np.linspace(0,10,11),normed=True, histtype='step', linewidth=2, label='MISSED QSOs')\n",
    "plt.xlabel(\"NAVAIL_TILE\")\n",
    "plt.ylabel(\"PDF\")\n",
    "plt.title(\"NAVAIL_TILE FOR QSOs\")\n",
    "plt.legend()\n",
    "print(np.mean(data['NAVAIL_TILE'][data['isQSO']&(data['NAVAIL_TILE']>0)]))\n",
    "print(np.mean(data['NAVAIL_TILE'][missed_qsos]))"
   ]
  },
  {
   "cell_type": "code",
   "execution_count": null,
   "metadata": {},
   "outputs": [],
   "source": []
  }
 ],
 "metadata": {
  "kernelspec": {
   "display_name": "DESI master",
   "language": "python",
   "name": "desi-master"
  },
  "language_info": {
   "codemirror_mode": {
    "name": "ipython",
    "version": 3
   },
   "file_extension": ".py",
   "mimetype": "text/x-python",
   "name": "python",
   "nbconvert_exporter": "python",
   "pygments_lexer": "ipython3",
   "version": "3.6.6"
  }
 },
 "nbformat": 4,
 "nbformat_minor": 4
}
