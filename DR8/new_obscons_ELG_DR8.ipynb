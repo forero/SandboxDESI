{
 "cells": [
  {
   "cell_type": "code",
   "execution_count": 2,
   "metadata": {},
   "outputs": [],
   "source": [
    "import numpy as np\n",
    "from astropy.table import Table\n",
    "import matplotlib.pyplot as plt\n",
    "from desitarget.targetmask import desi_mask, bgs_mask\n",
    "from collections import Counter"
   ]
  },
  {
   "cell_type": "code",
   "execution_count": 3,
   "metadata": {},
   "outputs": [],
   "source": [
    "targets = Table.read('targets/cut_dark_north.fits')\n",
    "tiles = Table.read('footprint/tiles_cut_dark_north.fits')"
   ]
  },
  {
   "cell_type": "code",
   "execution_count": 21,
   "metadata": {},
   "outputs": [
    {
     "name": "stdout",
     "output_type": "stream",
     "text": [
      "2038825 3902588\n",
      "2037983\n",
      "{1, 2}\n"
     ]
    }
   ],
   "source": [
    "isELG = (targets['DESI_TARGET']&desi_mask['ELG'])!=0\n",
    "print(np.count_nonzero(isELG), len(targets))\n",
    "print(np.count_nonzero(targets['OBSCONDITIONS'][isELG]==3))\n",
    "print(set(tiles['OBSCONDITIONS']))\n",
    "gray_obsconditions = 2\n",
    "dark_obsconditions = 1\n",
    "dark_or_gray_obsconditions = gray_obsconditions | dark_obsconditions"
   ]
  },
  {
   "cell_type": "code",
   "execution_count": 20,
   "metadata": {},
   "outputs": [
    {
     "data": {
      "text/plain": [
       "3"
      ]
     },
     "execution_count": 20,
     "metadata": {},
     "output_type": "execute_result"
    }
   ],
   "source": [
    "gray_obsconditions|dark_obsconditions"
   ]
  },
  {
   "cell_type": "code",
   "execution_count": 22,
   "metadata": {},
   "outputs": [],
   "source": [
    "r = np.random.random(len(targets))\n",
    "rr = r<0.30"
   ]
  },
  {
   "cell_type": "code",
   "execution_count": 23,
   "metadata": {},
   "outputs": [],
   "source": [
    "to_gray = isELG & rr\n",
    "to_dark = isELG & (~rr)\n",
    "targets['OBSCONDITIONS'][to_gray] = gray_obsconditions\n",
    "targets['OBSCONDITIONS'][to_dark] = dark_obsconditions"
   ]
  },
  {
   "cell_type": "code",
   "execution_count": 24,
   "metadata": {},
   "outputs": [],
   "source": [
    "targets.write('targets/cut_dark_north_elg_30_gray_70_dark.fits')"
   ]
  },
  {
   "cell_type": "code",
   "execution_count": null,
   "metadata": {},
   "outputs": [],
   "source": []
  }
 ],
 "metadata": {
  "kernelspec": {
   "display_name": "DESI master",
   "language": "python",
   "name": "desi-master"
  },
  "language_info": {
   "codemirror_mode": {
    "name": "ipython",
    "version": 3
   },
   "file_extension": ".py",
   "mimetype": "text/x-python",
   "name": "python",
   "nbconvert_exporter": "python",
   "pygments_lexer": "ipython3",
   "version": "3.6.6"
  }
 },
 "nbformat": 4,
 "nbformat_minor": 4
}
