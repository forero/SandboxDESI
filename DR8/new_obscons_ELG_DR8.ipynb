{
 "cells": [
  {
   "cell_type": "code",
   "execution_count": 1,
   "metadata": {},
   "outputs": [],
   "source": [
    "import numpy as np\n",
    "from astropy.table import Table\n",
    "import matplotlib.pyplot as plt\n",
    "from desitarget.targetmask import desi_mask, bgs_mask\n",
    "from collections import Counter"
   ]
  },
  {
   "cell_type": "code",
   "execution_count": 2,
   "metadata": {},
   "outputs": [],
   "source": [
    "targets = Table.read('targets/cut_dark_north.fits')\n",
    "tiles = Table.read('footprint/tiles_cut_dark_north.fits')"
   ]
  },
  {
   "cell_type": "code",
   "execution_count": 3,
   "metadata": {},
   "outputs": [
    {
     "name": "stdout",
     "output_type": "stream",
     "text": [
      "2038825 3902588\n",
      "2037983\n",
      "{1, 2}\n"
     ]
    }
   ],
   "source": [
    "isELG = (targets['DESI_TARGET']&desi_mask['ELG'])!=0\n",
    "print(np.count_nonzero(isELG), len(targets))\n",
    "print(np.count_nonzero(targets['OBSCONDITIONS'][isELG]==3))\n",
    "print(set(tiles['OBSCONDITIONS']))\n",
    "gray_obsconditions = 2\n",
    "dark_obsconditions = 1\n",
    "dark_or_gray_obsconditions = gray_obsconditions | dark_obsconditions"
   ]
  },
  {
   "cell_type": "code",
   "execution_count": 4,
   "metadata": {},
   "outputs": [
    {
     "data": {
      "text/plain": [
       "3"
      ]
     },
     "execution_count": 4,
     "metadata": {},
     "output_type": "execute_result"
    }
   ],
   "source": [
    "gray_obsconditions|dark_obsconditions"
   ]
  },
  {
   "cell_type": "code",
   "execution_count": 5,
   "metadata": {},
   "outputs": [],
   "source": [
    "r = np.random.random(len(targets))\n",
    "rr = r<0.30"
   ]
  },
  {
   "cell_type": "code",
   "execution_count": 6,
   "metadata": {},
   "outputs": [],
   "source": [
    "to_gray = isELG & rr\n",
    "to_dark = isELG & (~rr)\n",
    "targets['OBSCONDITIONS'][to_gray] = gray_obsconditions\n",
    "targets['OBSCONDITIONS'][to_dark] = dark_obsconditions"
   ]
  },
  {
   "cell_type": "code",
   "execution_count": 7,
   "metadata": {},
   "outputs": [],
   "source": [
    "#targets.write('targets/cut_dark_north_elg_30_gray_70_dark.fits')"
   ]
  },
  {
   "cell_type": "code",
   "execution_count": 8,
   "metadata": {},
   "outputs": [],
   "source": [
    "import scipy.spatial"
   ]
  },
  {
   "cell_type": "code",
   "execution_count": 9,
   "metadata": {},
   "outputs": [],
   "source": [
    "theta = np.deg2rad(90.0-targets['DEC'])\n",
    "phi = np.deg2rad(-targets['RA'])\n",
    "position = np.zeros([len(targets), 3])"
   ]
  },
  {
   "cell_type": "code",
   "execution_count": 10,
   "metadata": {},
   "outputs": [],
   "source": [
    "position[:,0] = np.cos(phi) * np.sin(theta)\n",
    "position[:,1] = np.sin(phi) * np.sin(theta)\n",
    "position[:,2] = np.cos(theta)\n"
   ]
  },
  {
   "cell_type": "code",
   "execution_count": 11,
   "metadata": {},
   "outputs": [
    {
     "data": {
      "text/plain": [
       "array([-0.96659311,  0.19313524, -0.16851274])"
      ]
     },
     "execution_count": 11,
     "metadata": {},
     "output_type": "execute_result"
    }
   ],
   "source": [
    "position[10,:]"
   ]
  },
  {
   "cell_type": "code",
   "execution_count": 12,
   "metadata": {},
   "outputs": [],
   "source": [
    "kd = scipy.spatial.KDTree(position, leafsize=10)"
   ]
  },
  {
   "cell_type": "code",
   "execution_count": 13,
   "metadata": {},
   "outputs": [
    {
     "name": "stdout",
     "output_type": "stream",
     "text": [
      "0.000727220521664304 0.0001454441043328608\n"
     ]
    }
   ],
   "source": [
    "fiber_separation = np.deg2rad(150.0/60.0/60.0)\n",
    "ferrule_size = np.deg2rad(30.0/60.0/60.0)\n",
    "print(fiber_separation, ferrule_size)"
   ]
  },
  {
   "cell_type": "code",
   "execution_count": 14,
   "metadata": {},
   "outputs": [],
   "source": [
    "neigh_fiber = kd.count_neighbors(kd, fiber_separation)"
   ]
  },
  {
   "cell_type": "code",
   "execution_count": 15,
   "metadata": {},
   "outputs": [
    {
     "data": {
      "text/plain": [
       "112044790"
      ]
     },
     "execution_count": 15,
     "metadata": {},
     "output_type": "execute_result"
    }
   ],
   "source": [
    "neigh_fiber"
   ]
  },
  {
   "cell_type": "code",
   "execution_count": 16,
   "metadata": {},
   "outputs": [
    {
     "data": {
      "text/plain": [
       "<matplotlib.collections.PathCollection at 0x2aaaff772b00>"
      ]
     },
     "execution_count": 16,
     "metadata": {},
     "output_type": "execute_result"
    },
    {
     "data": {
      "image/png": "[encoded data removed]",
      "text/plain": [
       "<matplotlib.figure.Figure at 0x2aaaff765908>"
      ]
     },
     "metadata": {
      "needs_background": "light"
     },
     "output_type": "display_data"
    }
   ],
   "source": [
    "plt.scatter(phi[:20000], theta[:20000])"
   ]
  },
  {
   "cell_type": "code",
   "execution_count": null,
   "metadata": {},
   "outputs": [],
   "source": []
  }
 ],
 "metadata": {
  "kernelspec": {
   "display_name": "DESI master",
   "language": "python",
   "name": "desi-master"
  },
  "language_info": {
   "codemirror_mode": {
    "name": "ipython",
    "version": 3
   },
   "file_extension": ".py",
   "mimetype": "text/x-python",
   "name": "python",
   "nbconvert_exporter": "python",
   "pygments_lexer": "ipython3",
   "version": "3.6.6"
  }
 },
 "nbformat": 4,
 "nbformat_minor": 4
}
