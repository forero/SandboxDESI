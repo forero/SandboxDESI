{
 "cells": [
  {
   "cell_type": "code",
   "execution_count": 1,
   "metadata": {},
   "outputs": [],
   "source": [
    "import fitsio\n",
    "import numpy as np\n",
    "import matplotlib.pyplot as plt\n",
    "import json\n",
    "from desitarget.targetmask import desi_mask, bgs_mask, mws_mask\n",
    "import glob\n",
    "from collections import Counter\n",
    "from astropy.table import Table\n",
    "plt.rcParams.update({'font.size': 15})"
   ]
  },
  {
   "cell_type": "code",
   "execution_count": 2,
   "metadata": {},
   "outputs": [],
   "source": [
    "def join_fba_targets(program=\"bright\", hemisphere=\"south\"):\n",
    "    # read and sort targets\n",
    "    targetdata = fitsio.read(\"targets/{}_{}.fits\".format(program, hemisphere))\n",
    "    targetdata = np.sort(targetdata, order='TARGETID')\n",
    "    \n",
    "    # list fba files\n",
    "    fba_files = glob.glob(\"fba_{}_{}/fba-*.fits\".format(program, hemisphere))\n",
    "    \n",
    "    # read fba files and list assigned and available targets\n",
    "    t_assigned = []\n",
    "    t_avail = []\n",
    "    for fba_file in fba_files:\n",
    "        fassign = fitsio.read(fba_file, ext=\"FASSIGN\")\n",
    "        favail = fitsio.read(fba_file, ext=\"FAVAIL\")\n",
    "        t_assigned.append(fassign[\"TARGETID\"])\n",
    "        t_avail.append(favail[\"TARGETID\"])\n",
    "        \n",
    "    targetid_assigned = np.concatenate(t_assigned)\n",
    "    targetid_available = np.concatenate(t_avail)\n",
    "    \n",
    "    # count the assigned targets\n",
    "    counter_assigned = Counter(targetid_assigned)    \n",
    "    \n",
    "    # find the ids and counts of the assigned targets\n",
    "    id_assigned = np.array(list(counter_assigned.keys()))\n",
    "    count_assigned = np.array(list(counter_assigned.values()))\n",
    "\n",
    "    # sort the previous two lists by the target id\n",
    "    ii = np.argsort(id_assigned)\n",
    "    id_assigned = id_assigned[ii]\n",
    "    count_assigned = count_assigned[ii]\n",
    "\n",
    "    # trim the assigned targets to those in the input target data. this discards sky.\n",
    "    is_target = np.isin(id_assigned, targetdata['TARGETID'])\n",
    "    id_assigned = id_assigned[is_target]\n",
    "    count_assigned = count_assigned[is_target]\n",
    "\n",
    "    # new array of the same size as the input targets, will be filled with the \n",
    "    # number of times the target is assigned\n",
    "    n_assigned = np.zeros(len(targetdata), dtype=int)\n",
    "    ii = np.isin(targetdata['TARGETID'], id_assigned)\n",
    "    n_assigned[ii] = count_assigned\n",
    "    \n",
    "    # new boolean array the same size as the input targets.\n",
    "    # this tells me whether the target was available at all to the fibers.\n",
    "    is_available = np.zeros(len(targetdata), dtype=bool)\n",
    "    id_available = np.isin(targetdata['TARGETID'], targetid_available)\n",
    "    is_available[id_available] = True\n",
    "    \n",
    "    # types of targets\n",
    "    types = {'isELG':desi_mask['ELG'],\n",
    "        'isLRG':desi_mask['LRG'],\n",
    "        'isQSO':desi_mask['QSO'],\n",
    "        'isBGS_ANY':desi_mask['BGS_ANY'],\n",
    "        'isMWS_ANY':desi_mask['MWS_ANY']}\n",
    "    \n",
    "    # True or false depending on the type of target\n",
    "    masks = {}\n",
    "    for t, m in zip(types.keys(), types.values()):\n",
    "        ii = (targetdata['DESI_TARGET']&m)!=0\n",
    "        print(t, np.count_nonzero(ii))\n",
    "        masks[t] = ii\n",
    "        \n",
    "    # convert to table and extend to write the final file to disk\n",
    "    targettable = Table(targetdata)\n",
    "    targettable['NUM_OBS']= n_assigned\n",
    "    targettable['AVAIL'] = is_available\n",
    "    for m in masks.keys():\n",
    "        targettable[m] = masks[m]\n",
    "    filename = \"fba_summary_{}_{}.fits\".format(program, hemisphere)\n",
    "    print('Writing to {}'.format(filename))\n",
    "    targettable.write(filename, overwrite=True)\n",
    "    print('Done writing to {}'.format(filename))\n"
   ]
  },
  {
   "cell_type": "code",
   "execution_count": 3,
   "metadata": {},
   "outputs": [
    {
     "name": "stdout",
     "output_type": "stream",
     "text": [
      "isELG 11123\n",
      "isLRG 787915\n",
      "isQSO 281175\n",
      "isBGS_ANY 12265879\n",
      "isMWS_ANY 15488770\n",
      "Writing to fba_summary_bright_south.fits\n",
      "Done writing to fba_summary_bright_south.fits\n"
     ]
    }
   ],
   "source": [
    "join_fba_targets(program=\"bright\", hemisphere=\"south\")"
   ]
  },
  {
   "cell_type": "code",
   "execution_count": 4,
   "metadata": {},
   "outputs": [
    {
     "name": "stdout",
     "output_type": "stream",
     "text": [
      "isELG 20435492\n",
      "isLRG 4400531\n",
      "isQSO 2516906\n",
      "isBGS_ANY 5440783\n",
      "isMWS_ANY 15488770\n",
      "Writing to fba_summary_dark_gray_south.fits\n",
      "Done writing to fba_summary_dark_gray_south.fits\n"
     ]
    }
   ],
   "source": [
    "join_fba_targets(program=\"dark_gray\", hemisphere=\"south\")"
   ]
  },
  {
   "cell_type": "code",
   "execution_count": 5,
   "metadata": {},
   "outputs": [
    {
     "name": "stdout",
     "output_type": "stream",
     "text": [
      "isELG 26821024\n",
      "isLRG 4636222\n",
      "isQSO 3078682\n",
      "isBGS_ANY 6789026\n",
      "isMWS_ANY 21605740\n",
      "Writing to fba_summary_dark_gray_north.fits\n",
      "Done writing to fba_summary_dark_gray_north.fits\n"
     ]
    }
   ],
   "source": [
    "join_fba_targets(program=\"dark_gray\", hemisphere=\"north\")"
   ]
  },
  {
   "cell_type": "code",
   "execution_count": 6,
   "metadata": {},
   "outputs": [
    {
     "name": "stdout",
     "output_type": "stream",
     "text": [
      "isELG 8305\n",
      "isLRG 871982\n",
      "isQSO 359260\n",
      "isBGS_ANY 15321633\n",
      "isMWS_ANY 21605740\n",
      "Writing to fba_summary_bright_north.fits\n",
      "Done writing to fba_summary_bright_north.fits\n"
     ]
    }
   ],
   "source": [
    "join_fba_targets(program=\"bright\", hemisphere=\"north\")"
   ]
  },
  {
   "cell_type": "code",
   "execution_count": null,
   "metadata": {},
   "outputs": [],
   "source": []
  }
 ],
 "metadata": {
  "kernelspec": {
   "display_name": "DESI master",
   "language": "python",
   "name": "desi-master"
  },
  "language_info": {
   "codemirror_mode": {
    "name": "ipython",
    "version": 3
   },
   "file_extension": ".py",
   "mimetype": "text/x-python",
   "name": "python",
   "nbconvert_exporter": "python",
   "pygments_lexer": "ipython3",
   "version": "3.6.6"
  }
 },
 "nbformat": 4,
 "nbformat_minor": 4
}
