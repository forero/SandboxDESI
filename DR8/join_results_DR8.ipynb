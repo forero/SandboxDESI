{
 "cells": [
  {
   "cell_type": "code",
   "execution_count": 1,
   "metadata": {},
   "outputs": [],
   "source": [
    "import fitsio\n",
    "import numpy as np\n",
    "import matplotlib.pyplot as plt\n",
    "import json\n",
    "from desitarget.targetmask import desi_mask, bgs_mask, mws_mask\n",
    "import glob\n",
    "from collections import Counter\n",
    "from astropy.table import Table\n",
    "plt.rcParams.update({'font.size': 15})"
   ]
  },
  {
   "cell_type": "code",
   "execution_count": 2,
   "metadata": {},
   "outputs": [],
   "source": [
    "program=\"dark\"\n",
    "hemisphere=\"south\"\n",
    "path_to_data=\"./\""
   ]
  },
  {
   "cell_type": "code",
   "execution_count": 3,
   "metadata": {},
   "outputs": [],
   "source": [
    "# read and sort targets\n",
    "targetdata = fitsio.read(\"{}/targets/{}_{}.fits\".format(path_to_data, program, hemisphere))\n",
    "targetdata = np.sort(targetdata, order='TARGETID')"
   ]
  },
  {
   "cell_type": "code",
   "execution_count": 4,
   "metadata": {},
   "outputs": [
    {
     "name": "stdout",
     "output_type": "stream",
     "text": [
      "3085 fba_files to read\n",
      "finished reading fba files\n"
     ]
    }
   ],
   "source": [
    "# list fba files\n",
    "fba_files = glob.glob(\"fba_{}_{}/fba-*.fits\".format(program, hemisphere))\n",
    "print('{} fba_files to read'.format(len(fba_files)))\n",
    "# read fba files and list assigned and available targets\n",
    "t_assigned = []\n",
    "t_avail_fiber = []\n",
    "t_avail_tile = []\n",
    "for fba_file in fba_files[:1000]:\n",
    "    fassign = fitsio.read(fba_file, ext=\"FASSIGN\")\n",
    "    favail = fitsio.read(fba_file, ext=\"FAVAIL\")\n",
    "    t_assigned.append(fassign[\"TARGETID\"])\n",
    "    t_avail_fiber.append(favail[\"TARGETID\"])\n",
    "    t_avail_tile.append(list(set(favail[\"TARGETID\"])))\n",
    "print('finished reading fba files')\n",
    "targetid_assigned = np.concatenate(t_assigned)\n",
    "targetid_available_fiber = np.concatenate(t_avail_fiber)\n",
    "targetid_available_tile = np.concatenate(t_avail_tile)"
   ]
  },
  {
   "cell_type": "code",
   "execution_count": 5,
   "metadata": {},
   "outputs": [
    {
     "name": "stdout",
     "output_type": "stream",
     "text": [
      "finished counting targets\n"
     ]
    }
   ],
   "source": [
    "# count the assigned targets\n",
    "counter_assigned = Counter(targetid_assigned)    \n",
    "print('finished counting targets')"
   ]
  },
  {
   "cell_type": "code",
   "execution_count": null,
   "metadata": {},
   "outputs": [],
   "source": [
    "# count the available targets per fiber\n",
    "counter_available_fiber = Counter(targetid_available_fiber)"
   ]
  },
  {
   "cell_type": "code",
   "execution_count": null,
   "metadata": {},
   "outputs": [],
   "source": [
    "# count the available targets per fiber\n",
    "counter_available_tile = Counter(targetid_available_tile)"
   ]
  },
  {
   "cell_type": "code",
   "execution_count": null,
   "metadata": {},
   "outputs": [],
   "source": [
    "# find the ids and counts of the assigned targets\n",
    "id_assigned = np.array(list(counter_assigned.keys()))\n",
    "count_assigned = np.array(list(counter_assigned.values()))"
   ]
  },
  {
   "cell_type": "code",
   "execution_count": null,
   "metadata": {},
   "outputs": [],
   "source": [
    "# find the ids and counts of the available targets per fiber\n",
    "id_available_fiber = np.array(list(counter_available_fiber.keys()))\n",
    "count_available_fiber = np.array(list(counter_available_fiber.values()))"
   ]
  },
  {
   "cell_type": "code",
   "execution_count": null,
   "metadata": {},
   "outputs": [],
   "source": [
    "# find the ids and counts of the available targets per tile\n",
    "id_available_tile = np.array(list(counter_available_tile.keys()))\n",
    "count_available_tile = np.array(list(counter_available_tile.values()))"
   ]
  },
  {
   "cell_type": "code",
   "execution_count": null,
   "metadata": {},
   "outputs": [],
   "source": [
    "plt.hist(count_available_fiber, log=True)\n",
    "plt.hist(count_available_tile, log=True)"
   ]
  },
  {
   "cell_type": "code",
   "execution_count": null,
   "metadata": {},
   "outputs": [],
   "source": [
    "# sort the previous tgree lists by the target id\n",
    "ii = np.argsort(id_assigned)\n",
    "id_assigned = id_assigned[ii]\n",
    "count_assigned = count_assigned[ii]\n",
    "\n",
    "ii = np.argsort(id_available_fiber)\n",
    "id_available_fiber = id_available_fiber[ii]\n",
    "count_available_fiber = count_available_fiber[ii]\n",
    "\n",
    "ii = np.argsort(id_available_tile)\n",
    "id_available_tile = id_available_tile[ii]\n",
    "count_available_tile = count_available_tile[ii]"
   ]
  },
  {
   "cell_type": "code",
   "execution_count": null,
   "metadata": {},
   "outputs": [],
   "source": [
    "# trim the targets in these lits to those in the input target data. this discards sky.\n",
    "is_target = np.isin(id_assigned, targetdata['TARGETID'])\n",
    "id_assigned = id_assigned[is_target]\n",
    "count_assigned = count_assigned[is_target]\n",
    "\n",
    "is_target = np.isin(id_available_fiber, targetdata['TARGETID'])\n",
    "id_available_fiber = id_available_fiber[is_target]\n",
    "count_available_fiber = count_available_fiber[is_target]\n",
    "\n",
    "is_target = np.isin(id_available_tile, targetdata['TARGETID'])\n",
    "id_available_tile = id_available_tile[is_target]\n",
    "count_available_tile = count_available_tile[is_target]"
   ]
  },
  {
   "cell_type": "code",
   "execution_count": null,
   "metadata": {},
   "outputs": [],
   "source": [
    "# new array of the same size as the input targets, will be filled with the \n",
    "# number of times the target is assigned\n",
    "n_assigned = np.zeros(len(targetdata), dtype=int)\n",
    "ii = np.isin(targetdata['TARGETID'], id_assigned)\n",
    "n_assigned[ii] = count_assigned"
   ]
  },
  {
   "cell_type": "code",
   "execution_count": null,
   "metadata": {},
   "outputs": [],
   "source": [
    "# new array of the same size as the input targets, will be filled with the \n",
    "# number of times the target is available to a fiber\n",
    "n_available_fiber = np.zeros(len(targetdata), dtype=int)\n",
    "ii = np.isin(targetdata['TARGETID'], id_available_fiber)\n",
    "n_available_fiber[ii] = count_available_fiber"
   ]
  },
  {
   "cell_type": "code",
   "execution_count": null,
   "metadata": {},
   "outputs": [],
   "source": [
    "# new array of the same size as the input targets, will be filled with the \n",
    "# number of times the target is available to a tile\n",
    "n_available_tile = np.zeros(len(targetdata), dtype=int)\n",
    "ii = np.isin(targetdata['TARGETID'], id_available_tile)\n",
    "n_available_tile[ii] = count_available_tile"
   ]
  },
  {
   "cell_type": "code",
   "execution_count": null,
   "metadata": {},
   "outputs": [],
   "source": [
    "_ = plt.hist(n_available_fiber, bins=np.linspace(0,10,11), log=True)\n",
    "_ = plt.hist(n_available_tile, bins=np.linspace(0,10,11), log=True)"
   ]
  },
  {
   "cell_type": "code",
   "execution_count": null,
   "metadata": {},
   "outputs": [],
   "source": [
    "set(n_available_fiber[n_available_tile==3])"
   ]
  },
  {
   "cell_type": "code",
   "execution_count": null,
   "metadata": {},
   "outputs": [],
   "source": [
    "# types of targets\n",
    "types = {'isELG':desi_mask['ELG'],\n",
    "        'isLRG':desi_mask['LRG'],\n",
    "        'isQSO':desi_mask['QSO'],\n",
    "        'isBGS_ANY':desi_mask['BGS_ANY'],\n",
    "        'isMWS_ANY':desi_mask['MWS_ANY']}\n",
    "    \n",
    "print('assigning target types')\n",
    "# True or false depending on the type of target\n",
    "masks = {}\n",
    "for t, m in zip(types.keys(), types.values()):\n",
    "    ii = (targetdata['DESI_TARGET']&m)!=0\n",
    "    print(t, np.count_nonzero(ii))\n",
    "    masks[t] = ii"
   ]
  },
  {
   "cell_type": "code",
   "execution_count": null,
   "metadata": {},
   "outputs": [],
   "source": [
    "# convert to table and extend to write the final file to disk\n",
    "targettable = Table(targetdata)\n",
    "targettable['NOBS']= n_assigned\n",
    "targettable['NAVAIL_FIBER'] = n_available_fiber\n",
    "targettable['NAVAIL_TILE'] = n_available_tile\n",
    "\n",
    "for m in masks.keys():\n",
    "    targettable[m] = masks[m]\n",
    "        \n",
    "print('finished table')\n",
    "#print('Writing to {}'.format(summary_filename))\n",
    "#targettable.write(summary_filename, overwrite=True)\n",
    "#print('Done writing to {}'.format(summary_filename))"
   ]
  },
  {
   "cell_type": "code",
   "execution_count": null,
   "metadata": {},
   "outputs": [],
   "source": [
    "targettable"
   ]
  },
  {
   "cell_type": "code",
   "execution_count": null,
   "metadata": {},
   "outputs": [],
   "source": []
  }
 ],
 "metadata": {
  "kernelspec": {
   "display_name": "DESI master",
   "language": "python",
   "name": "desi-master"
  },
  "language_info": {
   "codemirror_mode": {
    "name": "ipython",
    "version": 3
   },
   "file_extension": ".py",
   "mimetype": "text/x-python",
   "name": "python",
   "nbconvert_exporter": "python",
   "pygments_lexer": "ipython3",
   "version": "3.6.6"
  }
 },
 "nbformat": 4,
 "nbformat_minor": 4
}
