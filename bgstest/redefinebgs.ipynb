{
 "cells": [
  {
   "cell_type": "code",
   "execution_count": 91,
   "metadata": {},
   "outputs": [],
   "source": [
    "import fitsio\n",
    "import matplotlib.pyplot as plt\n",
    "import numpy as np\n",
    "from astropy.table import Table\n",
    "from desitarget.sv1 import sv1_targetmask\n",
    "\n",
    "#1. BGS MAIN: \n",
    "#(RMAG < 19.5) \n",
    "#This is the same as the previous nominal BGS main/bright\n",
    "\n",
    "#2. BGS FAINT: \n",
    "#66% of targets with (19.5 < R_MAG < 20.0) & (RFIBER_COLOR_CUT)\n",
    "#where\n",
    "#RFIBER_COLOR_CUT = (RFIBER < 20.75) or ( (RFIBER < 21.5) & (COLOR > 0) )\n",
    "#COLOR = (Z_MAG - W1_MAG) - 3/2.5 * (G_MAG - R_MAG) + 1.2\n",
    "#These targets are lower priority than 1. BGS MAIN\n",
    "\n",
    "#3. BGS FAINT HIP: \n",
    "#33% of targets with the same selection as above with the same\n",
    "#high priority as 1. BGS MAIN. "
   ]
  },
  {
   "cell_type": "code",
   "execution_count": 92,
   "metadata": {},
   "outputs": [
    {
     "name": "stdout",
     "output_type": "stream",
     "text": [
      "1198252\n"
     ]
    }
   ],
   "source": [
    "data = Table.read(\"targets/mtl_bright_sv1_onepct.fits\")\n",
    "print(len(data))"
   ]
  },
  {
   "cell_type": "code",
   "execution_count": 95,
   "metadata": {},
   "outputs": [],
   "source": [
    "def BGS(indata, datafile='test.fits'):\n",
    "    data = indata.copy()\n",
    "    flux_r = data[\"FLUX_R\"]/data[\"MW_TRANSMISSION_R\"]\n",
    "    flux_g = data[\"FLUX_G\"]/data[\"MW_TRANSMISSION_G\"]\n",
    "    flux_z = data[\"FLUX_Z\"]/data[\"MW_TRANSMISSION_Z\"]\n",
    "    flux_W1 = data[\"FLUX_W1\"]/data[\"MW_TRANSMISSION_W1\"]\n",
    "    flux_W2 = data[\"FLUX_W2\"]/data[\"MW_TRANSMISSION_W2\"]\n",
    "    fiber_r = data[\"FIBERFLUX_R\"]/data[\"MW_TRANSMISSION_R\"]\n",
    "\n",
    "    gmag = 22.5 - 2.5 * np.log10(flux_g.clip(1e-7))\n",
    "    rmag = 22.5 - 2.5 * np.log10(flux_r.clip(1e-7))\n",
    "    zmag = 22.5 - 2.5 * np.log10(flux_z.clip(1e-7))\n",
    "    w1mag = 22.5 - 2.5 * np.log10(flux_W1.clip(1e-7))\n",
    "    w2mag = 22.5 - 2.5 * np.log10(flux_W2.clip(1e-7))\n",
    "    rfibermag = 22.5 - 2.5 * np.log10(fiber_r.clip(1e-7))\n",
    "    \n",
    "    rr = np.random.random(len(data))\n",
    "    \n",
    "    is_bgs_main  = rmag < 19.5\n",
    "    \n",
    "    color = (zmag - w1mag) - 3.0/2.5 * (gmag - rmag) + 1.2\n",
    "    rfiber_color_cut = (rfibermag < 20.75) | ((rfibermag < 21.5) & (color>0))\n",
    "    \n",
    "    is_bgs_faint = (rmag>19.5) & (rmag<20.0) & (rfiber_color_cut) & (rr < 0.66)\n",
    "\n",
    "    is_bgs_hip = (rmag>19.5) & (rmag<20.0) & (rfiber_color_cut) & (~(rr < 0.66))\n",
    "    \n",
    "    is_bgs = is_bgs_main | is_bgs_faint | is_bgs_hip\n",
    "    \n",
    "    print(np.count_nonzero(is_bgs_main), np.count_nonzero(is_bgs_faint), np.count_nonzero(is_bgs_hip))\n",
    "    was_bgs = (data['SV1_DESI_TARGET']&sv1_targetmask.desi_mask['BGS_ANY'])!=0\n",
    "    data['PRIORITY_INIT'][was_bgs]=0\n",
    "    data['PRIORITY'][was_bgs]=0\n",
    "    data['NUMOBS_MORE'][was_bgs]=0\n",
    "    data['NUMOBS_INIT'][was_bgs]=0\n",
    "    \n",
    "    data['PRIORITY_INIT'][is_bgs_faint] = 2000\n",
    "    data['PRIORITY'][is_bgs_faint] = 2000\n",
    "    data['PRIORITY_INIT'][is_bgs_hip] = 2100\n",
    "    data['PRIORITY'][is_bgs_hip] = 2100\n",
    "    data['PRIORITY_INIT'][is_bgs_main] = 2100\n",
    "    data['PRIORITY'][is_bgs_main] = 2100\n",
    "    data['NUMOBS_MORE'][is_bgs] = 1\n",
    "    data['NUMOBS_INIT'][is_bgs] = 1\n",
    "\n",
    "    ii = (data['SV1_DESI_TARGET']&sv1_targetmask.desi_mask['BGS_ANY'])!=0\n",
    "    print(np.count_nonzero(ii), np.count_nonzero(is_bgs))\n",
    "    \n",
    "    data['SV1_BGS_TARGET'][~is_bgs] = 0\n",
    "    data['SV1_BGS_TARGET'][is_bgs_faint] = sv1_targetmask.bgs_mask['BGS_FAINT']\n",
    "    data['SV1_BGS_TARGET'][is_bgs_hip] = sv1_targetmask.bgs_mask['BGS_LOWQ']\n",
    "    data['SV1_BGS_TARGET'][is_bgs_main] = sv1_targetmask.bgs_mask['BGS_BRIGHT']\n",
    "    \n",
    "    data = data[~(~is_bgs & was_bgs)] # exclude everything that was bgs before but it's not BGS anymore\n",
    "    print(len(data))\n",
    "    print('writing to ', datafile)\n",
    "    data.write(datafile, overwrite=True)"
   ]
  },
  {
   "cell_type": "code",
   "execution_count": 96,
   "metadata": {},
   "outputs": [
    {
     "name": "stdout",
     "output_type": "stream",
     "text": [
      "587374 128429 66326\n",
      "873360 782129\n",
      "782236\n",
      "writing to  targets/mtl_bright_newbgs_sv1_onepct.fits\n"
     ]
    }
   ],
   "source": [
    "BGS(data, datafile='targets/mtl_bright_newbgs_sv1_onepct.fits')"
   ]
  },
  {
   "cell_type": "code",
   "execution_count": null,
   "metadata": {},
   "outputs": [],
   "source": []
  }
 ],
 "metadata": {
  "kernelspec": {
   "display_name": "DESI master",
   "language": "python",
   "name": "desi-master"
  },
  "language_info": {
   "codemirror_mode": {
    "name": "ipython",
    "version": 3
   },
   "file_extension": ".py",
   "mimetype": "text/x-python",
   "name": "python",
   "nbconvert_exporter": "python",
   "pygments_lexer": "ipython3",
   "version": "3.8.3"
  }
 },
 "nbformat": 4,
 "nbformat_minor": 4
}
