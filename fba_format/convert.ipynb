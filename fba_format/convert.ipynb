{
 "cells": [
  {
   "cell_type": "code",
   "execution_count": 40,
   "metadata": {},
   "outputs": [],
   "source": [
    "import fitsio\n",
    "import os"
   ]
  },
  {
   "cell_type": "code",
   "execution_count": 41,
   "metadata": {},
   "outputs": [
    {
     "data": {
      "text/plain": [
       "'1.1.2'"
      ]
     },
     "execution_count": 41,
     "metadata": {},
     "output_type": "execute_result"
    }
   ],
   "source": [
    "fitsio.__version__"
   ]
  },
  {
   "cell_type": "code",
   "execution_count": 45,
   "metadata": {},
   "outputs": [
    {
     "name": "stdout",
     "output_type": "stream",
     "text": [
      "\n"
     ]
    },
    {
     "name": "stderr",
     "output_type": "stream",
     "text": [
      "<ipython-input-45-1fd92be561bc>:30: DeprecationWarning: The keyword arguments '{'clobber': True}' are being ignored! This warning will be an error in a future version of `fitsio`!\n",
      "  fileout.write(None, header=header, extname=extname, clobber=True)\n"
     ]
    },
    {
     "ename": "RuntimeError",
     "evalue": "Cannot write None image at extension 5",
     "output_type": "error",
     "traceback": [
      "\u001b[0;31m---------------------------------------------------------------------------\u001b[0m",
      "\u001b[0;31mRuntimeError\u001b[0m                              Traceback (most recent call last)",
      "\u001b[0;32m<ipython-input-45-1fd92be561bc>\u001b[0m in \u001b[0;36m<module>\u001b[0;34m\u001b[0m\n\u001b[1;32m     28\u001b[0m     \u001b[0mprint\u001b[0m\u001b[0;34m(\u001b[0m\u001b[0;34m)\u001b[0m\u001b[0;34m\u001b[0m\u001b[0;34m\u001b[0m\u001b[0m\n\u001b[1;32m     29\u001b[0m     \u001b[0;32mif\u001b[0m \u001b[0;34m(\u001b[0m\u001b[0mextname\u001b[0m\u001b[0;34m==\u001b[0m\u001b[0;34m'PRIMARY'\u001b[0m\u001b[0;34m)\u001b[0m\u001b[0;34m:\u001b[0m\u001b[0;34m\u001b[0m\u001b[0;34m\u001b[0m\u001b[0m\n\u001b[0;32m---> 30\u001b[0;31m         \u001b[0mfileout\u001b[0m\u001b[0;34m.\u001b[0m\u001b[0mwrite\u001b[0m\u001b[0;34m(\u001b[0m\u001b[0;32mNone\u001b[0m\u001b[0;34m,\u001b[0m \u001b[0mheader\u001b[0m\u001b[0;34m=\u001b[0m\u001b[0mheader\u001b[0m\u001b[0;34m,\u001b[0m \u001b[0mextname\u001b[0m\u001b[0;34m=\u001b[0m\u001b[0mextname\u001b[0m\u001b[0;34m,\u001b[0m \u001b[0mclobber\u001b[0m\u001b[0;34m=\u001b[0m\u001b[0;32mTrue\u001b[0m\u001b[0;34m)\u001b[0m\u001b[0;34m\u001b[0m\u001b[0;34m\u001b[0m\u001b[0m\n\u001b[0m\u001b[1;32m     31\u001b[0m     \u001b[0;32melse\u001b[0m\u001b[0;34m:\u001b[0m\u001b[0;34m\u001b[0m\u001b[0;34m\u001b[0m\u001b[0m\n\u001b[1;32m     32\u001b[0m         \u001b[0mfileout\u001b[0m\u001b[0;34m.\u001b[0m\u001b[0mwrite\u001b[0m\u001b[0;34m(\u001b[0m\u001b[0mdata\u001b[0m\u001b[0;34m,\u001b[0m \u001b[0mheader\u001b[0m\u001b[0;34m=\u001b[0m\u001b[0mheader\u001b[0m\u001b[0;34m,\u001b[0m \u001b[0mextname\u001b[0m\u001b[0;34m=\u001b[0m\u001b[0mextname\u001b[0m\u001b[0;34m,\u001b[0m \u001b[0mclobber\u001b[0m\u001b[0;34m=\u001b[0m\u001b[0;32mTrue\u001b[0m\u001b[0;34m)\u001b[0m\u001b[0;34m\u001b[0m\u001b[0;34m\u001b[0m\u001b[0m\n",
      "\u001b[0;32m/global/common/software/desi/cori/desiconda/20200801-1.4.0-spec/conda/lib/python3.8/site-packages/fitsio/fitslib.py\u001b[0m in \u001b[0;36mwrite\u001b[0;34m(self, data, units, extname, extver, compress, tile_dims, header, names, table_type, write_bitcols, **keys)\u001b[0m\n\u001b[1;32m    620\u001b[0m \u001b[0;34m\u001b[0m\u001b[0m\n\u001b[1;32m    621\u001b[0m         \u001b[0;32mif\u001b[0m \u001b[0misimage\u001b[0m\u001b[0;34m:\u001b[0m\u001b[0;34m\u001b[0m\u001b[0;34m\u001b[0m\u001b[0m\n\u001b[0;32m--> 622\u001b[0;31m             self.write_image(data, extname=extname, extver=extver,\n\u001b[0m\u001b[1;32m    623\u001b[0m                              \u001b[0mcompress\u001b[0m\u001b[0;34m=\u001b[0m\u001b[0mcompress\u001b[0m\u001b[0;34m,\u001b[0m \u001b[0mtile_dims\u001b[0m\u001b[0;34m=\u001b[0m\u001b[0mtile_dims\u001b[0m\u001b[0;34m,\u001b[0m\u001b[0;34m\u001b[0m\u001b[0;34m\u001b[0m\u001b[0m\n\u001b[1;32m    624\u001b[0m                              header=header)\n",
      "\u001b[0;32m/global/common/software/desi/cori/desiconda/20200801-1.4.0-spec/conda/lib/python3.8/site-packages/fitsio/fitslib.py\u001b[0m in \u001b[0;36mwrite_image\u001b[0;34m(self, img, extname, extver, compress, tile_dims, header)\u001b[0m\n\u001b[1;32m    675\u001b[0m         \"\"\"\n\u001b[1;32m    676\u001b[0m \u001b[0;34m\u001b[0m\u001b[0m\n\u001b[0;32m--> 677\u001b[0;31m         self.create_image_hdu(img,\n\u001b[0m\u001b[1;32m    678\u001b[0m                               \u001b[0mheader\u001b[0m\u001b[0;34m=\u001b[0m\u001b[0mheader\u001b[0m\u001b[0;34m,\u001b[0m\u001b[0;34m\u001b[0m\u001b[0;34m\u001b[0m\u001b[0m\n\u001b[1;32m    679\u001b[0m                               \u001b[0mextname\u001b[0m\u001b[0;34m=\u001b[0m\u001b[0mextname\u001b[0m\u001b[0;34m,\u001b[0m \u001b[0mextver\u001b[0m\u001b[0;34m=\u001b[0m\u001b[0mextver\u001b[0m\u001b[0;34m,\u001b[0m\u001b[0;34m\u001b[0m\u001b[0;34m\u001b[0m\u001b[0m\n",
      "\u001b[0;32m/global/common/software/desi/cori/desiconda/20200801-1.4.0-spec/conda/lib/python3.8/site-packages/fitsio/fitslib.py\u001b[0m in \u001b[0;36mcreate_image_hdu\u001b[0;34m(self, img, dims, dtype, extname, extver, compress, tile_dims, header)\u001b[0m\n\u001b[1;32m    786\u001b[0m \u001b[0;34m\u001b[0m\u001b[0m\n\u001b[1;32m    787\u001b[0m             \u001b[0;32melse\u001b[0m\u001b[0;34m:\u001b[0m\u001b[0;34m\u001b[0m\u001b[0;34m\u001b[0m\u001b[0m\n\u001b[0;32m--> 788\u001b[0;31m                 \u001b[0mself\u001b[0m\u001b[0;34m.\u001b[0m\u001b[0m_ensure_empty_image_ok\u001b[0m\u001b[0;34m(\u001b[0m\u001b[0;34m)\u001b[0m\u001b[0;34m\u001b[0m\u001b[0;34m\u001b[0m\u001b[0m\n\u001b[0m\u001b[1;32m    789\u001b[0m                 \u001b[0mcompress\u001b[0m \u001b[0;34m=\u001b[0m \u001b[0;32mNone\u001b[0m\u001b[0;34m\u001b[0m\u001b[0;34m\u001b[0m\u001b[0m\n\u001b[1;32m    790\u001b[0m                 \u001b[0mtile_dims\u001b[0m \u001b[0;34m=\u001b[0m \u001b[0;32mNone\u001b[0m\u001b[0;34m\u001b[0m\u001b[0;34m\u001b[0m\u001b[0m\n",
      "\u001b[0;32m/global/common/software/desi/cori/desiconda/20200801-1.4.0-spec/conda/lib/python3.8/site-packages/fitsio/fitslib.py\u001b[0m in \u001b[0;36m_ensure_empty_image_ok\u001b[0;34m(self)\u001b[0m\n\u001b[1;32m    858\u001b[0m \u001b[0;34m\u001b[0m\u001b[0m\n\u001b[1;32m    859\u001b[0m         \u001b[0;32mif\u001b[0m \u001b[0mlen\u001b[0m\u001b[0;34m(\u001b[0m\u001b[0mself\u001b[0m\u001b[0;34m)\u001b[0m \u001b[0;34m>\u001b[0m \u001b[0;36m1\u001b[0m\u001b[0;34m:\u001b[0m\u001b[0;34m\u001b[0m\u001b[0;34m\u001b[0m\u001b[0m\n\u001b[0;32m--> 860\u001b[0;31m             raise RuntimeError(\n\u001b[0m\u001b[1;32m    861\u001b[0m                 \"Cannot write None image at extension %d\" % len(self))\n\u001b[1;32m    862\u001b[0m         \u001b[0;32mif\u001b[0m \u001b[0;34m'ndims'\u001b[0m \u001b[0;32min\u001b[0m \u001b[0mself\u001b[0m\u001b[0;34m[\u001b[0m\u001b[0;36m0\u001b[0m\u001b[0;34m]\u001b[0m\u001b[0;34m.\u001b[0m\u001b[0m_info\u001b[0m\u001b[0;34m:\u001b[0m\u001b[0;34m\u001b[0m\u001b[0;34m\u001b[0m\u001b[0m\n",
      "\u001b[0;31mRuntimeError\u001b[0m: Cannot write None image at extension 5"
     ]
    }
   ],
   "source": [
    "filenamein = 'fiberassign-068001.fits'\n",
    "filenameout = 'small_'+filenamein\n",
    "os.remove(filenameout)\n",
    "\n",
    "filein =  fitsio.FITS(filenamein,'r')\n",
    "fileout = fitsio.FITS(filenameout, 'rw')\n",
    "\n",
    "extnames = ['PRIMARY','FIBERASSIGN','GFA_TARGETS','TARGETS','POTENTIAL_ASSIGNMENTS']\n",
    "\n",
    "columns = {'FIBERASSIGN':\n",
    "          ['FIBER', 'TARGETID', 'LOCATION', 'FIBERSTATUS', \n",
    "           'LAMBDA_REF' , 'PETAL_LOC', 'TARGET_RA', \n",
    "           'TARGET_DEC', 'FA_TARGET' , 'FA_TYPE', \n",
    "           'FIBERASSIGN_X', 'FIBERASSIGN_Y'], \n",
    "          'TARGETS':\n",
    "          ['TARGETID', 'RA', 'DEC' , \n",
    "           'FA_TARGET', 'FA_TYPE' , 'PRIORITY' , \n",
    "           'SUBPRIORITY', 'OBSCONDITIONS' ]}\n",
    "\n",
    "for extname in extnames:\n",
    "    header=filein[extname].read_header()\n",
    "\n",
    "    if extname in columns.keys():\n",
    "        print('extname', extname)\n",
    "        data = filein[extname].read(columns=columns[extname])\n",
    "    else:\n",
    "        data = filein[extname].read()\n",
    "    #print('header', extname, header)\n",
    "    #print(data)\n",
    "    print()\n",
    "    if (extname=='PRIMARY'):\n",
    "        fileout.write(None, header=header, extname=extname, clobber=True)\n",
    "    else:\n",
    "        fileout.write(data, header=header, extname=extname, clobber=True)\n",
    "    \n",
    "filein.close()\n",
    "fileout.close()"
   ]
  },
  {
   "cell_type": "code",
   "execution_count": 39,
   "metadata": {},
   "outputs": [
    {
     "name": "stdout",
     "output_type": "stream",
     "text": [
      "convert.ipynb\t fiberassign-000004.fits  header_full\n",
      "fba-000004.fits  fiberassign-068001.fits  small_fiberassign-068001.fits\n"
     ]
    }
   ],
   "source": [
    "!ls"
   ]
  },
  {
   "cell_type": "code",
   "execution_count": 36,
   "metadata": {},
   "outputs": [
    {
     "data": {
      "text/plain": [
       "214.76384"
      ]
     },
     "execution_count": 36,
     "metadata": {},
     "output_type": "execute_result"
    }
   ],
   "source": [
    "header['TILERA']"
   ]
  },
  {
   "cell_type": "code",
   "execution_count": null,
   "metadata": {},
   "outputs": [],
   "source": []
  }
 ],
 "metadata": {
  "kernelspec": {
   "display_name": "DESI master",
   "language": "python",
   "name": "desi-master"
  },
  "language_info": {
   "codemirror_mode": {
    "name": "ipython",
    "version": 3
   },
   "file_extension": ".py",
   "mimetype": "text/x-python",
   "name": "python",
   "nbconvert_exporter": "python",
   "pygments_lexer": "ipython3",
   "version": "3.8.3"
  }
 },
 "nbformat": 4,
 "nbformat_minor": 4
}
