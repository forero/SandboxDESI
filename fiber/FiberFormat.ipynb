{
 "metadata": {
  "name": ""
 },
 "nbformat": 3,
 "nbformat_minor": 0,
 "worksheets": [
  {
   "cells": [
    {
     "cell_type": "code",
     "collapsed": false,
     "input": [
      "%pylab inline"
     ],
     "language": "python",
     "metadata": {},
     "outputs": [
      {
       "output_type": "stream",
       "stream": "stdout",
       "text": [
        "Populating the interactive namespace from numpy and matplotlib\n"
       ]
      }
     ],
     "prompt_number": 2
    },
    {
     "cell_type": "code",
     "collapsed": false,
     "input": [
      "import pyfits"
     ],
     "language": "python",
     "metadata": {},
     "outputs": [],
     "prompt_number": 3
    },
    {
     "cell_type": "markdown",
     "metadata": {},
     "source": [
      "# Proposal for a format to store fiber assignment data\n",
      "\n",
      "In this example `n_fibers` is the number of fibers in the tile and `n_galaxies` is the number of galaxies that fall into the tile's field of view.\n",
      "\n",
      "The i-th item in list `galaxies_in_fiber` is a full array of `galaxy_ID`s of all galaxies that can be reached by the i-th fiber.  In this example the assignment is random.\n",
      "\n",
      "The array `flat_galaxies_in_fiber` containts the exact same information as `galaxies_in_fiber` just that it is writtten in a single array.\n",
      "\n",
      "The proposal is that we can keep the following arrays in a FITS file in order to reconstruct a **fiber assignment pass**:\n",
      "\n",
      "* `galaxies_id`: Size `n_galaxies`. List of all galaxies in field\n",
      "* `fibers_id`: Size `n_fibers`. List of all fibers\n",
      "* `flat_galaxies_in_fiber`: List of all galaxies that can be reached by a fiber\n",
      "* `n_available_gal`: Size `n_fibers`. Number of galaxies available to each fiber\n",
      "* `first_available_gal`: Size `n_fibers`. Position in the array `flat_galaxies_in_fiber` locating the first item of the available galaxies for a fiber."
     ]
    },
    {
     "cell_type": "code",
     "collapsed": false,
     "input": [
      "# setup the basic problem size\n",
      "n_fibers = 5000\n",
      "fibers_id = arange(n_fibers)\n",
      "\n",
      "n_galaxies = 45000\n",
      "galaxies_id = arange(n_galaxies)"
     ],
     "language": "python",
     "metadata": {},
     "outputs": [],
     "prompt_number": 4
    },
    {
     "cell_type": "code",
     "collapsed": false,
     "input": [
      "#fill the list of galaxies available to each fiber\n",
      "galaxies_in_fiber = []\n",
      "flat_galaxies_in_fiber = empty((0), dtype='int')\n",
      "for i in arange(n_fibers):\n",
      "    n_gals_in_fiber = max(1,int(random.normal(loc=10,scale=3))) #randomly selects the number of galaxies in a fiber\n",
      "    gal_list = random.choice(galaxies_id, size=n_gals_in_fiber)\n",
      "    galaxies_in_fiber.append(gal_list)\n",
      "    flat_galaxies_in_fiber = append(flat_galaxies_in_fiber, int_(gal_list))"
     ],
     "language": "python",
     "metadata": {},
     "outputs": [],
     "prompt_number": 5
    },
    {
     "cell_type": "code",
     "collapsed": false,
     "input": [
      "#create two arrays of size n_fibers\n",
      "# 1. An array with the number of galaxies that are available to each fiber\n",
      "# 2. An array with the index of the first available galaxy to that fiber as listed in flat_galaxies_in_fiber.\n",
      "n_available_gal = zeros(n_fibers, dtype='int')\n",
      "first_available_gal = zeros(n_fibers, dtype='int')\n",
      "\n",
      "first_gal = 0\n",
      "for i in arange(n_fibers):\n",
      "    n_available = size(galaxies_in_fiber[i])\n",
      "    n_available_gal[i] = n_available\n",
      "    first_available_gal[i] = first_gal\n",
      "    first_gal = first_gal + n_available"
     ],
     "language": "python",
     "metadata": {},
     "outputs": [],
     "prompt_number": 6
    },
    {
     "cell_type": "code",
     "collapsed": false,
     "input": [
      "!rm fiber_allocation.fits\n",
      "pyfits.append(\"fiber_allocation.fits\", galaxies_id) # galaxy Id\n",
      "pyfits.append(\"fiber_allocation.fits\", fibers_id) # fiber Id\n",
      "pyfits.append(\"fiber_allocation.fits\", flat_galaxies_in_fiber) # full list of all galaxies reached by each fiber\n",
      "pyfits.append(\"fiber_allocation.fits\", n_available_gal) # number of available galaxies per fiber\n",
      "pyfits.append(\"fiber_allocation.fits\", first_available_gal) # index in the array flat_galaxies_in_fiber"
     ],
     "language": "python",
     "metadata": {},
     "outputs": [],
     "prompt_number": 7
    },
    {
     "cell_type": "code",
     "collapsed": false,
     "input": [
      "hdulist = pyfits.open(\"fiber_allocation.fits\")\n",
      "print hdulist.info()"
     ],
     "language": "python",
     "metadata": {},
     "outputs": [
      {
       "output_type": "stream",
       "stream": "stdout",
       "text": [
        "Filename: fiber_allocation.fits\n",
        "No.    Name         Type      Cards   Dimensions   Format\n",
        "0    PRIMARY     PrimaryHDU       5   (45000,)     int64   \n",
        "1                ImageHDU         6   (5000,)      int64   \n",
        "2                ImageHDU         6   (47508,)     int64   \n",
        "3                ImageHDU         6   (5000,)      int64   \n",
        "4                ImageHDU         6   (5000,)      int64   \n"
       ]
      },
      {
       "output_type": "stream",
       "stream": "stdout",
       "text": [
        "None\n"
       ]
      }
     ],
     "prompt_number": 8
    }
   ],
   "metadata": {}
  }
 ]
}