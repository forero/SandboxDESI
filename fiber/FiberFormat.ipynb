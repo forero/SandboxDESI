{
 "metadata": {
  "name": ""
 },
 "nbformat": 3,
 "nbformat_minor": 0,
 "worksheets": [
  {
   "cells": [
    {
     "cell_type": "code",
     "collapsed": false,
     "input": [
      "%pylab inline"
     ],
     "language": "python",
     "metadata": {},
     "outputs": [
      {
       "output_type": "stream",
       "stream": "stdout",
       "text": [
        "Populating the interactive namespace from numpy and matplotlib\n"
       ]
      }
     ],
     "prompt_number": 3
    },
    {
     "cell_type": "code",
     "collapsed": false,
     "input": [
      "import pyfits"
     ],
     "language": "python",
     "metadata": {},
     "outputs": [],
     "prompt_number": 4
    },
    {
     "cell_type": "markdown",
     "metadata": {},
     "source": [
      "In this example `n_fibers` is the number of fibers in the tile and `n_galaxies` is the number of galaxies that fall into the tile's field of view.\n",
      "The list `galaxies_in_fiber` keeps in the i-th item a full array of `galaxy_ID`s from all galaxies that can be reached by the i-th fiber.  In this example each array is randomly assigned.\n",
      "\n",
      "The array `flat_galaxies_in_fiber` containts the same information as `galaxies_in_fiber` just that it is a single array."
     ]
    },
    {
     "cell_type": "code",
     "collapsed": false,
     "input": [
      "# setup the basic problem size\n",
      "n_fibers = 5000\n",
      "fibers_id = arange(n_fibers)\n",
      "\n",
      "n_galaxies = 45000\n",
      "galaxies_id = arange(n_galaxies)"
     ],
     "language": "python",
     "metadata": {},
     "outputs": [],
     "prompt_number": 5
    },
    {
     "cell_type": "code",
     "collapsed": false,
     "input": [
      "#fill the list of galaxies available to each fiber\n",
      "galaxies_in_fiber = []\n",
      "flat_galaxies_in_fiber = empty((0), dtype='int')\n",
      "for i in arange(n_fibers):\n",
      "    n_gals_in_fiber = max(1,int(random.normal(loc=10,scale=3))) #randomly selects the number of galaxies in a fiber\n",
      "    gal_list = random.choice(galaxies_id, size=n_gals_in_fiber)\n",
      "    galaxies_in_fiber.append(gal_list)\n",
      "    flat_galaxies_in_fiber = append(flat_galaxies_in_fiber, int_(gal_list))"
     ],
     "language": "python",
     "metadata": {},
     "outputs": [],
     "prompt_number": 6
    },
    {
     "cell_type": "code",
     "collapsed": false,
     "input": [
      "#create two arrays of size n_fibers\n",
      "# 1. An array with the number of galaxies that are available to each fiber\n",
      "# 2. An array with the index of the first available galaxy to that fiber as listed in flat_galaxies_in_fiber.\n",
      "n_available_gal = zeros(n_fibers, dtype='int')\n",
      "first_available_gal = zeros(n_fibers, dtype='int')\n",
      "\n",
      "first_gal = 0\n",
      "for i in arange(n_fibers):\n",
      "    n_available = size(galaxies_in_fiber[i])\n",
      "    n_available_gal[i] = n_available\n",
      "    first_available_gal[i] = first_gal\n",
      "    first_gal = first_gal + n_available"
     ],
     "language": "python",
     "metadata": {},
     "outputs": [],
     "prompt_number": 7
    },
    {
     "cell_type": "code",
     "collapsed": false,
     "input": [
      "!rm fiber_allocation.fits\n",
      "prim_header = pyfits.Header()\n",
      "pyfits.append(\"fiber_allocation.fits\", galaxies_id,header=prim_header) # galaxy Id\n",
      "pyfits.append(\"fiber_allocation.fits\", fibers_id, header=prim_header) # fiber Id\n",
      "pyfits.append(\"fiber_allocation.fits\", flat_galaxies_in_fiber) # full list of all galaxies reached by each fiber\n",
      "pyfits.append(\"fiber_allocation.fits\", n_available_gal) # number of available galaxies per fiber\n",
      "pyfits.append(\"fiber_allocation.fits\", first_available_gal) # index in the array flat_galaxies_in_fiber"
     ],
     "language": "python",
     "metadata": {},
     "outputs": [
      {
       "output_type": "stream",
       "stream": "stdout",
       "text": [
        "rm: fiber_allocation.fits: No such file or directory\r\n"
       ]
      }
     ],
     "prompt_number": 8
    },
    {
     "cell_type": "code",
     "collapsed": false,
     "input": [
      "hdulist = pyfits.open(\"fiber_allocation.fits\")\n",
      "print hdulist.info()"
     ],
     "language": "python",
     "metadata": {},
     "outputs": [
      {
       "output_type": "stream",
       "stream": "stdout",
       "text": [
        "Filename: fiber_allocation.fits\n",
        "No.    Name         Type      Cards   Dimensions   Format\n",
        "0    PRIMARY     PrimaryHDU       5   (45000,)     int64   \n",
        "1                ImageHDU         6   (5000,)      int64   \n",
        "2                ImageHDU         6   (47542,)     int64   \n",
        "3                ImageHDU         6   (5000,)      int64   \n",
        "4                ImageHDU         6   (5000,)      int64   \n"
       ]
      },
      {
       "output_type": "stream",
       "stream": "stdout",
       "text": [
        "None\n"
       ]
      }
     ],
     "prompt_number": 9
    }
   ],
   "metadata": {}
  }
 ]
}