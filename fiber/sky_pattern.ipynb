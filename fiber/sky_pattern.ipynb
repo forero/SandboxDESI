{
 "cells": [
  {
   "cell_type": "code",
   "execution_count": 3,
   "metadata": {},
   "outputs": [],
   "source": [
    "import numpy as np\n",
    "import matplotlib.pyplot as plt\n",
    "import glob\n",
    "%matplotlib inline"
   ]
  },
  {
   "cell_type": "code",
   "execution_count": 13,
   "metadata": {},
   "outputs": [],
   "source": [
    "path_master = \"/global/cscratch1/sd/forero/desi/test/fiberassign_obs/master_output/\"\n",
    "master_files = glob.glob(path_master+\"fba-*.fits\")\n",
    "master_files.sort()"
   ]
  },
  {
   "cell_type": "code",
   "execution_count": 14,
   "metadata": {},
   "outputs": [
    {
     "data": {
      "text/plain": [
       "['/global/cscratch1/sd/forero/desi/test/fiberassign_obs/master_output/fba-000263.fits',\n",
       " '/global/cscratch1/sd/forero/desi/test/fiberassign_obs/master_output/fba-004252.fits',\n",
       " '/global/cscratch1/sd/forero/desi/test/fiberassign_obs/master_output/fba-004253.fits',\n",
       " '/global/cscratch1/sd/forero/desi/test/fiberassign_obs/master_output/fba-004254.fits',\n",
       " '/global/cscratch1/sd/forero/desi/test/fiberassign_obs/master_output/fba-005860.fits',\n",
       " '/global/cscratch1/sd/forero/desi/test/fiberassign_obs/master_output/fba-006025.fits',\n",
       " '/global/cscratch1/sd/forero/desi/test/fiberassign_obs/master_output/fba-010014.fits',\n",
       " '/global/cscratch1/sd/forero/desi/test/fiberassign_obs/master_output/fba-010015.fits',\n",
       " '/global/cscratch1/sd/forero/desi/test/fiberassign_obs/master_output/fba-010016.fits',\n",
       " '/global/cscratch1/sd/forero/desi/test/fiberassign_obs/master_output/fba-011787.fits',\n",
       " '/global/cscratch1/sd/forero/desi/test/fiberassign_obs/master_output/fba-013401.fits',\n",
       " '/global/cscratch1/sd/forero/desi/test/fiberassign_obs/master_output/fba-015777.fits',\n",
       " '/global/cscratch1/sd/forero/desi/test/fiberassign_obs/master_output/fba-015778.fits',\n",
       " '/global/cscratch1/sd/forero/desi/test/fiberassign_obs/master_output/fba-017549.fits',\n",
       " '/global/cscratch1/sd/forero/desi/test/fiberassign_obs/master_output/fba-019163.fits',\n",
       " '/global/cscratch1/sd/forero/desi/test/fiberassign_obs/master_output/fba-021538.fits',\n",
       " '/global/cscratch1/sd/forero/desi/test/fiberassign_obs/master_output/fba-021539.fits',\n",
       " '/global/cscratch1/sd/forero/desi/test/fiberassign_obs/master_output/fba-021540.fits',\n",
       " '/global/cscratch1/sd/forero/desi/test/fiberassign_obs/master_output/fba-023311.fits',\n",
       " '/global/cscratch1/sd/forero/desi/test/fiberassign_obs/master_output/fba-024925.fits',\n",
       " '/global/cscratch1/sd/forero/desi/test/fiberassign_obs/master_output/fba-027300.fits',\n",
       " '/global/cscratch1/sd/forero/desi/test/fiberassign_obs/master_output/fba-027301.fits',\n",
       " '/global/cscratch1/sd/forero/desi/test/fiberassign_obs/master_output/fba-027302.fits']"
      ]
     },
     "execution_count": 14,
     "metadata": {},
     "output_type": "execute_result"
    }
   ],
   "source": [
    "master_files[]"
   ]
  },
  {
   "cell_type": "code",
   "execution_count": null,
   "metadata": {},
   "outputs": [],
   "source": []
  }
 ],
 "metadata": {
  "kernelspec": {
   "display_name": "DESI master",
   "language": "python",
   "name": "desi-master"
  },
  "language_info": {
   "codemirror_mode": {
    "name": "ipython",
    "version": 3
   },
   "file_extension": ".py",
   "mimetype": "text/x-python",
   "name": "python",
   "nbconvert_exporter": "python",
   "pygments_lexer": "ipython3",
   "version": "3.6.6"
  }
 },
 "nbformat": 4,
 "nbformat_minor": 4
}
