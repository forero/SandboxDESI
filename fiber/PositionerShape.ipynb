{
 "cells": [
  {
   "cell_type": "code",
   "execution_count": 1,
   "metadata": {
    "collapsed": false
   },
   "outputs": [
    {
     "name": "stdout",
     "output_type": "stream",
     "text": [
      "Populating the interactive namespace from numpy and matplotlib\n"
     ]
    }
   ],
   "source": [
    "%pylab inline"
   ]
  },
  {
   "cell_type": "code",
   "execution_count": 3,
   "metadata": {
    "collapsed": true
   },
   "outputs": [],
   "source": [
    "import shapely as sh"
   ]
  },
  {
   "cell_type": "code",
   "execution_count": 6,
   "metadata": {
    "collapsed": false
   },
   "outputs": [],
   "source": []
  },
  {
   "cell_type": "code",
   "execution_count": 12,
   "metadata": {
    "collapsed": false
   },
   "outputs": [
    {
     "data": {
      "image/svg+xml": [
       "<svg xmlns=\"http://www.w3.org/2000/svg\" xmlns:xlink=\"http://www.w3.org/1999/xlink\" width=\"100.0\" height=\"100.0\" viewBox=\"-1.0792 -1.0692 2.1254 2.1384\" preserveAspectRatio=\"xMinYMin meet\"><g transform=\"matrix(1,0,0,-1,0,0.0)\"><path fill-rule=\"evenodd\" fill=\"#66cc99\" stroke=\"#555555\" stroke-width=\"0.042768\" opacity=\"0.6\" d=\"M 0.387,0.99 L 0.967,0.41 L 0.967,-0.41 L 0.387,-0.99 L -0.649,-0.99 L -1.0,-0.639 L -1.0,0.639 L -0.649,0.99 L 0.387,0.99 z\" /></g></svg>"
      ],
      "text/plain": [
       "<shapely.geometry.polygon.Polygon at 0x1085e0a90>"
      ]
     },
     "execution_count": 12,
     "metadata": {},
     "output_type": "execute_result"
    }
   ],
   "source": [
    "lower_ferrule_pos = ((0.387, 0.990), (0.967,0.410), (0.967, -0.410), (0.387, -0.990), (-0.649, -0.990), \n",
    "                    (-1.000, -0.639), (-1.000, 0.639), (-0.649, 0.990))\n",
    "Polygon(lower_ferrule_pos)"
   ]
  },
  {
   "cell_type": "code",
   "execution_count": 20,
   "metadata": {
    "collapsed": false
   },
   "outputs": [
    {
     "data": {
      "image/svg+xml": [
       "<svg xmlns=\"http://www.w3.org/2000/svg\" xmlns:xlink=\"http://www.w3.org/1999/xlink\" width=\"100.0\" height=\"100.0\" viewBox=\"-4.44828 -1.44828 5.62356 3.67156\" preserveAspectRatio=\"xMinYMin meet\"><g transform=\"matrix(1,0,0,-1,0,0.775)\"><path fill-rule=\"evenodd\" fill=\"#66cc99\" stroke=\"#555555\" stroke-width=\"0.1124712\" opacity=\"0.6\" d=\"M 0.387,0.99 L 0.967,0.41 L 0.967,-0.41 L 0.387,-0.99 L -2.235,-0.99 L -2.668,-1.24 L -3.514,-1.24 L -4.24,-0.514 L -4.24,0.514 L -3.682,1.072 L -2.994,1.339 L -2.944,1.922 L -2.688,2.015 L -1.981,1.757 L -1.844,0.99 L 0.387,0.99 z\" /></g></svg>"
      ],
      "text/plain": [
       "<shapely.geometry.polygon.Polygon at 0x1085d02d0>"
      ]
     },
     "execution_count": 20,
     "metadata": {},
     "output_type": "execute_result"
    }
   ],
   "source": [
    "upper_ferrule_pos=((0.387, 0.990), (0.967, 0.410), (0.967,-0.410), (0.387,-0.990), (-2.235,-0.990), \n",
    "                   (-2.668, -1.240), (-3.514, -1.240), (-4.240,-0.514), (-4.240,0.514), (-3.682,1.072), \n",
    "                  (-2.994,1.339), (-2.944,1.922), (-2.688, 2.015 ), (-1.981,1.757 ), (-1.844, 0.990))\n",
    "Polygon(upper_ferrule_pos)"
   ]
  },
  {
   "cell_type": "code",
   "execution_count": null,
   "metadata": {
    "collapsed": true
   },
   "outputs": [],
   "source": []
  }
 ],
 "metadata": {
  "kernelspec": {
   "display_name": "Python 2",
   "language": "python",
   "name": "python2"
  },
  "language_info": {
   "codemirror_mode": {
    "name": "ipython",
    "version": 2
   },
   "file_extension": ".py",
   "mimetype": "text/x-python",
   "name": "python",
   "nbconvert_exporter": "python",
   "pygments_lexer": "ipython2",
   "version": "2.7.1"
  }
 },
 "nbformat": 4,
 "nbformat_minor": 0
}
