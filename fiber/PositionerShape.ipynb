{
 "cells": [
  {
   "cell_type": "code",
   "execution_count": 1,
   "metadata": {
    "collapsed": false
   },
   "outputs": [
    {
     "name": "stdout",
     "output_type": "stream",
     "text": [
      "Populating the interactive namespace from numpy and matplotlib\n"
     ]
    }
   ],
   "source": [
    "%pylab inline"
   ]
  },
  {
   "cell_type": "code",
   "execution_count": 2,
   "metadata": {
    "collapsed": false
   },
   "outputs": [],
   "source": [
    "import shapely as sh\n",
    "from shapely.geometry import Polygon\n",
    "from shapely.ops import cascaded_union\n",
    "from shapely.geometry import Point\n",
    "from descartes.patch import PolygonPatch"
   ]
  },
  {
   "cell_type": "code",
   "execution_count": 3,
   "metadata": {
    "collapsed": true
   },
   "outputs": [],
   "source": [
    "def plot_coords(ax, ob):\n",
    "    x, y = ob.xy\n",
    "    ax.plot(x, y, 'o', color='#999999', zorder=1)"
   ]
  },
  {
   "cell_type": "code",
   "execution_count": 4,
   "metadata": {
    "collapsed": true
   },
   "outputs": [],
   "source": [
    "#coordinates are taken from\n",
    "#https://desi.lbl.gov/trac/browser/code/focalplane/positioner_control/trunk/anticollision/pos_geometry.m?rev=1660"
   ]
  },
  {
   "cell_type": "code",
   "execution_count": 5,
   "metadata": {
    "collapsed": false
   },
   "outputs": [
    {
     "name": "stdout",
     "output_type": "stream",
     "text": [
      "(8, 2)\n",
      "<type 'numpy.ndarray'>\n"
     ]
    }
   ],
   "source": [
    "lower_ferrule_pos = array(((0.387, 0.990), (0.967,0.410), (0.967, -0.410), (0.387, -0.990), (-0.649, -0.990), \n",
    "                    (-1.000, -0.639), (-1.000, 0.639), (-0.649, 0.990)))\n",
    "print shape(lower_ferrule_pos)\n",
    "print type(lower_ferrule_pos)\n",
    "tmp = lower_ferrule_pos.copy()\n",
    "tmp[:,1] = lower_ferrule_pos[:,1]\n",
    "lower_ferrule_pos[:,1] = lower_ferrule_pos[:,0]\n",
    "lower_ferrule_pos[:,0] = tmp[:,1]\n",
    "lower_ferrule_pos[:,0] = lower_ferrule_pos[:,0]+3.00\n",
    "lower_ferrule_pos[:,1] = lower_ferrule_pos[:,1]+3.00\n",
    "\n",
    "low_poly= Polygon(lower_ferrule_pos)"
   ]
  },
  {
   "cell_type": "code",
   "execution_count": 6,
   "metadata": {
    "collapsed": false
   },
   "outputs": [],
   "source": [
    "upper_ferrule_pos=array(((0.387, 0.990), (0.967, 0.410), (0.967,-0.410), (0.387,-0.990), (-2.235,-0.990), \n",
    "                   (-2.668, -1.240), (-3.514, -1.240), (-4.240,-0.514), (-4.240,0.514), (-3.682,1.072), \n",
    "                  (-2.994,1.339), (-2.944,1.922), (-2.688, 2.015 ), (-1.981,1.757 ), (-1.844, 0.990)))\n",
    "tmp = upper_ferrule_pos.copy()\n",
    "tmp[:,1] = upper_ferrule_pos[:,1]\n",
    "upper_ferrule_pos[:,1] = upper_ferrule_pos[:,0]\n",
    "upper_ferrule_pos[:,0] = tmp[:,1]\n",
    "upper_ferrule_pos[:,0] = upper_ferrule_pos[:,0]+3.00\n",
    "upper_ferrule_pos[:,1] = upper_ferrule_pos[:,1]+3.00\n",
    "\n",
    "up_poly = Polygon(upper_ferrule_pos)"
   ]
  },
  {
   "cell_type": "code",
   "execution_count": 7,
   "metadata": {
    "collapsed": false
   },
   "outputs": [],
   "source": [
    "central_axis_body = array((( 4.358 , -2.500), (5.095,-0.474),(5.095,0.605),(4.348,1.792), \n",
    "                    (3.000,2.180), (1.652, 1.792), (0.905, 0.605), (0.905 ,-0.356), \n",
    "                    (1.759, -2.792), (2.771, -2.500)))\n",
    "\n",
    "central_poly = Polygon(central_axis_body)"
   ]
  },
  {
   "cell_type": "code",
   "execution_count": 11,
   "metadata": {
    "collapsed": false
   },
   "outputs": [
    {
     "data": {
      "text/plain": [
       "<matplotlib.patches.PathPatch at 0x109ce3d90>"
      ]
     },
     "execution_count": 11,
     "metadata": {},
     "output_type": "execute_result"
    },
    {
     "data": {
      "image/png": "[encoded data removed]",
      "text/plain": [
       "<matplotlib.figure.Figure at 0x109ce3d50>"
      ]
     },
     "metadata": {},
     "output_type": "display_data"
    }
   ],
   "source": [
    "fig, ax = subplots(figsize=(8, 8))\n",
    "ax.set_xlim(-6,6)\n",
    "ax.set_ylim(-6,6)\n",
    "\n",
    "patch_u = PolygonPatch(up_poly, facecolor='yellow', edgecolor='yellow', alpha=0.5, zorder=2)\n",
    "patch_c = PolygonPatch(central_poly, facecolor='blue', edgecolor='blue', alpha=0.5, zorder=2)\n",
    "patch_l = PolygonPatch(low_poly, facecolor='red', edgecolor='red', alpha=0.5, zorder=2)\n",
    "\n",
    "ax.add_patch(patch_c)\n",
    "ax.add_patch(patch_l)\n",
    "ax.add_patch(patch_u)"
   ]
  }
 ],
 "metadata": {
  "kernelspec": {
   "display_name": "Python 2",
   "language": "python",
   "name": "python2"
  },
  "language_info": {
   "codemirror_mode": {
    "name": "ipython",
    "version": 2
   },
   "file_extension": ".py",
   "mimetype": "text/x-python",
   "name": "python",
   "nbconvert_exporter": "python",
   "pygments_lexer": "ipython2",
   "version": "2.7.1"
  }
 },
 "nbformat": 4,
 "nbformat_minor": 0
}
