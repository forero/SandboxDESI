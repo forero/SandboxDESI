{
 "cells": [
  {
   "cell_type": "code",
   "execution_count": 1,
   "metadata": {},
   "outputs": [],
   "source": [
    "import matplotlib.pyplot as plt\n",
    "import numpy as np\n",
    "import glob\n",
    "import os\n",
    "from astropy.table import Table\n",
    "%matplotlib inline"
   ]
  },
  {
   "cell_type": "code",
   "execution_count": null,
   "metadata": {
    "collapsed": true
   },
   "outputs": [],
   "source": [
    "data_path = \"../surveysim/output/\"\n",
    "plan_files = glob.glob(os.path.join(data_path, \"plan_*\"))\n",
    "progress_files = glob.glob(os.path.join(data_path, \"progress_*\"))\n",
    "progress_files = sorted(progress_files)\n",
    "plan_files = sorted(plan_files)"
   ]
  },
  {
   "cell_type": "code",
   "execution_count": null,
   "metadata": {},
   "outputs": [],
   "source": [
    "a = Table.read(plan_files[-1])\n",
    "b = Table.read(progress_files[-1])\n",
    "print(a[:10])\n",
    "print(b[:10])\n",
    "print(a.keys())\n",
    "print(b.keys())"
   ]
  },
  {
   "cell_type": "code",
   "execution_count": null,
   "metadata": {},
   "outputs": [],
   "source": [
    "print(list(set(a['group'])))\n",
    "list(set(b['status']))"
   ]
  },
  {
   "cell_type": "code",
   "execution_count": null,
   "metadata": {},
   "outputs": [],
   "source": [
    "tiling_file = os.path.join(os.environ['DESIMODEL'], 'data/footprint/', 'desi-tiles.fits')\n",
    "tiling_data = Table.read(tiling_file)\n",
    "tiling_data.keys()\n",
    "\n",
    "#get the program of the unobserved tiles\n",
    "program = tiling_data['PROGRAM'][np.in1d(tiling_data['TILEID'], b['tileid'][b['status']==0])]\n",
    "n_all = len(b)\n",
    "print(n_all)\n",
    "print('indesi', np.count_nonzero(tiling_data['IN_DESI']!=0))\n",
    "print(np.count_nonzero(program=='DARK')/n_all, \n",
    "      np.count_nonzero(program=='BRIGHT')/n_all, \n",
    "      np.count_nonzero(program=='GRAY')/n_all)"
   ]
  },
  {
   "cell_type": "code",
   "execution_count": null,
   "metadata": {},
   "outputs": [],
   "source": [
    "n_progress = len(progress_files)\n",
    "n_plan = n_progress - 1\n",
    "n_0 = np.zeros(n_progress)\n",
    "n_2 = np.zeros(n_progress)\n",
    "for i in range(n_plan):\n",
    "    a = Table.read(progress_files[i+1])\n",
    "    n_0[i+1] = np.count_nonzero(a['status']==0)\n",
    "    n_2[i+1] = np.count_nonzero(a['status']==2)\n",
    "    print(i, n_0[i+1])\n",
    "#    plt.scatter(a['ra'][a['status']==2], a['dec'][a['status']==2], alpha=0.1)"
   ]
  },
  {
   "cell_type": "code",
   "execution_count": null,
   "metadata": {},
   "outputs": [],
   "source": [
    "plt.plot(n_0)\n",
    "plt.plot(n_2)"
   ]
  },
  {
   "cell_type": "code",
   "execution_count": null,
   "metadata": {
    "collapsed": true
   },
   "outputs": [],
   "source": []
  }
 ],
 "metadata": {
  "kernelspec": {
   "display_name": "Python 3",
   "language": "python",
   "name": "python3"
  },
  "language_info": {
   "codemirror_mode": {
    "name": "ipython",
    "version": 3
   },
   "file_extension": ".py",
   "mimetype": "text/x-python",
   "name": "python",
   "nbconvert_exporter": "python",
   "pygments_lexer": "ipython3",
   "version": "3.5.3"
  }
 },
 "nbformat": 4,
 "nbformat_minor": 2
}
