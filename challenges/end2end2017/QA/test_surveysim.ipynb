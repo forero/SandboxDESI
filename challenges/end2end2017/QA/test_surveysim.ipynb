{
 "cells": [
  {
   "cell_type": "code",
   "execution_count": 18,
   "metadata": {
    "collapsed": false
   },
   "outputs": [],
   "source": [
    "import matplotlib.pyplot as plt\n",
    "import numpy as np\n",
    "import glob\n",
    "import os\n",
    "from astropy.table import Table\n",
    "%matplotlib inline"
   ]
  },
  {
   "cell_type": "code",
   "execution_count": 83,
   "metadata": {
    "collapsed": false
   },
   "outputs": [
    {
     "name": "stdout",
     "output_type": "stream",
     "text": [
      "tileid   ra    dec  pass group priority active   hourangle   \n",
      "------ ------ ----- ---- ----- -------- ------ --------------\n",
      "     4 335.03 19.88    0     2        6  False -8.62037277222\n",
      "     6 333.22 14.84    0     2        6  False -10.1858892441\n",
      "     7 332.35 12.32    0     2        6  False -8.91088867188\n",
      "     8  319.9  6.05    0     2        6  False -18.1183185577\n",
      "     9 330.67  7.31    0     2        6  False -9.06365966797\n",
      "    10 329.84   4.8    0     2        9  False  1.03707814217\n",
      "    11  326.4  1.37    0     2        9  False  6.51705217361\n",
      "    12 326.88  4.31    0     2        9  False  18.2158660889\n",
      "    13 324.73  5.92    0     2        6  False -14.3890371323\n",
      "    14 322.58  7.47    0     2        6  False -12.4090747833\n",
      "tileid pass   ra   ...      moonalt [32]          moonsep [32]    \n",
      "             deg   ...          deg                   deg         \n",
      "------ ---- ------ ... ---------------------- --------------------\n",
      "     4    0 335.03 ...  -26.0160598755 .. 0.0  101.11718215 .. 0.0\n",
      "     6    0 333.22 ...  -21.4817085266 .. 0.0 73.7176123924 .. 0.0\n",
      "     7    0 332.35 ...  -11.2456560135 .. 0.0 75.7297202618 .. 0.0\n",
      "     8    0  319.9 ... -0.817395031452 .. 0.0 136.343503888 .. 0.0\n",
      "     9    0 330.67 ...  -1.25840389729 .. 0.0 129.257927383 .. 0.0\n",
      "    10    0 329.84 ...  -2.36289215088 .. 0.0  104.56907772 .. 0.0\n",
      "    11    0  326.4 ...  -37.1538314819 .. 0.0 127.378077823 .. 0.0\n",
      "    12    0 326.88 ...  -6.34329652786 .. 0.0  124.49144856 .. 0.0\n",
      "    13    0 324.73 ...   -28.178730011 .. 0.0 109.541608928 .. 0.0\n",
      "    14    0 322.58 ...  -23.9779758453 .. 0.0 111.025053746 .. 0.0\n",
      "['tileid', 'pass', 'ra', 'dec', 'status', 'mjd', 'exptime', 'snr2frac', 'airmass', 'seeing', 'moonfrac', 'moonalt', 'moonsep']\n"
     ]
    }
   ],
   "source": [
    "data_path = \"/global/project/projectdirs/desi/users/forero/datachallenge2017/test_20170710/surveysim/output/\"\n",
    "plan_files = glob.glob(os.path.join(data_path, \"plan_*\"))\n",
    "progress_files = glob.glob(os.path.join(data_path, \"progress_*\"))\n",
    "progress_files = sorted(progress_files)\n",
    "plan_files = sorted(plan_files)\n",
    "\n",
    "a = Table.read(plan_files[-1])\n",
    "b = Table.read(progres_files[-1])\n",
    "print(a[:10])\n",
    "print(b[:10])\n",
    "print(b.keys())"
   ]
  },
  {
   "cell_type": "code",
   "execution_count": 84,
   "metadata": {
    "collapsed": false
   },
   "outputs": [],
   "source": [
    "n_progress = len(progress_files)\n",
    "n_active = np.ones(n_plan)\n",
    "n_0 = np.ones(n_plan)\n",
    "n_2 = np.ones(n_plan)\n",
    "for i in range(n_progress):\n",
    "    a = Table.read(progress_files[i])\n",
    "    n_0[i] = np.count_nonzero(a['status']==0)\n",
    "    n_2[i] = np.count_nonzero(a['status']==2)\n",
    "#    plt.scatter(a['ra'][a['status']==2], a['dec'][a['status']==2], alpha=0.1)"
   ]
  },
  {
   "cell_type": "code",
   "execution_count": 85,
   "metadata": {
    "collapsed": false
   },
   "outputs": [
    {
     "data": {
      "text/plain": [
       "[<matplotlib.lines.Line2D at 0x7f6b36e14198>]"
      ]
     },
     "execution_count": 85,
     "metadata": {},
     "output_type": "execute_result"
    },
    {
     "data": {
      "image/png": "[encoded data removed]",
      "text/plain": [
       "<matplotlib.figure.Figure at 0x7f6b36e14ba8>"
      ]
     },
     "metadata": {},
     "output_type": "display_data"
    }
   ],
   "source": [
    "plt.plot(n_0)\n",
    "plt.plot(n_2)"
   ]
  },
  {
   "cell_type": "code",
   "execution_count": null,
   "metadata": {
    "collapsed": true
   },
   "outputs": [],
   "source": []
  }
 ],
 "metadata": {
  "kernelspec": {
   "display_name": "Python 3",
   "language": "python",
   "name": "python3"
  },
  "language_info": {
   "codemirror_mode": {
    "name": "ipython",
    "version": 3
   },
   "file_extension": ".py",
   "mimetype": "text/x-python",
   "name": "python",
   "nbconvert_exporter": "python",
   "pygments_lexer": "ipython3",
   "version": "3.6.0"
  }
 },
 "nbformat": 4,
 "nbformat_minor": 2
}
