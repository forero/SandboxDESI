{
 "cells": [
  {
   "cell_type": "code",
   "execution_count": 1,
   "metadata": {
    "collapsed": true
   },
   "outputs": [],
   "source": [
    "import matplotlib.pyplot as plt\n",
    "import numpy as np\n",
    "import glob\n",
    "import os\n",
    "from astropy.table import Table\n",
    "%matplotlib inline"
   ]
  },
  {
   "cell_type": "code",
   "execution_count": 2,
   "metadata": {
    "collapsed": true
   },
   "outputs": [],
   "source": [
    "data_path = \"../surveysim/output/\"\n",
    "plan_files = glob.glob(os.path.join(data_path, \"plan_*\"))\n",
    "progress_files = glob.glob(os.path.join(data_path, \"progress_*\"))\n",
    "progress_files = sorted(progress_files)\n",
    "plan_files = sorted(plan_files)"
   ]
  },
  {
   "cell_type": "code",
   "execution_count": 3,
   "metadata": {},
   "outputs": [
    {
     "name": "stdout",
     "output_type": "stream",
     "text": [
      "tileid   ra    dec  pass group priority active   hourangle   \n",
      "------ ------ ----- ---- ----- -------- ------ --------------\n",
      "     4 335.03 19.88    0     2        6  False -8.62037277222\n",
      "     6 333.22 14.84    0     2        6  False -10.1858892441\n",
      "     7 332.35 12.32    0     2        6  False -8.91088867188\n",
      "     8  319.9  6.05    0     2        6  False -18.1183185577\n",
      "     9 330.67  7.31    0     2        6  False -9.06365966797\n",
      "    10 329.84   4.8    0     2        9  False  -8.4949054718\n",
      "    11  326.4  1.37    0     2        9  False -10.0686321259\n",
      "    12 326.88  4.31    0     2        9  False -8.83903598785\n",
      "    13 324.73  5.92    0     2        6  False -14.3890371323\n",
      "    14 322.58  7.47    0     2        6  False -12.4090747833\n",
      "tileid pass   ra   ...       moonalt [32]          moonsep [32]    \n",
      "                   ...           deg                   deg         \n",
      "------ ---- ------ ... ----------------------- --------------------\n",
      "     4    0 335.03 ... -0.0532379448414 .. 0.0 71.8129720119 .. 0.0\n",
      "     6    0 333.22 ...   -9.50623512268 .. 0.0 131.464974245 .. 0.0\n",
      "     7    0 332.35 ...   -1.25840401649 .. 0.0 131.022720503 .. 0.0\n",
      "     8    0  319.9 ...  -0.817395329475 .. 0.0 136.343503888 .. 0.0\n",
      "     9    0 330.67 ...   -13.6184272766 .. 0.0 156.508881723 .. 0.0\n",
      "    10    0 329.84 ...   -18.1913661957 .. 0.0   116.3712124 .. 0.0\n",
      "    11    0  326.4 ...   -32.5015182495 .. 0.0 140.996220683 .. 0.0\n",
      "    12    0 326.88 ...   -9.03414344788 .. 0.0  101.78469839 .. 0.0\n",
      "    13    0 324.73 ...    -13.511551857 .. 0.0 76.9183522566 .. 0.0\n",
      "    14    0 322.58 ...   -5.97883558273 .. 0.0 78.9724179447 .. 0.0\n",
      "['tileid', 'ra', 'dec', 'pass', 'group', 'priority', 'active', 'hourangle']\n",
      "['tileid', 'pass', 'ra', 'dec', 'status', 'mjd', 'exptime', 'snr2frac', 'airmass', 'seeing', 'moonfrac', 'moonalt', 'moonsep']\n"
     ]
    }
   ],
   "source": [
    "a = Table.read(plan_files[-1])\n",
    "b = Table.read(progress_files[-1])\n",
    "print(a[:10])\n",
    "print(b[:10])\n",
    "print(a.keys())\n",
    "print(b.keys())"
   ]
  },
  {
   "cell_type": "code",
   "execution_count": 6,
   "metadata": {},
   "outputs": [
    {
     "name": "stdout",
     "output_type": "stream",
     "text": [
      "['TILEID', 'RA', 'DEC', 'PASS', 'IN_DESI', 'EBV_MED', 'AIRMASS', 'STAR_DENSITY', 'EXPOSEFAC', 'PROGRAM', 'OBSCONDITIONS']\n",
      "16071\n",
      "indesi 20070\n",
      "0.12363885259162466 0.0 0.0\n"
     ]
    }
   ],
   "source": [
    "tiling_file = os.path.join(os.environ['DESIMODEL'], 'data/footprint/', 'desi-tiles.fits')\n",
    "tiling_data = Table.read(tiling_file)\n",
    "print(tiling_data.keys())\n",
    "\n",
    "#get the program of the unobserved tiles\n",
    "program = tiling_data['PROGRAM'][np.in1d(tiling_data['TILEID'], b['tileid'][b['status']==0])]\n",
    "n_all = len(b)\n",
    "print(n_all)\n",
    "print('indesi', np.count_nonzero(tiling_data['IN_DESI']!=0))\n",
    "print(np.count_nonzero(program=='DARK')/n_all, \n",
    "      np.count_nonzero(program=='BRIGHT')/n_all, \n",
    "      np.count_nonzero(program=='GRAY')/n_all)"
   ]
  },
  {
   "cell_type": "code",
   "execution_count": null,
   "metadata": {},
   "outputs": [
    {
     "name": "stdout",
     "output_type": "stream",
     "text": [
      "0 33 1927 1197 1197\n",
      "1 33 1050 861 861\n",
      "2 33 391 237 237\n",
      "3 33 356 15 15\n",
      "4 33 696 198 198\n",
      "5 33 818 244 244\n",
      "6 33 894 102 102\n",
      "7 33 1088 327 327\n",
      "8 33 962 613 613\n",
      "9 33 987 142 142\n",
      "10 33 1246 546 546\n",
      "11 33 1413 15 15\n",
      "12 33 1758 807 807\n",
      "13 33 1302 140 140\n",
      "14 33 1460 735 735\n",
      "15 33 1025 340 340\n",
      "16 33 685 403 403\n",
      "17 33 696 147 147\n",
      "18 33 847 285 285\n",
      "19 33 562 249 249\n",
      "20 33 725 359 359\n",
      "21 33 781 324 324\n",
      "22 33 755 626 626\n",
      "23 33 129 4 4\n",
      "24 33 423 325 325\n",
      "25 33 930 33 33\n",
      "26 33 1605 1242 1242\n",
      "27 33 1138 780 780\n",
      "28 33 953 882 882\n"
     ]
    }
   ],
   "source": [
    "n_progress = len(progress_files)\n",
    "n_epoch = n_progress - 1\n",
    "for i in range(n_epoch):\n",
    "    plan_data = Table.read(plan_files[i])\n",
    "    progress_data = Table.read(progress_files[i+1])\n",
    "    previous_progress_data = Table.read(progress_files[i])\n",
    "    \n",
    "    plan_tileid = plan_data['tileid'][plan_data['active']==True]\n",
    "    progress_tileid = progress_data['tileid'][progress_data['status']==2]\n",
    "    previous_progress_tileid = previous_progress_data['tileid'][previous_progress_data['status']==2]\n",
    "    observed_tiles = np.array(list(set(progress_tileid) - set(previous_progress_tileid)))\n",
    "    \n",
    "    match = plan_tileid[np.in1d(plan_tileid, observed_tiles)]\n",
    "    if(len(match)!=len(observed_tiles)):\n",
    "        print('Problem!')\n",
    "    print(i, n_epoch, len(plan_tileid), len(observed_tiles), len(match))"
   ]
  },
  {
   "cell_type": "code",
   "execution_count": null,
   "metadata": {
    "collapsed": true
   },
   "outputs": [],
   "source": []
  }
 ],
 "metadata": {
  "kernelspec": {
   "display_name": "Python 3",
   "language": "python",
   "name": "python3"
  },
  "language_info": {
   "codemirror_mode": {
    "name": "ipython",
    "version": 3
   },
   "file_extension": ".py",
   "mimetype": "text/x-python",
   "name": "python",
   "nbconvert_exporter": "python",
   "pygments_lexer": "ipython3",
   "version": "3.5.3"
  }
 },
 "nbformat": 4,
 "nbformat_minor": 2
}
