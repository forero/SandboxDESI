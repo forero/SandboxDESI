{
 "cells": [
  {
   "cell_type": "code",
   "execution_count": 2,
   "metadata": {
    "collapsed": false
   },
   "outputs": [],
   "source": [
    "import numpy as np\n",
    "import astropy\n",
    "import matplotlib.pyplot as plt\n",
    "import os\n",
    "import astropy.io.fits as fits\n",
    "from astropy.table import Table\n",
    "from desitarget import desi_mask, bgs_mask, mws_mask, contam_mask\n",
    "from desiutil.plots import init_sky, plot_sky_binned\n",
    "from desiutil.log import get_logger\n",
    "import warnings\n",
    "import mpl_toolkits\n",
    "\n",
    "%matplotlib inline\n"
   ]
  },
  {
   "cell_type": "code",
   "execution_count": 3,
   "metadata": {
    "collapsed": true
   },
   "outputs": [],
   "source": [
    "program = 'dark'\n",
    "topdir = os.path.join(\"/hpcfs/home/ciencias/fisica/docentes/je.forero/desidata/test_20170508/\")\n",
    "truthfile = os.path.join(topdir, 'input/{}/'.format(program), 'truth.fits')\n",
    "targetfile = os.path.join(topdir, 'input/{}/'.format(program), 'targets.fits')\n",
    "zcatfile = os.path.join(topdir, 'output/{}/4'.format(program), 'zcat.fits')\n",
    "\n",
    "#skyfile = os.path.join(topdir, 'sky.fits')\n",
    "#stddarkfile = os.path.join(topdir, 'standards-dark.fits')\n",
    "#stdbrightfile = os.path.join(topdir, 'standards-bright.fits')"
   ]
  },
  {
   "cell_type": "code",
   "execution_count": 4,
   "metadata": {
    "collapsed": false
   },
   "outputs": [],
   "source": [
    "targets  = fits.getdata(targetfile)"
   ]
  },
  {
   "cell_type": "code",
   "execution_count": 5,
   "metadata": {
    "collapsed": false
   },
   "outputs": [
    {
     "data": {
      "text/html": [
       "&lt;Table length=10&gt;\n",
       "<table id=\"table139668120780024\" class=\"table-striped table-bordered table-condensed\">\n",
       "<thead><tr><th>TARGETID</th><th>RA</th><th>DEC</th><th>DESI_TARGET</th><th>BGS_TARGET</th><th>MWS_TARGET</th><th>SUBPRIORITY</th><th>OBSCONDITIONS</th><th>BRICKNAME</th><th>DECAM_FLUX [6]</th><th>SHAPEDEV_R</th><th>SHAPEEXP_R</th><th>DEPTH_R</th><th>GALDEPTH_R</th></tr></thead>\n",
       "<thead><tr><th>int64</th><th>float64</th><th>float64</th><th>int64</th><th>int64</th><th>int64</th><th>float64</th><th>float64</th><th>str8</th><th>float32</th><th>float32</th><th>float32</th><th>float32</th><th>float32</th></tr></thead>\n",
       "<tr><td>1913083273142325984</td><td>9.59603287191</td><td>-7.96864299891</td><td>4</td><td>0</td><td>0</td><td>0.874412621321</td><td>1.0</td><td>0098m080</td><td>0.0 .. 0.0</td><td>0.0</td><td>0.0</td><td>24.7716</td><td>24.4795</td></tr>\n",
       "<tr><td>2771587901724092043</td><td>2.46544022805</td><td>-14.7033657602</td><td>4</td><td>0</td><td>0</td><td>0.339985051046</td><td>1.0</td><td>0023m145</td><td>0.0 .. 0.0</td><td>0.0</td><td>0.0</td><td>23.9023</td><td>23.6205</td></tr>\n",
       "<tr><td>969669320400918333</td><td>5.65710217668</td><td>-8.69037459083</td><td>4</td><td>0</td><td>0</td><td>0.19649634412</td><td>1.0</td><td>0057m085</td><td>0.0 .. 0.0</td><td>0.0</td><td>0.0</td><td>21.9372</td><td>21.7386</td></tr>\n",
       "<tr><td>3524774154980433357</td><td>9.52008938818</td><td>-8.14619205472</td><td>4</td><td>0</td><td>0</td><td>0.689182304402</td><td>1.0</td><td>0093m080</td><td>0.0 .. 0.0</td><td>0.0</td><td>0.0</td><td>24.8698</td><td>24.5472</td></tr>\n",
       "<tr><td>3815924188513168547</td><td>9.87313688016</td><td>-5.47601742467</td><td>4</td><td>0</td><td>0</td><td>0.412090351859</td><td>1.0</td><td>0097m055</td><td>0.0 .. 0.0</td><td>0.0</td><td>0.0</td><td>24.6583</td><td>24.3936</td></tr>\n",
       "<tr><td>2574966351288023565</td><td>3.72897315425</td><td>-13.201883338</td><td>4</td><td>0</td><td>0</td><td>0.0331880302021</td><td>1.0</td><td>0038m130</td><td>0.0 .. 0.0</td><td>0.0</td><td>0.0</td><td>24.9373</td><td>24.6974</td></tr>\n",
       "<tr><td>3910964841860800689</td><td>5.42150220456</td><td>-10.2811286749</td><td>4</td><td>0</td><td>0</td><td>0.0367054553279</td><td>1.0</td><td>0053m105</td><td>0.0 .. 0.0</td><td>0.0</td><td>0.0</td><td>24.7737</td><td>24.4967</td></tr>\n",
       "<tr><td>2839749178270131820</td><td>6.71776150313</td><td>-10.8874062533</td><td>4</td><td>0</td><td>0</td><td>0.8465572925</td><td>1.0</td><td>0068m110</td><td>0.0 .. 0.0</td><td>0.0</td><td>0.0</td><td>23.7261</td><td>23.4912</td></tr>\n",
       "<tr><td>494347467813955667</td><td>2.29951992127</td><td>-11.226112242</td><td>4</td><td>0</td><td>0</td><td>0.524939003802</td><td>1.0</td><td>0022m110</td><td>0.0 .. 0.0</td><td>0.0</td><td>0.0</td><td>24.2043</td><td>23.9255</td></tr>\n",
       "<tr><td>1623952395678799911</td><td>1.66353656214</td><td>-5.99028675154</td><td>4</td><td>0</td><td>0</td><td>0.921571142798</td><td>1.0</td><td>0017m060</td><td>0.0 .. 0.0</td><td>0.0</td><td>0.0</td><td>23.7211</td><td>23.6353</td></tr>\n",
       "</table>"
      ],
      "text/plain": [
       "<Table length=10>\n",
       "      TARGETID            RA           DEC       ... DEPTH_R GALDEPTH_R\n",
       "       int64           float64       float64     ... float32  float32  \n",
       "------------------- ------------- -------------- ... ------- ----------\n",
       "1913083273142325984 9.59603287191 -7.96864299891 ... 24.7716    24.4795\n",
       "2771587901724092043 2.46544022805 -14.7033657602 ... 23.9023    23.6205\n",
       " 969669320400918333 5.65710217668 -8.69037459083 ... 21.9372    21.7386\n",
       "3524774154980433357 9.52008938818 -8.14619205472 ... 24.8698    24.5472\n",
       "3815924188513168547 9.87313688016 -5.47601742467 ... 24.6583    24.3936\n",
       "2574966351288023565 3.72897315425  -13.201883338 ... 24.9373    24.6974\n",
       "3910964841860800689 5.42150220456 -10.2811286749 ... 24.7737    24.4967\n",
       "2839749178270131820 6.71776150313 -10.8874062533 ... 23.7261    23.4912\n",
       " 494347467813955667 2.29951992127  -11.226112242 ... 24.2043    23.9255\n",
       "1623952395678799911 1.66353656214 -5.99028675154 ... 23.7211    23.6353"
      ]
     },
     "execution_count": 5,
     "metadata": {},
     "output_type": "execute_result"
    }
   ],
   "source": [
    "Table(targets[:10])"
   ]
  },
  {
   "cell_type": "code",
   "execution_count": 6,
   "metadata": {
    "collapsed": true
   },
   "outputs": [],
   "source": [
    "def qadensity(cat, objtype, targdens=None, max_bin_area=1.0):\n",
    "    label = '{} (targets/deg$^2$)'.format(objtype)\n",
    "    if targdens:\n",
    "        fig, ax = plt.subplots(1, 2, figsize=(12, 4))\n",
    "    else:\n",
    "        fig, ax = plt.subplots(1)\n",
    "    ax = np.atleast_1d(ax)\n",
    "       \n",
    "    with warnings.catch_warnings():\n",
    "        warnings.simplefilter('ignore')\n",
    "        basemap = init_sky(galactic_plane_color='k', ax=ax[0]);\n",
    "        data, area, _ = plot_sky_binned(cat['RA'], cat['DEC'], max_bin_area=max_bin_area,\n",
    "                                        clip_lo='!1', cmap='jet', plot_type='healpix', \n",
    "                                        label=label, basemap=basemap)\n",
    "    if targdens:\n",
    "        dens = data.compressed()\n",
    "        ax[1].hist(dens, bins=100, histtype='stepfilled', alpha=0.6, label='Observed {} Density'.format(objtype))\n",
    "        if objtype in targdens.keys():\n",
    "            ax[1].axvline(x=targdens[objtype], ls='--', color='k', label='Goal {} Density'.format(objtype))\n",
    "        ax[1].set_xlabel(label)\n",
    "        ax[1].set_ylabel('Number of Healpixels')\n",
    "        ax[1].legend(loc='upper left', frameon=False)\n",
    "        fig.subplots_adjust(wspace=0.2)"
   ]
  },
  {
   "cell_type": "code",
   "execution_count": 7,
   "metadata": {
    "collapsed": true
   },
   "outputs": [],
   "source": [
    "# Desired target densities, including contaminants.\n",
    "targdens = {'ELG': 2400, 'LRG': 350, 'QSO': 260, 'SKY': 1400}"
   ]
  },
  {
   "cell_type": "code",
   "execution_count": 8,
   "metadata": {
    "collapsed": false
   },
   "outputs": [
    {
     "ename": "ImportError",
     "evalue": "No module named 'mpl_toolkits.basemap'",
     "output_type": "error",
     "traceback": [
      "\u001b[0;31m---------------------------------------------------------------------------\u001b[0m",
      "\u001b[0;31mImportError\u001b[0m                               Traceback (most recent call last)",
      "\u001b[0;32m<ipython-input-8-c7d5ae5b5af5>\u001b[0m in \u001b[0;36m<module>\u001b[0;34m()\u001b[0m\n\u001b[1;32m      1\u001b[0m \u001b[0;32mfor\u001b[0m \u001b[0mobj\u001b[0m \u001b[0;32min\u001b[0m \u001b[0;34m(\u001b[0m\u001b[0;34m'ELG'\u001b[0m\u001b[0;34m,\u001b[0m\u001b[0;34m'LRG'\u001b[0m\u001b[0;34m,\u001b[0m \u001b[0;34m'QSO'\u001b[0m\u001b[0;34m)\u001b[0m\u001b[0;34m:\u001b[0m\u001b[0;34m\u001b[0m\u001b[0m\n\u001b[1;32m      2\u001b[0m     \u001b[0mthese\u001b[0m \u001b[0;34m=\u001b[0m \u001b[0mnp\u001b[0m\u001b[0;34m.\u001b[0m\u001b[0mwhere\u001b[0m\u001b[0;34m(\u001b[0m\u001b[0;34m(\u001b[0m\u001b[0mtargets\u001b[0m\u001b[0;34m[\u001b[0m\u001b[0;34m'DESI_TARGET'\u001b[0m\u001b[0;34m]\u001b[0m \u001b[0;34m&\u001b[0m \u001b[0mdesi_mask\u001b[0m\u001b[0;34m.\u001b[0m\u001b[0mmask\u001b[0m\u001b[0;34m(\u001b[0m\u001b[0mobj\u001b[0m\u001b[0;34m)\u001b[0m\u001b[0;34m)\u001b[0m \u001b[0;34m!=\u001b[0m \u001b[0;36m0\u001b[0m\u001b[0;34m)\u001b[0m\u001b[0;34m[\u001b[0m\u001b[0;36m0\u001b[0m\u001b[0;34m]\u001b[0m\u001b[0;34m\u001b[0m\u001b[0m\n\u001b[0;32m----> 3\u001b[0;31m     \u001b[0mqadensity\u001b[0m\u001b[0;34m(\u001b[0m\u001b[0mtargets\u001b[0m\u001b[0;34m[\u001b[0m\u001b[0mthese\u001b[0m\u001b[0;34m]\u001b[0m\u001b[0;34m,\u001b[0m \u001b[0mobj\u001b[0m\u001b[0;34m,\u001b[0m \u001b[0mtargdens\u001b[0m\u001b[0;34m)\u001b[0m\u001b[0;34m\u001b[0m\u001b[0m\n\u001b[0m",
      "\u001b[0;32m<ipython-input-6-f83fd8d9dfe5>\u001b[0m in \u001b[0;36mqadensity\u001b[0;34m(cat, objtype, targdens, max_bin_area)\u001b[0m\n\u001b[1;32m      9\u001b[0m     \u001b[0;32mwith\u001b[0m \u001b[0mwarnings\u001b[0m\u001b[0;34m.\u001b[0m\u001b[0mcatch_warnings\u001b[0m\u001b[0;34m(\u001b[0m\u001b[0;34m)\u001b[0m\u001b[0;34m:\u001b[0m\u001b[0;34m\u001b[0m\u001b[0m\n\u001b[1;32m     10\u001b[0m         \u001b[0mwarnings\u001b[0m\u001b[0;34m.\u001b[0m\u001b[0msimplefilter\u001b[0m\u001b[0;34m(\u001b[0m\u001b[0;34m'ignore'\u001b[0m\u001b[0;34m)\u001b[0m\u001b[0;34m\u001b[0m\u001b[0m\n\u001b[0;32m---> 11\u001b[0;31m         \u001b[0mbasemap\u001b[0m \u001b[0;34m=\u001b[0m \u001b[0minit_sky\u001b[0m\u001b[0;34m(\u001b[0m\u001b[0mgalactic_plane_color\u001b[0m\u001b[0;34m=\u001b[0m\u001b[0;34m'k'\u001b[0m\u001b[0;34m,\u001b[0m \u001b[0max\u001b[0m\u001b[0;34m=\u001b[0m\u001b[0max\u001b[0m\u001b[0;34m[\u001b[0m\u001b[0;36m0\u001b[0m\u001b[0;34m]\u001b[0m\u001b[0;34m)\u001b[0m\u001b[0;34m;\u001b[0m\u001b[0;34m\u001b[0m\u001b[0m\n\u001b[0m\u001b[1;32m     12\u001b[0m         data, area, _ = plot_sky_binned(cat['RA'], cat['DEC'], max_bin_area=max_bin_area,\n\u001b[1;32m     13\u001b[0m                                         \u001b[0mclip_lo\u001b[0m\u001b[0;34m=\u001b[0m\u001b[0;34m'!1'\u001b[0m\u001b[0;34m,\u001b[0m \u001b[0mcmap\u001b[0m\u001b[0;34m=\u001b[0m\u001b[0;34m'jet'\u001b[0m\u001b[0;34m,\u001b[0m \u001b[0mplot_type\u001b[0m\u001b[0;34m=\u001b[0m\u001b[0;34m'healpix'\u001b[0m\u001b[0;34m,\u001b[0m\u001b[0;34m\u001b[0m\u001b[0m\n",
      "\u001b[0;32m/hpcfs/home/ciencias/fisica/docentes/je.forero/.local/lib/python3.5/site-packages/desiutil-1.9.3.dev402-py3.5.egg/desiutil/plots.py\u001b[0m in \u001b[0;36minit_sky\u001b[0;34m(projection, ra_center, galactic_plane_color, ra_labels, dec_labels, ax)\u001b[0m\n\u001b[1;32m    379\u001b[0m         \u001b[0mmatplotlib\u001b[0m\u001b[0;34m.\u001b[0m\u001b[0muse\u001b[0m\u001b[0;34m(\u001b[0m\u001b[0;34m'agg'\u001b[0m\u001b[0;34m)\u001b[0m\u001b[0;34m\u001b[0m\u001b[0m\n\u001b[1;32m    380\u001b[0m     \u001b[0;32mfrom\u001b[0m \u001b[0mmatplotlib\u001b[0m\u001b[0;34m.\u001b[0m\u001b[0mpatches\u001b[0m \u001b[0;32mimport\u001b[0m \u001b[0mPolygon\u001b[0m\u001b[0;34m\u001b[0m\u001b[0m\n\u001b[0;32m--> 381\u001b[0;31m     \u001b[0;32mfrom\u001b[0m \u001b[0mmpl_toolkits\u001b[0m\u001b[0;34m.\u001b[0m\u001b[0mbasemap\u001b[0m \u001b[0;32mimport\u001b[0m \u001b[0mpyproj\u001b[0m\u001b[0;34m\u001b[0m\u001b[0m\n\u001b[0m\u001b[1;32m    382\u001b[0m     \u001b[0;32mfrom\u001b[0m \u001b[0mmpl_toolkits\u001b[0m\u001b[0;34m.\u001b[0m\u001b[0mbasemap\u001b[0m \u001b[0;32mimport\u001b[0m \u001b[0mBasemap\u001b[0m\u001b[0;34m\u001b[0m\u001b[0m\n\u001b[1;32m    383\u001b[0m     \u001b[0;32mfrom\u001b[0m \u001b[0mastropy\u001b[0m\u001b[0;34m.\u001b[0m\u001b[0mcoordinates\u001b[0m \u001b[0;32mimport\u001b[0m \u001b[0mSkyCoord\u001b[0m\u001b[0;34m\u001b[0m\u001b[0m\n",
      "\u001b[0;31mImportError\u001b[0m: No module named 'mpl_toolkits.basemap'"
     ]
    },
    {
     "data": {
      "image/png": "[encoded data removed]",
      "text/plain": [
       "<matplotlib.figure.Figure at 0x7f06ddda4278>"
      ]
     },
     "metadata": {},
     "output_type": "display_data"
    }
   ],
   "source": [
    "for obj in ('ELG','LRG', 'QSO'):\n",
    "    these = np.where((targets['DESI_TARGET'] & desi_mask.mask(obj)) != 0)[0]\n",
    "    qadensity(targets[these], obj, targdens)"
   ]
  },
  {
   "cell_type": "code",
   "execution_count": 12,
   "metadata": {
    "collapsed": false
   },
   "outputs": [
    {
     "ename": "ImportError",
     "evalue": "No module named 'mpl_toolkits.basemap'",
     "output_type": "error",
     "traceback": [
      "\u001b[0;31m---------------------------------------------------------------------------\u001b[0m",
      "\u001b[0;31mImportError\u001b[0m                               Traceback (most recent call last)",
      "\u001b[0;32m<ipython-input-12-696228d030c9>\u001b[0m in \u001b[0;36m<module>\u001b[0;34m()\u001b[0m\n\u001b[0;32m----> 1\u001b[0;31m \u001b[0;32mimport\u001b[0m \u001b[0mmpl_toolkits\u001b[0m\u001b[0;34m.\u001b[0m\u001b[0mbasemap\u001b[0m\u001b[0;34m\u001b[0m\u001b[0m\n\u001b[0m",
      "\u001b[0;31mImportError\u001b[0m: No module named 'mpl_toolkits.basemap'"
     ]
    }
   ],
   "source": [
    "import mpl_toolkits.basemap"
   ]
  },
  {
   "cell_type": "code",
   "execution_count": null,
   "metadata": {
    "collapsed": true
   },
   "outputs": [],
   "source": []
  }
 ],
 "metadata": {
  "anaconda-cloud": {},
  "kernelspec": {
   "display_name": "Python [conda root]",
   "language": "python",
   "name": "conda-root-py"
  },
  "language_info": {
   "codemirror_mode": {
    "name": "ipython",
    "version": 3
   },
   "file_extension": ".py",
   "mimetype": "text/x-python",
   "name": "python",
   "nbconvert_exporter": "python",
   "pygments_lexer": "ipython3",
   "version": "3.5.2"
  }
 },
 "nbformat": 4,
 "nbformat_minor": 1
}
