{
 "cells": [
  {
   "cell_type": "code",
   "execution_count": 11,
   "metadata": {
    "collapsed": false
   },
   "outputs": [],
   "source": [
    "import numpy as np\n",
    "import astropy\n",
    "import matplotlib.pyplot as plt\n",
    "import os\n",
    "import astropy.io.fits as fits\n",
    "from astropy.table import Table\n",
    "from desitarget import desi_mask, bgs_mask, mws_mask, contam_mask\n",
    "from desiutil.plots import prepare_data, init_sky, plot_sky_circles, plot_sky_binned\n",
    "from desiutil.log import get_logger\n",
    "import warnings\n",
    "import mpl_toolkits\n",
    "%matplotlib inline"
   ]
  },
  {
   "cell_type": "code",
   "execution_count": 12,
   "metadata": {
    "collapsed": true
   },
   "outputs": [],
   "source": [
    "topdir = os.path.join(\"/global/cscratch1/sd/forero/test_20170829/targets/N20/\")\n",
    "truthfile = os.path.join(topdir, 'truth.fits')\n",
    "targetfile = os.path.join(topdir, 'targets.fits')\n",
    "skyfile = os.path.join(topdir, 'sky.fits')\n",
    "stdstarsbrightfile = os.path.join(topdir, 'standards-bright.fits')\n",
    "stdstarsdarkfile = os.path.join(topdir, 'standards-dark.fits')"
   ]
  },
  {
   "cell_type": "code",
   "execution_count": 13,
   "metadata": {
    "collapsed": true
   },
   "outputs": [],
   "source": [
    "targets  = fits.getdata(targetfile)\n",
    "truth = fits.getdata(truthfile)\n",
    "sky = fits.getdata(skyfile)\n",
    "stdstars_bright  = fits.getdata(stdstarsbrightfile)\n",
    "stdstars_dark  = fits.getdata(stdstarsdarkfile)"
   ]
  },
  {
   "cell_type": "code",
   "execution_count": null,
   "metadata": {
    "collapsed": true
   },
   "outputs": [],
   "source": [
    "def qadensity(cat, objtype, targdens=None, max_bin_area=10.0):\n",
    "    label = '{} (targets/deg$^2$)'.format(objtype)\n",
    "    if targdens:\n",
    "        fig, ax = plt.subplots(1, 2, figsize=(12, 4))\n",
    "    else:\n",
    "        fig, ax = plt.subplots(1)\n",
    "    ax = np.atleast_1d(ax)\n",
    "    \n",
    "    basemap = init_sky(galactic_plane_color='k', ax=ax[0]);\n",
    "    basemap, data = plot_sky_binned(cat['RA'], cat['DEC'], max_bin_area=max_bin_area,\n",
    "                                    clip_lo='!1', cmap='jet', plot_type='healpix', \n",
    "                                    label=label, basemap=basemap)\n",
    "    if targdens:\n",
    "        dens = data[np.nonzero(data)]\n",
    "        ax[1].hist(dens, bins=40, histtype='stepfilled', alpha=0.6, label='Observed {} Density'.format(objtype))\n",
    "        if objtype in targdens.keys():\n",
    "            ax[1].axvline(x=targdens[objtype], ls='--', color='k', label='Goal {} Density'.format(objtype))\n",
    "        ax[1].set_xlabel(label)\n",
    "        ax[1].set_ylabel('Number of Healpixels')\n",
    "        ax[1].legend(loc='upper left', frameon=False)\n",
    "        fig.subplots_adjust(wspace=0.2)\n",
    "    return dens"
   ]
  },
  {
   "cell_type": "code",
   "execution_count": null,
   "metadata": {
    "collapsed": true
   },
   "outputs": [],
   "source": [
    "# Desired target densities, including contaminants.\n",
    "targdens = {'ELG': 2400, 'LRG': 350, 'QSO': 260, 'SKY': 1400}"
   ]
  },
  {
   "cell_type": "code",
   "execution_count": null,
   "metadata": {
    "collapsed": false
   },
   "outputs": [],
   "source": [
    "for obj in ['ELG','LRG','QSO']:\n",
    "    these = (targets['DESI_TARGET'] & desi_mask.mask(obj)) != 0\n",
    "    dd = targets[these]\n",
    "    a = qadensity(dd, obj, targdens=targdens)"
   ]
  },
  {
   "cell_type": "code",
   "execution_count": null,
   "metadata": {
    "collapsed": false
   },
   "outputs": [],
   "source": [
    "for obj in ['BGS_ANY', 'MWS_ANY']:\n",
    "    these = (targets['DESI_TARGET'] & desi_mask.mask(obj)) != 0\n",
    "    dd = targets[these]\n",
    "    a = qadensity(dd, obj, targdens=targdens)"
   ]
  },
  {
   "cell_type": "code",
   "execution_count": null,
   "metadata": {
    "collapsed": false
   },
   "outputs": [],
   "source": [
    "a = qadensity(sky, 'SKY', targdens=targdens)"
   ]
  },
  {
   "cell_type": "code",
   "execution_count": null,
   "metadata": {
    "collapsed": false
   },
   "outputs": [],
   "source": [
    "a = qadensity(stdstars_bright, 'STD_STARS_BRIGHT', targdens=targdens)"
   ]
  },
  {
   "cell_type": "code",
   "execution_count": null,
   "metadata": {
    "collapsed": false
   },
   "outputs": [],
   "source": [
    "a = qadensity(stdstars_dark, 'STD_STARS_DARK', targdens=targdens)"
   ]
  },
  {
   "cell_type": "code",
   "execution_count": null,
   "metadata": {
    "collapsed": true
   },
   "outputs": [],
   "source": []
  }
 ],
 "metadata": {
  "anaconda-cloud": {},
  "kernelspec": {
   "display_name": "DESI dev",
   "language": "python",
   "name": "desi-dev"
  },
  "language_info": {
   "codemirror_mode": {
    "name": "ipython",
    "version": 3
   },
   "file_extension": ".py",
   "mimetype": "text/x-python",
   "name": "python",
   "nbconvert_exporter": "python",
   "pygments_lexer": "ipython3",
   "version": "3.5.3"
  }
 },
 "nbformat": 4,
 "nbformat_minor": 1
}
