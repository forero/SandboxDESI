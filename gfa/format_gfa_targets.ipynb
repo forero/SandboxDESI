{
 "cells": [
  {
   "cell_type": "code",
   "execution_count": 1,
   "metadata": {},
   "outputs": [],
   "source": [
    "import fitsio\n",
    "import numpy as np\n",
    "import matplotlib.pyplot as plt\n",
    "import glob\n",
    "import os.path\n",
    "%matplotlib inline"
   ]
  },
  {
   "cell_type": "code",
   "execution_count": 2,
   "metadata": {},
   "outputs": [
    {
     "name": "stdout",
     "output_type": "stream",
     "text": [
      "10667\n"
     ]
    }
   ],
   "source": [
    "fiberassign_root = \"/global/cscratch1/sd/forero/DR5FiberAssign/fiberassign/tileresults\"\n",
    "fiberassign_tilefiles = glob.glob(fiberassign_root+\"/tile*.fits\")\n",
    "print(len(fiberassign_tilefiles))"
   ]
  },
  {
   "cell_type": "code",
   "execution_count": 3,
   "metadata": {},
   "outputs": [
    {
     "name": "stdout",
     "output_type": "stream",
     "text": [
      "67\n"
     ]
    }
   ],
   "source": [
    "output_root = \"/global/cscratch1/sd/forero/gfa_test/\"\n",
    "gfa_files = glob.glob(os.path.join(output_root, \"gfa_targets_*.fits\"))\n",
    "print(len(gfa_files))"
   ]
  },
  {
   "cell_type": "code",
   "execution_count": 4,
   "metadata": {},
   "outputs": [],
   "source": [
    "gfa_tile_id = {}\n",
    "for gfa_file in gfa_files:\n",
    "    f = gfa_file.split('/')[-1]\n",
    "    fileid = f.split(\"_\")[-1]\n",
    "    fileid = fileid[0:5]\n",
    "    gfa_tile_id[fileid] = gfa_file"
   ]
  },
  {
   "cell_type": "code",
   "execution_count": 5,
   "metadata": {},
   "outputs": [],
   "source": [
    "fa_tile_id = {}\n",
    "for fa_file in fiberassign_tilefiles:\n",
    "    f = fa_file.split('/')[-1]\n",
    "    fileid = f.split(\"_\")[-1]\n",
    "    fileid = fileid[0:5]\n",
    "    fa_tile_id[fileid] = fa_file"
   ]
  },
  {
   "cell_type": "code",
   "execution_count": 7,
   "metadata": {
    "scrolled": true
   },
   "outputs": [
    {
     "name": "stdout",
     "output_type": "stream",
     "text": [
      "00284\n",
      "00290\n",
      "00100\n",
      "00032\n",
      "00139\n",
      "00106\n",
      "00104\n",
      "00065\n",
      "00034\n",
      "00029\n",
      "00015\n",
      "00013\n",
      "00288\n",
      "00119\n",
      "00016\n",
      "00287\n",
      "00289\n",
      "00026\n",
      "00007\n",
      "00035\n",
      "00047\n",
      "00063\n",
      "00043\n",
      "00048\n",
      "00046\n",
      "00052\n",
      "00028\n",
      "00120\n",
      "00027\n",
      "00300\n",
      "00049\n",
      "00044\n",
      "00025\n",
      "00006\n",
      "00098\n",
      "00061\n",
      "00115\n",
      "00045\n",
      "00291\n",
      "00096\n",
      "00066\n",
      "00125\n",
      "00285\n",
      "00010\n",
      "00051\n",
      "00286\n",
      "00017\n",
      "00062\n",
      "00050\n",
      "00033\n",
      "00009\n",
      "00031\n",
      "00036\n",
      "00136\n",
      "00014\n",
      "00030\n",
      "00053\n",
      "00012\n",
      "00011\n",
      "00141\n",
      "00008\n",
      "00064\n",
      "00118\n"
     ]
    }
   ],
   "source": [
    "for gfa_id in gfa_tile_id.keys():\n",
    "    if gfa_id in fa_tile_id.keys():\n",
    "        print(gfa_id)\n",
    "        #print(gfa_id, fa_tile_id[gfa_id], gfa_tile_id[gfa_id])"
   ]
  },
  {
   "cell_type": "code",
   "execution_count": 52,
   "metadata": {
    "scrolled": false
   },
   "outputs": [
    {
     "name": "stdout",
     "output_type": "stream",
     "text": [
      "1469\n"
     ]
    },
    {
     "data": {
      "text/plain": [
       "<matplotlib.collections.PathCollection at 0x2ae60d444908>"
      ]
     },
     "execution_count": 52,
     "metadata": {},
     "output_type": "execute_result"
    },
    {
     "data": {
      "image/png": "[encoded data removed]",
      "text/plain": [
       "<matplotlib.figure.Figure at 0x2ae60d444710>"
      ]
     },
     "metadata": {},
     "output_type": "display_data"
    }
   ],
   "source": [
    "gfa_id = '00118'\n",
    "gfa_data = fitsio.read(gfa_tile_id[gfa_id])\n",
    "fiber_data = fitsio.read(fa_tile_id[gfa_id], ext=1)\n",
    "potential_data = fitsio.read(fa_tile_id[gfa_id], ext=2)\n",
    "ii = fiber_data['TARGETID']!=-1\n",
    "print(len(potential_data))\n",
    "plt.scatter(fiber_data['RA'][ii], fiber_data['DEC'][ii], s =0.1)\n",
    "plt.scatter(gfa_data['RA'], gfa_data['DEC'], s =0.1)"
   ]
  },
  {
   "cell_type": "code",
   "execution_count": null,
   "metadata": {},
   "outputs": [],
   "source": []
  }
 ],
 "metadata": {
  "kernelspec": {
   "display_name": "DESI master",
   "language": "python",
   "name": "desi-master"
  },
  "language_info": {
   "codemirror_mode": {
    "name": "ipython",
    "version": 3
   },
   "file_extension": ".py",
   "mimetype": "text/x-python",
   "name": "python",
   "nbconvert_exporter": "python",
   "pygments_lexer": "ipython3",
   "version": "3.5.3"
  }
 },
 "nbformat": 4,
 "nbformat_minor": 2
}
