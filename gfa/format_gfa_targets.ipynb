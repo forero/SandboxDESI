{
 "cells": [
  {
   "cell_type": "code",
   "execution_count": 10,
   "metadata": {},
   "outputs": [],
   "source": [
    "import desimodel.focalplane\n",
    "import desitarget.io\n",
    "from astropy.table import Table, vstack"
   ]
  },
  {
   "cell_type": "code",
   "execution_count": 14,
   "metadata": {},
   "outputs": [],
   "source": [
    "sweep_root = \"/project/projectdirs/cosmo/data/legacysurvey/dr5/sweep/5.0/\""
   ]
  },
  {
   "cell_type": "code",
   "execution_count": 15,
   "metadata": {},
   "outputs": [],
   "source": [
    "sweep_files = desitarget.io.list_sweepfiles(sweep_root)"
   ]
  },
  {
   "cell_type": "code",
   "execution_count": 16,
   "metadata": {},
   "outputs": [
    {
     "data": {
      "text/plain": [
       "303"
      ]
     },
     "execution_count": 16,
     "metadata": {},
     "output_type": "execute_result"
    }
   ],
   "source": [
    "len(sweep_files)"
   ]
  },
  {
   "cell_type": "code",
   "execution_count": 17,
   "metadata": {},
   "outputs": [
    {
     "data": {
      "text/plain": [
       "'/project/projectdirs/cosmo/data/legacysurvey/dr5/sweep/5.0/sweep-320m015-330m010.fits'"
      ]
     },
     "execution_count": 17,
     "metadata": {},
     "output_type": "execute_result"
    }
   ],
   "source": [
    "sweep_files[0]"
   ]
  },
  {
   "cell_type": "code",
   "execution_count": 41,
   "metadata": {},
   "outputs": [],
   "source": [
    "data = desitarget.io.read(tractor_files[0], columns=['RA', 'DEC', 'FLUX_R'])\n",
    "gfa_table = desimodel.focalplane.get_gfa_targets(data)\n",
    "for i in range(1,10):\n",
    "    data = desitarget.io.read_tractor(tractor_files[i], columns=['RA', 'DEC', 'FLUX_R'])\n",
    "    tmp_gfa_table = desimodel.focalplane.get_gfa_targets(data)\n",
    "    if len(tmp_gfa_table)>0:\n",
    "        gfa_table = vstack([gfa_table, tmp_gfa_table])"
   ]
  },
  {
   "cell_type": "code",
   "execution_count": 43,
   "metadata": {},
   "outputs": [
    {
     "data": {
      "text/html": [
       "&lt;Table length=10&gt;\n",
       "<table id=\"table47567329947888\" class=\"table-striped table-bordered table-condensed\">\n",
       "<thead><tr><th>RA</th><th>DEC</th><th>FLUX_R</th><th>TILEID</th><th>GFA_LOC</th></tr></thead>\n",
       "<thead><tr><th>float64</th><th>float64</th><th>float32</th><th>int32</th><th>int8</th></tr></thead>\n",
       "<tr><td>263.799804015</td><td>46.1769213517</td><td>2235.06</td><td>2187</td><td>1</td></tr>\n",
       "<tr><td>263.837449321</td><td>46.2000048892</td><td>2021.55</td><td>2187</td><td>1</td></tr>\n",
       "<tr><td>263.845036838</td><td>46.1834395532</td><td>274701.0</td><td>2187</td><td>1</td></tr>\n",
       "<tr><td>263.838822658</td><td>46.1900124542</td><td>1068.85</td><td>2187</td><td>1</td></tr>\n",
       "<tr><td>263.866690212</td><td>46.2034744743</td><td>2866.47</td><td>2187</td><td>1</td></tr>\n",
       "<tr><td>263.861766215</td><td>46.2359307895</td><td>3746.97</td><td>2187</td><td>1</td></tr>\n",
       "<tr><td>263.874755753</td><td>46.2358313028</td><td>1574.66</td><td>2187</td><td>1</td></tr>\n",
       "<tr><td>263.871265042</td><td>46.238845646</td><td>3305.92</td><td>2187</td><td>1</td></tr>\n",
       "<tr><td>263.047964256</td><td>56.6906063253</td><td>2417.24</td><td>25256</td><td>8</td></tr>\n",
       "<tr><td>263.063852373</td><td>56.7111677791</td><td>1867.84</td><td>25256</td><td>8</td></tr>\n",
       "</table>"
      ],
      "text/plain": [
       "<Table length=10>\n",
       "      RA           DEC       FLUX_R  TILEID GFA_LOC\n",
       "   float64       float64    float32  int32    int8 \n",
       "------------- ------------- -------- ------ -------\n",
       "263.799804015 46.1769213517  2235.06   2187       1\n",
       "263.837449321 46.2000048892  2021.55   2187       1\n",
       "263.845036838 46.1834395532 274701.0   2187       1\n",
       "263.838822658 46.1900124542  1068.85   2187       1\n",
       "263.866690212 46.2034744743  2866.47   2187       1\n",
       "263.861766215 46.2359307895  3746.97   2187       1\n",
       "263.874755753 46.2358313028  1574.66   2187       1\n",
       "263.871265042  46.238845646  3305.92   2187       1\n",
       "263.047964256 56.6906063253  2417.24  25256       8\n",
       "263.063852373 56.7111677791  1867.84  25256       8"
      ]
     },
     "execution_count": 43,
     "metadata": {},
     "output_type": "execute_result"
    }
   ],
   "source": [
    "gfa_table[:10]"
   ]
  },
  {
   "cell_type": "code",
   "execution_count": 44,
   "metadata": {},
   "outputs": [],
   "source": [
    "gfa_table.write(\"GFA_targets.fits\")"
   ]
  },
  {
   "cell_type": "code",
   "execution_count": 45,
   "metadata": {},
   "outputs": [],
   "source": [
    "a = Table.read(\"GFA_targets.fits\")"
   ]
  },
  {
   "cell_type": "code",
   "execution_count": 47,
   "metadata": {},
   "outputs": [
    {
     "data": {
      "text/html": [
       "&lt;Table length=10&gt;\n",
       "<table id=\"table47567389713968\" class=\"table-striped table-bordered table-condensed\">\n",
       "<thead><tr><th>RA</th><th>DEC</th><th>FLUX_R</th><th>TILEID</th><th>GFA_LOC</th></tr></thead>\n",
       "<thead><tr><th>float64</th><th>float64</th><th>float32</th><th>int32</th><th>bool</th></tr></thead>\n",
       "<tr><td>263.799804015</td><td>46.1769213517</td><td>2235.06</td><td>2187</td><td>True</td></tr>\n",
       "<tr><td>263.837449321</td><td>46.2000048892</td><td>2021.55</td><td>2187</td><td>True</td></tr>\n",
       "<tr><td>263.845036838</td><td>46.1834395532</td><td>274701.0</td><td>2187</td><td>True</td></tr>\n",
       "<tr><td>263.838822658</td><td>46.1900124542</td><td>1068.85</td><td>2187</td><td>True</td></tr>\n",
       "<tr><td>263.866690212</td><td>46.2034744743</td><td>2866.47</td><td>2187</td><td>True</td></tr>\n",
       "<tr><td>263.861766215</td><td>46.2359307895</td><td>3746.97</td><td>2187</td><td>True</td></tr>\n",
       "<tr><td>263.874755753</td><td>46.2358313028</td><td>1574.66</td><td>2187</td><td>True</td></tr>\n",
       "<tr><td>263.871265042</td><td>46.238845646</td><td>3305.92</td><td>2187</td><td>True</td></tr>\n",
       "<tr><td>263.047964256</td><td>56.6906063253</td><td>2417.24</td><td>25256</td><td>True</td></tr>\n",
       "<tr><td>263.063852373</td><td>56.7111677791</td><td>1867.84</td><td>25256</td><td>True</td></tr>\n",
       "</table>"
      ],
      "text/plain": [
       "<Table length=10>\n",
       "      RA           DEC       FLUX_R  TILEID GFA_LOC\n",
       "   float64       float64    float32  int32    bool \n",
       "------------- ------------- -------- ------ -------\n",
       "263.799804015 46.1769213517  2235.06   2187    True\n",
       "263.837449321 46.2000048892  2021.55   2187    True\n",
       "263.845036838 46.1834395532 274701.0   2187    True\n",
       "263.838822658 46.1900124542  1068.85   2187    True\n",
       "263.866690212 46.2034744743  2866.47   2187    True\n",
       "263.861766215 46.2359307895  3746.97   2187    True\n",
       "263.874755753 46.2358313028  1574.66   2187    True\n",
       "263.871265042  46.238845646  3305.92   2187    True\n",
       "263.047964256 56.6906063253  2417.24  25256    True\n",
       "263.063852373 56.7111677791  1867.84  25256    True"
      ]
     },
     "execution_count": 47,
     "metadata": {},
     "output_type": "execute_result"
    }
   ],
   "source": [
    "a[:10]"
   ]
  },
  {
   "cell_type": "code",
   "execution_count": null,
   "metadata": {},
   "outputs": [],
   "source": []
  }
 ],
 "metadata": {
  "kernelspec": {
   "display_name": "DESI master",
   "language": "python",
   "name": "desi-master"
  },
  "language_info": {
   "codemirror_mode": {
    "name": "ipython",
    "version": 3
   },
   "file_extension": ".py",
   "mimetype": "text/x-python",
   "name": "python",
   "nbconvert_exporter": "python",
   "pygments_lexer": "ipython3",
   "version": "3.5.3"
  }
 },
 "nbformat": 4,
 "nbformat_minor": 2
}
