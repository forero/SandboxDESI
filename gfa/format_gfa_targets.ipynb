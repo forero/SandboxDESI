{
 "cells": [
  {
   "cell_type": "code",
   "execution_count": 53,
   "metadata": {},
   "outputs": [],
   "source": [
    "import fitsio\n",
    "import numpy as np\n",
    "import matplotlib.pyplot as plt\n",
    "import glob\n",
    "import os.path\n",
    "%matplotlib inline"
   ]
  },
  {
   "cell_type": "code",
   "execution_count": 90,
   "metadata": {},
   "outputs": [
    {
     "name": "stdout",
     "output_type": "stream",
     "text": [
      "10667\n",
      "/global/cscratch1/sd/forero/DR5FiberAssign/fiberassign/tileresults/tile_13200.fits\n"
     ]
    }
   ],
   "source": [
    "fiberassign_root = \"/global/cscratch1/sd/forero/DR5FiberAssign/fiberassign/tileresults\"\n",
    "fiberassign_tilefiles = glob.glob(fiberassign_root+\"/tile*.fits\")\n",
    "print(len(fiberassign_tilefiles))\n",
    "print(fiberassign_tilefiles[0])"
   ]
  },
  {
   "cell_type": "code",
   "execution_count": 69,
   "metadata": {},
   "outputs": [
    {
     "name": "stdout",
     "output_type": "stream",
     "text": [
      "7\n"
     ]
    }
   ],
   "source": [
    "output_root = \"/global/cscratch1/sd/forero/gfa_test/\"\n",
    "gfa_files = glob.glob(os.path.join(output_root, \"gfa_targets_*.fits\"))\n",
    "print(len(gfa_files))"
   ]
  },
  {
   "cell_type": "code",
   "execution_count": 70,
   "metadata": {},
   "outputs": [],
   "source": [
    "gfa_tile_id = {}\n",
    "for gfa_file in gfa_files:\n",
    "    f = gfa_file.split('/')[-1]\n",
    "    fileid = f.split(\"_\")[-1]\n",
    "    fileid = fileid[0:5]\n",
    "    gfa_tile_id[fileid] = gfa_file"
   ]
  },
  {
   "cell_type": "code",
   "execution_count": 71,
   "metadata": {},
   "outputs": [],
   "source": [
    "fa_tile_id = {}\n",
    "for fa_file in fiberassign_tilefiles:\n",
    "    f = fa_file.split('/')[-1]\n",
    "    fileid = f.split(\"_\")[-1]\n",
    "    fileid = fileid[0:5]\n",
    "    fa_tile_id[fileid] = fa_file"
   ]
  },
  {
   "cell_type": "code",
   "execution_count": 98,
   "metadata": {
    "scrolled": true
   },
   "outputs": [
    {
     "name": "stdout",
     "output_type": "stream",
     "text": [
      "00284\n",
      "00290\n",
      "00286\n",
      "00288\n",
      "00287\n",
      "00285\n",
      "00289\n"
     ]
    }
   ],
   "source": [
    "for gfa_id in gfa_tile_id.keys():\n",
    "    if gfa_id in fa_tile_id.keys():\n",
    "        print(gfa_id)\n",
    "        \n",
    "        gfa_data = fitsio.read(gfa_tile_id[gfa_id])\n",
    "        fiber_data = fitsio.read(fa_tile_id[gfa_id], ext=1)\n",
    "        potential_data = fitsio.read(fa_tile_id[gfa_id], ext=2)\n",
    "\n",
    "        tileout = os.path.join(output_root, 'tile_{}.fits'.format(gfa_id))\n",
    "        fitsio.write(tileout, fiber_data, extname='FIBERASSIGN')\n",
    "        fitsio.write(tileout, potential_data, extname='POTENTIAL')\n",
    "        fitsio.write(tileout, gfa_data, extname='GFA')\n",
    "        #print(gfa_id, fa_tile_id[gfa_id], gfa_tile_id[gfa_id])"
   ]
  },
  {
   "cell_type": "code",
   "execution_count": null,
   "metadata": {
    "scrolled": false
   },
   "outputs": [],
   "source": []
  },
  {
   "cell_type": "code",
   "execution_count": 99,
   "metadata": {},
   "outputs": [
    {
     "name": "stdout",
     "output_type": "stream",
     "text": [
      "29641\n"
     ]
    },
    {
     "data": {
      "image/png": "[encoded data removed]",
      "text/plain": [
       "<matplotlib.figure.Figure at 0x2ae60db70128>"
      ]
     },
     "metadata": {},
     "output_type": "display_data"
    }
   ],
   "source": [
    "ii = fiber_data['TARGETID']!=-1\n",
    "print(len(potential_data))\n",
    "plt.scatter(fiber_data['RA'][ii], fiber_data['DEC'][ii], s =0.1)\n",
    "plt.scatter(gfa_data['RA'], gfa_data['DEC'], s =0.1)\n",
    "a=plt.axis('equal')"
   ]
  },
  {
   "cell_type": "code",
   "execution_count": 100,
   "metadata": {},
   "outputs": [
    {
     "ename": "OSError",
     "evalue": "File not found: '/global/cscratch1/sd/forero/gfa_test/tile_00289.fits'",
     "output_type": "error",
     "traceback": [
      "\u001b[0;31m---------------------------------------------------------------------------\u001b[0m",
      "\u001b[0;31mOSError\u001b[0m                                   Traceback (most recent call last)",
      "\u001b[0;32m<ipython-input-100-95157dbed30c>\u001b[0m in \u001b[0;36m<module>\u001b[0;34m()\u001b[0m\n\u001b[0;32m----> 1\u001b[0;31m \u001b[0mfa\u001b[0m \u001b[0;34m=\u001b[0m \u001b[0mfitsio\u001b[0m\u001b[0;34m.\u001b[0m\u001b[0mread\u001b[0m\u001b[0;34m(\u001b[0m\u001b[0mtileout\u001b[0m\u001b[0;34m,\u001b[0m \u001b[0mext\u001b[0m\u001b[0;34m=\u001b[0m\u001b[0;34m'FIBERASSIGN'\u001b[0m\u001b[0;34m)\u001b[0m\u001b[0;34m\u001b[0m\u001b[0m\n\u001b[0m\u001b[1;32m      2\u001b[0m \u001b[0mgfa\u001b[0m \u001b[0;34m=\u001b[0m \u001b[0mfitsio\u001b[0m\u001b[0;34m.\u001b[0m\u001b[0mread\u001b[0m\u001b[0;34m(\u001b[0m\u001b[0mtileout\u001b[0m\u001b[0;34m,\u001b[0m \u001b[0mext\u001b[0m\u001b[0;34m=\u001b[0m\u001b[0;34m'GFA'\u001b[0m\u001b[0;34m)\u001b[0m\u001b[0;34m\u001b[0m\u001b[0m\n\u001b[1;32m      3\u001b[0m \u001b[0mpot\u001b[0m \u001b[0;34m=\u001b[0m \u001b[0mfitsio\u001b[0m\u001b[0;34m.\u001b[0m\u001b[0mread\u001b[0m\u001b[0;34m(\u001b[0m\u001b[0mtileout\u001b[0m\u001b[0;34m,\u001b[0m \u001b[0mext\u001b[0m\u001b[0;34m=\u001b[0m\u001b[0;34m'POTENTIAL'\u001b[0m\u001b[0;34m)\u001b[0m\u001b[0;34m\u001b[0m\u001b[0m\n",
      "\u001b[0;32m/global/common/cori/contrib/desi/desiconda/20170613-1.1.4-spectro/code/desiconda/20170613-1.1.4-spectro_conda/lib/python3.5/site-packages/fitsio/fitslib.py\u001b[0m in \u001b[0;36mread\u001b[0;34m(filename, ext, extver, **keys)\u001b[0m\n\u001b[1;32m     85\u001b[0m     \"\"\"\n\u001b[1;32m     86\u001b[0m \u001b[0;34m\u001b[0m\u001b[0m\n\u001b[0;32m---> 87\u001b[0;31m     \u001b[0;32mwith\u001b[0m \u001b[0mFITS\u001b[0m\u001b[0;34m(\u001b[0m\u001b[0mfilename\u001b[0m\u001b[0;34m,\u001b[0m \u001b[0;34m**\u001b[0m\u001b[0mkeys\u001b[0m\u001b[0;34m)\u001b[0m \u001b[0;32mas\u001b[0m \u001b[0mfits\u001b[0m\u001b[0;34m:\u001b[0m\u001b[0;34m\u001b[0m\u001b[0m\n\u001b[0m\u001b[1;32m     88\u001b[0m \u001b[0;34m\u001b[0m\u001b[0m\n\u001b[1;32m     89\u001b[0m         \u001b[0mheader\u001b[0m\u001b[0;34m=\u001b[0m\u001b[0mkeys\u001b[0m\u001b[0;34m.\u001b[0m\u001b[0mpop\u001b[0m\u001b[0;34m(\u001b[0m\u001b[0;34m'header'\u001b[0m\u001b[0;34m,\u001b[0m\u001b[0;32mFalse\u001b[0m\u001b[0;34m)\u001b[0m\u001b[0;34m\u001b[0m\u001b[0m\n",
      "\u001b[0;32m/global/common/cori/contrib/desi/desiconda/20170613-1.1.4-spectro/code/desiconda/20170613-1.1.4-spectro_conda/lib/python3.5/site-packages/fitsio/fitslib.py\u001b[0m in \u001b[0;36m__init__\u001b[0;34m(self, filename, mode, **keys)\u001b[0m\n\u001b[1;32m    349\u001b[0m         \u001b[0;32melse\u001b[0m\u001b[0;34m:\u001b[0m\u001b[0;34m\u001b[0m\u001b[0m\n\u001b[1;32m    350\u001b[0m             \u001b[0;32mif\u001b[0m \u001b[0;32mnot\u001b[0m \u001b[0mos\u001b[0m\u001b[0;34m.\u001b[0m\u001b[0mpath\u001b[0m\u001b[0;34m.\u001b[0m\u001b[0mexists\u001b[0m\u001b[0;34m(\u001b[0m\u001b[0mfilename\u001b[0m\u001b[0;34m)\u001b[0m\u001b[0;34m:\u001b[0m\u001b[0;34m\u001b[0m\u001b[0m\n\u001b[0;32m--> 351\u001b[0;31m                 \u001b[0;32mraise\u001b[0m \u001b[0mIOError\u001b[0m\u001b[0;34m(\u001b[0m\u001b[0;34m\"File not found: '%s'\"\u001b[0m \u001b[0;34m%\u001b[0m \u001b[0mfilename\u001b[0m\u001b[0;34m)\u001b[0m\u001b[0;34m\u001b[0m\u001b[0m\n\u001b[0m\u001b[1;32m    352\u001b[0m \u001b[0;34m\u001b[0m\u001b[0m\n\u001b[1;32m    353\u001b[0m         \u001b[0mself\u001b[0m\u001b[0;34m.\u001b[0m\u001b[0m_FITS\u001b[0m \u001b[0;34m=\u001b[0m  \u001b[0m_fitsio_wrap\u001b[0m\u001b[0;34m.\u001b[0m\u001b[0mFITS\u001b[0m\u001b[0;34m(\u001b[0m\u001b[0mfilename\u001b[0m\u001b[0;34m,\u001b[0m \u001b[0mself\u001b[0m\u001b[0;34m.\u001b[0m\u001b[0mintmode\u001b[0m\u001b[0;34m,\u001b[0m \u001b[0mcreate\u001b[0m\u001b[0;34m)\u001b[0m\u001b[0;34m\u001b[0m\u001b[0m\n",
      "\u001b[0;31mOSError\u001b[0m: File not found: '/global/cscratch1/sd/forero/gfa_test/tile_00289.fits'"
     ]
    }
   ],
   "source": [
    "fa = fitsio.read(tileout, ext='FIBERASSIGN')\n",
    "gfa = fitsio.read(tileout, ext='GFA')\n",
    "pot = fitsio.read(tileout, ext='POTENTIAL')"
   ]
  },
  {
   "cell_type": "code",
   "execution_count": 101,
   "metadata": {},
   "outputs": [
    {
     "data": {
      "text/plain": [
       "array([(21991277985795236,), (21991277985795106,), (21991277985794889,),\n",
       "       ..., (21991289725653283,), (21991289725652980,),\n",
       "       (21991289725652748,)], \n",
       "      dtype=[('POTENTIALTARGETID', '>i8')])"
      ]
     },
     "execution_count": 101,
     "metadata": {},
     "output_type": "execute_result"
    }
   ],
   "source": [
    "pot"
   ]
  },
  {
   "cell_type": "code",
   "execution_count": 102,
   "metadata": {},
   "outputs": [
    {
     "data": {
      "text/plain": [
       "array([(42.95096559317478, -13.539682690537454, 0.25029563903808594),\n",
       "       (42.95108038609631, -13.538036513735522, 0.1833827942609787),\n",
       "       (42.951349336982915, -13.53678161289608, 0.07659043371677399), ...,\n",
       "       (44.12032055076013, -13.484469754754544, 0.18396040797233582),\n",
       "       (44.11880439669622, -13.485577378640524, 2.0677967071533203),\n",
       "       (44.11999428093925, -13.487151405835382, 0.30456849932670593)], \n",
       "      dtype=[('RA', '>f8'), ('DEC', '>f8'), ('FLUX_R', '>f4')])"
      ]
     },
     "execution_count": 102,
     "metadata": {},
     "output_type": "execute_result"
    }
   ],
   "source": [
    "gfa"
   ]
  },
  {
   "cell_type": "code",
   "execution_count": 103,
   "metadata": {},
   "outputs": [
    {
     "data": {
      "text/plain": [
       "array([ (0, 95, 18, 3400, 21991277985794894, 262148, 0, 0, 43.44764983324702, -14.255117488201758, -1.8182088136672974, -177.7584991455078, b'0433m142'),\n",
       "       (1, 62, 12, 3200, 21991277989986842, 65537, 0, 0, 43.63233641517783, -14.355477131072064, -45.618316650390625, -152.87576293945312, b'0436m142'),\n",
       "       (2, 102, 2, 3000, 21991277989990501, 131074, 0, 0, 43.65092271450353, -14.198023968510896, -50.2506103515625, -192.13999938964844, b'0436m142'),\n",
       "       ...,\n",
       "       (4997, 9226, 7, 3400, 21991278002572106, 262148, 0, 0, 44.30106782415202, -14.211274500706148, -207.30528259277344, -190.51492309570312, b'0444m142'),\n",
       "       (4998, 9261, 9, 3200, 21991278002573778, 65537, 0, 0, 44.35215816558569, -14.127745868154053, -220.50148010253906, -211.99362182617188, b'0444m142'),\n",
       "       (4999, 9458, 8, 3400, 21991289725653182, 262148, 0, 0, 44.02094429475671, -13.65788035806814, -142.05226135253906, -332.481689453125, b'0441m137')], \n",
       "      dtype=[('FIBER', '>i4'), ('LOCATION', '>i4'), ('NUMTARGET', '>i2'), ('PRIORITY', '>i4'), ('TARGETID', '>i8'), ('DESI_TARGET', '>i8'), ('BGS_TARGET', '>i8'), ('MWS_TARGET', '>i8'), ('RA', '>f8'), ('DEC', '>f8'), ('XFOCAL_DESIGN', '>f4'), ('YFOCAL_DESIGN', '>f4'), ('BRICKNAME', 'S8')])"
      ]
     },
     "execution_count": 103,
     "metadata": {},
     "output_type": "execute_result"
    }
   ],
   "source": [
    "fa"
   ]
  },
  {
   "cell_type": "code",
   "execution_count": null,
   "metadata": {},
   "outputs": [],
   "source": []
  }
 ],
 "metadata": {
  "kernelspec": {
   "display_name": "DESI master",
   "language": "python",
   "name": "desi-master"
  },
  "language_info": {
   "codemirror_mode": {
    "name": "ipython",
    "version": 3
   },
   "file_extension": ".py",
   "mimetype": "text/x-python",
   "name": "python",
   "nbconvert_exporter": "python",
   "pygments_lexer": "ipython3",
   "version": "3.5.3"
  }
 },
 "nbformat": 4,
 "nbformat_minor": 2
}
