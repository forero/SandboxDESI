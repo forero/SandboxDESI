{
 "cells": [
  {
   "cell_type": "code",
   "execution_count": 15,
   "metadata": {
    "collapsed": true
   },
   "outputs": [],
   "source": [
    "import os\n",
    "import sys\n",
    "from astropy.table import Table\n",
    "from desisurvey.progress import Progress\n",
    "import desimodel.io\n"
   ]
  },
  {
   "cell_type": "code",
   "execution_count": 16,
   "metadata": {
    "collapsed": true
   },
   "outputs": [],
   "source": [
    "os.environ['DESISURVEY_OUTPUT'] = os.path.join('/global/cscratch1/sd/forero/quicksurvey2017b/survey')"
   ]
  },
  {
   "cell_type": "code",
   "execution_count": 23,
   "metadata": {
    "collapsed": false
   },
   "outputs": [
    {
     "name": "stdout",
     "output_type": "stream",
     "text": [
      "Environment variable DESISURVEY_OUTPUT set to /global/cscratch1/sd/forero/quicksurvey2017b/survey\n",
      "INFO:progress.py:145:__init__: Loaded progress from /global/cscratch1/sd/forero/quicksurvey2017b/survey/progress.fits.\n"
     ]
    },
    {
     "name": "stderr",
     "output_type": "stream",
     "text": [
      "WARNING: ErfaWarning: ERFA function \"d2dtf\" yielded 1 of \"dubious year (Note 5)\" [astropy._erfa.core]\n",
      "WARNING: ErfaWarning: ERFA function \"dtf2d\" yielded 1 of \"dubious year (Note 6)\" [astropy._erfa.core]\n"
     ]
    },
    {
     "ename": "NameError",
     "evalue": "name 'desimodel' is not defined",
     "output_type": "error",
     "traceback": [
      "\u001b[0;31m---------------------------------------------------------------------------\u001b[0m",
      "\u001b[0;31mNameError\u001b[0m                                 Traceback (most recent call last)",
      "\u001b[0;32m<ipython-input-23-2cdac5b0eac5>\u001b[0m in \u001b[0;36m<module>\u001b[0;34m()\u001b[0m\n\u001b[1;32m     13\u001b[0m     \u001b[0misdark\u001b[0m \u001b[0;34m=\u001b[0m \u001b[0mexplist\u001b[0m\u001b[0;34m[\u001b[0m\u001b[0;34m'pass'\u001b[0m\u001b[0;34m]\u001b[0m \u001b[0;34m<\u001b[0m \u001b[0;36m4\u001b[0m\u001b[0;34m\u001b[0m\u001b[0m\n\u001b[1;32m     14\u001b[0m \u001b[0;34m\u001b[0m\u001b[0m\n\u001b[0;32m---> 15\u001b[0;31m     \u001b[0mtiles\u001b[0m \u001b[0;34m=\u001b[0m \u001b[0mdesimodel\u001b[0m\u001b[0;34m.\u001b[0m\u001b[0mio\u001b[0m\u001b[0;34m.\u001b[0m\u001b[0mload_tiles\u001b[0m\u001b[0;34m(\u001b[0m\u001b[0;34m)\u001b[0m\u001b[0;34m\u001b[0m\u001b[0m\n\u001b[0m",
      "\u001b[0;31mNameError\u001b[0m: name 'desimodel' is not defined"
     ]
    }
   ],
   "source": [
    "desisurvey_path = os.getenv('DESISURVEY_OUTPUT')\n",
    "\n",
    "if desisurvey_path is None:\n",
    "    print('Environment variable DESISURVEY_OUTPUT is not set')\n",
    "else:\n",
    "    print('Environment variable DESISURVEY_OUTPUT set to {}'.format(desisurvey_path))\n",
    "    Progress(restore='progress.fits').get_exposures().write(os.path.join(desisurvey_path,'exposures.fits'), overwrite=True)\n",
    "    \n",
    "    explist = Table.read(os.path.join(desisurvey_path,'exposures.fits'))\n",
    "    # separate the exposures for the different programs\n",
    "    isbright = explist['pass'] > 4 \n",
    "    isgray = explist['pass'] == 4\n",
    "    isdark = explist['pass'] < 4\n",
    "    \n",
    "    tiles = desimodel.io.load_tiles()\n"
   ]
  },
  {
   "cell_type": "code",
   "execution_count": 18,
   "metadata": {
    "collapsed": false
   },
   "outputs": [
    {
     "name": "stdout",
     "output_type": "stream",
     "text": [
      "MyQuota  desi  exposures.fits  quicksurvey2017b  quicksurvey_example\r\n"
     ]
    }
   ],
   "source": [
    "!ls"
   ]
  },
  {
   "cell_type": "code",
   "execution_count": null,
   "metadata": {
    "collapsed": true
   },
   "outputs": [],
   "source": [
    "#get the dates when fiberassign should be run\n",
    "\n",
    "px = Table.read(os.getenv('DESISURVEY_OUTPUT')+'/progress.fits')\n",
    "fiberassign_dates = np.sort(list(set(px['available'])))\n",
    "fiberassign_dates = fiberassign_dates[fiberassign_dates>0]\n",
    "print(fiberassign_dates)\n",
    "\n",
    "#load the dark exposures\n",
    "exposurefile = os.path.join(surveydir,'exposures_dark.fits')\n",
    "exposures = Table.read(exposurefile)\n",
    "expdates = []\n",
    "for n in exposures['night']:\n",
    "    a = datetime.datetime.strptime(n, \"%Y-%m-%d\")\n",
    "    expdates.append(a.date())\n",
    "expdates = np.array(expdates)\n",
    "print(expdates, expdates)\n",
    "\n",
    "#load the first date of the survey\n",
    "survey_config = os.path.join(os.getenv('DESISURVEY_OUTPUT'),'config.yaml')\n",
    "with open(survey_config, 'r') as pfile:\n",
    "    params = yaml.load(pfile)\n",
    "pfile.close()\n",
    "first_day = params['first_day']\n",
    "last_day = params['last_day']\n",
    "\n",
    "#compute the dates to run fiberassign to be sure that there is at least one exposure there\n",
    "fiberassign_dates_dark = []\n",
    "one_day = datetime.timedelta(days=1)\n",
    "initial_day = first_day #expdates.min()\n",
    "for d in fiberassign_dates:\n",
    "    final_day = first_day + d * one_day\n",
    "    ii = (expdates > initial_day) & (expdates<=final_day)\n",
    "    n_in = np.count_nonzero(ii)\n",
    "    if n_in>0:\n",
    "        print(initial_day, final_day, n_in)\n",
    "        fiberassign_dates_dark.append(initial_day.strftime(\"%Y-%m-%d\"))\n",
    "        initial_day = final_day\n",
    "\n",
    "print(fiberassign_dates_dark)\n",
    "fiberdates_filename = os.path.join(fiberassigndir, 'fiberassign_dates_dark.txt')\n",
    "f = open(fiberdates_filename, 'w')\n",
    "for d in fiberassign_dates_dark:\n",
    "    f.write(d+\"\\n\")\n",
    "f.close()"
   ]
  }
 ],
 "metadata": {
  "anaconda-cloud": {},
  "kernelspec": {
   "display_name": "DESI dev",
   "language": "python",
   "name": "desi-dev"
  },
  "language_info": {
   "codemirror_mode": {
    "name": "ipython",
    "version": 3
   },
   "file_extension": ".py",
   "mimetype": "text/x-python",
   "name": "python",
   "nbconvert_exporter": "python",
   "pygments_lexer": "ipython3",
   "version": "3.5.3"
  }
 },
 "nbformat": 4,
 "nbformat_minor": 0
}
