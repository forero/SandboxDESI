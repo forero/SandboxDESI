{
 "cells": [
  {
   "cell_type": "code",
   "execution_count": 38,
   "metadata": {
    "collapsed": true
   },
   "outputs": [],
   "source": [
    "import os\n",
    "import sys\n",
    "from astropy.table import Table\n",
    "from desisurvey.progress import Progress\n",
    "import desimodel.io\n",
    "import numpy as np\n",
    "import datetime\n",
    "import yaml\n"
   ]
  },
  {
   "cell_type": "code",
   "execution_count": 30,
   "metadata": {
    "collapsed": true
   },
   "outputs": [],
   "source": [
    "os.environ['DESISURVEY_OUTPUT'] = os.path.join('/global/cscratch1/sd/forero/quicksurvey2017b/survey')"
   ]
  },
  {
   "cell_type": "code",
   "execution_count": 70,
   "metadata": {
    "collapsed": false
   },
   "outputs": [
    {
     "name": "stdout",
     "output_type": "stream",
     "text": [
      "Environment variable DESISURVEY_OUTPUT set to /global/cscratch1/sd/forero/quicksurvey2017b/survey\n",
      "INFO:progress.py:145:__init__: Loaded progress from /global/cscratch1/sd/forero/quicksurvey2017b/survey/progress.fits.\n"
     ]
    },
    {
     "name": "stderr",
     "output_type": "stream",
     "text": [
      "WARNING: ErfaWarning: ERFA function \"d2dtf\" yielded 1 of \"dubious year (Note 5)\" [astropy._erfa.core]\n",
      "WARNING: ErfaWarning: ERFA function \"dtf2d\" yielded 1 of \"dubious year (Note 6)\" [astropy._erfa.core]\n"
     ]
    },
    {
     "name": "stdout",
     "output_type": "stream",
     "text": [
      "2019-12-01 2024-11-30\n",
      "2019-12-01 2020-06-05 1262\n",
      "2020-06-05 2020-07-04 177\n",
      "2020-07-04 2020-08-02 20\n",
      "2020-08-02 2020-10-01 138\n",
      "2020-10-01 2020-10-30 194\n",
      "2020-10-30 2020-11-29 213\n",
      "2020-11-29 2020-12-29 178\n",
      "2020-12-29 2021-01-27 147\n",
      "2021-01-27 2021-03-27 230\n",
      "2021-03-27 2021-04-26 201\n",
      "2021-04-26 2021-05-25 98\n",
      "2021-05-25 2021-06-23 57\n",
      "2021-06-23 2021-07-23 39\n",
      "2021-07-23 2021-09-20 122\n",
      "2021-09-20 2021-10-19 284\n",
      "2021-10-19 2021-11-18 231\n",
      "2021-11-18 2021-12-18 129\n",
      "2021-12-18 2022-01-17 126\n",
      "2022-01-17 2022-03-17 485\n",
      "2022-03-17 2022-04-15 241\n",
      "2022-04-15 2022-05-15 53\n",
      "2022-05-15 2022-06-13 39\n",
      "2022-06-13 2022-07-12 12\n",
      "2022-07-12 2022-09-09 42\n",
      "2022-09-09 2022-10-09 156\n",
      "2022-10-09 2022-11-07 197\n",
      "2022-11-07 2022-12-07 327\n",
      "2022-12-07 2023-01-06 418\n",
      "2023-01-06 2023-03-06 453\n",
      "2023-03-06 2023-04-05 222\n",
      "2023-04-05 2023-05-04 45\n",
      "2023-05-04 2023-06-03 40\n",
      "2023-06-03 2023-07-02 43\n",
      "2023-07-02 2023-07-31 9\n",
      "2023-07-31 2023-09-28 53\n",
      "2019-12-01 2024-11-30\n",
      "2019-12-01 2020-06-05 2994\n",
      "2020-06-05 2020-07-04 317\n",
      "2020-07-04 2020-08-02 57\n",
      "2020-08-02 2020-10-01 424\n",
      "2020-10-01 2020-10-30 468\n",
      "2020-10-30 2020-11-29 478\n",
      "2020-11-29 2020-12-29 490\n",
      "2020-12-29 2021-01-27 414\n",
      "2021-01-27 2021-03-27 743\n",
      "2021-03-27 2021-04-26 442\n",
      "2021-04-26 2021-05-25 431\n",
      "2021-05-25 2021-06-23 397\n",
      "2021-06-23 2021-07-23 188\n",
      "2021-07-23 2021-09-20 289\n",
      "2021-09-20 2021-10-19 442\n",
      "2021-10-19 2021-11-18 499\n",
      "2021-11-18 2021-12-18 496\n",
      "2021-12-18 2022-01-17 522\n",
      "2022-01-17 2022-03-17 555\n",
      "2022-03-17 2022-04-15 385\n",
      "2022-04-15 2022-05-15 359\n",
      "2022-05-15 2022-06-13 376\n",
      "2022-06-13 2022-07-12 272\n",
      "2022-07-12 2022-09-09 161\n",
      "2022-09-09 2022-10-09 413\n",
      "2022-10-09 2022-11-07 369\n",
      "2022-11-07 2022-12-07 296\n",
      "2022-12-07 2023-01-06 162\n",
      "2023-01-06 2023-03-06 119\n",
      "2023-03-06 2023-04-05 333\n",
      "2023-04-05 2023-05-04 389\n",
      "2023-05-04 2023-06-03 340\n",
      "2023-06-03 2023-07-02 321\n",
      "2023-07-02 2023-07-31 59\n",
      "2023-07-31 2023-09-28 396\n",
      "2023-09-28 2023-11-26 937\n",
      "2023-11-26 2023-12-26 389\n",
      "2023-12-26 2024-01-24 359\n",
      "2024-01-24 2024-03-24 594\n"
     ]
    }
   ],
   "source": [
    "def compute_fiberassign_dates(exposurefile):\n",
    "    desisurvey_path = os.getenv('DESISURVEY_OUTPUT')\n",
    "    exposures = Table.read(exposurefile)\n",
    "    expdates = []\n",
    "    for n in exposures['night']:\n",
    "        a = datetime.datetime.strptime(n, \"%Y-%m-%d\")\n",
    "        expdates.append(a.date())\n",
    "    expdates = np.array(expdates)\n",
    "\n",
    "    # compute the dates for fiberassign\n",
    "    progress = Table.read(os.path.join(desisurvey_path,'progress.fits'))\n",
    "    fiberassign_dates = np.sort(list(set(progress['available'])))\n",
    "    fiberassign_dates = fiberassign_dates[fiberassign_dates>0]\n",
    "    \n",
    "    #load the first date of the survey\n",
    "    survey_config = os.path.join(desisurvey_path,'config.yaml')\n",
    "    with open(survey_config, 'r') as pfile:\n",
    "        params = yaml.load(pfile)\n",
    "    pfile.close()\n",
    "    first_day = params['first_day']\n",
    "    last_day = params['last_day']\n",
    "    print(first_day, last_day)\n",
    "    \n",
    "    #compute the dates to run fiberassign to be sure that there is at least one exposure there\n",
    "    fiberassign_dates_run = []\n",
    "    one_day = datetime.timedelta(days=1)\n",
    "    initial_day = first_day \n",
    "    for d in fiberassign_dates:\n",
    "        final_day = first_day + d * one_day\n",
    "        ii = (expdates > initial_day) & (expdates<=final_day)\n",
    "        n_in = np.count_nonzero(ii)\n",
    "        if n_in>0:\n",
    "            print(initial_day, final_day, n_in)\n",
    "            fiberassign_dates_run.append(initial_day.strftime(\"%Y-%m-%d\"))\n",
    "            initial_day = final_day\n",
    "    return fiberassign_dates_run\n",
    "\n",
    "desisurvey_path = os.getenv('DESISURVEY_OUTPUT')\n",
    "\n",
    "if desisurvey_path is None:\n",
    "    print('Environment variable DESISURVEY_OUTPUT is not set')\n",
    "else:\n",
    "    print('Environment variable DESISURVEY_OUTPUT set to {}'.format(desisurvey_path))\n",
    "    Progress(restore='progress.fits').get_exposures().write(os.path.join(desisurvey_path,'exposures.fits'), overwrite=True)\n",
    "    \n",
    "    explist = Table.read(os.path.join(desisurvey_path,'exposures.fits'))\n",
    "\n",
    "    # separate the exposures for dark and bright programs\n",
    "    isbright = explist['pass'] > 4 \n",
    "    isgray = explist['pass'] == 4\n",
    "    isdark = explist['pass'] < 4\n",
    "    \n",
    "    exposurefile_bright = os.path.join(desisurvey_path,'exposures_bright.fits')\n",
    "    Table(explist[isbright]).write(exposurefile_bright, overwrite=True)\n",
    "\n",
    "    exposurefile_dark = os.path.join(desisurvey_path,'exposures_dark.fits')\n",
    "    Table(explist[~isbright]).write(exposurefile_dark, overwrite=True)\n",
    "    \n",
    "\n",
    "    fiberdatesfile_bright = os.path.join(desisurvey_path, 'fiberassign_dates_bright.txt')\n",
    "    fiberassign_dates_bright = compute_fiberassign_dates(exposurefile_bright)\n",
    "    f = open(fiberdatesfile_bright, 'w')\n",
    "    for d in fiberassign_dates_bright:\n",
    "        f.write(d+\"\\n\")\n",
    "    f.close()\n",
    "    \n",
    "    fiberdatesfile_dark = os.path.join(desisurvey_path, 'fiberassign_dates_dark.txt')\n",
    "    fiberassign_dates_dark = compute_fiberassign_dates(exposurefile_dark)\n",
    "    f = open(fiberdatesfile_dark, 'w')\n",
    "    for d in fiberassign_dates_dark:\n",
    "        f.write(d+\"\\n\")\n",
    "    f.close()\n",
    "\n"
   ]
  },
  {
   "cell_type": "code",
   "execution_count": 43,
   "metadata": {
    "collapsed": false
   },
   "outputs": [
    {
     "name": "stdout",
     "output_type": "stream",
     "text": [
      "Environment variable DESISURVEY_OUTPUT set to /global/cscratch1/sd/forero/quicksurvey2017b/survey\n",
      "INFO:progress.py:145:__init__: Loaded progress from /global/cscratch1/sd/forero/quicksurvey2017b/survey/progress.fits.\n"
     ]
    },
    {
     "name": "stderr",
     "output_type": "stream",
     "text": [
      "WARNING: ErfaWarning: ERFA function \"d2dtf\" yielded 1 of \"dubious year (Note 5)\" [astropy._erfa.core]\n",
      "WARNING: ErfaWarning: ERFA function \"dtf2d\" yielded 1 of \"dubious year (Note 6)\" [astropy._erfa.core]\n"
     ]
    }
   ],
   "source": [
    "print('Environment variable DESISURVEY_OUTPUT set to {}'.format(desisurvey_path))\n",
    "Progress(restore='progress.fits').get_exposures().write(os.path.join(desisurvey_path,'exposures.fits'), overwrite=True)\n",
    "    \n",
    "explist = Table.read(os.path.join(desisurvey_path,'exposures.fits'))\n",
    "\n",
    "    # separate the exposures for dark and bright programs\n",
    "isbright = explist['pass'] > 4 \n",
    "isgray = explist['pass'] == 4\n",
    "isdark = explist['pass'] < 4"
   ]
  },
  {
   "cell_type": "code",
   "execution_count": 62,
   "metadata": {
    "collapsed": false
   },
   "outputs": [],
   "source": [
    "exposurefile_bright = os.path.join(desisurvey_path,'exposures_bright.fits')\n",
    "Table(explist[isbright]).write(exposurefile_bright, overwrite=True)\n",
    "\n",
    "exposurefile_dark = os.path.join(desisurvey_path,'exposures_dark.fits')\n",
    "Table(explist[~isbright]).write(exposurefile_dark, overwrite=True)\n",
    "    "
   ]
  },
  {
   "cell_type": "code",
   "execution_count": 63,
   "metadata": {
    "collapsed": false
   },
   "outputs": [],
   "source": [
    "#compute the dates for the bright exposures\n",
    "exposures = Table.read(exposurefile_bright)\n",
    "expdates = []\n",
    "for n in exposures['night']:\n",
    "    a = datetime.datetime.strptime(n, \"%Y-%m-%d\")\n",
    "    expdates.append(a.date())\n",
    "expdates = np.array(expdates)"
   ]
  },
  {
   "cell_type": "code",
   "execution_count": 64,
   "metadata": {
    "collapsed": false
   },
   "outputs": [
    {
     "data": {
      "text/plain": [
       "array([datetime.date(2019, 12, 1), datetime.date(2019, 12, 1),\n",
       "       datetime.date(2019, 12, 1), ..., datetime.date(2024, 6, 6),\n",
       "       datetime.date(2024, 6, 8), datetime.date(2024, 8, 28)], dtype=object)"
      ]
     },
     "execution_count": 64,
     "metadata": {},
     "output_type": "execute_result"
    }
   ],
   "source": [
    "expdates"
   ]
  },
  {
   "cell_type": "code",
   "execution_count": 65,
   "metadata": {
    "collapsed": false
   },
   "outputs": [
    {
     "name": "stdout",
     "output_type": "stream",
     "text": [
      "2019-12-01 2024-11-30\n"
     ]
    }
   ],
   "source": [
    "survey_config = os.path.join(desisurvey_path,'config.yaml')\n",
    "with open(survey_config, 'r') as pfile:\n",
    "    params = yaml.load(pfile)\n",
    "pfile.close()\n",
    "first_day = params['first_day']\n",
    "last_day = params['last_day']\n",
    "print(first_day, last_day)"
   ]
  },
  {
   "cell_type": "code",
   "execution_count": 68,
   "metadata": {
    "collapsed": false
   },
   "outputs": [
    {
     "name": "stdout",
     "output_type": "stream",
     "text": [
      "[]\n"
     ]
    }
   ],
   "source": [
    "#compute the dates to run fiberassign to be sure that there is at least one exposure there\n",
    "fiberassign_dates = []\n",
    "one_day = datetime.timedelta(days=1)\n",
    "initial_day = first_day \n",
    "for d in fiberassign_dates:\n",
    "    final_day = first_day + d * one_day\n",
    "    print(i)\n",
    "    ii = (expdates > initial_day) & (expdates<=final_day)\n",
    "    n_in = np.count_nonzero(ii)\n",
    "    if n_in>0:\n",
    "        print(initial_day, final_day, n_in)\n",
    "        fiberassign_dates.append(initial_day.strftime(\"%Y-%m-%d\"))\n",
    "        initial_day = final_day\n",
    "\n",
    "print(fiberassign_dates)"
   ]
  },
  {
   "cell_type": "code",
   "execution_count": null,
   "metadata": {
    "collapsed": true
   },
   "outputs": [],
   "source": []
  },
  {
   "cell_type": "code",
   "execution_count": null,
   "metadata": {
    "collapsed": true
   },
   "outputs": [],
   "source": []
  },
  {
   "cell_type": "code",
   "execution_count": null,
   "metadata": {
    "collapsed": true
   },
   "outputs": [],
   "source": []
  }
 ],
 "metadata": {
  "anaconda-cloud": {},
  "kernelspec": {
   "display_name": "DESI dev",
   "language": "python",
   "name": "desi-dev"
  },
  "language_info": {
   "codemirror_mode": {
    "name": "ipython",
    "version": 3
   },
   "file_extension": ".py",
   "mimetype": "text/x-python",
   "name": "python",
   "nbconvert_exporter": "python",
   "pygments_lexer": "ipython3",
   "version": "3.5.3"
  }
 },
 "nbformat": 4,
 "nbformat_minor": 0
}
