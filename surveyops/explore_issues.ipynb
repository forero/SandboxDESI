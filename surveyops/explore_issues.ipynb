{
 "cells": [
  {
   "cell_type": "code",
   "execution_count": 59,
   "id": "492d3ba4-eb7d-4952-8cac-603aca56b9ef",
   "metadata": {},
   "outputs": [],
   "source": [
    "import fitsio\n",
    "from astropy.table import Table\n",
    "import glob\n",
    "from desitarget.targetmask import desi_mask, bgs_mask, scnd_mask\n",
    "import numpy as np\n",
    "import matplotlib.pyplot as plt"
   ]
  },
  {
   "cell_type": "code",
   "execution_count": 60,
   "id": "71cf7163-d45b-48c6-a050-64bffb3a96a1",
   "metadata": {},
   "outputs": [],
   "source": [
    "\n"
   ]
  },
  {
   "cell_type": "code",
   "execution_count": 79,
   "id": "b0ede501-8b04-4547-8590-49345675ff7c",
   "metadata": {},
   "outputs": [],
   "source": [
    "def write_suspect_from_tile(tile_id):\n",
    "    release = \"daily\"\n",
    "    release_path = \"/global/cfs/cdirs/desi/spectro/redux/{}/\".format(release)\n",
    "    search_path = \"{}/tiles/cumulative/{}/*/redrock-*-{}-thru*.fits\".format(release_path, tile_id, tile_id)\n",
    "    file_in = glob.glob(search_path)\n",
    "    \n",
    "    target_ra = []\n",
    "    target_dec = []\n",
    "    target_id = []\n",
    "    for i in range(10):\n",
    "        z_petal = Table.read(file_in[i], hdu=1)\n",
    "        target_petal = Table.read(file_in[i], hdu=2)\n",
    "        is_lrg = (target_petal[\"DESI_TARGET\"]&desi_mask['LRG'])!=0\n",
    "        is_low_z = z_petal[\"Z\"]<0.01\n",
    "        target_ra += list(target_petal[\"TARGET_RA\"][is_lrg&is_low_z])\n",
    "        target_dec += list(target_petal[\"TARGET_DEC\"][is_lrg&is_low_z])\n",
    "        target_id += list(target_petal[\"TARGETID\"][is_lrg&is_low_z])\n",
    "    \n",
    "    out = Table([target_ra, target_dec], names=[\"RA\", \"Dec\"])\n",
    "\n",
    "    out.write(\"suspect_from_tile_{}.csv\".format(tile_id), overwrite=True)"
   ]
  },
  {
   "cell_type": "code",
   "execution_count": 80,
   "id": "a513465e-8286-4ec3-adfd-f7ab35e2718a",
   "metadata": {},
   "outputs": [],
   "source": [
    "tiles = [4390, 4563, 4549, 4535, 8153]\n",
    "\n",
    "for tile_id in tiles:\n",
    "    write_suspect_from_tile(tile_id)"
   ]
  },
  {
   "cell_type": "code",
   "execution_count": 73,
   "id": "ab191b09-2f2c-4421-a31c-6359b0c2b3b9",
   "metadata": {},
   "outputs": [],
   "source": []
  },
  {
   "cell_type": "code",
   "execution_count": 76,
   "id": "752a8eaa-078a-46a3-abdb-914d3f960a35",
   "metadata": {},
   "outputs": [],
   "source": []
  },
  {
   "cell_type": "code",
   "execution_count": 46,
   "id": "092b38f9-9054-4491-b11c-2a9b0cd35de0",
   "metadata": {},
   "outputs": [
    {
     "data": {
      "text/plain": [
       "1"
      ]
     },
     "execution_count": 46,
     "metadata": {},
     "output_type": "execute_result"
    }
   ],
   "source": []
  },
  {
   "cell_type": "code",
   "execution_count": 44,
   "id": "3e0b877b-f575-434c-8bc2-cfa63db1cb63",
   "metadata": {},
   "outputs": [
    {
     "data": {
      "text/html": [
       "<div><i>Table length=500</i>\n",
       "<table id=\"table140114614581424\" class=\"table-striped table-bordered table-condensed\">\n",
       "<thead><tr><th>TARGETID</th><th>PETAL_LOC</th><th>DEVICE_LOC</th><th>LOCATION</th><th>FIBER</th><th>COADD_FIBERSTATUS</th><th>TARGET_RA</th><th>TARGET_DEC</th><th>PMRA</th><th>PMDEC</th><th>REF_EPOCH</th><th>LAMBDA_REF</th><th>FA_TARGET</th><th>FA_TYPE</th><th>OBJTYPE</th><th>FIBERASSIGN_X</th><th>FIBERASSIGN_Y</th><th>PRIORITY</th><th>SUBPRIORITY</th><th>OBSCONDITIONS</th><th>RELEASE</th><th>BRICKNAME</th><th>BRICKID</th><th>BRICK_OBJID</th><th>MORPHTYPE</th><th>EBV</th><th>FLUX_G</th><th>FLUX_R</th><th>FLUX_Z</th><th>FLUX_W1</th><th>FLUX_W2</th><th>FLUX_IVAR_G</th><th>FLUX_IVAR_R</th><th>FLUX_IVAR_Z</th><th>FLUX_IVAR_W1</th><th>FLUX_IVAR_W2</th><th>FIBERFLUX_G</th><th>FIBERFLUX_R</th><th>FIBERFLUX_Z</th><th>FIBERTOTFLUX_G</th><th>FIBERTOTFLUX_R</th><th>FIBERTOTFLUX_Z</th><th>MASKBITS</th><th>SERSIC</th><th>SHAPE_R</th><th>SHAPE_E1</th><th>SHAPE_E2</th><th>REF_ID</th><th>REF_CAT</th><th>GAIA_PHOT_G_MEAN_MAG</th><th>GAIA_PHOT_BP_MEAN_MAG</th><th>GAIA_PHOT_RP_MEAN_MAG</th><th>PARALLAX</th><th>PHOTSYS</th><th>PRIORITY_INIT</th><th>NUMOBS_INIT</th><th>DESI_TARGET</th><th>BGS_TARGET</th><th>MWS_TARGET</th><th>SCND_TARGET</th><th>PLATE_RA</th><th>PLATE_DEC</th><th>TILEID</th><th>COADD_NUMEXP</th><th>COADD_EXPTIME</th><th>COADD_NUMNIGHT</th><th>COADD_NUMTILE</th><th>MEAN_DELTA_X</th><th>RMS_DELTA_X</th><th>MEAN_DELTA_Y</th><th>RMS_DELTA_Y</th><th>MEAN_FIBER_RA</th><th>STD_FIBER_RA</th><th>MEAN_FIBER_DEC</th><th>STD_FIBER_DEC</th><th>MEAN_PSF_TO_FIBER_SPECFLUX</th><th>MEAN_MJD</th><th>MEAN_FIBER_X</th><th>MEAN_FIBER_Y</th><th>MIN_MJD</th><th>MAX_MJD</th><th>FIRSTNIGHT</th><th>LASTNIGHT</th></tr></thead>\n",
       "<thead><tr><th>int64</th><th>int16</th><th>int32</th><th>int64</th><th>int32</th><th>int32</th><th>float64</th><th>float64</th><th>float32</th><th>float32</th><th>float32</th><th>float32</th><th>int64</th><th>uint8</th><th>bytes3</th><th>float32</th><th>float32</th><th>int32</th><th>float64</th><th>int32</th><th>int16</th><th>bytes8</th><th>int32</th><th>int32</th><th>bytes4</th><th>float32</th><th>float32</th><th>float32</th><th>float32</th><th>float32</th><th>float32</th><th>float32</th><th>float32</th><th>float32</th><th>float32</th><th>float32</th><th>float32</th><th>float32</th><th>float32</th><th>float32</th><th>float32</th><th>float32</th><th>int16</th><th>float32</th><th>float32</th><th>float32</th><th>float32</th><th>int64</th><th>bytes2</th><th>float32</th><th>float32</th><th>float32</th><th>float32</th><th>bytes1</th><th>int64</th><th>int64</th><th>int64</th><th>int64</th><th>int64</th><th>int64</th><th>float64</th><th>float64</th><th>int32</th><th>int16</th><th>float32</th><th>int16</th><th>int16</th><th>float32</th><th>float32</th><th>float32</th><th>float32</th><th>float64</th><th>float32</th><th>float64</th><th>float32</th><th>float32</th><th>float64</th><th>float32</th><th>float32</th><th>float64</th><th>float64</th><th>int32</th><th>int32</th></tr></thead>\n",
       "<tr><td>39628407436220140</td><td>1</td><td>417</td><td>1417</td><td>500</td><td>0</td><td>267.38745146332553</td><td>26.530744797844868</td><td>0.0</td><td>0.0</td><td>2015.5</td><td>5400.0</td><td>4611686018427387904</td><td>1</td><td>TGT</td><td>131.03671</td><td>-375.5014</td><td>90</td><td>0.12709171235846295</td><td>63</td><td>0</td><td>--</td><td>0</td><td>0</td><td>--</td><td>0.06680347</td><td>0.09650672</td><td>0.7700816</td><td>20.624</td><td>0.0</td><td>0.0</td><td>0.0</td><td>0.0</td><td>0.0</td><td>0.0</td><td>0.0</td><td>0.0</td><td>0.0</td><td>0.0</td><td>0.0</td><td>0.0</td><td>0.0</td><td>0</td><td>0.0</td><td>0.0</td><td>0.0</td><td>0.0</td><td>0</td><td>--</td><td>0.0</td><td>0.0</td><td>0.0</td><td>0.0</td><td>--</td><td>90</td><td>1</td><td>4611686018427387904</td><td>0</td><td>0</td><td>100663296</td><td>267.38745146332553</td><td>26.530744797844868</td><td>8153</td><td>1</td><td>1515.0552</td><td>1</td><td>1</td><td>-0.004329327</td><td>0.004329327</td><td>-2.3732826e-05</td><td>2.3732826e-05</td><td>267.3874325100082</td><td>0.0</td><td>26.530745254205804</td><td>0.0</td><td>0.7925615</td><td>60105.40379783</td><td>131.04134</td><td>-375.47897</td><td>60105.40379783</td><td>60105.40379783</td><td>20230609</td><td>20230609</td></tr>\n",
       "<tr><td>39628412842679256</td><td>1</td><td>353</td><td>1353</td><td>501</td><td>0</td><td>267.4122670740895</td><td>26.642965585078038</td><td>0.0</td><td>0.0</td><td>2015.5</td><td>5400.0</td><td>1179778</td><td>1</td><td>TGT</td><td>124.62788</td><td>-345.09268</td><td>3000</td><td>0.8965774880150842</td><td>1</td><td>9010</td><td>2673p267</td><td>480122</td><td>7128</td><td>DEV</td><td>0.0724042</td><td>0.5724298</td><td>0.8696151</td><td>1.9296334</td><td>1.7692544</td><td>0.3041707</td><td>1877.0557</td><td>738.0364</td><td>120.51335</td><td>3.4490285</td><td>0.98779684</td><td>0.34523335</td><td>0.5244663</td><td>1.1637651</td><td>0.34595245</td><td>0.5259517</td><td>1.1661074</td><td>0</td><td>4.0</td><td>0.345672</td><td>0.28979778</td><td>-0.041429553</td><td>0</td><td>--</td><td>0.0</td><td>0.0</td><td>0.0</td><td>0.0</td><td>S</td><td>3000</td><td>2</td><td>1179778</td><td>0</td><td>0</td><td>0</td><td>267.4122670740895</td><td>26.642965585078038</td><td>8153</td><td>1</td><td>1515.0552</td><td>1</td><td>1</td><td>-0.0021096494</td><td>0.0021096494</td><td>-0.0015161823</td><td>0.0015161823</td><td>267.41225761158285</td><td>0.0</td><td>26.64297141894378</td><td>0.0</td><td>0.7786146</td><td>60105.40379783</td><td>124.63111</td><td>-345.0785</td><td>60105.40379783</td><td>60105.40379783</td><td>20230609</td><td>20230609</td></tr>\n",
       "<tr><td>39628412842675896</td><td>1</td><td>377</td><td>1377</td><td>502</td><td>0</td><td>267.3101405986389</td><td>26.705890670123814</td><td>0.0</td><td>0.0</td><td>2015.5</td><td>5400.0</td><td>655394</td><td>1</td><td>TGT</td><td>147.38138</td><td>-328.8045</td><td>3100</td><td>0.9350801300905444</td><td>1</td><td>9010</td><td>2673p267</td><td>480122</td><td>3768</td><td>EXP</td><td>0.07089416</td><td>0.5442966</td><td>0.6861323</td><td>1.1052521</td><td>7.797732</td><td>22.590256</td><td>1036.4435</td><td>449.49493</td><td>80.55858</td><td>1.6691624</td><td>0.77026427</td><td>0.25264642</td><td>0.31848234</td><td>0.5130254</td><td>0.25266695</td><td>0.31855252</td><td>0.5131686</td><td>2816</td><td>1.0</td><td>0.79648715</td><td>-0.37334898</td><td>-0.1279322</td><td>0</td><td>--</td><td>0.0</td><td>0.0</td><td>0.0</td><td>0.0</td><td>S</td><td>3100</td><td>2</td><td>655394</td><td>0</td><td>0</td><td>0</td><td>267.3101405986389</td><td>26.705890670123814</td><td>8153</td><td>1</td><td>1515.0552</td><td>1</td><td>1</td><td>-0.0043068337</td><td>0.0043068337</td><td>-0.0041829073</td><td>0.0041829073</td><td>267.3101211271584</td><td>0.0</td><td>26.705906790305367</td><td>0.0</td><td>0.75546366</td><td>60105.40379783</td><td>147.3863</td><td>-328.7878</td><td>60105.40379783</td><td>60105.40379783</td><td>20230609</td><td>20230609</td></tr>\n",
       "<tr><td>39628407436220713</td><td>1</td><td>394</td><td>1394</td><td>503</td><td>0</td><td>267.4031840398484</td><td>26.5608319021426</td><td>0.0</td><td>0.0</td><td>2015.5</td><td>5400.0</td><td>655394</td><td>1</td><td>TGT</td><td>127.23389</td><td>-367.25146</td><td>3100</td><td>0.12288255604731346</td><td>1</td><td>9010</td><td>2673p265</td><td>478833</td><td>6441</td><td>PSF</td><td>0.06762984</td><td>0.26311943</td><td>0.3519478</td><td>0.5096555</td><td>0.9243286</td><td>-0.5631942</td><td>1526.1404</td><td>417.46564</td><td>102.08769</td><td>4.958913</td><td>1.3527905</td><td>0.20451422</td><td>0.27355766</td><td>0.39613876</td><td>0.20451906</td><td>0.27356416</td><td>0.39614633</td><td>0</td><td>0.0</td><td>0.0</td><td>0.0</td><td>0.0</td><td>0</td><td>--</td><td>0.0</td><td>0.0</td><td>0.0</td><td>0.0</td><td>S</td><td>3100</td><td>2</td><td>655394</td><td>0</td><td>0</td><td>0</td><td>267.4031840398484</td><td>26.5608319021426</td><td>8153</td><td>1</td><td>1515.0552</td><td>1</td><td>1</td><td>-0.00012948358</td><td>0.00012948358</td><td>0.0003670694</td><td>0.0003670694</td><td>267.4031835117736</td><td>0.0</td><td>26.560830555273647</td><td>0.0</td><td>0.789</td><td>60105.40379783</td><td>127.23613</td><td>-367.23636</td><td>60105.40379783</td><td>60105.40379783</td><td>20230609</td><td>20230609</td></tr>\n",
       "<tr><td>39628412838487337</td><td>1</td><td>401</td><td>1401</td><td>504</td><td>0</td><td>267.2025390825793</td><td>26.741299047677177</td><td>0.0</td><td>0.0</td><td>2015.5</td><td>5400.0</td><td>655394</td><td>1</td><td>TGT</td><td>171.59898</td><td>-319.98175</td><td>3100</td><td>0.827384153229929</td><td>1</td><td>9010</td><td>2670p267</td><td>480121</td><td>9513</td><td>REX</td><td>0.06624152</td><td>0.35674417</td><td>0.40372005</td><td>0.6731021</td><td>1.5556172</td><td>1.004789</td><td>2310.5493</td><td>773.31195</td><td>135.12807</td><td>4.781122</td><td>1.2198522</td><td>0.24544561</td><td>0.27776578</td><td>0.46310487</td><td>0.24544562</td><td>0.27776578</td><td>0.4631049</td><td>0</td><td>1.0</td><td>0.24353285</td><td>0.0</td><td>0.0</td><td>0</td><td>--</td><td>0.0</td><td>0.0</td><td>0.0</td><td>0.0</td><td>S</td><td>3100</td><td>2</td><td>655394</td><td>0</td><td>0</td><td>0</td><td>267.2025390825793</td><td>26.741299047677177</td><td>8153</td><td>1</td><td>1515.0552</td><td>1</td><td>1</td><td>0.00016982244</td><td>0.00016982244</td><td>-0.00094982155</td><td>0.00094982155</td><td>267.20253969892667</td><td>0.0</td><td>26.74130262016028</td><td>0.0</td><td>0.78375524</td><td>60105.40379783</td><td>171.59883</td><td>-319.96704</td><td>60105.40379783</td><td>60105.40379783</td><td>20230609</td><td>20230609</td></tr>\n",
       "<tr><td>-81531399</td><td>1</td><td>399</td><td>1399</td><td>505</td><td>2</td><td>267.24326462783273</td><td>26.690423913689113</td><td>0.0</td><td>0.0</td><td>0.0</td><td>5400.0</td><td>0</td><td>4</td><td>SKY</td><td>162.72888</td><td>-333.2844</td><td>0</td><td>0.0</td><td>0</td><td>0</td><td>--</td><td>0</td><td>0</td><td>--</td><td>0.06786629</td><td>0.0</td><td>0.0</td><td>0.0</td><td>0.0</td><td>0.0</td><td>0.0</td><td>0.0</td><td>0.0</td><td>0.0</td><td>0.0</td><td>0.0</td><td>0.0</td><td>0.0</td><td>0.0</td><td>0.0</td><td>0.0</td><td>0</td><td>0.0</td><td>0.0</td><td>0.0</td><td>0.0</td><td>0</td><td>--</td><td>0.0</td><td>0.0</td><td>0.0</td><td>0.0</td><td>--</td><td>0</td><td>0</td><td>0</td><td>0</td><td>0</td><td>0</td><td>267.24326462783273</td><td>26.690423913689113</td><td>8153</td><td>1</td><td>1515.0552</td><td>1</td><td>1</td><td>0.009524371</td><td>0.009524371</td><td>0.016943278</td><td>0.016943278</td><td>267.24330865291125</td><td>0.0</td><td>26.690359408989025</td><td>0.0</td><td>0.7941292</td><td>60105.40379783</td><td>162.71948</td><td>-333.28793</td><td>60105.40379783</td><td>60105.40379783</td><td>20230609</td><td>20230609</td></tr>\n",
       "<tr><td>39628407436215019</td><td>1</td><td>462</td><td>1462</td><td>506</td><td>0</td><td>267.2357867452128</td><td>26.55027719960285</td><td>0.0</td><td>0.0</td><td>2015.5</td><td>5400.0</td><td>65537</td><td>1</td><td>TGT</td><td>165.65576</td><td>-371.08752</td><td>3200</td><td>0.03409873608856295</td><td>1</td><td>9010</td><td>2673p265</td><td>478833</td><td>747</td><td>DEV</td><td>0.06704029</td><td>0.41918686</td><td>2.027671</td><td>9.526954</td><td>37.68213</td><td>23.170357</td><td>395.07037</td><td>118.53827</td><td>17.15812</td><td>2.5317416</td><td>0.8182579</td><td>0.12208193</td><td>0.590529</td><td>2.774583</td><td>0.12484035</td><td>0.5976273</td><td>2.7893841</td><td>0</td><td>4.0</td><td>1.674663</td><td>-0.004947228</td><td>0.34871414</td><td>0</td><td>--</td><td>0.0</td><td>0.0</td><td>0.0</td><td>0.0</td><td>S</td><td>3200</td><td>2</td><td>65537</td><td>0</td><td>0</td><td>0</td><td>267.2357867452128</td><td>26.55027719960285</td><td>8153</td><td>1</td><td>1515.0552</td><td>1</td><td>1</td><td>-0.00012326357</td><td>0.00012326357</td><td>-0.0033916587</td><td>0.0033916587</td><td>267.2357857156016</td><td>0.0</td><td>26.550289694238757</td><td>0.0</td><td>0.7279498</td><td>60105.40379783</td><td>165.65012</td><td>-371.0506</td><td>60105.40379783</td><td>60105.40379783</td><td>20230609</td><td>20230609</td></tr>\n",
       "<tr><td>39628412842678449</td><td>1</td><td>354</td><td>1354</td><td>507</td><td>0</td><td>267.3870793432585</td><td>26.67770229328621</td><td>0.0</td><td>0.0</td><td>2015.5</td><td>5400.0</td><td>4611686018427387904</td><td>1</td><td>TGT</td><td>130.11694</td><td>-335.93158</td><td>90</td><td>0.9029519886388006</td><td>63</td><td>0</td><td>--</td><td>0</td><td>0</td><td>--</td><td>0.073387936</td><td>0.93473697</td><td>2.2796419</td><td>13.913094</td><td>0.0</td><td>0.0</td><td>0.0</td><td>0.0</td><td>0.0</td><td>0.0</td><td>0.0</td><td>0.0</td><td>0.0</td><td>0.0</td><td>0.0</td><td>0.0</td><td>0.0</td><td>0</td><td>0.0</td><td>0.0</td><td>0.0</td><td>0.0</td><td>0</td><td>--</td><td>0.0</td><td>0.0</td><td>0.0</td><td>0.0</td><td>--</td><td>90</td><td>1</td><td>4611686018427387904</td><td>0</td><td>0</td><td>100663296</td><td>267.3870793432585</td><td>26.67770229328621</td><td>8153</td><td>1</td><td>1515.0552</td><td>1</td><td>1</td><td>0.00047279714</td><td>0.00047279714</td><td>0.0025783433</td><td>0.0025783433</td><td>267.3870817017081</td><td>0.0</td><td>26.67769256440778</td><td>0.0</td><td>0.79230654</td><td>60105.40379783</td><td>130.11752</td><td>-335.92157</td><td>60105.40379783</td><td>60105.40379783</td><td>20230609</td><td>20230609</td></tr>\n",
       "<tr><td>39628407436216609</td><td>1</td><td>441</td><td>1441</td><td>508</td><td>0</td><td>267.28582855773</td><td>26.56634310808146</td><td>0.0</td><td>0.0</td><td>2015.5</td><td>5400.0</td><td>655394</td><td>1</td><td>TGT</td><td>154.02026</td><td>-366.40936</td><td>3100</td><td>0.2954588642909656</td><td>1</td><td>9010</td><td>2673p265</td><td>478833</td><td>2337</td><td>PSF</td><td>0.06845478</td><td>0.25632536</td><td>0.27122095</td><td>0.3560099</td><td>-0.31341234</td><td>2.1588855</td><td>1925.1832</td><td>906.8975</td><td>152.15594</td><td>5.0743003</td><td>1.2915188</td><td>0.19956112</td><td>0.21115802</td><td>0.27717012</td><td>0.1995648</td><td>0.21116751</td><td>0.27719</td><td>0</td><td>0.0</td><td>0.0</td><td>0.0</td><td>0.0</td><td>0</td><td>--</td><td>0.0</td><td>0.0</td><td>0.0</td><td>0.0</td><td>S</td><td>3100</td><td>2</td><td>655394</td><td>0</td><td>0</td><td>0</td><td>267.28582855773</td><td>26.56634310808146</td><td>8153</td><td>1</td><td>1515.0552</td><td>1</td><td>1</td><td>0.0049330564</td><td>0.0049330564</td><td>0.0019331729</td><td>0.0019331729</td><td>267.285850349159</td><td>0.0</td><td>26.56633549593289</td><td>0.0</td><td>0.789</td><td>60105.40379783</td><td>154.01506</td><td>-366.38895</td><td>60105.40379783</td><td>60105.40379783</td><td>20230609</td><td>20230609</td></tr>\n",
       "<tr><td>-81531446</td><td>1</td><td>446</td><td>1446</td><td>509</td><td>2</td><td>267.1314953149665</td><td>26.698530305498224</td><td>0.0</td><td>0.0</td><td>0.0</td><td>5400.0</td><td>0</td><td>4</td><td>SKY</td><td>188.24481</td><td>-331.79782</td><td>0</td><td>0.0</td><td>0</td><td>0</td><td>--</td><td>0</td><td>0</td><td>--</td><td>0.06549347</td><td>0.0</td><td>0.0</td><td>0.0</td><td>0.0</td><td>0.0</td><td>0.0</td><td>0.0</td><td>0.0</td><td>0.0</td><td>0.0</td><td>0.0</td><td>0.0</td><td>0.0</td><td>0.0</td><td>0.0</td><td>0.0</td><td>0</td><td>0.0</td><td>0.0</td><td>0.0</td><td>0.0</td><td>0</td><td>--</td><td>0.0</td><td>0.0</td><td>0.0</td><td>0.0</td><td>--</td><td>0</td><td>0</td><td>0</td><td>0</td><td>0</td><td>0</td><td>267.1314953149665</td><td>26.698530305498224</td><td>8153</td><td>1</td><td>1515.0552</td><td>1</td><td>1</td><td>0.0016448336</td><td>0.0016448336</td><td>0.0244922</td><td>0.0244922</td><td>267.1315062423739</td><td>0.0</td><td>26.698438284754</td><td>0.0</td><td>0.7950384</td><td>60105.40379783</td><td>188.24336</td><td>-331.8075</td><td>60105.40379783</td><td>60105.40379783</td><td>20230609</td><td>20230609</td></tr>\n",
       "<tr><td>...</td><td>...</td><td>...</td><td>...</td><td>...</td><td>...</td><td>...</td><td>...</td><td>...</td><td>...</td><td>...</td><td>...</td><td>...</td><td>...</td><td>...</td><td>...</td><td>...</td><td>...</td><td>...</td><td>...</td><td>...</td><td>...</td><td>...</td><td>...</td><td>...</td><td>...</td><td>...</td><td>...</td><td>...</td><td>...</td><td>...</td><td>...</td><td>...</td><td>...</td><td>...</td><td>...</td><td>...</td><td>...</td><td>...</td><td>...</td><td>...</td><td>...</td><td>...</td><td>...</td><td>...</td><td>...</td><td>...</td><td>...</td><td>...</td><td>...</td><td>...</td><td>...</td><td>...</td><td>...</td><td>...</td><td>...</td><td>...</td><td>...</td><td>...</td><td>...</td><td>...</td><td>...</td><td>...</td><td>...</td><td>...</td><td>...</td><td>...</td><td>...</td><td>...</td><td>...</td><td>...</td><td>...</td><td>...</td><td>...</td><td>...</td><td>...</td><td>...</td><td>...</td><td>...</td><td>...</td><td>...</td><td>...</td><td>...</td></tr>\n",
       "<tr><td>39628423622038937</td><td>1</td><td>152</td><td>1152</td><td>990</td><td>0</td><td>267.50270900894105</td><td>27.168953251377577</td><td>0.0</td><td>0.0</td><td>2015.5</td><td>5400.0</td><td>655394</td><td>1</td><td>TGT</td><td>101.96037</td><td>-208.37856</td><td>3100</td><td>0.45710541405143945</td><td>1</td><td>9010</td><td>2674p272</td><td>482692</td><td>5529</td><td>REX</td><td>0.05758678</td><td>0.369489</td><td>0.50472283</td><td>0.94594747</td><td>0.17017858</td><td>-0.67075276</td><td>1357.3129</td><td>719.0935</td><td>113.85353</td><td>4.1272764</td><td>1.213411</td><td>0.24691586</td><td>0.3372876</td><td>0.6321417</td><td>0.24691586</td><td>0.33728763</td><td>0.6321417</td><td>0</td><td>1.0</td><td>0.2742255</td><td>0.0</td><td>0.0</td><td>0</td><td>--</td><td>0.0</td><td>0.0</td><td>0.0</td><td>0.0</td><td>S</td><td>3100</td><td>2</td><td>655394</td><td>0</td><td>0</td><td>0</td><td>267.50270900894105</td><td>27.168953251377577</td><td>8153</td><td>1</td><td>1515.0552</td><td>1</td><td>1</td><td>-0.0005664111</td><td>0.0005664111</td><td>-0.00031657837</td><td>0.00031657837</td><td>267.5027064230108</td><td>0.0</td><td>27.168954528954014</td><td>0.0</td><td>0.78480434</td><td>60105.40379783</td><td>101.94656</td><td>-208.35869</td><td>60105.40379783</td><td>60105.40379783</td><td>20230609</td><td>20230609</td></tr>\n",
       "<tr><td>39628418232355018</td><td>1</td><td>391</td><td>1391</td><td>991</td><td>0</td><td>266.8426975343682</td><td>27.1086269007088</td><td>0.0</td><td>0.0</td><td>2015.5</td><td>5400.0</td><td>655394</td><td>1</td><td>TGT</td><td>250.68784</td><td>-226.15623</td><td>3100</td><td>0.2974373208035318</td><td>1</td><td>9010</td><td>2669p270</td><td>481407</td><td>2250</td><td>PSF</td><td>0.06372533</td><td>0.2646077</td><td>0.19161114</td><td>0.5137837</td><td>0.7434264</td><td>1.3091482</td><td>704.32874</td><td>143.2924</td><td>43.91672</td><td>4.774624</td><td>1.2400326</td><td>0.20577</td><td>0.14900482</td><td>0.39953965</td><td>0.20577</td><td>0.14900482</td><td>0.39953965</td><td>0</td><td>0.0</td><td>0.0</td><td>0.0</td><td>0.0</td><td>0</td><td>--</td><td>0.0</td><td>0.0</td><td>0.0</td><td>0.0</td><td>S</td><td>3100</td><td>2</td><td>655394</td><td>0</td><td>0</td><td>0</td><td>266.8426975343682</td><td>27.1086269007088</td><td>8153</td><td>1</td><td>1515.0552</td><td>1</td><td>1</td><td>-0.0024005116</td><td>0.0024005116</td><td>-0.00044102955</td><td>0.00044102955</td><td>266.8426870235516</td><td>0.0</td><td>27.1086288228556</td><td>0.0</td><td>0.789</td><td>60105.40379783</td><td>250.6824</td><td>-226.13857</td><td>60105.40379783</td><td>60105.40379783</td><td>20230609</td><td>20230609</td></tr>\n",
       "<tr><td>39628423613646923</td><td>1</td><td>370</td><td>1370</td><td>992</td><td>0</td><td>266.84195922544893</td><td>27.157020680294664</td><td>0.0</td><td>0.0</td><td>2015.5</td><td>5400.0</td><td>655394</td><td>1</td><td>TGT</td><td>250.41602</td><td>-213.73492</td><td>2</td><td>0.7681408004975562</td><td>1</td><td>9010</td><td>2669p272</td><td>482690</td><td>2123</td><td>REX</td><td>0.06124548</td><td>0.50098556</td><td>0.7318535</td><td>1.5716363</td><td>2.5787575</td><td>0.86327493</td><td>933.0123</td><td>327.4565</td><td>40.76013</td><td>4.2002444</td><td>1.1082404</td><td>0.20450793</td><td>0.29875082</td><td>0.6415596</td><td>0.20451662</td><td>0.2987693</td><td>0.64158934</td><td>0</td><td>1.0</td><td>0.68137115</td><td>0.0</td><td>0.0</td><td>0</td><td>--</td><td>0.0</td><td>0.0</td><td>0.0</td><td>0.0</td><td>S</td><td>3100</td><td>2</td><td>655394</td><td>0</td><td>0</td><td>0</td><td>266.84195922544893</td><td>27.157020680294664</td><td>8153</td><td>1</td><td>1515.0552</td><td>1</td><td>1</td><td>0.00069239724</td><td>0.00069239724</td><td>0.004282941</td><td>0.004282941</td><td>266.84196287842417</td><td>0.0</td><td>27.157003877215576</td><td>0.0</td><td>0.7636781</td><td>60105.40379783</td><td>250.40631</td><td>-213.72229</td><td>60105.40379783</td><td>60105.40379783</td><td>20230609</td><td>20230609</td></tr>\n",
       "<tr><td>39628423622039386</td><td>1</td><td>127</td><td>1127</td><td>993</td><td>0</td><td>267.5171212265058</td><td>27.238754819464287</td><td>0.0</td><td>0.0</td><td>2015.5</td><td>5400.0</td><td>65537</td><td>1</td><td>TGT</td><td>98.57642</td><td>-190.78494</td><td>3200</td><td>0.0436040810373679</td><td>1</td><td>9010</td><td>2674p272</td><td>482692</td><td>5978</td><td>REX</td><td>0.056623474</td><td>0.29476595</td><td>1.5356925</td><td>7.9180675</td><td>29.473345</td><td>18.942472</td><td>1547.2528</td><td>627.4224</td><td>81.52376</td><td>2.8672607</td><td>0.99379075</td><td>0.18084683</td><td>0.94218856</td><td>4.857947</td><td>0.18105108</td><td>0.9426156</td><td>4.858746</td><td>0</td><td>1.0</td><td>0.35273972</td><td>0.0</td><td>0.0</td><td>0</td><td>--</td><td>0.0</td><td>0.0</td><td>0.0</td><td>0.0</td><td>S</td><td>3200</td><td>2</td><td>65537</td><td>0</td><td>0</td><td>0</td><td>267.5171212265058</td><td>27.238754819464287</td><td>8153</td><td>1</td><td>1515.0552</td><td>1</td><td>1</td><td>-0.0010775217</td><td>0.0010775217</td><td>-0.0009192037</td><td>0.0009192037</td><td>267.5171162816147</td><td>0.0</td><td>27.23875852339327</td><td>0.0</td><td>0.782526</td><td>60105.40379783</td><td>98.56108</td><td>-190.76408</td><td>60105.40379783</td><td>60105.40379783</td><td>20230609</td><td>20230609</td></tr>\n",
       "<tr><td>-81531168</td><td>1</td><td>168</td><td>1168</td><td>994</td><td>2</td><td>267.42695041176364</td><td>27.19127655864636</td><td>0.0</td><td>0.0</td><td>0.0</td><td>5400.0</td><td>0</td><td>4</td><td>SKY</td><td>118.61087</td><td>-202.92378</td><td>0</td><td>0.0</td><td>0</td><td>0</td><td>--</td><td>0</td><td>0</td><td>--</td><td>0.05951278</td><td>0.0</td><td>0.0</td><td>0.0</td><td>0.0</td><td>0.0</td><td>0.0</td><td>0.0</td><td>0.0</td><td>0.0</td><td>0.0</td><td>0.0</td><td>0.0</td><td>0.0</td><td>0.0</td><td>0.0</td><td>0.0</td><td>0</td><td>0.0</td><td>0.0</td><td>0.0</td><td>0.0</td><td>0</td><td>--</td><td>0.0</td><td>0.0</td><td>0.0</td><td>0.0</td><td>--</td><td>0</td><td>0</td><td>0</td><td>0</td><td>0</td><td>0</td><td>267.42695041176364</td><td>27.19127655864636</td><td>8153</td><td>1</td><td>1515.0552</td><td>1</td><td>1</td><td>-0.019091591</td><td>0.019091591</td><td>0.021025892</td><td>0.021025892</td><td>267.426865309787</td><td>0.0</td><td>27.19119379486704</td><td>0.0</td><td>0.7952992</td><td>60105.40379783</td><td>118.61309</td><td>-202.92603</td><td>60105.40379783</td><td>60105.40379783</td><td>20230609</td><td>20230609</td></tr>\n",
       "<tr><td>39628418232355536</td><td>1</td><td>412</td><td>1412</td><td>995</td><td>0</td><td>266.856484274039</td><td>27.075070416457052</td><td>0.0</td><td>0.0</td><td>2015.5</td><td>5400.0</td><td>65537</td><td>1</td><td>TGT</td><td>247.828</td><td>-234.72824</td><td>3200</td><td>0.020263223375530992</td><td>1</td><td>9010</td><td>2669p270</td><td>481407</td><td>2768</td><td>SER</td><td>0.06622716</td><td>0.502106</td><td>1.9844422</td><td>12.573707</td><td>44.021046</td><td>25.08781</td><td>886.0611</td><td>300.5572</td><td>36.846382</td><td>2.8389037</td><td>0.9369769</td><td>0.17997776</td><td>0.71131486</td><td>4.5069914</td><td>0.18006253</td><td>0.71147704</td><td>4.5070214</td><td>0</td><td>0.5</td><td>1.1023228</td><td>-0.22742955</td><td>0.32261702</td><td>0</td><td>--</td><td>0.0</td><td>0.0</td><td>0.0</td><td>0.0</td><td>S</td><td>3200</td><td>2</td><td>65537</td><td>0</td><td>0</td><td>0</td><td>266.856484274039</td><td>27.075070416457052</td><td>8153</td><td>1</td><td>1515.0552</td><td>1</td><td>1</td><td>-0.00054693123</td><td>0.00054693123</td><td>0.0037872596</td><td>0.0037872596</td><td>266.85648249089485</td><td>0.0</td><td>27.075055755030803</td><td>0.0</td><td>0.74887216</td><td>60105.40379783</td><td>247.82155</td><td>-234.71579</td><td>60105.40379783</td><td>60105.40379783</td><td>20230609</td><td>20230609</td></tr>\n",
       "<tr><td>-81531350</td><td>1</td><td>350</td><td>1350</td><td>996</td><td>3</td><td>266.8692548834722</td><td>27.199664554767658</td><td>0.0</td><td>0.0</td><td>0.0</td><td>5400.0</td><td>0</td><td>0</td><td>--</td><td>243.78662</td><td>-202.70541</td><td>0</td><td>0.0</td><td>0</td><td>0</td><td>--</td><td>0</td><td>0</td><td>--</td><td>0.06115612</td><td>0.0</td><td>0.0</td><td>0.0</td><td>0.0</td><td>0.0</td><td>0.0</td><td>0.0</td><td>0.0</td><td>0.0</td><td>0.0</td><td>0.0</td><td>0.0</td><td>0.0</td><td>0.0</td><td>0.0</td><td>0.0</td><td>0</td><td>0.0</td><td>0.0</td><td>0.0</td><td>0.0</td><td>0</td><td>--</td><td>0.0</td><td>0.0</td><td>0.0</td><td>0.0</td><td>--</td><td>0</td><td>0</td><td>0</td><td>0</td><td>0</td><td>0</td><td>266.8692548834722</td><td>27.199664554767658</td><td>8153</td><td>1</td><td>1515.0552</td><td>1</td><td>1</td><td>-0.01928556</td><td>0.01928556</td><td>0.020987835</td><td>0.020987835</td><td>266.8691734096933</td><td>0.0</td><td>27.199583525296237</td><td>0.0</td><td>0.7954959</td><td>60105.40379783</td><td>243.79329</td><td>-202.71199</td><td>60105.40379783</td><td>60105.40379783</td><td>20230609</td><td>20230609</td></tr>\n",
       "<tr><td>39628423622039892</td><td>1</td><td>139</td><td>1139</td><td>997</td><td>0</td><td>267.53263912038096</td><td>27.20020725993311</td><td>0.0</td><td>0.0</td><td>2015.5</td><td>5400.0</td><td>262148</td><td>1</td><td>TGT</td><td>95.27211</td><td>-200.43932</td><td>100</td><td>0.8526275430311704</td><td>1</td><td>9010</td><td>2674p272</td><td>482692</td><td>6484</td><td>PSF</td><td>0.05660109</td><td>0.3405759</td><td>0.6517103</td><td>0.884734</td><td>4.7090516</td><td>7.6079946</td><td>1652.1118</td><td>857.72296</td><td>152.4258</td><td>4.8047533</td><td>1.284723</td><td>0.2647121</td><td>0.5065408</td><td>0.6876581</td><td>0.26536232</td><td>0.5071636</td><td>0.68811256</td><td>0</td><td>0.0</td><td>0.0</td><td>0.0</td><td>0.0</td><td>0</td><td>--</td><td>0.0</td><td>0.0</td><td>0.0</td><td>0.0</td><td>S</td><td>3400</td><td>4</td><td>262148</td><td>0</td><td>0</td><td>0</td><td>267.53263912038096</td><td>27.20020725993311</td><td>8153</td><td>1</td><td>1515.0552</td><td>1</td><td>1</td><td>-0.0011058948</td><td>0.0011058948</td><td>0.0016744279</td><td>0.0016744279</td><td>267.53263417384267</td><td>0.0</td><td>27.20020063118786</td><td>0.0</td><td>0.789</td><td>60105.40379783</td><td>95.2581</td><td>-200.42067</td><td>60105.40379783</td><td>60105.40379783</td><td>20230609</td><td>20230609</td></tr>\n",
       "<tr><td>39628423613650326</td><td>1</td><td>309</td><td>1309</td><td>998</td><td>0</td><td>266.95379918148177</td><td>27.226287454258134</td><td>0.0</td><td>0.0</td><td>2015.5</td><td>5400.0</td><td>655394</td><td>1</td><td>TGT</td><td>224.29373</td><td>-195.57848</td><td>3100</td><td>0.7965661903536314</td><td>1</td><td>9010</td><td>2669p272</td><td>482690</td><td>5526</td><td>REX</td><td>0.061895818</td><td>0.45658827</td><td>0.43937084</td><td>0.74878716</td><td>1.7693093</td><td>2.049172</td><td>681.4024</td><td>264.9556</td><td>37.10371</td><td>4.3697724</td><td>1.1544156</td><td>0.19871451</td><td>0.1912212</td><td>0.32588413</td><td>0.19871451</td><td>0.1912212</td><td>0.32588413</td><td>0</td><td>1.0</td><td>0.6298202</td><td>0.0</td><td>0.0</td><td>0</td><td>--</td><td>0.0</td><td>0.0</td><td>0.0</td><td>0.0</td><td>S</td><td>3100</td><td>2</td><td>655394</td><td>0</td><td>0</td><td>0</td><td>266.95379918148177</td><td>27.226287454258134</td><td>8153</td><td>1</td><td>1515.0552</td><td>1</td><td>1</td><td>0.00078075076</td><td>0.00078075076</td><td>-0.00037182088</td><td>0.00037182088</td><td>266.95380257852577</td><td>0.0</td><td>27.226288870846087</td><td>0.0</td><td>0.76859033</td><td>60105.40379783</td><td>224.27922</td><td>-195.56163</td><td>60105.40379783</td><td>60105.40379783</td><td>20230609</td><td>20230609</td></tr>\n",
       "<tr><td>39628418240750131</td><td>1</td><td>136</td><td>1136</td><td>999</td><td>0</td><td>267.6165244863433</td><td>27.097539607757373</td><td>0.0</td><td>0.0</td><td>2015.5</td><td>5400.0</td><td>65537</td><td>1</td><td>TGT</td><td>77.07319</td><td>-226.20264</td><td>3200</td><td>0.10668490026564592</td><td>1</td><td>9010</td><td>2674p270</td><td>481409</td><td>8755</td><td>REX</td><td>0.05564585</td><td>0.16735898</td><td>0.89646375</td><td>6.2461314</td><td>34.589382</td><td>22.114286</td><td>273.94983</td><td>77.91702</td><td>9.624551</td><td>3.0414374</td><td>0.99096227</td><td>0.06949482</td><td>0.37225124</td><td>2.593669</td><td>0.06950737</td><td>0.372293</td><td>2.593752</td><td>0</td><td>1.0</td><td>0.66817987</td><td>0.0</td><td>0.0</td><td>0</td><td>--</td><td>0.0</td><td>0.0</td><td>0.0</td><td>0.0</td><td>S</td><td>3200</td><td>2</td><td>65537</td><td>0</td><td>0</td><td>0</td><td>267.6165244863433</td><td>27.097539607757373</td><td>8153</td><td>1</td><td>1515.0552</td><td>1</td><td>1</td><td>-0.000107495776</td><td>0.000107495776</td><td>-0.0022667823</td><td>0.0022667823</td><td>267.6165239057659</td><td>0.0</td><td>27.097548567149964</td><td>0.0</td><td>0.77044344</td><td>60105.40379783</td><td>77.061104</td><td>-226.18074</td><td>60105.40379783</td><td>60105.40379783</td><td>20230609</td><td>20230609</td></tr>\n",
       "</table></div>"
      ],
      "text/plain": [
       "<Table length=500>\n",
       "     TARGETID     PETAL_LOC DEVICE_LOC ...    MAX_MJD     FIRSTNIGHT LASTNIGHT\n",
       "      int64         int16     int32    ...    float64       int32      int32  \n",
       "----------------- --------- ---------- ... -------------- ---------- ---------\n",
       "39628407436220140         1        417 ... 60105.40379783   20230609  20230609\n",
       "39628412842679256         1        353 ... 60105.40379783   20230609  20230609\n",
       "39628412842675896         1        377 ... 60105.40379783   20230609  20230609\n",
       "39628407436220713         1        394 ... 60105.40379783   20230609  20230609\n",
       "39628412838487337         1        401 ... 60105.40379783   20230609  20230609\n",
       "        -81531399         1        399 ... 60105.40379783   20230609  20230609\n",
       "39628407436215019         1        462 ... 60105.40379783   20230609  20230609\n",
       "39628412842678449         1        354 ... 60105.40379783   20230609  20230609\n",
       "39628407436216609         1        441 ... 60105.40379783   20230609  20230609\n",
       "        -81531446         1        446 ... 60105.40379783   20230609  20230609\n",
       "              ...       ...        ... ...            ...        ...       ...\n",
       "39628423622038937         1        152 ... 60105.40379783   20230609  20230609\n",
       "39628418232355018         1        391 ... 60105.40379783   20230609  20230609\n",
       "39628423613646923         1        370 ... 60105.40379783   20230609  20230609\n",
       "39628423622039386         1        127 ... 60105.40379783   20230609  20230609\n",
       "        -81531168         1        168 ... 60105.40379783   20230609  20230609\n",
       "39628418232355536         1        412 ... 60105.40379783   20230609  20230609\n",
       "        -81531350         1        350 ... 60105.40379783   20230609  20230609\n",
       "39628423622039892         1        139 ... 60105.40379783   20230609  20230609\n",
       "39628423613650326         1        309 ... 60105.40379783   20230609  20230609\n",
       "39628418240750131         1        136 ... 60105.40379783   20230609  20230609"
      ]
     },
     "execution_count": 44,
     "metadata": {},
     "output_type": "execute_result"
    }
   ],
   "source": [
    "target_petal"
   ]
  },
  {
   "cell_type": "code",
   "execution_count": null,
   "id": "4acc3371-b453-4dcb-8719-4a1cc3e8d00e",
   "metadata": {},
   "outputs": [],
   "source": []
  }
 ],
 "metadata": {
  "kernelspec": {
   "display_name": "DESI main",
   "language": "python",
   "name": "desi-main"
  },
  "language_info": {
   "codemirror_mode": {
    "name": "ipython",
    "version": 3
   },
   "file_extension": ".py",
   "mimetype": "text/x-python",
   "name": "python",
   "nbconvert_exporter": "python",
   "pygments_lexer": "ipython3",
   "version": "3.10.8"
  }
 },
 "nbformat": 4,
 "nbformat_minor": 5
}
