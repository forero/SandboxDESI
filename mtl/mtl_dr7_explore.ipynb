{
 "cells": [
  {
   "cell_type": "code",
   "execution_count": 1,
   "metadata": {},
   "outputs": [],
   "source": [
    "import fitsio,os, numpy as np\n",
    "from desitarget.targetmask import desi_mask, bgs_mask, mws_mask"
   ]
  },
  {
   "cell_type": "code",
   "execution_count": 3,
   "metadata": {},
   "outputs": [],
   "source": [
    "mtl_file = \"/global/cscratch1/sd/forero/fiberassign_explore/py/mtl_dr7.1-0.27.0.fits\"\n",
    "columns=['OBSCONDITIONS','NUMOBS_MORE','DESI_TARGET', 'BGS_TARGET', 'MWS_TARGET']\n",
    "mtl,h = fitsio.read(mtl_file,columns=columns, header=True)\n"
   ]
  },
  {
   "cell_type": "code",
   "execution_count": 6,
   "metadata": {},
   "outputs": [
    {
     "name": "stdout",
     "output_type": "stream",
     "text": [
      "2688189\n",
      "17461845\n",
      "13634618\n",
      "84266\n",
      "312790\n"
     ]
    }
   ],
   "source": [
    "isqso = (mtl['DESI_TARGET'] & desi_mask.QSO)!=0\n",
    "ismws = (mtl['DESI_TARGET'] & desi_mask.MWS_ANY)!=0\n",
    "isbgs = (mtl['DESI_TARGET'] & desi_mask.BGS_ANY)!=0\n",
    "\n",
    "print(np.count_nonzero(isqso))\n",
    "print(np.count_nonzero(ismws))\n",
    "print(np.count_nonzero(isbgs))\n",
    "print(np.count_nonzero(isqso & ismws))\n",
    "print(np.count_nonzero(isqso & isbgs))"
   ]
  },
  {
   "cell_type": "code",
   "execution_count": 5,
   "metadata": {},
   "outputs": [
    {
     "name": "stdout",
     "output_type": "stream",
     "text": [
      "{1, 4}\n",
      "2375399\n",
      "312790\n"
     ]
    }
   ],
   "source": [
    "print(set(mtl['NUMOBS_MORE'][isqso]))\n",
    "\n",
    "# trying to see how many of the quasars have NUMOBS_MORE=4 and how many NUMOBS_MORE=1 and what tyoe of targets they are\n",
    "\n",
    "print(np.count_nonzero((mtl['DESI_TARGET'] & desi_mask.QSO) & mtl['NUMOBS_MORE']==4))\n",
    "\n",
    "print(len(mtl[(isqso & mtl['NUMOBS_MORE']==1)]))"
   ]
  },
  {
   "cell_type": "code",
   "execution_count": 30,
   "metadata": {},
   "outputs": [
    {
     "name": "stdout",
     "output_type": "stream",
     "text": [
      "{1}\n",
      "[65793, 131586, 263172]\n",
      "5036 ['BGS_FAINT', 'BGS_FAINT_NORTH', 'BGS_FAINT_SOUTH']\n",
      "6373 ['BGS_BRIGHT', 'BGS_BRIGHT_NORTH', 'BGS_BRIGHT_SOUTH']\n",
      "301381 ['BGS_WISE', 'BGS_WISE_NORTH', 'BGS_WISE_SOUTH']\n",
      "\n",
      "[1152921504607110148, 3458764513820803076, 3458764522410738692, 3458764531000673284, 3458764513820804100, 3458764556770476036, 3458764556770477060, 1152921504623887620, 1152921504607109124, 1152921504875611149, 1152921504892388621, 1152921513197044740]\n",
      "238496 ['QSO', 'QSO_NORTH', 'QSO_SOUTH', 'BGS_ANY']\n",
      "182 ['QSO', 'QSO_SOUTH', 'BGS_ANY', 'MWS_ANY']\n",
      "1122 ['QSO', 'QSO_NORTH', 'QSO_SOUTH', 'STD_FAINT', 'BGS_ANY', 'MWS_ANY']\n",
      "1060 ['QSO', 'QSO_NORTH', 'QSO_SOUTH', 'STD_WD', 'BGS_ANY', 'MWS_ANY']\n",
      "71755 ['QSO', 'QSO_NORTH', 'QSO_SOUTH', 'BGS_ANY', 'MWS_ANY']\n",
      "3 ['QSO', 'QSO_SOUTH', 'STD_FAINT', 'STD_BRIGHT', 'BGS_ANY', 'MWS_ANY']\n",
      "89 ['QSO', 'QSO_NORTH', 'QSO_SOUTH', 'STD_FAINT', 'STD_BRIGHT', 'BGS_ANY', 'MWS_ANY']\n",
      "2 ['QSO', 'LRG_NORTH', 'QSO_NORTH', 'QSO_SOUTH', 'LRG_1PASS_NORTH', 'BGS_ANY']\n",
      "9 ['QSO', 'QSO_SOUTH', 'BGS_ANY']\n",
      "44 ['LRG', 'QSO', 'LRG_1PASS', 'QSO_NORTH', 'LRG_SOUTH', 'QSO_SOUTH', 'LRG_1PASS_SOUTH', 'BGS_ANY']\n",
      "21 ['LRG', 'QSO', 'LRG_1PASS', 'LRG_NORTH', 'QSO_NORTH', 'LRG_SOUTH', 'QSO_SOUTH', 'LRG_1PASS_NORTH', 'LRG_1PASS_SOUTH', 'BGS_ANY']\n",
      "7 ['QSO', 'QSO_NORTH', 'QSO_SOUTH', 'STD_FAINT', 'BGS_ANY']\n"
     ]
    }
   ],
   "source": [
    "# looking at 312790 \"quasars\" with NUMOBS_MORE=1, all of them are also BGS targets.\n",
    "\n",
    "qso_1obs = mtl[(isqso) & (mtl['NUMOBS_MORE']==1)]\n",
    "print(set(qso_1obs['NUMOBS_MORE']))\n",
    "unique_bits = list(set(qso_1obs['BGS_TARGET']))\n",
    "print(unique_bits)\n",
    "for bits in unique_bits:\n",
    "    print(np.count_nonzero(qso_1obs['BGS_TARGET']==bits), bgs_mask.names(bits))\n",
    "    \n",
    "print('')\n",
    "unique_bits = list(set(qso_1obs['DESI_TARGET']))\n",
    "print(unique_bits)\n",
    "for bits in unique_bits:\n",
    "    print(np.count_nonzero(qso_1obs['DESI_TARGET']==bits), desi_mask.names(bits))\n",
    "    "
   ]
  },
  {
   "cell_type": "code",
   "execution_count": 28,
   "metadata": {},
   "outputs": [
    {
     "name": "stdout",
     "output_type": "stream",
     "text": [
      "{4}\n",
      "[0, 1792, 2, 14336, 1796, 4, 6, 1798, 1794, 49, 55]\n",
      "2365344 []\n",
      "5959 ['MWS_MAIN_BLUE', 'MWS_MAIN_BLUE_NORTH', 'MWS_MAIN_BLUE_SOUTH']\n",
      "120 ['MWS_WD']\n",
      "2286 ['MWS_MAIN_RED', 'MWS_MAIN_RED_NORTH', 'MWS_MAIN_RED_SOUTH']\n",
      "1 ['MWS_NEARBY', 'MWS_MAIN_BLUE', 'MWS_MAIN_BLUE_NORTH', 'MWS_MAIN_BLUE_SOUTH']\n",
      "2 ['MWS_NEARBY']\n",
      "10 ['MWS_WD', 'MWS_NEARBY']\n",
      "3 ['MWS_WD', 'MWS_NEARBY', 'MWS_MAIN_BLUE', 'MWS_MAIN_BLUE_NORTH', 'MWS_MAIN_BLUE_SOUTH']\n",
      "4 ['MWS_WD', 'MWS_MAIN_BLUE', 'MWS_MAIN_BLUE_NORTH', 'MWS_MAIN_BLUE_SOUTH']\n",
      "1668 ['MWS_BROAD', 'MWS_BROAD_NORTH', 'MWS_BROAD_SOUTH']\n",
      "2 ['MWS_BROAD', 'MWS_WD', 'MWS_NEARBY', 'MWS_BROAD_NORTH', 'MWS_BROAD_SOUTH']\n",
      "\n",
      "[263172, 2305843009213957124, 393222, 394758, 394246, 262148, 393734, 2305843026393826308, 2305843009213956100, 268764173, 285541645, 2305843009482458125, 285540621, 2305843009499235597, 17040644, 537199637, 570754325, 8590197764, 2305843052163630084, 2305843017803891716]\n",
      "1869009 ['QSO', 'QSO_NORTH', 'QSO_SOUTH']\n",
      "9781 ['QSO', 'QSO_NORTH', 'QSO_SOUTH', 'MWS_ANY']\n",
      "233 ['ELG', 'QSO', 'ELG_SOUTH', 'QSO_SOUTH']\n",
      "414750 ['ELG', 'QSO', 'ELG_NORTH', 'QSO_NORTH', 'ELG_SOUTH', 'QSO_SOUTH']\n",
      "77473 ['ELG', 'QSO', 'QSO_NORTH', 'ELG_SOUTH', 'QSO_SOUTH']\n",
      "3028 ['QSO', 'QSO_SOUTH']\n",
      "439 ['ELG', 'QSO', 'ELG_NORTH', 'ELG_SOUTH', 'QSO_SOUTH']\n",
      "139 ['QSO', 'QSO_NORTH', 'QSO_SOUTH', 'STD_WD', 'MWS_ANY']\n",
      "44 ['QSO', 'QSO_SOUTH', 'MWS_ANY']\n",
      "241 ['LRG', 'QSO', 'LRG_1PASS', 'QSO_NORTH', 'LRG_SOUTH', 'QSO_SOUTH', 'LRG_1PASS_SOUTH']\n",
      "142 ['LRG', 'QSO', 'LRG_1PASS', 'LRG_NORTH', 'QSO_NORTH', 'LRG_SOUTH', 'QSO_SOUTH', 'LRG_1PASS_NORTH', 'LRG_1PASS_SOUTH']\n",
      "1 ['LRG', 'QSO', 'LRG_1PASS', 'QSO_NORTH', 'LRG_SOUTH', 'QSO_SOUTH', 'LRG_1PASS_SOUTH', 'MWS_ANY']\n",
      "1 ['LRG', 'QSO', 'LRG_1PASS', 'LRG_NORTH', 'LRG_SOUTH', 'QSO_SOUTH', 'LRG_1PASS_NORTH', 'LRG_1PASS_SOUTH']\n",
      "1 ['LRG', 'QSO', 'LRG_1PASS', 'LRG_NORTH', 'QSO_NORTH', 'LRG_SOUTH', 'QSO_SOUTH', 'LRG_1PASS_NORTH', 'LRG_1PASS_SOUTH', 'MWS_ANY']\n",
      "15 ['QSO', 'LRG_NORTH', 'QSO_NORTH', 'QSO_SOUTH', 'LRG_1PASS_NORTH']\n",
      "10 ['LRG', 'QSO', 'LRG_2PASS', 'QSO_NORTH', 'LRG_SOUTH', 'QSO_SOUTH', 'LRG_2PASS_SOUTH']\n",
      "1 ['LRG', 'QSO', 'LRG_2PASS', 'LRG_NORTH', 'QSO_NORTH', 'LRG_SOUTH', 'QSO_SOUTH', 'LRG_2PASS_NORTH', 'LRG_2PASS_SOUTH']\n",
      "2 ['QSO', 'QSO_NORTH', 'QSO_SOUTH', 'STD_FAINT']\n",
      "9 ['QSO', 'QSO_NORTH', 'QSO_SOUTH', 'STD_FAINT', 'STD_BRIGHT', 'MWS_ANY']\n",
      "80 ['QSO', 'QSO_NORTH', 'QSO_SOUTH', 'STD_FAINT', 'MWS_ANY']\n"
     ]
    }
   ],
   "source": [
    "# looking at 2,375,399 \"quasars\" with NUMOBS_MORE=4\n",
    "\n",
    "qso_4obs = mtl[(isqso) & (mtl['NUMOBS_MORE']==4)]\n",
    "print(set(qso_4obs['NUMOBS_MORE']))\n",
    "\n",
    "unique_bits = list(set(qso_4obs['MWS_TARGET']))\n",
    "print(unique_bits)\n",
    "for bits in unique_bits:\n",
    "    print(np.count_nonzero(qso_4obs['MWS_TARGET']==bits), mws_mask.names(bits))\n",
    "    \n",
    "    \n",
    "print('')\n",
    "unique_bits = list(set(qso_4obs['DESI_TARGET']))\n",
    "print(unique_bits)\n",
    "for bits in unique_bits:\n",
    "    print(np.count_nonzero(qso_4obs['DESI_TARGET']==bits), desi_mask.names(bits))\n",
    "    "
   ]
  },
  {
   "cell_type": "code",
   "execution_count": null,
   "metadata": {},
   "outputs": [],
   "source": []
  }
 ],
 "metadata": {
  "kernelspec": {
   "display_name": "DESI master",
   "language": "python",
   "name": "desi-master"
  },
  "language_info": {
   "codemirror_mode": {
    "name": "ipython",
    "version": 3
   },
   "file_extension": ".py",
   "mimetype": "text/x-python",
   "name": "python",
   "nbconvert_exporter": "python",
   "pygments_lexer": "ipython3",
   "version": "3.6.6"
  }
 },
 "nbformat": 4,
 "nbformat_minor": 2
}
