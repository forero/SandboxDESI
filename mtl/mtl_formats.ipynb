{
 "cells": [
  {
   "cell_type": "code",
   "execution_count": 2,
   "metadata": {
    "collapsed": false
   },
   "outputs": [],
   "source": [
    "import numpy as np\n",
    "import yaml\n",
    "from astropy.table import Table\n",
    "from astropy.io import fits\n",
    "import desispec.maskbits as masks"
   ]
  },
  {
   "cell_type": "markdown",
   "metadata": {},
   "source": [
    "# YAML target description"
   ]
  },
  {
   "cell_type": "code",
   "execution_count": 9,
   "metadata": {
    "collapsed": false
   },
   "outputs": [
    {
     "name": "stdout",
     "output_type": "stream",
     "text": [
      "{'targetmask': [['QSOLYA', 0, 'Lyman alpha QSO'], ['QSO', 1, 'Tracer QSO'], ['LRG', 2, 'Luminous Red Galaxy'], ['ELG', 3, 'Emission Line Galaxy'], ['STAR', 4, 'Standard Star'], ['SKY', 5, 'Sky'], ['BGS', 6, 'Bright Galaxy']]}\n"
     ]
    }
   ],
   "source": [
    "stream = open('../../desidata/inputs/targets.yaml', 'r')\n",
    "_alldefs = yaml.load(stream)\n",
    "stream.close()\n",
    "attr = []\n",
    "for line in _alldefs[\"targetmask\"]:\n",
    "    attr.append(line[:3])\n",
    "_targetbitdefs = dict([(\"targetmask\", attr)])\n",
    "print _targetbitdefs"
   ]
  },
  {
   "cell_type": "code",
   "execution_count": 10,
   "metadata": {
    "collapsed": false
   },
   "outputs": [
    {
     "name": "stdout",
     "output_type": "stream",
     "text": [
      "17588\n"
     ]
    }
   ],
   "source": [
    "targetmask = masks.BitMask(\"targetmask\", _targetbitdefs)\n",
    "n_tiles = 10\n",
    "target_per_tile = 25000\n",
    "total_n_targets = target_per_tile * n_tiles / 2\n",
    "random_ID_list =  np.arange(total_n_targets, dtype='int64')\n",
    "random_ra_list = np.random.random(total_n_targets)\n",
    "random_dec_list = np.random.random(total_n_targets)\n",
    "random_type_A_list = np.int_(np.random.random(total_n_targets)*7)\n",
    "random_type_B_list = np.int_(np.random.random(total_n_targets)*7)\n",
    "print np.size(np.where(random_type_A_list == random_type_B_list))"
   ]
  },
  {
   "cell_type": "markdown",
   "metadata": {},
   "source": [
    "# Target File Format"
   ]
  },
  {
   "cell_type": "code",
   "execution_count": null,
   "metadata": {
    "collapsed": false
   },
   "outputs": [],
   "source": [
    "def write_target_fits(id_list, ra_list, dec_list, type_list, filename):\n",
    "    t = Table([id_list, ra_list, dec_list, type_list], names=('ID', 'RA', 'DEC', 'TYPE'), meta={'name': 'target table'})\n",
    "    t.write(filename, format='fits', overwrite=True)\n",
    "\n",
    "def read_target_fits(filename):\n",
    "    t = Table.read(filename, format='fits')\n",
    "    return t\n",
    "    \n",
    "for i_tile in range(n_tiles):\n",
    "    filename = 'tmp/targets_%06d.fits'%(i_tile)\n",
    "    tile_id = np.random.choice(random_ID_list, size=target_per_tile)\n",
    "    tile_ra = random_ra_list[tile_id]\n",
    "    tile_dec = random_dec_list[tile_id]\n",
    "    tile_type_A = random_type_A_list[tile_id]\n",
    "    tile_type_B = random_type_B_list[tile_id] \n",
    "    tile_type = np.ones(target_per_tile, dtype='int64')\n",
    "    \n",
    "    for i in range(target_per_tile):\n",
    "        tile_type[i]  = targetmask.mask(random_type_A_list[i]) | targetmask.mask(random_type_B_list[i])\n",
    "    write_target_fits(tile_id, tile_ra, tile_dec, tile_type, filename)\n",
    "    t = read_target_fits(filename)"
   ]
  },
  {
   "cell_type": "code",
   "execution_count": null,
   "metadata": {
    "collapsed": true
   },
   "outputs": [],
   "source": []
  }
 ],
 "metadata": {
  "kernelspec": {
   "display_name": "Python 2",
   "language": "python",
   "name": "python2"
  },
  "language_info": {
   "codemirror_mode": {
    "name": "ipython",
    "version": 2
   },
   "file_extension": ".py",
   "mimetype": "text/x-python",
   "name": "python",
   "nbconvert_exporter": "python",
   "pygments_lexer": "ipython2",
   "version": "2.7.6"
  }
 },
 "nbformat": 4,
 "nbformat_minor": 0
}
