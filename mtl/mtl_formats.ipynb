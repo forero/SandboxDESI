{
 "cells": [
  {
   "cell_type": "code",
   "execution_count": 2,
   "metadata": {
    "collapsed": false
   },
   "outputs": [],
   "source": [
    "import numpy as np\n",
    "import yaml\n",
    "from astropy.table import Table\n",
    "from astropy.io import fits\n",
    "import desispec.maskbits as masks\n",
    "import desimodel.io"
   ]
  },
  {
   "cell_type": "markdown",
   "metadata": {},
   "source": [
    "# YAML target description"
   ]
  },
  {
   "cell_type": "code",
   "execution_count": 3,
   "metadata": {
    "collapsed": false
   },
   "outputs": [
    {
     "name": "stdout",
     "output_type": "stream",
     "text": [
      "{'targetmask': [['QSOLYA', 0, 'Lyman alpha QSO'], ['QSO', 1, 'Tracer QSO'], ['LRG', 2, 'Luminous Red Galaxy'], ['ELG', 3, 'Emission Line Galaxy'], ['STAR', 4, 'Standard Star'], ['SKY', 5, 'Sky'], ['BGS', 6, 'Bright Galaxy']]}\n"
     ]
    }
   ],
   "source": [
    "stream = open('../../desidata/inputs/targets.yaml', 'r')\n",
    "_alldefs = yaml.load(stream)\n",
    "stream.close()\n",
    "attr = []\n",
    "for line in _alldefs[\"targetmask\"]:\n",
    "    attr.append(line[:3])\n",
    "_targetbitdefs = dict([(\"targetmask\", attr)])\n",
    "print _targetbitdefs"
   ]
  },
  {
   "cell_type": "code",
   "execution_count": 4,
   "metadata": {
    "collapsed": true
   },
   "outputs": [],
   "source": [
    "#Mock set of random objects"
   ]
  },
  {
   "cell_type": "code",
   "execution_count": 5,
   "metadata": {
    "collapsed": false
   },
   "outputs": [
    {
     "name": "stdout",
     "output_type": "stream",
     "text": [
      "17970\n"
     ]
    }
   ],
   "source": [
    "targetmask = masks.BitMask(\"targetmask\", _targetbitdefs)\n",
    "n_tiles = 10\n",
    "target_per_tile = 25000\n",
    "n_fibers = 5000\n",
    "total_n_targets = target_per_tile * n_tiles / 2\n",
    "random_ID_list =  np.arange(total_n_targets, dtype='int64')\n",
    "random_ra_list = np.random.random(total_n_targets)\n",
    "random_dec_list = np.random.random(total_n_targets)\n",
    "random_type_A_list = np.int_(np.random.random(total_n_targets)*7)\n",
    "random_type_B_list = np.int_(np.random.random(total_n_targets)*7)\n",
    "print np.size(np.where(random_type_A_list == random_type_B_list))"
   ]
  },
  {
   "cell_type": "markdown",
   "metadata": {},
   "source": [
    "# DESI targets"
   ]
  },
  {
   "cell_type": "code",
   "execution_count": 6,
   "metadata": {
    "collapsed": false
   },
   "outputs": [],
   "source": [
    "def write_target_fits(id_list, ra_list, dec_list, type_list, filename):\n",
    "    t = Table([id_list, ra_list, dec_list, type_list], names=('ID', 'RA', 'DEC', 'TYPE'), meta={'name': 'target table'})\n",
    "    t.write(filename, format='fits', overwrite=True)\n",
    "    \n",
    "for i_tile in range(n_tiles):\n",
    "    #choose randomly targets on different tiles\n",
    "    filename = 'tmp/targets_%06d.fits'%(i_tile)\n",
    "    tile_id = np.random.choice(random_ID_list, replace=False,size=target_per_tile)\n",
    "    tile_ra = random_ra_list[tile_id]\n",
    "    tile_dec = random_dec_list[tile_id]\n",
    "    tile_type_A = random_type_A_list[tile_id]\n",
    "    tile_type_B = random_type_B_list[tile_id] \n",
    "    tile_type = np.ones(target_per_tile, dtype='int64')\n",
    "    \n",
    "    #create mock types\n",
    "    for i in range(target_per_tile):\n",
    "        tile_type[i]  = targetmask.mask(random_type_A_list[i]) | targetmask.mask(random_type_B_list[i])\n",
    "        \n",
    "    #write and read\n",
    "    write_target_fits(tile_id, tile_ra, tile_dec, tile_type, filename)\n",
    "    t = Table.read(filename, format='fits')"
   ]
  },
  {
   "cell_type": "markdown",
   "metadata": {
    "collapsed": true
   },
   "source": [
    "# DESI observations"
   ]
  },
  {
   "cell_type": "markdown",
   "metadata": {},
   "source": [
    "Tracks what objects have been targetted.\n",
    "* Object-id (int)\n",
    "* ObservedFlag (int) Yes/No (1/0) flag."
   ]
  },
  {
   "cell_type": "code",
   "execution_count": 7,
   "metadata": {
    "collapsed": false
   },
   "outputs": [
    {
     "name": "stdout",
     "output_type": "stream",
     "text": [
      "5000 5000 [14851  3444 23401 ..., 22305  9812 10724]\n",
      "5000 5000 [18340  1535  3501 ...,  2515 23239 12032]\n",
      "5000 5000 [ 5031  6897 21455 ..., 17747  3018 13122]\n",
      "5000 5000 [11981  2138 12089 ...,  4367  5662 23873]\n",
      "5000 5000 [24859  8101 22376 ..., 19771 20557  1224]\n",
      "5000 5000 [12116  5049 20715 ...,  4384 15748 23461]\n",
      "5000 5000 [13676  6928 22621 ...,  7168 24148 22473]\n",
      "5000 5000 [23390 14360  3674 ...,  9973  4677 14197]\n",
      "5000 5000 [20282 23424 16442 ..., 12416 13815 20640]\n",
      "5000 5000 [15361 10300 14803 ...,  7381  8512  5738]\n"
     ]
    }
   ],
   "source": [
    "def write_observations_fits(id_list, observed_list, filename):\n",
    "    t = Table([id_list, observed_list], names=('ID', 'OBSFLAG'), meta={'name': 'observations table'})\n",
    "    t.write(filename, format='fits', overwrite=True)\n",
    "\n",
    "for i_tile in range(n_tiles):\n",
    "    filename = 'tmp/targets_%06d.fits'%(i_tile)\n",
    "    t = Table.read(filename, format='fits')\n",
    "    \n",
    "    object_id = t['ID']\n",
    "    observed_id = np.random.choice(np.arange(np.size(object_id)), replace=False,size=n_fibers)\n",
    "    observed_flag = np.zeros(np.size(object_id), dtype=int)\n",
    "    observed_flag[observed_id] = 1\n",
    "    print sum(observed_flag), np.size(observed_id), observed_id\n",
    "    \n",
    "    filename = 'tmp/observations_%06d.fits'%(i_tile)\n",
    "    write_observations_fits(object_id, observed_flag, filename)\n",
    "    "
   ]
  },
  {
   "cell_type": "markdown",
   "metadata": {},
   "source": [
    "# DESI results\n",
    "\n",
    "Tracks the results of processed observed tiles\n",
    "\n",
    "* Object-id (int)\n",
    "* DesiType (int64) Mask\n",
    "* z_spec (float)"
   ]
  },
  {
   "cell_type": "code",
   "execution_count": 8,
   "metadata": {
    "collapsed": false
   },
   "outputs": [],
   "source": [
    "def write_results_fits(id_list, type_list, redshift_list, filename):\n",
    "    t = Table([id_list, type_list, redshift_list], names=('ID', 'TYPE', 'REDSHIFT'), meta={'name': 'results table'})\n",
    "    t.write(filename, format='fits', overwrite=True)\n",
    "\n",
    "#generates mock results for each tile\n",
    "for i_tile in range(n_tiles):\n",
    "    target_file = 'tmp/targets_%06d.fits'%(i_tile)\n",
    "    observations_file = 'tmp/observations_%06d.fits'%(i_tile)\n",
    "    targets = Table.read(target_file, format='fits')\n",
    "    observations = Table.read(observations_file, format='fits')\n",
    "    \n",
    "    \n",
    "    targets_id = targets['ID']\n",
    "    observations_id = observations['ID']\n",
    "    n_targets = np.size(targets_id)\n",
    "    \n",
    "    assert np.size(targets_id)==np.size(observations_id)\n",
    "    \n",
    "    z_list = np.zeros(n_targets)\n",
    "    type_list  = targets['TYPE'].copy()\n",
    "    for i in range(n_targets):\n",
    "        z_list[i] = -1.0\n",
    "        type_list[i] = targets['TYPE'][i]\n",
    "        if(observations['OBSFLAG'][i]==1):\n",
    "            z_list[i] = np.random.random()\n",
    "            type_bit_offset = np.int_(np.random.random()*7)\n",
    "            type_list[i] = targetmask.mask(type_bit_offset)\n",
    "    \n",
    "    filename = 'tmp/results_%06d.fits'%(i_tile)\n",
    "    write_results_fits(targets_id, type_list, z_list, filename)"
   ]
  },
  {
   "cell_type": "markdown",
   "metadata": {},
   "source": [
    "# Merged Target List\n",
    "\n",
    "Uses all the targets/observations/results files to produce a single file to be fed into fiber assignment.* *\n",
    "\n",
    "* Object-id (int)\n",
    "* RA (float)\n",
    "* DEC (float)\n",
    "* FiberPriority (int)\n",
    "* FiberObservationsNeeded (int)"
   ]
  },
  {
   "cell_type": "code",
   "execution_count": 9,
   "metadata": {
    "collapsed": false
   },
   "outputs": [
    {
     "name": "stdout",
     "output_type": "stream",
     "text": [
      "2\n",
      "bitnum 1\n",
      "4\n",
      "4 priority\n",
      "1 nobs\n"
     ]
    }
   ],
   "source": [
    "targetmask.names()\n",
    "print targetmask.mask('QSO')\n",
    "print 'bitnum', targetmask.bitnum('QSO')\n",
    "print targetmask.mask('LRG')\n",
    "print _alldefs['targetmask'][targetmask.bitnum('STAR')][4], 'priority'\n",
    "print _alldefs['targetmask'][targetmask.bitnum('STAR')][5], 'nobs'"
   ]
  },
  {
   "cell_type": "code",
   "execution_count": 10,
   "metadata": {
    "collapsed": false
   },
   "outputs": [],
   "source": [
    "def write_results_fits(id_list, ra_list, dec_list, priority_list, nobs_list, filename):\n",
    "    t = Table([id_list, ra_list, dec_list, priority_list, nobs_list],\n",
    "              names=('ID', 'RA', 'DEC', 'PRIOR', 'NOBS'), meta={'name': 'MTL table'})\n",
    "    t.write(filename, format='fits', overwrite=True)\n",
    "    \n",
    "for i_tile in range(n_tiles):\n",
    "    targets_filename = 'tmp/targets_%06d.fits'%(i_tile)\n",
    "    observations_filename = 'tmp/observations_%06d.fits'%(i_tile)\n",
    "    results_filename = 'tmp/results_%06d.fits'%(i_tile)\n",
    "    mtl_filename = 'tmp/mtl_%06d.fits'%(i_tile)\n",
    "    \n",
    "    targets = Table.read(targets_filename, format='fits')\n",
    "    observations = Table.read(observations_filename, format='fits')\n",
    "    results = Table.read(results_filename, format='fits')\n",
    "\n",
    "    \n",
    "    n_points  = np.size(observations['ID'])\n",
    "    \n",
    "    mtl_type = np.ones(n_points, dtype='int64')\n",
    "    mtl_priority = np.ones(n_points, dtype='int')\n",
    "    mtl_nobs = np.ones(n_points, dtype='int')\n",
    "    mtl_id = np.ones(n_points, dtype='int64')\n",
    "    mtl_ra = np.ones(n_points)\n",
    "    mtl_dec = np.ones(n_points)\n",
    "    mtl_ra = targets['RA']\n",
    "    mtl_dec = targets['DEC']\n",
    "    mtl_id = targets['ID']\n",
    "    for i in range(n_points):\n",
    "        for name in targetmask.names():\n",
    "            if((targets['TYPE'][i] & targetmask.mask(name)) != 0):\n",
    "                break\n",
    "        mtl_type[i] = targetmask.mask(name)\n",
    "        mtl_priority[i] = _alldefs['targetmask'][targetmask.bitnum(name)][4]\n",
    "        mtl_nobs[i] = _alldefs['targetmask'][targetmask.bitnum(name)][4] - observations['OBSFLAG'][i]\n",
    "        \n",
    "    write_results_fits(mtl_id, mtl_ra, mtl_dec, mtl_priority, mtl_nobs, mtl_filename)"
   ]
  },
  {
   "cell_type": "markdown",
   "metadata": {},
   "source": [
    "# Fiber assignment"
   ]
  },
  {
   "cell_type": "code",
   "execution_count": 11,
   "metadata": {
    "collapsed": false
   },
   "outputs": [],
   "source": [
    "def write_assign_fits(id_list, ra_list, dec_list, fiber_list, filename):\n",
    "    t = Table([id_list, ra_list, dec_list, fiber_list],\n",
    "              names=('ID', 'RA', 'DEC', 'FIBERID'), meta={'name': 'Assign table'})\n",
    "    t.write(filename, format='fits', overwrite=True)\n",
    "\n",
    "#load fibers\n",
    "fibers = desimodel.io.load_fiberpos()\n",
    "fiberid = fibers['FIBER']\n",
    "n_fibers = np.size(fiberid)\n",
    "\n",
    "for i_tile in range(n_tiles):\n",
    "    mtl_filename = 'tmp/mtl_%06d.fits'%(i_tile)\n",
    "    assign_filename = 'tmp/assignment_%06d.fits'%(i_tile)\n",
    "\n",
    "    mtl = Table.read(mtl_filename, format='fits')\n",
    "    n_points = np.size(mtl['ID'])\n",
    "    selection = np.random.choice(np.arange(n_points), replace=False,size=n_fibers)\n",
    "    assign_id  = mtl['ID'][selection]\n",
    "    assign_ra  = mtl['RA'][selection]\n",
    "    assign_dec = mtl['DEC'][selection]\n",
    "    assign_fiber = fiberid\n",
    "\n",
    "    write_assign_fits(assign_id, assign_ra, assign_dec, assign_fiber, assign_filename)"
   ]
  },
  {
   "cell_type": "code",
   "execution_count": 12,
   "metadata": {
    "collapsed": false
   },
   "outputs": [],
   "source": [
    "def write_available_fits(id_list, fiber_list, filename):\n",
    "    t = Table([id_list, fiber_list],\n",
    "              names=('ID', 'FIBERID'), meta={'name': 'Available table'})\n",
    "    t.write(filename, format='fits', overwrite=True)\n",
    "    \n",
    "#load fibers\n",
    "fibers = desimodel.io.load_fiberpos()\n",
    "fiberid = fibers['FIBER']\n",
    "n_fibers = np.size(fiberid)\n",
    "\n",
    "for i_tile in range(n_tiles):\n",
    "    mtl_filename = 'tmp/mtl_%06d.fits'%(i_tile)\n",
    "    assign_filename = 'tmp/assignment_%06d.fits'%(i_tile)\n",
    "    available_filename = 'tmp/available_%06d.fits'%(i_tile)\n",
    "    mtl = Table.read(mtl_filename, format='fits')\n",
    "\n",
    "    available_id = np.empty((0))\n",
    "    available_fiber = np.empty((0))\n",
    "    for i in range(n_fibers):\n",
    "        n_points = np.random.choice(np.arange(6))\n",
    "        \n",
    "        if(n_points!=0):\n",
    "            selection = np.random.choice(np.arange(n_points), replace=False,size=n_points)\n",
    "            available_id = np.append(available_id, selection)\n",
    "            available_fiber = np.append(available_fiber, np.ones(n_points, dtype='int')*fiberid[i])\n",
    "\n",
    "    write_available_fits(available_id, available_fiber, available_filename)"
   ]
  },
  {
   "cell_type": "code",
   "execution_count": null,
   "metadata": {
    "collapsed": true
   },
   "outputs": [],
   "source": []
  },
  {
   "cell_type": "code",
   "execution_count": null,
   "metadata": {
    "collapsed": true
   },
   "outputs": [],
   "source": []
  }
 ],
 "metadata": {
  "kernelspec": {
   "display_name": "Python 2",
   "language": "python",
   "name": "python2"
  },
  "language_info": {
   "codemirror_mode": {
    "name": "ipython",
    "version": 2
   },
   "file_extension": ".py",
   "mimetype": "text/x-python",
   "name": "python",
   "nbconvert_exporter": "python",
   "pygments_lexer": "ipython2",
   "version": "2.7.6"
  }
 },
 "nbformat": 4,
 "nbformat_minor": 0
}
