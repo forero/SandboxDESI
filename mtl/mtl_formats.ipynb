{
 "cells": [
  {
   "cell_type": "code",
   "execution_count": 3,
   "metadata": {
    "collapsed": false
   },
   "outputs": [],
   "source": [
    "import numpy as np\n",
    "import yaml\n",
    "from astropy.table import Table\n",
    "from astropy.io import fits\n",
    "import desispec.maskbits as masks\n",
    "import desimodel.io"
   ]
  },
  {
   "cell_type": "markdown",
   "metadata": {},
   "source": [
    "# YAML target description"
   ]
  },
  {
   "cell_type": "code",
   "execution_count": 4,
   "metadata": {
    "collapsed": false
   },
   "outputs": [
    {
     "name": "stdout",
     "output_type": "stream",
     "text": [
      "{'targetmask': [['QSOLYA', 0, 'Lyman alpha QSO'], ['QSO', 1, 'Tracer QSO'], ['LRG', 2, 'Luminous Red Galaxy'], ['ELG', 3, 'Emission Line Galaxy'], ['STAR', 4, 'Standard Star'], ['SKY', 5, 'Sky'], ['BGS', 6, 'Bright Galaxy']]}\n"
     ]
    }
   ],
   "source": [
    "stream = open('../../desidata/inputs/targets.yaml', 'r')\n",
    "_alldefs = yaml.load(stream)\n",
    "stream.close()\n",
    "attr = []\n",
    "for line in _alldefs[\"targetmask\"]:\n",
    "    attr.append(line[:3])\n",
    "_targetbitdefs = dict([(\"targetmask\", attr)])\n",
    "print _targetbitdefs"
   ]
  },
  {
   "cell_type": "code",
   "execution_count": 5,
   "metadata": {
    "collapsed": true
   },
   "outputs": [],
   "source": [
    "#Mock set of random objects"
   ]
  },
  {
   "cell_type": "code",
   "execution_count": 6,
   "metadata": {
    "collapsed": false
   },
   "outputs": [
    {
     "name": "stdout",
     "output_type": "stream",
     "text": [
      "18231\n"
     ]
    }
   ],
   "source": [
    "targetmask = masks.BitMask(\"targetmask\", _targetbitdefs)\n",
    "n_tiles = 10\n",
    "target_per_tile = 25000\n",
    "n_fibers = 5000\n",
    "total_n_targets = target_per_tile * n_tiles / 2\n",
    "random_ID_list =  np.arange(total_n_targets, dtype='int64')\n",
    "random_ra_list = np.random.random(total_n_targets)\n",
    "random_dec_list = np.random.random(total_n_targets)\n",
    "random_type_A_list = np.int_(np.random.random(total_n_targets)*7)\n",
    "random_type_B_list = np.int_(np.random.random(total_n_targets)*7)\n",
    "print np.size(np.where(random_type_A_list == random_type_B_list))"
   ]
  },
  {
   "cell_type": "markdown",
   "metadata": {},
   "source": [
    "# DESI targets"
   ]
  },
  {
   "cell_type": "code",
   "execution_count": 7,
   "metadata": {
    "collapsed": false
   },
   "outputs": [],
   "source": [
    "def write_target_fits(id_list, ra_list, dec_list, type_list, filename):\n",
    "    t = Table([id_list, ra_list, dec_list, type_list], names=('ID', 'RA', 'DEC', 'TYPE'), meta={'name': 'target table'})\n",
    "    t.write(filename, format='fits', overwrite=True)\n",
    "\n",
    "    \n",
    "for i_tile in range(n_tiles):\n",
    "    #choose randomly targets on different tiles\n",
    "    filename = 'tmp/targets_%06d.fits'%(i_tile)\n",
    "    tile_id = np.random.choice(random_ID_list, replace=False,size=target_per_tile)\n",
    "    tile_ra = random_ra_list[tile_id]\n",
    "    tile_dec = random_dec_list[tile_id]\n",
    "    tile_type_A = random_type_A_list[tile_id]\n",
    "    tile_type_B = random_type_B_list[tile_id] \n",
    "    tile_type = np.ones(target_per_tile, dtype='int64')\n",
    "    \n",
    "    #create mock types\n",
    "    for i in range(target_per_tile):\n",
    "        tile_type[i]  = targetmask.mask(random_type_A_list[i]) | targetmask.mask(random_type_B_list[i])\n",
    "        \n",
    "    #write and read\n",
    "    write_target_fits(tile_id, tile_ra, tile_dec, tile_type, filename)\n",
    "    t = Table.read(filename, format='fits')"
   ]
  },
  {
   "cell_type": "markdown",
   "metadata": {
    "collapsed": true
   },
   "source": [
    "# DESI observations"
   ]
  },
  {
   "cell_type": "markdown",
   "metadata": {},
   "source": [
    "Tracks what objects have been targetted.\n",
    "* Object-id (int)\n",
    "* ObservedFlag (int) Yes/No (1/0) flag."
   ]
  },
  {
   "cell_type": "code",
   "execution_count": 8,
   "metadata": {
    "collapsed": false
   },
   "outputs": [
    {
     "name": "stdout",
     "output_type": "stream",
     "text": [
      "5000 5000 [16421 21824  5933 ..., 22118 23745 16436]\n",
      "5000 5000 [ 3624  9265  4258 ...,  6416 20695  7435]\n",
      "5000 5000 [  330 16472 14391 ..., 17384  2021 14548]\n",
      "5000 5000 [16998 16060 12086 ..., 19569 12641 19776]\n",
      "5000 5000 [ 8100 14422 10695 ...,  8353  4915  7988]\n",
      "5000 5000 [16442 20157  9850 ...,  7653  8153 24228]\n",
      "5000 5000 [ 6584 16839 24967 ..., 11895  7662   781]\n",
      "5000 5000 [22190 21057  5414 ..., 14571 19021 23806]\n",
      "5000 5000 [2900 9044 2871 ..., 4691 6893 6162]\n",
      "5000 5000 [14028 15974  4148 ...,  8127 19260  8473]\n"
     ]
    }
   ],
   "source": [
    "def write_observations_fits(id_list, observed_list, filename):\n",
    "    t = Table([id_list, observed_list], names=('ID', 'OBSFLAG'), meta={'name': 'observations table'})\n",
    "    t.write(filename, format='fits', overwrite=True)\n",
    "\n",
    "for i_tile in range(n_tiles):\n",
    "    filename = 'tmp/targets_%06d.fits'%(i_tile)\n",
    "    t = Table.read(filename, format='fits')\n",
    "    \n",
    "    object_id = t['ID']\n",
    "    observed_id = np.random.choice(np.arange(np.size(object_id)), replace=False,size=n_fibers)\n",
    "    observed_flag = np.zeros(np.size(object_id), dtype=int)\n",
    "    observed_flag[observed_id] = 1\n",
    "    print sum(observed_flag), np.size(observed_id), observed_id\n",
    "    \n",
    "    filename = 'tmp/observations_%06d.fits'%(i_tile)\n",
    "    write_observations_fits(object_id, observed_flag, filename)\n",
    "    "
   ]
  },
  {
   "cell_type": "markdown",
   "metadata": {},
   "source": [
    "# DESI results\n",
    "\n",
    "Tracks the results of processed observed tiles\n",
    "\n",
    "* Object-id (int)\n",
    "* DesiType (int64) Mask\n",
    "* z_spec (float)"
   ]
  },
  {
   "cell_type": "code",
   "execution_count": 9,
   "metadata": {
    "collapsed": false
   },
   "outputs": [],
   "source": [
    "def write_results_fits(id_list, type_list, redshift_list, filename):\n",
    "    t = Table([id_list, type_list, redshift_list], names=('ID', 'TYPE', 'REDSHIFT_LIST'), meta={'name': 'results table'})\n",
    "    t.write(filename, format='fits', overwrite=True)\n",
    "\n",
    "#generates mock results for each tile\n",
    "for i_tile in range(n_tiles):\n",
    "    target_file = 'tmp/targets_%06d.fits'%(i_tile)\n",
    "    observations_file = 'tmp/observations_%06d.fits'%(i_tile)\n",
    "    targets = Table.read(target_file, format='fits')\n",
    "    observations = Table.read(observations_file, format='fits')\n",
    "    \n",
    "    \n",
    "    targets_id = targets['ID']\n",
    "    observations_id = observations['ID']\n",
    "    n_targets = np.size(targets_id)\n",
    "    \n",
    "    assert np.size(targets_id)==np.size(observations_id)\n",
    "    \n",
    "    z_list = np.zeros(n_targets)\n",
    "    type_list  = targets['TYPE'].copy()\n",
    "    for i in range(n_targets):\n",
    "        z_list[i] = -1.0\n",
    "        type_list[i] = targets['TYPE'][i]\n",
    "        if(observations['OBSFLAG'][i]==1):\n",
    "            z_list[i] = np.random.random()\n",
    "            type_bit_offset = np.int_(np.random.random()*7)\n",
    "            type_list[i] = targetmask.mask(type_bit_offset)\n",
    "    \n",
    "    filename = 'tmp/results_%06d.fits'%(i_tile)\n",
    "    write_results_fits(targets_id, type_list, z_list, filename)"
   ]
  },
  {
   "cell_type": "markdown",
   "metadata": {},
   "source": [
    "# Merged Target List\n",
    "\n",
    "Uses all the targets/observations/results files to produce a single file to be fed into fiber assignment"
   ]
  },
  {
   "cell_type": "code",
   "execution_count": null,
   "metadata": {
    "collapsed": true
   },
   "outputs": [],
   "source": []
  },
  {
   "cell_type": "markdown",
   "metadata": {},
   "source": [
    "# Fiber assignment"
   ]
  },
  {
   "cell_type": "code",
   "execution_count": 11,
   "metadata": {
    "collapsed": false
   },
   "outputs": [],
   "source": [
    "#load fibers\n",
    "fibers = desimodel.io.load_fiberpos()\n",
    "fiberid = fibers['FIBER']\n"
   ]
  },
  {
   "cell_type": "code",
   "execution_count": null,
   "metadata": {
    "collapsed": true
   },
   "outputs": [],
   "source": []
  },
  {
   "cell_type": "code",
   "execution_count": null,
   "metadata": {
    "collapsed": true
   },
   "outputs": [],
   "source": []
  }
 ],
 "metadata": {
  "kernelspec": {
   "display_name": "Python 2",
   "language": "python",
   "name": "python2"
  },
  "language_info": {
   "codemirror_mode": {
    "name": "ipython",
    "version": 2
   },
   "file_extension": ".py",
   "mimetype": "text/x-python",
   "name": "python",
   "nbconvert_exporter": "python",
   "pygments_lexer": "ipython2",
   "version": "2.7.6"
  }
 },
 "nbformat": 4,
 "nbformat_minor": 0
}
