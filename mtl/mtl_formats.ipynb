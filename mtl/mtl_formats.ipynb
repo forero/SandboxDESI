{
 "cells": [
  {
   "cell_type": "markdown",
   "metadata": {},
   "source": [
    "# From Targets to Fiber Assigment - Files and Databases \n"
   ]
  },
  {
   "cell_type": "code",
   "execution_count": 27,
   "metadata": {
    "collapsed": false
   },
   "outputs": [],
   "source": [
    "import numpy as np\n",
    "import yaml\n",
    "from astropy.table import Table\n",
    "from astropy.io import fits\n",
    "import desispec.maskbits as masks\n",
    "import desimodel.io"
   ]
  },
  {
   "cell_type": "markdown",
   "metadata": {},
   "source": [
    "# 1. YAML target description\n",
    "\n",
    "Describes the different kinds of targets, bit offsets, its priorities and number of required observations."
   ]
  },
  {
   "cell_type": "code",
   "execution_count": 28,
   "metadata": {
    "collapsed": false
   },
   "outputs": [
    {
     "name": "stdout",
     "output_type": "stream",
     "text": [
      "targetmask:\r\n",
      "    - [QSOLYA,       0, \"Lyman alpha QSO\", \"DARK\", 1, 5]\r\n",
      "    - [QSO,       1, \"Tracer QSO\", \"DARK\", 1, 1]\r\n",
      "    - [LRG,      2, \"Luminous Red Galaxy\", \"DARK\", 3, 2]\r\n",
      "    - [ELG, 3, \"Emission Line Galaxy\", \"DARK\", 5, 1]\r\n",
      "    - [STAR,    4, \"Standard Star\", \"ANY\", 4, 1]\r\n",
      "    - [SKY, 5, \"Sky\", \"ANY\", 2, 1] \r\n",
      "    - [BGS, 6, \"Bright Galaxy\", \"BRIGHT\", 1, 1]\r\n",
      "# Name\r\n",
      "# bitoffset\r\n",
      "# comment\r\n",
      "# survey\r\n",
      "# priority (lower value indicated higher priority)\r\n",
      "# number of observations\r\n",
      "\r\n",
      "\r\n"
     ]
    }
   ],
   "source": [
    "!cat ../../desidata/inputs/targets.yaml"
   ]
  },
  {
   "cell_type": "code",
   "execution_count": 29,
   "metadata": {
    "collapsed": false
   },
   "outputs": [
    {
     "name": "stdout",
     "output_type": "stream",
     "text": [
      "targetpriorities:\r\n",
      "    - [QSOLYA, 100, \"Lyman alpha QSO\"]\r\n",
      "    - [QSO, 200, \"Tracer QSO\"]\r\n",
      "    - [LRG, 300, \"Luminous Red Galaxy\"]\r\n",
      "    - [ELG, 400, \"Emission Line Galaxy\"]\r\n",
      "    - [STAR, 500, \"Standard Star\"]\r\n",
      "    - [SKY, 600, \"Sky\"]\r\n",
      "    - [BGS_BRIGHT, 700, \"r<19.5 gals without redshift measurement\"]\r\n",
      "    - [BGS_FAINT, 720, \"19.5<r<20.0 gals without redshift measurement\"]\r\n",
      "    - [BGS_BRIGHT_ZCONFIRMED, 740, \"BGS_BRIGHT with successful redshift measurement.\"]\r\n",
      "    - [BGS_FAINT_ZCONFIRMED, 760, \"BGS_FAINT with successful redshift measurement\"]\r\n",
      "    - [MW_STAR, 800, \"MW star\"]\r\n",
      "# Name\r\n",
      "# Priority\r\n",
      "# Comment\r\n",
      "\r\n",
      "\r\n"
     ]
    }
   ],
   "source": [
    "! cat ../../desidata/inputs/target_priorities.yaml"
   ]
  },
  {
   "cell_type": "markdown",
   "metadata": {},
   "source": [
    "We can use the code in desispec.maskbit to work with target mask"
   ]
  },
  {
   "cell_type": "code",
   "execution_count": 30,
   "metadata": {
    "collapsed": false
   },
   "outputs": [],
   "source": [
    "stream = open('../../desidata/inputs/targets.yaml', 'r')\n",
    "_alldefs = yaml.load(stream)\n",
    "stream.close()\n",
    "attr = []\n",
    "for line in _alldefs[\"targetmask\"]:\n",
    "    attr.append(line[:3])\n",
    "_targetbitdefs = dict([(\"targetmask\", attr)])\n",
    "targetmask = masks.BitMask(\"targetmask\", _targetbitdefs)"
   ]
  },
  {
   "cell_type": "markdown",
   "metadata": {
    "collapsed": true
   },
   "source": [
    "This is a set of random targets over 10 different tiles to give explicit examples about the formats and files."
   ]
  },
  {
   "cell_type": "code",
   "execution_count": 31,
   "metadata": {
    "collapsed": false
   },
   "outputs": [],
   "source": [
    "n_tiles = 10\n",
    "target_per_tile = 25000\n",
    "total_n_targets = target_per_tile * n_tiles / 2\n",
    "random_ID_list =  np.arange(total_n_targets, dtype='int64')\n",
    "random_ra_list = np.random.random(total_n_targets)\n",
    "random_dec_list = np.random.random(total_n_targets)\n",
    "random_type_A_list = np.int_(np.random.random(total_n_targets)*7)\n",
    "random_type_B_list = np.int_(np.random.random(total_n_targets)*7)"
   ]
  },
  {
   "cell_type": "markdown",
   "metadata": {},
   "source": [
    "This is the set of fibers."
   ]
  },
  {
   "cell_type": "code",
   "execution_count": 32,
   "metadata": {
    "collapsed": true
   },
   "outputs": [],
   "source": [
    "fibers = desimodel.io.load_fiberpos()\n",
    "fiberid = fibers['FIBER']\n",
    "n_fibers = np.size(fiberid)"
   ]
  },
  {
   "cell_type": "markdown",
   "metadata": {},
   "source": [
    "# 2. DESI targets\n",
    "\n",
    "In real life the targets should be created from either a database, tractor files or mock files.\n",
    "Includes at least four columns\n",
    "\n",
    "* Target ID (int)\n",
    "* RA (float)\n",
    "* DEC (float)\n",
    "* Type (int64) Mask"
   ]
  },
  {
   "cell_type": "code",
   "execution_count": 33,
   "metadata": {
    "collapsed": false
   },
   "outputs": [],
   "source": [
    "def write_target_fits(id_list, ra_list, dec_list, type_list, filename):\n",
    "    t = Table([id_list, ra_list, dec_list, type_list], names=('ID', 'RA', 'DEC', 'TYPE'), meta={'name': 'target table'})\n",
    "    t.write(filename, format='fits', overwrite=True)\n",
    "    \n",
    "for i_tile in range(n_tiles):\n",
    "    #choose randomly targets on different tiles\n",
    "    filename = 'tmp/targets_%06d.fits'%(i_tile)\n",
    "    tile_id = np.random.choice(random_ID_list, replace=False,size=target_per_tile)\n",
    "    tile_ra = random_ra_list[tile_id]\n",
    "    tile_dec = random_dec_list[tile_id]\n",
    "    tile_type_A = random_type_A_list[tile_id]\n",
    "    tile_type_B = random_type_B_list[tile_id] \n",
    "    tile_type = np.ones(target_per_tile, dtype='int64')\n",
    "    \n",
    "    #create mock types\n",
    "    for i in range(target_per_tile):\n",
    "        tile_type[i]  = targetmask.mask(random_type_A_list[i]) | targetmask.mask(random_type_B_list[i])\n",
    "        \n",
    "    #write to disk\n",
    "    write_target_fits(tile_id, tile_ra, tile_dec, tile_type, filename)"
   ]
  },
  {
   "cell_type": "markdown",
   "metadata": {
    "collapsed": true
   },
   "source": [
    "# 3. DESI observations"
   ]
  },
  {
   "cell_type": "markdown",
   "metadata": {},
   "source": [
    "Track the objects that had a fiber put on a given tile.\n",
    "They contain at least two columns\n",
    "* Object-id (int)\n",
    "* ObservedFlag (int) Yes/No (1/0) flag."
   ]
  },
  {
   "cell_type": "code",
   "execution_count": 34,
   "metadata": {
    "collapsed": false
   },
   "outputs": [],
   "source": [
    "def write_observations_fits(id_list, observed_list, filename):\n",
    "    t = Table([id_list, observed_list], names=('ID', 'OBSFLAG'), meta={'name': 'observations table'})\n",
    "    t.write(filename, format='fits', overwrite=True)\n",
    "\n",
    "for i_tile in range(n_tiles):\n",
    "    filename = 'tmp/targets_%06d.fits'%(i_tile)\n",
    "    t = Table.read(filename, format='fits')\n",
    "    \n",
    "    object_id = t['ID']\n",
    "    observed_id = np.random.choice(np.arange(np.size(object_id)), replace=False,size=n_fibers)\n",
    "    observed_flag = np.zeros(np.size(object_id), dtype=int)\n",
    "    observed_flag[observed_id] = 1\n",
    "    \n",
    "    filename = 'tmp/observations_%06d.fits'%(i_tile)\n",
    "    write_observations_fits(object_id, observed_flag, filename)"
   ]
  },
  {
   "cell_type": "markdown",
   "metadata": {},
   "source": [
    "# 4. DESI results\n",
    "\n",
    "Track the results of processed observed tiles after redshift fitting\n",
    "They contain at least three columns\n",
    "\n",
    "* Object-id (int)\n",
    "* DesiType (int64) Mask\n",
    "* z_spec (float)\n",
    "\n",
    "There is already a format proposed for this: zbest-BRICKNAME\n",
    "\n",
    "https://github.com/desihub/desidatamodel/blob/master/doc/DESI_SPECTRO_REDUX/PRODNAME/bricks/BRICKNAME/zbest-BRICKNAME.rst"
   ]
  },
  {
   "cell_type": "code",
   "execution_count": 35,
   "metadata": {
    "collapsed": false
   },
   "outputs": [
    {
     "name": "stdout",
     "output_type": "stream",
     "text": [
      "====================\r\n",
      "zbest-BRICKNAME.fits\r\n",
      "====================\r\n",
      "\r\n",
      "*This is a placeholder for the redshift data model*\r\n",
      "\r\n",
      "This holds the classification and redshift information for targets.\r\n",
      "The formats are TBD, but it should be row-matched to the spectra in\r\n",
      "coadd-BRICKNAME.rst .  This is not yet the case.\r\n",
      "\r\n",
      "Nominally the HDUs will be:\r\n",
      "\r\n",
      "  - HDU0 (empty)\r\n",
      "  - HDU1 (ZBEST) : binary table with best redshift fit results\r\n",
      "  - ...\r\n",
      "\r\n",
      "Inputs\r\n",
      "======\r\n",
      "\r\n",
      "Written by XXX, using:\r\n",
      "\r\n",
      "  - coadd (coadded spectra)\r\n",
      "  - brick (individual spectra)\r\n",
      "  \r\n",
      "HDU1\r\n",
      "----\r\n",
      "\r\n",
      "EXTNAME = ZBEST\r\n",
      "\r\n",
      "*Current description of ZBEST; this will evolve*\r\n",
      "  \r\n",
      "Required Data Table Columns\r\n",
      "~~~~~~~~~~~~~~~~~~~~~~~~~~~\r\n",
      "\r\n",
      "========= ======== ===== ===========\r\n",
      "Name      Type     Units Description\r\n",
      "========= ======== ===== ===========\r\n",
      "BRICKNAME char[8]        Brick name from targeting, e.g. 1234p567\r\n",
      "TARGETID  int64          Unique target ID\r\n",
      "Z         float64        Best fit redshift\r\n",
      "ZERR      float64        Uncertainty on redshift\r\n",
      "ZWARN     int64          Warning bitmask (TBD)\r\n",
      "TYPE      char[20]       Object type (options TBD)\r\n",
      "SUBTYPE   char[20]       Object subtype (options TBD)\r\n",
      "========= ======== ===== ===========\r\n"
     ]
    }
   ],
   "source": [
    "cat ../../desidatamodel/doc/DESI_SPECTRO_REDUX/PRODNAME/bricks/BRICKNAME/zbest-BRICKNAME.rst"
   ]
  },
  {
   "cell_type": "code",
   "execution_count": 13,
   "metadata": {
    "collapsed": false
   },
   "outputs": [],
   "source": [
    "def write_results_fits(id_list, type_list, redshift_list, filename):\n",
    "    t = Table([id_list, type_list, redshift_list], names=('ID', 'TYPE', 'REDSHIFT'), meta={'name': 'results table'})\n",
    "    t.write(filename, format='fits', overwrite=True)\n",
    "\n",
    "#generates mock results for each tile\n",
    "for i_tile in range(n_tiles):\n",
    "    target_file = 'tmp/targets_%06d.fits'%(i_tile)\n",
    "    observations_file = 'tmp/observations_%06d.fits'%(i_tile)\n",
    "    targets = Table.read(target_file, format='fits')\n",
    "    observations = Table.read(observations_file, format='fits')\n",
    "    \n",
    "    \n",
    "    targets_id = targets['ID']\n",
    "    observations_id = observations['ID']\n",
    "    n_targets = np.size(targets_id)\n",
    "    \n",
    "    assert np.size(targets_id)==np.size(observations_id)\n",
    "    \n",
    "    z_list = np.zeros(n_targets)\n",
    "    type_list  = targets['TYPE'].copy()\n",
    "    for i in range(n_targets):\n",
    "        z_list[i] = -1.0\n",
    "        type_list[i] = targets['TYPE'][i]\n",
    "        if(observations['OBSFLAG'][i]==1):\n",
    "            z_list[i] = np.random.random()\n",
    "            type_bit_offset = np.int_(np.random.random()*7)\n",
    "            type_list[i] = targetmask.mask(type_bit_offset)\n",
    "    \n",
    "    filename = 'tmp/results_%06d.fits'%(i_tile)\n",
    "    write_results_fits(targets_id, type_list, z_list, filename)"
   ]
  },
  {
   "cell_type": "markdown",
   "metadata": {},
   "source": [
    "# 5. Merged Target List\n",
    "\n",
    "Uses YAML target description + targets/observations/results files to produce a single file to be fed into fiber assignment.\n",
    "\n",
    "* Object-id (int)\n",
    "* RA (float)\n",
    "* DEC (float)\n",
    "* FiberPriority (int)\n",
    "* FiberObservationsNeeded (int)"
   ]
  },
  {
   "cell_type": "code",
   "execution_count": 14,
   "metadata": {
    "collapsed": false
   },
   "outputs": [],
   "source": [
    "def write_mtl_fits(id_list, ra_list, dec_list, priority_list, nobs_list, filename):\n",
    "    t = Table([id_list, ra_list, dec_list, priority_list, nobs_list],\n",
    "              names=('ID', 'RA', 'DEC', 'PRIOR', 'NOBS'), meta={'name': 'MTL table'})\n",
    "    t.write(filename, format='fits', overwrite=True)\n",
    "    \n",
    "for i_tile in range(n_tiles):\n",
    "    targets_filename = 'tmp/targets_%06d.fits'%(i_tile)\n",
    "    observations_filename = 'tmp/observations_%06d.fits'%(i_tile)\n",
    "    results_filename = 'tmp/results_%06d.fits'%(i_tile)\n",
    "    mtl_filename = 'tmp/mtl_%06d.fits'%(i_tile)\n",
    "    \n",
    "    targets = Table.read(targets_filename, format='fits')\n",
    "    observations = Table.read(observations_filename, format='fits')\n",
    "    results = Table.read(results_filename, format='fits')\n",
    "\n",
    "    \n",
    "    n_points  = np.size(observations['ID'])\n",
    "    \n",
    "    mtl_type = np.ones(n_points, dtype='int64')\n",
    "    mtl_priority = np.ones(n_points, dtype='int')\n",
    "    mtl_nobs = np.ones(n_points, dtype='int')\n",
    "    mtl_id = np.ones(n_points, dtype='int64')\n",
    "    mtl_ra = np.ones(n_points)\n",
    "    mtl_dec = np.ones(n_points)\n",
    "    mtl_ra = targets['RA']\n",
    "    mtl_dec = targets['DEC']\n",
    "    mtl_id = targets['ID']\n",
    "    for i in range(n_points):\n",
    "        for name in targetmask.names():\n",
    "            if((targets['TYPE'][i] & targetmask.mask(name)) != 0):\n",
    "                break\n",
    "        mtl_type[i] = targetmask.mask(name)\n",
    "        mtl_priority[i] = _alldefs['targetmask'][targetmask.bitnum(name)][4]\n",
    "        mtl_nobs[i] = _alldefs['targetmask'][targetmask.bitnum(name)][4] - observations['OBSFLAG'][i]\n",
    "        \n",
    "    write_mtl_fits(mtl_id, mtl_ra, mtl_dec, mtl_priority, mtl_nobs, mtl_filename)"
   ]
  },
  {
   "cell_type": "markdown",
   "metadata": {},
   "source": [
    "# 6. Fiber assignment \n",
    "\n",
    "\n",
    "## 6.1 Available\n",
    "\n",
    "A run of fiber assignment should output all the IDs that are available for each fiber on each tile. This allows us to correct for fiber assignment incompleteness and compare different fiber assignment algorithms.\n",
    "Stores at least two columns\n",
    "\n",
    "* Object-ID\n",
    "* Fiber-ID\n",
    "\n",
    "## 6.2 Assignment\n",
    "\n",
    "A run of fiber assignment should output the final selection of fibers and targets on each tile.\n",
    "\n",
    "Stores at least three columns\n",
    "\n",
    "    Target-ID\n",
    "    RA\n",
    "    DEC\n",
    "    Fiber-ID\n",
    "\n",
    "These two tables are stored in the same FITS file"
   ]
  },
  {
   "cell_type": "code",
   "execution_count": 25,
   "metadata": {
    "collapsed": false
   },
   "outputs": [],
   "source": [
    "def table_available_fits(id_list, fiber_list, filename):\n",
    "    t = Table([id_list, fiber_list],\n",
    "              names=('ID', 'FIBERID'), meta={'name': 'Available table'})\n",
    "    return t\n",
    "    \n",
    "def table_assign_fits(id_list, ra_list, dec_list, fiber_list, filename):\n",
    "    t = Table([id_list, ra_list, dec_list, fiber_list],\n",
    "              names=('ID', 'RA', 'DEC', 'FIBERID'), meta={'name': 'Assign table'})\n",
    "    return t\n",
    "    \n",
    "#load fibers\n",
    "fibers = desimodel.io.load_fiberpos()\n",
    "fiberid = fibers['FIBER']\n",
    "n_fibers = np.size(fiberid)\n",
    "\n",
    "for i_tile in range(n_tiles):\n",
    "    mtl_filename = 'tmp/mtl_%06d.fits'%(i_tile)\n",
    "    assign_filename = 'tmp/assignment_%06d.fits'%(i_tile)\n",
    "    available_filename = 'tmp/available_%06d.fits'%(i_tile)\n",
    "    fiber_filename = 'tmp/fiberassign_%06.fits'%(i_tile)\n",
    "    mtl = Table.read(mtl_filename, format='fits')\n",
    "\n",
    "    # do the mock of available fibers\n",
    "    available_id = np.empty((0))\n",
    "    available_fiber = np.empty((0))\n",
    "    for i in range(n_fibers):\n",
    "        n_points = np.random.choice(np.arange(6))\n",
    "        \n",
    "        if(n_points!=0):\n",
    "            selection = np.random.choice(np.arange(n_points), replace=False,size=n_points)\n",
    "            available_id = np.append(available_id, selection)\n",
    "            available_fiber = np.append(available_fiber, np.ones(n_points, dtype='int')*fiberid[i])\n",
    "    \n",
    "    #do the mock assignent\n",
    "    n_points = np.size(mtl['ID'])\n",
    "    selection = np.random.choice(np.arange(n_points), replace=False,size=n_fibers)\n",
    "    assign_id  = mtl['ID'][selection]\n",
    "    assign_ra  = mtl['RA'][selection]\n",
    "    assign_dec = mtl['DEC'][selection]\n",
    "    assign_fiber = fiberid\n",
    "\n",
    "    T_available = table_available_fits(available_id, available_fiber, fiber_filename)\n",
    "    T_assign = table_assign_fits(assign_id, assign_ra, assign_dec, assign_fiber, fiber_filename)\n",
    "    \n",
    "    #PENDING: How to write two tables in a single FITS file on different HDU\n",
    "    T_available.write(fiber_filename, format='fits', overwrite=True)\n",
    "    T_assign.write(fiber_filename, format='fits', overwrite=True)\n",
    "    "
   ]
  },
  {
   "cell_type": "code",
   "execution_count": 17,
   "metadata": {
    "collapsed": false
   },
   "outputs": [],
   "source": [
    "def write_assign_fits(id_list, ra_list, dec_list, fiber_list, filename):\n",
    "    t = Table([id_list, ra_list, dec_list, fiber_list],\n",
    "              names=('ID', 'RA', 'DEC', 'FIBERID'), meta={'name': 'Assign table'})\n",
    "    t.write(filename, format='fits', overwrite=True)\n",
    "\n",
    "for i_tile in range(n_tiles):\n",
    "    mtl_filename = 'tmp/mtl_%06d.fits'%(i_tile)\n",
    "    assign_filename = 'tmp/assignment_%06d.fits'%(i_tile)\n",
    "\n",
    "    mtl = Table.read(mtl_filename, format='fits')\n",
    "    n_points = np.size(mtl['ID'])\n",
    "    selection = np.random.choice(np.arange(n_points), replace=False,size=n_fibers)\n",
    "    assign_id  = mtl['ID'][selection]\n",
    "    assign_ra  = mtl['RA'][selection]\n",
    "    assign_dec = mtl['DEC'][selection]\n",
    "    assign_fiber = fiberid\n",
    "\n",
    "    write_assign_fits(assign_id, assign_ra, assign_dec, assign_fiber, assign_filename)"
   ]
  }
 ],
 "metadata": {
  "kernelspec": {
   "display_name": "Python 2",
   "language": "python",
   "name": "python2"
  },
  "language_info": {
   "codemirror_mode": {
    "name": "ipython",
    "version": 2
   },
   "file_extension": ".py",
   "mimetype": "text/x-python",
   "name": "python",
   "nbconvert_exporter": "python",
   "pygments_lexer": "ipython2",
   "version": "2.7.6"
  }
 },
 "nbformat": 4,
 "nbformat_minor": 0
}
