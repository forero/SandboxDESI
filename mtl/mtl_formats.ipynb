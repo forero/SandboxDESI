{
 "cells": [
  {
   "cell_type": "code",
   "execution_count": 1,
   "metadata": {
    "collapsed": false
   },
   "outputs": [
    {
     "name": "stderr",
     "output_type": "stream",
     "text": [
      "/usr/local/lib/python2.7/dist-packages/IPython/kernel/__init__.py:13: ShimWarning: The `IPython.kernel` package has been deprecated. You should import from ipykernel or jupyter_client instead.\n",
      "  \"You should import from ipykernel or jupyter_client instead.\", ShimWarning)\n"
     ]
    }
   ],
   "source": [
    "import numpy as np\n",
    "import yaml\n",
    "from astropy.table import Table\n",
    "from astropy.io import fits\n",
    "_bitdefs = yaml.load(\"\"\"\n",
    "#- target pixel mask\n",
    "targetmask:\n",
    "    - [QSOLYA,       0, \"Lyman alpha QSO\"]\n",
    "    - [QSO,       1, \"Tracer QSO\"]\n",
    "    - [LRG,      2, \"Luminous Red Galaxy\"]\n",
    "    - [ELG, 3, \"Emission Line Galaxy\"]\n",
    "    - [STAR,    4, \"Standard Star\"]\n",
    "    - [SKY, 5, \"Sky\"] \n",
    "    - [BGS, 6, \"Bright Galaxy\"]\n",
    "\"\"\")"
   ]
  },
  {
   "cell_type": "code",
   "execution_count": 2,
   "metadata": {
    "collapsed": true
   },
   "outputs": [],
   "source": [
    "# reusing https://github.com/desihub/desispec/blob/master/py/desispec/maskbits.py\n",
    "#- Class to provide mask bit utility functions\n",
    "class BitMask(object):\n",
    "    \"\"\"BitMask object.\n",
    "    \"\"\"\n",
    "    def __init__(self, name, bitdefs):\n",
    "        \"\"\"\n",
    "        Args:\n",
    "            name : name of this mask, must be key in bitdefs\n",
    "            bitdefs : dictionary of different mask bit definitions each value is a list of [bitname, bitnum, comment]\n",
    "\n",
    "        Users are not expected to create BitMask objects directly.\n",
    "\n",
    "        See maskbits.ccdmask, maskbits.specmask, maskbits.fibermask, ...\n",
    "        \"\"\"\n",
    "        self._name = name\n",
    "        self._bitname = dict()  #- key num -> value name\n",
    "        self._bitnum = dict()   #- key name -> value num\n",
    "        self._comment = dict()  #- key name or num -> comment\n",
    "        for bitname, bitnum, comment in bitdefs[name]:\n",
    "            assert bitname not in self._bitnum\n",
    "            assert bitnum not in self._bitname\n",
    "            self._bitnum[bitname] = bitnum\n",
    "            self._bitname[bitnum] = bitname\n",
    "            self._comment[bitname] = comment\n",
    "            self._comment[bitnum] = comment\n",
    "\n",
    "    def bitnum(self, bitname):\n",
    "        \"\"\"Return bit number (int) for bitname (string)\"\"\"\n",
    "        return self._bitnum[bitname]\n",
    "\n",
    "    def bitname(self, bitnum):\n",
    "        \"\"\"Return bit name (string) for this bitnum (integer)\"\"\"\n",
    "        return self._bitname[bitnum]\n",
    "\n",
    "    def comment(self, bitname_or_num):\n",
    "        \"\"\"Return comment for this bit name or bit number\"\"\"\n",
    "        return self._comment[bitname_or_num]\n",
    "\n",
    "    def mask(self, name_or_num):\n",
    "        \"\"\"Return mask value, i.e. 2**bitnum for this name or number\"\"\"\n",
    "        if isinstance(name_or_num, int):\n",
    "            return 2**name_or_num\n",
    "        else:\n",
    "            return 2**self._bitnum[name_or_num]\n",
    "\n",
    "    def names(self, mask=None):\n",
    "        \"\"\"Return list of names of masked bits.\n",
    "        If mask=None, return names of all known bits.\n",
    "        \"\"\"\n",
    "        names = list()\n",
    "        if mask is None:\n",
    "            for bitnum in sorted(self._bitname.keys()):\n",
    "                names.append(self._bitname[bitnum])\n",
    "        else:\n",
    "            bitnum = 0\n",
    "            while bitnum < mask:\n",
    "                if (2**bitnum & mask):\n",
    "                    if bitnum in self._bitname.keys():\n",
    "                        names.append(self._bitname[bitnum])\n",
    "                    else:\n",
    "                        names.append('UNKNOWN'+str(bitnum))\n",
    "                bitnum += 1\n",
    "\n",
    "        return names\n",
    "\n",
    "    #- Allow access via mask.BITNAME\n",
    "    def __getattr__(self, name):\n",
    "        if name in self._bitnum:\n",
    "            return 2**self._bitnum[name]\n",
    "        else:\n",
    "            raise AttributeError('Unknown mask bit name '+name)\n",
    "\n",
    "    #- What to print\n",
    "    def __repr__(self):\n",
    "        result = list()\n",
    "        result.append( self._name+':' )\n",
    "        for i in sorted(self._bitname.keys()):\n",
    "            result.append('    - [{:16s} {:2d}, \"{}\"]'.format(self._bitname[i]+',', i, self._comment[i]))\n",
    "\n",
    "        return \"\\n\".join(result)"
   ]
  },
  {
   "cell_type": "code",
   "execution_count": 3,
   "metadata": {
    "collapsed": false
   },
   "outputs": [
    {
     "name": "stdout",
     "output_type": "stream",
     "text": [
      "17724\n"
     ]
    }
   ],
   "source": [
    "targetmask = BitMask(\"targetmask\", _bitdefs)\n",
    "n_tiles = 10\n",
    "target_per_tile = 25000\n",
    "total_n_targets = target_per_tile * n_tiles / 2\n",
    "random_ID_list =  np.arange(total_n_targets, dtype='int64')\n",
    "random_ra_list = np.random.random(total_n_targets)\n",
    "random_dec_list = np.random.random(total_n_targets)\n",
    "random_type_A_list = np.int_(np.random.random(total_n_targets)*7)\n",
    "random_type_B_list = np.int_(np.random.random(total_n_targets)*7)\n",
    "print np.size(np.where(random_type_A_list == random_type_B_list))"
   ]
  },
  {
   "cell_type": "markdown",
   "metadata": {},
   "source": [
    "# TARGET FORMAT"
   ]
  },
  {
   "cell_type": "code",
   "execution_count": 4,
   "metadata": {
    "collapsed": false
   },
   "outputs": [],
   "source": [
    "def write_target_fits(id_list, ra_list, dec_list, type_list, filename):\n",
    "    t = Table([id_list, ra_list, dec_list, type_list], names=('ID', 'RA', 'DEC', 'TYPE'), meta={'name': 'target table'})\n",
    "    t.write(filename, format='fits', overwrite=True)\n",
    "\n",
    "def read_target_fits(filename):\n",
    "    t = Table.read(filename, format='fits')\n",
    "    return t\n",
    "    \n",
    "for i_tile in range(n_tiles):\n",
    "    filename = 'tmp/targets_%06d.fits'%(i_tile)\n",
    "    tile_id = np.random.choice(random_ID_list, size=target_per_tile)\n",
    "    tile_ra = random_ra_list[tile_id]\n",
    "    tile_dec = random_dec_list[tile_id]\n",
    "    tile_type_A = random_type_A_list[tile_id]\n",
    "    tile_type_B = random_type_B_list[tile_id] \n",
    "    tile_type = np.ones(target_per_tile, dtype='int64')\n",
    "    \n",
    "    for i in range(target_per_tile):\n",
    "        tile_type[i]  = targetmask.mask(random_type_A_list[i]) | targetmask.mask(random_type_B_list[i])\n",
    "    write_target_fits(tile_id, tile_ra, tile_dec, tile_type, filename)\n",
    "    t = read_target_fits(filename)"
   ]
  },
  {
   "cell_type": "code",
   "execution_count": null,
   "metadata": {
    "collapsed": true
   },
   "outputs": [],
   "source": []
  }
 ],
 "metadata": {
  "kernelspec": {
   "display_name": "Python 2",
   "language": "python",
   "name": "python2"
  },
  "language_info": {
   "codemirror_mode": {
    "name": "ipython",
    "version": 2
   },
   "file_extension": ".py",
   "mimetype": "text/x-python",
   "name": "python",
   "nbconvert_exporter": "python",
   "pygments_lexer": "ipython2",
   "version": "2.7.6"
  }
 },
 "nbformat": 4,
 "nbformat_minor": 0
}
