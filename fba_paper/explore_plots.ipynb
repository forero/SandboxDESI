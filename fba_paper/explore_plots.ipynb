{
 "cells": [
  {
   "cell_type": "code",
   "execution_count": null,
   "metadata": {},
   "outputs": [],
   "source": [
    "import numpy as np\n",
    "import pandas as pd\n",
    "import matplotlib.pyplot as plt\n",
    "from astropy.table import Table\n",
    "import numpy as np\n",
    "import matplotlib.pyplot as plt\n",
    "import glob\n",
    "import os\n",
    "import fitsio\n",
    "import desimodel.io\n",
    "import desitarget.mtl\n",
    "import desisim.quickcat\n",
    "from astropy.io import fits\n",
    "from astropy.table import Table, Column, vstack\n",
    "import json\n",
    "import shutil\n",
    "import healpy\n",
    "from desitarget.targetmask import desi_mask, obsconditions\n",
    "from collections import Counter\n",
    "import subprocess\n",
    "import scipy.misc"
   ]
  },
  {
   "cell_type": "code",
   "execution_count": null,
   "metadata": {},
   "outputs": [],
   "source": [
    "plt.rc('text', usetex=True)\n",
    "plt.rc('font', family='serif')\n",
    "MEDIUM_SIZE = 30\n",
    "SMALL_SIZE = 22\n",
    "SSSMALL_SIZE = 16\n",
    "\n",
    "plt.rc('font', size=SMALL_SIZE)          # controls default text sizes\n",
    "plt.rc('axes', titlesize=SMALL_SIZE)     # fontsize of the axes title\n",
    "plt.rc('axes', labelsize=SMALL_SIZE)    # fontsize of the x and y labels\n",
    "plt.rc('xtick', labelsize=SMALL_SIZE)    # fontsize of the tick labels\n",
    "plt.rc('ytick', labelsize=SMALL_SIZE)\n",
    "os.environ['PATH'] = '/global/common/sw/cray/sles15/x86_64/texlive/live/gcc/8.2.0/tiozj27/bin/x86_64-linux/:{}'.format(os.environ['PATH'])"
   ]
  },
  {
   "cell_type": "code",
   "execution_count": null,
   "metadata": {},
   "outputs": [],
   "source": [
    "data = {}\n",
    "cuts = ['A', 'B', 'C', 'D', 'E']\n",
    "for cut in cuts:\n",
    "    mtl_filename = os.path.join(\"targets/mtl_cut_{}_dark_south.fits\".format(cut))\n",
    "    filein = fitsio.FITS(mtl_filename, 'r')\n",
    "    data[cut] = filein[1].read()\n",
    "    filein.close()"
   ]
  },
  {
   "cell_type": "code",
   "execution_count": null,
   "metadata": {},
   "outputs": [],
   "source": [
    "i = 1\n",
    "cuts = ['A', 'B', 'C', 'D', 'E']\n",
    "\n",
    "plt.figure(figsize=(14,8))\n",
    "for cut in cuts:\n",
    "    n_target = len(data[cut])\n",
    "    r = np.random.random(n_target)\n",
    "    rr = r<0.001\n",
    "    plt.subplot(2,3,i)\n",
    "    ii = data[cut]['RA']>180.0\n",
    "    data[cut]['RA'][ii] = data[cut]['RA'][ii]-360.0\n",
    "    plt.scatter(data[cut]['RA'][rr], data[cut]['DEC'][rr], s=1)\n",
    "    i = i+1\n",
    "    \n",
    "    plt.xlabel(\"RA [degrees]\")\n",
    "    plt.ylabel(\"dec [degrees]\")\n",
    "    plt.gca().invert_xaxis()\n",
    "\n",
    "\n",
    "plt.tight_layout()\n",
    "plt.savefig(\"DR8_footprint_cuts.pdf\", bbox_inches='tight')"
   ]
  },
  {
   "cell_type": "code",
   "execution_count": null,
   "metadata": {},
   "outputs": [],
   "source": [
    "summary_file = \"summary/fba_summary_mtl_dark_south_cut_C_tiles_cut_C.fits\"\n",
    "filein = fitsio.FITS(summary_file, 'r')\n",
    "summary_all = filein[1].read()\n",
    "filein.close()\n",
    "ii = summary_all['NAVAIL_TILE']>0\n",
    "summary = summary_all[ii]\n",
    "del summary_all"
   ]
  },
  {
   "cell_type": "code",
   "execution_count": null,
   "metadata": {},
   "outputs": [],
   "source": [
    "_ = plt.hist(summary['NAVAIL_TILE'], bins=np.arange(12)-0.5, rwidth=0.95, density=True)\n",
    "_ = plt.xticks(ticks=np.arange(0,11))\n",
    "plt.xlim([0,8.5])\n",
    "\n",
    "lam = np.mean(summary['NAVAIL_TILE'])\n",
    "n = np.arange(1,10)\n",
    "print(n, lam)\n",
    "print(lam**n, scipy.special.factorial(n))\n",
    "p_n = np.exp(-lam)*(lam**n)/scipy.special.factorial(n)\n",
    "#plt.scatter(n, p_n, color='red')\n",
    "plt.xlabel(\"$N_{\\mathrm{tiles}}$\")\n",
    "plt.ylabel(\"Target Fraction\")\n",
    "plt.savefig(\"DR8_navail_tile.pdf\", bbox_inches='tight')"
   ]
  },
  {
   "cell_type": "code",
   "execution_count": null,
   "metadata": {},
   "outputs": [],
   "source": [
    "_ = plt.hist(summary['NAVAIL_FIBER'], bins=np.arange(12)-0.5, rwidth=0.95, density=True)\n",
    "_ = plt.xticks(ticks=np.arange(0,11))\n",
    "plt.xlim([0,10.5])\n",
    "plt.xlabel(\"$N_{\\mathrm{fibers}}$\")\n",
    "plt.ylabel(\"Target Fraction\")\n",
    "plt.savefig(\"DR8_navail_fiber.pdf\", bbox_inches='tight')"
   ]
  },
  {
   "cell_type": "code",
   "execution_count": null,
   "metadata": {},
   "outputs": [],
   "source": [
    "def plot_sky_circle(x, y, radius, alpha=0.1):\n",
    "    theta = np.linspace(0, 2*np.pi, 50)\n",
    "    xx = x + np.cos(np.radians(y))*radius*np.cos(theta)\n",
    "    yy = y + radius*np.sin(theta)\n",
    "    plt.fill(xx, yy, alpha=alpha, color='blue')\n",
    "\n",
    "\n",
    "def plot_tile(ra, dec, alpha=0.1):\n",
    "    tile_radius = desimodel.focalplane.get_tile_radius_deg()\n",
    "    plot_sky_circle(ra, dec, tile_radius)"
   ]
  },
  {
   "cell_type": "code",
   "execution_count": null,
   "metadata": {},
   "outputs": [],
   "source": [
    "tiles = Table.read(\"tiles/tiles_cut_C_dark_north.fits\")\n",
    "\n",
    "all_tiles = desimodel.footprint.load_tiles()\n",
    "ii = ~(all_tiles['PROGRAM']=='BRIGHT')\n",
    "all_tiles = all_tiles[ii]"
   ]
  },
  {
   "cell_type": "code",
   "execution_count": null,
   "metadata": {},
   "outputs": [],
   "source": [
    "len(all_tiles)"
   ]
  },
  {
   "cell_type": "code",
   "execution_count": null,
   "metadata": {},
   "outputs": [],
   "source": [
    "plt.figure(figsize=(10,5))\n",
    "\n",
    "plt.subplot(1,2,1)\n",
    "for i in range(len(all_tiles)):\n",
    "    plot_tile(all_tiles['RA'][i], all_tiles['DEC'][i])\n",
    "plt.xlabel('RA [degrees]')\n",
    "plt.ylabel('dec [degrees]')\n",
    "plt.gca().invert_xaxis()\n",
    "plt.xlim([360,0])\n",
    "\n",
    "\n",
    "plt.subplot(1,2,2)\n",
    "for i in range(len(tiles)):\n",
    "    plot_tile(tiles['RA'][i], tiles['DEC'][i])\n",
    "plt.xlabel('RA [degrees]')\n",
    "plt.ylabel('dec [degrees]')\n",
    "plt.xlim([170,180])\n",
    "plt.ylim([-5,5])\n",
    "\n",
    "plt.tight_layout()\n",
    "plt.savefig(\"DR8_dark_tiles.pdf\", bbox_inches='tight')"
   ]
  },
  {
   "cell_type": "code",
   "execution_count": null,
   "metadata": {},
   "outputs": [],
   "source": []
  }
 ],
 "metadata": {
  "kernelspec": {
   "display_name": "DESI master",
   "language": "python",
   "name": "desi-master"
  },
  "language_info": {
   "codemirror_mode": {
    "name": "ipython",
    "version": 3
   },
   "file_extension": ".py",
   "mimetype": "text/x-python",
   "name": "python",
   "nbconvert_exporter": "python",
   "pygments_lexer": "ipython3",
   "version": "3.8.3"
  }
 },
 "nbformat": 4,
 "nbformat_minor": 4
}
