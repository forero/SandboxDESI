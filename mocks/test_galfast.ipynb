{
 "cells": [
  {
   "cell_type": "code",
   "execution_count": 40,
   "metadata": {
    "collapsed": false
   },
   "outputs": [
    {
     "name": "stderr",
     "output_type": "stream",
     "text": [
      "/usr/local/lib/python2.7/dist-packages/IPython/kernel/__init__.py:13: ShimWarning: The `IPython.kernel` package has been deprecated. You should import from ipykernel or jupyter_client instead.\n",
      "  \"You should import from ipykernel or jupyter_client instead.\", ShimWarning)\n"
     ]
    }
   ],
   "source": [
    "import fitsio\n",
    "import numpy as np\n",
    "from astropy.table import Table"
   ]
  },
  {
   "cell_type": "code",
   "execution_count": 41,
   "metadata": {
    "collapsed": false
   },
   "outputs": [],
   "source": [
    "indata = fitsio.read('../data/galfast/desi_galfast_alpha_MS+RGB_stripe030.targets.fits')"
   ]
  },
  {
   "cell_type": "code",
   "execution_count": 42,
   "metadata": {
    "collapsed": false
   },
   "outputs": [
    {
     "data": {
      "text/plain": [
       "array([ (309.5018786128954, 69.56368318624627, 30000189427.0, 1, -1, 16384, 0, 4.517556667327881, 17),\n",
       "       (302.7917769512974, 66.78562152336299, 30000070316.0, 1, -1, 16384, 1, 10.877531051635742, 18),\n",
       "       (304.1833690602891, 65.22272336689936, 30000167868.0, 1, -1, 16384, 2, 5.399348258972168, 17),\n",
       "       ...,\n",
       "       (307.80204418034356, 77.89774469479025, 30000113424.0, 1, -1, 16384, 229022, 51.00322723388672, 18),\n",
       "       (304.45951243587103, 63.71762956645921, 30000046979.0, 1, -1, 16384, 229023, 8.253177642822266, 19),\n",
       "       (302.0937583639371, 85.57471278763636, 30000220071.0, 1, -1, 16384, 229024, 12.735164642333984, 17)], \n",
       "      dtype=[('RA', '>f8'), ('DEC', '>f8'), ('TARGETID', '>f8'), ('NUMOBS', '>i4'), ('BRICKNAME', '>i4'), ('TARGETFLAG', '>i4'), ('MWS_PRIORITY', '>i4'), ('totalpm', '>f4'), ('gaiaG', '>i4')])"
      ]
     },
     "execution_count": 42,
     "metadata": {},
     "output_type": "execute_result"
    }
   ],
   "source": [
    "indata"
   ]
  },
  {
   "cell_type": "code",
   "execution_count": 44,
   "metadata": {
    "collapsed": false
   },
   "outputs": [],
   "source": [
    "n_points = len(indata)"
   ]
  },
  {
   "cell_type": "code",
   "execution_count": 50,
   "metadata": {
    "collapsed": false
   },
   "outputs": [
    {
     "name": "stdout",
     "output_type": "stream",
     "text": [
      "wrote 229025 items to MTL file\n"
     ]
    }
   ],
   "source": [
    "type_table = [\n",
    "        ('TARGETID', '>i8'), \n",
    "        ('BRICKNAME', '|S8'),\n",
    "        ('RA', '>f4'), \n",
    "        ('DEC', '>f4'),\n",
    "        ('NUMOBS', '>i4'), \n",
    "        ('PRIORITY', '>i4')\n",
    "    ]\n",
    "data = np.ndarray(shape=(n_points), dtype=type_table)    \n",
    "data['TARGETID'] = np.int_(indata['TARGETID'])\n",
    "data['RA'] = indata['RA']\n",
    "data['DEC'] = indata['DEC']\n",
    "brickname = np.chararray((n_points), itemsize=8)\n",
    "brickname[:] = \"000d0000\"\n",
    "data['BRICKNAME'] = brickname\n",
    "data['NUMOBS'] = indata['NUMOBS']\n",
    "data['PRIORITY'] = np.int_(indata['MWS_PRIORITY']/50000) + 500\n",
    "\n",
    "#- Create header to include versions, etc.\n",
    "hdr = fitsio.FITSHDR()\n",
    "hdr['DEPNAM00'] = 'mtl'\n",
    "\n",
    "\n",
    "output_file = \"mtl_MWS_mock.fits\"\n",
    "fitsio.write(output_file, data, extname='MTL', header=hdr, clobber=True)    \n",
    "print('wrote {} items to MTL file'.format(n_points))\n",
    "\n",
    "    #- TEMPORARY: fiberassign needs ASCII not FITS\n",
    "    #- read it back in an write out an ascii table\n",
    "t = Table.read(output_file, format='fits')\n",
    "text_output = output_file.replace('.fits', '.txt')\n",
    "assert text_output != output_file\n",
    "t.write(text_output, format='ascii.commented_header')"
   ]
  },
  {
   "cell_type": "code",
   "execution_count": null,
   "metadata": {
    "collapsed": true
   },
   "outputs": [],
   "source": []
  }
 ],
 "metadata": {
  "kernelspec": {
   "display_name": "Python 2",
   "language": "python",
   "name": "python2"
  },
  "language_info": {
   "codemirror_mode": {
    "name": "ipython",
    "version": 2
   },
   "file_extension": ".py",
   "mimetype": "text/x-python",
   "name": "python",
   "nbconvert_exporter": "python",
   "pygments_lexer": "ipython2",
   "version": "2.7.6"
  }
 },
 "nbformat": 4,
 "nbformat_minor": 0
}
