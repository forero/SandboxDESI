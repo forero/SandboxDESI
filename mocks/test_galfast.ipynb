{
 "cells": [
  {
   "cell_type": "code",
   "execution_count": 9,
   "metadata": {
    "collapsed": true
   },
   "outputs": [],
   "source": [
    "import fitsio\n",
    "import numpy as np"
   ]
  },
  {
   "cell_type": "code",
   "execution_count": 10,
   "metadata": {
    "collapsed": false
   },
   "outputs": [],
   "source": [
    "data = fitsio.read('../data/galfast/desi_galfast_alpha_MS+RGB_stripe030.targets.fits')"
   ]
  },
  {
   "cell_type": "code",
   "execution_count": 11,
   "metadata": {
    "collapsed": false
   },
   "outputs": [
    {
     "data": {
      "text/plain": [
       "array([ (309.5018786128954, 69.56368318624627, 30000189427.0, 1, -1, 16384, 0, 4.517556667327881, 17),\n",
       "       (302.7917769512974, 66.78562152336299, 30000070316.0, 1, -1, 16384, 1, 10.877531051635742, 18),\n",
       "       (304.1833690602891, 65.22272336689936, 30000167868.0, 1, -1, 16384, 2, 5.399348258972168, 17),\n",
       "       ...,\n",
       "       (307.80204418034356, 77.89774469479025, 30000113424.0, 1, -1, 16384, 229022, 51.00322723388672, 18),\n",
       "       (304.45951243587103, 63.71762956645921, 30000046979.0, 1, -1, 16384, 229023, 8.253177642822266, 19),\n",
       "       (302.0937583639371, 85.57471278763636, 30000220071.0, 1, -1, 16384, 229024, 12.735164642333984, 17)], \n",
       "      dtype=[('RA', '>f8'), ('DEC', '>f8'), ('TARGETID', '>f8'), ('NUMOBS', '>i4'), ('BRICKNAME', '>i4'), ('TARGETFLAG', '>i4'), ('MWS_PRIORITY', '>i4'), ('totalpm', '>f4'), ('gaiaG', '>i4')])"
      ]
     },
     "execution_count": 11,
     "metadata": {},
     "output_type": "execute_result"
    }
   ],
   "source": [
    "data"
   ]
  },
  {
   "cell_type": "code",
   "execution_count": 15,
   "metadata": {
    "collapsed": false
   },
   "outputs": [
    {
     "name": "stdout",
     "output_type": "stream",
     "text": [
      "229025\n"
     ]
    },
    {
     "data": {
      "text/plain": [
       "chararray(['000d0000', '000d0000', '000d0000', ..., '000d0000', '000d0000',\n",
       "       '000d0000'], \n",
       "      dtype='|S8')"
      ]
     },
     "execution_count": 15,
     "metadata": {},
     "output_type": "execute_result"
    }
   ],
   "source": [
    "n_points = len(data)\n",
    "print n_points\n",
    "ra = data['RA']\n",
    "dec = data['DEC']\n",
    "object_id = np.int_(data['TARGETID'])\n",
    "numobs = data['NUMOBS']\n",
    "targetflag = data['TARGETFLAG']\n",
    "brickname = np.chararray((n_points), itemsize=8)\n",
    "brickname[:] = \"000d0000\""
   ]
  },
  {
   "cell_type": "code",
   "execution_count": null,
   "metadata": {
    "collapsed": true
   },
   "outputs": [],
   "source": []
  }
 ],
 "metadata": {
  "kernelspec": {
   "display_name": "Python 2",
   "language": "python",
   "name": "python2"
  },
  "language_info": {
   "codemirror_mode": {
    "name": "ipython",
    "version": 2
   },
   "file_extension": ".py",
   "mimetype": "text/x-python",
   "name": "python",
   "nbconvert_exporter": "python",
   "pygments_lexer": "ipython2",
   "version": "2.7.6"
  }
 },
 "nbformat": 4,
 "nbformat_minor": 0
}
