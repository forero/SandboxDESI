{
 "cells": [
  {
   "cell_type": "code",
   "execution_count": 4,
   "metadata": {
    "collapsed": false
   },
   "outputs": [],
   "source": [
    "from desitarget.io import read_mock_durham\n",
    "from desitarget.cuts import select_targets"
   ]
  },
  {
   "cell_type": "code",
   "execution_count": 12,
   "metadata": {
    "collapsed": false
   },
   "outputs": [],
   "source": [
    "import h5py\n",
    "import numpy as np\n",
    "core_filename = \"/home/forero/desihub/desidata/mocks/Gonzalez13.DB.MillGas.field1.core.0.hdf5\"\n",
    "photo_filename = \"/home/forero/desihub/desidata/mocks/Gonzalez13.DB.MillGas.field1.photometry.0.hdf5\"\n",
    "fin_photo = h5py.File(photo_filename, \"r\")\n",
    "photo_data = fin_photo.require_group('/Data') \n",
    "#photo_data.keys()"
   ]
  },
  {
   "cell_type": "code",
   "execution_count": 13,
   "metadata": {
    "collapsed": false
   },
   "outputs": [],
   "source": [
    "objects = read_mock_durham(core_filename, photo_filename)"
   ]
  },
  {
   "cell_type": "code",
   "execution_count": 14,
   "metadata": {
    "collapsed": false
   },
   "outputs": [],
   "source": [
    "targetflag = select_targets(objects)"
   ]
  },
  {
   "cell_type": "code",
   "execution_count": 21,
   "metadata": {
    "collapsed": false
   },
   "outputs": [
    {
     "name": "stdout",
     "output_type": "stream",
     "text": [
      "103682\n",
      "4753933\n"
     ]
    },
    {
     "data": {
      "text/plain": [
       "array([False, False, False, ..., False, False, False], dtype=bool)"
      ]
     },
     "execution_count": 21,
     "metadata": {},
     "output_type": "execute_result"
    }
   ],
   "source": [
    "keep = (targetflag != 0)\n",
    "print np.size(np.where(keep==True))\n",
    "print np.size(objects['RA'])\n",
    "keep"
   ]
  },
  {
   "cell_type": "code",
   "execution_count": 4,
   "metadata": {
    "collapsed": false
   },
   "outputs": [
    {
     "name": "stdout",
     "output_type": "stream",
     "text": [
      "[('BRICKID', '>i4'), ('BRICKNAME', '|S8'), ('OBJID', '>i4'), ('BRICK_PRIMARY', '|b1'), ('TYPE', '|S4'), ('RA', '>f8'), ('RA_IVAR', '>f4'), ('DEC', '>f8'), ('DEC_IVAR', '>f4'), ('DECAM_FLUX', '>f4', (6,)), ('DECAM_MW_TRANSMISSION', '>f4', (6,)), ('WISE_FLUX', '>f4', (4,)), ('WISE_MW_TRANSMISSION', '>f4', (4,)), ('SHAPEEXP_R', '>f4'), ('SHAPEDEV_R', '>f4')]\n",
      "[False False False ...,  True  True  True]\n",
      "['EXP ' 'PSF ' 'EXP ' ..., 'PSF ' 'PSF ' 'PSF ']\n",
      "[  3.52924902e+09   2.01351078e+09   8.49813996e+10 ...,   9.73935744e+08\n",
      "   9.37423488e+08   1.01768166e+09]\n",
      "[ 0.  0.  0. ...,  0.  0.  0.]\n",
      "[ 0.55168927  0.          0.39143363 ...,  0.          0.          0.        ]\n"
     ]
    }
   ],
   "source": [
    "tractor_file = \"/home/forero/desihub/desidata/tractor/tractor-0001m002.fits\"\n",
    "a = desitarget.io.read_tractor(tractor_file)\n",
    "type_desc = a.dtype.descr\n",
    "print type_desc\n",
    "type(type_desc)\n",
    "#print type(a)\n",
    "import numpy as np\n",
    "#print np.shape(a)\n",
    "#print type(a[2])\n",
    "#print a[2]\n",
    "print a['BRICK_PRIMARY']\n",
    "print a['TYPE']\n",
    "print a['RA_IVAR']\n",
    "print a['SHAPEDEV_R']\n",
    "print a['SHAPEEXP_R']\n"
   ]
  },
  {
   "cell_type": "code",
   "execution_count": 5,
   "metadata": {
    "collapsed": false
   },
   "outputs": [
    {
     "name": "stdout",
     "output_type": "stream",
     "text": [
      "(100, 6)\n"
     ]
    }
   ],
   "source": [
    "data = np.ndarray(shape=(100,), dtype=type_desc)\n",
    "data['BRICKID'] = np.ones(100)\n",
    "print np.shape(data['DECAM_FLUX'])"
   ]
  },
  {
   "cell_type": "code",
   "execution_count": null,
   "metadata": {
    "collapsed": true
   },
   "outputs": [],
   "source": []
  }
 ],
 "metadata": {
  "kernelspec": {
   "display_name": "Python 2",
   "language": "python",
   "name": "python2"
  },
  "language_info": {
   "codemirror_mode": {
    "name": "ipython",
    "version": 2
   },
   "file_extension": ".py",
   "mimetype": "text/x-python",
   "name": "python",
   "nbconvert_exporter": "python",
   "pygments_lexer": "ipython2",
   "version": "2.7.6"
  }
 },
 "nbformat": 4,
 "nbformat_minor": 0
}
