{
 "cells": [
  {
   "cell_type": "code",
   "execution_count": 51,
   "metadata": {},
   "outputs": [
    {
     "name": "stdout",
     "output_type": "stream",
     "text": [
      "106\n"
     ]
    }
   ],
   "source": [
    "from astropy.table import Table\n",
    "from desitarget.sv1.sv1_targetmask import scnd_mask\n",
    "from desitarget.sv1.sv1_targetmask import desi_mask\n",
    "\n",
    "import glob\n",
    "import numpy as np\n",
    "from collections import Counter, OrderedDict\n",
    "import sys\n",
    "import matplotlib.pyplot as plt\n",
    "\n",
    "\n",
    "#flavors [\"sv1elg\", \"sv1elgqso\",\"sv1lrgqso\",\"sv1bgsmws\"]\n",
    "flavor = \"sv1bgsmws\"\n",
    "priority = \"custom\"\n",
    "fiber = \"restricted\"\n",
    "scnd = \"true\"\n",
    "\n",
    "fba_files = glob.glob(\"tiles_sv1_scnd/{}_{}_scnd_{}_fiber_{}*/fiberassign-*.fits.gz\".format(flavor, priority, scnd, fiber))\n",
    "fba_files.sort()\n",
    "print(len(fba_files))\n",
    "\n",
    "scnd_targets = {}\n",
    "names = [n for n in scnd_mask.names()]  \n",
    "\n",
    "for n in names:\n",
    "    scnd_targets[n] = {}\n",
    "    scnd_targets[n]['n_intile_main'] = []\n",
    "    scnd_targets[n]['n_intile_scnd'] = []\n",
    "    scnd_targets[n]['n_avail'] = []\n",
    "    scnd_targets[n]['n_assign'] = []"
   ]
  },
  {
   "cell_type": "code",
   "execution_count": 52,
   "metadata": {},
   "outputs": [
    {
     "name": "stdout",
     "output_type": "stream",
     "text": [
      "66.0 3939.0\n",
      "57.0 3882.0\n",
      "0.0 4055.0\n",
      "0.0 4076.0\n",
      "11.0 4004.0\n",
      "15.0 4000.0\n",
      "7.0 3992.0\n",
      "0.0 3972.0\n",
      "0.0 4055.0\n",
      "99.0 3973.0\n",
      "55.0 3911.0\n",
      "35.0 4017.0\n",
      "52.0 3980.0\n",
      "93.0 4033.0\n",
      "10.0 4015.0\n",
      "10.0 4015.0\n",
      "7.0 4025.0\n",
      "16.0 3953.0\n",
      "20.0 3879.0\n",
      "15.0 4001.0\n",
      "57.0 3977.0\n",
      "41.0 4075.0\n",
      "61.0 4022.0\n",
      "24.0 3856.0\n",
      "55.0 3900.0\n",
      "34.0 3977.0\n",
      "24.0 3869.0\n",
      "17.0 3842.0\n",
      "33.0 3930.0\n",
      "15.0 3767.0\n",
      "0.0 4029.0\n",
      "55.0 3855.0\n",
      "1.0 3959.0\n",
      "0.0 3861.0\n",
      "0.0 3799.0\n",
      "1.0 3849.0\n",
      "0.0 3826.0\n",
      "20.0 3883.0\n",
      "26.0 3802.0\n",
      "45.0 4062.0\n",
      "18.0 4003.0\n",
      "0.0 3799.0\n",
      "32.0 3989.0\n",
      "20.0 4000.0\n",
      "0.0 4055.0\n",
      "15.0 3952.0\n",
      "39.0 3797.0\n",
      "11.0 3868.0\n",
      "17.0 3915.0\n",
      "0.0 4061.0\n",
      "24.0 3901.0\n",
      "13.0 3864.0\n",
      "63.0 3724.0\n",
      "15.0 3773.0\n",
      "44.0 3824.0\n",
      "31.0 3766.0\n",
      "54.0 3926.0\n",
      "64.0 3875.0\n",
      "9.0 3769.0\n",
      "5.0 3853.0\n",
      "12.0 3813.0\n",
      "27.0 3956.0\n",
      "35.0 3982.0\n",
      "52.0 3832.0\n",
      "29.0 3917.0\n",
      "1.0 3959.0\n",
      "0.0 3800.0\n",
      "1.0 3797.0\n",
      "1.0 3849.0\n",
      "0.0 3839.0\n",
      "1.0 3825.0\n",
      "0.0 3847.0\n",
      "57.0 4054.0\n",
      "16.0 4075.0\n",
      "31.0 3918.0\n",
      "18.0 4003.0\n",
      "26.0 3802.0\n",
      "20.0 3800.0\n",
      "46.0 4067.0\n",
      "33.0 4052.0\n",
      "27.0 3926.0\n",
      "17.0 3969.0\n",
      "14.0 4026.0\n",
      "20.0 4000.0\n",
      "20.0 4000.0\n",
      "23.0 3873.0\n",
      "0.0 4055.0\n",
      "1.0 4089.0\n",
      "1.0 4100.0\n",
      "1.0 4085.0\n",
      "15.0 3952.0\n",
      "18.0 3835.0\n",
      "17.0 3915.0\n",
      "7.0 3878.0\n",
      "1.0 3732.0\n",
      "0.0 3643.0\n",
      "10.0 3662.0\n",
      "20.0 3755.0\n",
      "64.0 3875.0\n",
      "48.0 3871.0\n"
     ]
    }
   ],
   "source": [
    "n = 100\n",
    "missed_targets = np.zeros(n)\n",
    "n_targets_true = np.zeros(n)\n",
    "for i in range(n):\n",
    "    scnd_target_files = fba_files[i].replace('fiberassign-', '/')\n",
    "    scnd_target_files = scnd_target_files.replace('.fits.gz', '-scnd.fits')\n",
    "    scnd_all_targets = Table.read(scnd_target_files)\n",
    "    masks_scnd_tile = scnd_all_targets['SV1_SCND_TARGET']\n",
    "    \n",
    "    main_target_files = scnd_target_files.replace('scnd.fits', 'targ.fits')\n",
    "    main_all_targets  = Table.read(main_target_files)\n",
    "    masks_main_tile = main_all_targets['SV1_SCND_TARGET']\n",
    "    \n",
    "    flavor = fba_files[i].split('/')[1].split('_')[0]\n",
    "    scnd = fba_files[i].split('/')[1].split('_')[3]\n",
    "    targetid = fba_files[i].split('/')[1].split('_')[-1]\n",
    "    fba_file_false_scnd = fba_files[i].replace('true', 'false')\n",
    "    data = Table.read(fba_files[i], hdu='FIBERASSIGN')\n",
    "    data_false = Table.read(fba_file_false_scnd, hdu='FIBERASSIGN') \n",
    "    \n",
    "    tgt_data = data[data['FA_TYPE']==1]\n",
    "    tgt_data_false = data_false[data_false['FA_TYPE']==1]\n",
    "    setid = set(tgt_data['TARGETID'])\n",
    "    setid_false = set(tgt_data_false['TARGETID'])\n",
    "    z = setid.intersection(setid_false)\n",
    "    missed_targets[i] = len(setid) - len(z)\n",
    "    n_targets_true[i] = len(setid)\n",
    "    print(missed_targets[i], n_targets_true[i])\n",
    "    \n",
    "    \n",
    "    \n",
    "    pot = Table.read(fba_files[i], hdu='POTENTIAL_ASSIGNMENTS')\n",
    "    targets = Table.read(fba_files[i], hdu='TARGETS')\n",
    "    \n",
    "    masks_assigned = data['SV1_SCND_TARGET'][data['SV1_SCND_TARGET']!=0]\n",
    "    targetid_assigned = data['TARGETID'][data['SV1_SCND_TARGET']!=0]\n",
    "    \n",
    "    masks_targets = targets['SV1_SCND_TARGET'][targets['SV1_SCND_TARGET']!=0]\n",
    "    targetid_targets = targets['TARGETID'][targets['SV1_SCND_TARGET']!=0]\n",
    "    \n",
    "    ii_pot = np.in1d(targetid_targets, pot['TARGETID'])\n",
    "    masks_potential = masks_targets[ii_pot]\n",
    "    targetid_potential = targetid_targets[ii_pot]\n",
    "    #print(len(targetid_targets), len(targetid_potential), len(targetid_assigned))\n",
    "    for n in names:\n",
    "        ii_avail = (masks_potential & scnd_mask.mask(n))!=0\n",
    "        ii_assigned = (masks_assigned & scnd_mask.mask(n))!=0\n",
    "        ii_intile_scnd = (masks_scnd_tile & scnd_mask.mask(n))!=0\n",
    "        ii_intile_main = (masks_main_tile & scnd_mask.mask(n))!=0\n",
    "        n_intile_main = np.count_nonzero(ii_intile_main)\n",
    "        n_intile_scnd = np.count_nonzero(ii_intile_scnd)\n",
    "        n_avail = np.count_nonzero(ii_avail)\n",
    "        n_assigned = np.count_nonzero(ii_assigned)\n",
    "        scnd_targets[n]['n_intile_main'].append(n_intile_main)\n",
    "        scnd_targets[n]['n_intile_scnd'].append(n_intile_scnd)\n",
    "        scnd_targets[n]['n_avail'].append(n_avail)\n",
    "        scnd_targets[n]['n_assign'].append(n_assigned)\n",
    "        #print(n, n_avail, n_assigned)\n",
    "    #print(flavor, targetid, n_scnd)"
   ]
  },
  {
   "cell_type": "code",
   "execution_count": 53,
   "metadata": {},
   "outputs": [
    {
     "data": {
      "text/plain": [
       "(array([26.,  5.,  8., 15., 11.,  5.,  6.,  3.,  2.,  3.,  3.,  6.,  4.,\n",
       "         1.,  0.,  0.,  0.,  0.,  1.,  1.]),\n",
       " array([ 0.  ,  4.95,  9.9 , 14.85, 19.8 , 24.75, 29.7 , 34.65, 39.6 ,\n",
       "        44.55, 49.5 , 54.45, 59.4 , 64.35, 69.3 , 74.25, 79.2 , 84.15,\n",
       "        89.1 , 94.05, 99.  ]),\n",
       " <a list of 20 Patch objects>)"
      ]
     },
     "execution_count": 53,
     "metadata": {},
     "output_type": "execute_result"
    },
    {
     "data": {
      "image/png": "[encoded data removed]",
      "text/plain": [
       "<Figure size 432x288 with 1 Axes>"
      ]
     },
     "metadata": {
      "needs_background": "light"
     },
     "output_type": "display_data"
    }
   ],
   "source": [
    "plt.hist(missed_targets, bins=20)"
   ]
  },
  {
   "cell_type": "code",
   "execution_count": 54,
   "metadata": {},
   "outputs": [
    {
     "data": {
      "text/plain": [
       "(array([33., 21., 16.,  8.,  6.,  9.,  5.,  0.,  0.,  2.]),\n",
       " array([0.        , 0.24918198, 0.49836396, 0.74754594, 0.99672791,\n",
       "        1.24590989, 1.49509187, 1.74427385, 1.99345583, 2.24263781,\n",
       "        2.49181978]),\n",
       " <a list of 10 Patch objects>)"
      ]
     },
     "execution_count": 54,
     "metadata": {},
     "output_type": "execute_result"
    },
    {
     "data": {
      "image/png": "[encoded data removed]",
      "text/plain": [
       "<Figure size 432x288 with 1 Axes>"
      ]
     },
     "metadata": {
      "needs_background": "light"
     },
     "output_type": "display_data"
    }
   ],
   "source": [
    "plt.hist(100*missed_targets/n_targets_true)"
   ]
  },
  {
   "cell_type": "code",
   "execution_count": 55,
   "metadata": {},
   "outputs": [
    {
     "data": {
      "text/plain": [
       "(22.81, 21.938411519524376)"
      ]
     },
     "execution_count": 55,
     "metadata": {},
     "output_type": "execute_result"
    }
   ],
   "source": [
    "np.mean(missed_targets), np.std(missed_targets)"
   ]
  },
  {
   "cell_type": "code",
   "execution_count": 56,
   "metadata": {},
   "outputs": [
    {
     "data": {
      "text/plain": [
       "(3920.59, 104.02673646712175)"
      ]
     },
     "execution_count": 56,
     "metadata": {},
     "output_type": "execute_result"
    }
   ],
   "source": [
    "np.mean(n_targets_true), np.std(n_targets_true)"
   ]
  },
  {
   "cell_type": "code",
   "execution_count": 57,
   "metadata": {},
   "outputs": [
    {
     "data": {
      "text/plain": [
       "(0.5812581322690634, 0.5569845325807361)"
      ]
     },
     "execution_count": 57,
     "metadata": {},
     "output_type": "execute_result"
    }
   ],
   "source": [
    "100*np.mean(missed_targets/n_targets_true), 100*np.std(missed_targets/n_targets_true)"
   ]
  },
  {
   "cell_type": "code",
   "execution_count": 50,
   "metadata": {},
   "outputs": [
    {
     "data": {
      "text/plain": [
       "0.0375"
      ]
     },
     "execution_count": 50,
     "metadata": {},
     "output_type": "execute_result"
    }
   ],
   "source": [
    "150/4000"
   ]
  },
  {
   "cell_type": "code",
   "execution_count": null,
   "metadata": {},
   "outputs": [],
   "source": []
  }
 ],
 "metadata": {
  "kernelspec": {
   "display_name": "DESI master",
   "language": "python",
   "name": "desi-master"
  },
  "language_info": {
   "codemirror_mode": {
    "name": "ipython",
    "version": 3
   },
   "file_extension": ".py",
   "mimetype": "text/x-python",
   "name": "python",
   "nbconvert_exporter": "python",
   "pygments_lexer": "ipython3",
   "version": "3.8.3"
  }
 },
 "nbformat": 4,
 "nbformat_minor": 4
}
