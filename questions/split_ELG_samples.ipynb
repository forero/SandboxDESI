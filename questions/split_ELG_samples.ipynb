{
 "cells": [
  {
   "cell_type": "code",
   "execution_count": 1,
   "metadata": {},
   "outputs": [],
   "source": [
    "import numpy as np\n",
    "import matplotlib.pyplot as plt\n",
    "from astropy.table import Table, join\n",
    "import numpy as np\n",
    "import os\n",
    "%matplotlib inline"
   ]
  },
  {
   "cell_type": "code",
   "execution_count": 2,
   "metadata": {},
   "outputs": [],
   "source": [
    "program = 'dark'\n",
    "main_path = \"/global/cscratch1/sd/forero/elgsplit/\""
   ]
  },
  {
   "cell_type": "code",
   "execution_count": null,
   "metadata": {},
   "outputs": [],
   "source": [
    "truth = Table.read(os.path.join(main_path, 'targets', program, 'truth.fits'))\n",
    "mtl = Table.read(os.path.join(main_path, 'zcat', program, '0', 'mtl.fits'))\n",
    "zcat = Table.read(os.path.join(main_path, 'zcat', program, '13','zcat.fits'))"
   ]
  },
  {
   "cell_type": "code",
   "execution_count": null,
   "metadata": {},
   "outputs": [],
   "source": [
    "#!ls /global/cscratch1/sd/forero/elgsplit/zcat/dark/"
   ]
  },
  {
   "cell_type": "code",
   "execution_count": null,
   "metadata": {},
   "outputs": [],
   "source": [
    "mtl[0:10]\n",
    "print(set(mtl['DESI_TARGET']))"
   ]
  },
  {
   "cell_type": "code",
   "execution_count": null,
   "metadata": {},
   "outputs": [],
   "source": [
    "ii = mtl['DESI_TARGET']==8\n",
    "#plt.scatter(mtl['RA'][ii], mtl['DEC'][ii], s=0.001)\n",
    "inz = np.in1d(mtl['TARGETID'], zcat['TARGETID'])\n",
    "plt.scatter(mtl['RA'][inz], mtl['DEC'][inz], s=0.001)\n"
   ]
  },
  {
   "cell_type": "code",
   "execution_count": null,
   "metadata": {},
   "outputs": [],
   "source": [
    "expfile = os.path.join(main_path, 'survey','exposures_dark_baseline_1m.fits')\n",
    "explist = Table.read(expfile)\n",
    "\n",
    "dark_tiles = list(set(explist['TILEID'][explist['PROGRAM']=='DARK']))\n",
    "gray_tiles = list(set(explist['TILEID'][explist['PROGRAM']=='GRAY']))\n",
    "print(len(dark_tiles))\n",
    "print(len(gray_tiles))"
   ]
  },
  {
   "cell_type": "code",
   "execution_count": null,
   "metadata": {},
   "outputs": [],
   "source": [
    "plt.scatter(explist['RA'], explist['DEC'])"
   ]
  },
  {
   "cell_type": "code",
   "execution_count": null,
   "metadata": {},
   "outputs": [],
   "source": [
    "mtl = Table.read(os.path.join(main_path, 'zcat', program, '0', 'mtl.fits'))\n",
    "zcat = Table.read(os.path.join(main_path, 'zcat', program, '13','zcat.fits'))"
   ]
  },
  {
   "cell_type": "code",
   "execution_count": null,
   "metadata": {},
   "outputs": [],
   "source": [
    "print('initializing small truth')\n",
    "small_truth = join(truth[['TARGETID','TEMPLATETYPE']], zcat['TARGETID', 'NUMOBS'], keys='TARGETID', join_type='outer')\n",
    "unobs  = small_truth['NUMOBS'].mask\n",
    "small_truth['NUMOBS'][unobs] = 0 \n",
    "print('second join')\n",
    "small_truth = join(small_truth, mtl[['TARGETID', 'RA', 'DEC']], keys='TARGETID')\n",
    "\n",
    "#small_truth = join(small_truth, mtl[['TARGETID', 'RA', 'DEC']], keys='TARGETID')"
   ]
  },
  {
   "cell_type": "code",
   "execution_count": null,
   "metadata": {},
   "outputs": [],
   "source": [
    "plt.scatter(small_truth['RA'], small_truth['DEC'], s=0.01)"
   ]
  },
  {
   "cell_type": "code",
   "execution_count": null,
   "metadata": {},
   "outputs": [],
   "source": []
  }
 ],
 "metadata": {
  "kernelspec": {
   "display_name": "DESI dev",
   "language": "python",
   "name": "desi-dev"
  },
  "language_info": {
   "codemirror_mode": {
    "name": "ipython",
    "version": 3
   },
   "file_extension": ".py",
   "mimetype": "text/x-python",
   "name": "python",
   "nbconvert_exporter": "python",
   "pygments_lexer": "ipython3",
   "version": "3.5.3"
  }
 },
 "nbformat": 4,
 "nbformat_minor": 2
}
