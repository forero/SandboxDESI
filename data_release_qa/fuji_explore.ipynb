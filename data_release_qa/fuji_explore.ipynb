{
 "cells": [
  {
   "cell_type": "code",
   "execution_count": 6,
   "id": "38689ea8-92a3-4cc3-94a1-e7b6e79244dc",
   "metadata": {},
   "outputs": [],
   "source": [
    "import numpy as np\n",
    "import matplotlib.pyplot as plt\n",
    "import os\n",
    "import fitsio\n",
    "import glob"
   ]
  },
  {
   "cell_type": "code",
   "execution_count": 7,
   "id": "dae5f740-fef1-44f7-add4-504867a0404f",
   "metadata": {},
   "outputs": [],
   "source": [
    "def compute_entropy_1d(x):\n",
    "    n_steps = len(x)//4 - 1\n",
    "    proba = {}\n",
    "    for i in range(n_steps):\n",
    "        d = x[i*4:(i+1)*4]\n",
    "        l = list(np.argsort(d))\n",
    "        l = ''.join(str(e) for e in l)\n",
    "        try:\n",
    "            proba[l] += 1\n",
    "        except:\n",
    "            proba[l] = 1\n",
    "    p = np.array(list(proba.values()))\n",
    "    p = p/p.sum()\n",
    "    h = np.sum(-p*np.log2(p))/np.log2(24)\n",
    "    return h"
   ]
  },
  {
   "cell_type": "code",
   "execution_count": 3,
   "id": "b12c5ee2-3023-47f5-b4ee-5284dbff72be",
   "metadata": {},
   "outputs": [],
   "source": [
    "fuji_path = \"/global/cfs/cdirs/desi/spectro/redux/fuji/\""
   ]
  },
  {
   "cell_type": "code",
   "execution_count": 11,
   "id": "dd162c18-cfc1-43a2-8c8a-d6a7c8c8d8a7",
   "metadata": {},
   "outputs": [
    {
     "name": "stdout",
     "output_type": "stream",
     "text": [
      "/global/cfs/cdirs/desi/spectro/redux/fuji//tiles/cumulative/500/*/redrock-0-500-thru*.fits\n",
      "['/global/cfs/cdirs/desi/spectro/redux/fuji//tiles/cumulative/500/20210510/redrock-0-500-thru20210510.fits']\n"
     ]
    }
   ],
   "source": [
    "search_path = \"{}/tiles/cumulative/{}/*/redrock-0-{}-thru*.fits\".format(fuji_path, tile_id, tile_id)\n",
    "file_in = glob.glob(search_path)\n",
    "\n",
    "\n",
    "print(search_path)\n",
    "print(file_in)"
   ]
  },
  {
   "cell_type": "code",
   "execution_count": 16,
   "id": "34526b94-997e-4155-a082-4e6e7dada7b7",
   "metadata": {},
   "outputs": [
    {
     "name": "stdout",
     "output_type": "stream",
     "text": [
      "0 0.9580146001474078 306 17 26\n",
      "1 0.958026381015426 276 10 21\n",
      "2 0.951767145107896 314 16 24\n",
      "3 0.9424394447318519 278 11 22\n",
      "4 0.9685334969884569 272 13 34\n",
      "5 0.9329327251121758 277 14 28\n",
      "6 0.9487761588856332 240 16 29\n",
      "7 0.9647553332084833 243 12 22\n",
      "8 0.919481098207059 271 12 27\n",
      "9 0.9541712147699525 273 18 18\n"
     ]
    }
   ],
   "source": [
    "petal_id = 3\n",
    "tile_id = 460\n",
    "for petal_id in range(10):\n",
    "    search_path = \"{}/tiles/cumulative/{}/*/redrock-0-{}-thru*.fits\".format(fuji_path, tile_id, tile_id)\n",
    "    file_in = glob.glob(search_path)\n",
    "    tile_file = file_in[0].replace(\"redrock-0\", \"redrock-{}\".format(petal_id))\n",
    "    z_tile_per_exp = fitsio.read(tile_file, ext=\"REDSHIFTS\")\n",
    "    fmap_tile_per_exp = fitsio.read(tile_file, ext=\"FIBERMAP\")\n",
    "    exp_fmap_tile_per_exp = fitsio.read(tile_file, ext=\"EXP_FIBERMAP\")\n",
    "    ii = (z_tile_per_exp['ZWARN']==0) & (exp_fmap_tile_per_exp['FIBERSTATUS']==0)\n",
    "    #print(np.count_nonzero(ii))\n",
    "    #plt.plot(z_tile_per_exp['Z'][ii])\n",
    "    h = compute_entropy_1d(z_tile_per_exp['Z'][ii])\n",
    "    n_gal = np.count_nonzero(z_tile_per_exp['SPECTYPE'][ii]=='GALAXY')\n",
    "    n_star = np.count_nonzero(z_tile_per_exp['SPECTYPE'][ii]=='STAR')\n",
    "    n_qso = np.count_nonzero(z_tile_per_exp['SPECTYPE'][ii]=='QSO')\n",
    "    print(petal_id, h, n_gal, n_star, n_qso)"
   ]
  },
  {
   "cell_type": "code",
   "execution_count": 84,
   "id": "414b6b13-f6c3-4175-b1d3-33a9f78da244",
   "metadata": {},
   "outputs": [],
   "source": []
  },
  {
   "cell_type": "code",
   "execution_count": 85,
   "id": "e62f2d3f-c3a4-476f-9e2c-5ae5cf6f1e48",
   "metadata": {},
   "outputs": [
    {
     "name": "stdout",
     "output_type": "stream",
     "text": [
      "112\n",
      "27\n",
      "0.8301883164383251\n"
     ]
    },
    {
     "data": {
      "image/png": "[encoded data removed]",
      "text/plain": [
       "<Figure size 432x288 with 1 Axes>"
      ]
     },
     "metadata": {
      "needs_background": "light"
     },
     "output_type": "display_data"
    }
   ],
   "source": [
    "#[('TARGETID', '>i8'), ('Z', '>f8'), ('ZERR', '>f8'), ('ZWARN', '>i8'), ('CHI2', '>f8'), ('COEFF', '>f8', (10,)), ('NPIXELS', '>i8'), \n",
    "# ('SPECTYPE', '<U6'), ('SUBTYPE', '<U20'), ('NCOEFF', '>i8'), ('DELTACHI2', '>f8')])\n"
   ]
  },
  {
   "cell_type": "code",
   "execution_count": 47,
   "id": "9dde19f7-d216-4787-b63a-1241a66f4877",
   "metadata": {},
   "outputs": [
    {
     "data": {
      "text/plain": [
       "500"
      ]
     },
     "execution_count": 47,
     "metadata": {},
     "output_type": "execute_result"
    }
   ],
   "source": [
    "len(z_tile_per_exp['Z'])"
   ]
  },
  {
   "cell_type": "code",
   "execution_count": 48,
   "id": "fb3aceda-f192-4159-9959-f7701f2a1ba6",
   "metadata": {},
   "outputs": [
    {
     "data": {
      "text/plain": [
       "['QSO',\n",
       " 'GALAXY',\n",
       " 'GALAXY',\n",
       " 'GALAXY',\n",
       " 'QSO',\n",
       " 'STAR',\n",
       " 'GALAXY',\n",
       " 'STAR',\n",
       " 'QSO',\n",
       " 'QSO',\n",
       " 'QSO',\n",
       " 'GALAXY',\n",
       " 'QSO',\n",
       " 'GALAXY',\n",
       " 'GALAXY',\n",
       " 'STAR',\n",
       " 'GALAXY',\n",
       " 'GALAXY',\n",
       " 'GALAXY',\n",
       " 'GALAXY',\n",
       " 'GALAXY',\n",
       " 'QSO',\n",
       " 'GALAXY',\n",
       " 'QSO',\n",
       " 'GALAXY',\n",
       " 'GALAXY',\n",
       " 'GALAXY',\n",
       " 'STAR',\n",
       " 'GALAXY',\n",
       " 'QSO',\n",
       " 'GALAXY',\n",
       " 'GALAXY',\n",
       " 'QSO',\n",
       " 'STAR',\n",
       " 'GALAXY',\n",
       " 'GALAXY',\n",
       " 'GALAXY',\n",
       " 'STAR',\n",
       " 'GALAXY',\n",
       " 'STAR',\n",
       " 'GALAXY',\n",
       " 'GALAXY',\n",
       " 'GALAXY',\n",
       " 'STAR',\n",
       " 'STAR',\n",
       " 'GALAXY',\n",
       " 'QSO',\n",
       " 'QSO',\n",
       " 'GALAXY',\n",
       " 'GALAXY',\n",
       " 'GALAXY',\n",
       " 'STAR',\n",
       " 'GALAXY',\n",
       " 'GALAXY',\n",
       " 'GALAXY',\n",
       " 'STAR',\n",
       " 'GALAXY',\n",
       " 'GALAXY',\n",
       " 'GALAXY',\n",
       " 'STAR',\n",
       " 'GALAXY',\n",
       " 'GALAXY',\n",
       " 'QSO',\n",
       " 'GALAXY',\n",
       " 'GALAXY',\n",
       " 'GALAXY',\n",
       " 'GALAXY',\n",
       " 'QSO',\n",
       " 'GALAXY',\n",
       " 'GALAXY',\n",
       " 'GALAXY',\n",
       " 'STAR',\n",
       " 'QSO',\n",
       " 'GALAXY',\n",
       " 'GALAXY',\n",
       " 'QSO',\n",
       " 'GALAXY',\n",
       " 'GALAXY',\n",
       " 'GALAXY',\n",
       " 'GALAXY',\n",
       " 'GALAXY',\n",
       " 'GALAXY',\n",
       " 'GALAXY',\n",
       " 'GALAXY',\n",
       " 'STAR',\n",
       " 'GALAXY',\n",
       " 'GALAXY',\n",
       " 'STAR',\n",
       " 'GALAXY',\n",
       " 'STAR',\n",
       " 'QSO',\n",
       " 'QSO',\n",
       " 'GALAXY',\n",
       " 'GALAXY',\n",
       " 'GALAXY',\n",
       " 'GALAXY',\n",
       " 'GALAXY',\n",
       " 'GALAXY',\n",
       " 'GALAXY',\n",
       " 'GALAXY',\n",
       " 'STAR',\n",
       " 'GALAXY',\n",
       " 'GALAXY',\n",
       " 'GALAXY',\n",
       " 'GALAXY',\n",
       " 'GALAXY',\n",
       " 'GALAXY',\n",
       " 'GALAXY',\n",
       " 'GALAXY',\n",
       " 'GALAXY',\n",
       " 'GALAXY',\n",
       " 'GALAXY']"
      ]
     },
     "execution_count": 48,
     "metadata": {},
     "output_type": "execute_result"
    }
   ],
   "source": [
    "list(z_tile_per_exp['SPECTYPE'][ii])"
   ]
  },
  {
   "cell_type": "code",
   "execution_count": 26,
   "id": "abf1e73c-c0d6-448d-9e26-a19b70f59ab5",
   "metadata": {},
   "outputs": [
    {
     "data": {
      "text/plain": [
       "dtype([('TARGETID', '>i8'), ('PETAL_LOC', '>i2'), ('DEVICE_LOC', '>i4'), ('LOCATION', '>i8'), ('FIBER', '>i4'), ('COADD_FIBERSTATUS', '>i4'), ('TARGET_RA', '>f8'), ('TARGET_DEC', '>f8'), ('PMRA', '>f4'), ('PMDEC', '>f4'), ('REF_EPOCH', '>f4'), ('LAMBDA_REF', '>f4'), ('FA_TARGET', '>i8'), ('FA_TYPE', 'u1'), ('OBJTYPE', '<U3'), ('FIBERASSIGN_X', '>f4'), ('FIBERASSIGN_Y', '>f4'), ('PRIORITY', '>i4'), ('SUBPRIORITY', '>f8'), ('OBSCONDITIONS', '>i4'), ('RELEASE', '>i2'), ('BRICKNAME', '<U8'), ('BRICKID', '>i4'), ('BRICK_OBJID', '>i4'), ('MORPHTYPE', '<U4'), ('EBV', '>f4'), ('FLUX_G', '>f4'), ('FLUX_R', '>f4'), ('FLUX_Z', '>f4'), ('FLUX_W1', '>f4'), ('FLUX_W2', '>f4'), ('FLUX_IVAR_G', '>f4'), ('FLUX_IVAR_R', '>f4'), ('FLUX_IVAR_Z', '>f4'), ('FLUX_IVAR_W1', '>f4'), ('FLUX_IVAR_W2', '>f4'), ('FIBERFLUX_G', '>f4'), ('FIBERFLUX_R', '>f4'), ('FIBERFLUX_Z', '>f4'), ('FIBERTOTFLUX_G', '>f4'), ('FIBERTOTFLUX_R', '>f4'), ('FIBERTOTFLUX_Z', '>f4'), ('MASKBITS', '>i2'), ('SERSIC', '>f4'), ('SHAPE_R', '>f4'), ('SHAPE_E1', '>f4'), ('SHAPE_E2', '>f4'), ('REF_ID', '>i8'), ('REF_CAT', '<U2'), ('GAIA_PHOT_G_MEAN_MAG', '>f4'), ('GAIA_PHOT_BP_MEAN_MAG', '>f4'), ('GAIA_PHOT_RP_MEAN_MAG', '>f4'), ('PARALLAX', '>f4'), ('PHOTSYS', '<U1'), ('PRIORITY_INIT', '>i8'), ('NUMOBS_INIT', '>i8'), ('SV1_DESI_TARGET', '>i8'), ('SV1_BGS_TARGET', '>i8'), ('SV1_MWS_TARGET', '>i8'), ('SV1_SCND_TARGET', '>i8'), ('DESI_TARGET', '>i8'), ('BGS_TARGET', '>i8'), ('MWS_TARGET', '>i8'), ('PLATE_RA', '>f8'), ('PLATE_DEC', '>f8'), ('TILEID', '>i4'), ('COADD_NUMEXP', '>i2'), ('COADD_EXPTIME', '>f4'), ('COADD_NUMNIGHT', '>i2'), ('COADD_NUMTILE', '>i2'), ('MEAN_DELTA_X', '>f4'), ('RMS_DELTA_X', '>f4'), ('MEAN_DELTA_Y', '>f4'), ('RMS_DELTA_Y', '>f4'), ('MEAN_FIBER_RA', '>f8'), ('STD_FIBER_RA', '>f4'), ('MEAN_FIBER_DEC', '>f8'), ('STD_FIBER_DEC', '>f4'), ('MEAN_PSF_TO_FIBER_SPECFLUX', '>f4'), ('MEAN_FIBER_X', '>f4'), ('MEAN_FIBER_Y', '>f4')])"
      ]
     },
     "execution_count": 26,
     "metadata": {},
     "output_type": "execute_result"
    }
   ],
   "source": [
    "fmap_tile_per_exp.dtype"
   ]
  },
  {
   "cell_type": "code",
   "execution_count": 29,
   "id": "89edf409-ec82-4490-affc-f2e74ecf8d40",
   "metadata": {},
   "outputs": [
    {
     "data": {
      "text/plain": [
       "<matplotlib.collections.PathCollection at 0x2aaae92b2fd0>"
      ]
     },
     "execution_count": 29,
     "metadata": {},
     "output_type": "execute_result"
    },
    {
     "data": {
      "image/png": "[encoded data removed]",
      "text/plain": [
       "<Figure size 432x288 with 1 Axes>"
      ]
     },
     "metadata": {
      "needs_background": "light"
     },
     "output_type": "display_data"
    }
   ],
   "source": [
    "plt.scatter(fmap_tile_per_exp['TARGET_RA'], fmap_tile_per_exp['TARGET_DEC'])"
   ]
  },
  {
   "cell_type": "code",
   "execution_count": 31,
   "id": "c493737a-67c1-49ff-80a4-7cd4bd69eeca",
   "metadata": {},
   "outputs": [
    {
     "data": {
      "text/plain": [
       "array([1024,    0,    0,    0,    0, 1024,    0,    0, 1024,    0,    0,\n",
       "          0,    0,    0,    0,    0, 1024,    0,    0, 1024,    0,    0,\n",
       "       1024,    0,    0,    0, 1024, 1024,    0,    0, 1024,    0,    0,\n",
       "          0,    0,    0, 1024, 1024, 1024,    0,    0,    0,    0,    0,\n",
       "          0,    0, 1024, 1024,    0,    0,    0,    0,    0,    0,    0,\n",
       "          0,    0,    0,    0,    0,    0,    0,    0,    0,    0,    0,\n",
       "          0,    0,    0,    0,    0,    0,    0,    0,    0,    0,    0,\n",
       "          0,    0,    0,    0,    0,    0,    0,    0,    0,    0,    0,\n",
       "          0,    0,    0,    0,    0,    0,    0,    0,    0,    0,    0,\n",
       "          0,    0,    0, 1024, 1024,    0,    0, 1024,    0,    0,    0,\n",
       "          0,    0, 1024, 1024,    0, 1024, 1024,    0,    0,    0,    0,\n",
       "          0,    0,    0,    0,    0,    0,    0, 1024,    0, 1024,    0,\n",
       "          0, 1024, 1024,    0, 1024,    0,    0, 1024, 1024,    0,    0,\n",
       "          0, 1024,    0, 1024,    0,    0,    0,    0,    0,    0,    0,\n",
       "          0,    0,    0,    0,  512,    0,    0,    0,    0,    0,    0,\n",
       "          0,    0,    0,    0,    0,    0,    0,    0,    0,    0,    0,\n",
       "          0,    0,    0,    0,    0,    0,    0,    0,    0,    0,    0,\n",
       "          0,    0,    0,    0,    0,    0,    0,    0,    0,    0,    0,\n",
       "          0,    0,    0,    0,    0,    0,    0,    0,    0,    0,    0,\n",
       "          0,    0,    0,    0,    0,    0,    0,    0, 1024,    0,    0,\n",
       "          0,    0,    0, 1024,    0,    0,    0,    0,    0, 1024,    0,\n",
       "          0,    0,    0,    0,    0,    0,    0,    0,    0,    0,    0,\n",
       "          0,    0,    0,    0,    0,    0,    0, 1024,    0,    0,    0,\n",
       "          0,    0,    0,    0,    0,    0,    0,    0,    0,    0,    0,\n",
       "          0,    0,    0,    0,    0,    0,    0,    0,    0,    0,    0,\n",
       "          0,    0,    0,    0,    0,    0, 1024,    0,    0,    0,    0,\n",
       "          0,    0,    0,    0,    0,    0,    0,    0,    0,    0,    0,\n",
       "          0,    0,    0,    0,    0,    0,    0,    0,    0,    0,    0,\n",
       "          0,    0,    0,    0,    0,    0,    0,    0,    0,    0,    0,\n",
       "          0,    0,    0,    0,    0,    0,    0,    0,    0,    0,    0,\n",
       "          0,    0,    0,    0,    0,    0,    0,    0,    0,    0,    0,\n",
       "          0,    0,    0,    0,    0,    0,    0,    0,    0,    0,    0,\n",
       "          0,    0,    0,    0,    0,    0,    0,    0,    0,    0,    0,\n",
       "          0,    0,    0,    0,  260,    0,    0,    0,    0,    0,    0,\n",
       "          0,    0,    0,    0,    0,    0,    0,    0,    0,    0,    0,\n",
       "          0,    0,    0,    0,    0,    0,    0,    0,    0,    0,    0,\n",
       "          0,    0,    0,    0,    0,    0,    0,    0,    0,    0,    0,\n",
       "          0,    0,    0,    0,    0,    0,    0,    0,    0,    0,    0,\n",
       "          0,    0,    0,    0,    0,    0,    0,    0,    0,    0,    0,\n",
       "          0,    0,    0,    0,    0,    0,    0,    0,    0,    0,    0,\n",
       "          0,    0,    0,    0,    0,    0,    0,    0,    0,    0,    0,\n",
       "          0,    0,    0,    0,    0,    0,    0,    0,    0,    0,    0,\n",
       "          0,    0,    0,    0,    0,    0,    0,    0,    0,    0,    0,\n",
       "          0,    0,    0,    0,    0,    0,    0,    0,    0,    0,    0,\n",
       "          0,    0,    0, 1024,    0,    0,    0,    0,    0,    0,    0,\n",
       "          0,    0,    0,    0,    0], dtype=int32)"
      ]
     },
     "execution_count": 31,
     "metadata": {},
     "output_type": "execute_result"
    }
   ],
   "source": [
    "exp_fmap_tile_per_exp['FIBERSTATUS']"
   ]
  },
  {
   "cell_type": "code",
   "execution_count": null,
   "id": "6c9a6a88-f9bc-47f1-a203-fc0355456998",
   "metadata": {},
   "outputs": [],
   "source": []
  }
 ],
 "metadata": {
  "kernelspec": {
   "display_name": "DESI master",
   "language": "python",
   "name": "desi-master"
  },
  "language_info": {
   "codemirror_mode": {
    "name": "ipython",
    "version": 3
   },
   "file_extension": ".py",
   "mimetype": "text/x-python",
   "name": "python",
   "nbconvert_exporter": "python",
   "pygments_lexer": "ipython3",
   "version": "3.9.7"
  }
 },
 "nbformat": 4,
 "nbformat_minor": 5
}
