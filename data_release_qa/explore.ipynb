{
 "cells": [
  {
   "cell_type": "code",
   "execution_count": 1,
   "id": "38689ea8-92a3-4cc3-94a1-e7b6e79244dc",
   "metadata": {},
   "outputs": [],
   "source": [
    "import numpy as np\n",
    "import matplotlib.pyplot as plt\n",
    "import os\n",
    "import fitsio\n",
    "import glob\n",
    "import pandas as pd"
   ]
  },
  {
   "cell_type": "code",
   "execution_count": 2,
   "id": "dae5f740-fef1-44f7-add4-504867a0404f",
   "metadata": {},
   "outputs": [],
   "source": [
    "def compute_entropy_1d(x):\n",
    "    n_steps = len(x) - 3\n",
    "    proba = {}\n",
    "    for i in range(n_steps):\n",
    "        d = x[i:i+4]\n",
    "        l = list(np.argsort(d))\n",
    "        l = ''.join(str(e) for e in l)\n",
    "        try:\n",
    "            proba[l] += 1\n",
    "        except:\n",
    "            proba[l] = 1\n",
    "    p = np.array(list(proba.values()))\n",
    "    p = p/p.sum()\n",
    "    h = np.sum(-p*np.log2(p))/np.log2(24)\n",
    "    return h"
   ]
  },
  {
   "cell_type": "code",
   "execution_count": 3,
   "id": "4727b039-71e3-4ff0-97df-ee99e4964193",
   "metadata": {},
   "outputs": [],
   "source": [
    "def summary_tile_entropy(release_path, tile_id):\n",
    "    n_gal_list = []\n",
    "    n_star_list = []\n",
    "    n_qso_list = []\n",
    "    n_good_z_list = []\n",
    "    z_entropy = []\n",
    "    petal_list = [] \n",
    "    for petal_id in range(10):\n",
    "        search_path = \"{}/tiles/cumulative/{}/*/redrock-*-{}-thru*.fits\".format(release_path, tile_id, tile_id)\n",
    "        #print(search_path)\n",
    "        try:\n",
    "            file_in = glob.glob(search_path)[0]\n",
    "            #print(file_in)\n",
    "            #print(file_in.split('/')[-1].split('-')[-3])\n",
    "            this_petal_id = file_in.split('/')[-1].split('-')[-3]\n",
    "            tile_file = file_in.replace(\"redrock-{}\".format(this_petal_id), \"redrock-{}\".format(petal_id))\n",
    "            #tile_file = \"{}/tiles/cumulative/{}/{}/redrock-{}-{}-thru{}.fits\".format(\n",
    "            #    fuji_path, tile_id, last_night, petal_id, tile_id, last_night)\n",
    "            #print(tile_file)\n",
    "            try:\n",
    "                z_tile_per_exp = fitsio.read(tile_file, ext=\"REDSHIFTS\")\n",
    "                fmap_tile_per_exp = fitsio.read(tile_file, ext=\"FIBERMAP\")\n",
    "                exp_fmap_tile_per_exp = fitsio.read(tile_file, ext=\"EXP_FIBERMAP\")\n",
    "            except:\n",
    "                pass\n",
    "            try:\n",
    "                ii = (z_tile_per_exp['ZWARN']==0) #& (exp_fmap_tile_per_exp['FIBERSTATUS']==0)\n",
    "                n_good_z = np.count_nonzero(ii)\n",
    "                h = compute_entropy_1d(z_tile_per_exp['Z'][ii])\n",
    "                n_gal = np.count_nonzero(z_tile_per_exp['SPECTYPE'][ii]=='GALAXY')\n",
    "                n_star = np.count_nonzero(z_tile_per_exp['SPECTYPE'][ii]=='STAR')\n",
    "                n_qso = np.count_nonzero(z_tile_per_exp['SPECTYPE'][ii]=='QSO')\n",
    "        \n",
    "                petal_list.append(petal_id)\n",
    "                z_entropy.append(h)\n",
    "                n_gal_list.append(n_gal)\n",
    "                n_star_list.append(n_star)\n",
    "                n_qso_list.append(n_qso)\n",
    "                n_good_z_list.append(n_good_z)\n",
    "            except:\n",
    "                pass\n",
    "        except:\n",
    "            pass\n",
    "    return {'petal_id':petal_list, 'z_entropy':z_entropy, 'n_gal':n_gal_list, 'n_star':n_star_list, 'n_qso':n_qso_list, \n",
    "           'n_good_z':n_good_z_list}"
   ]
  },
  {
   "cell_type": "code",
   "execution_count": 4,
   "id": "0e951c32-a02a-4845-a6cd-9a66e0385852",
   "metadata": {},
   "outputs": [],
   "source": [
    "def summary_release_entropy(release, n_tiles_max=None):\n",
    "    release_path = \"/global/cfs/cdirs/desi/spectro/redux/{}/\".format(release)\n",
    "    data_tiles_release = pd.read_csv(os.path.join(release_path, \"tiles-{}.csv\".format(release)))\n",
    "    n_tiles = len(data_tiles_release)\n",
    "    print('Release {} has {} tiles'.format(release, n_tiles))\n",
    "    h = 'TILEID,PROGRAM,SURVEY,LASTNIGHT,PETALID,H,N_GAL,N_STAR,N_QSO,N_GOOD_Z\\n'\n",
    "    out = open('summary_entropy_{}.csv'.format(release), 'w')\n",
    "    out.write(h)\n",
    "    if n_tiles_max is None:\n",
    "        n_max = n_tiles\n",
    "    else:\n",
    "        n_max = n_tiles_max\n",
    "    for i in range(n_max):\n",
    "        print('computing {} over {}'.format(i+1, n_max))\n",
    "        a = summary_tile_entropy(release_path, data_tiles_release['TILEID'][i])\n",
    "        if len(a['petal_id']):\n",
    "            n_p = len(a['petal_id'])\n",
    "            for j in range(n_p):\n",
    "                s = '{},{},{},{},{},{},{},{},{},{}\\n'.format(data_tiles_release['TILEID'][i], \n",
    "                                                    data_tiles_release['FAPRGRM'][i],\n",
    "                                                    data_tiles_release['SURVEY'][i],\n",
    "                                                    data_tiles_release['LASTNIGHT'][i],\n",
    "                                                 a['petal_id'][j],a['z_entropy'][j],\n",
    "                                     a['n_gal'][j], a['n_star'][j], a['n_qso'][j], a['n_good_z'][j])\n",
    "                out.write(s)\n",
    "    out.close()"
   ]
  },
  {
   "cell_type": "code",
   "execution_count": 5,
   "id": "40078340-4691-4297-9e4f-09b6ab46265e",
   "metadata": {},
   "outputs": [],
   "source": [
    "#summary_release_entropy('everest')"
   ]
  },
  {
   "cell_type": "code",
   "execution_count": 6,
   "id": "414b6b13-f6c3-4175-b1d3-33a9f78da244",
   "metadata": {},
   "outputs": [],
   "source": [
    "#summary_release_entropy('fuji')"
   ]
  },
  {
   "cell_type": "code",
   "execution_count": 7,
   "id": "2cc90223-a353-4468-a766-af6f3343494a",
   "metadata": {},
   "outputs": [],
   "source": [
    "#summary_release_entropy('guadalupe')"
   ]
  },
  {
   "cell_type": "code",
   "execution_count": null,
   "id": "bf8bfeae-57b4-4576-88a4-bc32ac6da0ae",
   "metadata": {},
   "outputs": [],
   "source": [
    "#summary_release_entropy('daily')"
   ]
  },
  {
   "cell_type": "code",
   "execution_count": null,
   "id": "df407a54-d63d-4cfb-9b3d-e77ec0261e13",
   "metadata": {},
   "outputs": [],
   "source": []
  }
 ],
 "metadata": {
  "kernelspec": {
   "display_name": "DESI master",
   "language": "python",
   "name": "desi-master"
  },
  "language_info": {
   "codemirror_mode": {
    "name": "ipython",
    "version": 3
   },
   "file_extension": ".py",
   "mimetype": "text/x-python",
   "name": "python",
   "nbconvert_exporter": "python",
   "pygments_lexer": "ipython3",
   "version": "3.9.7"
  }
 },
 "nbformat": 4,
 "nbformat_minor": 5
}
