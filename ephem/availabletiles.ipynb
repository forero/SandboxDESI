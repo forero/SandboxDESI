{
 "cells": [
  {
   "cell_type": "code",
   "execution_count": 20,
   "metadata": {
    "collapsed": false
   },
   "outputs": [],
   "source": [
    "import ephem as eph\n",
    "import numpy as np\n",
    "import desimodel.io\n",
    "\n",
    "_observer = None\n",
    "\n",
    "def init_observer(long=-111.5967, lat=31.9583, date_time='2018/1/2 2:00'):\n",
    "    \"\"\"\n",
    "    Initializes the observer position and date. Returns an\n",
    "    ephen.Observer() object.  \n",
    "    \n",
    "    Args:\n",
    "        long (float), longitude in degrees.\n",
    "        lat (float), latitude in degrees.        \n",
    "        date_time (string), date and time. default value is '2018/1/2 2:00'\n",
    "        Default values for long and lat correspond to Kitt Peak.\n",
    "    Returns:\n",
    "        ephem.Observer() object.\n",
    "        \n",
    "    \"\"\"\n",
    "    global _observer\n",
    "    _observer = eph.Observer()\n",
    "    _observer.long = str(long)\n",
    "    _observer.lat = str(lat)\n",
    "    _observer.date = date_time\n",
    "    return _observer\n",
    "\n",
    "def radec_zenith():\n",
    "    \"\"\"\n",
    "    Return RA,Dec at zenith.    \n",
    "    Returns:\n",
    "        RA (ephem.Angle) \n",
    "        Dec (ephem.Angle): \n",
    "    \"\"\"\n",
    "    altitude = 90.0\n",
    "    azimuth = 0.0\n",
    "    ra_zenith , dec_zenith = _observer.radec_of(str(azimuth), str(altitude))\n",
    "    return ra_zenith, dec_zenith\n",
    "\n",
    "def days_to_next_full_moon():\n",
    "    \"\"\"\n",
    "    Compute the number of days to the next full moon\n",
    "    Returns:\n",
    "        n_days (float): number of days.\n",
    "    \"\"\"\n",
    "    d1 = eph.next_new_moon(_observer.date)\n",
    "    n_days = d1 - _observer.date \n",
    "    return n_days\n",
    "\n",
    "def separation_azimuth_moon():\n",
    "    \"\"\"\n",
    "    Compute the angle between azimuth and the Moon.\n",
    "    Returns:\n",
    "        a (ephem.Angle): angle between Moon and Azimuth.\n",
    "    \"\"\"\n",
    "    up_ra, up_dec = radec_zenith()\n",
    "    moon = eph.Moon()\n",
    "    moon.compute(_observer.date)\n",
    "    a = eph.separation([up_ra,up_dec], [moon.ra, moon.dec])\n",
    "    return a\n",
    "\n",
    "def points_inside_azimuth_cone(ra_list, dec_list, id_list, angle_to_zenith):\n",
    "    \"\"\"\n",
    "    Selects a subset of points close to the zenith\n",
    "    \n",
    "    Args:\n",
    "        ra_list (float): np.array with RA angles in degrees.\n",
    "        dec_list (float): np.array with Dec angles in degrees.\n",
    "        id_list (int): np.array with integers indexing the RA, DEC values\n",
    "        angle_to_zenith (float): angle in degrees to zenith below which the list points are selected.\n",
    "    Returns:\n",
    "        The subset of points is represented by three arrays.\n",
    "        ra_sublist (float): np.array with RA angles in degrees.\n",
    "        dec_sublist (float): np.array with Dec angles in degrees.\n",
    "        id_sublist (int): np.array with integers indexing the RA, DEC values.\n",
    "    \"\"\"\n",
    "    assert angle_to_zenith >= 0.0, \"Angle to zenith must be positive\"\n",
    "    assert angle_to_zenith <= 360.0, \"Angle to zenith must be less than 360 degrees\"\n",
    "    \n",
    "    ra_sublist = np.empty((0))\n",
    "    dec_sublist = np.empty((0))\n",
    "    id_sublist = np.empty((0), dtype='int')\n",
    "    n_tiles = np.size(id_list)\n",
    "\n",
    "    ra_list_radians = ra_list * np.pi/180.0\n",
    "    dec_list_radians = dec_list * np.pi/180.0\n",
    "    \n",
    "    ra_up, dec_up = radec_zenith()\n",
    "    for i_tile in np.arange(n_tiles):\n",
    "        a = eph.separation([ra_up,dec_up], [ra_list_radians[i_tile], dec_list_radians[i_tile]])\n",
    "        if(float(a) < (angle_to_zenith*np.pi/180.0)):\n",
    "            id_sublist = np.append(id_sublist, id_list[i_tile])\n",
    "            ra_sublist = np.append(ra_sublist, ra_list[i_tile])\n",
    "            dec_sublist = np.append(dec_sublist, dec_list[i_tile])\n",
    "    return ra_sublist, dec_sublist, id_sublist"
   ]
  },
  {
   "cell_type": "code",
   "execution_count": 21,
   "metadata": {
    "collapsed": false
   },
   "outputs": [
    {
     "name": "stdout",
     "output_type": "stream",
     "text": [
      "angles 1:19:15.92 <type 'ephem.Angle'> 0.34586061108\n",
      "days 15.0119731233\n",
      "sep 73:15:21.9\n"
     ]
    }
   ],
   "source": [
    "_observer = init_observer()\n",
    "ra_up, dec_up = radec_zenith()\n",
    "print \"angles\", ra_up, type(dec_up), ra_up.real\n",
    "print \"days\", days_to_next_full_moon()\n",
    "print \"sep\", separation_azimuth_moon()"
   ]
  },
  {
   "cell_type": "code",
   "execution_count": 22,
   "metadata": {
    "collapsed": false
   },
   "outputs": [],
   "source": [
    "_tiles = desimodel.io.load_tiles()\n",
    "id_tiles = _tiles['TILEID']\n",
    "ra_tiles = _tiles['RA']\n",
    "dec_tiles = _tiles['DEC']\n",
    "n_pass = _tiles['PASS']\n",
    "n_tiles = np.size(ra_tiles)"
   ]
  },
  {
   "cell_type": "code",
   "execution_count": 23,
   "metadata": {
    "collapsed": false
   },
   "outputs": [
    {
     "name": "stdout",
     "output_type": "stream",
     "text": [
      "2:27:14.66 31:52:41.1 12.9703064566 True\n",
      "501\n",
      "3:27:21.45 31:53:49.3 12.9286397902 True\n",
      "234\n",
      "4:27:29.11 31:55:12.7 12.8869731233 True\n",
      "51\n",
      "5:27:37.81 31:56:45.6 12.8453064568 True\n",
      "299\n",
      "6:27:47.61 31:58:21.7 12.8036397902 True\n",
      "708\n",
      "7:27:58.53 31:59:54.4 12.7619731232 True\n",
      "1184\n",
      "\n"
     ]
    }
   ],
   "source": [
    "start_date = ' 2018/1/4 '\n",
    "start_time = '3:00' \n",
    "end_time = '11:00'\n",
    "\n",
    "_observer = init_observer(date_time=start_date+start_time)\n",
    "initial_date = _observer.date\n",
    "\n",
    "total_survey_days = 1\n",
    "hours_per_day = 6\n",
    "bright_time = True\n",
    "\n",
    "hours = np.arange(hours_per_day)\n",
    "days = np.arange(total_survey_days)\n",
    "\n",
    "ra_tiles_radians = ra_tiles * np.pi/180.0\n",
    "dec_tiles_radians = dec_tiles * np.pi/180.0\n",
    "\n",
    "for day in days:\n",
    "    for hour in hours:\n",
    "        new_date = initial_date + day + hour*(1.0/24.0)\n",
    "        _observer.date = new_date\n",
    "        ra_up, dec_up = radec_zenith()\n",
    "        n_to_full_moon = days_to_next_full_moon()\n",
    "        \n",
    "        if((n_to_full_moon>7) & (n_to_full_moon<21)):\n",
    "            bright_time = True\n",
    "        else:\n",
    "            bright_time = False\n",
    "        print ra_up, dec_up, n_to_full_moon, bright_time\n",
    "        \n",
    "        ra_in, dec_in, id_in = points_inside_azimuth_cone(ra_tiles, dec_tiles, id_tiles, 30.0)\n",
    "        print np.size(ra_in)\n",
    "        \n",
    "    print"
   ]
  },
  {
   "cell_type": "code",
   "execution_count": 73,
   "metadata": {
    "collapsed": false
   },
   "outputs": [
    {
     "data": {
      "text/plain": [
       "array([], dtype=int64)"
      ]
     },
     "execution_count": 73,
     "metadata": {},
     "output_type": "execute_result"
    }
   ],
   "source": [
    "dec_sublist = np.empty((0), dtype='int')\n",
    "dec_sublist"
   ]
  },
  {
   "cell_type": "code",
   "execution_count": 11,
   "metadata": {
    "collapsed": false
   },
   "outputs": [
    {
     "data": {
      "text/plain": [
       "43100.666666666664"
      ]
     },
     "execution_count": 11,
     "metadata": {},
     "output_type": "execute_result"
    }
   ],
   "source": [
    "start_date = ' 2018/1/2 '\n",
    "start_time = '4:00' \n",
    "end_time = '11:00'\n",
    "\n",
    "_observer = init_observer(date_time=start_date+start_time)\n",
    "_observer.date"
   ]
  },
  {
   "cell_type": "code",
   "execution_count": 55,
   "metadata": {
    "collapsed": false
   },
   "outputs": [
    {
     "name": "stdout",
     "output_type": "stream",
     "text": [
      "0.349065850399\n"
     ]
    }
   ],
   "source": [
    "print(20.0*np.pi/180.0)"
   ]
  },
  {
   "cell_type": "code",
   "execution_count": null,
   "metadata": {
    "collapsed": true
   },
   "outputs": [],
   "source": []
  }
 ],
 "metadata": {
  "kernelspec": {
   "display_name": "Python 2",
   "language": "python",
   "name": "python2"
  },
  "language_info": {
   "codemirror_mode": {
    "name": "ipython",
    "version": 2
   },
   "file_extension": ".py",
   "mimetype": "text/x-python",
   "name": "python",
   "nbconvert_exporter": "python",
   "pygments_lexer": "ipython2",
   "version": "2.7.3"
  }
 },
 "nbformat": 4,
 "nbformat_minor": 0
}
