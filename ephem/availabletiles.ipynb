{
 "cells": [
  {
   "cell_type": "code",
   "execution_count": 1,
   "metadata": {
    "collapsed": false
   },
   "outputs": [
    {
     "name": "stdout",
     "output_type": "stream",
     "text": [
      "Populating the interactive namespace from numpy and matplotlib\n"
     ]
    }
   ],
   "source": [
    "%pylab inline"
   ]
  },
  {
   "cell_type": "code",
   "execution_count": 46,
   "metadata": {
    "collapsed": true
   },
   "outputs": [],
   "source": [
    "import ephem\n",
    "#http://rhodesmill.org/pyephem/tutorial.html"
   ]
  },
  {
   "cell_type": "code",
   "execution_count": 97,
   "metadata": {
    "collapsed": false
   },
   "outputs": [
    {
     "name": "stdout",
     "output_type": "stream",
     "text": [
      "7:47:49.30 19:19:06.2\n",
      "2018/1/2 23:59\n",
      "2018/1/17 02:17:14\n"
     ]
    }
   ],
   "source": [
    "gbt = ephem.Observer()\n",
    "gbt.long = '-111.5967'\n",
    "gbt.lat = '31.9583'\n",
    "\n",
    "dist = empty((0))\n",
    "ra = empty((0))\n",
    "dec = empty((0))\n",
    "for day in range(1,3):\n",
    "    for hour in [20,21,22,23]:\n",
    "        for minute in range(60):\n",
    "            date = '2018/1/%d %d:%d'%(day, hour, minute)\n",
    "            gbt = ephem.Observer()\n",
    "            gbt.date = date\n",
    "\n",
    "            moon = ephem.Moon()\n",
    "            moon.compute(date)\n",
    "\n",
    "            altitude = 90.0\n",
    "            azimuth = 0.0\n",
    "            up_ra , up_dec = gbt.radec_of(str(azimuth), str(altitude))\n",
    "            a = ephem.separation([up_ra,up_dec], [moon.ra, moon.dec])\n",
    "            dist = append(dist,float(a))\n",
    "            ra = append(ra,float(up_ra))\n",
    "            dec = append(dec,float(up_dec))\n",
    "print moon.ra, moon.dec\n",
    "d1 = ephem.next_new_moon(date)\n",
    "print(date)\n",
    "print(d1)"
   ]
  },
  {
   "cell_type": "code",
   "execution_count": 99,
   "metadata": {
    "collapsed": false
   },
   "outputs": [
    {
     "data": {
      "text/plain": [
       "[<matplotlib.lines.Line2D at 0x5e21210>]"
      ]
     },
     "execution_count": 99,
     "metadata": {},
     "output_type": "execute_result"
    },
    {
     "data": {
      "image/png": "[encoded data removed]",
      "text/plain": [
       "<matplotlib.figure.Figure at 0x4847b90>"
      ]
     },
     "metadata": {},
     "output_type": "display_data"
    }
   ],
   "source": [
    "plot(ra,dec)"
   ]
  },
  {
   "cell_type": "code",
   "execution_count": null,
   "metadata": {
    "collapsed": true
   },
   "outputs": [],
   "source": []
  }
 ],
 "metadata": {
  "kernelspec": {
   "display_name": "Python 2",
   "language": "python",
   "name": "python2"
  },
  "language_info": {
   "codemirror_mode": {
    "name": "ipython",
    "version": 2
   },
   "file_extension": ".py",
   "mimetype": "text/x-python",
   "name": "python",
   "nbconvert_exporter": "python",
   "pygments_lexer": "ipython2",
   "version": "2.7.3"
  }
 },
 "nbformat": 4,
 "nbformat_minor": 0
}
