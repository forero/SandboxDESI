{
 "cells": [
  {
   "cell_type": "code",
   "execution_count": 16,
   "id": "e613d6be-b68b-4231-b620-9060823d933d",
   "metadata": {},
   "outputs": [],
   "source": [
    "import numpy as np\n",
    "import matplotlib.pyplot as plt\n",
    "import fitsio\n",
    "import glob"
   ]
  },
  {
   "cell_type": "code",
   "execution_count": 2,
   "id": "7f574642-3c0f-4148-b740-00ec478139e5",
   "metadata": {},
   "outputs": [],
   "source": [
    "sframe_file = \"/global/cfs/cdirs/desi/spectro/redux/dataqa-tutorial/exposures/20211014/00104282/sframe-b0-00104282.fits\"\n",
    "\n",
    "h = fitsio.FITS(sframe_file)\n",
    "#h = fits.open(sframe_file)\n",
    "sel = h[\"FIBERMAP\"][\"OBJTYPE\"].read() == \"SKY\"\n",
    "sky = h[\"FLUX\"].read()[sel,:]\n"
   ]
  },
  {
   "cell_type": "code",
   "execution_count": 3,
   "id": "4763f4e5-9c17-4095-9345-03a7f9c1fe29",
   "metadata": {},
   "outputs": [
    {
     "data": {
      "text/plain": [
       "(40, 2751)"
      ]
     },
     "execution_count": 3,
     "metadata": {},
     "output_type": "execute_result"
    }
   ],
   "source": [
    "np.shape(sky)"
   ]
  },
  {
   "cell_type": "code",
   "execution_count": 4,
   "id": "a6456932-3edf-4877-884c-9b2e23da2e94",
   "metadata": {},
   "outputs": [
    {
     "data": {
      "text/plain": [
       "{'', 'SKY', 'TGT'}"
      ]
     },
     "execution_count": 4,
     "metadata": {},
     "output_type": "execute_result"
    }
   ],
   "source": [
    "set(h[\"FIBERMAP\"][\"OBJTYPE\"].read())"
   ]
  },
  {
   "cell_type": "code",
   "execution_count": 13,
   "id": "d2727741-da24-48e9-91a8-320db1fc8cc9",
   "metadata": {},
   "outputs": [],
   "source": [
    "fiberflat_file = \"/global/cfs/cdirs/desi/spectro/redux/daily/calibnight/20211025/fiberflatnight-z0-20211025.fits\"\n",
    "h = fitsio.FITS(fiberflat_file)\n",
    "fflat = h[\"FIBERFLAT\"].read() \n",
    "\n",
    "\n",
    "#h = fits.open(sframe_file)"
   ]
  },
  {
   "cell_type": "code",
   "execution_count": 14,
   "id": "71cc14ea-beaa-427d-9434-0abac5cd6e91",
   "metadata": {},
   "outputs": [
    {
     "data": {
      "text/plain": [
       "(500, 2881)"
      ]
     },
     "execution_count": 14,
     "metadata": {},
     "output_type": "execute_result"
    }
   ],
   "source": [
    "np.shape(fflat)"
   ]
  },
  {
   "cell_type": "code",
   "execution_count": 15,
   "id": "159c6d22-f4db-4a2a-ae7f-617ba71e5a05",
   "metadata": {},
   "outputs": [
    {
     "data": {
      "text/plain": [
       "<matplotlib.image.AxesImage at 0x2aaad71c9a90>"
      ]
     },
     "execution_count": 15,
     "metadata": {},
     "output_type": "execute_result"
    },
    {
     "data": {
      "image/png": "[encoded data removed]",
      "text/plain": [
       "<Figure size 432x288 with 1 Axes>"
      ]
     },
     "metadata": {
      "needs_background": "light"
     },
     "output_type": "display_data"
    }
   ],
   "source": [
    "plt.imshow(fflat)"
   ]
  },
  {
   "cell_type": "code",
   "execution_count": 28,
   "id": "42afa4a1-3740-45e5-97e6-1a2658d1920d",
   "metadata": {},
   "outputs": [],
   "source": [
    "fiberflats = glob.glob(\"/global/cfs/cdirs/desi/spectro/redux/daily/calibnight/2021*/fiberflatnight-z0-*.fits\")"
   ]
  },
  {
   "cell_type": "code",
   "execution_count": 29,
   "id": "22abaa5a-0bf9-4b83-b76e-f2bf3757715d",
   "metadata": {},
   "outputs": [],
   "source": [
    "fiberflats.sort()"
   ]
  },
  {
   "cell_type": "code",
   "execution_count": 30,
   "id": "dd4316a2-3a2a-4332-9e70-bb330db7f8d3",
   "metadata": {},
   "outputs": [
    {
     "data": {
      "text/plain": [
       "['/global/cfs/cdirs/desi/spectro/redux/daily/calibnight/20210105/fiberflatnight-z0-20210105.fits',\n",
       " '/global/cfs/cdirs/desi/spectro/redux/daily/calibnight/20210106/fiberflatnight-z0-20210106.fits',\n",
       " '/global/cfs/cdirs/desi/spectro/redux/daily/calibnight/20210108/fiberflatnight-z0-20210108.fits',\n",
       " '/global/cfs/cdirs/desi/spectro/redux/daily/calibnight/20210109/fiberflatnight-z0-20210109.fits',\n",
       " '/global/cfs/cdirs/desi/spectro/redux/daily/calibnight/20210110/fiberflatnight-z0-20210110.fits',\n",
       " '/global/cfs/cdirs/desi/spectro/redux/daily/calibnight/20210111/fiberflatnight-z0-20210111.fits',\n",
       " '/global/cfs/cdirs/desi/spectro/redux/daily/calibnight/20210112/fiberflatnight-z0-20210112.fits',\n",
       " '/global/cfs/cdirs/desi/spectro/redux/daily/calibnight/20210115/fiberflatnight-z0-20210115.fits',\n",
       " '/global/cfs/cdirs/desi/spectro/redux/daily/calibnight/20210116/fiberflatnight-z0-20210116.fits',\n",
       " '/global/cfs/cdirs/desi/spectro/redux/daily/calibnight/20210131/fiberflatnight-z0-20210131.fits',\n",
       " '/global/cfs/cdirs/desi/spectro/redux/daily/calibnight/20210201/fiberflatnight-z0-20210201.fits',\n",
       " '/global/cfs/cdirs/desi/spectro/redux/daily/calibnight/20210202/fiberflatnight-z0-20210202.fits',\n",
       " '/global/cfs/cdirs/desi/spectro/redux/daily/calibnight/20210204/fiberflatnight-z0-20210204.fits',\n",
       " '/global/cfs/cdirs/desi/spectro/redux/daily/calibnight/20210206/fiberflatnight-z0-20210206.fits',\n",
       " '/global/cfs/cdirs/desi/spectro/redux/daily/calibnight/20210208/fiberflatnight-z0-20210208.fits',\n",
       " '/global/cfs/cdirs/desi/spectro/redux/daily/calibnight/20210211/fiberflatnight-z0-20210211.fits',\n",
       " '/global/cfs/cdirs/desi/spectro/redux/daily/calibnight/20210212/fiberflatnight-z0-20210212.fits',\n",
       " '/global/cfs/cdirs/desi/spectro/redux/daily/calibnight/20210213/fiberflatnight-z0-20210213.fits',\n",
       " '/global/cfs/cdirs/desi/spectro/redux/daily/calibnight/20210214/fiberflatnight-z0-20210214.fits',\n",
       " '/global/cfs/cdirs/desi/spectro/redux/daily/calibnight/20210215/fiberflatnight-z0-20210215.fits',\n",
       " '/global/cfs/cdirs/desi/spectro/redux/daily/calibnight/20210216/fiberflatnight-z0-20210216.fits',\n",
       " '/global/cfs/cdirs/desi/spectro/redux/daily/calibnight/20210217/fiberflatnight-z0-20210217.fits',\n",
       " '/global/cfs/cdirs/desi/spectro/redux/daily/calibnight/20210218/fiberflatnight-z0-20210218.fits',\n",
       " '/global/cfs/cdirs/desi/spectro/redux/daily/calibnight/20210219/fiberflatnight-z0-20210219.fits',\n",
       " '/global/cfs/cdirs/desi/spectro/redux/daily/calibnight/20210220/fiberflatnight-z0-20210220.fits',\n",
       " '/global/cfs/cdirs/desi/spectro/redux/daily/calibnight/20210221/fiberflatnight-z0-20210221.fits',\n",
       " '/global/cfs/cdirs/desi/spectro/redux/daily/calibnight/20210222/fiberflatnight-z0-20210222.fits',\n",
       " '/global/cfs/cdirs/desi/spectro/redux/daily/calibnight/20210223/fiberflatnight-z0-20210223.fits',\n",
       " '/global/cfs/cdirs/desi/spectro/redux/daily/calibnight/20210224/fiberflatnight-z0-20210224.fits',\n",
       " '/global/cfs/cdirs/desi/spectro/redux/daily/calibnight/20210228/fiberflatnight-z0-20210228.fits',\n",
       " '/global/cfs/cdirs/desi/spectro/redux/daily/calibnight/20210304/fiberflatnight-z0-20210304.fits',\n",
       " '/global/cfs/cdirs/desi/spectro/redux/daily/calibnight/20210305/fiberflatnight-z0-20210305.fits',\n",
       " '/global/cfs/cdirs/desi/spectro/redux/daily/calibnight/20210306/fiberflatnight-z0-20210306.fits',\n",
       " '/global/cfs/cdirs/desi/spectro/redux/daily/calibnight/20210307/fiberflatnight-z0-20210307.fits',\n",
       " '/global/cfs/cdirs/desi/spectro/redux/daily/calibnight/20210308/fiberflatnight-z0-20210308.fits',\n",
       " '/global/cfs/cdirs/desi/spectro/redux/daily/calibnight/20210309/fiberflatnight-z0-20210309.fits',\n",
       " '/global/cfs/cdirs/desi/spectro/redux/daily/calibnight/20210311/fiberflatnight-z0-20210311.fits',\n",
       " '/global/cfs/cdirs/desi/spectro/redux/daily/calibnight/20210312/fiberflatnight-z0-20210312.fits',\n",
       " '/global/cfs/cdirs/desi/spectro/redux/daily/calibnight/20210313/fiberflatnight-z0-20210313.fits',\n",
       " '/global/cfs/cdirs/desi/spectro/redux/daily/calibnight/20210314/fiberflatnight-z0-20210314.fits',\n",
       " '/global/cfs/cdirs/desi/spectro/redux/daily/calibnight/20210315/fiberflatnight-z0-20210315.fits',\n",
       " '/global/cfs/cdirs/desi/spectro/redux/daily/calibnight/20210316/fiberflatnight-z0-20210316.fits',\n",
       " '/global/cfs/cdirs/desi/spectro/redux/daily/calibnight/20210317/fiberflatnight-z0-20210317.fits',\n",
       " '/global/cfs/cdirs/desi/spectro/redux/daily/calibnight/20210318/fiberflatnight-z0-20210318.fits',\n",
       " '/global/cfs/cdirs/desi/spectro/redux/daily/calibnight/20210319/fiberflatnight-z0-20210319.fits',\n",
       " '/global/cfs/cdirs/desi/spectro/redux/daily/calibnight/20210320/fiberflatnight-z0-20210320.fits',\n",
       " '/global/cfs/cdirs/desi/spectro/redux/daily/calibnight/20210321/fiberflatnight-z0-20210321.fits',\n",
       " '/global/cfs/cdirs/desi/spectro/redux/daily/calibnight/20210324/fiberflatnight-z0-20210324.fits',\n",
       " '/global/cfs/cdirs/desi/spectro/redux/daily/calibnight/20210325/fiberflatnight-z0-20210325.fits',\n",
       " '/global/cfs/cdirs/desi/spectro/redux/daily/calibnight/20210326/fiberflatnight-z0-20210326.fits',\n",
       " '/global/cfs/cdirs/desi/spectro/redux/daily/calibnight/20210327/fiberflatnight-z0-20210327.fits',\n",
       " '/global/cfs/cdirs/desi/spectro/redux/daily/calibnight/20210328/fiberflatnight-z0-20210328.fits',\n",
       " '/global/cfs/cdirs/desi/spectro/redux/daily/calibnight/20210331/fiberflatnight-z0-20210331.fits',\n",
       " '/global/cfs/cdirs/desi/spectro/redux/daily/calibnight/20210401/fiberflatnight-z0-20210401.fits',\n",
       " '/global/cfs/cdirs/desi/spectro/redux/daily/calibnight/20210402/fiberflatnight-z0-20210402.fits',\n",
       " '/global/cfs/cdirs/desi/spectro/redux/daily/calibnight/20210403/fiberflatnight-z0-20210403.fits',\n",
       " '/global/cfs/cdirs/desi/spectro/redux/daily/calibnight/20210404/fiberflatnight-z0-20210404.fits',\n",
       " '/global/cfs/cdirs/desi/spectro/redux/daily/calibnight/20210405/fiberflatnight-z0-20210405.fits',\n",
       " '/global/cfs/cdirs/desi/spectro/redux/daily/calibnight/20210406/fiberflatnight-z0-20210406.fits',\n",
       " '/global/cfs/cdirs/desi/spectro/redux/daily/calibnight/20210407/fiberflatnight-z0-20210407.fits',\n",
       " '/global/cfs/cdirs/desi/spectro/redux/daily/calibnight/20210408/fiberflatnight-z0-20210408.fits',\n",
       " '/global/cfs/cdirs/desi/spectro/redux/daily/calibnight/20210409/fiberflatnight-z0-20210409.fits',\n",
       " '/global/cfs/cdirs/desi/spectro/redux/daily/calibnight/20210411/fiberflatnight-z0-20210411.fits',\n",
       " '/global/cfs/cdirs/desi/spectro/redux/daily/calibnight/20210412/fiberflatnight-z0-20210412.fits',\n",
       " '/global/cfs/cdirs/desi/spectro/redux/daily/calibnight/20210413/fiberflatnight-z0-20210413.fits',\n",
       " '/global/cfs/cdirs/desi/spectro/redux/daily/calibnight/20210414/fiberflatnight-z0-20210414.fits',\n",
       " '/global/cfs/cdirs/desi/spectro/redux/daily/calibnight/20210415/fiberflatnight-z0-20210415.fits',\n",
       " '/global/cfs/cdirs/desi/spectro/redux/daily/calibnight/20210416/fiberflatnight-z0-20210416.fits',\n",
       " '/global/cfs/cdirs/desi/spectro/redux/daily/calibnight/20210417/fiberflatnight-z0-20210417.fits',\n",
       " '/global/cfs/cdirs/desi/spectro/redux/daily/calibnight/20210418/fiberflatnight-z0-20210418.fits',\n",
       " '/global/cfs/cdirs/desi/spectro/redux/daily/calibnight/20210419/fiberflatnight-z0-20210419.fits',\n",
       " '/global/cfs/cdirs/desi/spectro/redux/daily/calibnight/20210420/fiberflatnight-z0-20210420.fits',\n",
       " '/global/cfs/cdirs/desi/spectro/redux/daily/calibnight/20210421/fiberflatnight-z0-20210421.fits',\n",
       " '/global/cfs/cdirs/desi/spectro/redux/daily/calibnight/20210422/fiberflatnight-z0-20210422.fits',\n",
       " '/global/cfs/cdirs/desi/spectro/redux/daily/calibnight/20210423/fiberflatnight-z0-20210423.fits',\n",
       " '/global/cfs/cdirs/desi/spectro/redux/daily/calibnight/20210424/fiberflatnight-z0-20210424.fits',\n",
       " '/global/cfs/cdirs/desi/spectro/redux/daily/calibnight/20210425/fiberflatnight-z0-20210425.fits',\n",
       " '/global/cfs/cdirs/desi/spectro/redux/daily/calibnight/20210428/fiberflatnight-z0-20210428.fits',\n",
       " '/global/cfs/cdirs/desi/spectro/redux/daily/calibnight/20210429/fiberflatnight-z0-20210429.fits',\n",
       " '/global/cfs/cdirs/desi/spectro/redux/daily/calibnight/20210430/fiberflatnight-z0-20210430.fits',\n",
       " '/global/cfs/cdirs/desi/spectro/redux/daily/calibnight/20210501/fiberflatnight-z0-20210501.fits',\n",
       " '/global/cfs/cdirs/desi/spectro/redux/daily/calibnight/20210502/fiberflatnight-z0-20210502.fits',\n",
       " '/global/cfs/cdirs/desi/spectro/redux/daily/calibnight/20210503/fiberflatnight-z0-20210503.fits',\n",
       " '/global/cfs/cdirs/desi/spectro/redux/daily/calibnight/20210504/fiberflatnight-z0-20210504.fits',\n",
       " '/global/cfs/cdirs/desi/spectro/redux/daily/calibnight/20210505/fiberflatnight-z0-20210505.fits',\n",
       " '/global/cfs/cdirs/desi/spectro/redux/daily/calibnight/20210506/fiberflatnight-z0-20210506.fits',\n",
       " '/global/cfs/cdirs/desi/spectro/redux/daily/calibnight/20210507/fiberflatnight-z0-20210507.fits',\n",
       " '/global/cfs/cdirs/desi/spectro/redux/daily/calibnight/20210508/fiberflatnight-z0-20210508.fits',\n",
       " '/global/cfs/cdirs/desi/spectro/redux/daily/calibnight/20210509/fiberflatnight-z0-20210509.fits',\n",
       " '/global/cfs/cdirs/desi/spectro/redux/daily/calibnight/20210510/fiberflatnight-z0-20210510.fits',\n",
       " '/global/cfs/cdirs/desi/spectro/redux/daily/calibnight/20210511/fiberflatnight-z0-20210511.fits',\n",
       " '/global/cfs/cdirs/desi/spectro/redux/daily/calibnight/20210512/fiberflatnight-z0-20210512.fits',\n",
       " '/global/cfs/cdirs/desi/spectro/redux/daily/calibnight/20210513/fiberflatnight-z0-20210513.fits',\n",
       " '/global/cfs/cdirs/desi/spectro/redux/daily/calibnight/20210514/fiberflatnight-z0-20210514.fits',\n",
       " '/global/cfs/cdirs/desi/spectro/redux/daily/calibnight/20210515/fiberflatnight-z0-20210515.fits',\n",
       " '/global/cfs/cdirs/desi/spectro/redux/daily/calibnight/20210516/fiberflatnight-z0-20210516.fits',\n",
       " '/global/cfs/cdirs/desi/spectro/redux/daily/calibnight/20210517/fiberflatnight-z0-20210517.fits',\n",
       " '/global/cfs/cdirs/desi/spectro/redux/daily/calibnight/20210518/fiberflatnight-z0-20210518.fits',\n",
       " '/global/cfs/cdirs/desi/spectro/redux/daily/calibnight/20210519/fiberflatnight-z0-20210519.fits',\n",
       " '/global/cfs/cdirs/desi/spectro/redux/daily/calibnight/20210521/fiberflatnight-z0-20210521.fits',\n",
       " '/global/cfs/cdirs/desi/spectro/redux/daily/calibnight/20210522/fiberflatnight-z0-20210522.fits',\n",
       " '/global/cfs/cdirs/desi/spectro/redux/daily/calibnight/20210523/fiberflatnight-z0-20210523.fits',\n",
       " '/global/cfs/cdirs/desi/spectro/redux/daily/calibnight/20210528/fiberflatnight-z0-20210528.fits',\n",
       " '/global/cfs/cdirs/desi/spectro/redux/daily/calibnight/20210529/fiberflatnight-z0-20210529.fits',\n",
       " '/global/cfs/cdirs/desi/spectro/redux/daily/calibnight/20210530/fiberflatnight-z0-20210530.fits',\n",
       " '/global/cfs/cdirs/desi/spectro/redux/daily/calibnight/20210531/fiberflatnight-z0-20210531.fits',\n",
       " '/global/cfs/cdirs/desi/spectro/redux/daily/calibnight/20210601/fiberflatnight-z0-20210601.fits',\n",
       " '/global/cfs/cdirs/desi/spectro/redux/daily/calibnight/20210602/fiberflatnight-z0-20210602.fits',\n",
       " '/global/cfs/cdirs/desi/spectro/redux/daily/calibnight/20210603/fiberflatnight-z0-20210603.fits',\n",
       " '/global/cfs/cdirs/desi/spectro/redux/daily/calibnight/20210604/fiberflatnight-z0-20210604.fits',\n",
       " '/global/cfs/cdirs/desi/spectro/redux/daily/calibnight/20210605/fiberflatnight-z0-20210605.fits',\n",
       " '/global/cfs/cdirs/desi/spectro/redux/daily/calibnight/20210606/fiberflatnight-z0-20210606.fits',\n",
       " '/global/cfs/cdirs/desi/spectro/redux/daily/calibnight/20210607/fiberflatnight-z0-20210607.fits',\n",
       " '/global/cfs/cdirs/desi/spectro/redux/daily/calibnight/20210608/fiberflatnight-z0-20210608.fits',\n",
       " '/global/cfs/cdirs/desi/spectro/redux/daily/calibnight/20210609/fiberflatnight-z0-20210609.fits',\n",
       " '/global/cfs/cdirs/desi/spectro/redux/daily/calibnight/20210610/fiberflatnight-z0-20210610.fits',\n",
       " '/global/cfs/cdirs/desi/spectro/redux/daily/calibnight/20210611/fiberflatnight-z0-20210611.fits',\n",
       " '/global/cfs/cdirs/desi/spectro/redux/daily/calibnight/20210612/fiberflatnight-z0-20210612.fits',\n",
       " '/global/cfs/cdirs/desi/spectro/redux/daily/calibnight/20210613/fiberflatnight-z0-20210613.fits',\n",
       " '/global/cfs/cdirs/desi/spectro/redux/daily/calibnight/20210614/fiberflatnight-z0-20210614.fits',\n",
       " '/global/cfs/cdirs/desi/spectro/redux/daily/calibnight/20210615/fiberflatnight-z0-20210615.fits',\n",
       " '/global/cfs/cdirs/desi/spectro/redux/daily/calibnight/20210616/fiberflatnight-z0-20210616.fits',\n",
       " '/global/cfs/cdirs/desi/spectro/redux/daily/calibnight/20210617/fiberflatnight-z0-20210617.fits',\n",
       " '/global/cfs/cdirs/desi/spectro/redux/daily/calibnight/20210618/fiberflatnight-z0-20210618.fits',\n",
       " '/global/cfs/cdirs/desi/spectro/redux/daily/calibnight/20210619/fiberflatnight-z0-20210619.fits',\n",
       " '/global/cfs/cdirs/desi/spectro/redux/daily/calibnight/20210620/fiberflatnight-z0-20210620.fits',\n",
       " '/global/cfs/cdirs/desi/spectro/redux/daily/calibnight/20210621/fiberflatnight-z0-20210621.fits',\n",
       " '/global/cfs/cdirs/desi/spectro/redux/daily/calibnight/20210624/fiberflatnight-z0-20210624.fits',\n",
       " '/global/cfs/cdirs/desi/spectro/redux/daily/calibnight/20210626/fiberflatnight-z0-20210626.fits',\n",
       " '/global/cfs/cdirs/desi/spectro/redux/daily/calibnight/20210627/fiberflatnight-z0-20210627.fits',\n",
       " '/global/cfs/cdirs/desi/spectro/redux/daily/calibnight/20210628/fiberflatnight-z0-20210628.fits',\n",
       " '/global/cfs/cdirs/desi/spectro/redux/daily/calibnight/20210629/fiberflatnight-z0-20210629.fits',\n",
       " '/global/cfs/cdirs/desi/spectro/redux/daily/calibnight/20210702/fiberflatnight-z0-20210702.fits',\n",
       " '/global/cfs/cdirs/desi/spectro/redux/daily/calibnight/20210704/fiberflatnight-z0-20210704.fits',\n",
       " '/global/cfs/cdirs/desi/spectro/redux/daily/calibnight/20210705/fiberflatnight-z0-20210705.fits',\n",
       " '/global/cfs/cdirs/desi/spectro/redux/daily/calibnight/20210706/fiberflatnight-z0-20210706.fits',\n",
       " '/global/cfs/cdirs/desi/spectro/redux/daily/calibnight/20210707/fiberflatnight-z0-20210707.fits',\n",
       " '/global/cfs/cdirs/desi/spectro/redux/daily/calibnight/20210708/fiberflatnight-z0-20210708.fits',\n",
       " '/global/cfs/cdirs/desi/spectro/redux/daily/calibnight/20210916/fiberflatnight-z0-20210916.fits',\n",
       " '/global/cfs/cdirs/desi/spectro/redux/daily/calibnight/20210917/fiberflatnight-z0-20210917.fits',\n",
       " '/global/cfs/cdirs/desi/spectro/redux/daily/calibnight/20210918/fiberflatnight-z0-20210918.fits',\n",
       " '/global/cfs/cdirs/desi/spectro/redux/daily/calibnight/20210919/fiberflatnight-z0-20210919.fits',\n",
       " '/global/cfs/cdirs/desi/spectro/redux/daily/calibnight/20210921/fiberflatnight-z0-20210921.fits',\n",
       " '/global/cfs/cdirs/desi/spectro/redux/daily/calibnight/20210922/fiberflatnight-z0-20210922.fits',\n",
       " '/global/cfs/cdirs/desi/spectro/redux/daily/calibnight/20210923/fiberflatnight-z0-20210923.fits',\n",
       " '/global/cfs/cdirs/desi/spectro/redux/daily/calibnight/20210924/fiberflatnight-z0-20210924.fits',\n",
       " '/global/cfs/cdirs/desi/spectro/redux/daily/calibnight/20210926/fiberflatnight-z0-20210926.fits',\n",
       " '/global/cfs/cdirs/desi/spectro/redux/daily/calibnight/20210927/fiberflatnight-z0-20210927.fits',\n",
       " '/global/cfs/cdirs/desi/spectro/redux/daily/calibnight/20210928/fiberflatnight-z0-20210928.fits',\n",
       " '/global/cfs/cdirs/desi/spectro/redux/daily/calibnight/20210929/fiberflatnight-z0-20210929.fits',\n",
       " '/global/cfs/cdirs/desi/spectro/redux/daily/calibnight/20210930/fiberflatnight-z0-20210930.fits',\n",
       " '/global/cfs/cdirs/desi/spectro/redux/daily/calibnight/20211001/fiberflatnight-z0-20211001.fits',\n",
       " '/global/cfs/cdirs/desi/spectro/redux/daily/calibnight/20211002/fiberflatnight-z0-20211002.fits',\n",
       " '/global/cfs/cdirs/desi/spectro/redux/daily/calibnight/20211003/fiberflatnight-z0-20211003.fits',\n",
       " '/global/cfs/cdirs/desi/spectro/redux/daily/calibnight/20211004/fiberflatnight-z0-20211004.fits',\n",
       " '/global/cfs/cdirs/desi/spectro/redux/daily/calibnight/20211005/fiberflatnight-z0-20211005.fits',\n",
       " '/global/cfs/cdirs/desi/spectro/redux/daily/calibnight/20211006/fiberflatnight-z0-20211006.fits',\n",
       " '/global/cfs/cdirs/desi/spectro/redux/daily/calibnight/20211007/fiberflatnight-z0-20211007.fits',\n",
       " '/global/cfs/cdirs/desi/spectro/redux/daily/calibnight/20211008/fiberflatnight-z0-20211008.fits',\n",
       " '/global/cfs/cdirs/desi/spectro/redux/daily/calibnight/20211010/fiberflatnight-z0-20211010.fits',\n",
       " '/global/cfs/cdirs/desi/spectro/redux/daily/calibnight/20211011/fiberflatnight-z0-20211011.fits',\n",
       " '/global/cfs/cdirs/desi/spectro/redux/daily/calibnight/20211012/fiberflatnight-z0-20211012.fits',\n",
       " '/global/cfs/cdirs/desi/spectro/redux/daily/calibnight/20211013/fiberflatnight-z0-20211013.fits',\n",
       " '/global/cfs/cdirs/desi/spectro/redux/daily/calibnight/20211014/fiberflatnight-z0-20211014.fits',\n",
       " '/global/cfs/cdirs/desi/spectro/redux/daily/calibnight/20211015/fiberflatnight-z0-20211015.fits',\n",
       " '/global/cfs/cdirs/desi/spectro/redux/daily/calibnight/20211016/fiberflatnight-z0-20211016.fits',\n",
       " '/global/cfs/cdirs/desi/spectro/redux/daily/calibnight/20211017/fiberflatnight-z0-20211017.fits',\n",
       " '/global/cfs/cdirs/desi/spectro/redux/daily/calibnight/20211018/fiberflatnight-z0-20211018.fits',\n",
       " '/global/cfs/cdirs/desi/spectro/redux/daily/calibnight/20211019/fiberflatnight-z0-20211019.fits',\n",
       " '/global/cfs/cdirs/desi/spectro/redux/daily/calibnight/20211020/fiberflatnight-z0-20211020.fits',\n",
       " '/global/cfs/cdirs/desi/spectro/redux/daily/calibnight/20211021/fiberflatnight-z0-20211021.fits',\n",
       " '/global/cfs/cdirs/desi/spectro/redux/daily/calibnight/20211022/fiberflatnight-z0-20211022.fits',\n",
       " '/global/cfs/cdirs/desi/spectro/redux/daily/calibnight/20211023/fiberflatnight-z0-20211023.fits',\n",
       " '/global/cfs/cdirs/desi/spectro/redux/daily/calibnight/20211024/fiberflatnight-z0-20211024.fits',\n",
       " '/global/cfs/cdirs/desi/spectro/redux/daily/calibnight/20211025/fiberflatnight-z0-20211025.fits']"
      ]
     },
     "execution_count": 30,
     "metadata": {},
     "output_type": "execute_result"
    }
   ],
   "source": [
    "fiberflats"
   ]
  },
  {
   "cell_type": "code",
   "execution_count": null,
   "id": "0ecc8125-8481-4085-b5b7-bac0cddaa60c",
   "metadata": {},
   "outputs": [],
   "source": []
  }
 ],
 "metadata": {
  "kernelspec": {
   "display_name": "DESI master",
   "language": "python",
   "name": "desi-master"
  },
  "language_info": {
   "codemirror_mode": {
    "name": "ipython",
    "version": 3
   },
   "file_extension": ".py",
   "mimetype": "text/x-python",
   "name": "python",
   "nbconvert_exporter": "python",
   "pygments_lexer": "ipython3",
   "version": "3.8.3"
  }
 },
 "nbformat": 4,
 "nbformat_minor": 5
}
