{
 "cells": [
  {
   "cell_type": "code",
   "execution_count": 26,
   "id": "e613d6be-b68b-4231-b620-9060823d933d",
   "metadata": {},
   "outputs": [],
   "source": [
    "import numpy as np\n",
    "import matplotlib.pyplot as plt\n",
    "import fitsio"
   ]
  },
  {
   "cell_type": "code",
   "execution_count": 27,
   "id": "7f574642-3c0f-4148-b740-00ec478139e5",
   "metadata": {},
   "outputs": [],
   "source": [
    "sframe_file = \"/global/cfs/cdirs/desi/spectro/redux/dataqa-tutorial/exposures/20211014/00104282/sframe-b0-00104282.fits\"\n",
    "\n",
    "h = fitsio.FITS(sframe_file)\n",
    "#h = fits.open(sframe_file)\n",
    "sel = h[\"FIBERMAP\"][\"OBJTYPE\"].read() == \"SKY\"\n",
    "sky = h[\"FLUX\"].read()[sel,:]\n"
   ]
  },
  {
   "cell_type": "code",
   "execution_count": 28,
   "id": "4763f4e5-9c17-4095-9345-03a7f9c1fe29",
   "metadata": {},
   "outputs": [
    {
     "data": {
      "text/plain": [
       "(40, 2751)"
      ]
     },
     "execution_count": 28,
     "metadata": {},
     "output_type": "execute_result"
    }
   ],
   "source": [
    "np.shape(sky)"
   ]
  },
  {
   "cell_type": "code",
   "execution_count": 29,
   "id": "a6456932-3edf-4877-884c-9b2e23da2e94",
   "metadata": {},
   "outputs": [
    {
     "data": {
      "text/plain": [
       "{'', 'SKY', 'TGT'}"
      ]
     },
     "execution_count": 29,
     "metadata": {},
     "output_type": "execute_result"
    }
   ],
   "source": [
    "set(h[\"FIBERMAP\"][\"OBJTYPE\"].read())"
   ]
  },
  {
   "cell_type": "code",
   "execution_count": null,
   "id": "d2727741-da24-48e9-91a8-320db1fc8cc9",
   "metadata": {},
   "outputs": [],
   "source": []
  }
 ],
 "metadata": {
  "kernelspec": {
   "display_name": "DESI master",
   "language": "python",
   "name": "desi-master"
  },
  "language_info": {
   "codemirror_mode": {
    "name": "ipython",
    "version": 3
   },
   "file_extension": ".py",
   "mimetype": "text/x-python",
   "name": "python",
   "nbconvert_exporter": "python",
   "pygments_lexer": "ipython3",
   "version": "3.8.3"
  }
 },
 "nbformat": 4,
 "nbformat_minor": 5
}
